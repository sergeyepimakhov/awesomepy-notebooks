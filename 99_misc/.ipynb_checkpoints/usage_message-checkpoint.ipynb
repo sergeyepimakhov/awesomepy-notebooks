{
 "cells": [
  {
   "cell_type": "markdown",
   "metadata": {},
   "source": [
    "# Usage Message\n",
    "\n",
    "## Synopsis\n",
    "```\n",
    "My Program\n",
    "\n",
    "Usage:\n",
    "  my_program command --option <argument>\n",
    "  my_program [<optional-argument>]\n",
    "  my_program --another-option=<with-argument>\n",
    "  my_program (--either-that-option | <or-this-argument>)\n",
    "  my_program <repeating-argument> <repeating-argument>...\n",
    "```"
   ]
  },
  {
   "cell_type": "markdown",
   "metadata": {},
   "source": [
    "## Usage patterns"
   ]
  },
  {
   "cell_type": "markdown",
   "metadata": {},
   "source": [
    "### Minimal example\n",
    "\n",
    "Program that takes no command-line arguments:\n",
    "```\n",
    "Usage: my_program\n",
    "```"
   ]
  },
  {
   "cell_type": "markdown",
   "metadata": {},
   "source": [
    "### Positional arguments\n",
    "\n",
    "```bash\n",
    "Usage: my_program <arg>\n",
    "```\n",
    "\n",
    "```bash\n",
    "Usage: my_program <arg1> <arg2> \n",
    "```"
   ]
  },
  {
   "cell_type": "markdown",
   "metadata": {},
   "source": [
    "### Short and long options\n",
    "\n",
    "Without arguments:\n",
    "\n",
    "```bash\n",
    "Usage: my_program -o\n",
    "```\n",
    "\n",
    "```bash\n",
    "Usage: my_program --option\n",
    "```\n",
    "\n",
    "With arguments:\n",
    "\n",
    "```bash\n",
    "Usage: my_program -o <arg>\n",
    "```\n",
    "\n",
    "```bash\n",
    "Usage: my_program --option <arg>\n",
    "```\n",
    "\n",
    "- Short options can be \"stacked\"\n",
    "\n",
    "```bash\n",
    "my_program -abc\n",
    "# is equivalent to\n",
    "my_program -a -b -c\n",
    "```\n",
    "\n",
    "- Long options can have arguments specified after space or equal sign:\n",
    "\n",
    "```bash\n",
    "my_program --input=ARG \n",
    "# is equivalent to \n",
    "my_program --input ARG\n",
    "```\n",
    "\n",
    "- Short options can have arguments specified after optional space:\n",
    "```bash\n",
    "my_program -f FILE \n",
    "# is equivalent to \n",
    "my_program -fFILE\n",
    "```"
   ]
  },
  {
   "cell_type": "markdown",
   "metadata": {},
   "source": [
    "### Commands\n",
    "\n",
    "```bash\n",
    "Usage: my_program command\n",
    "```"
   ]
  },
  {
   "cell_type": "markdown",
   "metadata": {},
   "source": [
    "### Optional elements\n",
    "\n",
    "```bash\n",
    "Usage: my_program [command]\n",
    "```\n",
    "\n",
    "```bash\n",
    "Usage: my_program [--option]\n",
    "```\n",
    "\n",
    "```bash\n",
    "Usage: my_program [--option <argument>]\n",
    "```"
   ]
  },
  {
   "cell_type": "markdown",
   "metadata": {},
   "source": [
    "### Required elements\n",
    "\n",
    "All elements are required by default. However, sometimes it is necessary to mark elements as required explicitly with parens \"( )\". \n",
    "\n",
    "```bash\n",
    "Usage: my_program (--either-this <and-that> | <or-this>)\n",
    "```"
   ]
  },
  {
   "cell_type": "code",
   "execution_count": null,
   "metadata": {},
   "outputs": [],
   "source": []
  },
  {
   "cell_type": "markdown",
   "metadata": {},
   "source": [
    "## Reference\n",
    "\n",
    "http://docopt.org/"
   ]
  }
 ],
 "metadata": {
  "kernelspec": {
   "display_name": "Python 3",
   "language": "python",
   "name": "python3"
  },
  "language_info": {
   "codemirror_mode": {
    "name": "ipython",
    "version": 3
   },
   "file_extension": ".py",
   "mimetype": "text/x-python",
   "name": "python",
   "nbconvert_exporter": "python",
   "pygments_lexer": "ipython3",
   "version": "3.7.1"
  }
 },
 "nbformat": 4,
 "nbformat_minor": 2
}
