{
 "cells": [
  {
   "cell_type": "markdown",
   "metadata": {},
   "source": [
    "# Spark Execution"
   ]
  },
  {
   "cell_type": "markdown",
   "metadata": {},
   "source": [
    "## Job\n",
    "\n",
    "An action initiates a job on cluster.\n",
    "\n",
    "## Stages\n",
    "\n",
    "Each job breaks down into series of stages, the number of witch depends on how many shuffle operations need to take place.\n",
    "\n",
    "## Tasks \n",
    "\n",
    "Stages represent group of tasks that can be executed together to compute the same operation on multiple machines."
   ]
  }
 ],
 "metadata": {
  "kernelspec": {
   "display_name": "Python 3",
   "language": "python",
   "name": "python3"
  },
  "language_info": {
   "codemirror_mode": {
    "name": "ipython",
    "version": 3
   },
   "file_extension": ".py",
   "mimetype": "text/x-python",
   "name": "python",
   "nbconvert_exporter": "python",
   "pygments_lexer": "ipython3",
   "version": "3.7.1"
  }
 },
 "nbformat": 4,
 "nbformat_minor": 2
}
