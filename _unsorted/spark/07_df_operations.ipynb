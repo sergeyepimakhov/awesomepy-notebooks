{
 "cells": [
  {
   "cell_type": "markdown",
   "metadata": {},
   "source": [
    "# DataFrame"
   ]
  },
  {
   "cell_type": "markdown",
   "metadata": {},
   "source": [
    "## Spark Session"
   ]
  },
  {
   "cell_type": "code",
   "execution_count": 152,
   "metadata": {},
   "outputs": [],
   "source": [
    "from pyspark.sql import SparkSession\n",
    "spark = (SparkSession.builder\n",
    "         .master(\"local\")\n",
    "         .appName(\"Spark session\")\n",
    "         .getOrCreate())"
   ]
  },
  {
   "cell_type": "markdown",
   "metadata": {},
   "source": [
    "## Read Data Frame"
   ]
  },
  {
   "cell_type": "code",
   "execution_count": 153,
   "metadata": {},
   "outputs": [
    {
     "name": "stdout",
     "output_type": "stream",
     "text": [
      "+--------------------+-------------------+-----+\n",
      "|   DEST_COUNTRY_NAME|ORIGIN_COUNTRY_NAME|count|\n",
      "+--------------------+-------------------+-----+\n",
      "|       United States|            Romania|    1|\n",
      "|       United States|            Ireland|  264|\n",
      "|       United States|              India|   69|\n",
      "|               Egypt|      United States|   24|\n",
      "|   Equatorial Guinea|      United States|    1|\n",
      "|       United States|          Singapore|   25|\n",
      "|       United States|            Grenada|   54|\n",
      "|          Costa Rica|      United States|  477|\n",
      "|             Senegal|      United States|   29|\n",
      "|       United States|   Marshall Islands|   44|\n",
      "|              Guyana|      United States|   17|\n",
      "|       United States|       Sint Maarten|   53|\n",
      "|               Malta|      United States|    1|\n",
      "|             Bolivia|      United States|   46|\n",
      "|            Anguilla|      United States|   21|\n",
      "|Turks and Caicos ...|      United States|  136|\n",
      "|       United States|        Afghanistan|    2|\n",
      "|Saint Vincent and...|      United States|    1|\n",
      "|               Italy|      United States|  390|\n",
      "|       United States|             Russia|  156|\n",
      "+--------------------+-------------------+-----+\n",
      "only showing top 20 rows\n",
      "\n"
     ]
    }
   ],
   "source": [
    "df = (spark\n",
    "      .read\n",
    "      .parquet('data/part-r-00000-1a9822ba-b8fb-4d8e-844a-ea30d0801b9e.gz.parquet'))\n",
    "\n",
    "df.show()"
   ]
  },
  {
   "cell_type": "code",
   "execution_count": 10,
   "metadata": {},
   "outputs": [
    {
     "data": {
      "text/plain": [
       "[Row(ORIGIN_COUNTRY_NAME='Romania'),\n",
       " Row(ORIGIN_COUNTRY_NAME='Ireland'),\n",
       " Row(ORIGIN_COUNTRY_NAME='India'),\n",
       " Row(ORIGIN_COUNTRY_NAME='United States'),\n",
       " Row(ORIGIN_COUNTRY_NAME='United States')]"
      ]
     },
     "execution_count": 10,
     "metadata": {},
     "output_type": "execute_result"
    }
   ],
   "source": [
    "# materialize 5 rows\n",
    "df.select('ORIGIN_COUNTRY_NAME').take(5)"
   ]
  },
  {
   "cell_type": "code",
   "execution_count": 11,
   "metadata": {},
   "outputs": [
    {
     "data": {
      "text/plain": [
       "[Row(DEST_COUNTRY_NAME='United States'),\n",
       " Row(DEST_COUNTRY_NAME='United States'),\n",
       " Row(DEST_COUNTRY_NAME='United States'),\n",
       " Row(DEST_COUNTRY_NAME='Egypt'),\n",
       " Row(DEST_COUNTRY_NAME='Equatorial Guinea'),\n",
       " Row(DEST_COUNTRY_NAME='United States'),\n",
       " Row(DEST_COUNTRY_NAME='United States'),\n",
       " Row(DEST_COUNTRY_NAME='Costa Rica'),\n",
       " Row(DEST_COUNTRY_NAME='Senegal'),\n",
       " Row(DEST_COUNTRY_NAME='United States'),\n",
       " Row(DEST_COUNTRY_NAME='Guyana'),\n",
       " Row(DEST_COUNTRY_NAME='United States'),\n",
       " Row(DEST_COUNTRY_NAME='Malta'),\n",
       " Row(DEST_COUNTRY_NAME='Bolivia'),\n",
       " Row(DEST_COUNTRY_NAME='Anguilla'),\n",
       " Row(DEST_COUNTRY_NAME='Turks and Caicos Islands'),\n",
       " Row(DEST_COUNTRY_NAME='United States'),\n",
       " Row(DEST_COUNTRY_NAME='Saint Vincent and the Grenadines'),\n",
       " Row(DEST_COUNTRY_NAME='Italy'),\n",
       " Row(DEST_COUNTRY_NAME='United States'),\n",
       " Row(DEST_COUNTRY_NAME='United States'),\n",
       " Row(DEST_COUNTRY_NAME='Pakistan'),\n",
       " Row(DEST_COUNTRY_NAME='United States'),\n",
       " Row(DEST_COUNTRY_NAME='Iceland'),\n",
       " Row(DEST_COUNTRY_NAME='Marshall Islands'),\n",
       " Row(DEST_COUNTRY_NAME='Luxembourg'),\n",
       " Row(DEST_COUNTRY_NAME='Honduras'),\n",
       " Row(DEST_COUNTRY_NAME='The Bahamas'),\n",
       " Row(DEST_COUNTRY_NAME='El Salvador'),\n",
       " Row(DEST_COUNTRY_NAME='United States'),\n",
       " Row(DEST_COUNTRY_NAME='Samoa'),\n",
       " Row(DEST_COUNTRY_NAME='United States'),\n",
       " Row(DEST_COUNTRY_NAME='Kazakhstan'),\n",
       " Row(DEST_COUNTRY_NAME='Switzerland'),\n",
       " Row(DEST_COUNTRY_NAME='United States'),\n",
       " Row(DEST_COUNTRY_NAME='Sint Maarten'),\n",
       " Row(DEST_COUNTRY_NAME='Hong Kong'),\n",
       " Row(DEST_COUNTRY_NAME='Trinidad and Tobago'),\n",
       " Row(DEST_COUNTRY_NAME='Latvia'),\n",
       " Row(DEST_COUNTRY_NAME='United States'),\n",
       " Row(DEST_COUNTRY_NAME='Slovakia'),\n",
       " Row(DEST_COUNTRY_NAME='Suriname'),\n",
       " Row(DEST_COUNTRY_NAME='Mexico'),\n",
       " Row(DEST_COUNTRY_NAME='United States'),\n",
       " Row(DEST_COUNTRY_NAME='Ecuador'),\n",
       " Row(DEST_COUNTRY_NAME='United States'),\n",
       " Row(DEST_COUNTRY_NAME='United States'),\n",
       " Row(DEST_COUNTRY_NAME='United States'),\n",
       " Row(DEST_COUNTRY_NAME='United States'),\n",
       " Row(DEST_COUNTRY_NAME='United States'),\n",
       " Row(DEST_COUNTRY_NAME='Colombia'),\n",
       " Row(DEST_COUNTRY_NAME='United States'),\n",
       " Row(DEST_COUNTRY_NAME='United States'),\n",
       " Row(DEST_COUNTRY_NAME='United States'),\n",
       " Row(DEST_COUNTRY_NAME='Norway'),\n",
       " Row(DEST_COUNTRY_NAME='United States'),\n",
       " Row(DEST_COUNTRY_NAME='Thailand'),\n",
       " Row(DEST_COUNTRY_NAME='Venezuela'),\n",
       " Row(DEST_COUNTRY_NAME='United States'),\n",
       " Row(DEST_COUNTRY_NAME='United States'),\n",
       " Row(DEST_COUNTRY_NAME='United States'),\n",
       " Row(DEST_COUNTRY_NAME='United States'),\n",
       " Row(DEST_COUNTRY_NAME='Panama'),\n",
       " Row(DEST_COUNTRY_NAME='United States'),\n",
       " Row(DEST_COUNTRY_NAME='United States'),\n",
       " Row(DEST_COUNTRY_NAME='Morocco'),\n",
       " Row(DEST_COUNTRY_NAME='United States'),\n",
       " Row(DEST_COUNTRY_NAME='Antigua and Barbuda'),\n",
       " Row(DEST_COUNTRY_NAME='Azerbaijan'),\n",
       " Row(DEST_COUNTRY_NAME='United States'),\n",
       " Row(DEST_COUNTRY_NAME='New Zealand'),\n",
       " Row(DEST_COUNTRY_NAME='Liberia'),\n",
       " Row(DEST_COUNTRY_NAME='United States'),\n",
       " Row(DEST_COUNTRY_NAME='Hungary'),\n",
       " Row(DEST_COUNTRY_NAME='United States'),\n",
       " Row(DEST_COUNTRY_NAME='United States'),\n",
       " Row(DEST_COUNTRY_NAME='Sweden'),\n",
       " Row(DEST_COUNTRY_NAME='United States'),\n",
       " Row(DEST_COUNTRY_NAME='United States'),\n",
       " Row(DEST_COUNTRY_NAME='United States'),\n",
       " Row(DEST_COUNTRY_NAME='Israel'),\n",
       " Row(DEST_COUNTRY_NAME='United States'),\n",
       " Row(DEST_COUNTRY_NAME='United States'),\n",
       " Row(DEST_COUNTRY_NAME='Ethiopia'),\n",
       " Row(DEST_COUNTRY_NAME='United States'),\n",
       " Row(DEST_COUNTRY_NAME='Martinique'),\n",
       " Row(DEST_COUNTRY_NAME='Saint Barthelemy'),\n",
       " Row(DEST_COUNTRY_NAME='United States'),\n",
       " Row(DEST_COUNTRY_NAME='United States'),\n",
       " Row(DEST_COUNTRY_NAME='Barbados'),\n",
       " Row(DEST_COUNTRY_NAME='United States'),\n",
       " Row(DEST_COUNTRY_NAME='United States'),\n",
       " Row(DEST_COUNTRY_NAME='Germany'),\n",
       " Row(DEST_COUNTRY_NAME='Kyrgyzstan'),\n",
       " Row(DEST_COUNTRY_NAME='United States'),\n",
       " Row(DEST_COUNTRY_NAME='United States'),\n",
       " Row(DEST_COUNTRY_NAME='Ireland'),\n",
       " Row(DEST_COUNTRY_NAME='United States'),\n",
       " Row(DEST_COUNTRY_NAME='United States'),\n",
       " Row(DEST_COUNTRY_NAME='Malaysia'),\n",
       " Row(DEST_COUNTRY_NAME='United States'),\n",
       " Row(DEST_COUNTRY_NAME='United States'),\n",
       " Row(DEST_COUNTRY_NAME='United States'),\n",
       " Row(DEST_COUNTRY_NAME='United States'),\n",
       " Row(DEST_COUNTRY_NAME='United States'),\n",
       " Row(DEST_COUNTRY_NAME='United States'),\n",
       " Row(DEST_COUNTRY_NAME='Cyprus'),\n",
       " Row(DEST_COUNTRY_NAME='United States'),\n",
       " Row(DEST_COUNTRY_NAME='United States'),\n",
       " Row(DEST_COUNTRY_NAME='Qatar'),\n",
       " Row(DEST_COUNTRY_NAME='Fiji'),\n",
       " Row(DEST_COUNTRY_NAME='Saint Kitts and Nevis'),\n",
       " Row(DEST_COUNTRY_NAME='Taiwan'),\n",
       " Row(DEST_COUNTRY_NAME='Haiti'),\n",
       " Row(DEST_COUNTRY_NAME='Kuwait'),\n",
       " Row(DEST_COUNTRY_NAME='Canada'),\n",
       " Row(DEST_COUNTRY_NAME='Federated States of Micronesia'),\n",
       " Row(DEST_COUNTRY_NAME='United States'),\n",
       " Row(DEST_COUNTRY_NAME='Jamaica'),\n",
       " Row(DEST_COUNTRY_NAME='United States'),\n",
       " Row(DEST_COUNTRY_NAME='Dominican Republic'),\n",
       " Row(DEST_COUNTRY_NAME='Japan'),\n",
       " Row(DEST_COUNTRY_NAME='United States'),\n",
       " Row(DEST_COUNTRY_NAME='United States'),\n",
       " Row(DEST_COUNTRY_NAME='Finland'),\n",
       " Row(DEST_COUNTRY_NAME='United States'),\n",
       " Row(DEST_COUNTRY_NAME='United States'),\n",
       " Row(DEST_COUNTRY_NAME='United States'),\n",
       " Row(DEST_COUNTRY_NAME='Aruba'),\n",
       " Row(DEST_COUNTRY_NAME='French Guiana'),\n",
       " Row(DEST_COUNTRY_NAME='United States'),\n",
       " Row(DEST_COUNTRY_NAME='India'),\n",
       " Row(DEST_COUNTRY_NAME='British Virgin Islands'),\n",
       " Row(DEST_COUNTRY_NAME='United States'),\n",
       " Row(DEST_COUNTRY_NAME='Brazil'),\n",
       " Row(DEST_COUNTRY_NAME='United States'),\n",
       " Row(DEST_COUNTRY_NAME='French Polynesia'),\n",
       " Row(DEST_COUNTRY_NAME='United Arab Emirates'),\n",
       " Row(DEST_COUNTRY_NAME='Singapore'),\n",
       " Row(DEST_COUNTRY_NAME='United States'),\n",
       " Row(DEST_COUNTRY_NAME='Netherlands'),\n",
       " Row(DEST_COUNTRY_NAME='United States'),\n",
       " Row(DEST_COUNTRY_NAME='United States'),\n",
       " Row(DEST_COUNTRY_NAME='United States'),\n",
       " Row(DEST_COUNTRY_NAME='United States'),\n",
       " Row(DEST_COUNTRY_NAME='United States'),\n",
       " Row(DEST_COUNTRY_NAME='China'),\n",
       " Row(DEST_COUNTRY_NAME='Denmark'),\n",
       " Row(DEST_COUNTRY_NAME='United States'),\n",
       " Row(DEST_COUNTRY_NAME='United States'),\n",
       " Row(DEST_COUNTRY_NAME='United States'),\n",
       " Row(DEST_COUNTRY_NAME='Peru'),\n",
       " Row(DEST_COUNTRY_NAME='Argentina'),\n",
       " Row(DEST_COUNTRY_NAME='Cayman Islands'),\n",
       " Row(DEST_COUNTRY_NAME='South Africa'),\n",
       " Row(DEST_COUNTRY_NAME='United States'),\n",
       " Row(DEST_COUNTRY_NAME='United States'),\n",
       " Row(DEST_COUNTRY_NAME='Spain'),\n",
       " Row(DEST_COUNTRY_NAME='Netherlands Antilles'),\n",
       " Row(DEST_COUNTRY_NAME='Bermuda'),\n",
       " Row(DEST_COUNTRY_NAME='United States'),\n",
       " Row(DEST_COUNTRY_NAME='United States'),\n",
       " Row(DEST_COUNTRY_NAME='United States'),\n",
       " Row(DEST_COUNTRY_NAME='Kiribati'),\n",
       " Row(DEST_COUNTRY_NAME='Saudi Arabia'),\n",
       " Row(DEST_COUNTRY_NAME='Czech Republic'),\n",
       " Row(DEST_COUNTRY_NAME='Belgium'),\n",
       " Row(DEST_COUNTRY_NAME='United States'),\n",
       " Row(DEST_COUNTRY_NAME='United States'),\n",
       " Row(DEST_COUNTRY_NAME='United States'),\n",
       " Row(DEST_COUNTRY_NAME='Afghanistan'),\n",
       " Row(DEST_COUNTRY_NAME='United States'),\n",
       " Row(DEST_COUNTRY_NAME='Curacao'),\n",
       " Row(DEST_COUNTRY_NAME='Georgia'),\n",
       " Row(DEST_COUNTRY_NAME='United States'),\n",
       " Row(DEST_COUNTRY_NAME='United States'),\n",
       " Row(DEST_COUNTRY_NAME='Philippines'),\n",
       " Row(DEST_COUNTRY_NAME='Grenada'),\n",
       " Row(DEST_COUNTRY_NAME='Cape Verde'),\n",
       " Row(DEST_COUNTRY_NAME='Ukraine'),\n",
       " Row(DEST_COUNTRY_NAME='United States'),\n",
       " Row(DEST_COUNTRY_NAME='United States'),\n",
       " Row(DEST_COUNTRY_NAME='Russia'),\n",
       " Row(DEST_COUNTRY_NAME='Guatemala'),\n",
       " Row(DEST_COUNTRY_NAME='Saint Lucia'),\n",
       " Row(DEST_COUNTRY_NAME='Paraguay'),\n",
       " Row(DEST_COUNTRY_NAME='United States'),\n",
       " Row(DEST_COUNTRY_NAME='United States'),\n",
       " Row(DEST_COUNTRY_NAME='United States'),\n",
       " Row(DEST_COUNTRY_NAME='Turkey'),\n",
       " Row(DEST_COUNTRY_NAME='United Kingdom'),\n",
       " Row(DEST_COUNTRY_NAME='United States'),\n",
       " Row(DEST_COUNTRY_NAME='United States'),\n",
       " Row(DEST_COUNTRY_NAME='Cuba'),\n",
       " Row(DEST_COUNTRY_NAME='United States'),\n",
       " Row(DEST_COUNTRY_NAME='United States'),\n",
       " Row(DEST_COUNTRY_NAME='Dominica'),\n",
       " Row(DEST_COUNTRY_NAME='United States'),\n",
       " Row(DEST_COUNTRY_NAME='Portugal'),\n",
       " Row(DEST_COUNTRY_NAME='United States'),\n",
       " Row(DEST_COUNTRY_NAME='Bahrain'),\n",
       " Row(DEST_COUNTRY_NAME='United States'),\n",
       " Row(DEST_COUNTRY_NAME='Vietnam'),\n",
       " Row(DEST_COUNTRY_NAME='United States'),\n",
       " Row(DEST_COUNTRY_NAME='United States'),\n",
       " Row(DEST_COUNTRY_NAME='Belize'),\n",
       " Row(DEST_COUNTRY_NAME='United States'),\n",
       " Row(DEST_COUNTRY_NAME='United States'),\n",
       " Row(DEST_COUNTRY_NAME='United States'),\n",
       " Row(DEST_COUNTRY_NAME='United States'),\n",
       " Row(DEST_COUNTRY_NAME='United States'),\n",
       " Row(DEST_COUNTRY_NAME='United States'),\n",
       " Row(DEST_COUNTRY_NAME='United States'),\n",
       " Row(DEST_COUNTRY_NAME='Nicaragua'),\n",
       " Row(DEST_COUNTRY_NAME='United States'),\n",
       " Row(DEST_COUNTRY_NAME='United States'),\n",
       " Row(DEST_COUNTRY_NAME='United States'),\n",
       " Row(DEST_COUNTRY_NAME='United States'),\n",
       " Row(DEST_COUNTRY_NAME='Austria'),\n",
       " Row(DEST_COUNTRY_NAME='United States'),\n",
       " Row(DEST_COUNTRY_NAME='Jordan'),\n",
       " Row(DEST_COUNTRY_NAME='Palau'),\n",
       " Row(DEST_COUNTRY_NAME='Uganda'),\n",
       " Row(DEST_COUNTRY_NAME='United States'),\n",
       " Row(DEST_COUNTRY_NAME='South Korea'),\n",
       " Row(DEST_COUNTRY_NAME='Angola'),\n",
       " Row(DEST_COUNTRY_NAME='Ghana'),\n",
       " Row(DEST_COUNTRY_NAME='Guadeloupe'),\n",
       " Row(DEST_COUNTRY_NAME='France'),\n",
       " Row(DEST_COUNTRY_NAME='United States'),\n",
       " Row(DEST_COUNTRY_NAME='Poland'),\n",
       " Row(DEST_COUNTRY_NAME='Nigeria'),\n",
       " Row(DEST_COUNTRY_NAME='United States'),\n",
       " Row(DEST_COUNTRY_NAME='Greenland'),\n",
       " Row(DEST_COUNTRY_NAME='Chile'),\n",
       " Row(DEST_COUNTRY_NAME='United States'),\n",
       " Row(DEST_COUNTRY_NAME='United States'),\n",
       " Row(DEST_COUNTRY_NAME='United States'),\n",
       " Row(DEST_COUNTRY_NAME='United States'),\n",
       " Row(DEST_COUNTRY_NAME='United States'),\n",
       " Row(DEST_COUNTRY_NAME='Australia'),\n",
       " Row(DEST_COUNTRY_NAME='United States'),\n",
       " Row(DEST_COUNTRY_NAME='United States'),\n",
       " Row(DEST_COUNTRY_NAME='United States'),\n",
       " Row(DEST_COUNTRY_NAME='United States'),\n",
       " Row(DEST_COUNTRY_NAME='United States'),\n",
       " Row(DEST_COUNTRY_NAME='Uruguay'),\n",
       " Row(DEST_COUNTRY_NAME='Cook Islands'),\n",
       " Row(DEST_COUNTRY_NAME='United States'),\n",
       " Row(DEST_COUNTRY_NAME='Bulgaria'),\n",
       " Row(DEST_COUNTRY_NAME='United States'),\n",
       " Row(DEST_COUNTRY_NAME='United States'),\n",
       " Row(DEST_COUNTRY_NAME='United States'),\n",
       " Row(DEST_COUNTRY_NAME='Bonaire, Sint Eustatius, and Saba'),\n",
       " Row(DEST_COUNTRY_NAME='Greece')]"
      ]
     },
     "execution_count": 11,
     "metadata": {},
     "output_type": "execute_result"
    }
   ],
   "source": [
    "# materialize all\n",
    "df.select('DEST_COUNTRY_NAME').collect()"
   ]
  },
  {
   "cell_type": "markdown",
   "metadata": {},
   "source": [
    "## Foreach\n",
    "http://spark.apache.org/docs/2.2.0/api/python/pyspark.sql.html#pyspark.sql.DataFrame.foreach\n",
    "\n",
    "Applies the f function to all Row of this DataFrame."
   ]
  },
  {
   "cell_type": "code",
   "execution_count": 49,
   "metadata": {},
   "outputs": [],
   "source": [
    "def f(x): \n",
    "    print(x)\n",
    "\n",
    "df.foreach(f) "
   ]
  },
  {
   "cell_type": "markdown",
   "metadata": {},
   "source": [
    "## Distinct Set"
   ]
  },
  {
   "cell_type": "code",
   "execution_count": 54,
   "metadata": {},
   "outputs": [
    {
     "data": {
      "text/plain": [
       "125"
      ]
     },
     "execution_count": 54,
     "metadata": {},
     "output_type": "execute_result"
    }
   ],
   "source": [
    "df.select('DEST_COUNTRY_NAME').distinct().count()"
   ]
  },
  {
   "cell_type": "markdown",
   "metadata": {},
   "source": [
    "## Filter"
   ]
  },
  {
   "cell_type": "code",
   "execution_count": 62,
   "metadata": {},
   "outputs": [
    {
     "name": "stdout",
     "output_type": "stream",
     "text": [
      "+------------------+-------------------+------+\n",
      "| DEST_COUNTRY_NAME|ORIGIN_COUNTRY_NAME| count|\n",
      "+------------------+-------------------+------+\n",
      "|     United States|      United States|348113|\n",
      "|     United States|             Canada|  8305|\n",
      "|            Canada|      United States|  8271|\n",
      "|     United States|             Mexico|  6220|\n",
      "|            Mexico|      United States|  6200|\n",
      "|    United Kingdom|      United States|  1629|\n",
      "|     United States|     United Kingdom|  1503|\n",
      "|     United States|            Germany|  1406|\n",
      "|           Germany|      United States|  1392|\n",
      "|             Japan|      United States|  1383|\n",
      "|     United States|              Japan|  1307|\n",
      "|     United States| Dominican Republic|  1150|\n",
      "|Dominican Republic|      United States|  1109|\n",
      "|            Brazil|      United States|   995|\n",
      "|     United States|        The Bahamas|   959|\n",
      "|       The Bahamas|      United States|   903|\n",
      "|     United States|           Colombia|   832|\n",
      "|          Colombia|      United States|   785|\n",
      "|     United States|             France|   776|\n",
      "|            France|      United States|   774|\n",
      "+------------------+-------------------+------+\n",
      "only showing top 20 rows\n",
      "\n"
     ]
    }
   ],
   "source": [
    "from pyspark.sql.functions import col, desc\n",
    "df.filter(df['count'] > 1).sort(desc('count')).show()"
   ]
  },
  {
   "cell_type": "code",
   "execution_count": 63,
   "metadata": {},
   "outputs": [
    {
     "name": "stdout",
     "output_type": "stream",
     "text": [
      "+------------------+-------------------+------+\n",
      "| DEST_COUNTRY_NAME|ORIGIN_COUNTRY_NAME| count|\n",
      "+------------------+-------------------+------+\n",
      "|     United States|      United States|348113|\n",
      "|            Canada|      United States|  8271|\n",
      "|            Mexico|      United States|  6200|\n",
      "|    United Kingdom|      United States|  1629|\n",
      "|           Germany|      United States|  1392|\n",
      "|             Japan|      United States|  1383|\n",
      "|Dominican Republic|      United States|  1109|\n",
      "|            Brazil|      United States|   995|\n",
      "|       The Bahamas|      United States|   903|\n",
      "|          Colombia|      United States|   785|\n",
      "|            France|      United States|   774|\n",
      "|           Jamaica|      United States|   733|\n",
      "|       South Korea|      United States|   683|\n",
      "|       Netherlands|      United States|   586|\n",
      "|       El Salvador|      United States|   519|\n",
      "|        Costa Rica|      United States|   477|\n",
      "|             China|      United States|   448|\n",
      "|             Spain|      United States|   422|\n",
      "|           Belgium|      United States|   408|\n",
      "|          Honduras|      United States|   391|\n",
      "+------------------+-------------------+------+\n",
      "only showing top 20 rows\n",
      "\n"
     ]
    }
   ],
   "source": [
    "df.filter((df['count'] > 1) & (df['ORIGIN_COUNTRY_NAME'] == 'United States')).sort(desc('count')).show()"
   ]
  },
  {
   "cell_type": "markdown",
   "metadata": {},
   "source": [
    "## Repartitioning\n",
    "https://medium.com/@mrpowers/managing-spark-partitions-with-coalesce-and-repartition-4050c57ad5c4"
   ]
  },
  {
   "cell_type": "code",
   "execution_count": 78,
   "metadata": {},
   "outputs": [
    {
     "data": {
      "text/plain": [
       "10"
      ]
     },
     "execution_count": 78,
     "metadata": {},
     "output_type": "execute_result"
    }
   ],
   "source": [
    "# df with 10 partitions\n",
    "df10 = df.repartition(10)\n",
    "df10.rdd.getNumPartitions()"
   ]
  },
  {
   "cell_type": "markdown",
   "metadata": {},
   "source": [
    "## Coalescing\n",
    "Allows decrease number of partitions in a cheap way, avoiding full shuffle.\n",
    "https://stackoverflow.com/a/31612810"
   ]
  },
  {
   "cell_type": "code",
   "execution_count": 83,
   "metadata": {},
   "outputs": [
    {
     "data": {
      "text/plain": [
       "2"
      ]
     },
     "execution_count": 83,
     "metadata": {},
     "output_type": "execute_result"
    }
   ],
   "source": [
    "# df with one partition\n",
    "df10.coalesce(2).rdd.getNumPartitions()"
   ]
  },
  {
   "cell_type": "markdown",
   "metadata": {},
   "source": [
    "## Joins"
   ]
  },
  {
   "cell_type": "code",
   "execution_count": 85,
   "metadata": {},
   "outputs": [
    {
     "name": "stdout",
     "output_type": "stream",
     "text": [
      "+---------+---+\n",
      "|     name| id|\n",
      "+---------+---+\n",
      "|   Pirate|  1|\n",
      "|   Monkey|  2|\n",
      "|    Ninja|  3|\n",
      "|Spaghetti|  4|\n",
      "+---------+---+\n",
      "\n"
     ]
    }
   ],
   "source": [
    "values1 = [('Pirate',1),('Monkey',2),('Ninja',3),('Spaghetti',4)]\n",
    "df1 = spark.createDataFrame(values1,['name','id'])\n",
    "df1.show()"
   ]
  },
  {
   "cell_type": "code",
   "execution_count": 86,
   "metadata": {},
   "outputs": [
    {
     "name": "stdout",
     "output_type": "stream",
     "text": [
      "+-----------+---+\n",
      "|       name| id|\n",
      "+-----------+---+\n",
      "|   Rutabaga|  1|\n",
      "|     Pirate|  2|\n",
      "|      Ninja|  3|\n",
      "|Darth Vader|  4|\n",
      "+-----------+---+\n",
      "\n"
     ]
    }
   ],
   "source": [
    "values2 = [('Rutabaga',1),('Pirate',2),('Ninja',3),('Darth Vader',4)]\n",
    "df2 = spark.createDataFrame(values2,['name','id'])\n",
    "df2.show()"
   ]
  },
  {
   "cell_type": "code",
   "execution_count": 88,
   "metadata": {},
   "outputs": [
    {
     "name": "stdout",
     "output_type": "stream",
     "text": [
      "+---------+---+-----------+---+\n",
      "|     name| id|       name| id|\n",
      "+---------+---+-----------+---+\n",
      "|   Pirate|  1|   Rutabaga|  1|\n",
      "|    Ninja|  3|      Ninja|  3|\n",
      "|   Monkey|  2|     Pirate|  2|\n",
      "|Spaghetti|  4|Darth Vader|  4|\n",
      "+---------+---+-----------+---+\n",
      "\n"
     ]
    }
   ],
   "source": [
    "df1.join(df2, df1.id == df2.id).show()"
   ]
  },
  {
   "cell_type": "code",
   "execution_count": 89,
   "metadata": {},
   "outputs": [
    {
     "name": "stdout",
     "output_type": "stream",
     "text": [
      "+---------+---+-----------+---+\n",
      "|     name| id|       name| id|\n",
      "+---------+---+-----------+---+\n",
      "|   Pirate|  1|   Rutabaga|  1|\n",
      "|    Ninja|  3|      Ninja|  3|\n",
      "|   Monkey|  2|     Pirate|  2|\n",
      "|Spaghetti|  4|Darth Vader|  4|\n",
      "+---------+---+-----------+---+\n",
      "\n"
     ]
    }
   ],
   "source": [
    "df1.join(df2, df1.id == df2.id, how='left').show()"
   ]
  },
  {
   "cell_type": "markdown",
   "metadata": {},
   "source": [
    "## Unions"
   ]
  },
  {
   "cell_type": "code",
   "execution_count": 90,
   "metadata": {},
   "outputs": [
    {
     "name": "stdout",
     "output_type": "stream",
     "text": [
      "+---------+---+\n",
      "|     name| id|\n",
      "+---------+---+\n",
      "|   Pirate|  1|\n",
      "|   Monkey|  2|\n",
      "|    Ninja|  3|\n",
      "|Spaghetti|  4|\n",
      "+---------+---+\n",
      "\n"
     ]
    }
   ],
   "source": [
    "values1 = [('Pirate',1),('Monkey',2),('Ninja',3),('Spaghetti',4)]\n",
    "df1 = spark.createDataFrame(values1,['name','id'])\n",
    "df1.show()"
   ]
  },
  {
   "cell_type": "code",
   "execution_count": 93,
   "metadata": {},
   "outputs": [
    {
     "name": "stdout",
     "output_type": "stream",
     "text": [
      "+-----------+---+\n",
      "|       name| id|\n",
      "+-----------+---+\n",
      "|   Rutabaga|  5|\n",
      "|     Pirate|  6|\n",
      "|      Ninja|  7|\n",
      "|Darth Vader|  8|\n",
      "+-----------+---+\n",
      "\n"
     ]
    }
   ],
   "source": [
    "values2 = [('Rutabaga',5),('Pirate',6),('Ninja',7),('Darth Vader',8)]\n",
    "df2 = spark.createDataFrame(values2,['name','id'])\n",
    "df2.show()"
   ]
  },
  {
   "cell_type": "code",
   "execution_count": 94,
   "metadata": {},
   "outputs": [
    {
     "name": "stdout",
     "output_type": "stream",
     "text": [
      "+-----------+---+\n",
      "|       name| id|\n",
      "+-----------+---+\n",
      "|     Pirate|  1|\n",
      "|     Monkey|  2|\n",
      "|      Ninja|  3|\n",
      "|  Spaghetti|  4|\n",
      "|   Rutabaga|  5|\n",
      "|     Pirate|  6|\n",
      "|      Ninja|  7|\n",
      "|Darth Vader|  8|\n",
      "+-----------+---+\n",
      "\n"
     ]
    }
   ],
   "source": [
    "df1.union(df2).show()"
   ]
  },
  {
   "cell_type": "markdown",
   "metadata": {},
   "source": [
    "## Aggragation"
   ]
  },
  {
   "cell_type": "code",
   "execution_count": 109,
   "metadata": {},
   "outputs": [
    {
     "name": "stdout",
     "output_type": "stream",
     "text": [
      "+--------------------+----------+\n",
      "| ORIGIN_COUNTRY_NAME|avg(count)|\n",
      "+--------------------+----------+\n",
      "|              Russia|     156.0|\n",
      "|            Anguilla|      20.0|\n",
      "|             Senegal|      46.0|\n",
      "|              Sweden|      73.0|\n",
      "|            Kiribati|      18.0|\n",
      "|              Guyana|      20.0|\n",
      "|         Philippines|     116.0|\n",
      "|           Singapore|      25.0|\n",
      "|            Malaysia|       3.0|\n",
      "|                Fiji|      51.0|\n",
      "|              Turkey|      87.0|\n",
      "|             Germany|    1406.0|\n",
      "|         Afghanistan|       2.0|\n",
      "|              Jordan|      51.0|\n",
      "|               Palau|      30.0|\n",
      "|Turks and Caicos ...|     147.0|\n",
      "|              France|     776.0|\n",
      "|              Greece|      61.0|\n",
      "|British Virgin Is...|      47.0|\n",
      "|              Taiwan|     252.0|\n",
      "+--------------------+----------+\n",
      "only showing top 20 rows\n",
      "\n"
     ]
    }
   ],
   "source": [
    "from pyspark.sql.functions import mean, max\n",
    "df.groupBy('ORIGIN_COUNTRY_NAME').agg(mean('count')).show()"
   ]
  },
  {
   "cell_type": "code",
   "execution_count": 110,
   "metadata": {},
   "outputs": [
    {
     "name": "stdout",
     "output_type": "stream",
     "text": [
      "+----------+\n",
      "|max(count)|\n",
      "+----------+\n",
      "|    348113|\n",
      "+----------+\n",
      "\n"
     ]
    }
   ],
   "source": [
    "df.agg(max('count')).show()"
   ]
  },
  {
   "cell_type": "markdown",
   "metadata": {},
   "source": [
    "# How to cache and persist\n",
    "\n",
    "Cache a dataframe when it is used multiple times in the script."
   ]
  },
  {
   "cell_type": "code",
   "execution_count": 115,
   "metadata": {},
   "outputs": [
    {
     "data": {
      "text/plain": [
       "True"
      ]
     },
     "execution_count": 115,
     "metadata": {},
     "output_type": "execute_result"
    }
   ],
   "source": [
    "df.cache() # it's lazy, do smth to cache your df\n",
    "df.is_cached"
   ]
  },
  {
   "cell_type": "code",
   "execution_count": null,
   "metadata": {},
   "outputs": [],
   "source": [
    "# cache is persist method with save to memory and disk "
   ]
  },
  {
   "cell_type": "code",
   "execution_count": 113,
   "metadata": {},
   "outputs": [
    {
     "data": {
      "text/plain": [
       "StorageLevel(True, True, False, True, 1)"
      ]
     },
     "execution_count": 113,
     "metadata": {},
     "output_type": "execute_result"
    }
   ],
   "source": [
    "df.storageLevel # (DISK, MEMORY, HEAP, DESERIALIZED, ...)\n",
    "# default StorageLevel.MEMORY_AND_DISK"
   ]
  },
  {
   "cell_type": "code",
   "execution_count": 119,
   "metadata": {},
   "outputs": [
    {
     "data": {
      "text/plain": [
       "False"
      ]
     },
     "execution_count": 119,
     "metadata": {},
     "output_type": "execute_result"
    }
   ],
   "source": [
    "# unpersist\n",
    "df.unpersist()\n",
    "df.is_cached"
   ]
  },
  {
   "cell_type": "code",
   "execution_count": 121,
   "metadata": {},
   "outputs": [
    {
     "data": {
      "text/plain": [
       "True"
      ]
     },
     "execution_count": 121,
     "metadata": {},
     "output_type": "execute_result"
    }
   ],
   "source": [
    "from pyspark.storagelevel import StorageLevel\n",
    "\n",
    "df.persist(storageLevel = StorageLevel.DISK_ONLY) # MEMORY_ONLY, MEMORY_AND_DISK\n",
    "df.is_cached\n",
    "# df.storageLevel = StorageLevel.MEMORY_AND_DISK"
   ]
  },
  {
   "cell_type": "markdown",
   "metadata": {},
   "source": [
    "# Convert DataFrame to a global or temp View\n",
    "## Local Temporary View"
   ]
  },
  {
   "cell_type": "code",
   "execution_count": 147,
   "metadata": {},
   "outputs": [
    {
     "name": "stdout",
     "output_type": "stream",
     "text": [
      "+-----------------+-------------------+-----+\n",
      "|DEST_COUNTRY_NAME|ORIGIN_COUNTRY_NAME|count|\n",
      "+-----------------+-------------------+-----+\n",
      "|    United States|            Romania|    1|\n",
      "|    United States|            Ireland|  264|\n",
      "|    United States|              India|   69|\n",
      "|            Egypt|      United States|   24|\n",
      "|Equatorial Guinea|      United States|    1|\n",
      "|    United States|          Singapore|   25|\n",
      "|    United States|            Grenada|   54|\n",
      "|       Costa Rica|      United States|  477|\n",
      "|          Senegal|      United States|   29|\n",
      "|    United States|   Marshall Islands|   44|\n",
      "+-----------------+-------------------+-----+\n",
      "\n"
     ]
    }
   ],
   "source": [
    "df.createOrReplaceTempView('local_view')\n",
    "\n",
    "spark.sql('SELECT * FROM local_view LIMIT 10').show()"
   ]
  },
  {
   "cell_type": "markdown",
   "metadata": {},
   "source": [
    "## Global Temporary view\n",
    "https://spark.apache.org/docs/latest/sql-getting-started.html#global-temporary-view\n",
    "\n",
    "If you want to have a temporary view that is shared among all sessions and keep alive until the Spark application terminates, you can create a global temporary view.\n",
    "http://www.balakumarp.net/2019/01/29/pyspark-sharing-spark-context-and-spark-session-across/"
   ]
  },
  {
   "cell_type": "code",
   "execution_count": 154,
   "metadata": {},
   "outputs": [
    {
     "name": "stdout",
     "output_type": "stream",
     "text": [
      "+-----------------+-------------------+-----+\n",
      "|DEST_COUNTRY_NAME|ORIGIN_COUNTRY_NAME|count|\n",
      "+-----------------+-------------------+-----+\n",
      "|    United States|            Romania|    1|\n",
      "|    United States|            Ireland|  264|\n",
      "|    United States|              India|   69|\n",
      "|            Egypt|      United States|   24|\n",
      "|Equatorial Guinea|      United States|    1|\n",
      "|    United States|          Singapore|   25|\n",
      "|    United States|            Grenada|   54|\n",
      "|       Costa Rica|      United States|  477|\n",
      "|          Senegal|      United States|   29|\n",
      "|    United States|   Marshall Islands|   44|\n",
      "+-----------------+-------------------+-----+\n",
      "\n"
     ]
    }
   ],
   "source": [
    "df.createOrReplaceGlobalTempView('global_view')\n",
    "\n",
    "spark.sql('SELECT * FROM global_temp.global_view LIMIT 10').show()"
   ]
  },
  {
   "cell_type": "markdown",
   "metadata": {},
   "source": [
    "## Close Session"
   ]
  },
  {
   "cell_type": "code",
   "execution_count": 44,
   "metadata": {},
   "outputs": [],
   "source": [
    "spark.stop()"
   ]
  }
 ],
 "metadata": {
  "kernelspec": {
   "display_name": "Python 3",
   "language": "python",
   "name": "python3"
  },
  "language_info": {
   "codemirror_mode": {
    "name": "ipython",
    "version": 3
   },
   "file_extension": ".py",
   "mimetype": "text/x-python",
   "name": "python",
   "nbconvert_exporter": "python",
   "pygments_lexer": "ipython3",
   "version": "3.7.1"
  }
 },
 "nbformat": 4,
 "nbformat_minor": 2
}
