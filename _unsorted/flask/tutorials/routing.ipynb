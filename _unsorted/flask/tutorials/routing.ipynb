{
 "cells": [
  {
   "cell_type": "markdown",
   "metadata": {
    "deletable": false,
    "editable": false
   },
   "source": [
    "# Flask Routing\n",
    "<div class=\"w3-panel w3-pale-green w3-leftbar w3-border-green\">\n",
    "  <p>To bind a function to an URL the decorator <code>route()</code> should be used.</p>\n",
    "</div>"
   ]
  },
  {
   "cell_type": "code",
   "execution_count": null,
   "metadata": {},
   "outputs": [],
   "source": [
    "@app.route('/')\n",
    "def index_page():\n",
    "    return 'Index Page'"
   ]
  },
  {
   "cell_type": "markdown",
   "metadata": {},
   "source": [
    "## Redirection Behavior\n",
    "<div class=\"w3-panel w3-pale-green w3-leftbar w3-border-green\">\n",
    "  <p>Flask allows to use endpoints with a trailing slash (<code>/services/</code>) or without (<code>/about</code>).</p>\n",
    "</div>"
   ]
  },
  {
   "cell_type": "markdown",
   "metadata": {},
   "source": [
    "### Without a slash\n",
    "\n",
    "<div class=\"w3-panel w3-pale-green w3-leftbar w3-border-green\">\n",
    "    <p>Endpoints without a trailing slash can be interpreted as single files in a file system. Such URL cannot be called with trailing slash.</p>\n",
    "</div>"
   ]
  },
  {
   "cell_type": "code",
   "execution_count": null,
   "metadata": {},
   "outputs": [],
   "source": [
    "@app.route('/about')\n",
    "def about():\n",
    "    return 'About Us Page'"
   ]
  },
  {
   "cell_type": "markdown",
   "metadata": {},
   "source": [
    "### With a slash\n",
    "\n",
    "<div class=\"w3-panel w3-pale-green w3-leftbar w3-border-green\">\n",
    "    <p>Endpoints with a trailing slash are similar to a folder in a file system. If such an endpoint is called Flask redirects you to the canonical URL with the slash.</p>\n",
    "</div>"
   ]
  },
  {
   "cell_type": "code",
   "execution_count": null,
   "metadata": {},
   "outputs": [],
   "source": [
    "@app.route('/services/')\n",
    "def services():\n",
    "    return 'Our Services'"
   ]
  }
 ],
 "metadata": {
  "kernelspec": {
   "display_name": "Python 3",
   "language": "python",
   "name": "python3"
  },
  "language_info": {
   "codemirror_mode": {
    "name": "ipython",
    "version": 3
   },
   "file_extension": ".py",
   "mimetype": "text/x-python",
   "name": "python",
   "nbconvert_exporter": "python",
   "pygments_lexer": "ipython3",
   "version": "3.7.1"
  },
  "nbTranslate": {
   "displayLangs": [
    "*"
   ],
   "hotkey": "alt-t",
   "langInMainMenu": true,
   "sourceLang": "ru",
   "targetLang": "en",
   "useGoogleTranslate": true
  }
 },
 "nbformat": 4,
 "nbformat_minor": 2
}
