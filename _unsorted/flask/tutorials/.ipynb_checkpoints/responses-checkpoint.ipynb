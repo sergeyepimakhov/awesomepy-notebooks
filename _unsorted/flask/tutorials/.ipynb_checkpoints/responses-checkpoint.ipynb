{
 "cells": [
  {
   "cell_type": "markdown",
   "metadata": {},
   "source": [
    "# Flask Responses"
   ]
  },
  {
   "cell_type": "markdown",
   "metadata": {},
   "source": [
    "## Return usual Python Objects"
   ]
  },
  {
   "cell_type": "code",
   "execution_count": null,
   "metadata": {},
   "outputs": [],
   "source": [
    "@app.route('/user/<username>')\n",
    "def get_user(username):\n",
    "    # return string\n",
    "    return \"Welcome back %s\" % username\n",
    "\n",
    "    # return dictionary\n",
    "    return {\"username\": username}"
   ]
  },
  {
   "cell_type": "markdown",
   "metadata": {},
   "source": [
    "Every response can be combined with a HTTP status code"
   ]
  },
  {
   "cell_type": "code",
   "execution_count": null,
   "metadata": {},
   "outputs": [],
   "source": [
    "@app.route('/user/<username>')\n",
    "def get_user(username):\n",
    "    # return string with HTTP status\n",
    "    return \"Welcome back %s\" % username, 200  # OK\n",
    "\n",
    "    # return dictionary with HTTP status\n",
    "    return {\"username\": username}, 200  # OK"
   ]
  },
  {
   "cell_type": "markdown",
   "metadata": {},
   "source": [
    "## Return JSON Object\n",
    "Any python dictionary can be converted to a JSON object"
   ]
  },
  {
   "cell_type": "code",
   "execution_count": null,
   "metadata": {},
   "outputs": [],
   "source": [
    "from flask import jsonify\n",
    "\n",
    "@app.route('/user/<username>')\n",
    "def get_user(username):\n",
    "    resp = {\"username\": username}\n",
    "    \n",
    "    return jsonify(resp)                                            # JSON only \n",
    "    return jsonify(resp), 201                                       # JSON with HTTP status\n",
    "    return jsonify(resp), {'Content-Type': 'application/json'}      # JSON with MIME type\n",
    "    return jsonify(resp), 201, {'Content-Type': 'application/json'} # all together"
   ]
  },
  {
   "cell_type": "markdown",
   "metadata": {},
   "source": [
    "## Return HTML"
   ]
  },
  {
   "cell_type": "code",
   "execution_count": null,
   "metadata": {},
   "outputs": [],
   "source": [
    "return render_template('index.html')"
   ]
  },
  {
   "cell_type": "code",
   "execution_count": null,
   "metadata": {},
   "outputs": [],
   "source": [
    "# HTML as string\n",
    "\n",
    "@app.route('/')\n",
    "def index():\n",
    "    return '<h1>Welcome to awesomepy!</h1>'                                     # HTML only\n",
    "    return '<h1>Welcome to awesomepy!</h1>', 200                                # HTML with status code\n",
    "    return '<h1>Welcome to awesomepy!</h1>', {'Content-Type': 'text/html'}      # HTML with headers\n",
    "    return '<h1>Welcome to awesomepy!</h1>', 200, {'Content-Type': 'text/html'} # all together"
   ]
  },
  {
   "cell_type": "code",
   "execution_count": null,
   "metadata": {},
   "outputs": [],
   "source": [
    "# HTML from template\n",
    "from flask import render_template, make_response\n",
    "\n",
    "# index.html\n",
    "# <h1>Hello {{ name }}</h1>\n",
    "\n",
    "@app.route('/hello/<username>')\n",
    "def hello(username):\n",
    "    return render_template('index.html')                                      # Hello None\n",
    "    return render_tamplate('index.html', name=username)                       # Hello username\n",
    "    return render_tamplate('index.html', name=username), 200                  # Hello username with status OK\n",
    "\n",
    "    resp = make_response(render_tamplate('index.html', name=username), 200)   # all together\n",
    "    resp.set_cookie('username', username)\n",
    "    return resp"
   ]
  },
  {
   "cell_type": "markdown",
   "metadata": {},
   "source": [
    "Read more about templating in the next chapters. "
   ]
  },
  {
   "cell_type": "markdown",
   "metadata": {},
   "source": [
    "## Return XML"
   ]
  },
  {
   "cell_type": "code",
   "execution_count": null,
   "metadata": {},
   "outputs": [],
   "source": [
    "@app.route('/user/<username>')\n",
    "def get_username(username):\n",
    "    return '''\n",
    "    <?xml version=\"1.0\" encoding=\"UTF-8\"?>\n",
    "    <person>\n",
    "        <name>%s</name>\n",
    "    </person>\n",
    "    ''' % username                                            # XML only\n",
    "\n",
    "    return '''\n",
    "    <?xml version=\"1.0\" encoding=\"UTF-8\"?>\n",
    "    <person>\n",
    "        <name>%s</name>\n",
    "    </person>\n",
    "    ''' % username, 200                                      # XML with status code\n",
    "\n",
    "    return '''\n",
    "    <?xml version=\"1.0\" encoding=\"UTF-8\"?>\n",
    "    <person>\n",
    "        <name>%s</name>\n",
    "    </person>\n",
    "    ''' % username, 200, {'Content-Type': 'application/xml'} # XML with status code and header "
   ]
  },
  {
   "cell_type": "markdown",
   "metadata": {},
   "source": [
    "## Return File"
   ]
  },
  {
   "cell_type": "code",
   "execution_count": null,
   "metadata": {},
   "outputs": [],
   "source": [
    "# File\n",
    "@app.route('/logo')\n",
    "def return_logo():\n",
    "    try:\n",
    "        return send_file('static/images/logo.jpg', attachment_filename='logo.jpg')\n",
    "    except Exception as e:\n",
    "        return str(e)"
   ]
  },
  {
   "cell_type": "markdown",
   "metadata": {},
   "source": [
    "## Using Response\n",
    "\n",
    "Response class brings everything together."
   ]
  },
  {
   "cell_type": "code",
   "execution_count": null,
   "metadata": {},
   "outputs": [],
   "source": [
    "\n",
    "from flask import Response\n",
    "\n",
    "@app.route('/test')\n",
    "def test()\n",
    "    r = Response(response=\"TEST OK\", status=200, mimetype=\"application/xml\")\n",
    "    r.headers[\"Content-Type\"] = \"text/xml; charset=utf-8\"\n",
    "    return r"
   ]
  }
 ],
 "metadata": {
  "kernelspec": {
   "display_name": "Python 3",
   "language": "python",
   "name": "python3"
  },
  "language_info": {
   "codemirror_mode": {
    "name": "ipython",
    "version": 3
   },
   "file_extension": ".py",
   "mimetype": "text/x-python",
   "name": "python",
   "nbconvert_exporter": "python",
   "pygments_lexer": "ipython3",
   "version": "3.7.1"
  },
  "nbTranslate": {
   "displayLangs": [
    "*"
   ],
   "hotkey": "alt-t",
   "langInMainMenu": true,
   "sourceLang": "en",
   "targetLang": "fr",
   "useGoogleTranslate": true
  }
 },
 "nbformat": 4,
 "nbformat_minor": 2
}
