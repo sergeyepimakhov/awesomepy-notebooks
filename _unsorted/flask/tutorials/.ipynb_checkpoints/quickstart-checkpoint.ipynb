{
 "cells": [
  {
   "cell_type": "markdown",
   "metadata": {},
   "source": [
    "# Flask Quickstart"
   ]
  },
  {
   "cell_type": "markdown",
   "metadata": {},
   "source": [
    "## Minimal Application\n",
    "A minimal Flask application looks like this:"
   ]
  },
  {
   "cell_type": "code",
   "execution_count": null,
   "metadata": {
    "deletable": false,
    "editable": false,
    "run_control": {
     "frozen": true
    }
   },
   "outputs": [],
   "source": [
    "# %load quickstart/main.py\n",
    "from flask import Flask\n",
    "\n",
    "app = Flask(__name__)\n",
    "\n",
    "\n",
    "@app.route('/')\n",
    "def index():\n",
    "    return 'Hello, Awesome Python!'\n",
    "\n",
    "\n",
    "if __name__ == '__main__':\n",
    "    app.run()\n"
   ]
  },
  {
   "cell_type": "markdown",
   "metadata": {},
   "source": [
    "Using <b>\\_\\_name\\_\\_</b> Flask constructor takes the name of current module as argument. The <b>route()</b> is a decorator, which tells the application which URL should be bind to the associated function. In this case the index URL is bound with the <b>index()</b> function.\n",
    "\n",
    "The <b>run()</b> method will run our Flask application on the local development server. "
   ]
  },
  {
   "cell_type": "markdown",
   "metadata": {},
   "source": [
    "## Run Application\n",
    "To execute our script run the following commands in your shell:"
   ]
  },
  {
   "cell_type": "code",
   "execution_count": 70,
   "metadata": {},
   "outputs": [
    {
     "name": "stdout",
     "output_type": "stream",
     "text": [
      " * Serving Flask app \"main\" (lazy loading)\n",
      " * Environment: production\n",
      "\u001b[31m   WARNING: Do not use the development server in a production environment.\u001b[0m\n",
      "\u001b[2m   Use a production WSGI server instead.\u001b[0m\n",
      " * Debug mode: off\n",
      " * Running on http://127.0.0.1:5000/ (Press CTRL+C to quit)\n",
      "^C\n"
     ]
    }
   ],
   "source": [
    "! python quickstart/main.py"
   ]
  },
  {
   "cell_type": "markdown",
   "metadata": {},
   "source": [
    "Open the link http://127.0.0.1:5000/, and you should see our greeting."
   ]
  },
  {
   "cell_type": "markdown",
   "metadata": {},
   "source": [
    "## Run properties\n",
    "The <code>run</code> method takes the following parameters:\n",
    "\n",
    "<div class=\"w3-code w3-large w3-border\" translate=\"no\">\n",
    "<textarea class=\"codeblock\">\n",
    "app.run(host, port, debug)\n",
    "</textarea>\n",
    "</div>\n",
    " \n",
    "    \n",
    "<table class=\"w3-table w3-striped\">\n",
    "  <tr>\n",
    "    <td><b>host</b></td>\n",
    "    <td>Host address. Defaults to localhost (127.0.0.1). Use 0.0.0.0 to make server available externally</td>\n",
    "  </tr>\n",
    "  <tr>\n",
    "    <td><b>port</b></td>\n",
    "    <td>Binding port. Defaults to 5000.</td>\n",
    "  </tr>\n",
    "  <tr>\n",
    "    <td><b>debug</b></td>\n",
    "    <td>Debug mode. Defaults to false. If true provides debug information and enables interactive development.</td>\n",
    "  </tr>\n",
    "</table>"
   ]
  },
  {
   "cell_type": "markdown",
   "metadata": {},
   "source": [
    "You can either set the properties directly after initialization of your app."
   ]
  },
  {
   "cell_type": "code",
   "execution_count": null,
   "metadata": {},
   "outputs": [],
   "source": [
    "app = Flask(__name__)\n",
    "\n",
    "app.host = '0.0.0.0'\n",
    "app.port = 8080\n",
    "app.debug = True"
   ]
  },
  {
   "cell_type": "markdown",
   "metadata": {},
   "source": [
    "## Flask Run Command"
   ]
  },
  {
   "cell_type": "markdown",
   "metadata": {},
   "source": [
    "Alternatively the script can be launched using the flask run command."
   ]
  },
  {
   "cell_type": "code",
   "execution_count": 65,
   "metadata": {},
   "outputs": [
    {
     "name": "stdout",
     "output_type": "stream",
     "text": [
      "env: FLASK_APP=quickstart/main.py\n",
      "env: FLASK_ENV=development\n",
      " * Serving Flask app \"quickstart/main.py\" (lazy loading)\n",
      " * Environment: development\n",
      " * Debug mode: on\n",
      " * Running on http://127.0.0.1:5000/ (Press CTRL+C to quit)\n",
      " * Restarting with stat\n",
      " * Debugger is active!\n",
      " * Debugger PIN: 203-510-973\n",
      "^C\n"
     ]
    }
   ],
   "source": [
    "%env FLASK_APP=quickstart/main.py\n",
    "%env FLASK_ENV=development\n",
    "! python -m flask run"
   ]
  },
  {
   "cell_type": "markdown",
   "metadata": {},
   "source": [
    "<div class=\"w3-panel w3-pale-yellow w3-leftbar w3-border-yellow\">\n",
    "  <p>Using the debug mode the server will reload itself if the code changes. It will also provide useful debug info to track the errors and warnings.</p>\n",
    "</div>\n"
   ]
  },
  {
   "cell_type": "markdown",
   "metadata": {},
   "source": [
    "## Environment Variables\n",
    "\n",
    "<table class=\"w3-table w3-striped\">\n",
    "  <tr>\n",
    "    <td><code>FLASK_APP</code></td>\n",
    "    <td>Path to application script.</td>\n",
    "  </tr>\n",
    "  <tr>\n",
    "    <td><code>FLASK_ENV</code></td>\n",
    "    <td>Development or production. Development enables the reloader and debugger.</td>\n",
    "  </tr>\n",
    "  <tr>\n",
    "    <td><code>FLASK_DEBUG</code></td>\n",
    "    <td>Debug flag (0 or 1). Flag equals to 1 enables the reloader and debugger as well.</td>\n",
    "  </tr>\n",
    "</table>"
   ]
  },
  {
   "cell_type": "markdown",
   "metadata": {},
   "source": [
    "## Run Options"
   ]
  },
  {
   "cell_type": "markdown",
   "metadata": {},
   "source": [
    "<div class=\"w3-code w3-large w3-border\" translate=\"no\">\n",
    "<textarea class=\"codeblock\">\n",
    "flask run [OPTIONS]\n",
    "</textarea>\n",
    "</div>\n",
    "\n",
    "<table class=\"w3-table w3-striped\">\n",
    "  <tr>\n",
    "    <td><code>-h, --host '0.0.0.0'</code></td>\n",
    "    <td>Set the host.</td>\n",
    "  </tr>\n",
    "  <tr>\n",
    "    <td><code>-p, --port 8080</code></td>\n",
    "    <td>Set the port.</td>\n",
    "  </tr>\n",
    "  <tr>\n",
    "    <td><code>--reload / --no-reload</code></td>\n",
    "    <td>Enable or disable the reloader.</td>\n",
    "  </tr>\n",
    "  <tr>\n",
    "    <td><code>--debugger / --no-debugger</code></td>\n",
    "    <td>Enable or disable the debugger.</td>\n",
    "  </tr>\n",
    "  <tr>\n",
    "    <td><code>--eager-loading / --lazy-loader</code></td>\n",
    "    <td>Enable or disable eager loading.</td>\n",
    "  </tr>\n",
    "  <tr>\n",
    "    <td><code>--with-threads / --without-threads</code></td>\n",
    "    <td>Enable or disable multithreading.</td>\n",
    "  </tr>\n",
    "</table>"
   ]
  }
 ],
 "metadata": {
  "celltoolbar": "Edit Metadata",
  "kernelspec": {
   "display_name": "Python 3",
   "language": "python",
   "name": "python3"
  },
  "language_info": {
   "codemirror_mode": {
    "name": "ipython",
    "version": 3
   },
   "file_extension": ".py",
   "mimetype": "text/x-python",
   "name": "python",
   "nbconvert_exporter": "python",
   "pygments_lexer": "ipython3",
   "version": "3.7.1"
  },
  "nbTranslate": {
   "displayLangs": [
    "ru"
   ],
   "hotkey": "alt-t",
   "langInMainMenu": true,
   "sourceLang": "en",
   "targetLang": "ru",
   "useGoogleTranslate": true
  }
 },
 "nbformat": 4,
 "nbformat_minor": 2
}
