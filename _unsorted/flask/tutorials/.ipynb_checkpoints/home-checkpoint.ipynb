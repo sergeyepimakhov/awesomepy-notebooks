{
 "cells": [
  {
   "cell_type": "markdown",
   "metadata": {},
   "source": [
    "# Flask Tutorial\n",
    "\n",
    "<div class=\"w3-panel w3-pale-green w3-leftbar w3-border-green\">\n",
    "    <p>Flask is awesome!</p>\n",
    "    <p>Flask is web framework that enables to build applications quickly.</p>\n",
    "    <p>Flask is minimalistic and extensible</p>\n",
    "    <p>Flask is easy to learn.</p>\n",
    "</div>\n",
    "\n"
   ]
  },
  {
   "cell_type": "markdown",
   "metadata": {
    "deletable": false,
    "editable": false
   },
   "source": [
    "## Examples in Each Chapter\n",
    "Use our \"Repl It\" editor to try all examples in your browser."
   ]
  },
  {
   "cell_type": "code",
   "execution_count": null,
   "metadata": {},
   "outputs": [],
   "source": [
    "# main.py\n",
    "from flask import Flask\n",
    "app = Flask(__name__)\n",
    "\n",
    "@app.route('/')\n",
    "def greeting_page():\n",
    "    return 'Hi, Awesome Python!'"
   ]
  },
  {
   "cell_type": "markdown",
   "metadata": {
    "deletable": false,
    "editable": false
   },
   "source": [
    "<div class=\"w3-panel w3-pale-yellow w3-leftbar w3-border-yellow\">\n",
    "  <p>We recommend reading this tutorial, in the sequence listed in the left menu.</p>\n",
    "</div>"
   ]
  },
  {
   "cell_type": "raw",
   "metadata": {
    "deletable": false,
    "editable": false,
    "lang": "en"
   },
   "source": [
    "## Learn by Examples\n",
    "Examples are better than 1000 words. Examples are often easier to understand than text explanations.\n",
    "<div class=\"w3-panel w3-pale-yellow w3-leftbar w3-border-yellow\">\n",
    "  <p>If you try all the examples, you will learn a lot about Flask, in a very short time!</p>\n",
    "</div>"
   ]
  }
 ],
 "metadata": {
  "celltoolbar": "Edit Metadata",
  "kernelspec": {
   "display_name": "Python 3",
   "language": "python",
   "name": "python3"
  },
  "language_info": {
   "codemirror_mode": {
    "name": "ipython",
    "version": 3
   },
   "file_extension": ".py",
   "mimetype": "text/x-python",
   "name": "python",
   "nbconvert_exporter": "python",
   "pygments_lexer": "ipython3",
   "version": "3.7.1"
  },
  "nbTranslate": {
   "displayLangs": [
    "*"
   ],
   "hotkey": "alt-t",
   "langInMainMenu": true,
   "sourceLang": "en",
   "targetLang": "fr",
   "useGoogleTranslate": true
  }
 },
 "nbformat": 4,
 "nbformat_minor": 2
}
