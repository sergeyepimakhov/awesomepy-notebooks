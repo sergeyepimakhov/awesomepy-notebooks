{
 "cells": [
  {
   "cell_type": "markdown",
   "metadata": {
    "slideshow": {
     "slide_type": "fragment"
    }
   },
   "source": [
    "## URL Dispatcher\n",
    "\n",
    "There are many different ways how to organize the routing on your own web site. In the Django application the paths should be defined in the `urlpatterns` list in `urls.py`. In `views.py` one implements handlers."
   ]
  },
  {
   "cell_type": "markdown",
   "metadata": {},
   "source": [
    "### Without a parameter"
   ]
  },
  {
   "cell_type": "code",
   "execution_count": null,
   "metadata": {
    "deletable": false,
    "editable": false,
    "replit": "https://repl.it/@sergeyepimakhov/LawngreenSqueakyGlobalarrays?lite=true",
    "run_control": {
     "frozen": true
    }
   },
   "outputs": [],
   "source": [
    "# urls.py\n",
    "from django.urls import path\n",
    "from . import views\n",
    "urlpatterns = [\n",
    "    path('articles/', views.all_articles),\n",
    "]\n",
    "\n",
    "# views.py\n",
    "def all_articles(request):\n",
    "    # do smth"
   ]
  },
  {
   "cell_type": "markdown",
   "metadata": {},
   "source": [
    "### Capture Default\n",
    "Without specifying a type the captured parameter will be interpreted as a string. "
   ]
  },
  {
   "cell_type": "code",
   "execution_count": null,
   "metadata": {
    "deletable": false,
    "editable": false,
    "run_control": {
     "frozen": true
    }
   },
   "outputs": [],
   "source": [
    "# urls.py\n",
    "from django.urls import path\n",
    "from . import views\n",
    "\n",
    "# articles/sport/\n",
    "urlpatterns = [\n",
    "    path('articles/<field>/', views.field_archive),\n",
    "]\n",
    "\n",
    "# views.py\n",
    "def particular_archive(request, field):\n",
    "    # do smth"
   ]
  },
  {
   "cell_type": "markdown",
   "metadata": {},
   "source": [
    "### Capture an Integer"
   ]
  },
  {
   "cell_type": "code",
   "execution_count": null,
   "metadata": {
    "deletable": false,
    "editable": false,
    "replit": "https://repl.it/@sergeyepimakhov/LawngreenSqueakyGlobalarrays?lite=true",
    "run_control": {
     "frozen": true
    }
   },
   "outputs": [],
   "source": [
    "# urls.py\n",
    "from django.urls import path\n",
    "from . import views\n",
    "\n",
    "# /articles/sport/2019\n",
    "urlpatterns = [\n",
    "    path('articles/<field>/<int:year>/', views.year_archive)\n",
    "]\n",
    "\n",
    "# views.py\n",
    "def year_archive(request, field, year):\n",
    "    # do smth"
   ]
  },
  {
   "cell_type": "markdown",
   "metadata": {},
   "source": [
    "### Capture an Slug"
   ]
  },
  {
   "cell_type": "code",
   "execution_count": null,
   "metadata": {
    "deletable": false,
    "editable": false,
    "replit": "https://repl.it/@sergeyepimakhov/LawngreenSqueakyGlobalarrays?lite=true",
    "run_control": {
     "frozen": true
    }
   },
   "outputs": [],
   "source": [
    "# urls.py\n",
    "from django.urls import path\n",
    "\n",
    "from . import views\n",
    "\n",
    "# /articles/sport/2019/rally-dakar-1st-place\n",
    "urlpatterns = [\n",
    "    path('articles/<field>/<int:year>/<slug:slug>/', views.article_detail_by_title)\n",
    "]\n",
    "\n",
    "# views.py\n",
    "def article_detail_by_title(request, field, year, slug):\n",
    "    # do smth"
   ]
  },
  {
   "cell_type": "markdown",
   "metadata": {},
   "source": [
    "### Capture an UUID"
   ]
  },
  {
   "cell_type": "code",
   "execution_count": null,
   "metadata": {
    "deletable": false,
    "editable": false,
    "replit": "https://repl.it/@sergeyepimakhov/LawngreenSqueakyGlobalarrays?lite=true",
    "run_control": {
     "frozen": true
    }
   },
   "outputs": [],
   "source": [
    "# urls.py\n",
    "from django.urls import path\n",
    "\n",
    "from . import views\n",
    "\n",
    "# /articles/075194d3-6885-417e-a8a8-6c931e272f00\n",
    "urlpatterns = [\n",
    "    path('articles/<uuid:uuid>/', views.article_detail_by_uuid)\n",
    "]\n",
    "\n",
    "# views.py\n",
    "def article_detail_by_uuid(request, uuid):\n",
    "    # do smth"
   ]
  },
  {
   "cell_type": "markdown",
   "metadata": {},
   "source": [
    "### Capture a Path"
   ]
  },
  {
   "cell_type": "code",
   "execution_count": null,
   "metadata": {
    "deletable": false,
    "editable": false,
    "run_control": {
     "frozen": true
    }
   },
   "outputs": [],
   "source": [
    "# urls.py\n",
    "from django.urls import path\n",
    "\n",
    "from . import views\n",
    "\n",
    "# /articles/archive/2019/10/11/_03\n",
    "urlpatterns = [\n",
    "    path('articles/<path:path>/', views.article_detail_by_path)\n",
    "]\n",
    "\n",
    "# views.py\n",
    "def article_detail_by_path(request, path):\n",
    "    # do smth"
   ]
  },
  {
   "cell_type": "code",
   "execution_count": null,
   "metadata": {},
   "outputs": [],
   "source": []
  },
  {
   "cell_type": "code",
   "execution_count": null,
   "metadata": {},
   "outputs": [],
   "source": []
  }
 ],
 "metadata": {
  "celltoolbar": "Edit Metadata",
  "kernelspec": {
   "display_name": "Python 3",
   "language": "python",
   "name": "python3"
  },
  "language_info": {
   "codemirror_mode": {
    "name": "ipython",
    "version": 3
   },
   "file_extension": ".py",
   "mimetype": "text/x-python",
   "name": "python",
   "nbconvert_exporter": "python",
   "pygments_lexer": "ipython3",
   "version": "3.7.1"
  }
 },
 "nbformat": 4,
 "nbformat_minor": 2
}
