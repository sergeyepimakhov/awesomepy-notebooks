{
 "cells": [
  {
   "cell_type": "markdown",
   "metadata": {},
   "source": [
    "# Python Logging\n",
    "\n",
    "Logging is essential part of development. Python provides a standard package <code>logging</code> that makes this job for your."
   ]
  },
  {
   "cell_type": "markdown",
   "metadata": {},
   "source": [
    "## Simple Example"
   ]
  },
  {
   "cell_type": "code",
   "execution_count": 1,
   "metadata": {},
   "outputs": [
    {
     "name": "stderr",
     "output_type": "stream",
     "text": [
      "WARNING:root:Warning message\n",
      "ERROR:root:Error message\n",
      "CRITICAL:root:Critical message\n"
     ]
    }
   ],
   "source": [
    "import logging\n",
    "\n",
    "logging.debug('Debug message')\n",
    "logging.info('Info message')\n",
    "logging.warning('Warning message')\n",
    "logging.error('Error message')\n",
    "logging.critical('Critical message')"
   ]
  },
  {
   "cell_type": "markdown",
   "metadata": {},
   "source": [
    "Info and debug messages do not appear because the default logging level is <code>WARNING</code>  "
   ]
  },
  {
   "cell_type": "markdown",
   "metadata": {},
   "source": [
    "## Set the logging Level\n",
    "### Debug Level"
   ]
  },
  {
   "cell_type": "code",
   "execution_count": 2,
   "metadata": {},
   "outputs": [
    {
     "name": "stderr",
     "output_type": "stream",
     "text": [
      "DEBUG:demo_module:Debug message\n",
      "INFO:demo_module:Info message\n",
      "WARNING:demo_module:Warning message\n",
      "ERROR:demo_module:Error message\n",
      "CRITICAL:demo_module:Critical message\n"
     ]
    }
   ],
   "source": [
    "import logging\n",
    "\n",
    "logger = logging.getLogger(\"demo_module\")\n",
    "logger.setLevel(logging.DEBUG) # INFO, WARNING, ERROR\n",
    "\n",
    "logger.debug('Debug message')\n",
    "logger.info('Info message')\n",
    "logger.warning('Warning message')\n",
    "logger.error('Error message')\n",
    "logger.critical('Critical message')"
   ]
  },
  {
   "cell_type": "markdown",
   "metadata": {},
   "source": [
    "Debug level will print all types of messages."
   ]
  },
  {
   "cell_type": "markdown",
   "metadata": {},
   "source": [
    "A good convention is to use a module-level logger, in each module which uses logging, named as follows:\n",
    "\n",
    "    logger = logging.getLogger(__name__)"
   ]
  },
  {
   "cell_type": "markdown",
   "metadata": {},
   "source": [
    "### Info Level"
   ]
  },
  {
   "cell_type": "code",
   "execution_count": 3,
   "metadata": {},
   "outputs": [
    {
     "name": "stderr",
     "output_type": "stream",
     "text": [
      "INFO:demo_module:Info message\n",
      "WARNING:demo_module:Warning message\n",
      "ERROR:demo_module:Error message\n",
      "CRITICAL:demo_module:Critical message\n"
     ]
    }
   ],
   "source": [
    "import logging\n",
    "\n",
    "logger = logging.getLogger(\"demo_module\")\n",
    "logger.setLevel(logging.INFO)\n",
    "\n",
    "logger.debug('Debug message')\n",
    "logger.info('Info message')\n",
    "logger.warning('Warning message')\n",
    "logger.error('Error message')\n",
    "logger.critical('Critical message')"
   ]
  },
  {
   "cell_type": "markdown",
   "metadata": {},
   "source": [
    "Hides debug messages"
   ]
  },
  {
   "cell_type": "markdown",
   "metadata": {},
   "source": [
    "### Warning Level"
   ]
  },
  {
   "cell_type": "code",
   "execution_count": 4,
   "metadata": {},
   "outputs": [
    {
     "name": "stderr",
     "output_type": "stream",
     "text": [
      "WARNING:demo_module:Warning message\n",
      "ERROR:demo_module:Error message\n",
      "CRITICAL:demo_module:Critical message\n"
     ]
    }
   ],
   "source": [
    "import logging\n",
    "\n",
    "logger = logging.getLogger(\"demo_module\")\n",
    "logger.setLevel(logging.WARNING)\n",
    "\n",
    "logger.debug('Debug message')\n",
    "logger.info('Info message')\n",
    "logger.warning('Warning message')\n",
    "logger.error('Error message')\n",
    "logger.critical('Critical message')"
   ]
  },
  {
   "cell_type": "markdown",
   "metadata": {},
   "source": [
    "Shows warning as well as error messages."
   ]
  },
  {
   "cell_type": "markdown",
   "metadata": {},
   "source": [
    "### Error Level"
   ]
  },
  {
   "cell_type": "code",
   "execution_count": 5,
   "metadata": {},
   "outputs": [
    {
     "name": "stderr",
     "output_type": "stream",
     "text": [
      "ERROR:demo_module:Error message\n",
      "CRITICAL:demo_module:Critical message\n"
     ]
    }
   ],
   "source": [
    "import logging\n",
    "\n",
    "logger = logging.getLogger(\"demo_module\")\n",
    "logger.setLevel(logging.ERROR)\n",
    "\n",
    "logger.debug('Debug message')\n",
    "logger.info('Info message')\n",
    "logger.warning('Warning message')\n",
    "logger.error('Error message')\n",
    "logger.critical('Critical message')"
   ]
  },
  {
   "cell_type": "markdown",
   "metadata": {},
   "source": [
    "Only error messages will be shown."
   ]
  },
  {
   "cell_type": "markdown",
   "metadata": {},
   "source": [
    "## Message format"
   ]
  },
  {
   "cell_type": "code",
   "execution_count": 6,
   "metadata": {},
   "outputs": [
    {
     "name": "stderr",
     "output_type": "stream",
     "text": [
      "2019-08-14 19:48:20|demo_module|DEBUG:Debug message\n",
      "DEBUG:demo_module:Debug message\n",
      "2019-08-14 19:48:20|demo_module|INFO:Info message\n",
      "INFO:demo_module:Info message\n",
      "2019-08-14 19:48:20|demo_module|WARNING:Warning message\n",
      "WARNING:demo_module:Warning message\n",
      "2019-08-14 19:48:20|demo_module|ERROR:Error message\n",
      "ERROR:demo_module:Error message\n",
      "2019-08-14 19:48:20|demo_module|CRITICAL:Critical message\n",
      "CRITICAL:demo_module:Critical message\n"
     ]
    }
   ],
   "source": [
    "import logging\n",
    "\n",
    "logger = logging.getLogger(\"demo_module\")\n",
    "logger.setLevel(logging.DEBUG)\n",
    "\n",
    "# create console handler and set level to debug\n",
    "stream_handler = logging.StreamHandler()\n",
    "formatter = logging.Formatter('%(asctime)s|%(name)s|%(levelname)s:%(message)s', \n",
    "                              \"%Y-%m-%d %H:%M:%S\") # change your format here\n",
    "stream_handler.setFormatter(formatter)\n",
    "# stream.setLevel(logging.INFO) # can be specified for for console\n",
    "\n",
    "# add handler to logger\n",
    "logger.addHandler(stream_handler)\n",
    "\n",
    "logger.debug('Debug message')\n",
    "logger.info('Info message')\n",
    "logger.warning('Warning message')\n",
    "logger.error('Error message')\n",
    "logger.critical('Critical message')"
   ]
  },
  {
   "cell_type": "markdown",
   "metadata": {
    "deletable": false,
    "editable": false
   },
   "source": [
    "## Write logs to File"
   ]
  },
  {
   "cell_type": "code",
   "execution_count": 7,
   "metadata": {
    "deletable": false,
    "editable": false
   },
   "outputs": [
    {
     "name": "stderr",
     "output_type": "stream",
     "text": [
      "2019-08-14 19:48:20|demo_module|DEBUG:Debug message\n",
      "DEBUG:demo_module:Debug message\n",
      "2019-08-14 19:48:20|demo_module|INFO:Info message\n",
      "INFO:demo_module:Info message\n",
      "2019-08-14 19:48:20|demo_module|WARNING:Warning message\n",
      "WARNING:demo_module:Warning message\n",
      "2019-08-14 19:48:20|demo_module|ERROR:Error message\n",
      "ERROR:demo_module:Error message\n",
      "2019-08-14 19:48:20|demo_module|CRITICAL:Critical message\n",
      "CRITICAL:demo_module:Critical message\n"
     ]
    }
   ],
   "source": [
    "import logging\n",
    "\n",
    "logger = logging.getLogger(\"demo_module\")\n",
    "logger.setLevel(logging.DEBUG)\n",
    "\n",
    "# create file handler which logs into a file\n",
    "file_handler = logging.FileHandler('demo_modlule.log')\n",
    "# file_handler.setLevel(logging.DEBUG)  # set different level\n",
    "\n",
    "# add handler to logger\n",
    "logger.addHandler(file_handler)\n",
    "\n",
    "logger.debug('Debug message')\n",
    "logger.info('Info message')\n",
    "logger.warning('Warning message')\n",
    "logger.error('Error message')\n",
    "logger.critical('Critical message')"
   ]
  },
  {
   "cell_type": "markdown",
   "metadata": {},
   "source": [
    "## Colors in Logs"
   ]
  },
  {
   "cell_type": "code",
   "execution_count": 8,
   "metadata": {},
   "outputs": [
    {
     "name": "stderr",
     "output_type": "stream",
     "text": [
      "2019-08-14 19:48:20|demo_module|DEBUG:Debug message\n",
      "2019-08-14 19:48:20|demo_module|DEBUG:Debug message\n",
      "DEBUG:demo_module:Debug message\n",
      "2019-08-14 19:48:20|demo_module|\u001b[32mINFO\u001b[0m:Info message\n",
      "2019-08-14 19:48:20|demo_module|\u001b[32mINFO\u001b[0m:Info message\n",
      "\u001b[32mINFO\u001b[0m:demo_module:Info message\n",
      "2019-08-14 19:48:20|demo_module|\u001b[33mWARNING\u001b[0m:Warning message\n",
      "2019-08-14 19:48:20|demo_module|\u001b[33mWARNING\u001b[0m:Warning message\n",
      "\u001b[33mWARNING\u001b[0m:demo_module:Warning message\n",
      "2019-08-14 19:48:20|demo_module|\u001b[31mERROR\u001b[0m:Error message\n",
      "2019-08-14 19:48:20|demo_module|\u001b[31mERROR\u001b[0m:Error message\n",
      "\u001b[31mERROR\u001b[0m:demo_module:Error message\n",
      "2019-08-14 19:48:20|demo_module|\u001b[35mCRITICAL\u001b[0m:Critical message\n",
      "2019-08-14 19:48:20|demo_module|\u001b[35mCRITICAL\u001b[0m:Critical message\n",
      "\u001b[35mCRITICAL\u001b[0m:demo_module:Critical message\n"
     ]
    }
   ],
   "source": [
    "import logging\n",
    "\n",
    "# set here ANSI colors\n",
    "# \n",
    "# INFO green [32m\n",
    "# WARNING yellow [33m\n",
    "# ERROR red [31m\n",
    "# CRITICAL magenta [35m\n",
    "logging.addLevelName(logging.INFO, \"\\033[32m%s\\033[0m\" % logging.getLevelName(logging.INFO))\n",
    "logging.addLevelName(logging.WARNING, \"\\033[33m%s\\033[0m\" % logging.getLevelName(logging.WARNING))\n",
    "logging.addLevelName(logging.ERROR, \"\\033[31m%s\\033[0m\" % logging.getLevelName(logging.ERROR))\n",
    "logging.addLevelName(logging.CRITICAL, \"\\033[35m%s\\033[0m\" % logging.getLevelName(logging.CRITICAL))\n",
    "\n",
    "logger = logging.getLogger(\"demo_module\")\n",
    "logger.setLevel(logging.DEBUG)\n",
    "\n",
    "# create console handler and set level to debug\n",
    "stream = logging.StreamHandler()\n",
    "formatter = logging.Formatter('%(asctime)s|%(name)s|%(levelname)s:%(message)s', \n",
    "                              \"%Y-%m-%d %H:%M:%S\") # change your format here\n",
    "stream.setFormatter(formatter)\n",
    "\n",
    "# add handler to logger\n",
    "logger.addHandler(stream)\n",
    "\n",
    "logger.debug('Debug message')\n",
    "logger.info('Info message')\n",
    "logger.warning('Warning message')\n",
    "logger.error('Error message')\n",
    "logger.critical('Critical message')"
   ]
  },
  {
   "cell_type": "markdown",
   "metadata": {},
   "source": [
    "## Using config File"
   ]
  }
 ],
 "metadata": {
  "kernelspec": {
   "display_name": "Python 3",
   "language": "python",
   "name": "python3"
  },
  "language_info": {
   "codemirror_mode": {
    "name": "ipython",
    "version": 3
   },
   "file_extension": ".py",
   "mimetype": "text/x-python",
   "name": "python",
   "nbconvert_exporter": "python",
   "pygments_lexer": "ipython3",
   "version": "3.7.1"
  },
  "nbTranslate": {
   "displayLangs": [
    "*"
   ],
   "hotkey": "alt-t",
   "langInMainMenu": true,
   "sourceLang": "en",
   "targetLang": "fr",
   "useGoogleTranslate": true
  }
 },
 "nbformat": 4,
 "nbformat_minor": 2
}
