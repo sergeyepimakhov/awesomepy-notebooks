{
 "cells": [
  {
   "cell_type": "markdown",
   "metadata": {},
   "source": [
    "## Regular Expressions\n",
    "\n",
    "Regular expressions are essential part of Python. It is a tiny, highly specialized programming language embedded inside Python and made available through the <code>re</code> module. Regular expressions serve for the typical problem of search and replace."
   ]
  },
  {
   "cell_type": "markdown",
   "metadata": {},
   "source": [
    "### Import module"
   ]
  },
  {
   "cell_type": "code",
   "execution_count": 392,
   "metadata": {},
   "outputs": [],
   "source": [
    "import re"
   ]
  },
  {
   "cell_type": "markdown",
   "metadata": {},
   "source": [
    "### Functions"
   ]
  },
  {
   "cell_type": "markdown",
   "metadata": {},
   "source": [
    "### Basic Features"
   ]
  },
  {
   "cell_type": "markdown",
   "metadata": {},
   "source": [
    "<table class=\"w3-section w3-table w3-bordered\">\n",
    "  <tr>\n",
    "    <th>Syntax</th>\n",
    "    <th>Feature</th>\n",
    "    <th>Description</th>\n",
    "  </tr>\n",
    "  <tr>\n",
    "    <td><code>.</code></td>\n",
    "    <td>any character</td>\n",
    "    <td>Matches any character except the newline <code>\\n</code>.</td>\n",
    "  </tr>\n",
    "</table>"
   ]
  },
  {
   "cell_type": "code",
   "execution_count": 393,
   "metadata": {},
   "outputs": [
    {
     "data": {
      "text/plain": [
       "['gray', 'grey', 'grAy', 'gr4y', 'gr@y']"
      ]
     },
     "execution_count": 393,
     "metadata": {},
     "output_type": "execute_result"
    }
   ],
   "source": [
    "string = 'gray, grey, grAy, gr4y, gr@y, gr\\ny grep'\n",
    "\n",
    "re.findall('gr.y', string)"
   ]
  },
  {
   "cell_type": "code",
   "execution_count": 394,
   "metadata": {},
   "outputs": [
    {
     "data": {
      "text/plain": [
       "['gray', 'grey', 'grAy', 'gr4y', 'gr@y', 'grep']"
      ]
     },
     "execution_count": 394,
     "metadata": {},
     "output_type": "execute_result"
    }
   ],
   "source": [
    "re.findall('gr..', string)"
   ]
  },
  {
   "cell_type": "markdown",
   "metadata": {},
   "source": [
    "<table class=\"w3-section w3-table w3-bordered\">\n",
    "  <tr>\n",
    "    <th>Syntax</th>\n",
    "    <th>Feature</th>\n",
    "    <th>Description</th>\n",
    "  </tr>\n",
    "  <tr>\n",
    "    <td><code>x|y</code></td>\n",
    "    <td>alternation</td>\n",
    "    <td>Matches either <code>x</code> or <code>y</code>.</td>\n",
    "  </tr>\n",
    "</table>"
   ]
  },
  {
   "cell_type": "code",
   "execution_count": 396,
   "metadata": {},
   "outputs": [
    {
     "data": {
      "text/plain": [
       "['colour', 'color']"
      ]
     },
     "execution_count": 396,
     "metadata": {},
     "output_type": "execute_result"
    }
   ],
   "source": [
    "string = 'colour and color are the same'\n",
    "\n",
    "# check if the string containes either 'color' or 'colour' \n",
    "re.findall('colour|color', string)"
   ]
  },
  {
   "cell_type": "markdown",
   "metadata": {},
   "source": [
    "Alternation is eager."
   ]
  },
  {
   "cell_type": "code",
   "execution_count": 397,
   "metadata": {},
   "outputs": [
    {
     "data": {
      "text/plain": [
       "['a']"
      ]
     },
     "execution_count": 397,
     "metadata": {},
     "output_type": "execute_result"
    }
   ],
   "source": [
    "# alternation returns the first alternative that matches\n",
    "re.findall('a|ab', 'ab')"
   ]
  },
  {
   "cell_type": "markdown",
   "metadata": {},
   "source": [
    "### Anchors"
   ]
  },
  {
   "cell_type": "markdown",
   "metadata": {},
   "source": [
    "<table class=\"w3-section w3-table w3-bordered\">\n",
    "  <tr>\n",
    "    <th>Syntax</th>\n",
    "    <th>Feature</th>\n",
    "    <th>Description</th>\n",
    "  </tr>\n",
    "  <tr>\n",
    "    <td><code>^x (or \\Ax) </code></td>\n",
    "    <td>string start</td>\n",
    "    <td>String starts with <code>x</code>.</td>\n",
    "  </tr>\n",
    "  <tr>\n",
    "    <td><code>^x</code></td>\n",
    "    <td>line start (optional)</td>\n",
    "    <td>Line starts with <code>x</code>. Option?</td>\n",
    "  </tr>\n",
    "</table>"
   ]
  },
  {
   "cell_type": "code",
   "execution_count": 398,
   "metadata": {},
   "outputs": [
    {
     "data": {
      "text/plain": [
       "['python']"
      ]
     },
     "execution_count": 398,
     "metadata": {},
     "output_type": "execute_result"
    }
   ],
   "source": [
    "string = 'python is awesome and easy to learn'\n",
    "\n",
    "# find the first word from the string\n",
    "re.findall('^\\w+', string)"
   ]
  },
  {
   "cell_type": "code",
   "execution_count": 399,
   "metadata": {},
   "outputs": [
    {
     "data": {
      "text/plain": [
       "['python']"
      ]
     },
     "execution_count": 399,
     "metadata": {},
     "output_type": "execute_result"
    }
   ],
   "source": [
    "# same but with \\A\n",
    "re.findall('\\A\\w+', string)"
   ]
  },
  {
   "cell_type": "code",
   "execution_count": 400,
   "metadata": {},
   "outputs": [
    {
     "data": {
      "text/plain": [
       "'hi awesomepy!'"
      ]
     },
     "execution_count": 400,
     "metadata": {},
     "output_type": "execute_result"
    }
   ],
   "source": [
    "string = '   hi awesomepy!'\n",
    "\n",
    "# left trim. Replace one or more whitespaces at the beginning of the line.\n",
    "string = re.sub('^\\s+', '', string)\n",
    "string"
   ]
  },
  {
   "cell_type": "markdown",
   "metadata": {},
   "source": [
    "<table class=\"w3-section w3-table w3-bordered\">\n",
    "  <tr>\n",
    "    <th>Syntax</th>\n",
    "    <th>Feature</th>\n",
    "    <th>Description</th>\n",
    "  </tr>\n",
    "  <tr>\n",
    "    <td><code>x$ (or x\\Z)</code></td>\n",
    "    <td>string end</td>\n",
    "    <td>String ends with <code>x</code>.</td>\n",
    "  </tr>\n",
    "  <tr>\n",
    "    <td><code>x$</code></td>\n",
    "    <td>line end (optional)</td>\n",
    "    <td>Line ends with <code>x</code>. Option?</td>\n",
    "  </tr>\n",
    "</table>"
   ]
  },
  {
   "cell_type": "code",
   "execution_count": 401,
   "metadata": {},
   "outputs": [
    {
     "data": {
      "text/plain": [
       "['learn']"
      ]
     },
     "execution_count": 401,
     "metadata": {},
     "output_type": "execute_result"
    }
   ],
   "source": [
    "string = 'python is awesome and easy to learn'\n",
    "\n",
    "# find the last word from the string\n",
    "re.findall('\\w+$', string)"
   ]
  },
  {
   "cell_type": "code",
   "execution_count": 402,
   "metadata": {},
   "outputs": [
    {
     "data": {
      "text/plain": [
       "['learn']"
      ]
     },
     "execution_count": 402,
     "metadata": {},
     "output_type": "execute_result"
    }
   ],
   "source": [
    "# same but with \\Z\n",
    "re.findall('\\w+\\Z', string)"
   ]
  },
  {
   "cell_type": "code",
   "execution_count": 403,
   "metadata": {},
   "outputs": [
    {
     "data": {
      "text/plain": [
       "'hi awesomepy!'"
      ]
     },
     "execution_count": 403,
     "metadata": {},
     "output_type": "execute_result"
    }
   ],
   "source": [
    "string = 'hi awesomepy!     '\n",
    "\n",
    "# right trim. Replace one or more whitespaces at the end of the line.\n",
    "string = re.sub('\\s+$', '', string)\n",
    "string"
   ]
  },
  {
   "cell_type": "markdown",
   "metadata": {},
   "source": [
    "<table class=\"w3-section w3-table w3-bordered\">\n",
    "  <tr>\n",
    "    <th>Syntax</th>\n",
    "    <th>Feature</th>\n",
    "    <th>Description</th>\n",
    "  </tr>\n",
    "  <tr>\n",
    "    <td><code>\\bword\\b (also \\bx or x\\b)</code></td>\n",
    "    <td>word boundaries</td>\n",
    "    <td>Matches a <code>word</code> that has word boundaries, i.e. whitespaces or special characters.</td>\n",
    "  </tr>\n",
    "  <tr>\n",
    "    <td><code>\\Bword\\B (also \\Bx or x\\B)</code></td>\n",
    "    <td>non-word boundaries</td>\n",
    "    <td>Matches a <code>word</code> that has non-word boundaries, i.e. literals, digits or underscores.</td>\n",
    "  </tr>\n",
    "  <tr>\n",
    "    <td><code>\\bword\\B (or \\Bword\\b)</code></td>\n",
    "    <td>mixed boundaries</td>\n",
    "    <td>Matches a <code>word</code> that has mixed boundaries.</td>\n",
    "  </tr>\n",
    "</table>"
   ]
  },
  {
   "cell_type": "code",
   "execution_count": 404,
   "metadata": {},
   "outputs": [
    {
     "data": {
      "text/plain": [
       "[' is ', ' is%', '$is ', '$is%']"
      ]
     },
     "execution_count": 404,
     "metadata": {},
     "output_type": "execute_result"
    }
   ],
   "source": [
    "string = 'is is is4 1is is% $is iiss 1is2 1is_ 4is& $is% is\\n'\n",
    "\n",
    "# find all the 'is'(s) that are surrounded with non-word characters and show their surroundings.\n",
    "re.findall(r'.\\bis\\b.', string) #"
   ]
  },
  {
   "cell_type": "code",
   "execution_count": 405,
   "metadata": {},
   "outputs": [
    {
     "data": {
      "text/plain": [
       "['iiss', '1is2', '1is_']"
      ]
     },
     "execution_count": 405,
     "metadata": {},
     "output_type": "execute_result"
    }
   ],
   "source": [
    "# the same but surrounded with word characters.\n",
    "re.findall(r'.\\Bis\\B.', string)"
   ]
  },
  {
   "cell_type": "code",
   "execution_count": 406,
   "metadata": {},
   "outputs": [
    {
     "data": {
      "text/plain": [
       "[' is4']"
      ]
     },
     "execution_count": 406,
     "metadata": {},
     "output_type": "execute_result"
    }
   ],
   "source": [
    "# now surrounded with non-word and word characters.\n",
    "re.findall(r'.\\bis\\B.', string)"
   ]
  },
  {
   "cell_type": "code",
   "execution_count": 407,
   "metadata": {},
   "outputs": [
    {
     "data": {
      "text/plain": [
       "['1is ', '4is&']"
      ]
     },
     "execution_count": 407,
     "metadata": {},
     "output_type": "execute_result"
    }
   ],
   "source": [
    "# raplace the boundaries.\n",
    "re.findall(r'.\\Bis\\b.', string)"
   ]
  },
  {
   "cell_type": "markdown",
   "metadata": {},
   "source": [
    "### Quantifiers"
   ]
  },
  {
   "cell_type": "markdown",
   "metadata": {},
   "source": [
    "<table class=\"w3-section w3-table w3-bordered\">\n",
    "  <tr>\n",
    "    <th>Syntax</th>\n",
    "    <th>Feature</th>\n",
    "    <th>Description</th>\n",
    "  </tr>\n",
    "  <tr>\n",
    "    <td><code>x?</code></td>\n",
    "    <td>optional character</td>\n",
    "    <td>The character <code>x</code> is optional.</td>\n",
    "  </tr>\n",
    "  <tr>\n",
    "    <td><code>x??</code></td>\n",
    "    <td>optional character (lazy)</td>\n",
    "    <td>The character x is optional. Lazy, so the x is excluded in the match if possible.</td>\n",
    "  </tr>\n",
    "</table>"
   ]
  },
  {
   "cell_type": "code",
   "execution_count": 408,
   "metadata": {},
   "outputs": [
    {
     "data": {
      "text/plain": [
       "['ab', 'abc']"
      ]
     },
     "execution_count": 408,
     "metadata": {},
     "output_type": "execute_result"
    }
   ],
   "source": [
    "string = \"ab abc bc ca\"\n",
    "re.findall('abc?', string)"
   ]
  },
  {
   "cell_type": "code",
   "execution_count": 409,
   "metadata": {},
   "outputs": [
    {
     "data": {
      "text/plain": [
       "['ab', 'ab']"
      ]
     },
     "execution_count": 409,
     "metadata": {},
     "output_type": "execute_result"
    }
   ],
   "source": [
    "re.findall('abc??', string)"
   ]
  },
  {
   "cell_type": "markdown",
   "metadata": {},
   "source": [
    "<table class=\"w3-section w3-table w3-bordered\">\n",
    "  <tr>\n",
    "    <th>Syntax</th>\n",
    "    <th>Feature</th>\n",
    "    <th>Description</th>\n",
    "  </tr>\n",
    "  <tr>\n",
    "    <td><code>x*</code></td>\n",
    "    <td>0 or more</td>\n",
    "    <td>Zero or more occurrences of <code>x</code>.</td>\n",
    "  </tr>\n",
    "  <tr>\n",
    "    <td><code>x*?</code></td>\n",
    "    <td>0 or more (lazy)</td>\n",
    "    <td>Zero or more occurrences of <code>x</code>, but as few times as possible</td>\n",
    "  </tr>\n",
    "</table>"
   ]
  },
  {
   "cell_type": "code",
   "execution_count": 410,
   "metadata": {},
   "outputs": [
    {
     "data": {
      "text/plain": [
       "['10', '10', '102', '1022', '102222', '10', '10']"
      ]
     },
     "execution_count": 410,
     "metadata": {},
     "output_type": "execute_result"
    }
   ],
   "source": [
    "string = '10, 101, 102, 1022, 102222, 1010, 112'\n",
    "\n",
    "# check if the string contains \"10\" followed by 0 or more \"2\" digits:\n",
    "re.findall('102*', string)"
   ]
  },
  {
   "cell_type": "code",
   "execution_count": 411,
   "metadata": {},
   "outputs": [
    {
     "data": {
      "text/plain": [
       "['10', '10', '10', '10', '10', '10', '10']"
      ]
     },
     "execution_count": 411,
     "metadata": {},
     "output_type": "execute_result"
    }
   ],
   "source": [
    "string = '10, 101, 102, 1022, 102222, 1010, 112'\n",
    "\n",
    "# check if the string contains \"10\" followed by 0 or more \"2\" digits:\n",
    "re.findall('102*?', string)"
   ]
  },
  {
   "cell_type": "markdown",
   "metadata": {},
   "source": [
    "<table class=\"w3-section w3-table w3-bordered\">\n",
    "  <tr>\n",
    "    <th>Syntax</th>\n",
    "    <th>Feature</th>\n",
    "    <th>Description</th>\n",
    "  </tr>\n",
    "  <tr>\n",
    "    <td><code>x+</code></td>\n",
    "    <td>1 or more</td>\n",
    "    <td>One or more occurrences of <code>x</code>.</td>\n",
    "  </tr>\n",
    "  <tr>\n",
    "    <td><code>x+?</code></td>\n",
    "    <td>1 or more (lazy)</td>\n",
    "    <td>One or more occurrences of <code>x</code>, but as few times as possible.</td>\n",
    "  </tr>\n",
    "</table>"
   ]
  },
  {
   "cell_type": "code",
   "execution_count": 412,
   "metadata": {},
   "outputs": [
    {
     "data": {
      "text/plain": [
       "['102', '1022', '102222']"
      ]
     },
     "execution_count": 412,
     "metadata": {},
     "output_type": "execute_result"
    }
   ],
   "source": [
    "string = '10, 101, 102, 1022, 102222, 1010, 201'\n",
    "\n",
    "# now check if the same string as above contains \"10\" followed by one or more \"2\" digits:\n",
    "re.findall('102+', string)"
   ]
  },
  {
   "cell_type": "code",
   "execution_count": 413,
   "metadata": {},
   "outputs": [
    {
     "data": {
      "text/plain": [
       "['102', '102', '102']"
      ]
     },
     "execution_count": 413,
     "metadata": {},
     "output_type": "execute_result"
    }
   ],
   "source": [
    "string = '10, 101, 102, 1022, 102222, 1010, 201'\n",
    "\n",
    "# now check if the same string as above contains \"10\" followed by one or more \"2\" digits:\n",
    "re.findall('102+?', string)"
   ]
  },
  {
   "cell_type": "markdown",
   "metadata": {},
   "source": [
    "<table class=\"w3-section w3-table w3-bordered\">\n",
    "  <tr>\n",
    "    <th>Syntax</th>\n",
    "    <th>Feature</th>\n",
    "    <th>Description</th>\n",
    "  </tr>\n",
    "  <tr>\n",
    "    <td><code>x{n}</code></td>\n",
    "    <td>fixed</td>\n",
    "    <td>Exactly <code>n</code> occurrences of <code>x</code>.</td>\n",
    "  </tr>\n",
    "  <tr>\n",
    "    <td><code>x{n,}</code></td>\n",
    "    <td><code>n</code> or more</td>\n",
    "    <td><code>n</code> or more occurrences of <code>x</code>.</td>\n",
    "  </tr>\n",
    "  <tr>\n",
    "    <td><code>x{,m}</code></td>\n",
    "    <td>0 through <code>n</code></td>\n",
    "    <td>From zero to <code>m</code> occurrences of <code>x</code>.</td>\n",
    "  </tr>\n",
    "  <tr>\n",
    "    <td><code>x{n,m}</code></td>\n",
    "    <td><code>n</code> through <code>m</code></td>\n",
    "    <td>From <code>n</code> to <code>m</code> occurrences of <code>x</code>.</td>\n",
    "  </tr>\n",
    "</table>"
   ]
  },
  {
   "cell_type": "code",
   "execution_count": 414,
   "metadata": {},
   "outputs": [
    {
     "data": {
      "text/plain": [
       "['python']"
      ]
     },
     "execution_count": 414,
     "metadata": {},
     "output_type": "execute_result"
    }
   ],
   "source": [
    "string = 'python pyython pyyyyython'\n",
    "re.findall('py{1}thon', string)"
   ]
  },
  {
   "cell_type": "code",
   "execution_count": 415,
   "metadata": {},
   "outputs": [
    {
     "data": {
      "text/plain": [
       "['python', 'pyython', 'pyyyyython']"
      ]
     },
     "execution_count": 415,
     "metadata": {},
     "output_type": "execute_result"
    }
   ],
   "source": [
    "re.findall('py{1,}thon', string)"
   ]
  },
  {
   "cell_type": "code",
   "execution_count": 416,
   "metadata": {},
   "outputs": [
    {
     "data": {
      "text/plain": [
       "['python', 'pyython']"
      ]
     },
     "execution_count": 416,
     "metadata": {},
     "output_type": "execute_result"
    }
   ],
   "source": [
    "re.findall('py{,2}thon', string)"
   ]
  },
  {
   "cell_type": "code",
   "execution_count": 417,
   "metadata": {},
   "outputs": [
    {
     "data": {
      "text/plain": [
       "['python', 'pyython']"
      ]
     },
     "execution_count": 417,
     "metadata": {},
     "output_type": "execute_result"
    }
   ],
   "source": [
    "re.findall('py{1,2}thon', string)"
   ]
  },
  {
   "cell_type": "markdown",
   "metadata": {},
   "source": [
    "<table class=\"w3-section w3-table w3-bordered\">\n",
    "  <tr>\n",
    "    <th>Syntax</th>\n",
    "    <th>Feature</th>\n",
    "    <th>Description</th>\n",
    "  </tr>\n",
    "  <tr>\n",
    "    <td><code>x{n,}?</code></td>\n",
    "    <td><code>n</code> or more (lazy)</td>\n",
    "    <td><code>n</code> or more occurrences of <code>x</code>, but as few times as possible.</td>\n",
    "  </tr>\n",
    "  <tr>\n",
    "    <td><code>x{,m}?</code></td>\n",
    "    <td>0 through <code>n</code> (lazy)</td>\n",
    "    <td>From zero to <code>m</code> occurrences of <code>x</code>, but as few times as possible.</td>\n",
    "  </tr>\n",
    "  <tr>\n",
    "    <td><code>x{n,m}?</code></td>\n",
    "    <td><code>n</code> through <code>m (lazy)</code></td>\n",
    "    <td>From <code>n</code> to <code>m</code> occurrences of <code>x</code>, but as few times as possible.</td>\n",
    "  </tr>\n",
    "</table>"
   ]
  },
  {
   "cell_type": "code",
   "execution_count": 418,
   "metadata": {},
   "outputs": [
    {
     "data": {
      "text/plain": [
       "['yyy', 'yyy', 'yyy']"
      ]
     },
     "execution_count": 418,
     "metadata": {},
     "output_type": "execute_result"
    }
   ],
   "source": [
    "string = 'py pyyy pyyyyyy'\n",
    "\n",
    "regex = re.compile('y{3,6}?')\n",
    "re.findall(regex, string) # py p/yyy/ p/yyy//yyy/"
   ]
  },
  {
   "cell_type": "code",
   "execution_count": 419,
   "metadata": {},
   "outputs": [
    {
     "data": {
      "text/plain": [
       "['yyy', 'yyy', 'yyy']"
      ]
     },
     "execution_count": 419,
     "metadata": {},
     "output_type": "execute_result"
    }
   ],
   "source": [
    "string = 'py pyyy pyyyyyy'\n",
    "\n",
    "regex = re.compile('y{3,}?')\n",
    "re.findall(regex, string) # py p/yyy/ p/yyy//yyy/"
   ]
  },
  {
   "cell_type": "code",
   "execution_count": 420,
   "metadata": {},
   "outputs": [
    {
     "data": {
      "text/plain": [
       "['',\n",
       " '',\n",
       " 'y',\n",
       " '',\n",
       " '',\n",
       " '',\n",
       " 'y',\n",
       " '',\n",
       " 'y',\n",
       " '',\n",
       " 'y',\n",
       " '',\n",
       " '',\n",
       " '',\n",
       " 'y',\n",
       " '',\n",
       " 'y',\n",
       " '',\n",
       " 'y',\n",
       " '',\n",
       " 'y',\n",
       " '',\n",
       " 'y',\n",
       " '',\n",
       " 'y',\n",
       " '']"
      ]
     },
     "execution_count": 420,
     "metadata": {},
     "output_type": "execute_result"
    }
   ],
   "source": [
    "string = 'py pyyy pyyyyyy'\n",
    "\n",
    "regex = re.compile('y{,3}?')\n",
    "re.findall(regex, string)"
   ]
  },
  {
   "cell_type": "markdown",
   "metadata": {},
   "source": [
    "### Sets and Ranges"
   ]
  },
  {
   "cell_type": "markdown",
   "metadata": {},
   "source": [
    "<table class=\"w3-section w3-table w3-bordered\">\n",
    "  <tr>\n",
    "    <th>Syntax</th>\n",
    "    <th>Feature</th>\n",
    "    <th>Description</th>\n",
    "  </tr>\n",
    "  <tr>\n",
    "    <td><code>[xyz]</code></td>\n",
    "    <td>set</td>\n",
    "    <td>Matches where one of the specified characters (<code>x</code>, <code>y</code>, or <code>z</code>) are present. Any character except <code>^-]\\</code> can be used. </td>\n",
    "  </tr>\n",
    "  <tr>\n",
    "    <td><code>[x-z]</code></td>\n",
    "    <td>range</td>\n",
    "    <td>Matches where one of the specified characters (from <code>x</code> to <code>z</code>) are present. Any character except <code>^-]\\</code> can be used. </td>\n",
    "  </tr>\n",
    "</table>"
   ]
  },
  {
   "cell_type": "code",
   "execution_count": 421,
   "metadata": {},
   "outputs": [
    {
     "data": {
      "text/plain": [
       "['x-axis', 'y-axis', 'z-axis']"
      ]
     },
     "execution_count": 421,
     "metadata": {},
     "output_type": "execute_result"
    }
   ],
   "source": [
    "string = 'x-axis, y-axis and z-axis'\n",
    "\n",
    "# find all three axes\n",
    "re.findall('[xyz]-axis', string)"
   ]
  },
  {
   "cell_type": "code",
   "execution_count": 422,
   "metadata": {},
   "outputs": [
    {
     "data": {
      "text/plain": [
       "['x-axis', 'y-axis', 'z-axis']"
      ]
     },
     "execution_count": 422,
     "metadata": {},
     "output_type": "execute_result"
    }
   ],
   "source": [
    "# same result but using the range from x to z.\n",
    "re.findall('[x-z]-axis', string)"
   ]
  },
  {
   "cell_type": "code",
   "execution_count": 423,
   "metadata": {},
   "outputs": [
    {
     "data": {
      "text/plain": [
       "['char=^',\n",
       " 'char=[',\n",
       " 'char=]',\n",
       " 'char=-',\n",
       " 'char=\"',\n",
       " 'char=§',\n",
       " 'char=$',\n",
       " 'char=\\\\',\n",
       " 'char=*',\n",
       " 'char=(',\n",
       " 'char=)']"
      ]
     },
     "execution_count": 423,
     "metadata": {},
     "output_type": "execute_result"
    }
   ],
   "source": [
    "# show how to escape special and reserved characters\n",
    "string = 'char=x char=y char=z char=^ char=[ char=] char=- char=\" char=§ char=$ char=\\\\ char=* char=( char=)'\n",
    "\n",
    "# find all special characters.\n",
    "re.findall('char=[\\^\\[\\]\\-\\\"§$\\\\\\*()]', string)"
   ]
  },
  {
   "cell_type": "markdown",
   "metadata": {},
   "source": [
    "<table class=\"w3-section w3-table w3-bordered\">\n",
    "  <tr>\n",
    "    <th>Syntax</th>\n",
    "    <th>Feature</th>\n",
    "    <th>Description</th>\n",
    "  </tr>\n",
    "  <tr>\n",
    "    <td><code>[^xyz]</code></td>\n",
    "    <td>negated set</td>\n",
    "    <td>Matches for any character EXCEPT <code>x</code>, <code>y</code>, and <code>z</code>. Any character except <code>^-]\\</code> can be used.</td>\n",
    "  </tr>\n",
    "  <tr>\n",
    "    <td><code>[^x-z]</code></td>\n",
    "    <td>negated range</td>\n",
    "    <td>Matches for any character EXCEPT characters from <code>x</code> to <code>z</code>. Any character except <code>^-]\\</code> can be used.</td>\n",
    "  </tr>\n",
    "</table>"
   ]
  },
  {
   "cell_type": "code",
   "execution_count": 424,
   "metadata": {},
   "outputs": [
    {
     "data": {
      "text/plain": [
       "['x-axis', 'y-axis']"
      ]
     },
     "execution_count": 424,
     "metadata": {},
     "output_type": "execute_result"
    }
   ],
   "source": [
    "string = 'x-axis, y-axis and z-axis'\n",
    "\n",
    "# find all axes except z.\n",
    "re.findall('[^z]-axis', string)"
   ]
  },
  {
   "cell_type": "code",
   "execution_count": 425,
   "metadata": {},
   "outputs": [
    {
     "data": {
      "text/plain": [
       "[]"
      ]
     },
     "execution_count": 425,
     "metadata": {},
     "output_type": "execute_result"
    }
   ],
   "source": [
    "# all the axis except the ones from x to z.\n",
    "re.findall('[^x-z]-axis', string)"
   ]
  },
  {
   "cell_type": "code",
   "execution_count": 426,
   "metadata": {},
   "outputs": [
    {
     "data": {
      "text/plain": [
       "['char=x', 'char=y', 'char=z']"
      ]
     },
     "execution_count": 426,
     "metadata": {},
     "output_type": "execute_result"
    }
   ],
   "source": [
    "# show how to escape special and reserved characters\n",
    "string = 'char=x char=y char=z char=^ char=[ char=] char=- char=\" char=§ char=$ char=\\\\ char=* char=( char=)'\n",
    "\n",
    "# find all except the special ones.\n",
    "re.findall('char=[^\\^\\[\\]\\-\\\"§$\\\\\\*()]', string)"
   ]
  },
  {
   "cell_type": "markdown",
   "metadata": {},
   "source": [
    "<table class=\"w3-section w3-table w3-bordered\">\n",
    "  <tr>\n",
    "    <th>Syntax</th>\n",
    "    <th>Feature</th>\n",
    "    <th>Description</th>\n",
    "  </tr>\n",
    "  <tr>\n",
    "    <td><code>[123]</code></td>\n",
    "    <td>set</td>\n",
    "      <td>Matches where any of the specified digits (<code>1</code>, <code>2</code>, or <code>3</code>) are present.</td>\n",
    "  </tr>\n",
    "  <tr>\n",
    "    <td><code>[1-3]</code></td>\n",
    "    <td>range</td>\n",
    "    <td>Matches where any of the specified digits from <code>1</code> to <code>3</code> are present.</td>\n",
    "  </tr>\n",
    "</table>"
   ]
  },
  {
   "cell_type": "code",
   "execution_count": 427,
   "metadata": {},
   "outputs": [
    {
     "data": {
      "text/plain": [
       "['x1', 'x2', 'x3']"
      ]
     },
     "execution_count": 427,
     "metadata": {},
     "output_type": "execute_result"
    }
   ],
   "source": [
    "string = 'x1 x2 x3 x4 x5'\n",
    "re.findall('x[123]', string)"
   ]
  },
  {
   "cell_type": "code",
   "execution_count": 428,
   "metadata": {},
   "outputs": [
    {
     "data": {
      "text/plain": [
       "['x1', 'x2', 'x3']"
      ]
     },
     "execution_count": 428,
     "metadata": {},
     "output_type": "execute_result"
    }
   ],
   "source": [
    "re.findall('x[1-3]', string) # the same but as a range"
   ]
  },
  {
   "cell_type": "markdown",
   "metadata": {},
   "source": [
    "<table class=\"w3-section w3-table w3-bordered\">\n",
    "  <tr>\n",
    "    <th>Syntax</th>\n",
    "    <th>Feature</th>\n",
    "    <th>Description</th>\n",
    "  </tr>\n",
    "  <tr>\n",
    "    <td><code>[^123]</code></td>\n",
    "    <td>set</td>\n",
    "      <td>Matches any digits EXCEPT <code>1</code>, <code>2</code>, and <code>3</code>.</td>\n",
    "  </tr>\n",
    "  <tr>\n",
    "    <td><code>[^1-3]</code></td>\n",
    "    <td>range</td>\n",
    "    <td>Matches any digits EXCEPT digits from <code>1</code> to <code>3</code>.</td>\n",
    "  </tr>\n",
    "</table>"
   ]
  },
  {
   "cell_type": "code",
   "execution_count": 429,
   "metadata": {},
   "outputs": [
    {
     "data": {
      "text/plain": [
       "['x4', 'x5']"
      ]
     },
     "execution_count": 429,
     "metadata": {},
     "output_type": "execute_result"
    }
   ],
   "source": [
    "re.findall('x[^123]', string)"
   ]
  },
  {
   "cell_type": "code",
   "execution_count": 430,
   "metadata": {},
   "outputs": [
    {
     "data": {
      "text/plain": [
       "['x4', 'x5']"
      ]
     },
     "execution_count": 430,
     "metadata": {},
     "output_type": "execute_result"
    }
   ],
   "source": [
    "re.findall('x[^1-3]', string) # the same but as a range"
   ]
  },
  {
   "cell_type": "markdown",
   "metadata": {},
   "source": [
    "### Shorthands"
   ]
  },
  {
   "cell_type": "markdown",
   "metadata": {},
   "source": [
    "<table class=\"w3-section w3-table w3-bordered\">\n",
    "  <tr>\n",
    "    <th>Syntax</th>\n",
    "    <th>Feature</th>\n",
    "    <th>Description</th>\n",
    "  </tr>\n",
    "  <tr>\n",
    "    <td><code>\\w</code></td>\n",
    "    <td>word character</td>\n",
    "    <td>Matches a word character, including digits and the underscore. This is equivalent to <code>[a-zA-Z0-9_]</code>.</td>\n",
    "  </tr>\n",
    "</table>"
   ]
  },
  {
   "cell_type": "code",
   "execution_count": 433,
   "metadata": {},
   "outputs": [
    {
     "data": {
      "text/plain": [
       "['column1', 'column2']"
      ]
     },
     "execution_count": 433,
     "metadata": {},
     "output_type": "execute_result"
    }
   ],
   "source": [
    "string = 'column1\\tcolumn2\\n'\n",
    "\n",
    "# the same as above. Find names of colums using only \\w. The tab \\t and the newline \\n are ignored.\n",
    "re.findall('\\w+', string)"
   ]
  },
  {
   "cell_type": "markdown",
   "metadata": {},
   "source": [
    "<table class=\"w3-section w3-table w3-bordered\">\n",
    "  <tr>\n",
    "    <th>Syntax</th>\n",
    "    <th>Feature</th>\n",
    "    <th>Description</th>\n",
    "  </tr>\n",
    "  <tr>\n",
    "    <td><code>\\W</code></td>\n",
    "    <td>non-word character</td>\n",
    "    <td>Matches a non-word character. This is equivalent to <code>[^a-zA-Z0-9_]</code>.</td>\n",
    "  </tr>\n",
    "</table>"
   ]
  },
  {
   "cell_type": "code",
   "execution_count": 434,
   "metadata": {},
   "outputs": [
    {
     "data": {
      "text/plain": [
       "['\\t', '\\n']"
      ]
     },
     "execution_count": 434,
     "metadata": {},
     "output_type": "execute_result"
    }
   ],
   "source": [
    "# Now only tab and newline are found.\n",
    "re.findall('\\W+', string)"
   ]
  },
  {
   "cell_type": "markdown",
   "metadata": {},
   "source": [
    "<table class=\"w3-section w3-table w3-bordered\">\n",
    "  <tr>\n",
    "    <th>Syntax</th>\n",
    "    <th>Feature</th>\n",
    "    <th>Description</th>\n",
    "  </tr>\n",
    "  <tr>\n",
    "    <td><code>\\d</code></td>\n",
    "    <td>digit</td>\n",
    "    <td>Matches a digit. This is equivalent to <code>[0-9]</code>.</td>\n",
    "  </tr>\n",
    "</table>"
   ]
  },
  {
   "cell_type": "code",
   "execution_count": 435,
   "metadata": {},
   "outputs": [
    {
     "data": {
      "text/plain": [
       "['6.67408e-11']"
      ]
     },
     "execution_count": 435,
     "metadata": {},
     "output_type": "execute_result"
    }
   ],
   "source": [
    "string = 'gravitational constant: 6.67408e-11 m^3 kg^-1 s^-2'\n",
    "\n",
    "# Find value of the constant.\n",
    "re.findall('\\d+.\\d+e-?\\d+', string)"
   ]
  },
  {
   "cell_type": "markdown",
   "metadata": {},
   "source": [
    "<table class=\"w3-section w3-table w3-bordered\">\n",
    "  <tr>\n",
    "    <th>Syntax</th>\n",
    "    <th>Feature</th>\n",
    "    <th>Description</th>\n",
    "  </tr>\n",
    "  <tr>\n",
    "    <td><code>\\D</code></td>\n",
    "    <td>non-digit</td>\n",
    "    <td>Matches a non-digit. This is equivalent to <code>[^0-9]</code>.</td>\n",
    "  </tr>\n",
    "</table>"
   ]
  },
  {
   "cell_type": "code",
   "execution_count": 436,
   "metadata": {},
   "outputs": [
    {
     "data": {
      "text/plain": [
       "['gravitational constant: ', '.', 'e-', ' m^', ' kg^-', ' s^-']"
      ]
     },
     "execution_count": 436,
     "metadata": {},
     "output_type": "execute_result"
    }
   ],
   "source": [
    "string = 'gravitational constant: 6.67408e-11 m^3 kg^-1 s^-2'\n",
    "\n",
    "# Find all non-digits.\n",
    "re.findall('\\D+', string)"
   ]
  },
  {
   "cell_type": "markdown",
   "metadata": {},
   "source": [
    "<table class=\"w3-section w3-table w3-bordered\">\n",
    "  <tr>\n",
    "    <th>Syntax</th>\n",
    "    <th>Feature</th>\n",
    "    <th>Description</th>\n",
    "  </tr>\n",
    "  <tr>\n",
    "    <td><code>\\s</code></td>\n",
    "    <td>whitespace</td>\n",
    "    <td>Matches a whitespace. This is equivalent to <code>[ \\t\\n\\r\\f\\v]</code>.</td>\n",
    "  </tr>\n",
    "</table>"
   ]
  },
  {
   "cell_type": "code",
   "execution_count": 437,
   "metadata": {},
   "outputs": [
    {
     "data": {
      "text/plain": [
       "['a sting with a neccessary trimming']"
      ]
     },
     "execution_count": 437,
     "metadata": {},
     "output_type": "execute_result"
    }
   ],
   "source": [
    "string = \"   a sting with a neccessary trimming     \"\n",
    "\n",
    "# Select trimmed part of the string. \n",
    "re.findall('^[\\s]*(.*?)[\\s]*$', string)"
   ]
  },
  {
   "cell_type": "markdown",
   "metadata": {},
   "source": [
    "<table class=\"w3-section w3-table w3-bordered\">\n",
    "  <tr>\n",
    "    <th>Syntax</th>\n",
    "    <th>Feature</th>\n",
    "    <th>Description</th>\n",
    "  </tr>\n",
    "  <tr>\n",
    "    <td><code>\\S</code></td>\n",
    "    <td>non-whitespace</td>\n",
    "    <td>Matches a non-whitespace. This is equivalent to <code>[^ \\t\\n\\r\\f\\v]</code>.</td>\n",
    "  </tr>\n",
    "</table>"
   ]
  },
  {
   "cell_type": "code",
   "execution_count": 438,
   "metadata": {},
   "outputs": [
    {
     "data": {
      "text/plain": [
       "['column1', 'column2']"
      ]
     },
     "execution_count": 438,
     "metadata": {},
     "output_type": "execute_result"
    }
   ],
   "source": [
    "string = 'column1 \\t column2 \\n'\n",
    "\n",
    "# Find all \"non-whitespaces\".\n",
    "re.findall('\\S+', string)"
   ]
  },
  {
   "cell_type": "markdown",
   "metadata": {},
   "source": [
    "### Parentheses"
   ]
  },
  {
   "cell_type": "markdown",
   "metadata": {},
   "source": [
    "#### (x)\n",
    "Capture and group"
   ]
  },
  {
   "cell_type": "code",
   "execution_count": 441,
   "metadata": {},
   "outputs": [
    {
     "data": {
      "text/plain": [
       "'awesomepy.edu'"
      ]
     },
     "execution_count": 441,
     "metadata": {},
     "output_type": "execute_result"
    }
   ],
   "source": [
    "string = 'awesomepy.com'\n",
    "\n",
    "# find and repalace 'com' to edu\n",
    "re.sub('com', 'edu', string)"
   ]
  },
  {
   "cell_type": "code",
   "execution_count": 442,
   "metadata": {},
   "outputs": [
    {
     "data": {
      "text/plain": [
       "'awesomepy.edu'"
      ]
     },
     "execution_count": 442,
     "metadata": {},
     "output_type": "execute_result"
    }
   ],
   "source": [
    "string = 'awesomepy.com'\n",
    "\n",
    "# now we keep 'awesomepy' and concatenate it with '.edu', using group 1\n",
    "re.sub('(awesomepy).com', r'\\1.edu', string)"
   ]
  },
  {
   "cell_type": "markdown",
   "metadata": {},
   "source": [
    "#### (?aiLmsux)x\n",
    "Matching using inline flags.\n",
    " - a - ASCII-only matching\n",
    " - i - ignore case\n",
    " - L - locale dependent\n",
    " - m - multi-line\n",
    " - s - dot matches all\n",
    " - u - Unicode matching\n",
    " - x - verbose"
   ]
  },
  {
   "cell_type": "markdown",
   "metadata": {},
   "source": [
    "a - ASCII-only matching ?????????????"
   ]
  },
  {
   "cell_type": "code",
   "execution_count": 443,
   "metadata": {},
   "outputs": [
    {
     "name": "stdout",
     "output_type": "stream",
     "text": [
      "'awesomepy.c\\xf6m'\n"
     ]
    }
   ],
   "source": [
    "string = 'awesomepy.cöm'\n",
    "ascii_string = ascii(string)\n",
    "print(ascii_string)"
   ]
  },
  {
   "cell_type": "code",
   "execution_count": 444,
   "metadata": {},
   "outputs": [
    {
     "data": {
      "text/plain": [
       "'awesomepy.com'"
      ]
     },
     "execution_count": 444,
     "metadata": {},
     "output_type": "execute_result"
    }
   ],
   "source": [
    "# find and replace 'cöm' to 'com' using the normal way\n",
    "re.sub('(?:(cöm))', 'com', string)"
   ]
  },
  {
   "cell_type": "code",
   "execution_count": 445,
   "metadata": {},
   "outputs": [
    {
     "data": {
      "text/plain": [
       "'awesomepy.com'"
      ]
     },
     "execution_count": 445,
     "metadata": {},
     "output_type": "execute_result"
    }
   ],
   "source": [
    "# find and replace 'cöm' to 'com' using ASCII-code instead\n",
    "re.sub('(?a:(c\\xf6m))', 'com', string)"
   ]
  },
  {
   "cell_type": "code",
   "execution_count": 446,
   "metadata": {},
   "outputs": [
    {
     "data": {
      "text/plain": [
       "'awesomepy.com'"
      ]
     },
     "execution_count": 446,
     "metadata": {},
     "output_type": "execute_result"
    }
   ],
   "source": [
    "# same without 'a' ????????\n",
    "re.sub('(?:(c\\xf6m))', 'com', string)"
   ]
  },
  {
   "cell_type": "markdown",
   "metadata": {},
   "source": [
    "i - ignore case"
   ]
  },
  {
   "cell_type": "code",
   "execution_count": 447,
   "metadata": {},
   "outputs": [
    {
     "data": {
      "text/plain": [
       "'awesomepy.edu aWesomepy.edu'"
      ]
     },
     "execution_count": 447,
     "metadata": {},
     "output_type": "execute_result"
    }
   ],
   "source": [
    "string = 'awesomepy.com aWesomepy.com'\n",
    "\n",
    "re.sub('(?i:(awesomepy)\\.com)', r'\\1.edu', string)"
   ]
  },
  {
   "cell_type": "markdown",
   "metadata": {},
   "source": [
    "x - verbose"
   ]
  },
  {
   "cell_type": "code",
   "execution_count": 448,
   "metadata": {},
   "outputs": [
    {
     "data": {
      "text/plain": [
       "['9.10938356']"
      ]
     },
     "execution_count": 448,
     "metadata": {},
     "output_type": "execute_result"
    }
   ],
   "source": [
    "string = \"electron mass: 9.10938356e-31 kg\"\n",
    "\n",
    "a = re.compile(r\"\"\"\\d +  # the integral part\n",
    "                   \\.    # the decimal point\n",
    "                   \\d *  # some fractional digits\"\"\", re.X)\n",
    "\n",
    "re.findall(a, string)"
   ]
  },
  {
   "cell_type": "markdown",
   "metadata": {},
   "source": [
    "### Special Groups\n",
    "They returning only the result: match or no match. They do not consume characters in the string, but only assert whether a match is possible or not. Lookaround allows to create regular expressions that are impossible to create without them."
   ]
  },
  {
   "cell_type": "markdown",
   "metadata": {},
   "source": [
    "<table class=\"w3-section w3-table w3-bordered\">\n",
    "  <tr>\n",
    "    <th>Syntax</th>\n",
    "    <th>Feature</th>\n",
    "    <th>Description</th>\n",
    "  </tr>\n",
    "  <tr>\n",
    "    <td><code>x(?=y)</code></td>\n",
    "    <td>Positive lookahead</td>\n",
    "    <td>Matches a <code>x</code> that is followed by a <code>y</code>, without making the <code>y</code> part of the match.</td>\n",
    "  </tr>\n",
    "</table>"
   ]
  },
  {
   "cell_type": "code",
   "execution_count": 449,
   "metadata": {},
   "outputs": [
    {
     "data": {
      "text/plain": [
       "'stree*s'"
      ]
     },
     "execution_count": 449,
     "metadata": {},
     "output_type": "execute_result"
    }
   ],
   "source": [
    "string = \"streets\"\n",
    "\n",
    "# matches the second t in streets.\n",
    "patt = re.compile('t(?=s)')\n",
    "re.sub(patt, '*', string)"
   ]
  },
  {
   "cell_type": "markdown",
   "metadata": {},
   "source": [
    "<table class=\"w3-section w3-table w3-bordered\">\n",
    "  <tr>\n",
    "    <th>Syntax</th>\n",
    "    <th>Feature</th>\n",
    "    <th>Description</th>\n",
    "  </tr>\n",
    "  <tr>\n",
    "    <td><code>x(?!y)</code></td>\n",
    "    <td>Negative lookahead</td>\n",
    "    <td>Matches a <code>x</code> that is NOT followed by a <code>y</code>, without making the <code>y</code> part of them.</td>\n",
    "  </tr>\n",
    "</table>"
   ]
  },
  {
   "cell_type": "code",
   "execution_count": 450,
   "metadata": {},
   "outputs": [
    {
     "data": {
      "text/plain": [
       "'s*reets'"
      ]
     },
     "execution_count": 450,
     "metadata": {},
     "output_type": "execute_result"
    }
   ],
   "source": [
    "string = \"streets\"\n",
    "\n",
    "# matches the first t in streets.\n",
    "patt = re.compile('t(?!s)')\n",
    "re.sub(patt, '*', string)"
   ]
  },
  {
   "cell_type": "markdown",
   "metadata": {},
   "source": [
    "<table class=\"w3-section w3-table w3-bordered\">\n",
    "  <tr>\n",
    "    <th>Syntax</th>\n",
    "    <th>Feature</th>\n",
    "    <th>Description</th>\n",
    "  </tr>\n",
    "  <tr>\n",
    "    <td><code>(?<=y)x</code></td>\n",
    "    <td>Positive lookbehind</td>\n",
    "    <td>Same as positive lookahead, but works backwards.</td>\n",
    "  </tr>\n",
    "</table>"
   ]
  },
  {
   "cell_type": "code",
   "execution_count": 451,
   "metadata": {},
   "outputs": [
    {
     "data": {
      "text/plain": [
       "'s*reets'"
      ]
     },
     "execution_count": 451,
     "metadata": {},
     "output_type": "execute_result"
    }
   ],
   "source": [
    "string = 'streets'\n",
    "\n",
    "# matches the first t in streets.\n",
    "patt = re.compile('(?<=s)t')\n",
    "re.sub(patt, '*', string)"
   ]
  },
  {
   "cell_type": "markdown",
   "metadata": {},
   "source": [
    "<table class=\"w3-section w3-table w3-bordered\">\n",
    "  <tr>\n",
    "    <th>Syntax</th>\n",
    "    <th>Feature</th>\n",
    "    <th>Description</th>\n",
    "  </tr>\n",
    "  <tr>\n",
    "    <td><code>(?<&#33;y)x</code></td>\n",
    "    <td>Negative lookbehind</td>\n",
    "    <td>Same as negative lookahead, but works backwards.</td>\n",
    "  </tr>\n",
    "</table>"
   ]
  },
  {
   "cell_type": "code",
   "execution_count": 452,
   "metadata": {},
   "outputs": [
    {
     "data": {
      "text/plain": [
       "'stree*s'"
      ]
     },
     "execution_count": 452,
     "metadata": {},
     "output_type": "execute_result"
    }
   ],
   "source": [
    "string = 'streets'\n",
    "\n",
    "# matches the second t in streets.\n",
    "patt = re.compile('(?<!s)t')\n",
    "re.sub(patt, '*', string)"
   ]
  },
  {
   "cell_type": "markdown",
   "metadata": {},
   "source": [
    "### Control Characters"
   ]
  },
  {
   "cell_type": "markdown",
   "metadata": {},
   "source": [
    "<table class=\"w3-section w3-table w3-bordered\">\n",
    "  <tr>\n",
    "    <th>Syntax</th>\n",
    "    <th>Feature</th>\n",
    "    <th>Description</th>\n",
    "  </tr>\n",
    "  <tr>\n",
    "    <td><code>\\t</code></td>\n",
    "    <td>tab</td>\n",
    "    <td>Matches a tab character (ASCII 0x09).</td>\n",
    "  </tr>\n",
    "  <tr>\n",
    "    <td><code>\\n</code></td>\n",
    "    <td>newline</td>\n",
    "    <td>Matches a new line character (ASCII 0x0A).</td>\n",
    "  </tr>\n",
    "  <tr>\n",
    "    <td><code>\\r</code></td>\n",
    "    <td>carriage return</td>\n",
    "    <td>Matches a carriage return character (ASCII 0x0D).</td>\n",
    "  </tr>\n",
    "  <tr>\n",
    "    <td><code>\\f</code></td>\n",
    "    <td>form feed</td>\n",
    "    <td>Matches a form feed character (ASCII 0x0C).</td>\n",
    "  </tr>\n",
    "  <tr>\n",
    "    <td><code>\\v</code></td>\n",
    "    <td>vertical tab</td>\n",
    "    <td>Matches a vertical tab character (ASCII 0x0B).</td>\n",
    "  </tr>\n",
    "  <tr>\n",
    "    <td><code>\\a</code></td>\n",
    "    <td>alert control character</td>\n",
    "    <td>Matches \"alert\" or \"bell\" control character (ASCII 0x07).</td>\n",
    "  </tr>\n",
    "  <tr>\n",
    "    <td><code>\\b</code></td>\n",
    "    <td>backspace control character</td>\n",
    "    <td>Matches \"backspace\" control character(ASCII 0x08).</td>\n",
    "  </tr>\n",
    "</table>"
   ]
  },
  {
   "cell_type": "code",
   "execution_count": 508,
   "metadata": {},
   "outputs": [
    {
     "data": {
      "text/plain": [
       "['tab:', 'return:', 'feed:', 'tab:', 'newline:']"
      ]
     },
     "execution_count": 508,
     "metadata": {},
     "output_type": "execute_result"
    }
   ],
   "source": [
    "string = 'tab:\\t, cariage return:\\r, form feed:\\f, vertical tab:\\v newline:\\n'\n",
    "\n",
    "# find all names of the escape characters.\n",
    "re.findall(r'\\w+:(?=[\\t\\r\\f\\v\\n])', string)"
   ]
  },
  {
   "cell_type": "markdown",
   "metadata": {},
   "source": [
    "## Cookbook"
   ]
  },
  {
   "cell_type": "markdown",
   "metadata": {},
   "source": [
    "### Find IPv4 Address"
   ]
  },
  {
   "cell_type": "code",
   "execution_count": 453,
   "metadata": {},
   "outputs": [
    {
     "name": "stdout",
     "output_type": "stream",
     "text": [
      "<re.Match object; span=(0, 11), match='192.168.0.1'>\n",
      "<re.Match object; span=(0, 13), match='255.255.255.0'>\n",
      "<re.Match object; span=(0, 7), match='0.0.0.0'>\n",
      "<re.Match object; span=(0, 9), match='127.0.0.1'>\n",
      "None\n"
     ]
    }
   ],
   "source": [
    "strings = ['192.168.0.1',\n",
    "           '255.255.255.0',\n",
    "           '0.0.0.0',\n",
    "           '127.0.0.1',\n",
    "           '256.0.0.1']\n",
    "\n",
    "for s in strings:\n",
    "    print(re.search('^(?:(?:25[0-5]|2[0-4]\\d|[01]?\\d\\d?)\\.){3}(?:25[0-5]|2[0-4]\\d|[01]?\\d\\d?)$', s))"
   ]
  },
  {
   "cell_type": "markdown",
   "metadata": {},
   "source": [
    "### Password Validator"
   ]
  },
  {
   "cell_type": "code",
   "execution_count": 454,
   "metadata": {},
   "outputs": [
    {
     "name": "stdout",
     "output_type": "stream",
     "text": [
      "None\n",
      "None\n",
      "None\n",
      "None\n",
      "<re.Match object; span=(0, 0), match=''>\n"
     ]
    }
   ],
   "source": [
    "passwords = ['qwerty',\n",
    "             'qwerty123',\n",
    "             '12345678',\n",
    "             'xbv5sFs_67TT',\n",
    "             'AbCFfff&/FF678_']\n",
    "\n",
    "patt = re.compile(r\"\"\"^                   # starts with\n",
    "                      (?=.*[a-z])         # at least 1 lowercase alphabetical character\n",
    "                      (?=.*[A-Z])         # at least 1 uppercase alphabetical character\n",
    "                      (?=.*[0-9])         # at least 1 numeric character\n",
    "                      (?=.*[!@#\\$%\\^&\\*]) # at least 1 special character\n",
    "                      (?=.{8,})           # at least 8 characters\"\"\", re.X)\n",
    "\n",
    "for s in passwords:\n",
    "    print(re.search(patt, s))"
   ]
  },
  {
   "cell_type": "markdown",
   "metadata": {},
   "source": [
    "### Find URL (HTTP, HTTPS or FTP)"
   ]
  },
  {
   "cell_type": "code",
   "execution_count": 511,
   "metadata": {},
   "outputs": [
    {
     "name": "stdout",
     "output_type": "stream",
     "text": [
      "<re.Match object; span=(0, 11), match='example.com'>\n",
      "<re.Match object; span=(0, 22), match='example.com/index.html'>\n",
      "None\n",
      "<re.Match object; span=(0, 18), match='http://example.com'>\n",
      "<re.Match object; span=(0, 26), match='ftp://example.com/contacts'>\n",
      "<re.Match object; span=(0, 28), match='https://example.edu/send.php'>\n"
     ]
    }
   ],
   "source": [
    "urls = ['example.com',\n",
    "       'example.com/index.html',\n",
    "       'not-valid-url@smt.com',\n",
    "       'http://example.com',\n",
    "       'ftp://example.com/contacts',\n",
    "       'https://example.edu/send.php']\n",
    "\n",
    "patt = re.compile(r'^(((https?|ftp):\\/\\/)?([\\w\\-\\.])+(\\.)([\\w]){2,4}([\\w\\/+=%&_\\.~?\\-]*))*$')\n",
    "\n",
    "for s in urls:\n",
    "    print(re.search(patt, s))"
   ]
  },
  {
   "cell_type": "markdown",
   "metadata": {},
   "source": [
    "### Find E-Mail Address"
   ]
  },
  {
   "cell_type": "code",
   "execution_count": 513,
   "metadata": {},
   "outputs": [
    {
     "name": "stdout",
     "output_type": "stream",
     "text": [
      "<re.Match object; span=(0, 24), match='name.surname@example.com'>\n",
      "None\n",
      "<re.Match object; span=(0, 23), match='qwerty123445@sample.edu'>\n"
     ]
    }
   ],
   "source": [
    "emails = ['name.surname@example.com',\n",
    "         'name!notvalid@#redirect.it',\n",
    "         'qwerty123445@sample.edu']\n",
    "\n",
    "patt = re.compile(r'\\b[\\w.!#$%&’*+\\/=?^`{|}~-]+@[\\w-]+(?:\\.[\\w-]+)*\\b')\n",
    "\n",
    "for s in emails:\n",
    "    print(re.search(patt, s))"
   ]
  },
  {
   "cell_type": "markdown",
   "metadata": {},
   "source": [
    "### HTML File Validator\n",
    "\n",
    "    <html>.*?<head>.*?<title>.*?</title>.*?</head>.*?<body[^>]*>.*?</body>.*?</html>"
   ]
  },
  {
   "cell_type": "markdown",
   "metadata": {},
   "source": [
    "### Other Resources\n",
    "- https://docs.python.org/3/library/re.html\n",
    "- https://docs.python.org/3/howto/regex.html\n",
    "- https://www.regular-expressions.info/\n",
    "- https://www.w3schools.com/python/python_regex.asp"
   ]
  }
 ],
 "metadata": {
  "kernelspec": {
   "display_name": "Python 3",
   "language": "python",
   "name": "python3"
  },
  "language_info": {
   "codemirror_mode": {
    "name": "ipython",
    "version": 3
   },
   "file_extension": ".py",
   "mimetype": "text/x-python",
   "name": "python",
   "nbconvert_exporter": "python",
   "pygments_lexer": "ipython3",
   "version": "3.7.1"
  },
  "nbTranslate": {
   "displayLangs": [
    "*"
   ],
   "hotkey": "alt-t",
   "langInMainMenu": true,
   "sourceLang": "en",
   "targetLang": "fr",
   "useGoogleTranslate": true
  }
 },
 "nbformat": 4,
 "nbformat_minor": 2
}
