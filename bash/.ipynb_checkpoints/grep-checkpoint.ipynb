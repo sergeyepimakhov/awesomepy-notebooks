{
 "cells": [
  {
   "cell_type": "markdown",
   "metadata": {},
   "source": [
    "# GREP"
   ]
  },
  {
   "cell_type": "markdown",
   "metadata": {},
   "source": [
    "## Setup"
   ]
  },
  {
   "cell_type": "code",
   "execution_count": 19,
   "metadata": {},
   "outputs": [
    {
     "name": "stdout",
     "output_type": "stream",
     "text": [
      "awesomepy.com\n",
      "aWeSoMePy.CoM\n",
      "AWESOMEPY.COM\n",
      "flask.pocoo.org\n",
      "djangoproject.com\n",
      "ml flow\n",
      "python.org\n",
      "pandas.pydata.org\n",
      "regex\n",
      "numpy.org\n",
      "scipy.org\n",
      "scikit-learn.org\n"
     ]
    }
   ],
   "source": [
    "%%bash\n",
    "\n",
    "# create folder if not exists\n",
    "mkdir -p grep_examples\n",
    "cd grep_examples\n",
    "\n",
    "# setup\n",
    "cat >python_list.txt <<EOL\n",
    "awesomepy.com\n",
    "aWeSoMePy.CoM\n",
    "AWESOMEPY.COM\n",
    "flask.pocoo.org\n",
    "djangoproject.com\n",
    "ml flow\n",
    "python.org\n",
    "pandas.pydata.org\n",
    "regex\n",
    "numpy.org\n",
    "scipy.org\n",
    "scikit-learn.org\n",
    "EOL\n",
    "\n",
    "# \n",
    "cat >foo.txt <<EOL\n",
    "foo\n",
    "foofoo\n",
    "EOL\n",
    "\n",
    "# check if everething is ok\n",
    "cat python_list.txt"
   ]
  },
  {
   "cell_type": "markdown",
   "metadata": {},
   "source": [
    "## GREP Basics\n",
    "\n",
    "GREP usage:\n",
    "    \n",
    "    grep [options] [pattern] [file(s)]"
   ]
  },
  {
   "cell_type": "markdown",
   "metadata": {},
   "source": [
    "### Search in File"
   ]
  },
  {
   "cell_type": "code",
   "execution_count": 9,
   "metadata": {},
   "outputs": [
    {
     "name": "stdout",
     "output_type": "stream",
     "text": [
      "awesomepy.com\n",
      "python.org\n",
      "pandas.pydata.org\n",
      "numpy.org\n",
      "scipy.org\n"
     ]
    }
   ],
   "source": [
    "# match all lines that have 'py'\n",
    "! grep \"py\" grep_examples/python_list.txt"
   ]
  },
  {
   "cell_type": "code",
   "execution_count": 10,
   "metadata": {},
   "outputs": [
    {
     "name": "stdout",
     "output_type": "stream",
     "text": [
      "awesomepy.com\n"
     ]
    }
   ],
   "source": [
    "# match all lines that start with 'awesome'\n",
    "! grep \"^awesome\" grep_examples/python_list.txt"
   ]
  },
  {
   "cell_type": "code",
   "execution_count": 11,
   "metadata": {},
   "outputs": [
    {
     "name": "stdout",
     "output_type": "stream",
     "text": [
      "awesomepy.com\n",
      "djangoproject.com\n"
     ]
    }
   ],
   "source": [
    "# match all lines that end with 'com'\n",
    "! grep \"com$\" grep_examples/python_list.txt"
   ]
  },
  {
   "cell_type": "code",
   "execution_count": 24,
   "metadata": {},
   "outputs": [
    {
     "name": "stdout",
     "output_type": "stream",
     "text": [
      "awesomepy.com\n",
      "aWeSoMePy.CoM\n",
      "AWESOMEPY.COM\n",
      "flask.pocoo.org\n",
      "djangoproject.com\n",
      "ml flow\n",
      "python.org\n",
      "pandas.pydata.org\n",
      "regex\n",
      "numpy.org\n",
      "scipy.org\n",
      "scikit-learn.org\n"
     ]
    }
   ],
   "source": [
    "# match all lines with any characters\n",
    "! grep \".*\" grep_examples/python_list.txt"
   ]
  },
  {
   "cell_type": "code",
   "execution_count": 12,
   "metadata": {},
   "outputs": [
    {
     "name": "stdout",
     "output_type": "stream",
     "text": [
      "scipy.org\n",
      "scikit-learn.org\n"
     ]
    }
   ],
   "source": [
    "! grep \"sci\" grep_examples/python_list.txt"
   ]
  },
  {
   "cell_type": "markdown",
   "metadata": {},
   "source": [
    "### Search in Folder"
   ]
  },
  {
   "cell_type": "code",
   "execution_count": 15,
   "metadata": {},
   "outputs": [
    {
     "name": "stdout",
     "output_type": "stream",
     "text": [
      "awesomepy.com\n",
      "python.org\n",
      "pandas.pydata.org\n",
      "numpy.org\n",
      "scipy.org\n"
     ]
    }
   ],
   "source": [
    "# search in folder\n",
    "! grep \"py\" grep_examples/*"
   ]
  },
  {
   "cell_type": "markdown",
   "metadata": {},
   "source": [
    "### Search using PIPE"
   ]
  },
  {
   "cell_type": "code",
   "execution_count": 23,
   "metadata": {},
   "outputs": [
    {
     "name": "stdout",
     "output_type": "stream",
     "text": [
      "awesomepy.com\n",
      "python.org\n",
      "pandas.pydata.org\n",
      "numpy.org\n",
      "scipy.org\n"
     ]
    }
   ],
   "source": [
    "! cat grep_examples/python_list.txt | grep \"py\""
   ]
  },
  {
   "cell_type": "markdown",
   "metadata": {},
   "source": [
    "### Count"
   ]
  },
  {
   "cell_type": "code",
   "execution_count": 48,
   "metadata": {},
   "outputs": [
    {
     "name": "stdout",
     "output_type": "stream",
     "text": [
      "5\n"
     ]
    }
   ],
   "source": [
    "# count matches\n",
    "! grep -c \"py\" grep_examples/python_list.txt"
   ]
  },
  {
   "cell_type": "markdown",
   "metadata": {},
   "source": [
    "### Patern"
   ]
  },
  {
   "cell_type": "code",
   "execution_count": 42,
   "metadata": {},
   "outputs": [
    {
     "name": "stdout",
     "output_type": "stream",
     "text": [
      "awesomepy.com\n",
      "python.org\n",
      "pandas.pydata.org\n",
      "numpy.org\n",
      "scipy.org\n"
     ]
    }
   ],
   "source": [
    "# match for 'py' but with -e option. Same as above\n",
    "! grep -e \"py\" grep_examples/python_list.txt"
   ]
  },
  {
   "cell_type": "markdown",
   "metadata": {},
   "source": [
    "### Case insensitive Search"
   ]
  },
  {
   "cell_type": "code",
   "execution_count": 13,
   "metadata": {},
   "outputs": [
    {
     "name": "stdout",
     "output_type": "stream",
     "text": [
      "awesomepy.com\n",
      "aWeSoMePy.CoM\n",
      "AWESOMEPY.COM\n"
     ]
    }
   ],
   "source": [
    "# match all lines that start with 'awesome'. Case insensitive.\n",
    "! grep -i \"^awesome\" grep_examples/python_list.txt"
   ]
  },
  {
   "cell_type": "markdown",
   "metadata": {},
   "source": [
    "### Files with Matches"
   ]
  },
  {
   "cell_type": "code",
   "execution_count": 21,
   "metadata": {},
   "outputs": [
    {
     "name": "stdout",
     "output_type": "stream",
     "text": [
      "grep_examples/python_list.txt\n"
     ]
    }
   ],
   "source": [
    "! grep -l \"com$\" grep_examples/*"
   ]
  },
  {
   "cell_type": "markdown",
   "metadata": {},
   "source": [
    "### Files without Matches"
   ]
  },
  {
   "cell_type": "code",
   "execution_count": 22,
   "metadata": {},
   "outputs": [
    {
     "name": "stdout",
     "output_type": "stream",
     "text": [
      "grep_examples/foo.txt\n"
     ]
    }
   ],
   "source": [
    "! grep -L \"com$\" grep_examples/*"
   ]
  },
  {
   "cell_type": "markdown",
   "metadata": {},
   "source": [
    "### Line Numbers"
   ]
  },
  {
   "cell_type": "code",
   "execution_count": 16,
   "metadata": {},
   "outputs": [
    {
     "name": "stdout",
     "output_type": "stream",
     "text": [
      "1:awesomepy.com\n",
      "5:djangoproject.com\n"
     ]
    }
   ],
   "source": [
    "! grep -n \"com$\" grep_examples/python_list.txt"
   ]
  },
  {
   "cell_type": "markdown",
   "metadata": {},
   "source": [
    "### Inverted Match"
   ]
  },
  {
   "cell_type": "code",
   "execution_count": 57,
   "metadata": {},
   "outputs": [
    {
     "name": "stdout",
     "output_type": "stream",
     "text": [
      "aWeSoMePy.CoM\n",
      "AWESOMEPY.COM\n",
      "flask.pocoo.org\n",
      "ml flow\n",
      "python.org\n",
      "pandas.pydata.org\n",
      "regex\n",
      "numpy.org\n",
      "scipy.org\n",
      "scikit-learn.org\n"
     ]
    }
   ],
   "source": [
    "# exculde lines that end wtih 'com'\n",
    "! grep -v \"com$\" grep_examples/python_list.txt"
   ]
  },
  {
   "cell_type": "markdown",
   "metadata": {},
   "source": [
    "### Search a whole Word"
   ]
  },
  {
   "cell_type": "code",
   "execution_count": 54,
   "metadata": {},
   "outputs": [
    {
     "name": "stdout",
     "output_type": "stream",
     "text": [
      "9:regex\n"
     ]
    }
   ],
   "source": [
    "! grep -wn \"regex\" grep_examples/python_list.txt"
   ]
  },
  {
   "cell_type": "markdown",
   "metadata": {},
   "source": [
    "### egrep\n",
    "grep -E\n",
    "### fgrep\n",
    "grep -F\n",
    "### zgrep\n",
    "grep -Z\n",
    "### zegrep\n",
    "### zfgrep"
   ]
  },
  {
   "cell_type": "markdown",
   "metadata": {},
   "source": [
    "## Grep Options\n",
    "\n",
    "| command | permalink |\n",
    "|---------|----------|\n",
    "| -A num, --after-context=num | no |\n",
    "| -a, --text | no |\n",
    "| -B num, --before-context=num | no |\n",
    "| -b, --byte-offset | no |\n",
    "| -C[num, --context=num] | no |\n",
    "| -c, --count | [Try It](#Count) |\n",
    "| --colour=[when, --color=[when]] | no |\n",
    "| -D action, --devices=action | no |\n",
    "| -d action, --directories=action | no |\n",
    "| -E, --extended-regexp | no |\n",
    "| -e pattern, --regexp=pattern | [Try It](#Patern) |\n",
    "| --exclude | no |\n",
    "| --exclude-dir | no |\n",
    "| -F, --fixed-strings | no |\n",
    "| -f file, --file=file | no |\n",
    "| -G, --basic-regexp | no |\n",
    "| -H | no |\n",
    "| -h, --no-filename | no |\n",
    "| --help | no |\n",
    "| -I | no |\n",
    "| -i, --ignore-case | [Try It](#Case-insensitive-Search) |\n",
    "| --include | no |\n",
    "| --include-dir | no |\n",
    "| -J, --bz2decompress | no |\n",
    "| -L, --files-without-match | [Try It](#Files-without-Matches) |\n",
    "| -l, --files-with-matches | [Try It](#Files-with-Matches) |\n",
    "| --mmap | no |\n",
    "| -m num, --max-count=num | no |\n",
    "| -n, --line-number | [Try It](#Line-Numbers) |\n",
    "| --null | no |\n",
    "| -O | no |\n",
    "| -o, --only-matching | no |\n",
    "| -p | no |\n",
    "| -q, --quiet, --silent | no |\n",
    "| -R, -r, --recursive | no |\n",
    "| -S | no |\n",
    "| -s, --no-messages | no |\n",
    "| -U, --binary | no |\n",
    "| -V, --version | no |\n",
    "| -v, --invert-match | [Try It](#Inverted-Match) |\n",
    "| -w, --word-regexp | [Try It](#Search-a-whole-Word) |\n",
    "| -x, --line-regexp | no |\n",
    "| -Z, -z, --decompress | no |\n",
    "| --binary-files=value | no |\n",
    "| --context[=num] | no |\n",
    "| --line-buffered | no |"
   ]
  },
  {
   "cell_type": "code",
   "execution_count": 1,
   "metadata": {},
   "outputs": [
    {
     "name": "stdout",
     "output_type": "stream",
     "text": [
      "\n",
      "GREP(1)                   BSD General Commands Manual                  GREP(1)\n",
      "\n",
      "NAME\n",
      "     grep, egrep, fgrep, zgrep, zegrep, zfgrep -- file pattern searcher\n",
      "\n",
      "SYNOPSIS\n",
      "     grep [-abcdDEFGHhIiJLlmnOopqRSsUVvwxZ] [-A num] [-B num] [-C[num]]\n",
      "          [-e pattern] [-f file] [--binary-files=value] [--color[=when]]\n",
      "          [--colour[=when]] [--context[=num]] [--label] [--line-buffered]\n",
      "          [--null] [pattern] [file ...]\n",
      "\n",
      "DESCRIPTION\n",
      "     The grep utility searches any given input files, selecting lines that\n",
      "     match one or more patterns.  By default, a pattern matches an input line\n",
      "     if the regular expression (RE) in the pattern matches the input line\n",
      "     without its trailing newline.  An empty expression matches every line.\n",
      "     Each input line that matches at least one of the patterns is written to\n",
      "     the standard output.\n",
      "\n",
      "     grep is used for simple patterns and basic regular expressions (BREs);\n",
      "     egrep can handle extended regular expressions (EREs).  See re_format(7)\n",
      "     for more information on regular expressions.  fgrep is quicker than both\n",
      "     grep and egrep, but can only handle fixed patterns (i.e. it does not\n",
      "     interpret regular expressions).  Patterns may consist of one or more\n",
      "     lines, allowing any of the pattern lines to match a portion of the input.\n",
      "\n",
      "     zgrep, zegrep, and zfgrep act like grep, egrep, and fgrep, respectively,\n",
      "     but accept input files compressed with the compress(1) or gzip(1) com-\n",
      "     pression utilities.\n",
      "\n",
      "     The following options are available:\n",
      "\n",
      "     -A num, --after-context=num\n",
      "             Print num lines of trailing context after each match.  See also\n",
      "             the -B and -C options.\n",
      "\n",
      "     -a, --text\n",
      "             Treat all files as ASCII text.  Normally grep will simply print\n",
      "             ``Binary file ... matches'' if files contain binary characters.\n",
      "             Use of this option forces grep to output lines matching the spec-\n",
      "             ified pattern.\n",
      "\n",
      "     -B num, --before-context=num\n",
      "             Print num lines of leading context before each match.  See also\n",
      "             the -A and -C options.\n",
      "\n",
      "     -b, --byte-offset\n",
      "             The offset in bytes of a matched pattern is displayed in front of\n",
      "             the respective matched line.\n",
      "\n",
      "     -C[num, --context=num]\n",
      "             Print num lines of leading and trailing context surrounding each\n",
      "             match.  The default is 2 and is equivalent to -A 2 -B 2.  Note:\n",
      "             no whitespace may be given between the option and its argument.\n",
      "\n",
      "     -c, --count\n",
      "             Only a count of selected lines is written to standard output.\n",
      "\n",
      "     --colour=[when, --color=[when]]\n",
      "             Mark up the matching text with the expression stored in\n",
      "             GREP_COLOR environment variable.  The possible values of when can\n",
      "             be `never', `always' or `auto'.\n",
      "\n",
      "     -D action, --devices=action\n",
      "             Specify the demanded action for devices, FIFOs and sockets.  The\n",
      "             default action is `read', which means, that they are read as if\n",
      "             they were normal files.  If the action is set to `skip', devices\n",
      "             will be silently skipped.\n",
      "\n",
      "     -d action, --directories=action\n",
      "             Specify the demanded action for directories.  It is `read' by\n",
      "             default, which means that the directories are read in the same\n",
      "             manner as normal files.  Other possible values are `skip' to\n",
      "             silently ignore the directories, and `recurse' to read them\n",
      "             recursively, which has the same effect as the -R and -r option.\n",
      "\n",
      "     -E, --extended-regexp\n",
      "             Interpret pattern as an extended regular expression (i.e. force\n",
      "             grep to behave as egrep).\n",
      "\n",
      "     -e pattern, --regexp=pattern\n",
      "             Specify a pattern used during the search of the input: an input\n",
      "             line is selected if it matches any of the specified patterns.\n",
      "             This option is most useful when multiple -e options are used to\n",
      "             specify multiple patterns, or when a pattern begins with a dash\n",
      "             (`-').\n",
      "\n",
      "     --exclude\n",
      "             If specified, it excludes files matching the given filename pat-\n",
      "             tern from the search.  Note that --exclude patterns take priority\n",
      "             over --include patterns, and if no --include pattern is speci-\n",
      "             fied, all files are searched that are not excluded.  Patterns are\n",
      "             matched to the full path specified, not only to the filename com-\n",
      "             ponent.\n",
      "\n",
      "     --exclude-dir\n",
      "             If -R is specified, it excludes directories matching the given\n",
      "             filename pattern from the search.  Note that --exclude-dir pat-\n",
      "             terns take priority over --include-dir patterns, and if no\n",
      "             --include-dir pattern is specified, all directories are searched\n",
      "             that are not excluded.\n",
      "\n",
      "     -F, --fixed-strings\n",
      "             Interpret pattern as a set of fixed strings (i.e. force grep to\n",
      "             behave as fgrep).\n",
      "\n",
      "     -f file, --file=file\n",
      "             Read one or more newline separated patterns from file.  Empty\n",
      "             pattern lines match every input line.  Newlines are not consid-\n",
      "             ered part of a pattern.  If file is empty, nothing is matched.\n",
      "\n",
      "     -G, --basic-regexp\n",
      "             Interpret pattern as a basic regular expression (i.e. force grep\n",
      "             to behave as traditional grep).\n",
      "\n",
      "     -H      Always print filename headers with output lines.\n",
      "\n",
      "     -h, --no-filename\n",
      "             Never print filename headers (i.e. filenames) with output lines.\n",
      "\n",
      "     --help  Print a brief help message.\n",
      "\n",
      "     -I      Ignore binary files.  This option is equivalent to\n",
      "             --binary-file=without-match option.\n",
      "\n",
      "     -i, --ignore-case\n",
      "             Perform case insensitive matching.  By default, grep is case sen-\n",
      "             sitive.\n",
      "\n",
      "     --include\n",
      "             If specified, only files matching the given filename pattern are\n",
      "             searched.  Note that --exclude patterns take priority over\n",
      "             --include patterns.  Patterns are matched to the full path speci-\n",
      "             fied, not only to the filename component.\n",
      "\n",
      "     --include-dir\n",
      "             If -R is specified, only directories matching the given filename\n",
      "             pattern are searched.  Note that --exclude-dir patterns take pri-\n",
      "             ority over --include-dir patterns.\n",
      "\n",
      "     -J, --bz2decompress\n",
      "             Decompress the bzip2(1) compressed file before looking for the\n",
      "             text.\n",
      "\n",
      "     -L, --files-without-match\n",
      "             Only the names of files not containing selected lines are written\n",
      "             to standard output.  Pathnames are listed once per file searched.\n",
      "             If the standard input is searched, the string ``(standard\n",
      "             input)'' is written.\n",
      "\n",
      "     -l, --files-with-matches\n",
      "             Only the names of files containing selected lines are written to\n",
      "             standard output.  grep will only search a file until a match has\n",
      "             been found, making searches potentially less expensive.  Path-\n",
      "             names are listed once per file searched.  If the standard input\n",
      "             is searched, the string ``(standard input)'' is written.\n",
      "\n",
      "     --mmap  Use mmap(2) instead of read(2) to read input, which can result in\n",
      "             better performance under some circumstances but can cause unde-\n",
      "             fined behaviour.\n",
      "\n",
      "     -m num, --max-count=num\n",
      "             Stop reading the file after num matches.\n",
      "\n",
      "     -n, --line-number\n",
      "             Each output line is preceded by its relative line number in the\n",
      "             file, starting at line 1.  The line number counter is reset for\n",
      "             each file processed.  This option is ignored if -c, -L, -l, or -q\n",
      "             is specified.\n",
      "\n",
      "     --null  Prints a zero-byte after the file name.\n",
      "\n",
      "     -O      If -R is specified, follow symbolic links only if they were\n",
      "             explicitly listed on the command line.  The default is not to\n",
      "             follow symbolic links.\n",
      "\n",
      "     -o, --only-matching\n",
      "             Prints only the matching part of the lines.\n",
      "\n",
      "     -p      If -R is specified, no symbolic links are followed.  This is the\n",
      "             default.\n",
      "\n",
      "     -q, --quiet, --silent\n",
      "             Quiet mode: suppress normal output.  grep will only search a file\n",
      "             until a match has been found, making searches potentially less\n",
      "             expensive.\n",
      "\n",
      "     -R, -r, --recursive\n",
      "             Recursively search subdirectories listed.\n",
      "\n",
      "     -S      If -R is specified, all symbolic links are followed.  The default\n",
      "             is not to follow symbolic links.\n",
      "\n",
      "     -s, --no-messages\n",
      "             Silent mode.  Nonexistent and unreadable files are ignored (i.e.\n",
      "             their error messages are suppressed).\n",
      "\n",
      "     -U, --binary\n",
      "             Search binary files, but do not attempt to print them.\n",
      "\n",
      "     -V, --version\n",
      "             Display version information and exit.\n",
      "\n",
      "     -v, --invert-match\n",
      "             Selected lines are those not matching any of the specified pat-\n",
      "             terns.\n",
      "\n",
      "     -w, --word-regexp\n",
      "             The expression is searched for as a word (as if surrounded by\n",
      "             `[[:<:]]' and `[[:>:]]'; see re_format(7)).\n",
      "\n",
      "     -x, --line-regexp\n",
      "             Only input lines selected against an entire fixed string or regu-\n",
      "             lar expression are considered to be matching lines.\n",
      "\n",
      "     -y      Equivalent to -i.  Obsoleted.\n",
      "\n",
      "     -Z, -z, --decompress\n",
      "             Force grep to behave as zgrep.\n",
      "\n",
      "     --binary-files=value\n",
      "             Controls searching and printing of binary files.  Options are\n",
      "             binary, the default: search binary files but do not print them;\n",
      "             without-match: do not search binary files; and text: treat all\n",
      "             files as text.\n",
      "\n",
      "     --context[=num]\n",
      "             Print num lines of leading and trailing context.  The default is\n",
      "             2.\n",
      "\n",
      "     --line-buffered\n",
      "             Force output to be line buffered.  By default, output is line\n",
      "             buffered when standard output is a terminal and block buffered\n",
      "             otherwise.\n",
      "\n",
      "     If no file arguments are specified, the standard input is used.\n",
      "\n",
      "ENVIRONMENT\n",
      "     GREP_OPTIONS  May be used to specify default options that will be placed\n",
      "                   at the beginning of the argument list.  Backslash-escaping\n",
      "                   is not supported, unlike the behavior in GNU grep.\n",
      "\n",
      "EXIT STATUS\n",
      "     The grep utility exits with one of the following values:\n",
      "\n",
      "     0     One or more lines were selected.\n",
      "     1     No lines were selected.\n",
      "     >1    An error occurred.\n",
      "\n",
      "EXAMPLES\n",
      "     To find all occurrences of the word `patricia' in a file:\n",
      "\n",
      "           $ grep 'patricia' myfile\n",
      "\n",
      "     To find all occurrences of the pattern `.Pp' at the beginning of a line:\n",
      "\n",
      "           $ grep '^\\.Pp' myfile\n",
      "\n",
      "     The apostrophes ensure the entire expression is evaluated by grep instead\n",
      "     of by the user's shell.  The caret `^' matches the null string at the\n",
      "     beginning of a line, and the `\\' escapes the `.', which would otherwise\n",
      "     match any character.\n",
      "\n",
      "     To find all lines in a file which do not contain the words `foo' or\n",
      "     `bar':\n",
      "\n",
      "           $ grep -v -e 'foo' -e 'bar' myfile\n",
      "\n",
      "     A simple example of an extended regular expression:\n",
      "\n",
      "           $ egrep '19|20|25' calendar\n",
      "\n",
      "     Peruses the file `calendar' looking for either 19, 20, or 25.\n",
      "\n",
      "SEE ALSO\n",
      "     ed(1), ex(1), gzip(1), sed(1), re_format(7)\n",
      "\n",
      "STANDARDS\n",
      "     The grep utility is compliant with the IEEE Std 1003.1-2008 (``POSIX.1'')\n",
      "     specification.\n",
      "\n",
      "     The flags [-AaBbCDdGHhIJLmoPRSUVwZ] are extensions to that specification,\n",
      "     and the behaviour of the -f flag when used with an empty pattern file is\n",
      "     left undefined.\n",
      "\n",
      "     All long options are provided for compatibility with GNU versions of this\n",
      "     utility.\n",
      "\n",
      "     Historic versions of the grep utility also supported the flags [-ruy].\n",
      "     This implementation supports those options; however, their use is\n",
      "     strongly discouraged.\n",
      "\n",
      "HISTORY\n",
      "     The grep command first appeared in Version 6 AT&T UNIX.\n",
      "\n",
      "BUGS\n",
      "     The grep utility does not normalize Unicode input, so a pattern contain-\n",
      "     ing composed characters will not match decomposed input, and vice versa.\n",
      "\n",
      "BSD                              July 28, 2010                             BSD\n"
     ]
    }
   ],
   "source": [
    "! man grep"
   ]
  }
 ],
 "metadata": {
  "kernelspec": {
   "display_name": "Python 3",
   "language": "python",
   "name": "python3"
  },
  "language_info": {
   "codemirror_mode": {
    "name": "ipython",
    "version": 3
   },
   "file_extension": ".py",
   "mimetype": "text/x-python",
   "name": "python",
   "nbconvert_exporter": "python",
   "pygments_lexer": "ipython3",
   "version": "3.7.1"
  }
 },
 "nbformat": 4,
 "nbformat_minor": 2
}
