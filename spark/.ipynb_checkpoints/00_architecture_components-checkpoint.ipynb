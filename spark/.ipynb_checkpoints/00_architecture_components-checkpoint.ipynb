{
 "cells": [
  {
   "cell_type": "markdown",
   "metadata": {},
   "source": [
    "# Architecture of a Spark Application"
   ]
  },
  {
   "cell_type": "markdown",
   "metadata": {},
   "source": [
    "## Spark Driver\n",
    "\n",
    "It a process that control the execution of a Spark Application and maintains all of state of the Spark cluster (state and tasks of the executors). It interface with the cluster manager (YARN or Mesos) in order to get actually physical resources and launch executors.  "
   ]
  },
  {
   "cell_type": "markdown",
   "metadata": {},
   "source": [
    "## Spark Executors\n",
    "\n",
    "Are process that perform the tasks assigned by the Spark diver. Each executor makes the following:\n",
    "\n",
    "- take the tasks from Spark Driver\n",
    "- run them\n",
    "- report back their state (success or failure)"
   ]
  },
  {
   "cell_type": "markdown",
   "metadata": {},
   "source": [
    "## Cluster Master\n",
    "\n",
    "A physical machine where runs the Spark Driver. Can be either on the cluster node or on a local machine. "
   ]
  },
  {
   "cell_type": "markdown",
   "metadata": {},
   "source": [
    "## Cluster Workers\n",
    "\n",
    "Physical machines where run Spark Executors. Can be either cluster nodes or your local cores. "
   ]
  },
  {
   "cell_type": "markdown",
   "metadata": {},
   "source": [
    "## Execution Modes\n",
    "\n",
    "- Cluster mode: master - cluster, workers - cluster\n",
    "- Client mode: master - local, workers - cluster\n",
    "- Local mode: master - local, workers - local"
   ]
  },
  {
   "cell_type": "markdown",
   "metadata": {},
   "source": [
    "## Nodes - Cores - Slots - Threads\n",
    "\n",
    "Cluster consist of nodes (machines). Each node has multiple cores (4, 16, etc.). In general each core can only run one thread (core with hyper threading - more then one). Slot indicates a thread available to perform execution.\n",
    "\n",
    "1 Node -> M cores -> M slots -> M threads "
   ]
  },
  {
   "cell_type": "markdown",
   "metadata": {},
   "source": [
    "## Some Links\n",
    "\n",
    "- https://spoddutur.github.io/spark-notes/distribution_of_executors_cores_and_memory_for_spark_application.html\n",
    "- https://gerardnico.com/db/spark/cluster/core"
   ]
  }
 ],
 "metadata": {
  "kernelspec": {
   "display_name": "Python 3",
   "language": "python",
   "name": "python3"
  },
  "language_info": {
   "codemirror_mode": {
    "name": "ipython",
    "version": 3
   },
   "file_extension": ".py",
   "mimetype": "text/x-python",
   "name": "python",
   "nbconvert_exporter": "python",
   "pygments_lexer": "ipython3",
   "version": "3.7.1"
  }
 },
 "nbformat": 4,
 "nbformat_minor": 2
}
