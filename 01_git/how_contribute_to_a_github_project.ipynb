{
 "cells": [
  {
   "cell_type": "markdown",
   "metadata": {},
   "source": [
    "# How Contribute to a GitHub Project\n",
    "\n",
    "Let's consider you've found a nice project `some_org/project` on GitHub and would like to contribute. \n",
    "\n",
    "1. Fork the Project\n",
    "\n",
    "Now you have a new forked repo `user/project-x`\n",
    "\n",
    "2. Clone the forked repo onto you system\n",
    "\n",
    "```bash\n",
    "git clone git@github.com:user/project-x.git\n",
    "```\n",
    "\n",
    "3. Change directory\n",
    "\n",
    "```bash\n",
    "cd project-x\n",
    "```\n",
    "\n",
    "4. Set upstream and origin\n",
    "\n",
    "You will have two origins:\n",
    "\n",
    "- _origin_ which points to your fork of the project\n",
    "- _upstream_ which points to the original project\n",
    "\n",
    "```bash\n",
    "git remote add upstream git@github.com:some_org/project.git\n",
    "```\n",
    "\n",
    "5. Start contribute\n",
    "\n",
    "```bash\n",
    "git checkout master\n",
    "git pull upstream master \n",
    "git push origin master\n",
    "git checkout -b hotfix/some-fixes\n",
    "\n",
    "#... some work\n",
    "\n",
    "git add .\n",
    "git commit -m \"made some fixes\"\n",
    "git push -u origin hotfix/some-fixes\n",
    "```\n",
    "\n",
    "6. Create a Pull Request in original project"
   ]
  },
  {
   "cell_type": "code",
   "execution_count": null,
   "metadata": {},
   "outputs": [],
   "source": []
  }
 ],
 "metadata": {
  "kernelspec": {
   "display_name": "Python 3",
   "language": "python",
   "name": "python3"
  },
  "language_info": {
   "codemirror_mode": {
    "name": "ipython",
    "version": 3
   },
   "file_extension": ".py",
   "mimetype": "text/x-python",
   "name": "python",
   "nbconvert_exporter": "python",
   "pygments_lexer": "ipython3",
   "version": "3.7.1"
  }
 },
 "nbformat": 4,
 "nbformat_minor": 2
}
