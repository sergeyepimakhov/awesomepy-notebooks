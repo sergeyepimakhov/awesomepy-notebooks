{
 "cells": [
  {
   "cell_type": "markdown",
   "metadata": {},
   "source": [
    "# Git Authentification\n",
    "\n",
    "You can use either `https` or `ssh` to copy repositories from the internet.\n",
    "\n",
    " - Using `https` you will be asked for username and password. Such operation like `clone`, `fetch` and `push` are required a login.\n",
    "\n",
    " - Using `ssh` you have to generate an ssh key once and copy it's public part to `github`."
   ]
  },
  {
   "cell_type": "markdown",
   "metadata": {},
   "source": [
    "## Generating a new SSH key\n",
    "\n",
    "1. Open Terminal\n",
    "\n",
    "```bash\n",
    "cd ~/.ssh\n",
    "```\n",
    "\n",
    "2. Generate a new ssh pair  \n",
    "\n",
    "```bash\n",
    "ssh-keygen -t rsa -b 4096 -C \"your_email@example.com\"\n",
    "```\n",
    "\n",
    "Press enter twice.\n",
    "\n",
    "3. List the folder again\n",
    "\n",
    "```bash\n",
    "ls ~/.ssh\n",
    "```\n",
    "\n",
    "You will now observe two new files `id_rsa` and `id_rsa.pub`. Upload the public key `id_rsa.pub` to `github` and keep in secret the private one `id_rsa`."
   ]
  },
  {
   "cell_type": "markdown",
   "metadata": {},
   "source": [
    "## Clone a Repository using HTTPS\n",
    "\n",
    "```bash\n",
    "git clone https://github.com/someuser/somerepo.git\n",
    "```"
   ]
  },
  {
   "cell_type": "markdown",
   "metadata": {},
   "source": [
    "## Clone a Repository using SSH\n",
    "\n",
    "```bash\n",
    "git clone git@github.com:someuser/somerepo.git\n",
    "```"
   ]
  },
  {
   "cell_type": "markdown",
   "metadata": {},
   "source": [
    "_Along the tutorial we will use the ssh mechanism only._"
   ]
  },
  {
   "cell_type": "markdown",
   "metadata": {},
   "source": [
    "# Reference\n",
    "https://help.github.com/en/github/authenticating-to-github/generating-a-new-ssh-key-and-adding-it-to-the-ssh-agent"
   ]
  }
 ],
 "metadata": {
  "kernelspec": {
   "display_name": "Python 3",
   "language": "python",
   "name": "python3"
  },
  "language_info": {
   "codemirror_mode": {
    "name": "ipython",
    "version": 3
   },
   "file_extension": ".py",
   "mimetype": "text/x-python",
   "name": "python",
   "nbconvert_exporter": "python",
   "pygments_lexer": "ipython3",
   "version": "3.7.1"
  }
 },
 "nbformat": 4,
 "nbformat_minor": 2
}
