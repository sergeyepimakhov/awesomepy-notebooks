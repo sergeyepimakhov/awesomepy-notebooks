{
 "cells": [
  {
   "cell_type": "markdown",
   "metadata": {},
   "source": [
    "# How to rename a local and remote git branch\n",
    "\n",
    "1. Switch to the local branch which you want to rename\n",
    "```bash\n",
    "git checkout OLD_BRANCH\n",
    "```\n",
    "2. Rename the local branch\n",
    "```bash\n",
    "git branch -m NEW_BRANCH\n",
    "```\n",
    "3. Push the NEW_BRANCH and reset the upstream branch:\n",
    "```bash\n",
    "git push origin -u NEW_BRANCH\n",
    "```\n",
    "4. Delete the <old_name> remote branch:\n",
    "```bash\n",
    "git push origin --delete OLD_BRANCH\n",
    "```"
   ]
  },
  {
   "cell_type": "code",
   "execution_count": null,
   "metadata": {},
   "outputs": [],
   "source": []
  }
 ],
 "metadata": {
  "kernelspec": {
   "display_name": "Python 3",
   "language": "python",
   "name": "python3"
  },
  "language_info": {
   "codemirror_mode": {
    "name": "ipython",
    "version": 3
   },
   "file_extension": ".py",
   "mimetype": "text/x-python",
   "name": "python",
   "nbconvert_exporter": "python",
   "pygments_lexer": "ipython3",
   "version": "3.7.1"
  }
 },
 "nbformat": 4,
 "nbformat_minor": 2
}
