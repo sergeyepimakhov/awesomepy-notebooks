{
 "cells": [
  {
   "cell_type": "markdown",
   "metadata": {
    "collapsed": true
   },
   "source": [
    "# Virtual Environments\n",
    "\n",
    "<div class=\"w3-panel w3-pale-green w3-leftbar w3-border-green\">\n",
    "  <p>Working on a python project it is always a good idea to isolate the required packages from your local machine</p>\n",
    "    <p>Basically there are two possibilities: use <code>venv</code> or <code>anaconda</code></p>\n",
    "</div>"
   ]
  },
  {
   "cell_type": "markdown",
   "metadata": {},
   "source": [
    "## Venv\n",
    "\n",
    "### Create Environment"
   ]
  },
  {
   "cell_type": "markdown",
   "metadata": {},
   "source": [
    "To install environment to the folder in your home location `~/venv/envs/awesomepy`:"
   ]
  },
  {
   "cell_type": "code",
   "execution_count": null,
   "metadata": {
    "deletable": false,
    "editable": false,
    "run_control": {
     "frozen": true
    }
   },
   "outputs": [],
   "source": [
    "%%bash\n",
    "python3 -m venv ~/venv/envs/awesomepy"
   ]
  },
  {
   "cell_type": "markdown",
   "metadata": {},
   "source": [
    "Sudo command is required because the folder `/usr/local` usually is under the root supervision. "
   ]
  },
  {
   "cell_type": "markdown",
   "metadata": {},
   "source": [
    "### Activate Environment\n",
    "Now to switch to your just created virtual environment this environment has to be activated"
   ]
  },
  {
   "cell_type": "code",
   "execution_count": null,
   "metadata": {
    "deletable": false,
    "editable": false,
    "run_control": {
     "frozen": true
    }
   },
   "outputs": [],
   "source": [
    "%%bash\n",
    "source ~/venv/envs/awesomepy/bin/activate"
   ]
  },
  {
   "cell_type": "markdown",
   "metadata": {},
   "source": [
    "If everything is okay in the beginning of you command line appears the name of the virtual environment `(awesomepy)`. Now you are isolated from your local machine and the required for your project packages can be installed using `pip` package manager. For example let's install Jupyter notebook:"
   ]
  },
  {
   "cell_type": "markdown",
   "metadata": {},
   "source": [
    "### Install a Package within Environment"
   ]
  },
  {
   "cell_type": "code",
   "execution_count": null,
   "metadata": {
    "deletable": false,
    "editable": false,
    "run_control": {
     "frozen": true
    }
   },
   "outputs": [],
   "source": [
    "%%bash\n",
    "# (awesomepy)\n",
    "pip3 install jupyter"
   ]
  },
  {
   "cell_type": "markdown",
   "metadata": {},
   "source": [
    "Or from a file `requirements.txt`:"
   ]
  },
  {
   "cell_type": "code",
   "execution_count": null,
   "metadata": {
    "deletable": false,
    "editable": false,
    "run_control": {
     "frozen": true
    }
   },
   "outputs": [],
   "source": [
    "%%bash\n",
    "# (awesomepy)\n",
    "pip3 install -r requirements.txt"
   ]
  },
  {
   "cell_type": "markdown",
   "metadata": {},
   "source": [
    "Where the requirements file includes the list of needed packages, optional probably with a package version like this "
   ]
  },
  {
   "cell_type": "markdown",
   "metadata": {},
   "source": [
    "### Pip Version Specifiers\n",
    "<table class=\"w3-table w3-striped\">\n",
    "  <tr>\n",
    "    <td><code>python</code></td>\n",
    "    <td>package without a version</td>\n",
    "  </tr>\n",
    "  <tr>\n",
    "    <td><code>python == 3.6</code></td>\n",
    "    <td>package in exact version 3.6</td>\n",
    "  </tr>\n",
    "  <tr>\n",
    "    <td><code>python >= 3</code></td>\n",
    "    <td>package with minimum required version 3</td>\n",
    "  </tr>\n",
    "  <tr>\n",
    "    <td><code>python < 4 </code></td>\n",
    "    <td>package with maximal allowed version 4</td>\n",
    "  </tr>\n",
    "  <tr>\n",
    "    <td><code>python != 2</code></td>\n",
    "    <td>exclude package with a version 2</td>\n",
    "  </tr>\n",
    "</table>"
   ]
  },
  {
   "cell_type": "markdown",
   "metadata": {},
   "source": [
    "### Deactivate Environment"
   ]
  },
  {
   "cell_type": "code",
   "execution_count": null,
   "metadata": {
    "deletable": false,
    "editable": false,
    "run_control": {
     "frozen": true
    }
   },
   "outputs": [],
   "source": [
    "%%bash\n",
    "# (awesomepy)\n",
    "deactivate"
   ]
  },
  {
   "cell_type": "markdown",
   "metadata": {},
   "source": [
    "### Delete Environment\n",
    "Just delete as a normal folder from your machine"
   ]
  },
  {
   "cell_type": "code",
   "execution_count": null,
   "metadata": {
    "deletable": false,
    "editable": false,
    "run_control": {
     "frozen": true
    }
   },
   "outputs": [],
   "source": [
    "%%bash\n",
    "rm -rf ~/venv/envs/awesomepy"
   ]
  }
 ],
 "metadata": {
  "kernelspec": {
   "display_name": "Python 3",
   "language": "python",
   "name": "python3"
  },
  "language_info": {
   "codemirror_mode": {
    "name": "ipython",
    "version": 3
   },
   "file_extension": ".py",
   "mimetype": "text/x-python",
   "name": "python",
   "nbconvert_exporter": "python",
   "pygments_lexer": "ipython3",
   "version": "3.7.1"
  },
  "nbTranslate": {
   "displayLangs": [
    "*"
   ],
   "hotkey": "alt-t",
   "langInMainMenu": true,
   "sourceLang": "en",
   "targetLang": "fr",
   "useGoogleTranslate": true
  }
 },
 "nbformat": 4,
 "nbformat_minor": 1
}
