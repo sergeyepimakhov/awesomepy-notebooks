{
 "cells": [
  {
   "cell_type": "markdown",
   "metadata": {
    "id": "view-in-github"
   },
   "source": [
    "<a href=\"https://colab.research.google.com/github/apache/beam/blob/master/examples/notebooks/documentation/transforms/python/elementwise/tostring-py.ipynb\" target=\"_parent\"><img src=\"https://colab.research.google.com/assets/colab-badge.svg\" alt=\"Open in Colab\"/></a>"
   ]
  },
  {
   "cell_type": "markdown",
   "metadata": {
    "id": "tostring"
   },
   "source": [
    "# ToString\n",
    "\n",
    "Transforms every element in an input collection to a string."
   ]
  },
  {
   "cell_type": "markdown",
   "metadata": {
    "id": "setup"
   },
   "source": [
    "## Setup\n",
    "\n",
    "To run a code cell, you can click the **Run cell** button at the top left of the cell,\n",
    "or select it and press **`Shift+Enter`**.\n",
    "Try modifying a code cell and re-running it to see what happens.\n",
    "\n",
    "First, let's install the `apache-beam` module."
   ]
  },
  {
   "cell_type": "code",
   "execution_count": null,
   "metadata": {
    "id": "setup-code"
   },
   "outputs": [],
   "source": [
    "!pip install --quiet -U apache-beam"
   ]
  },
  {
   "cell_type": "markdown",
   "metadata": {
    "id": "examples"
   },
   "source": [
    "## Examples\n",
    "\n",
    "Any non-string element can be converted to a string using standard Python functions and methods.\n",
    "Many I/O transforms, such as\n",
    "[`textio.WriteToText`](https://beam.apache.org/releases/pydoc/current/apache_beam.io.textio.html#apache_beam.io.textio.WriteToText),\n",
    "expect their input elements to be strings."
   ]
  },
  {
   "cell_type": "markdown",
   "metadata": {
    "id": "example-1-key-value-pairs-to-string"
   },
   "source": [
    "### Example 1: Key-value pairs to string\n",
    "\n",
    "The following example converts a `(key, value)` pair into a string delimited by `','`.\n",
    "You can specify a different delimiter using the `delimiter` argument."
   ]
  },
  {
   "cell_type": "code",
   "execution_count": null,
   "metadata": {
    "id": "example-1-key-value-pairs-to-string-code"
   },
   "outputs": [],
   "source": [
    "import apache_beam as beam\n",
    "\n",
    "with beam.Pipeline() as pipeline:\n",
    "  plants = (\n",
    "      pipeline\n",
    "      | 'Garden plants' >> beam.Create([\n",
    "          ('🍓', 'Strawberry'),\n",
    "          ('🥕', 'Carrot'),\n",
    "          ('🍆', 'Eggplant'),\n",
    "          ('🍅', 'Tomato'),\n",
    "          ('🥔', 'Potato'),\n",
    "      ])\n",
    "      | 'To string' >> beam.ToString.Kvs()\n",
    "      | beam.Map(print))"
   ]
  },
  {
   "cell_type": "markdown",
   "metadata": {
    "id": "example-2-elements-to-string"
   },
   "source": [
    "### Example 2: Elements to string\n",
    "\n",
    "The following example converts a dictionary into a string.\n",
    "The string output will be equivalent to `str(element)`."
   ]
  },
  {
   "cell_type": "code",
   "execution_count": null,
   "metadata": {
    "id": "example-2-elements-to-string-code"
   },
   "outputs": [],
   "source": [
    "import apache_beam as beam\n",
    "\n",
    "with beam.Pipeline() as pipeline:\n",
    "  plant_lists = (\n",
    "      pipeline\n",
    "      | 'Garden plants' >> beam.Create([\n",
    "          ['🍓', 'Strawberry', 'perennial'],\n",
    "          ['🥕', 'Carrot', 'biennial'],\n",
    "          ['🍆', 'Eggplant', 'perennial'],\n",
    "          ['🍅', 'Tomato', 'annual'],\n",
    "          ['🥔', 'Potato', 'perennial'],\n",
    "      ])\n",
    "      | 'To string' >> beam.ToString.Element()\n",
    "      | beam.Map(print))"
   ]
  },
  {
   "cell_type": "markdown",
   "metadata": {
    "id": "example-3-iterables-to-string"
   },
   "source": [
    "### Example 3: Iterables to string\n",
    "\n",
    "The following example converts an iterable, in this case a list of strings,\n",
    "into a string delimited by `','`.\n",
    "You can specify a different delimiter using the `delimiter` argument.\n",
    "The string output will be equivalent to `iterable.join(delimiter)`."
   ]
  },
  {
   "cell_type": "code",
   "execution_count": null,
   "metadata": {
    "id": "example-3-iterables-to-string-code"
   },
   "outputs": [],
   "source": [
    "import apache_beam as beam\n",
    "\n",
    "with beam.Pipeline() as pipeline:\n",
    "  plants_csv = (\n",
    "      pipeline\n",
    "      | 'Garden plants' >> beam.Create([\n",
    "          ['🍓', 'Strawberry', 'perennial'],\n",
    "          ['🥕', 'Carrot', 'biennial'],\n",
    "          ['🍆', 'Eggplant', 'perennial'],\n",
    "          ['🍅', 'Tomato', 'annual'],\n",
    "          ['🥔', 'Potato', 'perennial'],\n",
    "      ])\n",
    "      | 'To string' >> beam.ToString.Iterables()\n",
    "      | beam.Map(print))"
   ]
  },
  {
   "cell_type": "markdown",
   "metadata": {
    "id": "related-transforms"
   },
   "source": [
    "## Related transforms\n",
    "\n",
    "* [Map](https://beam.apache.org/documentation/transforms/python/elementwise/map) applies a simple 1-to-1 mapping function over each element in the collection"
   ]
  }
 ],
 "metadata": {
  "colab": {
   "name": "ToString - element-wise transform",
   "toc_visible": true
  },
  "kernelspec": {
   "display_name": "Python 3",
   "language": "python",
   "name": "python3"
  },
  "language_info": {
   "codemirror_mode": {
    "name": "ipython",
    "version": 3
   },
   "file_extension": ".py",
   "mimetype": "text/x-python",
   "name": "python",
   "nbconvert_exporter": "python",
   "pygments_lexer": "ipython3",
   "version": "3.6.8"
  }
 },
 "nbformat": 4,
 "nbformat_minor": 4
}
