{
 "cells": [
  {
   "cell_type": "markdown",
   "metadata": {
    "id": "view-in-github"
   },
   "source": [
    "<a href=\"https://colab.research.google.com/github/apache/beam/blob/master/examples/notebooks/documentation/transforms/python/elementwise/map-py.ipynb\" target=\"_parent\"><img src=\"https://colab.research.google.com/assets/colab-badge.svg\" alt=\"Open in Colab\"/></a>"
   ]
  },
  {
   "cell_type": "markdown",
   "metadata": {
    "id": "map"
   },
   "source": [
    "# Map\n",
    "\n",
    "Applies a simple 1-to-1 mapping function over each element in the collection."
   ]
  },
  {
   "cell_type": "markdown",
   "metadata": {
    "id": "setup"
   },
   "source": [
    "## Setup\n",
    "\n",
    "To run a code cell, you can click the **Run cell** button at the top left of the cell,\n",
    "or select it and press **`Shift+Enter`**.\n",
    "Try modifying a code cell and re-running it to see what happens.\n",
    "\n",
    "First, let's install the `apache-beam` module."
   ]
  },
  {
   "cell_type": "code",
   "execution_count": null,
   "metadata": {
    "id": "setup-code"
   },
   "outputs": [],
   "source": [
    "!pip install --quiet -U apache-beam"
   ]
  },
  {
   "cell_type": "markdown",
   "metadata": {
    "id": "examples"
   },
   "source": [
    "## Examples\n",
    "\n",
    "In the following examples, we create a pipeline with a `PCollection` of produce with their icon, name, and duration.\n",
    "Then, we apply `Map` in multiple ways to transform every element in the `PCollection`.\n",
    "\n",
    "`Map` accepts a function that returns a single element for every input element in the `PCollection`."
   ]
  },
  {
   "cell_type": "markdown",
   "metadata": {
    "id": "example-1-map-with-a-predefined-function"
   },
   "source": [
    "### Example 1: Map with a predefined function\n",
    "\n",
    "We use the function `str.strip` which takes a single `str` element and outputs a `str`.\n",
    "It strips the input element's whitespaces, including newlines and tabs."
   ]
  },
  {
   "cell_type": "code",
   "execution_count": null,
   "metadata": {
    "id": "example-1-map-with-a-predefined-function-code"
   },
   "outputs": [],
   "source": [
    "import apache_beam as beam\n",
    "\n",
    "with beam.Pipeline() as pipeline:\n",
    "  plants = (\n",
    "      pipeline\n",
    "      | 'Gardening plants' >> beam.Create([\n",
    "          '   🍓Strawberry   \\n',\n",
    "          '   🥕Carrot   \\n',\n",
    "          '   🍆Eggplant   \\n',\n",
    "          '   🍅Tomato   \\n',\n",
    "          '   🥔Potato   \\n',\n",
    "      ])\n",
    "      | 'Strip' >> beam.Map(str.strip)\n",
    "      | beam.Map(print))"
   ]
  },
  {
   "cell_type": "markdown",
   "metadata": {
    "id": "example-2-map-with-a-function"
   },
   "source": [
    "### Example 2: Map with a function\n",
    "\n",
    "We define a function `strip_header_and_newline` which strips any `'#'`, `' '`, and `'\\n'` characters from each element."
   ]
  },
  {
   "cell_type": "code",
   "execution_count": null,
   "metadata": {
    "id": "example-2-map-with-a-function-code"
   },
   "outputs": [],
   "source": [
    "import apache_beam as beam\n",
    "\n",
    "def strip_header_and_newline(text):\n",
    "  return text.strip('# \\n')\n",
    "\n",
    "with beam.Pipeline() as pipeline:\n",
    "  plants = (\n",
    "      pipeline\n",
    "      | 'Gardening plants' >> beam.Create([\n",
    "          '# 🍓Strawberry\\n',\n",
    "          '# 🥕Carrot\\n',\n",
    "          '# 🍆Eggplant\\n',\n",
    "          '# 🍅Tomato\\n',\n",
    "          '# 🥔Potato\\n',\n",
    "      ])\n",
    "      | 'Strip header' >> beam.Map(strip_header_and_newline)\n",
    "      | beam.Map(print))"
   ]
  },
  {
   "cell_type": "markdown",
   "metadata": {
    "id": "example-3-map-with-a-lambda-function"
   },
   "source": [
    "### Example 3: Map with a lambda function\n",
    "\n",
    "We can also use lambda functions to simplify **Example 2**."
   ]
  },
  {
   "cell_type": "code",
   "execution_count": null,
   "metadata": {
    "id": "example-3-map-with-a-lambda-function-code"
   },
   "outputs": [],
   "source": [
    "import apache_beam as beam\n",
    "\n",
    "with beam.Pipeline() as pipeline:\n",
    "  plants = (\n",
    "      pipeline\n",
    "      | 'Gardening plants' >> beam.Create([\n",
    "          '# 🍓Strawberry\\n',\n",
    "          '# 🥕Carrot\\n',\n",
    "          '# 🍆Eggplant\\n',\n",
    "          '# 🍅Tomato\\n',\n",
    "          '# 🥔Potato\\n',\n",
    "      ])\n",
    "      | 'Strip header' >> beam.Map(lambda text: text.strip('# \\n'))\n",
    "      | beam.Map(print))"
   ]
  },
  {
   "cell_type": "markdown",
   "metadata": {
    "id": "example-4-map-with-multiple-arguments"
   },
   "source": [
    "### Example 4: Map with multiple arguments\n",
    "\n",
    "You can pass functions with multiple arguments to `Map`.\n",
    "They are passed as additional positional arguments or keyword arguments to the function.\n",
    "\n",
    "In this example, `strip` takes `text` and `chars` as arguments."
   ]
  },
  {
   "cell_type": "code",
   "execution_count": null,
   "metadata": {
    "id": "example-4-map-with-multiple-arguments-code"
   },
   "outputs": [],
   "source": [
    "import apache_beam as beam\n",
    "\n",
    "def strip(text, chars=None):\n",
    "  return text.strip(chars)\n",
    "\n",
    "with beam.Pipeline() as pipeline:\n",
    "  plants = (\n",
    "      pipeline\n",
    "      | 'Gardening plants' >> beam.Create([\n",
    "          '# 🍓Strawberry\\n',\n",
    "          '# 🥕Carrot\\n',\n",
    "          '# 🍆Eggplant\\n',\n",
    "          '# 🍅Tomato\\n',\n",
    "          '# 🥔Potato\\n',\n",
    "      ])\n",
    "      | 'Strip header' >> beam.Map(strip, chars='# \\n')\n",
    "      | beam.Map(print))"
   ]
  },
  {
   "cell_type": "markdown",
   "metadata": {
    "id": "example-5-maptuple-for-key-value-pairs"
   },
   "source": [
    "### Example 5: MapTuple for key-value pairs\n",
    "\n",
    "If your `PCollection` consists of `(key, value)` pairs,\n",
    "you can use `MapTuple` to unpack them into different function arguments."
   ]
  },
  {
   "cell_type": "code",
   "execution_count": null,
   "metadata": {
    "id": "example-5-maptuple-for-key-value-pairs-code"
   },
   "outputs": [],
   "source": [
    "import apache_beam as beam\n",
    "\n",
    "with beam.Pipeline() as pipeline:\n",
    "  plants = (\n",
    "      pipeline\n",
    "      | 'Gardening plants' >> beam.Create([\n",
    "          ('🍓', 'Strawberry'),\n",
    "          ('🥕', 'Carrot'),\n",
    "          ('🍆', 'Eggplant'),\n",
    "          ('🍅', 'Tomato'),\n",
    "          ('🥔', 'Potato'),\n",
    "      ])\n",
    "      | 'Format' >>\n",
    "      beam.MapTuple(lambda icon, plant: '{}{}'.format(icon, plant))\n",
    "      | beam.Map(print))"
   ]
  },
  {
   "cell_type": "markdown",
   "metadata": {
    "id": "example-6-map-with-side-inputs-as-singletons"
   },
   "source": [
    "### Example 6: Map with side inputs as singletons\n",
    "\n",
    "If the `PCollection` has a single value, such as the average from another computation,\n",
    "passing the `PCollection` as a *singleton* accesses that value.\n",
    "\n",
    "In this example, we pass a `PCollection` the value `'# \\n'` as a singleton.\n",
    "We then use that value as the characters for the `str.strip` method."
   ]
  },
  {
   "cell_type": "code",
   "execution_count": null,
   "metadata": {
    "id": "example-6-map-with-side-inputs-as-singletons-code"
   },
   "outputs": [],
   "source": [
    "import apache_beam as beam\n",
    "\n",
    "with beam.Pipeline() as pipeline:\n",
    "  chars = pipeline | 'Create chars' >> beam.Create(['# \\n'])\n",
    "\n",
    "  plants = (\n",
    "      pipeline\n",
    "      | 'Gardening plants' >> beam.Create([\n",
    "          '# 🍓Strawberry\\n',\n",
    "          '# 🥕Carrot\\n',\n",
    "          '# 🍆Eggplant\\n',\n",
    "          '# 🍅Tomato\\n',\n",
    "          '# 🥔Potato\\n',\n",
    "      ])\n",
    "      | 'Strip header' >> beam.Map(\n",
    "          lambda text,\n",
    "          chars: text.strip(chars),\n",
    "          chars=beam.pvalue.AsSingleton(chars),\n",
    "      )\n",
    "      | beam.Map(print))"
   ]
  },
  {
   "cell_type": "markdown",
   "metadata": {
    "id": "example-7-map-with-side-inputs-as-iterators"
   },
   "source": [
    "### Example 7: Map with side inputs as iterators\n",
    "\n",
    "If the `PCollection` has multiple values, pass the `PCollection` as an *iterator*.\n",
    "This accesses elements lazily as they are needed,\n",
    "so it is possible to iterate over large `PCollection`s that won't fit into memory."
   ]
  },
  {
   "cell_type": "code",
   "execution_count": null,
   "metadata": {
    "id": "example-7-map-with-side-inputs-as-iterators-code"
   },
   "outputs": [],
   "source": [
    "import apache_beam as beam\n",
    "\n",
    "with beam.Pipeline() as pipeline:\n",
    "  chars = pipeline | 'Create chars' >> beam.Create(['#', ' ', '\\n'])\n",
    "\n",
    "  plants = (\n",
    "      pipeline\n",
    "      | 'Gardening plants' >> beam.Create([\n",
    "          '# 🍓Strawberry\\n',\n",
    "          '# 🥕Carrot\\n',\n",
    "          '# 🍆Eggplant\\n',\n",
    "          '# 🍅Tomato\\n',\n",
    "          '# 🥔Potato\\n',\n",
    "      ])\n",
    "      | 'Strip header' >> beam.Map(\n",
    "          lambda text,\n",
    "          chars: text.strip(''.join(chars)),\n",
    "          chars=beam.pvalue.AsIter(chars),\n",
    "      )\n",
    "      | beam.Map(print))"
   ]
  },
  {
   "cell_type": "markdown",
   "metadata": {
    "id": "example-7-map-with-side-inputs-as-iterators-2"
   },
   "source": [
    "> **Note**: You can pass the `PCollection` as a *list* with `beam.pvalue.AsList(pcollection)`,\n",
    "> but this requires that all the elements fit into memory."
   ]
  },
  {
   "cell_type": "markdown",
   "metadata": {
    "id": "example-8-map-with-side-inputs-as-dictionaries"
   },
   "source": [
    "### Example 8: Map with side inputs as dictionaries\n",
    "\n",
    "If a `PCollection` is small enough to fit into memory, then that `PCollection` can be passed as a *dictionary*.\n",
    "Each element must be a `(key, value)` pair.\n",
    "Note that all the elements of the `PCollection` must fit into memory for this.\n",
    "If the `PCollection` won't fit into memory, use `beam.pvalue.AsIter(pcollection)` instead."
   ]
  },
  {
   "cell_type": "code",
   "execution_count": null,
   "metadata": {
    "id": "example-8-map-with-side-inputs-as-dictionaries-code"
   },
   "outputs": [],
   "source": [
    "import apache_beam as beam\n",
    "\n",
    "def replace_duration(plant, durations):\n",
    "  plant['duration'] = durations[plant['duration']]\n",
    "  return plant\n",
    "\n",
    "with beam.Pipeline() as pipeline:\n",
    "  durations = pipeline | 'Durations' >> beam.Create([\n",
    "      (0, 'annual'),\n",
    "      (1, 'biennial'),\n",
    "      (2, 'perennial'),\n",
    "  ])\n",
    "\n",
    "  plant_details = (\n",
    "      pipeline\n",
    "      | 'Gardening plants' >> beam.Create([\n",
    "          {\n",
    "              'icon': '🍓', 'name': 'Strawberry', 'duration': 2\n",
    "          },\n",
    "          {\n",
    "              'icon': '🥕', 'name': 'Carrot', 'duration': 1\n",
    "          },\n",
    "          {\n",
    "              'icon': '🍆', 'name': 'Eggplant', 'duration': 2\n",
    "          },\n",
    "          {\n",
    "              'icon': '🍅', 'name': 'Tomato', 'duration': 0\n",
    "          },\n",
    "          {\n",
    "              'icon': '🥔', 'name': 'Potato', 'duration': 2\n",
    "          },\n",
    "      ])\n",
    "      | 'Replace duration' >> beam.Map(\n",
    "          replace_duration,\n",
    "          durations=beam.pvalue.AsDict(durations),\n",
    "      )\n",
    "      | beam.Map(print))"
   ]
  },
  {
   "cell_type": "markdown",
   "metadata": {
    "id": "related-transforms"
   },
   "source": [
    "## Related transforms\n",
    "\n",
    "* [FlatMap](https://beam.apache.org/documentation/transforms/python/elementwise/flatmap) behaves the same as `Map`, but for\n",
    "  each input it may produce zero or more outputs.\n",
    "* [Filter](https://beam.apache.org/documentation/transforms/python/elementwise/filter) is useful if the function is just\n",
    "  deciding whether to output an element or not.\n",
    "* [ParDo](https://beam.apache.org/documentation/transforms/python/elementwise/pardo) is the most general elementwise mapping\n",
    "  operation, and includes other abilities such as multiple output collections and side-inputs."
   ]
  }
 ],
 "metadata": {
  "colab": {
   "name": "Map - element-wise transform",
   "toc_visible": true
  },
  "kernelspec": {
   "display_name": "Python 3",
   "language": "python",
   "name": "python3"
  },
  "language_info": {
   "codemirror_mode": {
    "name": "ipython",
    "version": 3
   },
   "file_extension": ".py",
   "mimetype": "text/x-python",
   "name": "python",
   "nbconvert_exporter": "python",
   "pygments_lexer": "ipython3",
   "version": "3.6.8"
  }
 },
 "nbformat": 4,
 "nbformat_minor": 4
}
