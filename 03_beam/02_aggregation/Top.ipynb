{
 "cells": [
  {
   "cell_type": "markdown",
   "metadata": {},
   "source": [
    "# Top\n",
    "\n",
    "Transforms for finding the largest (or smallest) set of elements in\n",
    "a collection, or the largest (or smallest) set of values associated\n",
    "with each key in a collection of key-value pairs."
   ]
  },
  {
   "cell_type": "markdown",
   "metadata": {
    "id": "setup"
   },
   "source": [
    "## Setup\n",
    "\n",
    "To run a code cell, you can click the **Run cell** button at the top left of the cell,\n",
    "or select it and press **`Shift+Enter`**.\n",
    "Try modifying a code cell and re-running it to see what happens.\n",
    "\n",
    "First, let's install the `apache-beam` module."
   ]
  },
  {
   "cell_type": "code",
   "execution_count": null,
   "metadata": {
    "id": "setup-code"
   },
   "outputs": [],
   "source": [
    "!pip install --quiet -U apache-beam"
   ]
  },
  {
   "cell_type": "markdown",
   "metadata": {},
   "source": [
    "## Examples\n",
    "\n",
    "In the following example, we create a pipeline with a `PCollection`.\n",
    "Then, we get the largest or smallest elements in different ways."
   ]
  },
  {
   "cell_type": "markdown",
   "metadata": {},
   "source": [
    "### Example 1: Largest elements from a PCollection\n",
    "\n",
    "We use `Top.Largest()` to get the largest elements from the *entire* `PCollection`."
   ]
  },
  {
   "cell_type": "code",
   "execution_count": 1,
   "metadata": {},
   "outputs": [
    {
     "data": {
      "application/javascript": [
       "\n",
       "        if (typeof window.interactive_beam_jquery == 'undefined') {\n",
       "          var jqueryScript = document.createElement('script');\n",
       "          jqueryScript.src = 'https://code.jquery.com/jquery-3.4.1.slim.min.js';\n",
       "          jqueryScript.type = 'text/javascript';\n",
       "          jqueryScript.onload = function() {\n",
       "            var datatableScript = document.createElement('script');\n",
       "            datatableScript.src = 'https://cdn.datatables.net/1.10.20/js/jquery.dataTables.min.js';\n",
       "            datatableScript.type = 'text/javascript';\n",
       "            datatableScript.onload = function() {\n",
       "              window.interactive_beam_jquery = jQuery.noConflict(true);\n",
       "              window.interactive_beam_jquery(document).ready(function($){\n",
       "                \n",
       "              });\n",
       "            }\n",
       "            document.head.appendChild(datatableScript);\n",
       "          };\n",
       "          document.head.appendChild(jqueryScript);\n",
       "        } else {\n",
       "          window.interactive_beam_jquery(document).ready(function($){\n",
       "            \n",
       "          });\n",
       "        }"
      ]
     },
     "metadata": {},
     "output_type": "display_data"
    },
    {
     "data": {
      "application/javascript": [
       "\n",
       "        var import_html = () => {\n",
       "          ['https://raw.githubusercontent.com/PAIR-code/facets/1.0.0/facets-dist/facets-jupyter.html'].forEach(href => {\n",
       "            var link = document.createElement('link');\n",
       "            link.rel = 'import'\n",
       "            link.href = href;\n",
       "            document.head.appendChild(link);\n",
       "          });\n",
       "        }\n",
       "        if ('import' in document.createElement('link')) {\n",
       "          import_html();\n",
       "        } else {\n",
       "          var webcomponentScript = document.createElement('script');\n",
       "          webcomponentScript.src = 'https://cdnjs.cloudflare.com/ajax/libs/webcomponentsjs/1.3.3/webcomponents-lite.js';\n",
       "          webcomponentScript.type = 'text/javascript';\n",
       "          webcomponentScript.onload = function(){\n",
       "            import_html();\n",
       "          };\n",
       "          document.head.appendChild(webcomponentScript);\n",
       "        }"
      ]
     },
     "metadata": {},
     "output_type": "display_data"
    },
    {
     "name": "stdout",
     "output_type": "stream",
     "text": [
      "[4, 3]\n"
     ]
    }
   ],
   "source": [
    "import apache_beam as beam\n",
    "\n",
    "with beam.Pipeline() as pipeline:\n",
    "  largest_elements = (\n",
    "      pipeline\n",
    "      | 'Create numbers' >> beam.Create([3, 4, 1, 2])\n",
    "      | 'Largest N values' >> beam.combiners.Top.Largest(2)\n",
    "      | beam.Map(print))"
   ]
  },
  {
   "cell_type": "markdown",
   "metadata": {},
   "source": [
    "### Example 2: Largest elements for each key\n",
    "\n",
    "We use `Top.LargestPerKey()` to get the largest elements for each unique key in a `PCollection` of key-values."
   ]
  },
  {
   "cell_type": "code",
   "execution_count": 2,
   "metadata": {},
   "outputs": [
    {
     "name": "stdout",
     "output_type": "stream",
     "text": [
      "('🥕', [3, 2])\n",
      "('🍆', [1])\n",
      "('🍅', [5, 4])\n"
     ]
    }
   ],
   "source": [
    "import apache_beam as beam\n",
    "\n",
    "with beam.Pipeline() as pipeline:\n",
    "  largest_elements_per_key = (\n",
    "      pipeline\n",
    "      | 'Create produce' >> beam.Create([\n",
    "          ('🥕', 3),\n",
    "          ('🥕', 2),\n",
    "          ('🍆', 1),\n",
    "          ('🍅', 4),\n",
    "          ('🍅', 5),\n",
    "          ('🍅', 3),\n",
    "      ])\n",
    "      | 'Largest N values per key' >> beam.combiners.Top.LargestPerKey(2)\n",
    "      | beam.Map(print))"
   ]
  },
  {
   "cell_type": "markdown",
   "metadata": {},
   "source": [
    "### Example 3: Smallest elements from a PCollection\n",
    "\n",
    "We use `Top.Smallest()` to get the smallest elements from the *entire* `PCollection`."
   ]
  },
  {
   "cell_type": "code",
   "execution_count": 3,
   "metadata": {},
   "outputs": [
    {
     "name": "stdout",
     "output_type": "stream",
     "text": [
      "[1, 2]\n"
     ]
    }
   ],
   "source": [
    "import apache_beam as beam\n",
    "\n",
    "with beam.Pipeline() as pipeline:\n",
    "  smallest_elements = (\n",
    "      pipeline\n",
    "      | 'Create numbers' >> beam.Create([3, 4, 1, 2])\n",
    "      | 'Smallest N values' >> beam.combiners.Top.Smallest(2)\n",
    "      | beam.Map(print))\n"
   ]
  },
  {
   "cell_type": "markdown",
   "metadata": {},
   "source": [
    "### Example 4: Smallest elements for each key\n",
    "\n",
    "We use `Top.SmallestPerKey()` to get the smallest elements for each unique key in a `PCollection` of key-values."
   ]
  },
  {
   "cell_type": "code",
   "execution_count": 4,
   "metadata": {},
   "outputs": [
    {
     "name": "stdout",
     "output_type": "stream",
     "text": [
      "('🥕', [2, 3])\n",
      "('🍆', [1])\n",
      "('🍅', [3, 4])\n"
     ]
    }
   ],
   "source": [
    "import apache_beam as beam\n",
    "\n",
    "with beam.Pipeline() as pipeline:\n",
    "  smallest_elements_per_key = (\n",
    "      pipeline\n",
    "      | 'Create produce' >> beam.Create([\n",
    "          ('🥕', 3),\n",
    "          ('🥕', 2),\n",
    "          ('🍆', 1),\n",
    "          ('🍅', 4),\n",
    "          ('🍅', 5),\n",
    "          ('🍅', 3),\n",
    "      ])\n",
    "      | 'Smallest N values per key' >> beam.combiners.Top.SmallestPerKey(2)\n",
    "      | beam.Map(print))"
   ]
  },
  {
   "cell_type": "markdown",
   "metadata": {},
   "source": [
    "### Example 5: Custom elements from a PCollection\n",
    "\n",
    "We use `Top.Of()` to get elements with customized rules from the *entire* `PCollection`.\n",
    "\n",
    "You can change how the elements are compared with `key`.\n",
    "By default you get the largest elements, but you can get the smallest by setting `reverse=True`."
   ]
  },
  {
   "cell_type": "code",
   "execution_count": 5,
   "metadata": {},
   "outputs": [
    {
     "name": "stdout",
     "output_type": "stream",
     "text": [
      "['🌽 Corn', '🥕 Carrot']\n"
     ]
    }
   ],
   "source": [
    "import apache_beam as beam\n",
    "\n",
    "with beam.Pipeline() as pipeline:\n",
    "  shortest_elements = (\n",
    "      pipeline\n",
    "      | 'Create produce names' >> beam.Create([\n",
    "          '🍓 Strawberry',\n",
    "          '🥕 Carrot',\n",
    "          '🍏 Green apple',\n",
    "          '🍆 Eggplant',\n",
    "          '🌽 Corn',\n",
    "      ])\n",
    "      | 'Shortest names' >> beam.combiners.Top.Of(\n",
    "          2,             # number of elements\n",
    "          key=len,       # optional, defaults to the element itself\n",
    "          reverse=True,  # optional, defaults to False (largest/descending)\n",
    "      )\n",
    "      | beam.Map(print)\n",
    "  )"
   ]
  },
  {
   "cell_type": "markdown",
   "metadata": {},
   "source": [
    "### Example 6: Custom elements for each key\n",
    "\n",
    "We use `Top.PerKey()` to get elements with customized rules for each unique key in a `PCollection` of key-values.\n",
    "\n",
    "You can change how the elements are compared with `key`.\n",
    "By default you get the largest elements, but you can get the smallest by setting `reverse=True`."
   ]
  },
  {
   "cell_type": "code",
   "execution_count": 6,
   "metadata": {},
   "outputs": [
    {
     "name": "stdout",
     "output_type": "stream",
     "text": [
      "('spring', ['🥕 Carrot', '🍓 Strawberry'])\n",
      "('summer', ['🌽 Corn', '🥕 Carrot'])\n",
      "('fall', ['🥕 Carrot', '🍏 Green apple'])\n",
      "('winter', ['🍆 Eggplant'])\n"
     ]
    }
   ],
   "source": [
    "import apache_beam as beam\n",
    "\n",
    "with beam.Pipeline() as pipeline:\n",
    "  shortest_elements_per_key = (\n",
    "      pipeline\n",
    "      | 'Create produce names' >> beam.Create([\n",
    "          ('spring', '🥕 Carrot'),\n",
    "          ('spring', '🍓 Strawberry'),\n",
    "          ('summer', '🥕 Carrot'),\n",
    "          ('summer', '🌽 Corn'),\n",
    "          ('summer', '🍏 Green apple'),\n",
    "          ('fall', '🥕 Carrot'),\n",
    "          ('fall', '🍏 Green apple'),\n",
    "          ('winter', '🍆 Eggplant'),\n",
    "      ])\n",
    "      | 'Shortest names per key' >> beam.combiners.Top.PerKey(\n",
    "          2,             # number of elements\n",
    "          key=len,       # optional, defaults to the value itself\n",
    "          reverse=True,  # optional, defaults to False (largest/descending)\n",
    "      )\n",
    "      | beam.Map(print)\n",
    "  )"
   ]
  },
  {
   "cell_type": "markdown",
   "metadata": {},
   "source": [
    "## Related transforms\n",
    "\n",
    "* [Sample](/documentation/transforms/python/aggregation/sample) to combine elements. Takes samples of the elements in a collection."
   ]
  },
  {
   "cell_type": "code",
   "execution_count": null,
   "metadata": {},
   "outputs": [],
   "source": []
  }
 ],
 "metadata": {
  "kernelspec": {
   "display_name": "Python 3",
   "language": "python",
   "name": "python3"
  },
  "language_info": {
   "codemirror_mode": {
    "name": "ipython",
    "version": 3
   },
   "file_extension": ".py",
   "mimetype": "text/x-python",
   "name": "python",
   "nbconvert_exporter": "python",
   "pygments_lexer": "ipython3",
   "version": "3.6.8"
  }
 },
 "nbformat": 4,
 "nbformat_minor": 4
}
