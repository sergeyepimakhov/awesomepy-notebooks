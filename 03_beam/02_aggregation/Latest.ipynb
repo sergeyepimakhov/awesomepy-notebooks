{
 "cells": [
  {
   "cell_type": "markdown",
   "metadata": {},
   "source": [
    "# Latest\n",
    "\n",
    "Gets the element with the latest timestamp."
   ]
  },
  {
   "cell_type": "markdown",
   "metadata": {
    "id": "setup"
   },
   "source": [
    "## Setup\n",
    "\n",
    "To run a code cell, you can click the **Run cell** button at the top left of the cell,\n",
    "or select it and press **`Shift+Enter`**.\n",
    "Try modifying a code cell and re-running it to see what happens.\n",
    "\n",
    "First, let's install the `apache-beam` module."
   ]
  },
  {
   "cell_type": "code",
   "execution_count": null,
   "metadata": {
    "id": "setup-code"
   },
   "outputs": [],
   "source": [
    "!pip install --quiet -U apache-beam"
   ]
  },
  {
   "cell_type": "markdown",
   "metadata": {},
   "source": [
    "## Examples\n",
    "\n",
    "In the following examples, we create a pipeline with a `PCollection` of produce with a timestamp for their harvest date.\n",
    "\n",
    "We use `Latest` to get the element with the latest timestamp from the `PCollection`."
   ]
  },
  {
   "cell_type": "markdown",
   "metadata": {},
   "source": [
    "### Example 1: Latest element globally\n",
    "\n",
    "We use `Latest.Globally()` to get the element with the latest timestamp in the entire `PCollection`."
   ]
  },
  {
   "cell_type": "code",
   "execution_count": 3,
   "metadata": {},
   "outputs": [
    {
     "name": "stdout",
     "output_type": "stream",
     "text": [
      "🍆\n"
     ]
    }
   ],
   "source": [
    "import apache_beam as beam\n",
    "import time\n",
    "\n",
    "def to_unix_time(time_str, format='%Y-%m-%d %H:%M:%S'):\n",
    "  return time.mktime(time.strptime(time_str, format))\n",
    "\n",
    "with beam.Pipeline() as pipeline:\n",
    "  latest_element = (\n",
    "      pipeline\n",
    "      | 'Create crops' >> beam.Create([\n",
    "          {\n",
    "              'item': '🥬', 'harvest': '2020-02-24 00:00:00'\n",
    "          },\n",
    "          {\n",
    "              'item': '🍓', 'harvest': '2020-06-16 00:00:00'\n",
    "          },\n",
    "          {\n",
    "              'item': '🥕', 'harvest': '2020-07-17 00:00:00'\n",
    "          },\n",
    "          {\n",
    "              'item': '🍆', 'harvest': '2020-10-26 00:00:00'\n",
    "          },\n",
    "          {\n",
    "              'item': '🍅', 'harvest': '2020-10-01 00:00:00'\n",
    "          },\n",
    "      ])\n",
    "      | 'With timestamps' >> beam.Map(\n",
    "          lambda crop: beam.window.TimestampedValue(\n",
    "              crop['item'], to_unix_time(crop['harvest'])))\n",
    "      | 'Get latest element' >> beam.combiners.Latest.Globally()\n",
    "      | beam.Map(print))"
   ]
  },
  {
   "cell_type": "markdown",
   "metadata": {},
   "source": [
    "### Example 2: Latest elements for each key\n",
    "\n",
    "We use `Latest.PerKey()` to get the elements with the latest timestamp for each key in a `PCollection` of key-values."
   ]
  },
  {
   "cell_type": "code",
   "execution_count": 4,
   "metadata": {},
   "outputs": [
    {
     "name": "stdout",
     "output_type": "stream",
     "text": [
      "('spring', '🥕')\n",
      "('summer', '🍅')\n",
      "('autumn', '🍆')\n",
      "('winter', '\\U0001f96c')\n"
     ]
    }
   ],
   "source": [
    "import apache_beam as beam\n",
    "import time\n",
    "\n",
    "def to_unix_time(time_str, format='%Y-%m-%d %H:%M:%S'):\n",
    "  return time.mktime(time.strptime(time_str, format))\n",
    "\n",
    "with beam.Pipeline() as pipeline:\n",
    "  latest_elements_per_key = (\n",
    "      pipeline\n",
    "      | 'Create crops' >> beam.Create([\n",
    "          ('spring', {\n",
    "              'item': '🥕', 'harvest': '2020-06-28 00:00:00'\n",
    "          }),\n",
    "          ('spring', {\n",
    "              'item': '🍓', 'harvest': '2020-06-16 00:00:00'\n",
    "          }),\n",
    "          ('summer', {\n",
    "              'item': '🥕', 'harvest': '2020-07-17 00:00:00'\n",
    "          }),\n",
    "          ('summer', {\n",
    "              'item': '🍓', 'harvest': '2020-08-26 00:00:00'\n",
    "          }),\n",
    "          ('summer', {\n",
    "              'item': '🍆', 'harvest': '2020-09-04 00:00:00'\n",
    "          }),\n",
    "          ('summer', {\n",
    "              'item': '🥬', 'harvest': '2020-09-18 00:00:00'\n",
    "          }),\n",
    "          ('summer', {\n",
    "              'item': '🍅', 'harvest': '2020-09-22 00:00:00'\n",
    "          }),\n",
    "          ('autumn', {\n",
    "              'item': '🍅', 'harvest': '2020-10-01 00:00:00'\n",
    "          }),\n",
    "          ('autumn', {\n",
    "              'item': '🥬', 'harvest': '2020-10-20 00:00:00'\n",
    "          }),\n",
    "          ('autumn', {\n",
    "              'item': '🍆', 'harvest': '2020-10-26 00:00:00'\n",
    "          }),\n",
    "          ('winter', {\n",
    "              'item': '🥬', 'harvest': '2020-02-24 00:00:00'\n",
    "          }),\n",
    "      ])\n",
    "      | 'With timestamps' >> beam.Map(\n",
    "          lambda pair: beam.window.TimestampedValue(\n",
    "              (pair[0], pair[1]['item']), to_unix_time(pair[1]['harvest'])))\n",
    "      | 'Get latest elements per key' >> beam.combiners.Latest.PerKey()\n",
    "      | beam.Map(print))"
   ]
  },
  {
   "cell_type": "markdown",
   "metadata": {},
   "source": [
    "## Related transforms\n",
    "\n",
    "* [Sample](/documentation/transforms/python/aggregation/sample) randomly takes some number of elements in a collection."
   ]
  },
  {
   "cell_type": "code",
   "execution_count": null,
   "metadata": {},
   "outputs": [],
   "source": []
  }
 ],
 "metadata": {
  "kernelspec": {
   "display_name": "Python 3",
   "language": "python",
   "name": "python3"
  },
  "language_info": {
   "codemirror_mode": {
    "name": "ipython",
    "version": 3
   },
   "file_extension": ".py",
   "mimetype": "text/x-python",
   "name": "python",
   "nbconvert_exporter": "python",
   "pygments_lexer": "ipython3",
   "version": "3.6.8"
  }
 },
 "nbformat": 4,
 "nbformat_minor": 4
}
