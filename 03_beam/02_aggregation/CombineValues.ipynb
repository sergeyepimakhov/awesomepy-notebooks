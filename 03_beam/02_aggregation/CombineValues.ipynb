{
 "cells": [
  {
   "cell_type": "markdown",
   "metadata": {},
   "source": [
    "# CombineValues\n",
    "\n",
    "Combines an iterable of values in a keyed collection of elements."
   ]
  },
  {
   "cell_type": "markdown",
   "metadata": {
    "id": "setup"
   },
   "source": [
    "## Setup\n",
    "\n",
    "To run a code cell, you can click the **Run cell** button at the top left of the cell,\n",
    "or select it and press **`Shift+Enter`**.\n",
    "Try modifying a code cell and re-running it to see what happens.\n",
    "\n",
    "First, let's install the `apache-beam` module."
   ]
  },
  {
   "cell_type": "code",
   "execution_count": null,
   "metadata": {
    "id": "setup-code"
   },
   "outputs": [],
   "source": [
    "!pip install --quiet -U apache-beam"
   ]
  },
  {
   "cell_type": "markdown",
   "metadata": {},
   "source": [
    "## Examples\n",
    "\n",
    "In the following examples, we create a pipeline with a `PCollection` of produce.\n",
    "Then, we apply `CombineValues` in multiple ways to combine the keyed values in the `PCollection`.\n",
    "\n",
    "`CombineValues` accepts a function that takes an `iterable` of elements as an input, and combines them to return a single element.\n",
    "`CombineValues` expects a keyed `PCollection` of elements, where the value is an iterable of elements to be combined."
   ]
  },
  {
   "cell_type": "markdown",
   "metadata": {},
   "source": [
    "### Example 1: Combining with a predefined function\n",
    "\n",
    "We use the function\n",
    "[`sum`](https://docs.python.org/3/library/functions.html#sum)\n",
    "which takes an `iterable` of numbers and adds them together."
   ]
  },
  {
   "cell_type": "code",
   "execution_count": 10,
   "metadata": {},
   "outputs": [
    {
     "name": "stdout",
     "output_type": "stream",
     "text": [
      "('🥕', 5)\n",
      "('🍆', 1)\n",
      "('🍅', 12)\n"
     ]
    }
   ],
   "source": [
    "import apache_beam as beam\n",
    "\n",
    "with beam.Pipeline() as pipeline:\n",
    "  total = (\n",
    "      pipeline\n",
    "      | 'Create produce counts' >> beam.Create([\n",
    "          ('🥕', [3, 2]),\n",
    "          ('🍆', [1]),\n",
    "          ('🍅', [4, 5, 3]),\n",
    "      ])\n",
    "      | 'Sum' >> beam.CombineValues(sum)\n",
    "      | beam.Map(print))"
   ]
  },
  {
   "cell_type": "markdown",
   "metadata": {},
   "source": [
    "### Example 2: Combining with a function\n",
    "\n",
    "We want the sum to be bounded up to a maximum value, so we use\n",
    "[saturated arithmetic](https://en.wikipedia.org/wiki/Saturation_arithmetic).\n",
    "\n",
    "We define a function `saturated_sum` which takes an `iterable` of numbers and adds them together, up to a predefined maximum number."
   ]
  },
  {
   "cell_type": "code",
   "execution_count": 11,
   "metadata": {},
   "outputs": [
    {
     "name": "stdout",
     "output_type": "stream",
     "text": [
      "('🥕', 5)\n",
      "('🍆', 1)\n",
      "('🍅', 8)\n"
     ]
    }
   ],
   "source": [
    "import apache_beam as beam\n",
    "\n",
    "def saturated_sum(values):\n",
    "  max_value = 8\n",
    "  return min(sum(values), max_value)\n",
    "\n",
    "with beam.Pipeline() as pipeline:\n",
    "  saturated_total = (\n",
    "      pipeline\n",
    "      | 'Create plant counts' >> beam.Create([\n",
    "          ('🥕', [3, 2]),\n",
    "          ('🍆', [1]),\n",
    "          ('🍅', [4, 5, 3]),\n",
    "      ])\n",
    "      | 'Saturated sum' >> beam.CombineValues(saturated_sum)\n",
    "      | beam.Map(print))"
   ]
  },
  {
   "cell_type": "markdown",
   "metadata": {},
   "source": [
    "### Example 3: Combining with a lambda function\n",
    "\n",
    "We can also use lambda functions to simplify **Example 2**."
   ]
  },
  {
   "cell_type": "code",
   "execution_count": 12,
   "metadata": {},
   "outputs": [
    {
     "name": "stdout",
     "output_type": "stream",
     "text": [
      "('🥕', 5)\n",
      "('🍆', 1)\n",
      "('🍅', 8)\n"
     ]
    }
   ],
   "source": [
    "import apache_beam as beam\n",
    "\n",
    "with beam.Pipeline() as pipeline:\n",
    "  saturated_total = (\n",
    "      pipeline\n",
    "      | 'Create plant counts' >> beam.Create([\n",
    "          ('🥕', [3, 2]),\n",
    "          ('🍆', [1]),\n",
    "          ('🍅', [4, 5, 3]),\n",
    "      ])\n",
    "      | 'Saturated sum' >>\n",
    "      beam.CombineValues(lambda values: min(sum(values), 8))\n",
    "      | beam.Map(print))"
   ]
  },
  {
   "cell_type": "markdown",
   "metadata": {},
   "source": [
    "### Example 4: Combining with multiple arguments\n",
    "\n",
    "You can pass functions with multiple arguments to `CombineValues`.\n",
    "They are passed as additional positional arguments or keyword arguments to the function.\n",
    "\n",
    "In this example, the lambda function takes `values` and `max_value` as arguments."
   ]
  },
  {
   "cell_type": "code",
   "execution_count": 13,
   "metadata": {},
   "outputs": [
    {
     "name": "stdout",
     "output_type": "stream",
     "text": [
      "('🥕', 5)\n",
      "('🍆', 1)\n",
      "('🍅', 8)\n"
     ]
    }
   ],
   "source": [
    "import apache_beam as beam\n",
    "\n",
    "with beam.Pipeline() as pipeline:\n",
    "  saturated_total = (\n",
    "      pipeline\n",
    "      | 'Create plant counts' >> beam.Create([\n",
    "          ('🥕', [3, 2]),\n",
    "          ('🍆', [1]),\n",
    "          ('🍅', [4, 5, 3]),\n",
    "      ])\n",
    "      | 'Saturated sum' >> beam.CombineValues(\n",
    "          lambda values, max_value: min(sum(values), max_value), max_value=8)\n",
    "      | beam.Map(print))"
   ]
  },
  {
   "cell_type": "markdown",
   "metadata": {},
   "source": [
    "### Example 5: Combining with side inputs as singletons\n",
    "\n",
    "If the `PCollection` has a single value, such as the average from another computation,\n",
    "passing the `PCollection` as a *singleton* accesses that value.\n",
    "\n",
    "In this example, we pass a `PCollection` the value `8` as a singleton.\n",
    "We then use that value as the `max_value` for our saturated sum."
   ]
  },
  {
   "cell_type": "code",
   "execution_count": 14,
   "metadata": {},
   "outputs": [
    {
     "name": "stdout",
     "output_type": "stream",
     "text": [
      "('🥕', 5)\n",
      "('🍆', 1)\n",
      "('🍅', 8)\n"
     ]
    }
   ],
   "source": [
    "import apache_beam as beam\n",
    "\n",
    "with beam.Pipeline() as pipeline:\n",
    "  max_value = pipeline | 'Create max_value' >> beam.Create([8])\n",
    "\n",
    "  saturated_total = (\n",
    "      pipeline\n",
    "      | 'Create plant counts' >> beam.Create([\n",
    "          ('🥕', [3, 2]),\n",
    "          ('🍆', [1]),\n",
    "          ('🍅', [4, 5, 3]),\n",
    "      ])\n",
    "      | 'Saturated sum' >> beam.CombineValues(\n",
    "          lambda values,\n",
    "          max_value: min(sum(values), max_value),\n",
    "          max_value=beam.pvalue.AsSingleton(max_value))\n",
    "      | beam.Map(print))"
   ]
  },
  {
   "cell_type": "markdown",
   "metadata": {},
   "source": [
    "### Example 6: Combining with side inputs as iterators\n",
    "\n",
    "If the `PCollection` has multiple values, pass the `PCollection` as an *iterator*.\n",
    "This accesses elements lazily as they are needed,\n",
    "so it is possible to iterate over large `PCollection`s that won't fit into memory.\n",
    "\n",
    "> **Note**: You can pass the `PCollection` as a *list* with `beam.pvalue.AsList(pcollection)`,\n",
    "> but this requires that all the elements fit into memory."
   ]
  },
  {
   "cell_type": "code",
   "execution_count": 15,
   "metadata": {},
   "outputs": [
    {
     "name": "stdout",
     "output_type": "stream",
     "text": [
      "('🥕', 5)\n",
      "('🍆', 2)\n",
      "('🍅', 8)\n"
     ]
    }
   ],
   "source": [
    "import apache_beam as beam\n",
    "\n",
    "def bounded_sum(values, data_range):\n",
    "  min_value = min(data_range)\n",
    "  result = sum(values)\n",
    "  if result < min_value:\n",
    "    return min_value\n",
    "  max_value = max(data_range)\n",
    "  if result > max_value:\n",
    "    return max_value\n",
    "  return result\n",
    "\n",
    "with beam.Pipeline() as pipeline:\n",
    "  data_range = pipeline | 'Create data_range' >> beam.Create([2, 4, 8])\n",
    "\n",
    "  bounded_total = (\n",
    "      pipeline\n",
    "      | 'Create plant counts' >> beam.Create([\n",
    "          ('🥕', [3, 2]),\n",
    "          ('🍆', [1]),\n",
    "          ('🍅', [4, 5, 3]),\n",
    "      ])\n",
    "      | 'Bounded sum' >> beam.CombineValues(\n",
    "          bounded_sum, data_range=beam.pvalue.AsIter(data_range))\n",
    "      | beam.Map(print))"
   ]
  },
  {
   "cell_type": "markdown",
   "metadata": {},
   "source": [
    "### Example 7: Combining with side inputs as dictionaries\n",
    "\n",
    "If a `PCollection` is small enough to fit into memory, then that `PCollection` can be passed as a *dictionary*.\n",
    "Each element must be a `(key, value)` pair.\n",
    "Note that all the elements of the `PCollection` must fit into memory for this.\n",
    "If the `PCollection` won't fit into memory, use `beam.pvalue.AsIter(pcollection)` instead."
   ]
  },
  {
   "cell_type": "code",
   "execution_count": 16,
   "metadata": {},
   "outputs": [
    {
     "name": "stdout",
     "output_type": "stream",
     "text": [
      "('🥕', 5)\n",
      "('🍆', 2)\n",
      "('🍅', 8)\n"
     ]
    }
   ],
   "source": [
    "import apache_beam as beam\n",
    "\n",
    "def bounded_sum(values, data_range):\n",
    "  min_value = data_range['min']\n",
    "  result = sum(values)\n",
    "  if result < min_value:\n",
    "    return min_value\n",
    "  max_value = data_range['max']\n",
    "  if result > max_value:\n",
    "    return max_value\n",
    "  return result\n",
    "\n",
    "with beam.Pipeline() as pipeline:\n",
    "  data_range = pipeline | 'Create data_range' >> beam.Create([\n",
    "      ('min', 2),\n",
    "      ('max', 8),\n",
    "  ])\n",
    "\n",
    "  bounded_total = (\n",
    "      pipeline\n",
    "      | 'Create plant counts' >> beam.Create([\n",
    "          ('🥕', [3, 2]),\n",
    "          ('🍆', [1]),\n",
    "          ('🍅', [4, 5, 3]),\n",
    "      ])\n",
    "      | 'Bounded sum' >> beam.CombineValues(\n",
    "          bounded_sum, data_range=beam.pvalue.AsDict(data_range))\n",
    "      | beam.Map(print))"
   ]
  },
  {
   "cell_type": "markdown",
   "metadata": {},
   "source": [
    "### Example 8: Combining with a `CombineFn`\n",
    "\n",
    "The more general way to combine elements, and the most flexible, is with a class that inherits from `CombineFn`.\n",
    "\n",
    "* [`CombineFn.create_accumulator()`](https://beam.apache.org/releases/pydoc/current/apache_beam.transforms.core.html#apache_beam.transforms.core.CombineFn.create_accumulator):\n",
    "  This creates an empty accumulator.\n",
    "  For example, an empty accumulator for a sum would be `0`, while an empty accumulator for a product (multiplication) would be `1`.\n",
    "\n",
    "* [`CombineFn.add_input()`](https://beam.apache.org/releases/pydoc/current/apache_beam.transforms.core.html#apache_beam.transforms.core.CombineFn.add_input):\n",
    "  Called *once per element*.\n",
    "  Takes an accumulator and an input element, combines them and returns the updated accumulator.\n",
    "\n",
    "* [`CombineFn.merge_accumulators()`](https://beam.apache.org/releases/pydoc/current/apache_beam.transforms.core.html#apache_beam.transforms.core.CombineFn.merge_accumulators):\n",
    "  Multiple accumulators could be processed in parallel, so this function helps merging them into a single accumulator.\n",
    "\n",
    "* [`CombineFn.extract_output()`](https://beam.apache.org/releases/pydoc/current/apache_beam.transforms.core.html#apache_beam.transforms.core.CombineFn.extract_output):\n",
    "  It allows to do additional calculations before extracting a result."
   ]
  },
  {
   "cell_type": "code",
   "execution_count": 17,
   "metadata": {},
   "outputs": [
    {
     "name": "stdout",
     "output_type": "stream",
     "text": [
      "('spring', {'🥕': 0.4, '🍅': 0.4, '🍆': 0.2})\n",
      "('summer', {'🥕': 0.2, '🍅': 0.6, '🌽': 0.2})\n",
      "('fall', {'🥕': 0.5, '🍅': 0.5})\n",
      "('winter', {'🍆': 1.0})\n"
     ]
    }
   ],
   "source": [
    "import apache_beam as beam\n",
    "\n",
    "class AverageFn(beam.CombineFn):\n",
    "  def create_accumulator(self):\n",
    "    return {}\n",
    "\n",
    "  def add_input(self, accumulator, input):\n",
    "    # accumulator == {}\n",
    "    # input == '🥕'\n",
    "    if input not in accumulator:\n",
    "      accumulator[input] = 0  # {'🥕': 0}\n",
    "    accumulator[input] += 1  # {'🥕': 1}\n",
    "    return accumulator\n",
    "\n",
    "  def merge_accumulators(self, accumulators):\n",
    "    # accumulators == [\n",
    "    #     {'🥕': 1, '🍅': 1},\n",
    "    #     {'🥕': 1, '🍅': 1, '🍆': 1},\n",
    "    # ]\n",
    "    merged = {}\n",
    "    for accum in accumulators:\n",
    "      for item, count in accum.items():\n",
    "        if item not in merged:\n",
    "          merged[item] = 0\n",
    "        merged[item] += count\n",
    "    # merged == {'🥕': 2, '🍅': 2, '🍆': 1}\n",
    "    return merged\n",
    "\n",
    "  def extract_output(self, accumulator):\n",
    "    # accumulator == {'🥕': 2, '🍅': 2, '🍆': 1}\n",
    "    total = sum(accumulator.values())  # 5\n",
    "    percentages = {item: count / total for item, count in accumulator.items()}\n",
    "    # percentages == {'🥕': 0.4, '🍅': 0.4, '🍆': 0.2}\n",
    "    return percentages\n",
    "\n",
    "with beam.Pipeline() as pipeline:\n",
    "  percentages_per_season = (\n",
    "      pipeline\n",
    "      | 'Create produce' >> beam.Create([\n",
    "          ('spring', ['🥕', '🍅', '🥕', '🍅', '🍆']),\n",
    "          ('summer', ['🥕', '🍅', '🌽', '🍅', '🍅']),\n",
    "          ('fall', ['🥕', '🥕', '🍅', '🍅']),\n",
    "          ('winter', ['🍆', '🍆']),\n",
    "      ])\n",
    "      | 'Average' >> beam.CombineValues(AverageFn())\n",
    "      | beam.Map(print))"
   ]
  },
  {
   "cell_type": "markdown",
   "metadata": {},
   "source": [
    "## Related transforms\n",
    "\n",
    "You can use the following combiner transforms:\n",
    "\n",
    "* [CombineGlobally](/documentation/transforms/python/aggregation/combineglobally)\n",
    "* [CombinePerKey](/documentation/transforms/python/aggregation/combineperkey)\n",
    "* [Mean](/documentation/transforms/python/aggregation/mean)\n",
    "* [Count](/documentation/transforms/python/aggregation/count)\n",
    "* [Top](/documentation/transforms/python/aggregation/top)\n",
    "* [Sample](/documentation/transforms/python/aggregation/sample)"
   ]
  },
  {
   "cell_type": "code",
   "execution_count": null,
   "metadata": {},
   "outputs": [],
   "source": []
  }
 ],
 "metadata": {
  "kernelspec": {
   "display_name": "Python 3",
   "language": "python",
   "name": "python3"
  },
  "language_info": {
   "codemirror_mode": {
    "name": "ipython",
    "version": 3
   },
   "file_extension": ".py",
   "mimetype": "text/x-python",
   "name": "python",
   "nbconvert_exporter": "python",
   "pygments_lexer": "ipython3",
   "version": "3.6.8"
  }
 },
 "nbformat": 4,
 "nbformat_minor": 4
}
