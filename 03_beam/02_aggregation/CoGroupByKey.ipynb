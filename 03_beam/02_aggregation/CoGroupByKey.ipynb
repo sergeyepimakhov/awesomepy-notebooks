{
 "cells": [
  {
   "cell_type": "markdown",
   "metadata": {},
   "source": [
    "# CoGroupByKey\n",
    "\n",
    "Aggregates all input elements by their key and allows downstream processing\n",
    "to consume all values associated with the key. While `GroupByKey` performs\n",
    "this operation over a single input collection and thus a single type of input\n",
    "values, `CoGroupByKey` operates over multiple input collections. As a result,\n",
    "the result for each key is a tuple of the values associated with that key in\n",
    "each input collection."
   ]
  },
  {
   "cell_type": "markdown",
   "metadata": {
    "id": "setup"
   },
   "source": [
    "## Setup\n",
    "\n",
    "To run a code cell, you can click the **Run cell** button at the top left of the cell,\n",
    "or select it and press **`Shift+Enter`**.\n",
    "Try modifying a code cell and re-running it to see what happens.\n",
    "\n",
    "First, let's install the `apache-beam` module."
   ]
  },
  {
   "cell_type": "code",
   "execution_count": null,
   "metadata": {
    "id": "setup-code"
   },
   "outputs": [],
   "source": [
    "!pip install --quiet -U apache-beam"
   ]
  },
  {
   "cell_type": "markdown",
   "metadata": {},
   "source": [
    "## Examples\n",
    "\n",
    "In the following example, we create a pipeline with two `PCollection`s of produce, one with icons and one with durations, both with a common key of the produce name.\n",
    "Then, we apply `CoGroupByKey` to join both `PCollection`s using their keys.\n",
    "\n",
    "`CoGroupByKey` expects a dictionary of named keyed `PCollection`s, and produces elements joined by their keys.\n",
    "The values of each output element are dictionaries where the names correspond to the input dictionary, with lists of all the values found for that key."
   ]
  },
  {
   "cell_type": "code",
   "execution_count": 2,
   "metadata": {},
   "outputs": [
    {
     "name": "stdout",
     "output_type": "stream",
     "text": [
      "('Apple', {'icons': ['🍎', '🍏'], 'durations': ['perennial']})\n",
      "('Carrot', {'icons': [], 'durations': ['biennial']})\n",
      "('Tomato', {'icons': ['🍅'], 'durations': ['perennial', 'annual']})\n",
      "('Eggplant', {'icons': ['🍆'], 'durations': []})\n"
     ]
    }
   ],
   "source": [
    "import apache_beam as beam\n",
    "\n",
    "with beam.Pipeline() as pipeline:\n",
    "  icon_pairs = pipeline | 'Create icons' >> beam.Create([\n",
    "      ('Apple', '🍎'),\n",
    "      ('Apple', '🍏'),\n",
    "      ('Eggplant', '🍆'),\n",
    "      ('Tomato', '🍅'),\n",
    "  ])\n",
    "\n",
    "  duration_pairs = pipeline | 'Create durations' >> beam.Create([\n",
    "      ('Apple', 'perennial'),\n",
    "      ('Carrot', 'biennial'),\n",
    "      ('Tomato', 'perennial'),\n",
    "      ('Tomato', 'annual'),\n",
    "  ])\n",
    "\n",
    "  plants = (({\n",
    "      'icons': icon_pairs, 'durations': duration_pairs\n",
    "  })\n",
    "            | 'Merge' >> beam.CoGroupByKey()\n",
    "            | beam.Map(print))"
   ]
  },
  {
   "cell_type": "markdown",
   "metadata": {},
   "source": [
    "## Related transforms\n",
    "\n",
    "* [CombineGlobally](/documentation/transforms/python/aggregation/combineglobally) to combine elements.\n",
    "* [GroupByKey](/documentation/transforms/python/aggregation/groupbykey) takes one input collection."
   ]
  },
  {
   "cell_type": "code",
   "execution_count": null,
   "metadata": {},
   "outputs": [],
   "source": []
  }
 ],
 "metadata": {
  "kernelspec": {
   "display_name": "Python 3",
   "language": "python",
   "name": "python3"
  },
  "language_info": {
   "codemirror_mode": {
    "name": "ipython",
    "version": 3
   },
   "file_extension": ".py",
   "mimetype": "text/x-python",
   "name": "python",
   "nbconvert_exporter": "python",
   "pygments_lexer": "ipython3",
   "version": "3.6.8"
  }
 },
 "nbformat": 4,
 "nbformat_minor": 4
}
