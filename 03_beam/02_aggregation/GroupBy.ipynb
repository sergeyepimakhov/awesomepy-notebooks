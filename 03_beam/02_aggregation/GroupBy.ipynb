{
 "cells": [
  {
   "cell_type": "markdown",
   "metadata": {},
   "source": [
    "# GroupBy\n",
    "\n",
    "Takes a collection of elements and produces a collection grouped,\n",
    "by properties of those elements.\n",
    "\n",
    "Unlike `GroupByKey`, the key is dynamically created from the elements themselves."
   ]
  },
  {
   "cell_type": "markdown",
   "metadata": {
    "id": "setup"
   },
   "source": [
    "## Setup\n",
    "\n",
    "To run a code cell, you can click the **Run cell** button at the top left of the cell,\n",
    "or select it and press **`Shift+Enter`**.\n",
    "Try modifying a code cell and re-running it to see what happens.\n",
    "\n",
    "First, let's install the `apache-beam` module."
   ]
  },
  {
   "cell_type": "code",
   "execution_count": null,
   "metadata": {
    "id": "setup-code"
   },
   "outputs": [],
   "source": [
    "!pip install --quiet -U apache-beam"
   ]
  },
  {
   "cell_type": "markdown",
   "metadata": {},
   "source": [
    "## Grouping Examples\n",
    "\n",
    "In the following example, we create a pipeline with a `PCollection` of fruits.\n",
    "\n",
    "We use `GroupBy` to group all fruits by the first letter of their name."
   ]
  },
  {
   "cell_type": "code",
   "execution_count": 4,
   "metadata": {},
   "outputs": [
    {
     "name": "stdout",
     "output_type": "stream",
     "text": [
      "('s', ['strawberry'])\n",
      "('r', ['raspberry'])\n",
      "('b', ['blueberry', 'blackberry', 'banana'])\n"
     ]
    }
   ],
   "source": [
    "import apache_beam as beam\n",
    "\n",
    "with beam.Pipeline() as p:\n",
    "  grouped = (\n",
    "      p\n",
    "      | beam.Create(['strawberry', 'raspberry', 'blueberry', 'blackberry', 'banana'])\n",
    "      | beam.GroupBy(lambda s: s[0])\n",
    "      | beam.Map(print)\n",
    "  )"
   ]
  },
  {
   "cell_type": "markdown",
   "metadata": {},
   "source": [
    "We can group by a composite key consisting of multiple properties if desired. The resulting key is a named tuple with the two requested attributes, and the values are grouped accordingly."
   ]
  },
  {
   "cell_type": "code",
   "execution_count": 5,
   "metadata": {},
   "outputs": [
    {
     "name": "stdout",
     "output_type": "stream",
     "text": [
      "(Key(letter='s', is_berry=True), ['strawberry'])\n",
      "(Key(letter='r', is_berry=True), ['raspberry'])\n",
      "(Key(letter='b', is_berry=True), ['blueberry', 'blackberry'])\n",
      "(Key(letter='b', is_berry=False), ['banana'])\n"
     ]
    }
   ],
   "source": [
    "import apache_beam as beam\n",
    "\n",
    "with beam.Pipeline() as p:\n",
    "  grouped = (\n",
    "      p\n",
    "      | beam.Create(['strawberry', 'raspberry', 'blueberry', 'blackberry', 'banana'])\n",
    "      | beam.GroupBy(letter=lambda s: s[0], is_berry=lambda s: 'berry' in s)\n",
    "      | beam.Map(print)\n",
    "  )"
   ]
  },
  {
   "cell_type": "markdown",
   "metadata": {},
   "source": [
    "In the case that the property one wishes to group by is an attribute, a string\n",
    "may be passed to `GroupBy` in the place of a callable expression. For example,\n",
    "suppose I have the following data"
   ]
  },
  {
   "cell_type": "code",
   "execution_count": 6,
   "metadata": {},
   "outputs": [],
   "source": [
    "GROCERY_LIST = [\n",
    "    beam.Row(recipe='pie', fruit='strawberry', quantity=3, unit_price=1.50),\n",
    "    beam.Row(recipe='pie', fruit='raspberry', quantity=1, unit_price=3.50),\n",
    "    beam.Row(recipe='pie', fruit='blackberry', quantity=1, unit_price=4.00),\n",
    "    beam.Row(recipe='pie', fruit='blueberry', quantity=1, unit_price=2.00),\n",
    "    beam.Row(recipe='muffin', fruit='blueberry', quantity=2, unit_price=2.00),\n",
    "    beam.Row(recipe='muffin', fruit='banana', quantity=3, unit_price=1.00),\n",
    "]"
   ]
  },
  {
   "cell_type": "markdown",
   "metadata": {},
   "source": [
    "We can then do"
   ]
  },
  {
   "cell_type": "code",
   "execution_count": 20,
   "metadata": {},
   "outputs": [
    {
     "name": "stdout",
     "output_type": "stream",
     "text": [
      "('pie',\n",
      " [BeamSchema_a1e96ac9_005e_4869_92b9_4b8f4424b798(recipe='pie', fruit='strawberry', quantity=3, unit_price=1.5),\n",
      "  BeamSchema_a1e96ac9_005e_4869_92b9_4b8f4424b798(recipe='pie', fruit='raspberry', quantity=1, unit_price=3.5),\n",
      "  BeamSchema_a1e96ac9_005e_4869_92b9_4b8f4424b798(recipe='pie', fruit='blackberry', quantity=1, unit_price=4.0),\n",
      "  BeamSchema_a1e96ac9_005e_4869_92b9_4b8f4424b798(recipe='pie', fruit='blueberry', quantity=1, unit_price=2.0)])\n",
      "('muffin',\n",
      " [BeamSchema_a1e96ac9_005e_4869_92b9_4b8f4424b798(recipe='muffin', fruit='blueberry', quantity=2, unit_price=2.0),\n",
      "  BeamSchema_a1e96ac9_005e_4869_92b9_4b8f4424b798(recipe='muffin', fruit='banana', quantity=3, unit_price=1.0)])\n"
     ]
    }
   ],
   "source": [
    "import pprint\n",
    "\n",
    "with beam.Pipeline() as p:\n",
    "  grouped = (\n",
    "      p \n",
    "      | beam.Create(GROCERY_LIST)  \n",
    "      | beam.GroupBy('recipe')\n",
    "      | beam.Map(pprint.pprint)\n",
    "  )"
   ]
  },
  {
   "cell_type": "markdown",
   "metadata": {},
   "source": [
    "It is possible to mix and match attributes and expressions, for example"
   ]
  },
  {
   "cell_type": "code",
   "execution_count": 21,
   "metadata": {},
   "outputs": [
    {
     "name": "stdout",
     "output_type": "stream",
     "text": [
      "(Key(recipe='pie', is_berry=True),\n",
      " [BeamSchema_95dffbb2_72c5_4487_9218_cee271a8ec85(recipe='pie', fruit='strawberry', quantity=3, unit_price=1.5),\n",
      "  BeamSchema_95dffbb2_72c5_4487_9218_cee271a8ec85(recipe='pie', fruit='raspberry', quantity=1, unit_price=3.5),\n",
      "  BeamSchema_95dffbb2_72c5_4487_9218_cee271a8ec85(recipe='pie', fruit='blackberry', quantity=1, unit_price=4.0),\n",
      "  BeamSchema_95dffbb2_72c5_4487_9218_cee271a8ec85(recipe='pie', fruit='blueberry', quantity=1, unit_price=2.0)])\n",
      "(Key(recipe='muffin', is_berry=True),\n",
      " [BeamSchema_95dffbb2_72c5_4487_9218_cee271a8ec85(recipe='muffin', fruit='blueberry', quantity=2, unit_price=2.0)])\n",
      "(Key(recipe='muffin', is_berry=False),\n",
      " [BeamSchema_95dffbb2_72c5_4487_9218_cee271a8ec85(recipe='muffin', fruit='banana', quantity=3, unit_price=1.0)])\n"
     ]
    }
   ],
   "source": [
    "import pprint\n",
    "\n",
    "with beam.Pipeline() as p:\n",
    "  grouped = (\n",
    "      p \n",
    "      | beam.Create(GROCERY_LIST)\n",
    "      | beam.GroupBy('recipe', is_berry=lambda x: 'berry' in x.fruit)\n",
    "      | beam.Map(pprint.pprint)\n",
    "  )"
   ]
  },
  {
   "cell_type": "markdown",
   "metadata": {},
   "source": [
    "## Aggregation\n",
    "\n",
    "Grouping is often used in conjunction with aggregation, and the\n",
    "`aggregate_field` method of the `GroupBy` transform can be used to accomplish\n",
    "this easily.\n",
    "This method takes three parameters: the field (or expression) which to\n",
    "aggregate, the `CombineFn` (or associative `callable`) with which to aggregate\n",
    "by, and finally a field name in which to store the result.\n",
    "For example, suppose one wanted to compute the amount of each fruit to buy.\n",
    "One could write"
   ]
  },
  {
   "cell_type": "code",
   "execution_count": 12,
   "metadata": {},
   "outputs": [
    {
     "name": "stdout",
     "output_type": "stream",
     "text": [
      "Result(fruit='strawberry', total_quantity=3)\n",
      "Result(fruit='raspberry', total_quantity=1)\n",
      "Result(fruit='blackberry', total_quantity=1)\n",
      "Result(fruit='blueberry', total_quantity=3)\n",
      "Result(fruit='banana', total_quantity=3)\n"
     ]
    }
   ],
   "source": [
    "with beam.Pipeline() as p:\n",
    "  grouped = (\n",
    "      p\n",
    "      | beam.Create(GROCERY_LIST)\n",
    "      | beam.GroupBy('fruit')\n",
    "          .aggregate_field('quantity', sum, 'total_quantity')\n",
    "      | beam.Map(print)\n",
    "  )"
   ]
  },
  {
   "cell_type": "markdown",
   "metadata": {},
   "source": [
    "Similar to the parameters in `GroupBy`, one can also aggregate multiple fields\n",
    "and by expressions."
   ]
  },
  {
   "cell_type": "code",
   "execution_count": 13,
   "metadata": {},
   "outputs": [
    {
     "name": "stdout",
     "output_type": "stream",
     "text": [
      "Result(recipe='pie', total_quantity=6, price=14.0)\n",
      "Result(recipe='muffin', total_quantity=5, price=7.0)\n"
     ]
    }
   ],
   "source": [
    "with beam.Pipeline() as p:\n",
    "  grouped = (\n",
    "      p\n",
    "      | beam.Create(GROCERY_LIST)\n",
    "      | beam.GroupBy('recipe')\n",
    "          .aggregate_field('quantity', sum, 'total_quantity')\n",
    "          .aggregate_field(lambda x: x.quantity * x.unit_price, sum, 'price')\n",
    "      | beam.Map(print)\n",
    "  )"
   ]
  },
  {
   "cell_type": "markdown",
   "metadata": {},
   "source": [
    "One can, of course, aggregate the same field multiple times as well.\n",
    "This example also illustrates a global grouping, as the grouping key is empty."
   ]
  },
  {
   "cell_type": "code",
   "execution_count": 16,
   "metadata": {},
   "outputs": [
    {
     "name": "stdout",
     "output_type": "stream",
     "text": [
      "Result(min_price=1.0, mean_price=2.3333333333333335, max_price=4.0)\n"
     ]
    }
   ],
   "source": [
    "with beam.Pipeline() as p:\n",
    "  grouped = (\n",
    "      p\n",
    "      | beam.Create(GROCERY_LIST)\n",
    "      | beam.GroupBy()\n",
    "          .aggregate_field('unit_price', min, 'min_price')\n",
    "          .aggregate_field('unit_price', beam.transforms.combiners.MeanCombineFn(), 'mean_price')\n",
    "          .aggregate_field('unit_price', max, 'max_price')\n",
    "      | beam.Map(print)\n",
    "  )"
   ]
  },
  {
   "cell_type": "markdown",
   "metadata": {},
   "source": [
    "## Related transforms\n",
    "\n",
    "* [CombinePerKey](/documentation/transforms/python/aggregation/combineperkey) for combining with a single CombineFn.\n",
    "* [GroupByKey](/documentation/transforms/python/aggregation/groupbykey) for grouping with a known key.\n",
    "* [CoGroupByKey](/documentation/transforms/python/aggregation/cogroupbykey) for multiple input collections."
   ]
  },
  {
   "cell_type": "code",
   "execution_count": null,
   "metadata": {},
   "outputs": [],
   "source": []
  }
 ],
 "metadata": {
  "kernelspec": {
   "display_name": "Python 3",
   "language": "python",
   "name": "python3"
  },
  "language_info": {
   "codemirror_mode": {
    "name": "ipython",
    "version": 3
   },
   "file_extension": ".py",
   "mimetype": "text/x-python",
   "name": "python",
   "nbconvert_exporter": "python",
   "pygments_lexer": "ipython3",
   "version": "3.6.8"
  }
 },
 "nbformat": 4,
 "nbformat_minor": 4
}
