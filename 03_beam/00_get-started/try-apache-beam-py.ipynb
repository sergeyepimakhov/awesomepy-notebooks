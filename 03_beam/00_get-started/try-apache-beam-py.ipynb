{
 "cells": [
  {
   "cell_type": "markdown",
   "metadata": {
    "colab_type": "text",
    "id": "view-in-github"
   },
   "source": [
    "<a href=\"https://colab.research.google.com/github/sergeyepimakhov/awesomepy-notebooks/blob/master/03_beam/get-started/try-apache-beam-py.ipynb\" target=\"_parent\"><img src=\"https://colab.research.google.com/assets/colab-badge.svg\" alt=\"Open In Colab\"/></a>"
   ]
  },
  {
   "cell_type": "markdown",
   "metadata": {
    "colab_type": "text",
    "id": "lNKIMlEDZ_Vw"
   },
   "source": [
    "# Try Apache Beam - Python\n",
    "\n",
    "In this notebook, we set up your development environment and work through a simple example using the [DirectRunner](https://beam.apache.org/documentation/runners/direct/). You can explore other runners with the [Beam Capatibility Matrix](https://beam.apache.org/documentation/runners/capability-matrix/).\n",
    "\n",
    "To navigate through different sections, use the table of contents. From **View**  drop-down list, select **Table of contents**.\n",
    "\n",
    "To run a code cell, you can click the **Run cell** button at the top left of the cell, or by select it and press **`Shift+Enter`**. Try modifying a code cell and re-running it to see what happens.\n",
    "\n",
    "To learn more about Colab, see [Welcome to Colaboratory!](https://colab.sandbox.google.com/notebooks/welcome.ipynb)."
   ]
  },
  {
   "cell_type": "markdown",
   "metadata": {
    "id": "setup"
   },
   "source": [
    "# Setup\n",
    "\n",
    "To run a code cell, you can click the **Run cell** button at the top left of the cell,\n",
    "or select it and press **`Shift+Enter`**.\n",
    "Try modifying a code cell and re-running it to see what happens.\n",
    "\n",
    "First, let's install the `apache-beam` module."
   ]
  },
  {
   "cell_type": "code",
   "execution_count": null,
   "metadata": {
    "id": "setup-code"
   },
   "outputs": [],
   "source": [
    "!pip install --quiet -U apache-beam"
   ]
  },
  {
   "cell_type": "markdown",
   "metadata": {
    "colab_type": "text",
    "id": "cPvvFB19uXNw"
   },
   "source": [
    "# Minimal word count\n",
    "\n",
    "The following example is the \"Hello, World!\" of data processing, a basic implementation of word count. We're creating a simple data processing pipeline that reads a text file and counts the number of occurrences of every word.\n",
    "\n",
    "There are many scenarios where all the data does not fit in memory. Notice that the outputs of the pipeline go to the file system, which allows for large processing jobs in distributed environments."
   ]
  },
  {
   "cell_type": "code",
   "execution_count": 1,
   "metadata": {
    "colab": {
     "base_uri": "https://localhost:8080/",
     "height": 1173
    },
    "colab_type": "code",
    "id": "oUqfqWyMuIfR",
    "outputId": "52de90fb-abcc-46c7-bccc-5b0416beb50c"
   },
   "outputs": [
    {
     "data": {
      "application/javascript": [
       "\n",
       "        if (typeof window.interactive_beam_jquery == 'undefined') {\n",
       "          var jqueryScript = document.createElement('script');\n",
       "          jqueryScript.src = 'https://code.jquery.com/jquery-3.4.1.slim.min.js';\n",
       "          jqueryScript.type = 'text/javascript';\n",
       "          jqueryScript.onload = function() {\n",
       "            var datatableScript = document.createElement('script');\n",
       "            datatableScript.src = 'https://cdn.datatables.net/1.10.20/js/jquery.dataTables.min.js';\n",
       "            datatableScript.type = 'text/javascript';\n",
       "            datatableScript.onload = function() {\n",
       "              window.interactive_beam_jquery = jQuery.noConflict(true);\n",
       "              window.interactive_beam_jquery(document).ready(function($){\n",
       "                \n",
       "              });\n",
       "            }\n",
       "            document.head.appendChild(datatableScript);\n",
       "          };\n",
       "          document.head.appendChild(jqueryScript);\n",
       "        } else {\n",
       "          window.interactive_beam_jquery(document).ready(function($){\n",
       "            \n",
       "          });\n",
       "        }"
      ]
     },
     "metadata": {},
     "output_type": "display_data"
    },
    {
     "data": {
      "application/javascript": [
       "\n",
       "        var import_html = () => {\n",
       "          ['https://raw.githubusercontent.com/PAIR-code/facets/1.0.0/facets-dist/facets-jupyter.html'].forEach(href => {\n",
       "            var link = document.createElement('link');\n",
       "            link.rel = 'import'\n",
       "            link.href = href;\n",
       "            document.head.appendChild(link);\n",
       "          });\n",
       "        }\n",
       "        if ('import' in document.createElement('link')) {\n",
       "          import_html();\n",
       "        } else {\n",
       "          var webcomponentScript = document.createElement('script');\n",
       "          webcomponentScript.src = 'https://cdnjs.cloudflare.com/ajax/libs/webcomponentsjs/1.3.3/webcomponents-lite.js';\n",
       "          webcomponentScript.type = 'text/javascript';\n",
       "          webcomponentScript.onload = function(){\n",
       "            import_html();\n",
       "          };\n",
       "          document.head.appendChild(webcomponentScript);\n",
       "        }"
      ]
     },
     "metadata": {},
     "output_type": "display_data"
    },
    {
     "name": "stderr",
     "output_type": "stream",
     "text": [
      "WARNING:apache_beam.io.filebasedsink:Deleting 1 existing files in target path matching: -*-of-%(num_shards)05d\n"
     ]
    }
   ],
   "source": [
    "import apache_beam as beam\n",
    "import re\n",
    "\n",
    "# Running locally in the DirectRunner.\n",
    "with beam.Pipeline() as pipeline:\n",
    "  (\n",
    "      pipeline\n",
    "      | 'Read lines' >> beam.io.ReadFromText('data/*')\n",
    "      | 'Find words' >> beam.FlatMap(lambda line: re.findall(r\"[a-zA-Z']+\", line))\n",
    "      | 'Pair words with 1' >> beam.Map(lambda word: (word, 1))\n",
    "      | 'Group and sum' >> beam.CombinePerKey(sum)\n",
    "      | 'Format results' >> beam.Map(lambda word_count: str(word_count))\n",
    "      | 'Write results' >> beam.io.WriteToText('outputs/part')\n",
    "  )"
   ]
  },
  {
   "cell_type": "code",
   "execution_count": 2,
   "metadata": {},
   "outputs": [
    {
     "name": "stdout",
     "output_type": "stream",
     "text": [
      "('KING', 243)\n",
      "('LEAR', 236)\n",
      "('DRAMATIS', 1)\n",
      "('PERSONAE', 1)\n",
      "('king', 65)\n",
      "('of', 447)\n",
      "('Britain', 2)\n",
      "('OF', 15)\n",
      "('FRANCE', 10)\n",
      "('DUKE', 3)\n",
      "('BURGUNDY', 8)\n",
      "('CORNWALL', 63)\n",
      "('ALBANY', 67)\n",
      "('EARL', 2)\n",
      "('KENT', 156)\n",
      "('GLOUCESTER', 141)\n",
      "('EDGAR', 126)\n",
      "('son', 29)\n",
      "('to', 438)\n",
      "('Gloucester', 26)\n"
     ]
    }
   ],
   "source": [
    "%%bash\n",
    "# Sample the first 20 results, remember there are no ordering guarantees.\n",
    "head -n 20 outputs/part-00000-of-*"
   ]
  },
  {
   "cell_type": "markdown",
   "metadata": {
    "colab_type": "text",
    "id": "k-HubCrk-h_G"
   },
   "source": [
    "# Word count with comments\n",
    "\n",
    "Below is mostly the same code as above, but with comments explaining every line in more detail."
   ]
  },
  {
   "cell_type": "code",
   "execution_count": 3,
   "metadata": {
    "colab": {
     "base_uri": "https://localhost:8080/",
     "height": 1173
    },
    "colab_type": "code",
    "id": "x_D7sxUHFzUp",
    "outputId": "44c926df-aa4a-4bea-9247-27c7cb537717"
   },
   "outputs": [
    {
     "name": "stderr",
     "output_type": "stream",
     "text": [
      "WARNING:apache_beam.io.filebasedsink:Deleting 1 existing files in target path matching: -*-of-%(num_shards)05d\n"
     ]
    }
   ],
   "source": [
    "import apache_beam as beam\n",
    "import re\n",
    "\n",
    "# Running locally in the DirectRunner.\n",
    "with beam.Pipeline() as pipeline:\n",
    "  # Store the word counts in a PCollection.\n",
    "  # Each element is a tuple of (word, count) of types (str, int).\n",
    "  word_counts = (\n",
    "      # The input PCollection is an empty pipeline.\n",
    "      pipeline\n",
    "\n",
    "      # Read lines from a text file.\n",
    "      | 'Read lines' >> beam.io.ReadFromText('data/*')\n",
    "      # Element type: str - text line\n",
    "\n",
    "      # Use a regular expression to iterate over all words in the line.\n",
    "      # FlatMap will yield an element for every element in an iterable.\n",
    "      | 'Find words' >> beam.FlatMap(lambda line: re.findall(r\"[a-zA-Z']+\", line))\n",
    "      # Element type: str - word\n",
    "\n",
    "      # Create key-value pairs where the value is 1, this way we can group by\n",
    "      # the same word while adding those 1s and get the counts for every word.\n",
    "      | 'Pair words with 1' >> beam.Map(lambda word: (word, 1))\n",
    "      # Element type: (str, int) - key: word, value: 1\n",
    "\n",
    "      # Group by key while combining the value using the sum() function.\n",
    "      | 'Group and sum' >> beam.CombinePerKey(sum)\n",
    "      # Element type: (str, int) - key: word, value: counts\n",
    "  )\n",
    "\n",
    "  # We can process a PCollection through other pipelines too.\n",
    "  (\n",
    "      # The input PCollection is the word_counts created from the previous step.\n",
    "      word_counts\n",
    "\n",
    "      # Format the results into a string so we can write them to a file.\n",
    "      | 'Format results' >> beam.Map(lambda word_count: str(word_count))\n",
    "      # Element type: str - text line\n",
    "\n",
    "      # Finally, write the results to a file.\n",
    "      | 'Write results' >> beam.io.WriteToText('outputs/part')\n",
    "  )"
   ]
  },
  {
   "cell_type": "code",
   "execution_count": 4,
   "metadata": {},
   "outputs": [
    {
     "name": "stdout",
     "output_type": "stream",
     "text": [
      "('KING', 243)\n",
      "('LEAR', 236)\n",
      "('DRAMATIS', 1)\n",
      "('PERSONAE', 1)\n",
      "('king', 65)\n",
      "('of', 447)\n",
      "('Britain', 2)\n",
      "('OF', 15)\n",
      "('FRANCE', 10)\n",
      "('DUKE', 3)\n",
      "('BURGUNDY', 8)\n",
      "('CORNWALL', 63)\n",
      "('ALBANY', 67)\n",
      "('EARL', 2)\n",
      "('KENT', 156)\n",
      "('GLOUCESTER', 141)\n",
      "('EDGAR', 126)\n",
      "('son', 29)\n",
      "('to', 438)\n",
      "('Gloucester', 26)\n"
     ]
    }
   ],
   "source": [
    "%%bash\n",
    "# Sample the first 20 results, remember there are no ordering guarantees.\n",
    "head -n 20 outputs/part-00000-of-*"
   ]
  },
  {
   "cell_type": "code",
   "execution_count": null,
   "metadata": {},
   "outputs": [],
   "source": []
  }
 ],
 "metadata": {
  "colab": {
   "collapsed_sections": [],
   "include_colab_link": true,
   "name": "Try Apache Beam - Python",
   "provenance": [],
   "toc_visible": true,
   "version": "0.3.2"
  },
  "kernelspec": {
   "display_name": "Python 3",
   "language": "python",
   "name": "python3"
  },
  "language_info": {
   "codemirror_mode": {
    "name": "ipython",
    "version": 3
   },
   "file_extension": ".py",
   "mimetype": "text/x-python",
   "name": "python",
   "nbconvert_exporter": "python",
   "pygments_lexer": "ipython3",
   "version": "3.6.8"
  }
 },
 "nbformat": 4,
 "nbformat_minor": 4
}
