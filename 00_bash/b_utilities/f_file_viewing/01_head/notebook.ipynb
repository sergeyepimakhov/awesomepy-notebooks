{
 "cells": [
  {
   "cell_type": "markdown",
   "metadata": {},
   "source": [
    "# HEAD\n",
    "\n",
    "Command that displays the beginning of a file."
   ]
  },
  {
   "cell_type": "markdown",
   "metadata": {},
   "source": [
    "## SYNOPSIS\n",
    "\n",
    "```bash\n",
    "head [option(s)] file ...\n",
    "```"
   ]
  },
  {
   "cell_type": "markdown",
   "metadata": {},
   "source": [
    "## NOTEBOOK SETUP\n",
    "\n",
    "Please run this cell before you start working with the notebook."
   ]
  },
  {
   "cell_type": "code",
   "execution_count": 1,
   "metadata": {},
   "outputs": [
    {
     "name": "stdout",
     "output_type": "stream",
     "text": [
      "done\n"
     ]
    }
   ],
   "source": [
    "%%bash\n",
    "\n",
    "cp ../../../../datasets/states.csv ./\n",
    "cp ../../../../datasets/presidents.csv ./\n",
    "\n",
    "echo 'done'"
   ]
  },
  {
   "cell_type": "markdown",
   "metadata": {},
   "source": [
    "## USAGE"
   ]
  },
  {
   "cell_type": "markdown",
   "metadata": {},
   "source": [
    "### Display the first lines of a file\n",
    "\n",
    "The first 10 lines will be shown."
   ]
  },
  {
   "cell_type": "code",
   "execution_count": 2,
   "metadata": {},
   "outputs": [
    {
     "name": "stdout",
     "output_type": "stream",
     "text": [
      "1,Alabama,AL\n",
      "2,Alaska,AK\n",
      "3,Arizona,AZ\n",
      "4,Arkansas,AR\n",
      "5,California,CA\n",
      "6,Colorado,CO\n",
      "7,Connecticut,CT\n",
      "8,Delaware,DE\n",
      "9,District of Columbia,DC\n",
      "10,Florida,FL\n"
     ]
    }
   ],
   "source": [
    "%%bash\n",
    "head states.csv"
   ]
  },
  {
   "cell_type": "markdown",
   "metadata": {},
   "source": [
    "### Display a different number of lines  "
   ]
  },
  {
   "cell_type": "code",
   "execution_count": 3,
   "metadata": {},
   "outputs": [
    {
     "name": "stdout",
     "output_type": "stream",
     "text": [
      "1,Alabama,AL\n",
      "2,Alaska,AK\n",
      "3,Arizona,AZ\n",
      "4,Arkansas,AR\n",
      "5,California,CA\n"
     ]
    }
   ],
   "source": [
    "%%bash\n",
    "head -n 5 states.csv"
   ]
  },
  {
   "cell_type": "markdown",
   "metadata": {},
   "source": [
    "### Display multiple files"
   ]
  },
  {
   "cell_type": "code",
   "execution_count": 4,
   "metadata": {},
   "outputs": [
    {
     "name": "stdout",
     "output_type": "stream",
     "text": [
      "==> states.csv <==\n",
      "1,Alabama,AL\n",
      "2,Alaska,AK\n",
      "3,Arizona,AZ\n",
      "4,Arkansas,AR\n",
      "5,California,CA\n",
      "6,Colorado,CO\n",
      "7,Connecticut,CT\n",
      "8,Delaware,DE\n",
      "9,District of Columbia,DC\n",
      "10,Florida,FL\n",
      "\n",
      "==> presidents.csv <==\n",
      "1,George Washington\n",
      "2,John Adams\n",
      "3,Thomas Jefferson\n",
      "4,James Madison\n",
      "5,James Monroe\n",
      "6,John Quincy Adams\n",
      "7,Andrew Jackson\n",
      "8,Martin Van Buren\n",
      "9,William Henry Harrison\n",
      "10,John Tyler\n"
     ]
    }
   ],
   "source": [
    "%%bash\n",
    "head states.csv presidents.csv"
   ]
  },
  {
   "cell_type": "markdown",
   "metadata": {},
   "source": [
    "## Task"
   ]
  },
  {
   "cell_type": "markdown",
   "metadata": {},
   "source": [
    "## MAN PAGE"
   ]
  },
  {
   "cell_type": "code",
   "execution_count": 5,
   "metadata": {},
   "outputs": [
    {
     "name": "stdout",
     "output_type": "stream",
     "text": [
      "\n",
      "HEAD(1)                   BSD General Commands Manual                  HEAD(1)\n",
      "\n",
      "NAME\n",
      "     head -- display first lines of a file\n",
      "\n",
      "SYNOPSIS\n",
      "     head [-n count | -c bytes] [file ...]\n",
      "\n",
      "DESCRIPTION\n",
      "     This filter displays the first count lines or bytes of each of the speci-\n",
      "     fied files, or of the standard input if no files are specified.  If count\n",
      "     is omitted it defaults to 10.\n",
      "\n",
      "     If more than a single file is specified, each file is preceded by a\n",
      "     header consisting of the string ``==> XXX <=='' where ``XXX'' is the name\n",
      "     of the file.\n",
      "\n",
      "EXIT STATUS\n",
      "     The head utility exits 0 on success, and >0 if an error occurs.\n",
      "\n",
      "SEE ALSO\n",
      "     tail(1)\n",
      "\n",
      "HISTORY\n",
      "     The head command appeared in PWB UNIX.\n",
      "\n",
      "BSD                              June 6, 1993                              BSD\n"
     ]
    }
   ],
   "source": [
    "%%bash\n",
    "man head"
   ]
  },
  {
   "cell_type": "markdown",
   "metadata": {},
   "source": [
    "## NOTEBOOK CLEANUP\n",
    "\n",
    "Run this cell to reset the notebook directory to the initial set."
   ]
  },
  {
   "cell_type": "code",
   "execution_count": 6,
   "metadata": {},
   "outputs": [
    {
     "name": "stdout",
     "output_type": "stream",
     "text": [
      "done\n"
     ]
    }
   ],
   "source": [
    "%%bash\n",
    "\n",
    "rm *.csv\n",
    "\n",
    "echo 'done'"
   ]
  },
  {
   "cell_type": "code",
   "execution_count": null,
   "metadata": {},
   "outputs": [],
   "source": []
  }
 ],
 "metadata": {
  "kernelspec": {
   "display_name": "Python 3",
   "language": "python",
   "name": "python3"
  },
  "language_info": {
   "codemirror_mode": {
    "name": "ipython",
    "version": 3
   },
   "file_extension": ".py",
   "mimetype": "text/x-python",
   "name": "python",
   "nbconvert_exporter": "python",
   "pygments_lexer": "ipython3",
   "version": "3.7.1"
  }
 },
 "nbformat": 4,
 "nbformat_minor": 2
}
