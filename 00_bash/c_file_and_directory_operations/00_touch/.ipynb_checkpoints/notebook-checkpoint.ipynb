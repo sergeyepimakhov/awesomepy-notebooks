{
 "cells": [
  {
   "cell_type": "markdown",
   "metadata": {},
   "source": [
    "# TOUCH\n",
    "\n",
    "Create an empty file or update the last-modified time of a file."
   ]
  },
  {
   "cell_type": "markdown",
   "metadata": {},
   "source": [
    "## SYNOPSIS\n",
    "\n",
    "```bash\n",
    "touch [option(s)] file(s)\n",
    "```"
   ]
  },
  {
   "cell_type": "markdown",
   "metadata": {},
   "source": [
    "## SETUP\n",
    "\n",
    "Please run this cell before you start working with the notebook."
   ]
  },
  {
   "cell_type": "code",
   "execution_count": 12,
   "metadata": {},
   "outputs": [],
   "source": [
    "%%bash\n",
    "touch file_modification_time.txt\n",
    "touch file_access_time.txt"
   ]
  },
  {
   "cell_type": "markdown",
   "metadata": {},
   "source": [
    "## USAGE"
   ]
  },
  {
   "cell_type": "markdown",
   "metadata": {},
   "source": [
    "### Create empty file"
   ]
  },
  {
   "cell_type": "code",
   "execution_count": 3,
   "metadata": {},
   "outputs": [
    {
     "name": "stdout",
     "output_type": "stream",
     "text": [
      "-rw-r--r--  1 esn  staff  0 Apr 13 21:53 myfile.txt\n"
     ]
    }
   ],
   "source": [
    "%%bash\n",
    "# create an empty file\n",
    "touch myfile.txt\n",
    "\n",
    "# check that the file was created\n",
    "ls -ltr myfile.txt"
   ]
  },
  {
   "cell_type": "markdown",
   "metadata": {},
   "source": [
    "### Create multiple files"
   ]
  },
  {
   "cell_type": "code",
   "execution_count": 4,
   "metadata": {},
   "outputs": [
    {
     "name": "stdout",
     "output_type": "stream",
     "text": [
      "-rw-r--r--  1 esn  staff  0 Apr 13 21:42 file_with_timestamp.txt\n",
      "-rw-r--r--  1 esn  staff  0 Apr 13 22:06 file1.txt\n",
      "-rw-r--r--  1 esn  staff  0 Apr 13 22:06 file2.txt\n",
      "-rw-r--r--  1 esn  staff  0 Apr 13 22:06 file3.txt\n"
     ]
    }
   ],
   "source": [
    "%%bash\n",
    "# create multiple files\n",
    "touch file1.txt file2.txt file3.txt\n",
    "\n",
    "# check that files were created\n",
    "ls -ltr file*.txt"
   ]
  },
  {
   "cell_type": "markdown",
   "metadata": {},
   "source": [
    "### Do not create file if it doesn't exist"
   ]
  },
  {
   "cell_type": "code",
   "execution_count": 10,
   "metadata": {},
   "outputs": [
    {
     "name": "stdout",
     "output_type": "stream",
     "text": [
      "-rw-r--r--  1 esn  staff  0 Apr 13 22:13 myfile.txt\n"
     ]
    }
   ],
   "source": [
    "%%bash\n",
    "touch -c myfile.txt      # will not be created\n",
    "touch -c myfile_new.txt  # will be modiefied the timestamp only\n",
    "\n",
    "# check that the files were created (or not)\n",
    "ls -ltr myfile*.txt"
   ]
  },
  {
   "cell_type": "markdown",
   "metadata": {},
   "source": [
    "### Change access time. \n",
    "\n",
    "Access time - the last time the file was read"
   ]
  },
  {
   "cell_type": "code",
   "execution_count": 62,
   "metadata": {},
   "outputs": [
    {
     "name": "stdout",
     "output_type": "stream",
     "text": [
      "-rw-r--r--  1 esn  staff  0 Apr 13 22:21 file_with_original_timestamp.txt\n",
      "-rw-r--r--  1 esn  staff  0 Apr 13 22:21 file_with_original_timestamp.txt\n"
     ]
    }
   ],
   "source": [
    "%%bash\n",
    "# check the access time before\n",
    "ls -lu file_access_time.txt\n",
    "\n",
    "# touch the file\n",
    "touch -a file_access_time.txt\n",
    "\n",
    "# check the access time again\n",
    "ls -lu file_access_time.txt"
   ]
  },
  {
   "cell_type": "markdown",
   "metadata": {},
   "source": [
    "### Change modification time\n",
    "\n",
    "Modification time - the last time the file was modified (content has been modified) "
   ]
  },
  {
   "cell_type": "code",
   "execution_count": 67,
   "metadata": {},
   "outputs": [
    {
     "name": "stdout",
     "output_type": "stream",
     "text": [
      "-rw-r--r--  1 esn  staff  0 Apr 13 22:22 file_with_original_timestamp.txt\n",
      "-rw-r--r--  1 esn  staff  0 Apr 13 22:22 file_with_original_timestamp.txt\n"
     ]
    }
   ],
   "source": [
    "%%bash\n",
    "# check the modification time before\n",
    "ls -l file_modification_time.txt\n",
    "\n",
    "# touch the file\n",
    "touch -m file_modification_time.txt\n",
    "\n",
    "# check the modification time again\n",
    "ls -l file_modification_time.txt"
   ]
  },
  {
   "cell_type": "markdown",
   "metadata": {},
   "source": [
    "## MAN PAGE"
   ]
  },
  {
   "cell_type": "code",
   "execution_count": 7,
   "metadata": {},
   "outputs": [
    {
     "name": "stdout",
     "output_type": "stream",
     "text": [
      "\n",
      "TOUCH(1)                  BSD General Commands Manual                 TOUCH(1)\n",
      "\n",
      "NAME\n",
      "     touch -- change file access and modification times\n",
      "\n",
      "SYNOPSIS\n",
      "     touch [-A [-][[hh]mm]SS] [-acfhm] [-r file] [-t [[CC]YY]MMDDhhmm[.SS]]\n",
      "           file ...\n",
      "\n",
      "DESCRIPTION\n",
      "     The touch utility sets the modification and access times of files.  If\n",
      "     any file does not exist, it is created with default permissions.\n",
      "\n",
      "     By default, touch changes both modification and access times.  The -a and\n",
      "     -m flags may be used to select the access time or the modification time\n",
      "     individually.  Selecting both is equivalent to the default.  By default,\n",
      "     the timestamps are set to the current time.  The -t flag explicitly spec-\n",
      "     ifies a different time, and the -r flag specifies to set the times those\n",
      "     of the specified file.  The -A flag adjusts the values by a specified\n",
      "     amount.\n",
      "\n",
      "     The following options are available:\n",
      "\n",
      "     -A      Adjust the access and modification time stamps for the file by\n",
      "             the specified value.  This flag is intended for use in modifying\n",
      "             files with incorrectly set time stamps.\n",
      "\n",
      "             The argument is of the form ``[-][[hh]mm]SS'' where each pair of\n",
      "             letters represents the following:\n",
      "\n",
      "                   -       Make the adjustment negative: the new time stamp is\n",
      "                           set to be before the old one.\n",
      "                   hh      The number of hours, from 00 to 99.\n",
      "                   mm      The number of minutes, from 00 to 59.\n",
      "                   SS      The number of seconds, from 00 to 59.\n",
      "\n",
      "             The -A flag implies the -c flag: if any file specified does not\n",
      "             exist, it will be silently ignored.\n",
      "\n",
      "     -a      Change the access time of the file.  The modification time of the\n",
      "             file is not changed unless the -m flag is also specified.\n",
      "\n",
      "     -c      Do not create the file if it does not exist.  The touch utility\n",
      "             does not treat this as an error.  No error messages are displayed\n",
      "             and the exit value is not affected.\n",
      "\n",
      "     -f      Attempt to force the update, even if the file permissions do not\n",
      "             currently permit it.\n",
      "\n",
      "     -h      If the file is a symbolic link, change the times of the link\n",
      "             itself rather than the file that the link points to.  Note that\n",
      "             -h implies -c and thus will not create any new files.\n",
      "\n",
      "     -m      Change the modification time of the file.  The access time of the\n",
      "             file is not changed unless the -a flag is also specified.\n",
      "\n",
      "     -r      Use the access and modifications times from the specified file\n",
      "             instead of the current time of day.\n",
      "\n",
      "     -t      Change the access and modification times to the specified time\n",
      "             instead of the current time of day.  The argument is of the form\n",
      "             ``[[CC]YY]MMDDhhmm[.SS]'' where each pair of letters represents\n",
      "             the following:\n",
      "\n",
      "                   CC      The first two digits of the year (the century).\n",
      "                   YY      The second two digits of the year.  If ``YY'' is\n",
      "                           specified, but ``CC'' is not, a value for ``YY''\n",
      "                           between 69 and 99 results in a ``CC'' value of 19.\n",
      "                           Otherwise, a ``CC'' value of 20 is used.\n",
      "                   MM      The month of the year, from 01 to 12.\n",
      "                   DD      the day of the month, from 01 to 31.\n",
      "                   hh      The hour of the day, from 00 to 23.\n",
      "                   mm      The minute of the hour, from 00 to 59.\n",
      "                   SS      The second of the minute, from 00 to 61.\n",
      "\n",
      "             If the ``CC'' and ``YY'' letter pairs are not specified, the val-\n",
      "             ues default to the current year.  If the ``SS'' letter pair is\n",
      "             not specified, the value defaults to 0.\n",
      "\n",
      "EXIT STATUS\n",
      "     The touch utility exits 0 on success, and >0 if an error occurs.\n",
      "\n",
      "COMPATIBILITY\n",
      "     The obsolescent form of touch, where a time format is specified as the\n",
      "     first argument, is supported.  When no -r or -t option is specified,\n",
      "     there are at least two arguments, and the first argument is a string of\n",
      "     digits either eight or ten characters in length, the first argument is\n",
      "     interpreted as a time specification of the form ``MMDDhhmm[YY]''.\n",
      "\n",
      "     The ``MM'', ``DD'', ``hh'' and ``mm'' letter pairs are treated as their\n",
      "     counterparts specified to the -t option.  If the ``YY'' letter pair is in\n",
      "     the range 39 to 99, the year is set to 1939 to 1999, otherwise, the year\n",
      "     is set in the 21st century.\n",
      "\n",
      "SEE ALSO\n",
      "     utimes(2)\n",
      "\n",
      "STANDARDS\n",
      "     The touch utility is expected to be a superset of the IEEE Std 1003.2\n",
      "     (``POSIX.2'') specification.\n",
      "\n",
      "HISTORY\n",
      "     A touch utility appeared in Version 7 AT&T UNIX.\n",
      "\n",
      "BSD                             April 28, 1995                             BSD\n"
     ]
    }
   ],
   "source": [
    "%%bash\n",
    "man touch"
   ]
  },
  {
   "cell_type": "code",
   "execution_count": null,
   "metadata": {},
   "outputs": [],
   "source": []
  }
 ],
 "metadata": {
  "kernelspec": {
   "display_name": "Python 3",
   "language": "python",
   "name": "python3"
  },
  "language_info": {
   "codemirror_mode": {
    "name": "ipython",
    "version": 3
   },
   "file_extension": ".py",
   "mimetype": "text/x-python",
   "name": "python",
   "nbconvert_exporter": "python",
   "pygments_lexer": "ipython3",
   "version": "3.7.1"
  }
 },
 "nbformat": 4,
 "nbformat_minor": 2
}
