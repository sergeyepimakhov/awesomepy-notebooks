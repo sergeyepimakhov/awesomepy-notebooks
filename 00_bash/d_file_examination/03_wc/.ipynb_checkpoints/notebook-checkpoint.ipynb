{
 "cells": [
  {
   "cell_type": "markdown",
   "metadata": {},
   "source": [
    "# WC\n",
    "\n",
    "Command that displays the number of lines, words and characters in a file."
   ]
  },
  {
   "cell_type": "markdown",
   "metadata": {},
   "source": [
    "## SYNOPSIS\n",
    "\n",
    "```bash\n",
    "wc [option(s)] file ...\n",
    "```"
   ]
  },
  {
   "cell_type": "markdown",
   "metadata": {},
   "source": [
    "## NOTEBOOK SETUP\n",
    "\n",
    "Please run this cell before you start working with the notebook."
   ]
  },
  {
   "cell_type": "code",
   "execution_count": 8,
   "metadata": {},
   "outputs": [
    {
     "name": "stdout",
     "output_type": "stream",
     "text": [
      "done\n"
     ]
    }
   ],
   "source": [
    "%%bash\n",
    "\n",
    "cp ../../../datasets/states.csv ./\n",
    "\n",
    "echo 'done'"
   ]
  },
  {
   "cell_type": "markdown",
   "metadata": {},
   "source": [
    "## USAGE"
   ]
  },
  {
   "cell_type": "markdown",
   "metadata": {},
   "source": [
    "### Display lines, words and bytes"
   ]
  },
  {
   "cell_type": "code",
   "execution_count": 13,
   "metadata": {},
   "outputs": [
    {
     "name": "stdout",
     "output_type": "stream",
     "text": [
      "      50      63     789 states.csv\n"
     ]
    }
   ],
   "source": [
    "%%bash\n",
    "wc states.csv"
   ]
  },
  {
   "cell_type": "markdown",
   "metadata": {},
   "source": [
    "Where 50 is the number of lines, 63 is the number of words, and 789 is the number of characters."
   ]
  },
  {
   "cell_type": "markdown",
   "metadata": {},
   "source": [
    "### Display number of lines"
   ]
  },
  {
   "cell_type": "code",
   "execution_count": 14,
   "metadata": {},
   "outputs": [
    {
     "name": "stdout",
     "output_type": "stream",
     "text": [
      "      50 states.csv\n"
     ]
    }
   ],
   "source": [
    "%%bash\n",
    "wc -l states.csv"
   ]
  },
  {
   "cell_type": "markdown",
   "metadata": {},
   "source": [
    "### Display number of words"
   ]
  },
  {
   "cell_type": "code",
   "execution_count": 15,
   "metadata": {},
   "outputs": [
    {
     "name": "stdout",
     "output_type": "stream",
     "text": [
      "      63 states.csv\n"
     ]
    }
   ],
   "source": [
    "%%bash\n",
    "wc -w states.csv"
   ]
  },
  {
   "cell_type": "markdown",
   "metadata": {},
   "source": [
    "### Display number of characters"
   ]
  },
  {
   "cell_type": "code",
   "execution_count": 16,
   "metadata": {},
   "outputs": [
    {
     "name": "stdout",
     "output_type": "stream",
     "text": [
      "     789 states.csv\n"
     ]
    }
   ],
   "source": [
    "%%bash\n",
    "wc -c states.csv"
   ]
  },
  {
   "cell_type": "markdown",
   "metadata": {},
   "source": [
    "## Task"
   ]
  },
  {
   "cell_type": "markdown",
   "metadata": {},
   "source": [
    "## MAN PAGE"
   ]
  },
  {
   "cell_type": "code",
   "execution_count": 1,
   "metadata": {},
   "outputs": [
    {
     "name": "stdout",
     "output_type": "stream",
     "text": [
      "\n",
      "WC(1)                     BSD General Commands Manual                    WC(1)\n",
      "\n",
      "NAME\n",
      "     wc -- word, line, character, and byte count\n",
      "\n",
      "SYNOPSIS\n",
      "     wc [-clmw] [file ...]\n",
      "\n",
      "DESCRIPTION\n",
      "     The wc utility displays the number of lines, words, and bytes contained\n",
      "     in each input file, or standard input (if no file is specified) to the\n",
      "     standard output.  A line is defined as a string of characters delimited\n",
      "     by a <newline> character.  Characters beyond the final <newline> charac-\n",
      "     ter will not be included in the line count.\n",
      "\n",
      "     A word is defined as a string of characters delimited by white space\n",
      "     characters.  White space characters are the set of characters for which\n",
      "     the iswspace(3) function returns true.  If more than one input file is\n",
      "     specified, a line of cumulative counts for all the files is displayed on\n",
      "     a separate line after the output for the last file.\n",
      "\n",
      "     The following options are available:\n",
      "\n",
      "     -c      The number of bytes in each input file is written to the standard\n",
      "             output.  This will cancel out any prior usage of the -m option.\n",
      "\n",
      "     -l      The number of lines in each input file is written to the standard\n",
      "             output.\n",
      "\n",
      "     -m      The number of characters in each input file is written to the\n",
      "             standard output.  If the current locale does not support multi-\n",
      "             byte characters, this is equivalent to the -c option.  This will\n",
      "             cancel out any prior usage of the -c option.\n",
      "\n",
      "     -w      The number of words in each input file is written to the standard\n",
      "             output.\n",
      "\n",
      "     When an option is specified, wc only reports the information requested by\n",
      "     that option.  The order of output always takes the form of line, word,\n",
      "     byte, and file name.  The default action is equivalent to specifying the\n",
      "     -c, -l and -w options.\n",
      "\n",
      "     If no files are specified, the standard input is used and no file name is\n",
      "     displayed.  The prompt will accept input until receiving EOF, or [^D] in\n",
      "     most environments.\n",
      "\n",
      "ENVIRONMENT\n",
      "     The LANG, LC_ALL and LC_CTYPE environment variables affect the execution\n",
      "     of wc as described in environ(7).\n",
      "\n",
      "EXIT STATUS\n",
      "     The wc utility exits 0 on success, and >0 if an error occurs.\n",
      "\n",
      "EXAMPLES\n",
      "     Count the number of characters, words and lines in each of the files\n",
      "     report1 and report2 as well as the totals for both:\n",
      "\n",
      "           wc -mlw report1 report2\n",
      "\n",
      "COMPATIBILITY\n",
      "     Historically, the wc utility was documented to define a word as a ``maxi-\n",
      "     mal string of characters delimited by <space>, <tab> or <newline> charac-\n",
      "     ters''.  The implementation, however, did not handle non-printing charac-\n",
      "     ters correctly so that ``  ^D^E  '' counted as 6 spaces, while\n",
      "     ``foo^D^Ebar'' counted as 8 characters.  4BSD systems after 4.3BSD modi-\n",
      "     fied the implementation to be consistent with the documentation.  This\n",
      "     implementation defines a ``word'' in terms of the iswspace(3) function,\n",
      "     as required by IEEE Std 1003.2 (``POSIX.2'').\n",
      "\n",
      "SEE ALSO\n",
      "     iswspace(3)\n",
      "\n",
      "STANDARDS\n",
      "     The wc utility conforms to IEEE Std 1003.1-2001 (``POSIX.1'').\n",
      "\n",
      "HISTORY\n",
      "     A wc command appeared in Version 1 AT&T UNIX.\n",
      "\n",
      "BSD                            February 23, 2005                           BSD\n"
     ]
    }
   ],
   "source": [
    "%%bash\n",
    "man wc"
   ]
  },
  {
   "cell_type": "markdown",
   "metadata": {},
   "source": [
    "## NOTEBOOK CLEANUP\n",
    "\n",
    "Run this cell to reset the notebook directory to the initial set."
   ]
  },
  {
   "cell_type": "code",
   "execution_count": 7,
   "metadata": {},
   "outputs": [
    {
     "name": "stdout",
     "output_type": "stream",
     "text": [
      "done\n"
     ]
    }
   ],
   "source": [
    "%%bash\n",
    "\n",
    "rm *.csv\n",
    "\n",
    "echo 'done'"
   ]
  },
  {
   "cell_type": "code",
   "execution_count": null,
   "metadata": {},
   "outputs": [],
   "source": []
  }
 ],
 "metadata": {
  "kernelspec": {
   "display_name": "Python 3",
   "language": "python",
   "name": "python3"
  },
  "language_info": {
   "codemirror_mode": {
    "name": "ipython",
    "version": 3
   },
   "file_extension": ".py",
   "mimetype": "text/x-python",
   "name": "python",
   "nbconvert_exporter": "python",
   "pygments_lexer": "ipython3",
   "version": "3.7.1"
  }
 },
 "nbformat": 4,
 "nbformat_minor": 2
}
