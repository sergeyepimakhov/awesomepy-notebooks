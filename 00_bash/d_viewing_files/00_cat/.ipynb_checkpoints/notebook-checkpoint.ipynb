{
 "cells": [
  {
   "cell_type": "markdown",
   "metadata": {},
   "source": [
    "# CAT\n",
    "\n",
    "Command that displays the contents of a file."
   ]
  },
  {
   "cell_type": "markdown",
   "metadata": {},
   "source": [
    "## SYNOPSIS\n",
    "\n",
    "```bash\n",
    "cat [option(s)] file ...\n",
    "```"
   ]
  },
  {
   "cell_type": "markdown",
   "metadata": {},
   "source": [
    "## NOTEBOOK SETUP\n",
    "\n",
    "Please run this cell before you start working with the notebook."
   ]
  },
  {
   "cell_type": "code",
   "execution_count": 70,
   "metadata": {},
   "outputs": [
    {
     "name": "stdout",
     "output_type": "stream",
     "text": [
      "done\n"
     ]
    }
   ],
   "source": [
    "%%bash\n",
    "\n",
    "cat <<EOT >> file.txt\n",
    "line 1\n",
    "line 2\n",
    "line 3\n",
    "EOT\n",
    "\n",
    "cat <<EOT >> another_file.txt\n",
    "another line 1\n",
    "another line 2\n",
    "another line 3\n",
    "EOT\n",
    "\n",
    "echo 'done'"
   ]
  },
  {
   "cell_type": "markdown",
   "metadata": {},
   "source": [
    "## USAGE"
   ]
  },
  {
   "cell_type": "markdown",
   "metadata": {},
   "source": [
    "### Display contents of a file"
   ]
  },
  {
   "cell_type": "code",
   "execution_count": 59,
   "metadata": {},
   "outputs": [
    {
     "name": "stdout",
     "output_type": "stream",
     "text": [
      "line 1\n",
      "line 2\n",
      "line 3\n"
     ]
    }
   ],
   "source": [
    "%%bash\n",
    "cat file.txt"
   ]
  },
  {
   "cell_type": "markdown",
   "metadata": {},
   "source": [
    "### Display contents of multiple files"
   ]
  },
  {
   "cell_type": "code",
   "execution_count": 60,
   "metadata": {},
   "outputs": [
    {
     "name": "stdout",
     "output_type": "stream",
     "text": [
      "line 1\n",
      "line 2\n",
      "line 3\n",
      "another line 1\n",
      "another line 2\n",
      "another line 3\n"
     ]
    }
   ],
   "source": [
    "%%bash\n",
    "cat file.txt another_file.txt"
   ]
  },
  {
   "cell_type": "markdown",
   "metadata": {},
   "source": [
    "### Create an empty file"
   ]
  },
  {
   "cell_type": "code",
   "execution_count": 61,
   "metadata": {},
   "outputs": [],
   "source": [
    "%%bash \n",
    "cat > empty_file.txt"
   ]
  },
  {
   "cell_type": "markdown",
   "metadata": {},
   "source": [
    "### Create a file with multiple lines"
   ]
  },
  {
   "cell_type": "code",
   "execution_count": 62,
   "metadata": {},
   "outputs": [],
   "source": [
    "%%bash\n",
    "cat <<EOT >> file_mulilines.txt\n",
    "line 1\n",
    "line 2\n",
    "line 3\n",
    "EOT"
   ]
  },
  {
   "cell_type": "markdown",
   "metadata": {},
   "source": [
    "### Display line numbers"
   ]
  },
  {
   "cell_type": "code",
   "execution_count": 63,
   "metadata": {},
   "outputs": [
    {
     "name": "stdout",
     "output_type": "stream",
     "text": [
      "     1\tline 1\n",
      "     2\tline 2\n",
      "     3\tline 3\n"
     ]
    }
   ],
   "source": [
    "%%bash\n",
    "cat -n file.txt"
   ]
  },
  {
   "cell_type": "markdown",
   "metadata": {},
   "source": [
    "### Redirect standard output to file"
   ]
  },
  {
   "cell_type": "code",
   "execution_count": 64,
   "metadata": {},
   "outputs": [
    {
     "name": "stdout",
     "output_type": "stream",
     "text": [
      "line 1\n",
      "line 2\n",
      "line 3\n"
     ]
    }
   ],
   "source": [
    "%%bash\n",
    "cat file.txt > file_copy.txt\n",
    "\n",
    "# check it\n",
    "cat file_copy.txt"
   ]
  },
  {
   "cell_type": "markdown",
   "metadata": {},
   "source": [
    "### Append standard output to file"
   ]
  },
  {
   "cell_type": "code",
   "execution_count": 65,
   "metadata": {},
   "outputs": [
    {
     "name": "stdout",
     "output_type": "stream",
     "text": [
      "line 1\n",
      "line 2\n",
      "line 3\n",
      "another line 1\n",
      "another line 2\n",
      "another line 3\n"
     ]
    }
   ],
   "source": [
    "%%bash\n",
    "cat file.txt >> file_append.txt\n",
    "cat another_file.txt >> file_append.txt\n",
    "\n",
    "# check it\n",
    "cat file_append.txt"
   ]
  },
  {
   "cell_type": "markdown",
   "metadata": {},
   "source": [
    "### Using standard input"
   ]
  },
  {
   "cell_type": "code",
   "execution_count": 81,
   "metadata": {},
   "outputs": [
    {
     "name": "stdout",
     "output_type": "stream",
     "text": [
      "line 1\n",
      "line 2\n",
      "line 3\n"
     ]
    }
   ],
   "source": [
    "%%bash\n",
    "cat < file.txt # same as the normal cat usage"
   ]
  },
  {
   "cell_type": "markdown",
   "metadata": {},
   "source": [
    "### Using Pipe"
   ]
  },
  {
   "cell_type": "code",
   "execution_count": 80,
   "metadata": {},
   "outputs": [
    {
     "name": "stdout",
     "output_type": "stream",
     "text": [
      "line 3\n",
      "line 2\n",
      "line 1\n"
     ]
    }
   ],
   "source": [
    "%%bash\n",
    "cat file.txt | sort -r"
   ]
  },
  {
   "cell_type": "markdown",
   "metadata": {},
   "source": [
    "## Task"
   ]
  },
  {
   "cell_type": "markdown",
   "metadata": {},
   "source": [
    "## MAN PAGE"
   ]
  },
  {
   "cell_type": "code",
   "execution_count": 67,
   "metadata": {},
   "outputs": [
    {
     "name": "stdout",
     "output_type": "stream",
     "text": [
      "\n",
      "CAT(1)                    BSD General Commands Manual                   CAT(1)\n",
      "\n",
      "NAME\n",
      "     cat -- concatenate and print files\n",
      "\n",
      "SYNOPSIS\n",
      "     cat [-benstuv] [file ...]\n",
      "\n",
      "DESCRIPTION\n",
      "     The cat utility reads files sequentially, writing them to the standard\n",
      "     output.  The file operands are processed in command-line order.  If file\n",
      "     is a single dash (`-') or absent, cat reads from the standard input.  If\n",
      "     file is a UNIX domain socket, cat connects to it and then reads it until\n",
      "     EOF.  This complements the UNIX domain binding capability available in\n",
      "     inetd(8).\n",
      "\n",
      "     The options are as follows:\n",
      "\n",
      "     -b      Number the non-blank output lines, starting at 1.\n",
      "\n",
      "     -e      Display non-printing characters (see the -v option), and display\n",
      "             a dollar sign (`$') at the end of each line.\n",
      "\n",
      "     -n      Number the output lines, starting at 1.\n",
      "\n",
      "     -s      Squeeze multiple adjacent empty lines, causing the output to be\n",
      "             single spaced.\n",
      "\n",
      "     -t      Display non-printing characters (see the -v option), and display\n",
      "             tab characters as `^I'.\n",
      "\n",
      "     -u      Disable output buffering.\n",
      "\n",
      "     -v      Display non-printing characters so they are visible.  Control\n",
      "             characters print as `^X' for control-X; the delete character\n",
      "             (octal 0177) prints as `^?'.  Non-ASCII characters (with the high\n",
      "             bit set) are printed as `M-' (for meta) followed by the character\n",
      "             for the low 7 bits.\n",
      "\n",
      "EXIT STATUS\n",
      "     The cat utility exits 0 on success, and >0 if an error occurs.\n",
      "\n",
      "EXAMPLES\n",
      "     The command:\n",
      "\n",
      "           cat file1\n",
      "\n",
      "     will print the contents of file1 to the standard output.\n",
      "\n",
      "     The command:\n",
      "\n",
      "           cat file1 file2 > file3\n",
      "\n",
      "     will sequentially print the contents of file1 and file2 to the file\n",
      "     file3, truncating file3 if it already exists.  See the manual page for\n",
      "     your shell (i.e., sh(1)) for more information on redirection.\n",
      "\n",
      "     The command:\n",
      "\n",
      "           cat file1 - file2 - file3\n",
      "\n",
      "     will print the contents of file1, print data it receives from the stan-\n",
      "     dard input until it receives an EOF (`^D') character, print the contents\n",
      "     of file2, read and output contents of the standard input again, then\n",
      "     finally output the contents of file3.  Note that if the standard input\n",
      "     referred to a file, the second dash on the command-line would have no\n",
      "     effect, since the entire contents of the file would have already been\n",
      "     read and printed by cat when it encountered the first `-' operand.\n",
      "\n",
      "SEE ALSO\n",
      "     head(1), more(1), pr(1), sh(1), tail(1), vis(1), zcat(1), setbuf(3)\n",
      "\n",
      "     Rob Pike, \"UNIX Style, or cat -v Considered Harmful\", USENIX Summer\n",
      "     Conference Proceedings, 1983.\n",
      "\n",
      "STANDARDS\n",
      "     The cat utility is compliant with the IEEE Std 1003.2-1992 (``POSIX.2'')\n",
      "     specification.\n",
      "\n",
      "     The flags [-benstv] are extensions to the specification.\n",
      "\n",
      "HISTORY\n",
      "     A cat utility appeared in Version 1 AT&T UNIX.  Dennis Ritchie designed\n",
      "     and wrote the first man page.  It appears to have been cat(1).\n",
      "\n",
      "BUGS\n",
      "     Because of the shell language mechanism used to perform output redirect-\n",
      "     ion, the command ``cat file1 file2 > file1'' will cause the original data\n",
      "     in file1 to be destroyed!\n",
      "\n",
      "     The cat utility does not recognize multibyte characters when the -t or -v\n",
      "     option is in effect.\n",
      "\n",
      "BSD                             March 21, 2004                             BSD\n"
     ]
    }
   ],
   "source": [
    "%%bash\n",
    "man cat"
   ]
  },
  {
   "cell_type": "markdown",
   "metadata": {},
   "source": [
    "## NOTEBOOK CLEANUP\n",
    "\n",
    "Run this cell to reset the notebook directory to the initial set."
   ]
  },
  {
   "cell_type": "code",
   "execution_count": 68,
   "metadata": {},
   "outputs": [
    {
     "name": "stdout",
     "output_type": "stream",
     "text": [
      "done\n"
     ]
    }
   ],
   "source": [
    "%%bash\n",
    "\n",
    "rm *.txt\n",
    "\n",
    "echo 'done'"
   ]
  },
  {
   "cell_type": "code",
   "execution_count": null,
   "metadata": {},
   "outputs": [],
   "source": []
  }
 ],
 "metadata": {
  "kernelspec": {
   "display_name": "Python 3",
   "language": "python",
   "name": "python3"
  },
  "language_info": {
   "codemirror_mode": {
    "name": "ipython",
    "version": 3
   },
   "file_extension": ".py",
   "mimetype": "text/x-python",
   "name": "python",
   "nbconvert_exporter": "python",
   "pygments_lexer": "ipython3",
   "version": "3.7.1"
  }
 },
 "nbformat": 4,
 "nbformat_minor": 2
}
