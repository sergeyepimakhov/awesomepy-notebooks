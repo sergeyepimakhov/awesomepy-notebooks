{
 "cells": [
  {
   "cell_type": "markdown",
   "metadata": {},
   "source": [
    "# Bash Wildcards\n",
    "\n",
    "|Class|Meaning|\n",
    "|-----|-------|\n",
    "|`*`|Match any string of zero or more characters|\n",
    "|`?`|Match any single character|\n",
    "|`[set]`|Match any one of the enclosed characters|\n",
    "|`[!set]`|Match any character not enclosed as above|"
   ]
  },
  {
   "cell_type": "markdown",
   "metadata": {},
   "source": [
    "## Setup"
   ]
  },
  {
   "cell_type": "code",
   "execution_count": 28,
   "metadata": {},
   "outputs": [],
   "source": [
    "! ./setup.sh"
   ]
  },
  {
   "cell_type": "markdown",
   "metadata": {},
   "source": [
    "## Examples"
   ]
  },
  {
   "cell_type": "code",
   "execution_count": 29,
   "metadata": {},
   "outputs": [
    {
     "name": "stdout",
     "output_type": "stream",
     "text": [
      "files/file1.txt\n",
      "files/file10.txt\n",
      "files/file11.txt\n",
      "files/file12.txt\n",
      "files/file13.txt\n",
      "files/file14.txt\n",
      "files/file15.txt\n",
      "files/file16.txt\n",
      "files/file17.txt\n",
      "files/file18.txt\n",
      "files/file19.txt\n",
      "files/file2.txt\n",
      "files/file20.txt\n",
      "files/file3.txt\n",
      "files/file4.txt\n",
      "files/file5.txt\n",
      "files/file6.txt\n",
      "files/file7.txt\n",
      "files/file8.txt\n",
      "files/file9.txt\n",
      "files/fileA.txt\n",
      "files/fileB.txt\n",
      "files/fileC.txt\n",
      "files/fileD.txt\n",
      "files/fileE.txt\n",
      "files/fileF.txt\n"
     ]
    }
   ],
   "source": [
    "%%bash\n",
    "# show all txt files\n",
    "ls files/*.txt"
   ]
  },
  {
   "cell_type": "code",
   "execution_count": 30,
   "metadata": {},
   "outputs": [
    {
     "name": "stdout",
     "output_type": "stream",
     "text": [
      "files/file1.txt\n",
      "files/file2.txt\n",
      "files/file3.txt\n",
      "files/file4.txt\n",
      "files/file5.txt\n",
      "files/file6.txt\n",
      "files/file7.txt\n",
      "files/file8.txt\n",
      "files/file9.txt\n",
      "files/fileA.txt\n",
      "files/fileB.txt\n",
      "files/fileC.txt\n",
      "files/fileD.txt\n",
      "files/fileE.txt\n",
      "files/fileF.txt\n"
     ]
    }
   ],
   "source": [
    "%%bash\n",
    "# show file1.txt, file2.txt, file3.txt, and so on\n",
    "ls files/file?.txt"
   ]
  },
  {
   "cell_type": "code",
   "execution_count": 31,
   "metadata": {},
   "outputs": [
    {
     "name": "stdout",
     "output_type": "stream",
     "text": [
      "files/file10.txt\n",
      "files/file11.txt\n",
      "files/file12.txt\n",
      "files/file13.txt\n",
      "files/file14.txt\n",
      "files/file15.txt\n",
      "files/file16.txt\n",
      "files/file17.txt\n",
      "files/file18.txt\n",
      "files/file19.txt\n",
      "files/file20.txt\n"
     ]
    }
   ],
   "source": [
    "%%bash\n",
    "# show file10.txt, file11.txt, file12.txt, and so on\n",
    "ls files/file??.txt"
   ]
  },
  {
   "cell_type": "code",
   "execution_count": 32,
   "metadata": {},
   "outputs": [
    {
     "name": "stdout",
     "output_type": "stream",
     "text": [
      "files/file1.txt\n",
      "files/file2.txt\n",
      "files/file3.txt\n"
     ]
    }
   ],
   "source": [
    "%%bash\n",
    "# show file1.txt, file2.txt, file3.txt only\n",
    "ls files/file[1-3].txt"
   ]
  },
  {
   "cell_type": "code",
   "execution_count": 33,
   "metadata": {},
   "outputs": [
    {
     "name": "stdout",
     "output_type": "stream",
     "text": [
      "files/file4.txt\n",
      "files/file5.txt\n",
      "files/file6.txt\n",
      "files/file7.txt\n",
      "files/file8.txt\n",
      "files/file9.txt\n",
      "files/fileA.txt\n",
      "files/fileB.txt\n",
      "files/fileC.txt\n",
      "files/fileD.txt\n",
      "files/fileE.txt\n",
      "files/fileF.txt\n"
     ]
    }
   ],
   "source": [
    "%%bash\n",
    "# show files except file1.txt, file2.txt, file3.txt\n",
    "ls files/file[!1-3].txt"
   ]
  },
  {
   "cell_type": "code",
   "execution_count": 34,
   "metadata": {},
   "outputs": [
    {
     "name": "stdout",
     "output_type": "stream",
     "text": [
      "files/fileA.txt\n",
      "files/fileB.txt\n",
      "files/fileC.txt\n"
     ]
    }
   ],
   "source": [
    "%%bash\n",
    "# show files fileA.txt, fileB.txt, fileC.txt\n",
    "ls files/file[A-C].txt"
   ]
  },
  {
   "cell_type": "code",
   "execution_count": 35,
   "metadata": {},
   "outputs": [
    {
     "name": "stdout",
     "output_type": "stream",
     "text": [
      "files/file1.txt\n",
      "files/file2.txt\n",
      "files/file3.txt\n",
      "files/file4.txt\n",
      "files/file5.txt\n",
      "files/file6.txt\n",
      "files/file7.txt\n",
      "files/file8.txt\n",
      "files/file9.txt\n",
      "files/fileD.txt\n",
      "files/fileE.txt\n",
      "files/fileF.txt\n"
     ]
    }
   ],
   "source": [
    "%%bash\n",
    "# show files except fileA.txt, fileB.txt, fileC.txt\n",
    "ls files/file[!A-C].txt"
   ]
  },
  {
   "cell_type": "markdown",
   "metadata": {},
   "source": [
    "## Cleanup"
   ]
  },
  {
   "cell_type": "code",
   "execution_count": 36,
   "metadata": {},
   "outputs": [],
   "source": [
    "# ! ./cleanup.sh"
   ]
  },
  {
   "cell_type": "code",
   "execution_count": null,
   "metadata": {},
   "outputs": [],
   "source": []
  }
 ],
 "metadata": {
  "kernelspec": {
   "display_name": "Python 3",
   "language": "python",
   "name": "python3"
  },
  "language_info": {
   "codemirror_mode": {
    "name": "ipython",
    "version": 3
   },
   "file_extension": ".py",
   "mimetype": "text/x-python",
   "name": "python",
   "nbconvert_exporter": "python",
   "pygments_lexer": "ipython3",
   "version": "3.7.1"
  }
 },
 "nbformat": 4,
 "nbformat_minor": 2
}
