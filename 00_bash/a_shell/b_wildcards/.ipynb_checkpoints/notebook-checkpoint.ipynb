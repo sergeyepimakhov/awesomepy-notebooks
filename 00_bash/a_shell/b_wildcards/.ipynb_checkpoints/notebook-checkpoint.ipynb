{
 "cells": [
  {
   "cell_type": "markdown",
   "metadata": {},
   "source": [
    "# Wildcards\n",
    "\n",
    "|Class|Meaning|\n",
    "|-----|-------|\n",
    "|`*`|Match any string of zero or more characters|\n",
    "|`?`|Match any single character|\n",
    "|`[set]`|Match any one of the enclosed characters|\n",
    "|`[!set]`|Match any character not enclosed as above|"
   ]
  },
  {
   "cell_type": "markdown",
   "metadata": {},
   "source": [
    "## Setup"
   ]
  },
  {
   "cell_type": "code",
   "execution_count": 29,
   "metadata": {},
   "outputs": [],
   "source": [
    "%%bash\n",
    "for i in {1..20};\n",
    "do \n",
    "    touch file$i.txt\n",
    "done;\n",
    "\n",
    "for i in {A..F};\n",
    "do \n",
    "    touch file$i.txt\n",
    "done;"
   ]
  },
  {
   "cell_type": "markdown",
   "metadata": {},
   "source": [
    "## Examples"
   ]
  },
  {
   "cell_type": "code",
   "execution_count": 30,
   "metadata": {},
   "outputs": [
    {
     "name": "stdout",
     "output_type": "stream",
     "text": [
      "file1.txt\n",
      "file10.txt\n",
      "file11.txt\n",
      "file12.txt\n",
      "file13.txt\n",
      "file14.txt\n",
      "file15.txt\n",
      "file16.txt\n",
      "file17.txt\n",
      "file18.txt\n",
      "file19.txt\n",
      "file2.txt\n",
      "file20.txt\n",
      "file3.txt\n",
      "file4.txt\n",
      "file5.txt\n",
      "file6.txt\n",
      "file7.txt\n",
      "file8.txt\n",
      "file9.txt\n",
      "fileA.txt\n",
      "fileB.txt\n",
      "fileC.txt\n",
      "fileD.txt\n",
      "fileE.txt\n",
      "fileF.txt\n"
     ]
    }
   ],
   "source": [
    "%%bash\n",
    "# show all txt files\n",
    "ls *.txt"
   ]
  },
  {
   "cell_type": "code",
   "execution_count": 31,
   "metadata": {},
   "outputs": [
    {
     "name": "stdout",
     "output_type": "stream",
     "text": [
      "file1.txt\n",
      "file2.txt\n",
      "file3.txt\n",
      "file4.txt\n",
      "file5.txt\n",
      "file6.txt\n",
      "file7.txt\n",
      "file8.txt\n",
      "file9.txt\n",
      "fileA.txt\n",
      "fileB.txt\n",
      "fileC.txt\n",
      "fileD.txt\n",
      "fileE.txt\n",
      "fileF.txt\n"
     ]
    }
   ],
   "source": [
    "%%bash\n",
    "# show file1.txt, file2.txt, file3.txt, and so on\n",
    "ls file?.txt"
   ]
  },
  {
   "cell_type": "code",
   "execution_count": 32,
   "metadata": {},
   "outputs": [
    {
     "name": "stdout",
     "output_type": "stream",
     "text": [
      "file10.txt\n",
      "file11.txt\n",
      "file12.txt\n",
      "file13.txt\n",
      "file14.txt\n",
      "file15.txt\n",
      "file16.txt\n",
      "file17.txt\n",
      "file18.txt\n",
      "file19.txt\n",
      "file20.txt\n"
     ]
    }
   ],
   "source": [
    "%%bash\n",
    "# show file10.txt, file11.txt, file12.txt, and so on\n",
    "ls file??.txt"
   ]
  },
  {
   "cell_type": "code",
   "execution_count": 33,
   "metadata": {},
   "outputs": [
    {
     "name": "stdout",
     "output_type": "stream",
     "text": [
      "file1.txt\n",
      "file2.txt\n",
      "file3.txt\n"
     ]
    }
   ],
   "source": [
    "%%bash\n",
    "# show file1.txt, file2.txt, file3.txt only\n",
    "ls file[1-3].txt"
   ]
  },
  {
   "cell_type": "code",
   "execution_count": 34,
   "metadata": {},
   "outputs": [
    {
     "name": "stdout",
     "output_type": "stream",
     "text": [
      "file4.txt\n",
      "file5.txt\n",
      "file6.txt\n",
      "file7.txt\n",
      "file8.txt\n",
      "file9.txt\n",
      "fileA.txt\n",
      "fileB.txt\n",
      "fileC.txt\n",
      "fileD.txt\n",
      "fileE.txt\n",
      "fileF.txt\n"
     ]
    }
   ],
   "source": [
    "%%bash\n",
    "# show files except file1.txt, file2.txt, file3.txt\n",
    "ls file[!1-3].txt"
   ]
  },
  {
   "cell_type": "code",
   "execution_count": 35,
   "metadata": {},
   "outputs": [
    {
     "name": "stdout",
     "output_type": "stream",
     "text": [
      "fileA.txt\n",
      "fileB.txt\n",
      "fileC.txt\n"
     ]
    }
   ],
   "source": [
    "%%bash\n",
    "# show files fileA.txt, fileB.txt, fileC.txt\n",
    "ls file[A-C].txt"
   ]
  },
  {
   "cell_type": "code",
   "execution_count": 36,
   "metadata": {},
   "outputs": [
    {
     "name": "stdout",
     "output_type": "stream",
     "text": [
      "file1.txt\n",
      "file2.txt\n",
      "file3.txt\n",
      "file4.txt\n",
      "file5.txt\n",
      "file6.txt\n",
      "file7.txt\n",
      "file8.txt\n",
      "file9.txt\n",
      "fileD.txt\n",
      "fileE.txt\n",
      "fileF.txt\n"
     ]
    }
   ],
   "source": [
    "%%bash\n",
    "# show files except fileA.txt, fileB.txt, fileC.txt\n",
    "ls file[!A-C].txt"
   ]
  },
  {
   "cell_type": "markdown",
   "metadata": {},
   "source": [
    "## Cleanup"
   ]
  },
  {
   "cell_type": "code",
   "execution_count": 37,
   "metadata": {},
   "outputs": [],
   "source": [
    "%%bash\n",
    "rm *.txt"
   ]
  }
 ],
 "metadata": {
  "kernelspec": {
   "display_name": "Python 3",
   "language": "python",
   "name": "python3"
  },
  "language_info": {
   "codemirror_mode": {
    "name": "ipython",
    "version": 3
   },
   "file_extension": ".py",
   "mimetype": "text/x-python",
   "name": "python",
   "nbconvert_exporter": "python",
   "pygments_lexer": "ipython3",
   "version": "3.7.1"
  }
 },
 "nbformat": 4,
 "nbformat_minor": 2
}
