{
 "cells": [
  {
   "cell_type": "markdown",
   "metadata": {},
   "source": [
    "# Bash Redirection\n",
    "|Type|Meaning|\n",
    "|----|-------|\n",
    "|**Standard Output**||\n",
    "|`python main.py > output.txt`|stdout to *file* (overwrite)|\n",
    "|`python main.py >> output.txt`|stdout to *file* (append)|\n",
    "|**Standard Error**||\n",
    "|`python main.py 2> error.log`|stderr to *file* (overwrite)|\n",
    "|`python main.py 2>> error.log`|stderr to *file* (append)|\n",
    "|**Null Redirection**||\n",
    "|`python main.py >/dev/null`|stdout to *null*|\n",
    "|`python main.py 2>/dev/null`|stderr to *null*|\n",
    "|`python main.py &>/dev/null`|stdout and stderr to *null*|\n",
    "|**Standard Input**||\n",
    "|`python main.py < input.txt`|feed *file*|\n",
    "|`cat <<EOF` |feed *text* (so-called here document) |\n",
    "| `some text here` ||\n",
    "| `EOF`||\n",
    "|`python main.py <<< 'some string'`|feed *string* (so-called here string)|\n",
    "|**Multiple Redirection**||\n",
    "|`python main.py > output.txt 2> error.log` |stdout to *file1*, stderr to *file2*|\n",
    "|`python main.py > output.txt 2>&1` | stderr to stdout, stdout to *file* |\n",
    "|`python main.py > output.txt 2> /dev/null` | stdout to *file*, stderr to *null*|"
   ]
  },
  {
   "cell_type": "markdown",
   "metadata": {},
   "source": [
    "## Examples"
   ]
  },
  {
   "cell_type": "markdown",
   "metadata": {},
   "source": [
    "### Standard Output"
   ]
  },
  {
   "cell_type": "code",
   "execution_count": 296,
   "metadata": {},
   "outputs": [
    {
     "name": "stdout",
     "output_type": "stream",
     "text": [
      "<<<<< output.txt >>>>\n",
      "stdout message\n"
     ]
    }
   ],
   "source": [
    "%%bash --no-raise-error\n",
    "\n",
    "# stdout to file, overwrite\n",
    "python print_to_stdout.py > output1.txt\n",
    "\n",
    "echo '<<<<< output.txt >>>>'\n",
    "cat output1.txt"
   ]
  },
  {
   "cell_type": "code",
   "execution_count": 297,
   "metadata": {},
   "outputs": [
    {
     "name": "stdout",
     "output_type": "stream",
     "text": [
      "<<<<< output.txt >>>>\n",
      "stdout message\n",
      "stdout message\n"
     ]
    }
   ],
   "source": [
    "%%bash --no-raise-error\n",
    "\n",
    "# stdout to file, append\n",
    "python print_to_stdout.py >> output2.txt\n",
    "python print_to_stdout.py >> output2.txt\n",
    "\n",
    "echo '<<<<< output.txt >>>>'\n",
    "cat output2.txt"
   ]
  },
  {
   "cell_type": "markdown",
   "metadata": {},
   "source": [
    "### Standard Error"
   ]
  },
  {
   "cell_type": "code",
   "execution_count": 298,
   "metadata": {},
   "outputs": [
    {
     "name": "stdout",
     "output_type": "stream",
     "text": [
      "<<<<< error.log >>>>\n",
      "stderr message\n"
     ]
    }
   ],
   "source": [
    "%%bash --no-raise-error\n",
    "\n",
    "# stderr to file (overwrite)\n",
    "python print_to_stderr.py 2> error1.log\n",
    "\n",
    "echo '<<<<< error.log >>>>'\n",
    "cat error1.log"
   ]
  },
  {
   "cell_type": "code",
   "execution_count": 299,
   "metadata": {},
   "outputs": [
    {
     "name": "stdout",
     "output_type": "stream",
     "text": [
      "<<<<< error.log >>>>\n",
      "stderr message\n",
      "stderr message\n"
     ]
    }
   ],
   "source": [
    "%%bash --no-raise-error\n",
    "\n",
    "# stderr to file (append)\n",
    "python print_to_stderr.py 2>> error2.log\n",
    "python print_to_stderr.py 2>> error2.log\n",
    "\n",
    "echo '<<<<< error.log >>>>'\n",
    "cat error2.log"
   ]
  },
  {
   "cell_type": "markdown",
   "metadata": {},
   "source": [
    "### Null Redirection"
   ]
  },
  {
   "cell_type": "code",
   "execution_count": 300,
   "metadata": {},
   "outputs": [],
   "source": [
    "%%bash --no-raise-error\n",
    "\n",
    "# stderr to null\n",
    "python print_to_stderr.py 2>/dev/null"
   ]
  },
  {
   "cell_type": "code",
   "execution_count": 301,
   "metadata": {},
   "outputs": [],
   "source": [
    "%%bash --no-raise-error\n",
    "\n",
    "# stdout and stderr to null\n",
    "python print_both.py &>/dev/null"
   ]
  },
  {
   "cell_type": "markdown",
   "metadata": {},
   "source": [
    "### Standard Input"
   ]
  },
  {
   "cell_type": "code",
   "execution_count": 302,
   "metadata": {},
   "outputs": [
    {
     "name": "stdout",
     "output_type": "stream",
     "text": [
      "Please enter something:\n",
      "You entered: an input message\n"
     ]
    }
   ],
   "source": [
    "%%bash --no-raise-error\n",
    "\n",
    "# feed input.txt to stdin for python\n",
    "python read_input.py < input.txt"
   ]
  },
  {
   "cell_type": "code",
   "execution_count": 303,
   "metadata": {},
   "outputs": [
    {
     "name": "stdout",
     "output_type": "stream",
     "text": [
      "Please enter something:\n",
      "You entered: a string from stdin\n"
     ]
    }
   ],
   "source": [
    "%%bash --no-raise-error\n",
    "\n",
    "# here string as input\n",
    "python read_input.py <<< 'a string from stdin'"
   ]
  },
  {
   "cell_type": "code",
   "execution_count": 304,
   "metadata": {},
   "outputs": [
    {
     "name": "stdout",
     "output_type": "stream",
     "text": [
      "some text here\n"
     ]
    }
   ],
   "source": [
    "%%bash --no-raise-error\n",
    "\n",
    "# create a new file using the 'here document'\n",
    "cat <<EOF > new_file.txt\n",
    "some text here\n",
    "EOF\n",
    "\n",
    "cat new_file.txt"
   ]
  },
  {
   "cell_type": "markdown",
   "metadata": {},
   "source": [
    "### Multiple Redirection"
   ]
  },
  {
   "cell_type": "code",
   "execution_count": 305,
   "metadata": {},
   "outputs": [
    {
     "name": "stdout",
     "output_type": "stream",
     "text": [
      "<<<<< output.txt >>>>\n",
      "an stdout message\n",
      "<<<<< error.log >>>>\n",
      "an stderr message\n"
     ]
    }
   ],
   "source": [
    "%%bash --no-raise-error\n",
    "\n",
    "# stdout to file, stderr to file\n",
    "python print_both.py > output_mult.txt 2> error_mult.log\n",
    "\n",
    "echo '<<<<< output.txt >>>>'\n",
    "cat output_mult.txt\n",
    "echo '<<<<< error.log >>>>'\n",
    "cat error_mult.log"
   ]
  },
  {
   "cell_type": "code",
   "execution_count": 306,
   "metadata": {},
   "outputs": [
    {
     "name": "stdout",
     "output_type": "stream",
     "text": [
      "<<<<< output.txt >>>>\n",
      "an stderr message\n",
      "an stdout message\n"
     ]
    }
   ],
   "source": [
    "%%bash --no-raise-error\n",
    "\n",
    "# stderr to stdout\n",
    "python print_both.py > output3.txt 2>&1\n",
    "\n",
    "echo '<<<<< output.txt >>>>'\n",
    "cat output3.txt"
   ]
  },
  {
   "cell_type": "code",
   "execution_count": 307,
   "metadata": {},
   "outputs": [
    {
     "name": "stdout",
     "output_type": "stream",
     "text": [
      "<<<<< output.txt >>>>\n",
      "an stdout message\n"
     ]
    }
   ],
   "source": [
    "%%bash --no-raise-error\n",
    "\n",
    "# stdout to file, stderr to null\n",
    "python print_both.py > output4.txt 2> /dev/null\n",
    "\n",
    "echo '<<<<< output.txt >>>>'\n",
    "cat output4.txt"
   ]
  },
  {
   "cell_type": "markdown",
   "metadata": {},
   "source": [
    "## Cleanup"
   ]
  },
  {
   "cell_type": "code",
   "execution_count": 308,
   "metadata": {},
   "outputs": [],
   "source": [
    "%%bash --no-raise-error\n",
    "rm output*.txt\n",
    "rm error*.log\n",
    "rm new_file.txt"
   ]
  }
 ],
 "metadata": {
  "kernelspec": {
   "display_name": "Python 3",
   "language": "python",
   "name": "python3"
  },
  "language_info": {
   "codemirror_mode": {
    "name": "ipython",
    "version": 3
   },
   "file_extension": ".py",
   "mimetype": "text/x-python",
   "name": "python",
   "nbconvert_exporter": "python",
   "pygments_lexer": "ipython3",
   "version": "3.7.1"
  }
 },
 "nbformat": 4,
 "nbformat_minor": 2
}
