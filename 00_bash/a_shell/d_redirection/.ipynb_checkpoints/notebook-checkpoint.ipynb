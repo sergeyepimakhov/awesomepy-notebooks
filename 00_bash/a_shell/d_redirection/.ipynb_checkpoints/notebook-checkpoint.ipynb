{
 "cells": [
  {
   "cell_type": "markdown",
   "metadata": {},
   "source": [
    "# Redirection\n",
    "|Type|Meaning|\n",
    "|----|-------|\n",
    "|**stdout**||\n",
    "|`cmd > file`|stdout to *file* (overwrite)|\n",
    "|`cmd >> file`|stdout to *file* (append)|\n",
    "|**stderr**||\n",
    "|`cmd 2> file`|stderr to *file* (overwrite)|\n",
    "|`cmd 2>> file`|stderr to *file* (append)|\n",
    "|**null**||\n",
    "|`cmd >/dev/null`|stdout to *null*|\n",
    "|`cmd 2>/dev/null`|stderr to *null*|\n",
    "|`cmd &>/dev/null`|stdout and stderr to *null*|\n",
    "|**stdin**||\n",
    "|`cmd < file`|feed *file*|\n",
    "|`cmd << text`|feed *text* (so-called here document)|\n",
    "|`cmd <<< string`|feed *string* (so-called here string)|"
   ]
  },
  {
   "cell_type": "markdown",
   "metadata": {},
   "source": [
    "## Setup"
   ]
  },
  {
   "cell_type": "code",
   "execution_count": 1,
   "metadata": {},
   "outputs": [
    {
     "name": "stdout",
     "output_type": "stream",
     "text": [
      "Writing main_stdout.py\n"
     ]
    }
   ],
   "source": [
    "%%writefile main_stdout.py\n",
    "import sys\n",
    "print('an stdout message')"
   ]
  },
  {
   "cell_type": "code",
   "execution_count": 2,
   "metadata": {},
   "outputs": [
    {
     "name": "stdout",
     "output_type": "stream",
     "text": [
      "Writing main_stderr.py\n"
     ]
    }
   ],
   "source": [
    "%%writefile main_stderr.py\n",
    "import sys\n",
    "print('an stderr message', file=sys.stderr)"
   ]
  },
  {
   "cell_type": "code",
   "execution_count": 3,
   "metadata": {},
   "outputs": [
    {
     "name": "stdout",
     "output_type": "stream",
     "text": [
      "Writing main_stdout_stderr.py\n"
     ]
    }
   ],
   "source": [
    "%%writefile main_stdout_stderr.py\n",
    "import sys\n",
    "print('an stdout message')\n",
    "print('an stderr message', file=sys.stderr)"
   ]
  },
  {
   "cell_type": "code",
   "execution_count": 4,
   "metadata": {},
   "outputs": [
    {
     "name": "stdout",
     "output_type": "stream",
     "text": [
      "Writing main_stdin.py\n"
     ]
    }
   ],
   "source": [
    "%%writefile main_stdin.py\n",
    "value = input(\"Please enter a string:\\n\")\n",
    "print(f'You entered: {value}')"
   ]
  },
  {
   "cell_type": "code",
   "execution_count": 5,
   "metadata": {},
   "outputs": [],
   "source": [
    "%%bash\n",
    "touch output.txt error.log\n",
    "\n",
    "cat <<EOF > input.txt\n",
    "an input message\n",
    "EOF"
   ]
  },
  {
   "cell_type": "markdown",
   "metadata": {},
   "source": [
    "## Examples"
   ]
  },
  {
   "cell_type": "markdown",
   "metadata": {},
   "source": [
    "### Standard Output"
   ]
  },
  {
   "cell_type": "code",
   "execution_count": 6,
   "metadata": {},
   "outputs": [
    {
     "name": "stdout",
     "output_type": "stream",
     "text": [
      "output.txt:\n",
      "an stdout message\n"
     ]
    }
   ],
   "source": [
    "%%bash --no-raise-error\n",
    "# make file(s) empty \n",
    "> output.txt\n",
    "\n",
    "# stdout to file, overwrite\n",
    "python main_stdout.py > output.txt\n",
    "\n",
    "echo 'output.txt:'\n",
    "cat output.txt"
   ]
  },
  {
   "cell_type": "code",
   "execution_count": 7,
   "metadata": {},
   "outputs": [
    {
     "name": "stdout",
     "output_type": "stream",
     "text": [
      "output.txt:\n",
      "an stdout message\n",
      "an stdout message\n"
     ]
    }
   ],
   "source": [
    "%%bash --no-raise-error\n",
    "# make file(s) empty\n",
    "> output.txt\n",
    "\n",
    "# stdout to file, append\n",
    "python main_stdout.py >> output.txt\n",
    "python main_stdout.py >> output.txt\n",
    "\n",
    "echo 'output.txt:'\n",
    "cat output.txt"
   ]
  },
  {
   "cell_type": "markdown",
   "metadata": {},
   "source": [
    "### Standard Error"
   ]
  },
  {
   "cell_type": "code",
   "execution_count": 8,
   "metadata": {},
   "outputs": [
    {
     "name": "stdout",
     "output_type": "stream",
     "text": [
      "error.log:\n",
      "an stderr message\n"
     ]
    }
   ],
   "source": [
    "%%bash --no-raise-error\n",
    "# make file(s) empty\n",
    "> error.log\n",
    "\n",
    "# stderr to file (overwrite)\n",
    "python main_stderr.py 2> error.log\n",
    "\n",
    "echo 'error.log:'\n",
    "cat error.log"
   ]
  },
  {
   "cell_type": "code",
   "execution_count": 9,
   "metadata": {},
   "outputs": [
    {
     "name": "stdout",
     "output_type": "stream",
     "text": [
      "error.log:\n",
      "an stderr message\n",
      "an stderr message\n"
     ]
    }
   ],
   "source": [
    "%%bash --no-raise-error\n",
    "# make file(s) empty\n",
    "> error.log\n",
    "\n",
    "# stderr to file (append)\n",
    "python main_stderr.py 2>> error.log\n",
    "python main_stderr.py 2>> error.log\n",
    "\n",
    "echo 'error.log:'\n",
    "cat error.log"
   ]
  },
  {
   "cell_type": "markdown",
   "metadata": {},
   "source": [
    "### Null Redirection"
   ]
  },
  {
   "cell_type": "code",
   "execution_count": 10,
   "metadata": {},
   "outputs": [
    {
     "name": "stdout",
     "output_type": "stream",
     "text": [
      "error.log:\n"
     ]
    }
   ],
   "source": [
    "%%bash --no-raise-error\n",
    "# make file(s) empty\n",
    "> error.log\n",
    "\n",
    "# stderr to null\n",
    "python main_stderr.py 2>/dev/null\n",
    "\n",
    "echo 'error.log:'\n",
    "cat error.log"
   ]
  },
  {
   "cell_type": "code",
   "execution_count": 11,
   "metadata": {},
   "outputs": [
    {
     "name": "stdout",
     "output_type": "stream",
     "text": [
      "output.txt:\n",
      "error.log:\n"
     ]
    }
   ],
   "source": [
    "%%bash --no-raise-error\n",
    "# make file(s) empty\n",
    "> output.txt\n",
    "> error.log\n",
    "\n",
    "# stdout and stderr to null\n",
    "python main_stdout_stderr.py &>/dev/null\n",
    "\n",
    "echo 'output.txt:'\n",
    "cat output.txt\n",
    "\n",
    "echo 'error.log:'\n",
    "cat error.log"
   ]
  },
  {
   "cell_type": "markdown",
   "metadata": {},
   "source": [
    "### Standard Input"
   ]
  },
  {
   "cell_type": "code",
   "execution_count": 12,
   "metadata": {},
   "outputs": [
    {
     "name": "stdout",
     "output_type": "stream",
     "text": [
      "Please enter a string:\n",
      "You entered: an input message\n"
     ]
    }
   ],
   "source": [
    "%%bash --no-raise-error\n",
    "# feed input.txt to stdin for python\n",
    "python main_stdin.py < input.txt"
   ]
  },
  {
   "cell_type": "code",
   "execution_count": 13,
   "metadata": {},
   "outputs": [
    {
     "name": "stdout",
     "output_type": "stream",
     "text": [
      "Please enter a string:\n",
      "You entered: a string from stdin\n"
     ]
    }
   ],
   "source": [
    "%%bash --no-raise-error\n",
    "# here string as input\n",
    "python main_stdin.py <<< 'a string from stdin'"
   ]
  },
  {
   "cell_type": "code",
   "execution_count": 19,
   "metadata": {},
   "outputs": [
    {
     "name": "stdout",
     "output_type": "stream",
     "text": [
      "some text here\n"
     ]
    }
   ],
   "source": [
    "%%bash --no-raise-error\n",
    "\n",
    "# create a new file using here document\n",
    "cat <<EOF > new_file.txt\n",
    "some text here\n",
    "EOF\n",
    "\n",
    "cat new_file.txt"
   ]
  },
  {
   "cell_type": "markdown",
   "metadata": {},
   "source": [
    "### Multiple Redirection"
   ]
  },
  {
   "cell_type": "code",
   "execution_count": 15,
   "metadata": {},
   "outputs": [
    {
     "name": "stdout",
     "output_type": "stream",
     "text": [
      "output.txt:\n",
      "an stdout message\n",
      "error.log:\n",
      "an stderr message\n"
     ]
    }
   ],
   "source": [
    "%%bash --no-raise-error\n",
    "# make file(s) empty\n",
    "> output.txt\n",
    "> error.log\n",
    "\n",
    "# stdout to file, stderr to file\n",
    "python main_stdout_stderr.py > output.txt 2> error.log\n",
    "\n",
    "echo 'output.txt:'\n",
    "cat output.txt\n",
    "\n",
    "echo 'error.log:'\n",
    "cat error.log"
   ]
  },
  {
   "cell_type": "code",
   "execution_count": 16,
   "metadata": {},
   "outputs": [
    {
     "name": "stdout",
     "output_type": "stream",
     "text": [
      "output.txt:\n",
      "an stderr message\n",
      "an stdout message\n"
     ]
    }
   ],
   "source": [
    "%%bash --no-raise-error\n",
    "# make file(s) empty\n",
    "> output.txt\n",
    "\n",
    "# stderr to stdout\n",
    "python main_stdout_stderr.py > output.txt 2>&1\n",
    "\n",
    "echo 'output.txt:'\n",
    "cat output.txt"
   ]
  },
  {
   "cell_type": "code",
   "execution_count": 17,
   "metadata": {},
   "outputs": [
    {
     "name": "stdout",
     "output_type": "stream",
     "text": [
      "output.txt:\n",
      "an stdout message\n",
      "error.log:\n"
     ]
    }
   ],
   "source": [
    "%%bash --no-raise-error\n",
    "# make file(s) empty\n",
    "> output.txt\n",
    "> error.log\n",
    "\n",
    "# stdout to file, stderr to null\n",
    "python main_stdout_stderr.py > output.txt 2> /dev/null\n",
    "\n",
    "echo 'output.txt:'\n",
    "cat output.txt\n",
    "\n",
    "echo 'error.log:'\n",
    "cat error.log"
   ]
  },
  {
   "cell_type": "markdown",
   "metadata": {},
   "source": [
    "## Cleanup"
   ]
  },
  {
   "cell_type": "code",
   "execution_count": 18,
   "metadata": {},
   "outputs": [],
   "source": [
    "%%bash\n",
    "rm *.py\n",
    "rm *.txt\n",
    "rm *.log"
   ]
  },
  {
   "cell_type": "code",
   "execution_count": null,
   "metadata": {},
   "outputs": [],
   "source": []
  }
 ],
 "metadata": {
  "kernelspec": {
   "display_name": "Python 3",
   "language": "python",
   "name": "python3"
  },
  "language_info": {
   "codemirror_mode": {
    "name": "ipython",
    "version": 3
   },
   "file_extension": ".py",
   "mimetype": "text/x-python",
   "name": "python",
   "nbconvert_exporter": "python",
   "pygments_lexer": "ipython3",
   "version": "3.7.1"
  }
 },
 "nbformat": 4,
 "nbformat_minor": 2
}
