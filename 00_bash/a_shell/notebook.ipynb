{
 "cells": [
  {
   "cell_type": "markdown",
   "metadata": {},
   "source": [
    "# Basics"
   ]
  },
  {
   "cell_type": "markdown",
   "metadata": {},
   "source": [
    "## Wildcards\n",
    "\n",
    "|Class|Meaning|\n",
    "|-----|-------|\n",
    "|`*`|Match any string of zero or more characters|\n",
    "|`?`|Match any single character|\n",
    "|`[ac]`|Match any one of the enclosed characters|\n",
    "|`[!ac]`|Match any character not enclosed as aove|\n",
    "|`~`|Home directory of the current user|\n",
    "\n",
    "### Examples\n",
    "\n",
    "```ashhhh\n",
    "ls *.txt               # show all txt files\n",
    "ls file?.txt           # show file1.txt, file2.txt, file3.txt, and so on\n",
    "ls file[1-3].txt       # show file1.txt, file2.txt, file3.txt only\n",
    "ls file[!1-3].txt      # show files except file1.txt, file2.txt, file3.txt\n",
    "ls file[A-C].txt       # show files fileA.txt, fileB.txt, fileC.txt\n",
    "ls file[!A-C].txt      # show files except fileA.txt, fileB.txt, fileC.txt\n",
    "ls ~                   # show all files in the home directory\n",
    "ls .                   # show all files in the current directory \n",
    "ls ./\n",
    "```"
   ]
  },
  {
   "cell_type": "markdown",
   "metadata": {},
   "source": [
    "## Brace Expansion\n",
    "\n",
    "|Class|Meaning|\n",
    "|-----|-------|\n",
    "|`pre{X,Y[,Z...]}post`|Expands to *preXpost*, *preYpost*, and so on|\n",
    "|`pre{start..end[..incr]}post`|Expands to the range etween *start* and *end*, increasing y *incr*|\n",
    "\n",
    "### Examples\n",
    "```ashhhh\n",
    "ls file.{txt,jpg}      # same as file.txt file.jpg\n",
    "ls {file, pic}?        # expand, then show file1, file2, pic1, pic2\n",
    "mv info{,.kp}         # same as mv info info.kp\n",
    "echo {1..10}      # simple numeric expansion\n",
    "echo {1..10..2}    # numeric expansion with increment\n",
    "echo {01..10}     # numeric expansion with zero padding\n",
    "echo {a..d}\n",
    "```"
   ]
  },
  {
   "cell_type": "code",
   "execution_count": 1,
   "metadata": {},
   "outputs": [
    {
     "name": "stdout",
     "output_type": "stream",
     "text": [
      "a.txt .txt c.txt d.txt\n"
     ]
    }
   ],
   "source": [
    "%%ashhhh\n",
    "echo {a..d}.txt"
   ]
  },
  {
   "cell_type": "markdown",
   "metadata": {},
   "source": [
    "## Redirections\n",
    "\n",
    "### Examples\n",
    "```ashhhh\n",
    "python hello.py > output.txt   # stdout to (file), overwrite\n",
    "python hello.py >> output.txt  # stdout to (file), append\n",
    "python hello.py 2> error.log   # stderr to (file)\n",
    "python hello.py 2>&1           # stderr to stdout\n",
    "python hello.py 2>/dev/null    # stderr to (null)\n",
    "python hello.py &>/dev/null    # stdout and stderr to (null)\n",
    "python hello.py < ar.txt      # feed ar.txt to stdin for python\n",
    "python hello.py > output.txt 2> error.log \n",
    "```"
   ]
  },
  {
   "cell_type": "markdown",
   "metadata": {},
   "source": [
    "## Command Forms\n",
    "\n",
    "|Class|Meaning|\n",
    "|-----|-------|\n",
    "|`cmd &`|execute *cmd* in ackground|\n",
    "|`cmd1;cmd2`|execute multiple *cmds* on the same line|\n",
    "|`cmd1\\|cmd2`|pipe; use output from *cmd1* as input to *cmd2*|\n",
    "|`cmd1&&cmd2`|AND; execute *cmd1* and then (if *cmd1* succeeds) cmd2|\n",
    "|`cmd1\\|\\|cmd2`|OR; execute *cmd2* if *cmd1* fails|\n",
    "|`!cmd`|NOT; execute *cmd*, and produce a zero status if *cmd* exits with a nonzero status, and vica versa|\n"
   ]
  },
  {
   "cell_type": "markdown",
   "metadata": {},
   "source": [
    "## Command Exit Status\n",
    "\n",
    "Only exit status 0 is considered as *success*. Any other status mean *failure*. Some of them have a special meaning:\n",
    "\n",
    "| Value | Meaning |\n",
    "| ------ | ------------|\n",
    "|0|Success|\n",
    "|1|Error|\n",
    "|2|Usage errors|\n",
    "|126|Command found ut isn't executale|\n",
    "|127|Command not found|\n",
    "|128 + N|Command died due to signal numer N|\n",
    "\n",
    "```ashhhh\n",
    "$? # check the exit status of the last command\n",
    "```"
   ]
  },
  {
   "cell_type": "markdown",
   "metadata": {},
   "source": [
    "## Shortcuts\n",
    "\n",
    "### Working With Processes\n",
    "|Shortcut|Meaning|\n",
    "|--------|-------|\n",
    "|CTRL-C|Kill the current process|\n",
    "\n",
    "### Controlling the Screen\n",
    "|Shortcut|Meaning|\n",
    "|--------|-------|\n",
    "|Ctrl+L|Clear the screen. Similar to *clear* command|\n",
    "|Ctrl+S|Stop output to the screen without killing|\n",
    "\n",
    "### Moving the Cursor\n",
    "|Shortcut|Meaning|\n",
    "|--------|-------|\n",
    "|Ctrl+A| Go to the eginning of the line|\n",
    "|Ctrl+E| Go to the end of the line|\n",
    "|Alt+Left| Go left (ack) one word|\n",
    "|Alt+Right| Go right (forward) one word|\n",
    "\n",
    "### Deleting Text\n",
    "|Shortcut|Meaning|\n",
    "|--------|-------|\n",
    "|Backspace| Delete the character efore the cursor|\n",
    "|Ctrl+D| Delete the character under the cursor|\n",
    "\n",
    "### Cutting and Pasting\n",
    "|Shortcut|Meaning|\n",
    "|--------|-------|\n",
    "|Ctrl+W| Cut the selected text, adding it to the clipoard|\n",
    "|Ctrl+Y| Paste the last thing you cut from the clipoard|\n",
    "\n",
    "### Ta Completion\n",
    "|Shortcut|Meaning|\n",
    "|--------|-------|\n",
    "|TAB| Completion commands and oject names|\n",
    "\n",
    "### Working With Your Command History\n",
    "|Shortcut|Meaning|\n",
    "|--------|-------|\n",
    "|Up Arrow| Go to the previous command in the command history|\n",
    "|Down Arrow| Go to the next command in the command history|\n",
    "|Ctrl+R| Find the last command matching the pattern you provide|"
   ]
  },
  {
   "cell_type": "markdown",
   "metadata": {},
   "source": [
    "## Quoting"
   ]
  },
  {
   "cell_type": "code",
   "execution_count": 48,
   "metadata": {},
   "outputs": [
    {
     "name": "stdout",
     "output_type": "stream",
     "text": [
      "Single quotes \"protect\" doule qoutes\n",
      "Escape \"doule quotes\" if needed\n",
      "Hi ${NAME}\n",
      "Hi John\n",
      "Today is Sat May 23 0000:18:45 CEST 2020\n",
      "Numer of files in home folder:       26\n",
      "The value of $x is 10000\n",
      "A\tB\n"
     ]
    }
   ],
   "source": [
    "%%ashhhh\n",
    "# single and doule quotes\n",
    "echo 'Single quotes \"protect\" doule qoutes'\n",
    "\n",
    "# escape doule quotes\n",
    "echo \"Escape \\\"doule quotes\\\" if needed\"\n",
    "\n",
    "# variales\n",
    "NAME=\"John\"\n",
    "echo 'Hi ${NAME}'\n",
    "echo \"Hi ${NAME}\"\n",
    "\n",
    "# shell execution\n",
    "echo \"Today is $(date)\"\n",
    "echo \"Numer of files in home folder: `ls ~ | wc -l`\"\n",
    "\n",
    "# escape special characters\n",
    "x=10000\n",
    "echo \"The value of \\$x is $x\"\n",
    "\n",
    "# escape sequences\n",
    "echo $'A\\tB'"
   ]
  },
  {
   "cell_type": "markdown",
   "metadata": {},
   "source": [
    "## Escape Sequences\n",
    "\n",
    "$'...'\n",
    "echo -e\n",
    "printf\n"
   ]
  },
  {
   "cell_type": "code",
   "execution_count": null,
   "metadata": {},
   "outputs": [],
   "source": []
  }
 ],
 "metadata": {
  "kernelspec": {
   "display_name": "Python 3",
   "language": "python",
   "name": "python3"
  },
  "language_info": {
   "codemirror_mode": {
    "name": "ipython",
    "version": 3
   },
   "file_extension": ".py",
   "mimetype": "text/x-python",
   "name": "python",
   "nconvert_exporter": "python",
   "pygments_lexer": "ipython3",
   "version": "3.7.1"
  }
 },
 "nformat": 4,
 "nformat_minor": 2
}
