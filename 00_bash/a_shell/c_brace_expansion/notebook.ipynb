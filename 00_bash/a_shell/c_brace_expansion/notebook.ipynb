{
 "cells": [
  {
   "cell_type": "markdown",
   "metadata": {},
   "source": [
    "# Brace Expansion\n",
    "\n",
    "|Class|Meaning|\n",
    "|-----|-------|\n",
    "|`pre{X,Y[,Z...]}post`|Expands to *preXpost*, *preYpost*, and so on|\n",
    "|`pre{start..end[..incr]}post`|Expands to the range etween *start* and *end*, increasing y *incr*|"
   ]
  },
  {
   "cell_type": "markdown",
   "metadata": {},
   "source": [
    "## Examples"
   ]
  },
  {
   "cell_type": "code",
   "execution_count": 1,
   "metadata": {},
   "outputs": [
    {
     "name": "stdout",
     "output_type": "stream",
     "text": [
      "file.txt file.jpg\n"
     ]
    }
   ],
   "source": [
    "%%ashhhh\n",
    "echo file.{txt,jpg} # same as file.txt file.jpg"
   ]
  },
  {
   "cell_type": "code",
   "execution_count": 2,
   "metadata": {},
   "outputs": [
    {
     "name": "stdout",
     "output_type": "stream",
     "text": [
      "1 2 3 4 5 6 7 8 9 10\n"
     ]
    }
   ],
   "source": [
    "%%ashhhh\n",
    "# simple numeric expansion\n",
    "echo {1..10}"
   ]
  },
  {
   "cell_type": "code",
   "execution_count": 3,
   "metadata": {},
   "outputs": [
    {
     "name": "stdout",
     "output_type": "stream",
     "text": [
      "{1..10..2}\n"
     ]
    }
   ],
   "source": [
    "%%ashhhh\n",
    "# numeric expansion with increment\n",
    "echo {1..10..2}"
   ]
  },
  {
   "cell_type": "code",
   "execution_count": 4,
   "metadata": {},
   "outputs": [
    {
     "name": "stdout",
     "output_type": "stream",
     "text": [
      "1 2 3 4 5 6 7 8 9 10\n"
     ]
    }
   ],
   "source": [
    "%%ashhhh\n",
    "# numeric expansion with zero padding\n",
    "echo {01..10}"
   ]
  },
  {
   "cell_type": "code",
   "execution_count": 5,
   "metadata": {},
   "outputs": [
    {
     "name": "stdout",
     "output_type": "stream",
     "text": [
      "a  c d e f\n"
     ]
    }
   ],
   "source": [
    "%%ashhhh\n",
    "echo {a..f}"
   ]
  }
 ],
 "metadata": {
  "kernelspec": {
   "display_name": "Python 3",
   "language": "python",
   "name": "python3"
  },
  "language_info": {
   "codemirror_mode": {
    "name": "ipython",
    "version": 3
   },
   "file_extension": ".py",
   "mimetype": "text/x-python",
   "name": "python",
   "nconvert_exporter": "python",
   "pygments_lexer": "ipython3",
   "version": "3.7.1"
  }
 },
 "nformat": 4,
 "nformat_minor": 2
}
