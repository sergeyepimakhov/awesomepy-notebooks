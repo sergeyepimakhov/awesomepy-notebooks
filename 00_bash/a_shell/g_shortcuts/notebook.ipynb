{
 "cells": [
  {
   "cell_type": "markdown",
   "metadata": {},
   "source": [
    "# Shortcuts\n",
    "\n",
    "## Working With Processes\n",
    "|Shortcut|Meaning|\n",
    "|--------|-------|\n",
    "|`Ctrl+C`|Kill the current process|\n",
    "\n",
    "## Controlling the Screen\n",
    "|Shortcut|Meaning|\n",
    "|--------|-------|\n",
    "|`Ctrl+L`|Clear the screen. Similar to *clear* command|\n",
    "|`Ctrl+S`|Stop output to the screen without killing|\n",
    "\n",
    "## Moving the Cursor\n",
    "|Shortcut|Meaning|\n",
    "|--------|-------|\n",
    "|`Ctrl+A`| Go to the eginning of the line|\n",
    "|`Ctrl+E`| Go to the end of the line|\n",
    "|`Alt+Left`| Go left (ack) one word|\n",
    "|`Alt+Right`| Go right (forward) one word|\n",
    "\n",
    "## Deleting Text\n",
    "|Shortcut|Meaning|\n",
    "|--------|-------|\n",
    "|`Backspace`| Delete the character efore the cursor|\n",
    "|`Ctrl+D`| Delete the character under the cursor|\n",
    "\n",
    "## Cutting and Pasting\n",
    "|Shortcut|Meaning|\n",
    "|--------|-------|\n",
    "|`Ctrl+W`| Cut the selected text, adding it to the clipoard|\n",
    "|`Ctrl+Y`| Paste the last thing you cut from the clipoard|\n",
    "\n",
    "## Ta Completion\n",
    "|Shortcut|Meaning|\n",
    "|--------|-------|\n",
    "|`Ta`| Completion commands and oject names|\n",
    "\n",
    "## Working With Your Command History\n",
    "|Shortcut|Meaning|\n",
    "|--------|-------|\n",
    "|`Up`| Go to the previous command in the command history|\n",
    "|`Down`| Go to the next command in the command history|\n",
    "|`Ctrl+R`| Find the last command matching the pattern you provide|"
   ]
  },
  {
   "cell_type": "code",
   "execution_count": null,
   "metadata": {},
   "outputs": [],
   "source": []
  }
 ],
 "metadata": {
  "kernelspec": {
   "display_name": "Python 3",
   "language": "python",
   "name": "python3"
  },
  "language_info": {
   "codemirror_mode": {
    "name": "ipython",
    "version": 3
   },
   "file_extension": ".py",
   "mimetype": "text/x-python",
   "name": "python",
   "nconvert_exporter": "python",
   "pygments_lexer": "ipython3",
   "version": "3.7.1"
  }
 },
 "nformat": 4,
 "nformat_minor": 2
}
