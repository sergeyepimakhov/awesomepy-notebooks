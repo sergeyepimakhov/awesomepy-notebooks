{
 "cells": [
  {
   "cell_type": "markdown",
   "metadata": {},
   "source": [
    "# Quoting"
   ]
  },
  {
   "cell_type": "markdown",
   "metadata": {},
   "source": [
    "## Examples"
   ]
  },
  {
   "cell_type": "code",
   "execution_count": 1,
   "metadata": {},
   "outputs": [
    {
     "name": "stdout",
     "output_type": "stream",
     "text": [
      "Single quotes \"protect\" double qoutes\n"
     ]
    }
   ],
   "source": [
    "%%bash\n",
    "# single and double quotes\n",
    "echo 'Single quotes \"protect\" double qoutes'"
   ]
  },
  {
   "cell_type": "code",
   "execution_count": 2,
   "metadata": {},
   "outputs": [
    {
     "name": "stdout",
     "output_type": "stream",
     "text": [
      "Escape \"double quotes\" if needed\n"
     ]
    }
   ],
   "source": [
    "%%bash\n",
    "# escape double quotes\n",
    "echo \"Escape \\\"double quotes\\\" if needed\""
   ]
  },
  {
   "cell_type": "code",
   "execution_count": 3,
   "metadata": {},
   "outputs": [
    {
     "name": "stdout",
     "output_type": "stream",
     "text": [
      "Hi ${NAME}\n",
      "Hi John\n"
     ]
    }
   ],
   "source": [
    "%%bash\n",
    "# variables\n",
    "NAME=\"John\"\n",
    "echo 'Hi ${NAME}'\n",
    "echo \"Hi ${NAME}\""
   ]
  },
  {
   "cell_type": "code",
   "execution_count": 4,
   "metadata": {},
   "outputs": [
    {
     "name": "stdout",
     "output_type": "stream",
     "text": [
      "Today is Sat May 23 00:21:42 CEST 2020\n",
      "Number of files in home folder:       26\n"
     ]
    }
   ],
   "source": [
    "%%bash\n",
    "# shell execution\n",
    "echo \"Today is $(date)\"\n",
    "echo \"Number of files in home folder: `ls ~ | wc -l`\""
   ]
  },
  {
   "cell_type": "code",
   "execution_count": 5,
   "metadata": {},
   "outputs": [
    {
     "name": "stdout",
     "output_type": "stream",
     "text": [
      "The value of $x is 100\n"
     ]
    }
   ],
   "source": [
    "%%bash\n",
    "# escape special characters\n",
    "x=100\n",
    "echo \"The value of \\$x is $x\""
   ]
  },
  {
   "cell_type": "code",
   "execution_count": 6,
   "metadata": {},
   "outputs": [
    {
     "name": "stdout",
     "output_type": "stream",
     "text": [
      "A\tB\n"
     ]
    }
   ],
   "source": [
    "%%bash\n",
    "# escape sequences\n",
    "echo $'A\\tB'"
   ]
  }
 ],
 "metadata": {
  "kernelspec": {
   "display_name": "Python 3",
   "language": "python",
   "name": "python3"
  },
  "language_info": {
   "codemirror_mode": {
    "name": "ipython",
    "version": 3
   },
   "file_extension": ".py",
   "mimetype": "text/x-python",
   "name": "python",
   "nbconvert_exporter": "python",
   "pygments_lexer": "ipython3",
   "version": "3.7.1"
  }
 },
 "nbformat": 4,
 "nbformat_minor": 2
}
