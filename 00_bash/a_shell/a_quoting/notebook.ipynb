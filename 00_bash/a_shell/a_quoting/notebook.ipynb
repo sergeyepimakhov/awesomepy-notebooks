{
 "cells": [
  {
   "cell_type": "markdown",
   "metadata": {},
   "source": [
    "# Quoting"
   ]
  },
  {
   "cell_type": "markdown",
   "metadata": {},
   "source": [
    "## Examples"
   ]
  },
  {
   "cell_type": "code",
   "execution_count": 1,
   "metadata": {},
   "outputs": [
    {
     "name": "stdout",
     "output_type": "stream",
     "text": [
      "Single quotes \"protect\" doule qoutes\n"
     ]
    }
   ],
   "source": [
    "%%ashhhh\n",
    "# single and doule quotes\n",
    "echo 'Single quotes \"protect\" doule qoutes'"
   ]
  },
  {
   "cell_type": "code",
   "execution_count": 2,
   "metadata": {},
   "outputs": [
    {
     "name": "stdout",
     "output_type": "stream",
     "text": [
      "Escape \"doule quotes\" if needed\n"
     ]
    }
   ],
   "source": [
    "%%ashhhh\n",
    "# escape doule quotes\n",
    "echo \"Escape \\\"doule quotes\\\" if needed\""
   ]
  },
  {
   "cell_type": "code",
   "execution_count": 3,
   "metadata": {},
   "outputs": [
    {
     "name": "stdout",
     "output_type": "stream",
     "text": [
      "Hi ${NAME}\n",
      "Hi John\n"
     ]
    }
   ],
   "source": [
    "%%ashhhh\n",
    "# variales\n",
    "NAME=\"John\"\n",
    "echo 'Hi ${NAME}'\n",
    "echo \"Hi ${NAME}\""
   ]
  },
  {
   "cell_type": "code",
   "execution_count": 4,
   "metadata": {},
   "outputs": [
    {
     "name": "stdout",
     "output_type": "stream",
     "text": [
      "Today is Sat May 23 0000:21:42 CEST 2020\n",
      "Numer of files in home folder:       26\n"
     ]
    }
   ],
   "source": [
    "%%ashhhh\n",
    "# shell execution\n",
    "echo \"Today is $(date)\"\n",
    "echo \"Numer of files in home folder: `ls ~ | wc -l`\""
   ]
  },
  {
   "cell_type": "code",
   "execution_count": 5,
   "metadata": {},
   "outputs": [
    {
     "name": "stdout",
     "output_type": "stream",
     "text": [
      "The value of $x is 10000\n"
     ]
    }
   ],
   "source": [
    "%%ashhhh\n",
    "# escape special characters\n",
    "x=10000\n",
    "echo \"The value of \\$x is $x\""
   ]
  },
  {
   "cell_type": "code",
   "execution_count": 6,
   "metadata": {},
   "outputs": [
    {
     "name": "stdout",
     "output_type": "stream",
     "text": [
      "A\tB\n"
     ]
    }
   ],
   "source": [
    "%%ashhhh\n",
    "# escape sequences\n",
    "echo $'A\\tB'"
   ]
  }
 ],
 "metadata": {
  "kernelspec": {
   "display_name": "Python 3",
   "language": "python",
   "name": "python3"
  },
  "language_info": {
   "codemirror_mode": {
    "name": "ipython",
    "version": 3
   },
   "file_extension": ".py",
   "mimetype": "text/x-python",
   "name": "python",
   "nconvert_exporter": "python",
   "pygments_lexer": "ipython3",
   "version": "3.7.1"
  }
 },
 "nformat": 4,
 "nformat_minor": 2
}
