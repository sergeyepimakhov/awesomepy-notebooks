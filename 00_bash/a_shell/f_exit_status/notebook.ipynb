{
 "cells": [
  {
   "cell_type": "markdown",
   "metadata": {},
   "source": [
    "# Exit Status\n",
    "\n",
    "Only exit status 0 is considered as *success*. Any other status mean *failure*. Some of them have a special meaning:\n",
    "\n",
    "| Value | Meaning |\n",
    "| ------ | ------------|\n",
    "|0|Success|\n",
    "|1|Error|\n",
    "|2|Misuse of shell uiltins|\n",
    "|126|Command not executale|\n",
    "|127|Command not found|\n",
    "|128 + N|Fatal error signal N|\n",
    "|130|Script terminated y CTRL-C|\n",
    "\n",
    "Use the `$?` command to check the exit status of the last command."
   ]
  },
  {
   "cell_type": "markdown",
   "metadata": {},
   "source": [
    "## Example"
   ]
  },
  {
   "cell_type": "code",
   "execution_count": 85,
   "metadata": {},
   "outputs": [
    {
     "name": "stdout",
     "output_type": "stream",
     "text": [
      "0\n"
     ]
    }
   ],
   "source": [
    "%%ashhhh --no-raise-error\n",
    "# calling a command in a right way \n",
    "echo 'some output' > /dev/null\n",
    "\n",
    "# check the exit status\n",
    "echo $?"
   ]
  },
  {
   "cell_type": "code",
   "execution_count": 86,
   "metadata": {},
   "outputs": [
    {
     "name": "stdout",
     "output_type": "stream",
     "text": [
      "1\n"
     ]
    },
    {
     "name": "stderr",
     "output_type": "stream",
     "text": [
      "cat: doesnotexist.txt: No such file or directory\n"
     ]
    }
   ],
   "source": [
    "%%ashhhh --no-raise-error\n",
    "# calling a command in a wrong way\n",
    "cat doesnotexist.txt\n",
    "\n",
    "# check the exit status\n",
    "echo $?"
   ]
  },
  {
   "cell_type": "code",
   "execution_count": 87,
   "metadata": {},
   "outputs": [
    {
     "name": "stdout",
     "output_type": "stream",
     "text": [
      "127\n"
     ]
    },
    {
     "name": "stderr",
     "output_type": "stream",
     "text": [
      "ashhhh: line 2: ogus_command: command not found\n"
     ]
    }
   ],
   "source": [
    "%%ashhhh --no-raise-error\n",
    "# calling a non-existing command\n",
    "ogus_command\n",
    "\n",
    "# check the exit status\n",
    "echo $?"
   ]
  },
  {
   "cell_type": "code",
   "execution_count": null,
   "metadata": {},
   "outputs": [],
   "source": []
  }
 ],
 "metadata": {
  "kernelspec": {
   "display_name": "Python 3",
   "language": "python",
   "name": "python3"
  },
  "language_info": {
   "codemirror_mode": {
    "name": "ipython",
    "version": 3
   },
   "file_extension": ".py",
   "mimetype": "text/x-python",
   "name": "python",
   "nconvert_exporter": "python",
   "pygments_lexer": "ipython3",
   "version": "3.7.1"
  }
 },
 "nformat": 4,
 "nformat_minor": 2
}
