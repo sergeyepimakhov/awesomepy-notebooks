{
 "cells": [
  {
   "cell_type": "markdown",
   "metadata": {},
   "source": [
    "# Command Forms\n",
    "\n",
    "|Class|Meaning|\n",
    "|-----|-------|\n",
    "|`cmd &`|execute *cmd* in background|\n",
    "|`cmd1 ; cmd2`|execute multiple *cmds* on the same line|\n",
    "|`cmd1 \\| cmd2`|pipe; use output from *cmd1* as input to *cmd2*|\n",
    "|`cmd1 && cmd2`|AND; execute *cmd1* and then (if *cmd1* succeeds) cmd2|\n",
    "|`cmd1 \\|\\| cmd2`|OR; execute *cmd2* if *cmd1* fails|\n",
    "|`! cmd`|NOT; execute *cmd*, and produce a zero status if *cmd* exits with a nonzero status, and vica versa|"
   ]
  },
  {
   "cell_type": "markdown",
   "metadata": {},
   "source": [
    "## Examples"
   ]
  },
  {
   "cell_type": "code",
   "execution_count": 17,
   "metadata": {},
   "outputs": [
    {
     "name": "stdout",
     "output_type": "stream",
     "text": [
      "Wed Sep  2 09:09:27 CEST 2020\n",
      "a message\n"
     ]
    }
   ],
   "source": [
    "%%bash\n",
    "\n",
    "# two commands on the same line\n",
    "date; echo 'a message'"
   ]
  },
  {
   "cell_type": "code",
   "execution_count": 22,
   "metadata": {},
   "outputs": [
    {
     "name": "stdout",
     "output_type": "stream",
     "text": [
      "Wed Sep  2 09:15:32 CEST 2020\n",
      "a message\n"
     ]
    }
   ],
   "source": [
    "%%bash\n",
    "\n",
    "# three and more commands on the same line\n",
    "cd \"$(dirname \"$0\")\"; date; echo 'a message';"
   ]
  },
  {
   "cell_type": "code",
   "execution_count": 24,
   "metadata": {},
   "outputs": [
    {
     "name": "stdout",
     "output_type": "stream",
     "text": [
      "Applications\n",
      "Library\n",
      "System\n"
     ]
    }
   ],
   "source": [
    "%%bash\n",
    "\n",
    "# pipe; use output from the first command as input to the second command\n",
    "ls / | head -3"
   ]
  },
  {
   "cell_type": "code",
   "execution_count": 23,
   "metadata": {},
   "outputs": [
    {
     "name": "stdout",
     "output_type": "stream",
     "text": [
      "System\n"
     ]
    }
   ],
   "source": [
    "%%bash\n",
    "\n",
    "# pipe using three or more commands\n",
    "ls / | head -3 | tail -1"
   ]
  },
  {
   "cell_type": "code",
   "execution_count": 33,
   "metadata": {},
   "outputs": [
    {
     "name": "stdout",
     "output_type": "stream",
     "text": [
      "Wed Sep  2 09:18:26 CEST 2020\n",
      "the current date displayed\n"
     ]
    }
   ],
   "source": [
    "%%bash\n",
    "\n",
    "# AND; execute the first command and then (if succeeds) the second command\n",
    "date && echo 'the current date displayed'"
   ]
  },
  {
   "cell_type": "code",
   "execution_count": 38,
   "metadata": {},
   "outputs": [
    {
     "name": "stdout",
     "output_type": "stream",
     "text": [
      "seems file does not exist\n"
     ]
    }
   ],
   "source": [
    "%%bash\n",
    "\n",
    "# OR; execute the second command and the first one fails\n",
    "cat missingfile.txt 2> /dev/null || echo 'seems file does not exist'"
   ]
  },
  {
   "cell_type": "code",
   "execution_count": 41,
   "metadata": {},
   "outputs": [
    {
     "name": "stdout",
     "output_type": "stream",
     "text": [
      "seems file does not exist, but you do not care\n"
     ]
    }
   ],
   "source": [
    "%%bash\n",
    "\n",
    "# NOT;\n",
    "! cat missingfile.txt 2> /dev/null && echo 'seems file does not exist, but you do not care'"
   ]
  },
  {
   "cell_type": "code",
   "execution_count": null,
   "metadata": {},
   "outputs": [],
   "source": []
  }
 ],
 "metadata": {
  "kernelspec": {
   "display_name": "Python 3",
   "language": "python",
   "name": "python3"
  },
  "language_info": {
   "codemirror_mode": {
    "name": "ipython",
    "version": 3
   },
   "file_extension": ".py",
   "mimetype": "text/x-python",
   "name": "python",
   "nbconvert_exporter": "python",
   "pygments_lexer": "ipython3",
   "version": "3.7.1"
  }
 },
 "nbformat": 4,
 "nbformat_minor": 2
}
