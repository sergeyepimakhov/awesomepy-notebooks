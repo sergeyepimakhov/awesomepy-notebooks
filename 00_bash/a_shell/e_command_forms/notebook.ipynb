{
 "cells": [
  {
   "cell_type": "markdown",
   "metadata": {},
   "source": [
    "# Command Forms\n",
    "\n",
    "|Class|Meaning|\n",
    "|-----|-------|\n",
    "|`cmd &`|execute *cmd* in background|\n",
    "|`cmd1 ; cmd2`|execute multiple *cmds* on the same line|\n",
    "|`cmd1 \\| cmd2`|pipe; use output from *cmd1* as input to *cmd2*|\n",
    "|`cmd1 && cmd2`|AND; execute *cmd1* and then (if *cmd1* succeeds) cmd2|\n",
    "|`cmd1 \\|\\| cmd2`|OR; execute *cmd2* if *cmd1* fails|\n",
    "|`! cmd`|NOT; execute *cmd*, and produce a zero status if *cmd* exits with a nonzero status, and vica versa|"
   ]
  },
  {
   "cell_type": "code",
   "execution_count": null,
   "metadata": {},
   "outputs": [],
   "source": []
  }
 ],
 "metadata": {
  "kernelspec": {
   "display_name": "Python 3",
   "language": "python",
   "name": "python3"
  },
  "language_info": {
   "codemirror_mode": {
    "name": "ipython",
    "version": 3
   },
   "file_extension": ".py",
   "mimetype": "text/x-python",
   "name": "python",
   "nbconvert_exporter": "python",
   "pygments_lexer": "ipython3",
   "version": "3.7.1"
  }
 },
 "nbformat": 4,
 "nbformat_minor": 2
}
