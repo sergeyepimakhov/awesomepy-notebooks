{
 "cells": [
  {
   "cell_type": "markdown",
   "metadata": {},
   "source": [
    "# WC\n",
    "\n",
    "Command that displays the number of lines, words and characters in a file.\n",
    "\n",
    "```bash\n",
    "wc file.txt                       # analyse file stats: number of lines, words and bytes\n",
    "wc -l file.txt                    # display number of lines only\n",
    "wc -w file.txt                    # display number of words only\n",
    "wc -c file.txt                    # display number of characters only\n",
    "wc file1.txt file2.txt file3.txt  # analyse multiple files  \n",
    "man wc                            # man page\n",
    "```"
   ]
  },
  {
   "cell_type": "markdown",
   "metadata": {},
   "source": [
    "## Examples"
   ]
  },
  {
   "cell_type": "code",
   "execution_count": 8,
   "metadata": {},
   "outputs": [
    {
     "name": "stdout",
     "output_type": "stream",
     "text": [
      "    1001    1011   61967 sample.csv\n"
     ]
    }
   ],
   "source": [
    "%%bash\n",
    "wc sample.csv # 1001 lines, 1011 words, 61967 characters"
   ]
  },
  {
   "cell_type": "code",
   "execution_count": 9,
   "metadata": {},
   "outputs": [
    {
     "name": "stdout",
     "output_type": "stream",
     "text": [
      "    1001 sample.csv\n"
     ]
    }
   ],
   "source": [
    "%%bash\n",
    "wc -l sample.csv"
   ]
  },
  {
   "cell_type": "code",
   "execution_count": 10,
   "metadata": {},
   "outputs": [
    {
     "name": "stdout",
     "output_type": "stream",
     "text": [
      "    1011 sample.csv\n"
     ]
    }
   ],
   "source": [
    "%%bash\n",
    "wc -w sample.csv"
   ]
  },
  {
   "cell_type": "code",
   "execution_count": 11,
   "metadata": {},
   "outputs": [
    {
     "name": "stdout",
     "output_type": "stream",
     "text": [
      "   61967 sample.csv\n"
     ]
    }
   ],
   "source": [
    "%%bash\n",
    "wc -c sample.csv"
   ]
  },
  {
   "cell_type": "code",
   "execution_count": 12,
   "metadata": {},
   "outputs": [
    {
     "name": "stdout",
     "output_type": "stream",
     "text": [
      "    1001    1011   61967 sample.csv\n",
      "     142     306    2757 notebook.ipynb\n",
      "    1143    1317   64724 total\n"
     ]
    }
   ],
   "source": [
    "%%bash\n",
    "wc sample.csv notebook.ipynb"
   ]
  },
  {
   "cell_type": "code",
   "execution_count": null,
   "metadata": {},
   "outputs": [],
   "source": []
  }
 ],
 "metadata": {
  "kernelspec": {
   "display_name": "Python 3",
   "language": "python",
   "name": "python3"
  },
  "language_info": {
   "codemirror_mode": {
    "name": "ipython",
    "version": 3
   },
   "file_extension": ".py",
   "mimetype": "text/x-python",
   "name": "python",
   "nbconvert_exporter": "python",
   "pygments_lexer": "ipython3",
   "version": "3.7.1"
  }
 },
 "nbformat": 4,
 "nbformat_minor": 2
}
