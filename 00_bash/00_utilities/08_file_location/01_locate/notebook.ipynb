{
 "cells": [
  {
   "cell_type": "markdown",
   "metadata": {},
   "source": [
    "# LOCATE\n",
    "\n",
    "Command that searches for files by name on the entire system. \n",
    "\n",
    "The command is faster than the command `find` because it looks through a database containing bits and parts of files and their paths on your system. There is no guarantee that the files created recently within the last couple of hours can be found in the database. \n",
    "\n",
    "```bash\n",
    "locate file.txt        # find file by name\n",
    "locate -l 10 file.txt  # limit result to 10\n",
    "locate file*.txt       # find by pattern\n",
    "locate -i file.txt     # case insensitive search\n",
    "locate -c *.txt        # count the number of matches\n",
    "man locate             # man page\n",
    "```"
   ]
  },
  {
   "cell_type": "code",
   "execution_count": null,
   "metadata": {},
   "outputs": [],
   "source": []
  }
 ],
 "metadata": {
  "kernelspec": {
   "display_name": "Python 3",
   "language": "python",
   "name": "python3"
  },
  "language_info": {
   "codemirror_mode": {
    "name": "ipython",
    "version": 3
   },
   "file_extension": ".py",
   "mimetype": "text/x-python",
   "name": "python",
   "nbconvert_exporter": "python",
   "pygments_lexer": "ipython3",
   "version": "3.7.1"
  }
 },
 "nbformat": 4,
 "nbformat_minor": 2
}
