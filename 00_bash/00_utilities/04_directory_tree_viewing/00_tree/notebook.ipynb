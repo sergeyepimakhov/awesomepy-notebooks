{
 "cells": [
  {
   "cell_type": "markdown",
   "metadata": {},
   "source": [
    "# TREE\n",
    "\n",
    "The command that shows directory tree structure."
   ]
  },
  {
   "cell_type": "markdown",
   "metadata": {},
   "source": [
    "## INSTALLATION\n",
    "By default the tree command is not installed. Type the following commands to install it on your system.\n",
    "\n",
    "### Debian / Ubuntu / Mint Linux\n",
    "```bash\n",
    "sudo apt-get install tree\n",
    "```\n",
    "\n",
    "### RHEL / CentOS / Fedora Linux\n",
    "```bash\n",
    "yum install tree\n",
    "```\n",
    "\n",
    "### Apple OS X / macOS\n",
    "```bash\n",
    "brew install tree\n",
    "```\n",
    "\n",
    "```bash\n",
    "tree                      # show current directory\n",
    "tree /path/to/dir         # show directory with path\n",
    "tree -a dir               # show all files including hidden ones\n",
    "tree -d dir               # show directories only\n",
    "tree -f dir               # show with full path prefix\n",
    "tree -p dir               # show file permissions\n",
    "tree -s dir               # show size in bytes\n",
    "tree -h dir               # human readable size\n",
    "tree -D dir               # show last modified\n",
    "tree --du dir             # disk usage\n",
    "tree -pug dir             # long listing\n",
    "tree -L 2 dir             # set the maximum display depth\n",
    "tree -P '*.txt'           # wild card pattern\n",
    "tree -C dir               # colorized output\n",
    "tree -f -pug -h -D -C dir # all together. similar to `ls -l`\n",
    "man tree                  # man page\n",
    "```"
   ]
  }
 ],
 "metadata": {
  "kernelspec": {
   "display_name": "Python 3",
   "language": "python",
   "name": "python3"
  },
  "language_info": {
   "codemirror_mode": {
    "name": "ipython",
    "version": 3
   },
   "file_extension": ".py",
   "mimetype": "text/x-python",
   "name": "python",
   "nbconvert_exporter": "python",
   "pygments_lexer": "ipython3",
   "version": "3.7.1"
  }
 },
 "nbformat": 4,
 "nbformat_minor": 2
}
