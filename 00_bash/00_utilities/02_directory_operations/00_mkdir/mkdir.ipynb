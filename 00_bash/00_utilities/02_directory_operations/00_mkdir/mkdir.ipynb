{
 "cells": [
  {
   "cell_type": "markdown",
   "metadata": {},
   "source": [
    "# MKDIR\n",
    "\n",
    "Creates a new directory with the given name\n",
    "\n",
    "```bash\n",
    "mkdir my_dir                           # create directory\n",
    "mkdir -p my_dir                        # create directory if exists\n",
    "mkdir dir1 dir2 dir3                   # create multiple directories\n",
    "mkdir -p dir/sub_dir/sub_sub_dir       # create directory with necessary subfolders\n",
    "man mkdir                              # man page\n",
    "```"
   ]
  }
 ],
 "metadata": {
  "kernelspec": {
   "display_name": "Python 3",
   "language": "python",
   "name": "python3"
  },
  "language_info": {
   "codemirror_mode": {
    "name": "ipython",
    "version": 3
   },
   "file_extension": ".py",
   "mimetype": "text/x-python",
   "name": "python",
   "nbconvert_exporter": "python",
   "pygments_lexer": "ipython3",
   "version": "3.7.1"
  }
 },
 "nbformat": 4,
 "nbformat_minor": 2
}
