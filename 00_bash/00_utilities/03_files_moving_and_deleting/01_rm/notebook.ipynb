{
 "cells": [
  {
   "cell_type": "markdown",
   "metadata": {},
   "source": [
    "# RM\n",
    "\n",
    "Command that removes files.\n",
    "\n",
    "```bash\n",
    "rm file.txt                       # remove file\n",
    "rm file1.txt file2.txt file3.txt  # remove multiple files\n",
    "rm -f file_protected.txt          # remove file (force)\n",
    "rm -r folder                      # remove folder\n",
    "rm -rf folder                     # remove folder (force)\n",
    "rm my_dir/*.txt                   # remove files using wild card  \n",
    "man rm                            # man page\n",
    "```"
   ]
  },
  {
   "cell_type": "code",
   "execution_count": null,
   "metadata": {},
   "outputs": [],
   "source": []
  }
 ],
 "metadata": {
  "kernelspec": {
   "display_name": "Python 3",
   "language": "python",
   "name": "python3"
  },
  "language_info": {
   "codemirror_mode": {
    "name": "ipython",
    "version": 3
   },
   "file_extension": ".py",
   "mimetype": "text/x-python",
   "name": "python",
   "nbconvert_exporter": "python",
   "pygments_lexer": "ipython3",
   "version": "3.7.1"
  }
 },
 "nbformat": 4,
 "nbformat_minor": 2
}
