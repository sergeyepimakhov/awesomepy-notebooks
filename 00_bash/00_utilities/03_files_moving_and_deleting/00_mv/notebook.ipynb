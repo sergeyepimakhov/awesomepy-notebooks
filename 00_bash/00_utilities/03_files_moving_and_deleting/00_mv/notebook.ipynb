{
 "cells": [
  {
   "cell_type": "markdown",
   "metadata": {},
   "source": [
    "# MV\n",
    "\n",
    "Moves (or renames) files and directories\n",
    "\n",
    "```bash\n",
    "mv file.txt file_renamed.txt              # rename file (overwrite)\n",
    "mv -n file.txt file_renamed.txt           # rename file (prevent overwriting)\n",
    "mv file.txt my_dir                        # move file to dir\n",
    "mv file1.txt file2.txt file3.txt my_dir   # move multiple files\n",
    "mv file*.txt my_dir                       # move files using wildcard\n",
    "mv dir0 my_dir                            # move directory to another one\n",
    "mv dir1 dir2 dir3 my_dir                  # move multiple directories\n",
    "mv -v file*.txt my_dir                    # verbose mode\n",
    "man mv                                    # man page\n",
    "```"
   ]
  },
  {
   "cell_type": "code",
   "execution_count": null,
   "metadata": {},
   "outputs": [],
   "source": []
  }
 ],
 "metadata": {
  "kernelspec": {
   "display_name": "Python 3",
   "language": "python",
   "name": "python3"
  },
  "language_info": {
   "codemirror_mode": {
    "name": "ipython",
    "version": 3
   },
   "file_extension": ".py",
   "mimetype": "text/x-python",
   "name": "python",
   "nbconvert_exporter": "python",
   "pygments_lexer": "ipython3",
   "version": "3.7.1"
  }
 },
 "nbformat": 4,
 "nbformat_minor": 2
}
