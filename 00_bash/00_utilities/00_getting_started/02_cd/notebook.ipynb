{
 "cells": [
  {
   "cell_type": "markdown",
   "metadata": {},
   "source": [
    "# CD\n",
    "\n",
    "Changes the working directory to the given directory."
   ]
  },
  {
   "cell_type": "markdown",
   "metadata": {},
   "source": [
    "```bash\n",
    "\n",
    "# relative path\n",
    "cd path/to/directory \n",
    "cd ./path/to/directory\n",
    "\n",
    "# absolute path\n",
    "cd /path/to/directory \n",
    "\n",
    "# root folder\n",
    "cd /\n",
    "\n",
    "# home folder\n",
    "cd\n",
    "cd ~\n",
    "cd ~/\n",
    "\n",
    "# move back \n",
    "cd ../\n",
    "cd ../../ # etc.\n",
    "\n",
    "# previous destination\n",
    "cd -\n",
    "\n",
    "# man page\n",
    "help cd\n",
    "```"
   ]
  }
 ],
 "metadata": {
  "kernelspec": {
   "display_name": "Python 3",
   "language": "python",
   "name": "python3"
  },
  "language_info": {
   "codemirror_mode": {
    "name": "ipython",
    "version": 3
   },
   "file_extension": ".py",
   "mimetype": "text/x-python",
   "name": "python",
   "nbconvert_exporter": "python",
   "pygments_lexer": "ipython3",
   "version": "3.7.1"
  }
 },
 "nbformat": 4,
 "nbformat_minor": 2
}
