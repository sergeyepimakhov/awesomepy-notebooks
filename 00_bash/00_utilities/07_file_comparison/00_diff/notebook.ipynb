{
 "cells": [
  {
   "cell_type": "markdown",
   "metadata": {},
   "source": [
    "# DIFF\n",
    "\n",
    "Command that displays differences between two files."
   ]
  },
  {
   "cell_type": "markdown",
   "metadata": {},
   "source": [
    "```bash\n",
    "diff file1 file2     # display diffs\n",
    "diff -y file1 file2  # display diffs (side by side)\n",
    "man diff             # man page\n",
    "```\n",
    "\n",
    "Special symbols:\n",
    "- a : add\n",
    "- c : change\n",
    "- d : delete\n",
    "\n",
    "Instructions:\n",
    "- `<` - line from the left file\n",
    "- `>` - line from the right file"
   ]
  },
  {
   "cell_type": "markdown",
   "metadata": {},
   "source": [
    "## Examples"
   ]
  },
  {
   "cell_type": "markdown",
   "metadata": {},
   "source": [
    "### Line added"
   ]
  },
  {
   "cell_type": "code",
   "execution_count": 12,
   "metadata": {},
   "outputs": [
    {
     "name": "stdout",
     "output_type": "stream",
     "text": [
      "1a2\n",
      "> Alice\n"
     ]
    }
   ],
   "source": [
    "%%bash --no-raise-error\n",
    "\n",
    "diff case1/file1.txt case1/file2.txt"
   ]
  },
  {
   "cell_type": "code",
   "execution_count": 13,
   "metadata": {},
   "outputs": [
    {
     "name": "stdout",
     "output_type": "stream",
     "text": [
      "Alice\t\t\t\t\t\t\t\tAlice\n",
      "\t\t\t\t\t\t\t      >\tAlice\n",
      "Bob\t\t\t\t\t\t\t\tBob\n",
      "Carol\t\t\t\t\t\t\t\tCarol\n",
      "Dan\t\t\t\t\t\t\t\tDan\n"
     ]
    }
   ],
   "source": [
    "%%bash --no-raise-error\n",
    "\n",
    "# side by side output\n",
    "diff -y case1/file1.txt case1/file2.txt"
   ]
  },
  {
   "cell_type": "markdown",
   "metadata": {},
   "source": [
    "### Line changed"
   ]
  },
  {
   "cell_type": "code",
   "execution_count": 14,
   "metadata": {},
   "outputs": [
    {
     "name": "stdout",
     "output_type": "stream",
     "text": [
      "3c3\n",
      "< Carol\n",
      "---\n",
      "> Dan\n"
     ]
    }
   ],
   "source": [
    "%%bash --no-raise-error\n",
    "\n",
    "diff case2/file1.txt case2/file2.txt"
   ]
  },
  {
   "cell_type": "code",
   "execution_count": 15,
   "metadata": {},
   "outputs": [
    {
     "name": "stdout",
     "output_type": "stream",
     "text": [
      "Alice\t\t\t\t\t\t\t\tAlice\n",
      "Bob\t\t\t\t\t\t\t\tBob\n",
      "Carol\t\t\t\t\t\t\t      |\tDan\n"
     ]
    }
   ],
   "source": [
    "%%bash --no-raise-error\n",
    "# side by side output\n",
    "diff -y case2/file1.txt case2/file2.txt"
   ]
  },
  {
   "cell_type": "markdown",
   "metadata": {},
   "source": [
    "### Line deleted"
   ]
  },
  {
   "cell_type": "code",
   "execution_count": 16,
   "metadata": {},
   "outputs": [
    {
     "name": "stdout",
     "output_type": "stream",
     "text": [
      "4d3\n",
      "< Dan\n"
     ]
    }
   ],
   "source": [
    "%%bash --no-raise-error\n",
    "\n",
    "diff case3/file1.txt case3/file2.txt"
   ]
  },
  {
   "cell_type": "code",
   "execution_count": 17,
   "metadata": {},
   "outputs": [
    {
     "name": "stdout",
     "output_type": "stream",
     "text": [
      "Alice\t\t\t\t\t\t\t\tAlice\n",
      "Bob\t\t\t\t\t\t\t\tBob\n",
      "Carol\t\t\t\t\t\t\t\tCarol\n",
      "Dan\t\t\t\t\t\t\t      <\n"
     ]
    }
   ],
   "source": [
    "%%bash --no-raise-error\n",
    "# side by side output\n",
    "diff -y case3/file1.txt case3/file2.txt"
   ]
  },
  {
   "cell_type": "code",
   "execution_count": null,
   "metadata": {},
   "outputs": [],
   "source": []
  }
 ],
 "metadata": {
  "kernelspec": {
   "display_name": "Python 3",
   "language": "python",
   "name": "python3"
  },
  "language_info": {
   "codemirror_mode": {
    "name": "ipython",
    "version": 3
   },
   "file_extension": ".py",
   "mimetype": "text/x-python",
   "name": "python",
   "nbconvert_exporter": "python",
   "pygments_lexer": "ipython3",
   "version": "3.7.1"
  }
 },
 "nbformat": 4,
 "nbformat_minor": 2
}
