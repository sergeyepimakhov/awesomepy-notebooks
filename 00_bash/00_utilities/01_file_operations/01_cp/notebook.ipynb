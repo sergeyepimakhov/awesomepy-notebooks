{
 "cells": [
  {
   "cell_type": "markdown",
   "metadata": {},
   "source": [
    "# CP\n",
    "\n",
    "Copy files and directories\n",
    "\n",
    "```bash\n",
    "cp file.txt file_copy.txt                 # copy file to another file\n",
    "cp file.txt /path/to/folder               # copy file to folder\n",
    "cp file1.txt file2.txt file3.txt folder   # copy multiple files to folder\n",
    "cp -R folder folder_copy                  # copy folder to another folder\n",
    "cp -R folder1 folder2 folder3 folder_copy # copy multiple folders to another folder\n",
    "cp -Rv folder folder_copy                 # copy verbose\n",
    "man cp                                    # man page\n",
    "```"
   ]
  },
  {
   "cell_type": "code",
   "execution_count": null,
   "metadata": {},
   "outputs": [],
   "source": []
  }
 ],
 "metadata": {
  "kernelspec": {
   "display_name": "Python 3",
   "language": "python",
   "name": "python3"
  },
  "language_info": {
   "codemirror_mode": {
    "name": "ipython",
    "version": 3
   },
   "file_extension": ".py",
   "mimetype": "text/x-python",
   "name": "python",
   "nbconvert_exporter": "python",
   "pygments_lexer": "ipython3",
   "version": "3.7.1"
  }
 },
 "nbformat": 4,
 "nbformat_minor": 2
}
