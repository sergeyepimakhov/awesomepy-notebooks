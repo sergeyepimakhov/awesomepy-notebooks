{
 "cells": [
  {
   "cell_type": "markdown",
   "metadata": {},
   "source": [
    "# TOUCH\n",
    "\n",
    "Create an empty file or update the last-modified time of a file."
   ]
  },
  {
   "cell_type": "markdown",
   "metadata": {},
   "source": [
    "```bash\n",
    "touch file.txt                      # create an empty file\n",
    "touch file1.txt file2.txt file3.txt # create multiple files\n",
    "touch -c file.txt                   # won't create if it doesn't exist, it modifies the timestamp only\n",
    "touch -a file.txt                   # \"touch\" the access time\n",
    "touch -m file.txt                   # \"touch\" the modification time\n",
    "\n",
    "# set the modification time in format [[CC]YY]MMDDhhmm[.SS]\n",
    "touch -t 01011159 file.txt          # set the time to 01/01 11:59\n",
    "touch -t 01011159.45 file.txt       # set the time to 01/01 11:59.45\n",
    "touch -t 2001011159.45 file.txt     # set the time to 2020/01/01 11:59.45\n",
    "touch -t 192001011159.45 file.txt   # set the time to 1920/01/01 11:59.45\n",
    "\n",
    "touch -r file_dest.txt file_src.txt # apply the same modification time from another file\n",
    "man touch                           # man page\n",
    "```"
   ]
  }
 ],
 "metadata": {
  "kernelspec": {
   "display_name": "Python 3",
   "language": "python",
   "name": "python3"
  },
  "language_info": {
   "codemirror_mode": {
    "name": "ipython",
    "version": 3
   },
   "file_extension": ".py",
   "mimetype": "text/x-python",
   "name": "python",
   "nbconvert_exporter": "python",
   "pygments_lexer": "ipython3",
   "version": "3.7.1"
  }
 },
 "nbformat": 4,
 "nbformat_minor": 2
}
