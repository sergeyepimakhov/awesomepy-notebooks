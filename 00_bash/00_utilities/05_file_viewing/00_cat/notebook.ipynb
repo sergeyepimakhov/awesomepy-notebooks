{
 "cells": [
  {
   "cell_type": "markdown",
   "metadata": {},
   "source": [
    "# CAT\n",
    "\n",
    "Command that displays the contents of a file.\n",
    "\n",
    "```bash\n",
    "cat file.txt                       # display file\n",
    "cat file1.txt file2.txt file3.txt  # display multiple files\n",
    "cat > file.txt                     # create empty file\n",
    "cat <<EOT >> file.txt              # create empty file with content\n",
    "line 1\n",
    "line 2\n",
    "line 3\n",
    "EOT\n",
    "cat -n file.txt                    # display line numbers\n",
    "cat file.txt > out.txt             # redirect output to file (overwrite)\n",
    "cat file.txt >> out.txt            # redirect output to file (append)\n",
    "cat < file.txt                     # standard input. same as the normal cat usage\n",
    "cat file.txt | sort -r             # using pipe\n",
    "man cat                            # man page\n",
    "```"
   ]
  }
 ],
 "metadata": {
  "kernelspec": {
   "display_name": "Python 3",
   "language": "python",
   "name": "python3"
  },
  "language_info": {
   "codemirror_mode": {
    "name": "ipython",
    "version": 3
   },
   "file_extension": ".py",
   "mimetype": "text/x-python",
   "name": "python",
   "nbconvert_exporter": "python",
   "pygments_lexer": "ipython3",
   "version": "3.7.1"
  }
 },
 "nbformat": 4,
 "nbformat_minor": 2
}
