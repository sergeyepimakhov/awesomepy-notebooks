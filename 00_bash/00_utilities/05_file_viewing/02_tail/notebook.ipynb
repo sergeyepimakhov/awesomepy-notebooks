{
 "cells": [
  {
   "cell_type": "markdown",
   "metadata": {},
   "source": [
    "# TAIL\n",
    "\n",
    "Command that displays the ending of a file.\n",
    "\n",
    "```bash\n",
    "tail file.txt            # display last lines\n",
    "tail -n 5 file.txt       # display 5 last lines\n",
    "tail file1.txt file2.txt # display multiple files\n",
    "man tail                 # man page\n",
    "```"
   ]
  },
  {
   "cell_type": "markdown",
   "metadata": {},
   "source": [
    "## Examples"
   ]
  },
  {
   "cell_type": "code",
   "execution_count": 1,
   "metadata": {},
   "outputs": [
    {
     "name": "stdout",
     "output_type": "stream",
     "text": [
      "991,Westbrook,Wodham,wwodhamri@noaa.gov,Male,18.134.217.61\n",
      "992,Percy,Meace,pmeacerj@goodreads.com,Male,216.106.40.83\n",
      "993,Stanislaw,Easey,seaseyrk@businessweek.com,Male,5.115.152.238\n",
      "994,Giorgio,Curnok,gcurnokrl@behance.net,Male,71.132.40.226\n",
      "995,Corbet,Munnis,cmunnisrm@nifty.com,Male,128.143.111.102\n",
      "996,Bobbie,Newling,bnewlingrn@state.gov,Male,124.145.27.46\n",
      "997,Heda,Divina,hdivinaro@moonfruit.com,Female,247.25.154.152\n",
      "998,Moria,Chippin,mchippinrp@nsw.gov.au,Female,196.188.192.150\n",
      "999,Adena,Seeviour,aseeviourrq@devhub.com,Female,187.167.3.60\n",
      "1000,Merwyn,Woakes,mwoakesrr@redcross.org,Male,156.119.44.199\n"
     ]
    }
   ],
   "source": [
    "%%bash\n",
    "tail sample.csv"
   ]
  },
  {
   "cell_type": "code",
   "execution_count": 2,
   "metadata": {},
   "outputs": [
    {
     "name": "stdout",
     "output_type": "stream",
     "text": [
      "996,Bobbie,Newling,bnewlingrn@state.gov,Male,124.145.27.46\n",
      "997,Heda,Divina,hdivinaro@moonfruit.com,Female,247.25.154.152\n",
      "998,Moria,Chippin,mchippinrp@nsw.gov.au,Female,196.188.192.150\n",
      "999,Adena,Seeviour,aseeviourrq@devhub.com,Female,187.167.3.60\n",
      "1000,Merwyn,Woakes,mwoakesrr@redcross.org,Male,156.119.44.199\n"
     ]
    }
   ],
   "source": [
    "%%bash\n",
    "tail -n 5 sample.csv"
   ]
  },
  {
   "cell_type": "code",
   "execution_count": 3,
   "metadata": {},
   "outputs": [
    {
     "name": "stdout",
     "output_type": "stream",
     "text": [
      "==> sample.csv <==\n",
      "991,Westbrook,Wodham,wwodhamri@noaa.gov,Male,18.134.217.61\n",
      "992,Percy,Meace,pmeacerj@goodreads.com,Male,216.106.40.83\n",
      "993,Stanislaw,Easey,seaseyrk@businessweek.com,Male,5.115.152.238\n",
      "994,Giorgio,Curnok,gcurnokrl@behance.net,Male,71.132.40.226\n",
      "995,Corbet,Munnis,cmunnisrm@nifty.com,Male,128.143.111.102\n",
      "996,Bobbie,Newling,bnewlingrn@state.gov,Male,124.145.27.46\n",
      "997,Heda,Divina,hdivinaro@moonfruit.com,Female,247.25.154.152\n",
      "998,Moria,Chippin,mchippinrp@nsw.gov.au,Female,196.188.192.150\n",
      "999,Adena,Seeviour,aseeviourrq@devhub.com,Female,187.167.3.60\n",
      "1000,Merwyn,Woakes,mwoakesrr@redcross.org,Male,156.119.44.199\n",
      "\n",
      "==> notebook.ipynb <==\n",
      "   \"mimetype\": \"text/x-python\",\n",
      "   \"name\": \"python\",\n",
      "   \"nbconvert_exporter\": \"python\",\n",
      "   \"pygments_lexer\": \"ipython3\",\n",
      "   \"version\": \"3.7.1\"\n",
      "  }\n",
      " },\n",
      " \"nbformat\": 4,\n",
      " \"nbformat_minor\": 2\n",
      "}\n"
     ]
    }
   ],
   "source": [
    "%%bash\n",
    "tail sample.csv notebook.ipynb"
   ]
  },
  {
   "cell_type": "code",
   "execution_count": null,
   "metadata": {},
   "outputs": [],
   "source": []
  }
 ],
 "metadata": {
  "kernelspec": {
   "display_name": "Python 3",
   "language": "python",
   "name": "python3"
  },
  "language_info": {
   "codemirror_mode": {
    "name": "ipython",
    "version": 3
   },
   "file_extension": ".py",
   "mimetype": "text/x-python",
   "name": "python",
   "nbconvert_exporter": "python",
   "pygments_lexer": "ipython3",
   "version": "3.7.1"
  }
 },
 "nbformat": 4,
 "nbformat_minor": 2
}
