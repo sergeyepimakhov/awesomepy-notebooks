{
 "cells": [
  {
   "cell_type": "markdown",
   "metadata": {},
   "source": [
    "# HEAD\n",
    "\n",
    "Command that displays the beginning of a file.\n",
    "\n",
    "```bash\n",
    "head file.txt             # display first lines\n",
    "head -n 5 file.txt        # display first 5 lines\n",
    "head file1.txt file2.txt  # display multiple files\n",
    "man head                  # man page\n",
    "```"
   ]
  },
  {
   "cell_type": "markdown",
   "metadata": {},
   "source": [
    "## Examples"
   ]
  },
  {
   "cell_type": "code",
   "execution_count": 1,
   "metadata": {},
   "outputs": [
    {
     "name": "stdout",
     "output_type": "stream",
     "text": [
      "id,first_name,last_name,email,gender,ip_address\n",
      "1,Wallas,Chantree,wchantree0@msn.com,Male,206.222.35.217\n",
      "2,Gearard,Klezmski,gklezmski1@tamu.edu,Male,101.58.134.139\n",
      "3,Mia,Mant,mmant2@nsw.gov.au,Female,64.144.7.18\n",
      "4,Leann,Dearle-Palser,ldearlepalser3@jiathis.com,Female,26.255.208.192\n",
      "5,Casie,Cissen,ccissen4@scribd.com,Female,71.159.180.246\n",
      "6,Alfreda,Kelsey,akelsey5@netscape.com,Female,186.50.220.181\n",
      "7,Man,Oret,moret6@prweb.com,Male,97.210.61.86\n",
      "8,Louie,Bednall,lbednall7@reference.com,Male,175.194.44.77\n",
      "9,Otho,Chomley,ochomley8@virginia.edu,Male,127.230.155.14\n"
     ]
    }
   ],
   "source": [
    "%%bash\n",
    "head sample.csv"
   ]
  },
  {
   "cell_type": "code",
   "execution_count": 2,
   "metadata": {},
   "outputs": [
    {
     "name": "stdout",
     "output_type": "stream",
     "text": [
      "id,first_name,last_name,email,gender,ip_address\n",
      "1,Wallas,Chantree,wchantree0@msn.com,Male,206.222.35.217\n",
      "2,Gearard,Klezmski,gklezmski1@tamu.edu,Male,101.58.134.139\n",
      "3,Mia,Mant,mmant2@nsw.gov.au,Female,64.144.7.18\n",
      "4,Leann,Dearle-Palser,ldearlepalser3@jiathis.com,Female,26.255.208.192\n"
     ]
    }
   ],
   "source": [
    "%%bash\n",
    "head -n 5 sample.csv"
   ]
  },
  {
   "cell_type": "code",
   "execution_count": 3,
   "metadata": {},
   "outputs": [
    {
     "name": "stdout",
     "output_type": "stream",
     "text": [
      "==> sample.csv <==\n",
      "id,first_name,last_name,email,gender,ip_address\n",
      "1,Wallas,Chantree,wchantree0@msn.com,Male,206.222.35.217\n",
      "2,Gearard,Klezmski,gklezmski1@tamu.edu,Male,101.58.134.139\n",
      "3,Mia,Mant,mmant2@nsw.gov.au,Female,64.144.7.18\n",
      "4,Leann,Dearle-Palser,ldearlepalser3@jiathis.com,Female,26.255.208.192\n",
      "5,Casie,Cissen,ccissen4@scribd.com,Female,71.159.180.246\n",
      "6,Alfreda,Kelsey,akelsey5@netscape.com,Female,186.50.220.181\n",
      "7,Man,Oret,moret6@prweb.com,Male,97.210.61.86\n",
      "8,Louie,Bednall,lbednall7@reference.com,Male,175.194.44.77\n",
      "9,Otho,Chomley,ochomley8@virginia.edu,Male,127.230.155.14\n",
      "\n",
      "==> notebook.ipynb <==\n",
      "{\n",
      " \"cells\": [\n",
      "  {\n",
      "   \"cell_type\": \"markdown\",\n",
      "   \"metadata\": {},\n",
      "   \"source\": [\n",
      "    \"# HEAD\\n\",\n",
      "    \"\\n\",\n",
      "    \"Command that displays the beginning of a file.\\n\",\n",
      "    \"\\n\",\n"
     ]
    }
   ],
   "source": [
    "%%bash\n",
    "head sample.csv notebook.ipynb"
   ]
  },
  {
   "cell_type": "code",
   "execution_count": null,
   "metadata": {},
   "outputs": [],
   "source": []
  }
 ],
 "metadata": {
  "kernelspec": {
   "display_name": "Python 3",
   "language": "python",
   "name": "python3"
  },
  "language_info": {
   "codemirror_mode": {
    "name": "ipython",
    "version": 3
   },
   "file_extension": ".py",
   "mimetype": "text/x-python",
   "name": "python",
   "nbconvert_exporter": "python",
   "pygments_lexer": "ipython3",
   "version": "3.7.1"
  }
 },
 "nbformat": 4,
 "nbformat_minor": 2
}
