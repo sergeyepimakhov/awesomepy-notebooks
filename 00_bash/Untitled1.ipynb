{
 "cells": [
  {
   "cell_type": "markdown",
   "metadata": {},
   "source": [
    "<div style=\"text-align: center; line-height: 0; padding-top: 9px;\">\n",
    "  <img src=\"https://databricks.com/wp-content/uploads/2018/03/db-academy-rgb-1200px.png\" alt=\"Databricks Learning\" style=\"width: 600px; height: 163px\">\n",
    "</div>"
   ]
  },
  {
   "cell_type": "markdown",
   "metadata": {},
   "source": [
    "# Coding Challenge 14\n",
    "\n",
    "## Summary\n",
    "Register the function **`combineDimensions`** as a UDF and apply it to the **`width`** and **`height`** columns of the **`\"graphics\"`** table to combine them in the new column **`\"dimensions\"`**."
   ]
  },
  {
   "cell_type": "code",
   "execution_count": 2,
   "metadata": {},
   "outputs": [
    {
     "name": "stderr",
     "output_type": "stream",
     "text": [
      "ERROR:root:File `'./Includes/Classroom-Setup-14.py'` not found.\n"
     ]
    }
   ],
   "source": [
    "%run ./Includes/Classroom-Setup-14"
   ]
  },
  {
   "cell_type": "markdown",
   "metadata": {},
   "source": [
    "## Steps to complete\n",
    "* Use the provided **`combineDimensions`** function to create and register a UDF with the SQL function name **`\"COMBINE_DIMENSIONS\"`**\n",
    "  - The function **`combineDimensions(width, height)`**:\n",
    "    - Rounds width and height to two decimal points\n",
    "    - Returns a single string containing the rounded values in the format **`\"width-x-height\"`**\n",
    "* Apply the  UDF on columns **`width`** and **`height`** of the **`\"graphics\"`** table to create a new column **`\"dimensions\"`**\n",
    "\n",
    "Return the resulting DataFrame with the following schema:\n",
    "  \n",
    "| column | type   |\n",
    "|--------|--------|\n",
    "| dimensions | string   |\n",
    "\n",
    "The resulting DataFrame should look similar to this:\n",
    "\n",
    "|dimensions|\n",
    "|---|\n",
    "|100.25-x-50.31|\n",
    "|88.10-x-20.10|\n",
    "|14.66-x-14.66|\n",
    "|50.25-x-25.13|\n",
    "|100.00-x-100.00|"
   ]
  },
  {
   "cell_type": "code",
   "execution_count": null,
   "metadata": {},
   "outputs": [],
   "source": [
    "# TODO\n",
    "\n",
    "def challenge(combineDimensions):\n",
    "  # use the combineDimensions function to create and register a UDF with the name COMBINE_DIMENSIONS\n",
    "  spark.udf.register('COMBINE_DIMENSIONS', combineDimensions)\n",
    "\n",
    "  # apply the registered SQL function to width and height columns of the graphics table\n",
    "  # return a DataFrame containing only this resulting column renamed to dimensions\n",
    "  df = spark.sql('SELECT COMBINE_DIMENSIONS(width, height) AS dimensions FROM graphics')\n",
    "  return df\n",
    "\n",
    "\n",
    "finalDF = challenge(combineDimensions)\n",
    "display(finalDF)"
   ]
  },
  {
   "cell_type": "markdown",
   "metadata": {},
   "source": [
    "<h2><img src=\"https://files.training.databricks.com/images/105/logo_spark_tiny.png\"> Reality Check</h2>\n",
    "\n",
    "Run the following cell to make sure you are on track:"
   ]
  },
  {
   "cell_type": "code",
   "execution_count": 4,
   "metadata": {},
   "outputs": [
    {
     "ename": "NameError",
     "evalue": "name 'realityCheck' is not defined",
     "output_type": "error",
     "traceback": [
      "\u001b[0;31m---------------------------------------------------------------------------\u001b[0m",
      "\u001b[0;31mNameError\u001b[0m                                 Traceback (most recent call last)",
      "\u001b[0;32m<ipython-input-4-79407e77f0b4>\u001b[0m in \u001b[0;36m<module>\u001b[0;34m\u001b[0m\n\u001b[1;32m      1\u001b[0m \u001b[0;31m# TEST - Run this cell to test your solution.\u001b[0m\u001b[0;34m\u001b[0m\u001b[0;34m\u001b[0m\u001b[0;34m\u001b[0m\u001b[0m\n\u001b[0;32m----> 2\u001b[0;31m \u001b[0mrealityCheck\u001b[0m\u001b[0;34m(\u001b[0m\u001b[0mchallenge\u001b[0m\u001b[0;34m)\u001b[0m\u001b[0;34m\u001b[0m\u001b[0;34m\u001b[0m\u001b[0m\n\u001b[0m",
      "\u001b[0;31mNameError\u001b[0m: name 'realityCheck' is not defined"
     ]
    }
   ],
   "source": [
    "# TEST - Run this cell to test your solution.\n",
    "realityCheck(challenge)\n",
    "\n",
    "# {'final': (100, 'PASSED')}"
   ]
  },
  {
   "cell_type": "markdown",
   "metadata": {},
   "source": [
    "|Test|Result|\n",
    "|----|------|\n",
    "Returns DataFrame with correct schema|Passed|\n",
    "Returns DataFrame with correct number of rows|Passed|\n",
    "Returns DataFrame with correct results|Passed|\n",
    "Computes DataFrame using the correct UDF name|Passed|"
   ]
  },
  {
   "cell_type": "markdown",
   "metadata": {},
   "source": [
    "<iframe style=\"width:100%;border-width:0px;height:339px\" srcdoc=\"<html><head><meta charset='utf-8'><meta name='google' content='notranslate'><meta http-equiv='Content-Language' content='en'><link rel='stylesheet' type='text/css' href='https://databricks-prod-cloudfront.cloud.databricks.com/static/1c392c5d442e5463745c66788503591f80966d33fc87ec66ca414bd5a5f1c7a6/lib/css/source_code_pro.css'><link rel='stylesheet' type='text/css' href='https://databricks-prod-cloudfront.cloud.databricks.com/static/1c392c5d442e5463745c66788503591f80966d33fc87ec66ca414bd5a5f1c7a6/lib/css/bootstrap.min.css'><link rel='stylesheet' type='text/css' href='https://databricks-prod-cloudfront.cloud.databricks.com/static/1c392c5d442e5463745c66788503591f80966d33fc87ec66ca414bd5a5f1c7a6/css/main.css'><meta http-equiv='content-type' content='text/html; charset=UTF8'></head><body><div id='databricks-notebook-cell'></div><script>window.settings = {staticNotebookResourceUrl: 'https://databricks-prod-cloudfront.cloud.databricks.com/static/1c392c5d442e5463745c66788503591f80966d33fc87ec66ca414bd5a5f1c7a6/', deploymentMode: 'production'};const notebookModelJson = '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';const notebookModelCommandCollection = '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';</script><script src='https://databricks-prod-cloudfront.cloud.databricks.com/static/1c392c5d442e5463745c66788503591f80966d33fc87ec66ca414bd5a5f1c7a6/js/metrics-graphics.js'></script><script src='https://databricks-prod-cloudfront.cloud.databricks.com/static/1c392c5d442e5463745c66788503591f80966d33fc87ec66ca414bd5a5f1c7a6/js/cell-main.js'></script></body></html>\"></iframe>"
   ]
  },
  {
   "cell_type": "code",
   "execution_count": 8,
   "metadata": {},
   "outputs": [
    {
     "data": {
      "text/html": [
       "<iframe style=\"width:100%;border-width:0px;height:339px\" srcdoc=\"<html><head><meta charset='utf-8'><meta name='google' content='notranslate'><meta http-equiv='Content-Language' content='en'><link rel='stylesheet' type='text/css' href='https://databricks-prod-cloudfront.cloud.databricks.com/static/1c392c5d442e5463745c66788503591f80966d33fc87ec66ca414bd5a5f1c7a6/lib/css/source_code_pro.css'><link rel='stylesheet' type='text/css' href='https://databricks-prod-cloudfront.cloud.databricks.com/static/1c392c5d442e5463745c66788503591f80966d33fc87ec66ca414bd5a5f1c7a6/lib/css/bootstrap.min.css'><link rel='stylesheet' type='text/css' href='https://databricks-prod-cloudfront.cloud.databricks.com/static/1c392c5d442e5463745c66788503591f80966d33fc87ec66ca414bd5a5f1c7a6/css/main.css'><meta http-equiv='content-type' content='text/html; charset=UTF8'></head><body><div id='databricks-notebook-cell'></div><script>window.settings = {staticNotebookResourceUrl: 'https://databricks-prod-cloudfront.cloud.databricks.com/static/1c392c5d442e5463745c66788503591f80966d33fc87ec66ca414bd5a5f1c7a6/', deploymentMode: 'production'};const notebookModelJson = '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';const notebookModelCommandCollection = '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';</script><script src='https://databricks-prod-cloudfront.cloud.databricks.com/static/1c392c5d442e5463745c66788503591f80966d33fc87ec66ca414bd5a5f1c7a6/js/metrics-graphics.js'></script><script src='https://databricks-prod-cloudfront.cloud.databricks.com/static/1c392c5d442e5463745c66788503591f80966d33fc87ec66ca414bd5a5f1c7a6/js/cell-main.js'></script></body></html>\"></iframe>\n"
      ],
      "text/plain": [
       "<IPython.core.display.HTML object>"
      ]
     },
     "metadata": {},
     "output_type": "display_data"
    }
   ],
   "source": [
    "%%HTML\n",
    "<iframe style=\"width:100%;border-width:0px;height:339px\" srcdoc=\"<html><head><meta charset='utf-8'><meta name='google' content='notranslate'><meta http-equiv='Content-Language' content='en'><link rel='stylesheet' type='text/css' href='https://databricks-prod-cloudfront.cloud.databricks.com/static/1c392c5d442e5463745c66788503591f80966d33fc87ec66ca414bd5a5f1c7a6/lib/css/source_code_pro.css'><link rel='stylesheet' type='text/css' href='https://databricks-prod-cloudfront.cloud.databricks.com/static/1c392c5d442e5463745c66788503591f80966d33fc87ec66ca414bd5a5f1c7a6/lib/css/bootstrap.min.css'><link rel='stylesheet' type='text/css' href='https://databricks-prod-cloudfront.cloud.databricks.com/static/1c392c5d442e5463745c66788503591f80966d33fc87ec66ca414bd5a5f1c7a6/css/main.css'><meta http-equiv='content-type' content='text/html; charset=UTF8'></head><body><div id='databricks-notebook-cell'></div><script>window.settings = {staticNotebookResourceUrl: 'https://databricks-prod-cloudfront.cloud.databricks.com/static/1c392c5d442e5463745c66788503591f80966d33fc87ec66ca414bd5a5f1c7a6/', deploymentMode: 'production'};const notebookModelJson = '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';const notebookModelCommandCollection = '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';</script><script src='https://databricks-prod-cloudfront.cloud.databricks.com/static/1c392c5d442e5463745c66788503591f80966d33fc87ec66ca414bd5a5f1c7a6/js/metrics-graphics.js'></script><script src='https://databricks-prod-cloudfront.cloud.databricks.com/static/1c392c5d442e5463745c66788503591f80966d33fc87ec66ca414bd5a5f1c7a6/js/cell-main.js'></script></body></html>\"></iframe>"
   ]
  },
  {
   "cell_type": "markdown",
   "metadata": {},
   "source": [
    "%md-sandbox\n",
    "&copy; 2019 Databricks, Inc. All rights reserved.<br/>\n",
    "Apache, Apache Spark, Spark and the Spark logo are trademarks of the <a href=\"http://www.apache.org/\">Apache Software Foundation</a>.<br/>\n",
    "<br/>\n",
    "<a href=\"https://databricks.com/privacy-policy\">Privacy Policy</a> | <a href=\"https://databricks.com/terms-of-use\">Terms of Use</a> | <a href=\"http://help.databricks.com/\">Support</a>"
   ]
  },
  {
   "cell_type": "code",
   "execution_count": null,
   "metadata": {},
   "outputs": [],
   "source": []
  }
 ],
 "metadata": {
  "kernelspec": {
   "display_name": "Python 3",
   "language": "python",
   "name": "python3"
  },
  "language_info": {
   "codemirror_mode": {
    "name": "ipython",
    "version": 3
   },
   "file_extension": ".py",
   "mimetype": "text/x-python",
   "name": "python",
   "nbconvert_exporter": "python",
   "pygments_lexer": "ipython3",
   "version": "3.7.1"
  }
 },
 "nbformat": 4,
 "nbformat_minor": 2
}
