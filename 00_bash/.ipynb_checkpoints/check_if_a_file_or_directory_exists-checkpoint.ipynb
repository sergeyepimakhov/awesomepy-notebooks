{
 "cells": [
  {
   "cell_type": "markdown",
   "metadata": {},
   "source": [
    "# CHECK IF A FILE OR DIRECTORY EXISTS\n",
    "\n",
    "In Bash, you can use the test command to check whether a file or directory exists."
   ]
  },
  {
   "cell_type": "markdown",
   "metadata": {},
   "source": [
    "## SYNOPSIS\n",
    "The test command takes one of the following syntax forms:\n",
    "\n",
    "```bash\n",
    "test EXPRESSION\n",
    "[ EXPRESSION ]\n",
    "[[ EXPRESSION ]]\n",
    "```\n",
    "\n",
    "Single brackets `[...]` are portable on all `POSIX` shells. The double brackets `[[...]]` is a new upgraded version of the test command and is supported on most modern systems using `Bash`, `Zsh`, and `Ksh` as a default shell.\n",
    "\n",
    "! Always use double quotes to avoid issues when dealing with files containing whitespace in their names."
   ]
  },
  {
   "cell_type": "markdown",
   "metadata": {},
   "source": [
    "### Check if File exists\n",
    "\n",
    "Use FILE operators `-f` or `-e` to check that file exists."
   ]
  },
  {
   "cell_type": "code",
   "execution_count": 42,
   "metadata": {},
   "outputs": [
    {
     "name": "stdout",
     "output_type": "stream",
     "text": [
      "/etc/resolv.conf exists\n"
     ]
    }
   ],
   "source": [
    "%%bash\n",
    "FILE=/etc/resolv.conf\n",
    "if test -f \"$FILE\"; then\n",
    "    echo \"$FILE exists\"\n",
    "fi"
   ]
  },
  {
   "cell_type": "code",
   "execution_count": 43,
   "metadata": {},
   "outputs": [
    {
     "name": "stdout",
     "output_type": "stream",
     "text": [
      "/etc/resolv.conf exists\n"
     ]
    }
   ],
   "source": [
    "%%bash\n",
    "FILE=/etc/resolv.conf\n",
    "if [ -f \"$FILE\" ]; then\n",
    "    echo \"$FILE exists\"\n",
    "fi"
   ]
  },
  {
   "cell_type": "code",
   "execution_count": 44,
   "metadata": {},
   "outputs": [
    {
     "name": "stdout",
     "output_type": "stream",
     "text": [
      "/etc/resolv.conf exists\n"
     ]
    }
   ],
   "source": [
    "%%bash\n",
    "FILE=/etc/resolv.conf\n",
    "if [[ -f \"$FILE\" ]]; then\n",
    "    echo \"$FILE exists\"\n",
    "fi"
   ]
  },
  {
   "cell_type": "markdown",
   "metadata": {},
   "source": [
    "You can use if/then to perform a different action based on whether the file exists or not"
   ]
  },
  {
   "cell_type": "code",
   "execution_count": 45,
   "metadata": {},
   "outputs": [
    {
     "name": "stdout",
     "output_type": "stream",
     "text": [
      "/etc/resolv.conf exists\n"
     ]
    }
   ],
   "source": [
    "%%bash\n",
    "FILE=/etc/resolv.conf\n",
    "if test -f \"$FILE\"; then\n",
    "    echo \"$FILE exists\"\n",
    "else \n",
    "    echo \"$FILE does not exist\"\n",
    "fi"
   ]
  },
  {
   "cell_type": "code",
   "execution_count": 46,
   "metadata": {},
   "outputs": [
    {
     "name": "stdout",
     "output_type": "stream",
     "text": [
      "/etc/resolv.conf exists\n"
     ]
    }
   ],
   "source": [
    "%%bash\n",
    "FILE=/etc/resolv.conf\n",
    "if [ -f \"$FILE\" ]; then\n",
    "    echo \"$FILE exists\"\n",
    "else \n",
    "    echo \"$FILE does not exist\"\n",
    "fi"
   ]
  },
  {
   "cell_type": "code",
   "execution_count": 47,
   "metadata": {},
   "outputs": [
    {
     "name": "stdout",
     "output_type": "stream",
     "text": [
      "/etc/resolv.conf exists\n"
     ]
    }
   ],
   "source": [
    "%%bash\n",
    "FILE=/etc/resolv.conf\n",
    "if [[ -f \"$FILE\" ]]; then\n",
    "    echo \"$FILE exists\"\n",
    "else \n",
    "    echo \"$FILE does not exist\"\n",
    "fi"
   ]
  },
  {
   "cell_type": "markdown",
   "metadata": {},
   "source": [
    "You can also use the test command without the if statement."
   ]
  },
  {
   "cell_type": "code",
   "execution_count": 48,
   "metadata": {},
   "outputs": [
    {
     "name": "stdout",
     "output_type": "stream",
     "text": [
      "/etc/resolv.conf exists\n"
     ]
    }
   ],
   "source": [
    "%%bash\n",
    "FILE=/etc/resolv.conf\n",
    "test -f \"$FILE\" && echo \"$FILE exists\""
   ]
  },
  {
   "cell_type": "code",
   "execution_count": 49,
   "metadata": {},
   "outputs": [
    {
     "name": "stdout",
     "output_type": "stream",
     "text": [
      "/etc/resolv.conf exists\n"
     ]
    }
   ],
   "source": [
    "%%bash\n",
    "FILE=/etc/resolv.conf\n",
    "[ -f \"$FILE\" ] && echo \"$FILE exists\""
   ]
  },
  {
   "cell_type": "code",
   "execution_count": 50,
   "metadata": {},
   "outputs": [
    {
     "name": "stdout",
     "output_type": "stream",
     "text": [
      "/etc/resolv.conf exists\n"
     ]
    }
   ],
   "source": [
    "%%bash\n",
    "FILE=/etc/resolv.conf\n",
    "[[ -f \"$FILE\" ]] && echo \"$FILE exists\""
   ]
  },
  {
   "cell_type": "markdown",
   "metadata": {},
   "source": [
    "Enclose the commands in curly brackets separated by `;` to run a series of commands"
   ]
  },
  {
   "cell_type": "code",
   "execution_count": 51,
   "metadata": {},
   "outputs": [
    {
     "name": "stdout",
     "output_type": "stream",
     "text": [
      "/etc/resolv.conf exists\n"
     ]
    }
   ],
   "source": [
    "%%bash\n",
    "FILE=/etc/resolv.conf\n",
    "test -f \"$FILE\" && { echo \"$FILE exists\"; cp \"$FILE\" /tmp/; }"
   ]
  },
  {
   "cell_type": "code",
   "execution_count": 52,
   "metadata": {},
   "outputs": [
    {
     "name": "stdout",
     "output_type": "stream",
     "text": [
      "/etc/resolv.conf exists\n"
     ]
    }
   ],
   "source": [
    "%%bash\n",
    "FILE=/etc/resolv.conf\n",
    "[ -f \"$FILE\" ] && { echo \"$FILE exists\"; cp \"$FILE\" /tmp/; }"
   ]
  },
  {
   "cell_type": "code",
   "execution_count": 53,
   "metadata": {},
   "outputs": [
    {
     "name": "stdout",
     "output_type": "stream",
     "text": [
      "/etc/resolv.conf exists\n"
     ]
    }
   ],
   "source": [
    "%%bash\n",
    "FILE=/etc/resolv.conf\n",
    "[[ -f \"$FILE\" ]] && { echo \"$FILE exists\"; cp \"$FILE\" /tmp/; }"
   ]
  },
  {
   "cell_type": "markdown",
   "metadata": {},
   "source": [
    "Use the or operator `||` to write inline `if-then` statement:"
   ]
  },
  {
   "cell_type": "code",
   "execution_count": 54,
   "metadata": {},
   "outputs": [
    {
     "name": "stdout",
     "output_type": "stream",
     "text": [
      "/etc/resolv.conf exists\n"
     ]
    }
   ],
   "source": [
    "%%bash\n",
    "FILE=/etc/resolv.conf\n",
    "test -f \"$FILE\" && echo \"$FILE exists\" || echo \"$FILE does not exist\""
   ]
  },
  {
   "cell_type": "code",
   "execution_count": 55,
   "metadata": {},
   "outputs": [
    {
     "name": "stdout",
     "output_type": "stream",
     "text": [
      "/etc/resolv.conf exists\n"
     ]
    }
   ],
   "source": [
    "%%bash\n",
    "FILE=/etc/resolv.conf\n",
    "[ -f \"$FILE\" ] && echo \"$FILE exists\" || echo \"$FILE does not exist\""
   ]
  },
  {
   "cell_type": "code",
   "execution_count": 56,
   "metadata": {},
   "outputs": [
    {
     "name": "stdout",
     "output_type": "stream",
     "text": [
      "/etc/resolv.conf exists\n"
     ]
    }
   ],
   "source": [
    "%%bash\n",
    "FILE=/etc/resolv.conf\n",
    "[[ -f \"$FILE\" ]] && echo \"$FILE exists\" || echo \"$FILE does not exist\""
   ]
  },
  {
   "cell_type": "markdown",
   "metadata": {},
   "source": [
    "### Check if File does Not Exist\n",
    "Test expression can be negated using the `!` (exclamation mark)."
   ]
  },
  {
   "cell_type": "code",
   "execution_count": 61,
   "metadata": {},
   "outputs": [
    {
     "name": "stdout",
     "output_type": "stream",
     "text": [
      "/etc/bla does not exist\n"
     ]
    }
   ],
   "source": [
    "%%bash\n",
    "FILE=/etc/bla\n",
    "if [ ! -f \"$FILE\" ]; then\n",
    "    echo \"$FILE does not exist\"\n",
    "fi"
   ]
  },
  {
   "cell_type": "markdown",
   "metadata": {},
   "source": [
    "Same as above:"
   ]
  },
  {
   "cell_type": "code",
   "execution_count": 62,
   "metadata": {},
   "outputs": [
    {
     "name": "stdout",
     "output_type": "stream",
     "text": [
      "/etc/bla does not exist\n"
     ]
    }
   ],
   "source": [
    "%%bash\n",
    "FILE=/etc/bla\n",
    "[ ! -f \"$FILE\" ] && echo \"$FILE does not exist\""
   ]
  },
  {
   "cell_type": "markdown",
   "metadata": {},
   "source": [
    "### Check if Multiple Files Exist"
   ]
  },
  {
   "cell_type": "markdown",
   "metadata": {},
   "source": [
    "You can use the operator `-a` (or `&&` with `[[`) to test if multiple files exist:"
   ]
  },
  {
   "cell_type": "code",
   "execution_count": 64,
   "metadata": {},
   "outputs": [
    {
     "name": "stdout",
     "output_type": "stream",
     "text": [
      "Both files exist.\n"
     ]
    }
   ],
   "source": [
    "%%bash\n",
    "if [ -f /etc/resolv.conf -a -f /etc/hosts ]; then\n",
    "    echo \"Both files exist.\"\n",
    "fi"
   ]
  },
  {
   "cell_type": "code",
   "execution_count": 65,
   "metadata": {},
   "outputs": [
    {
     "name": "stdout",
     "output_type": "stream",
     "text": [
      "Both files exist.\n"
     ]
    }
   ],
   "source": [
    "%%bash\n",
    "if [[ -f /etc/resolv.conf && -f /etc/hosts ]]; then\n",
    "    echo \"Both files exist.\"\n",
    "fi"
   ]
  },
  {
   "cell_type": "markdown",
   "metadata": {},
   "source": [
    "### Check if Directory Exists"
   ]
  },
  {
   "cell_type": "markdown",
   "metadata": {},
   "source": [
    "Use the operator `-d` to check whether directory exists"
   ]
  },
  {
   "cell_type": "code",
   "execution_count": 60,
   "metadata": {},
   "outputs": [
    {
     "name": "stdout",
     "output_type": "stream",
     "text": [
      "/usr/bin/ is directory\n"
     ]
    }
   ],
   "source": [
    "%%bash\n",
    "PATH=/usr/bin/\n",
    "if test -d \"$PATH\"; then\n",
    "    echo \"$PATH is directory\"\n",
    "fi"
   ]
  },
  {
   "cell_type": "code",
   "execution_count": 59,
   "metadata": {},
   "outputs": [
    {
     "name": "stdout",
     "output_type": "stream",
     "text": [
      "/usr/bin/ is a directory\n"
     ]
    }
   ],
   "source": [
    "%%bash\n",
    "PATH=/usr/bin/\n",
    "[ -d \"$PATH\" ] && echo \"$PATH is a directory\""
   ]
  },
  {
   "cell_type": "code",
   "execution_count": null,
   "metadata": {},
   "outputs": [],
   "source": [
    "Equivalent without the IF statement:"
   ]
  },
  {
   "cell_type": "code",
   "execution_count": 66,
   "metadata": {},
   "outputs": [
    {
     "name": "stdout",
     "output_type": "stream",
     "text": [
      "Both files exist.\n"
     ]
    }
   ],
   "source": [
    "%%bash\n",
    "[ -f /etc/resolv.conf -a -f /etc/hosts ] && echo \"Both files exist\""
   ]
  },
  {
   "cell_type": "code",
   "execution_count": 67,
   "metadata": {},
   "outputs": [
    {
     "name": "stdout",
     "output_type": "stream",
     "text": [
      "Both files exist.\n"
     ]
    }
   ],
   "source": [
    "%%bash\n",
    "[[ -f /etc/resolv.conf && -f /etc/hosts ]] && echo \"Both files exist\""
   ]
  },
  {
   "cell_type": "markdown",
   "metadata": {},
   "source": [
    "### File test operators"
   ]
  },
  {
   "cell_type": "markdown",
   "metadata": {},
   "source": [
    "- `-b FILE` - True if the `FILE` exists and is a block special file.\n",
    "- `-c FILE` - True if the `FILE` exists and is a special character file.\n",
    "- `-d FILE` - True if the `FILE` exists and is a directory.\n",
    "- `-e FILE` - True if the `FILE` exists and is a file, regardless of type (node, directory, socket, etc.).\n",
    "- `-f FILE` - True if the `FILE` exists and is a regular file (not a directory or device).\n",
    "- `-G FILE` - True if the `FILE` exists and has the same group as the user running the command.\n",
    "- `-h FILE` - True if the `FILE` exists and is a symbolic link.\n",
    "- `-g FILE` - True if the `FILE` exists and has set-group-id (sgid) flag set.\n",
    "- `-k FILE` - True if the `FILE` exists and has a sticky bit flag set.\n",
    "- `-L FILE` - True if the `FILE` exists and is a symbolic link.\n",
    "- `-O FILE` - True if the `FILE` exists and is owned by the user running the command.\n",
    "- `-p FILE` - True if the `FILE` exists and is a pipe.\n",
    "- `-r FILE` - True if the `FILE` exists and is readable.\n",
    "- `-S FILE` - True if the `FILE` exists and is socket.\n",
    "- `-s FILE` - True if the `FILE` exists and has nonzero size.\n",
    "- `-u FILE` - True if the `FILE` exists and set-user-id (suid) flag is set.\n",
    "- `-w FILE` - True if the `FILE` FILE exists and is writable.\n",
    "- `-x FILE` - True if the `FILE` exists and is executable."
   ]
  },
  {
   "cell_type": "markdown",
   "metadata": {},
   "source": [
    "# Reference\n",
    "\n",
    "https://linuxize.com/post/bash-check-if-file-exists/#file-test-operators"
   ]
  },
  {
   "cell_type": "code",
   "execution_count": null,
   "metadata": {},
   "outputs": [],
   "source": []
  }
 ],
 "metadata": {
  "kernelspec": {
   "display_name": "Python 3",
   "language": "python",
   "name": "python3"
  },
  "language_info": {
   "codemirror_mode": {
    "name": "ipython",
    "version": 3
   },
   "file_extension": ".py",
   "mimetype": "text/x-python",
   "name": "python",
   "nbconvert_exporter": "python",
   "pygments_lexer": "ipython3",
   "version": "3.7.1"
  }
 },
 "nbformat": 4,
 "nbformat_minor": 2
}
