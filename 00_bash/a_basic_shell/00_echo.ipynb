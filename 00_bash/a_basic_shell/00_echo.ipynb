{
 "cells": [
  {
   "cell_type": "markdown",
   "metadata": {},
   "source": [
    "# ECHO\n",
    "\n",
    "Outputs a message or value "
   ]
  },
  {
   "cell_type": "markdown",
   "metadata": {},
   "source": [
    "## SYNOPSIS\n",
    "\n",
    "```bash\n",
    "echo [option(s)] [string(s)]\n",
    "```"
   ]
  },
  {
   "cell_type": "markdown",
   "metadata": {},
   "source": [
    "## EXAMPLE"
   ]
  },
  {
   "cell_type": "code",
   "execution_count": 210,
   "metadata": {},
   "outputs": [
    {
     "name": "stdout",
     "output_type": "stream",
     "text": [
      "Python is awesome\n"
     ]
    }
   ],
   "source": [
    "%%bash\n",
    "echo 'Python is awesome'"
   ]
  },
  {
   "cell_type": "markdown",
   "metadata": {},
   "source": [
    "## USAGE"
   ]
  },
  {
   "cell_type": "markdown",
   "metadata": {},
   "source": [
    "### STRING QUOTES"
   ]
  },
  {
   "cell_type": "code",
   "execution_count": 211,
   "metadata": {},
   "outputs": [
    {
     "name": "stdout",
     "output_type": "stream",
     "text": [
      "A string in double quotes\n",
      "A string in single quotes\n"
     ]
    }
   ],
   "source": [
    "%%bash\n",
    "echo \"A string in double quotes\"\n",
    "echo 'A string in single quotes'"
   ]
  },
  {
   "cell_type": "markdown",
   "metadata": {},
   "source": [
    "### VARIABLES"
   ]
  },
  {
   "cell_type": "code",
   "execution_count": 212,
   "metadata": {},
   "outputs": [
    {
     "name": "stdout",
     "output_type": "stream",
     "text": [
      "5\n",
      "5\n"
     ]
    }
   ],
   "source": [
    "%%bash\n",
    "x=5\n",
    "echo $x\n",
    "echo ${x}"
   ]
  },
  {
   "cell_type": "code",
   "execution_count": 213,
   "metadata": {},
   "outputs": [
    {
     "name": "stdout",
     "output_type": "stream",
     "text": [
      "The value is 5\n",
      "The value is 5\n"
     ]
    }
   ],
   "source": [
    "%%bash\n",
    "x=5\n",
    "echo \"The value is $x\"\n",
    "echo \"The value is ${x}\""
   ]
  },
  {
   "cell_type": "code",
   "execution_count": 214,
   "metadata": {},
   "outputs": [
    {
     "name": "stdout",
     "output_type": "stream",
     "text": [
      "The value is 5\n",
      "The value is 5\n"
     ]
    }
   ],
   "source": [
    "%%bash\n",
    "x=5\n",
    "echo \"The value is \"$x\n",
    "echo \"The value is \"${x}"
   ]
  },
  {
   "cell_type": "markdown",
   "metadata": {},
   "source": [
    "### SHELL EXECUTION"
   ]
  },
  {
   "cell_type": "code",
   "execution_count": 215,
   "metadata": {},
   "outputs": [
    {
     "name": "stdout",
     "output_type": "stream",
     "text": [
      "My current path is /Users/esn/repos/awesomepy-notebooks/00_bash\n",
      "My current path is /Users/esn/repos/awesomepy-notebooks/00_bash\n"
     ]
    }
   ],
   "source": [
    "%%bash\n",
    "echo \"My current path is $(pwd)\"\n",
    "echo \"My current path is `pwd`\""
   ]
  },
  {
   "cell_type": "markdown",
   "metadata": {},
   "source": [
    "### SPECIAL CHARACTERS"
   ]
  },
  {
   "cell_type": "code",
   "execution_count": 216,
   "metadata": {},
   "outputs": [
    {
     "name": "stdout",
     "output_type": "stream",
     "text": [
      "\\nTable:\\n\\tcolumn \\n\\trow1 \\n\\trow2\\n\n"
     ]
    }
   ],
   "source": [
    "%%bash\n",
    "echo \"\\nTable:\\n\\tcolumn \\n\\trow1 \\n\\trow2\\n\" # special characters ignored"
   ]
  },
  {
   "cell_type": "code",
   "execution_count": 217,
   "metadata": {},
   "outputs": [
    {
     "name": "stdout",
     "output_type": "stream",
     "text": [
      "\n",
      "Table:\n",
      "\tcolumn \n",
      "\trow1 \n",
      "\trow2\n",
      "\n"
     ]
    }
   ],
   "source": [
    "%%bash\n",
    "echo -e \"\\nTable:\\n\\tcolumn \\n\\trow1 \\n\\trow2\\n\""
   ]
  },
  {
   "cell_type": "markdown",
   "metadata": {},
   "source": [
    "### COLORS"
   ]
  },
  {
   "cell_type": "code",
   "execution_count": 218,
   "metadata": {},
   "outputs": [
    {
     "name": "stdout",
     "output_type": "stream",
     "text": [
      "\u001b[1;37mWHITE\n",
      "\u001b[0;30mBLACK\n",
      "\u001b[0;34mBLUE\n",
      "\u001b[0;32mGREEN\n",
      "\u001b[0;36mCYAN\n",
      "\u001b[0;31mRED\n",
      "\u001b[0;35mPURPLE\n",
      "\u001b[0;33mYELLOW\n",
      "\u001b[1;30mGRAY\n"
     ]
    }
   ],
   "source": [
    "%%bash\n",
    "echo -e \"\\033[1;37mWHITE\"\n",
    "echo -e \"\\033[0;30mBLACK\"\n",
    "echo -e \"\\033[0;34mBLUE\"\n",
    "echo -e \"\\033[0;32mGREEN\"\n",
    "echo -e \"\\033[0;36mCYAN\"\n",
    "echo -e \"\\033[0;31mRED\"\n",
    "echo -e \"\\033[0;35mPURPLE\"\n",
    "echo -e \"\\033[0;33mYELLOW\"\n",
    "echo -e \"\\033[1;30mGRAY\""
   ]
  },
  {
   "cell_type": "markdown",
   "metadata": {},
   "source": [
    "### REDIRECT TO A FILE"
   ]
  },
  {
   "cell_type": "code",
   "execution_count": 219,
   "metadata": {},
   "outputs": [
    {
     "name": "stdout",
     "output_type": "stream",
     "text": [
      "single line\n"
     ]
    }
   ],
   "source": [
    "%%bash\n",
    "echo 'single line' > file.txt\n",
    "cat file.txt"
   ]
  },
  {
   "cell_type": "markdown",
   "metadata": {},
   "source": [
    "### BRACE EXPANSION"
   ]
  },
  {
   "cell_type": "code",
   "execution_count": 220,
   "metadata": {},
   "outputs": [
    {
     "name": "stdout",
     "output_type": "stream",
     "text": [
      "A B\n",
      "A.py B.py\n",
      "1.py 2.py 3.py 4.py 5.py\n"
     ]
    }
   ],
   "source": [
    "%%bash\n",
    "echo {A,B}\n",
    "echo {A,B}.py\n",
    "echo {1..5}.py"
   ]
  },
  {
   "cell_type": "markdown",
   "metadata": {},
   "source": [
    "### SUBSTITUTION"
   ]
  },
  {
   "cell_type": "code",
   "execution_count": 221,
   "metadata": {},
   "outputs": [
    {
     "name": "stdout",
     "output_type": "stream",
     "text": [
      "PYthon.py\n",
      "PYthon.PY\n"
     ]
    }
   ],
   "source": [
    "%%bash\n",
    "name=\"python.py\"\n",
    "echo ${name/py/PY}  # replace first match\n",
    "echo ${name//py/PY} # replace all"
   ]
  },
  {
   "cell_type": "code",
   "execution_count": 222,
   "metadata": {},
   "outputs": [
    {
     "name": "stdout",
     "output_type": "stream",
     "text": [
      "path/to/foo.js\n",
      "root/to/foo.cpp\n"
     ]
    }
   ],
   "source": [
    "%%bash\n",
    "PATH=\"path/to/foo.cpp\"\n",
    "echo ${PATH/%cpp/js}    # replace suffix\n",
    "echo ${PATH/#path/root} # replace prefix"
   ]
  },
  {
   "cell_type": "code",
   "execution_count": 223,
   "metadata": {},
   "outputs": [
    {
     "name": "stdout",
     "output_type": "stream",
     "text": [
      "/path/to/foo.cpp\n",
      "/path/to/foo\n"
     ]
    }
   ],
   "source": [
    "%%bash\n",
    "PATH=\"/path/to/foo.cpp.cpp\"\n",
    "echo ${PATH%.cpp}        # remove suffix .cpp\n",
    "echo ${PATH%%.*}         # remove long suffix .cpp"
   ]
  },
  {
   "cell_type": "code",
   "execution_count": 224,
   "metadata": {},
   "outputs": [
    {
     "name": "stdout",
     "output_type": "stream",
     "text": [
      "/to/foo.cpp\n",
      "foo.cpp\n",
      "cpp\n"
     ]
    }
   ],
   "source": [
    "%%bash\n",
    "PATH=\"/path/to/foo.cpp\"\n",
    "echo ${PATH#/path}      # remove prefix /path\n",
    "echo ${PATH##*/}        # remove long prefix => basepath\n",
    "echo ${PATH##*.}        # remove long prefix => extension"
   ]
  },
  {
   "cell_type": "markdown",
   "metadata": {},
   "source": [
    "### SLICING"
   ]
  },
  {
   "cell_type": "code",
   "execution_count": 225,
   "metadata": {},
   "outputs": [
    {
     "name": "stdout",
     "output_type": "stream",
     "text": [
      "py\n",
      "py\n",
      "py\n",
      "n\n",
      "o\n"
     ]
    }
   ],
   "source": [
    "%%bash\n",
    "name=\"python\"\n",
    "length=2\n",
    "echo ${name:0:2}\n",
    "echo ${name:0:length}\n",
    "echo ${name::2}\n",
    "echo ${name:(-1)}      # from right\n",
    "echo ${name:(-2):1}    # from right\n",
    "# echo ${food:-\"cake\"} # $food or \"cake\""
   ]
  },
  {
   "cell_type": "markdown",
   "metadata": {},
   "source": [
    "### LENGTH"
   ]
  },
  {
   "cell_type": "code",
   "execution_count": 226,
   "metadata": {},
   "outputs": [
    {
     "name": "stdout",
     "output_type": "stream",
     "text": [
      "16\n"
     ]
    }
   ],
   "source": [
    "%%bash\n",
    "PATH=\"/path/to/foo.cpp\"\n",
    "echo ${#PATH}"
   ]
  },
  {
   "cell_type": "markdown",
   "metadata": {},
   "source": [
    "### ARRAYS"
   ]
  },
  {
   "cell_type": "code",
   "execution_count": 227,
   "metadata": {},
   "outputs": [
    {
     "name": "stdout",
     "output_type": "stream",
     "text": [
      "Apple\n",
      "Apple Banana Orange\n",
      "3\n",
      "5\n",
      "0\n",
      "\n"
     ]
    }
   ],
   "source": [
    "%%bash\n",
    "Fruits=('Apple' 'Banana' 'Orange')\n",
    "\n",
    "echo ${Fruits[0]}           # Element #0\n",
    "echo ${Fruits[@]}           # All elements, space-separated\n",
    "echo ${#Fruits[@]}          # Number of elements\n",
    "echo ${#Fruits}             # String length of the 1st element\n",
    "echo ${#Fruits[3]}          # String length of the Nth element\n",
    "echo ${Fruits[@]:3:2}       # Range (from position 3, length 2)"
   ]
  },
  {
   "cell_type": "markdown",
   "metadata": {},
   "source": [
    "## MAN PAGE"
   ]
  },
  {
   "cell_type": "code",
   "execution_count": 228,
   "metadata": {},
   "outputs": [
    {
     "name": "stdout",
     "output_type": "stream",
     "text": [
      "\n",
      "ECHO(1)                   BSD General Commands Manual                  ECHO(1)\n",
      "\n",
      "NAME\n",
      "     echo -- write arguments to the standard output\n",
      "\n",
      "SYNOPSIS\n",
      "     echo [-n] [string ...]\n",
      "\n",
      "DESCRIPTION\n",
      "     The echo utility writes any specified operands, separated by single blank\n",
      "     (` ') characters and followed by a newline (`\\n') character, to the stan-\n",
      "     dard output.\n",
      "\n",
      "     The following option is available:\n",
      "\n",
      "     -n    Do not print the trailing newline character.  This may also be\n",
      "           achieved by appending `\\c' to the end of the string, as is done by\n",
      "           iBCS2 compatible systems.  Note that this option as well as the\n",
      "           effect of `\\c' are implementation-defined in IEEE Std 1003.1-2001\n",
      "           (``POSIX.1'') as amended by Cor. 1-2002.  Applications aiming for\n",
      "           maximum portability are strongly encouraged to use printf(1) to\n",
      "           suppress the newline character.\n",
      "\n",
      "     Some shells may provide a builtin echo command which is similar or iden-\n",
      "     tical to this utility.  Most notably, the builtin echo in sh(1) does not\n",
      "     accept the -n option.  Consult the builtin(1) manual page.\n",
      "\n",
      "EXIT STATUS\n",
      "     The echo utility exits 0 on success, and >0 if an error occurs.\n",
      "\n",
      "SEE ALSO\n",
      "     builtin(1), csh(1), printf(1), sh(1)\n",
      "\n",
      "STANDARDS\n",
      "     The echo utility conforms to IEEE Std 1003.1-2001 (``POSIX.1'') as\n",
      "     amended by Cor. 1-2002.\n",
      "\n",
      "BSD                             April 12, 2003                             BSD\n"
     ]
    }
   ],
   "source": [
    "%%bash\n",
    "man echo"
   ]
  },
  {
   "cell_type": "markdown",
   "metadata": {},
   "source": [
    "## CLEANUP"
   ]
  },
  {
   "cell_type": "code",
   "execution_count": 229,
   "metadata": {},
   "outputs": [],
   "source": [
    "%%bash\n",
    "rm *.txt"
   ]
  },
  {
   "cell_type": "code",
   "execution_count": null,
   "metadata": {},
   "outputs": [],
   "source": []
  }
 ],
 "metadata": {
  "kernelspec": {
   "display_name": "Python 3",
   "language": "python",
   "name": "python3"
  },
  "language_info": {
   "codemirror_mode": {
    "name": "ipython",
    "version": 3
   },
   "file_extension": ".py",
   "mimetype": "text/x-python",
   "name": "python",
   "nbconvert_exporter": "python",
   "pygments_lexer": "ipython3",
   "version": "3.7.1"
  }
 },
 "nbformat": 4,
 "nbformat_minor": 2
}
