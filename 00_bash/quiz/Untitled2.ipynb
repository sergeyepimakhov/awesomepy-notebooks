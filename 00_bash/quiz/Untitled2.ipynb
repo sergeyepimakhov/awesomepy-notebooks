{
 "cells": [
  {
   "cell_type": "code",
   "execution_count": 8,
   "metadata": {},
   "outputs": [
    {
     "name": "stdout",
     "output_type": "stream",
     "text": [
      "hi1\n",
      "hi2\n"
     ]
    }
   ],
   "source": [
    "%%bash\n",
    "# TODO\n",
    "# cd quiz\n",
    "cd quiz\n",
    "\n",
    "# print 'hi1'\n",
    "echo 'hi1'\n",
    "\n",
    "# create new folder 'my_folder'\n",
    "mkdir -p my_folder\n",
    "\n",
    "# print 'hi2'\n",
    "echo 'hi2'\n",
    "\n",
    "# create file 'my_file.txt'\n",
    "touch my_file"
   ]
  },
  {
   "cell_type": "code",
   "execution_count": 2,
   "metadata": {},
   "outputs": [
    {
     "data": {
      "text/plain": [
       "'get_ipython().run_cell_magic(\\'bash\\', \\'\\', \"# TODO\\\\n# cd quiz\\\\ncd quiz\\\\n\\\\n# print \\'hi1\\'\\\\necho \\'hi1\\'\\\\n\\\\n# create new folder \\'my_folder\\'\\\\nmkdir -p my_folder\\\\n\\\\n# print \\'hi2\\'\\\\necho \\'hi2\\'\\\\n\\\\n# create file \\'my_file.txt\\'\\\\ntouch my_file\\\\n\")'"
      ]
     },
     "execution_count": 2,
     "metadata": {},
     "output_type": "execute_result"
    }
   ],
   "source": [
    "In[-2]"
   ]
  },
  {
   "cell_type": "code",
   "execution_count": 3,
   "metadata": {},
   "outputs": [
    {
     "data": {
      "text/plain": [
       "['',\n",
       " 'get_ipython().run_cell_magic(\\'bash\\', \\'\\', \"# TODO\\\\n# cd quiz\\\\ncd quiz\\\\n\\\\n# print \\'hi1\\'\\\\necho \\'hi1\\'\\\\n\\\\n# create new folder \\'my_folder\\'\\\\nmkdir -p my_folder\\\\n\\\\n# print \\'hi2\\'\\\\necho \\'hi2\\'\\\\n\\\\n# create file \\'my_file.txt\\'\\\\ntouch my_file\\\\n\")',\n",
       " 'In[-2]',\n",
       " 'In']"
      ]
     },
     "execution_count": 3,
     "metadata": {},
     "output_type": "execute_result"
    }
   ],
   "source": [
    "In"
   ]
  },
  {
   "cell_type": "code",
   "execution_count": 4,
   "metadata": {},
   "outputs": [
    {
     "data": {
      "text/plain": [
       "{2: 'get_ipython().run_cell_magic(\\'bash\\', \\'\\', \"# TODO\\\\n# cd quiz\\\\ncd quiz\\\\n\\\\n# print \\'hi1\\'\\\\necho \\'hi1\\'\\\\n\\\\n# create new folder \\'my_folder\\'\\\\nmkdir -p my_folder\\\\n\\\\n# print \\'hi2\\'\\\\necho \\'hi2\\'\\\\n\\\\n# create file \\'my_file.txt\\'\\\\ntouch my_file\\\\n\")',\n",
       " 3: ['',\n",
       "  'get_ipython().run_cell_magic(\\'bash\\', \\'\\', \"# TODO\\\\n# cd quiz\\\\ncd quiz\\\\n\\\\n# print \\'hi1\\'\\\\necho \\'hi1\\'\\\\n\\\\n# create new folder \\'my_folder\\'\\\\nmkdir -p my_folder\\\\n\\\\n# print \\'hi2\\'\\\\necho \\'hi2\\'\\\\n\\\\n# create file \\'my_file.txt\\'\\\\ntouch my_file\\\\n\")',\n",
       "  'In[-2]',\n",
       "  'In',\n",
       "  'Out']}"
      ]
     },
     "execution_count": 4,
     "metadata": {},
     "output_type": "execute_result"
    }
   ],
   "source": [
    "Out"
   ]
  },
  {
   "cell_type": "code",
   "execution_count": 9,
   "metadata": {},
   "outputs": [
    {
     "name": "stdout",
     "output_type": "stream",
     "text": [
      "['', 'get_ipython().run_cell_magic(\\'bash\\', \\'\\', \"# TODO\\\\n# cd quiz\\\\ncd quiz\\\\n\\\\n# print \\'hi1\\'\\\\necho \\'hi1\\'\\\\n\\\\n# create new folder \\'my_folder\\'\\\\nmkdir -p my_folder\\\\n\\\\n# print \\'hi2\\'\\\\necho \\'hi2\\'\\\\n\\\\n# create file \\'my_file.txt\\'\\\\ntouch my_file\\\\n\")', 'In[-2]', 'In', 'Out', 'print(_)', 'get_ipython().run_cell_magic(\\'bash\\', \\'\\', \"# TODO\\\\n# cd quiz\\\\ncd quiz\\\\n\\\\n# print \\'hi1\\'\\\\necho \\'hi1\\'\\\\n\\\\n# create new folder \\'my_folder\\'\\\\nmkdir -p my_folder\\\\n\\\\n# print \\'hi2\\'\\\\necho \\'hi2\\'\\\\n\\\\n# create file \\'my_file.txt\\'\\\\ntouch my_file\\\\n\")', 'print(_)', 'get_ipython().run_cell_magic(\\'bash\\', \\'\\', \"# TODO\\\\n# cd quiz\\\\ncd quiz\\\\n\\\\n# print \\'hi1\\'\\\\necho \\'hi1\\'\\\\n\\\\n# create new folder \\'my_folder\\'\\\\nmkdir -p my_folder\\\\n\\\\n# print \\'hi2\\'\\\\necho \\'hi2\\'\\\\n\\\\n# create file \\'my_file.txt\\'\\\\ntouch my_file\\\\n\")', 'print(_)']\n"
     ]
    }
   ],
   "source": [
    "print(_) # this doesn't work with bash"
   ]
  },
  {
   "cell_type": "code",
   "execution_count": 12,
   "metadata": {},
   "outputs": [],
   "source": [
    "%%capture output\n",
    "%%bash\n",
    "echo 'hi'\n",
    "echo 1"
   ]
  },
  {
   "cell_type": "code",
   "execution_count": 13,
   "metadata": {},
   "outputs": [
    {
     "data": {
      "text/plain": [
       "'hi\\n1\\n'"
      ]
     },
     "execution_count": 13,
     "metadata": {},
     "output_type": "execute_result"
    }
   ],
   "source": [
    "str(output)"
   ]
  },
  {
   "cell_type": "code",
   "execution_count": null,
   "metadata": {},
   "outputs": [],
   "source": []
  },
  {
   "cell_type": "code",
   "execution_count": null,
   "metadata": {},
   "outputs": [],
   "source": [
    "# https://nbviewer.jupyter.org/github/ipython/ipython/blob/master/examples/IPython%20Kernel/Script%20Magics.ipynb"
   ]
  }
 ],
 "metadata": {
  "kernelspec": {
   "display_name": "Python 3",
   "language": "python",
   "name": "python3"
  },
  "language_info": {
   "codemirror_mode": {
    "name": "ipython",
    "version": 3
   },
   "file_extension": ".py",
   "mimetype": "text/x-python",
   "name": "python",
   "nbconvert_exporter": "python",
   "pygments_lexer": "ipython3",
   "version": "3.7.1"
  }
 },
 "nbformat": 4,
 "nbformat_minor": 2
}
