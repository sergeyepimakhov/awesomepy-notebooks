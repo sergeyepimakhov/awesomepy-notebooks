{
 "cells": [
  {
   "cell_type": "code",
   "execution_count": 67,
   "metadata": {},
   "outputs": [],
   "source": [
    "%%bash --out output --err error\n",
    "# TODO\n",
    "# print 'hi1'\n",
    "echo 'hi1'\n",
    "\n",
    "# create new folder 'my_folder'\n",
    "mkdir -p my_folder\n",
    "\n",
    "# print 'hi2'\n",
    "echo 'hi2'\n",
    "\n",
    "# create file 'my_file.txt'\n",
    "touch my_file"
   ]
  },
  {
   "cell_type": "code",
   "execution_count": 68,
   "metadata": {},
   "outputs": [
    {
     "name": "stdout",
     "output_type": "stream",
     "text": [
      "hi1\n",
      "hi2\n",
      "\n",
      "\n"
     ]
    }
   ],
   "source": [
    "print(output)\n",
    "print(error)"
   ]
  },
  {
   "cell_type": "code",
   "execution_count": 69,
   "metadata": {},
   "outputs": [
    {
     "data": {
      "text/plain": [
       "['hi1', 'hi2', '']"
      ]
     },
     "execution_count": 69,
     "metadata": {},
     "output_type": "execute_result"
    }
   ],
   "source": [
    "output = str(output).split('\\n')\n",
    "output"
   ]
  },
  {
   "cell_type": "code",
   "execution_count": 70,
   "metadata": {},
   "outputs": [
    {
     "data": {
      "text/plain": [
       "['']"
      ]
     },
     "execution_count": 70,
     "metadata": {},
     "output_type": "execute_result"
    }
   ],
   "source": [
    "error = str(error).split('\\n')\n",
    "error"
   ]
  },
  {
   "cell_type": "code",
   "execution_count": 72,
   "metadata": {},
   "outputs": [
    {
     "name": "stdout",
     "output_type": "stream",
     "text": [
      "SUCCESS\n",
      "FAIL\n",
      "SUCCESS\n",
      "SUCCESS\n"
     ]
    }
   ],
   "source": [
    "# answers = [{'id': 0, 'type': bash, 'command': 'ls -l'}]\n",
    "import os.path\n",
    "print('SUCCESS')  if output[0] == 'hi1' else print('FAIL')\n",
    "print('SUCCESS')  if os.path.exists('my_folderr') else print('FAIL')\n",
    "print('SUCCESS')  if output[1] == 'hi2' else print('FAIL')\n",
    "print('SUCCESS')  if os.path.isfile('my_file') else print('FAIL')"
   ]
  },
  {
   "cell_type": "code",
   "execution_count": 45,
   "metadata": {},
   "outputs": [
    {
     "name": "stdout",
     "output_type": "stream",
     "text": [
      "FAIL\n",
      "FAIL\n",
      "FAIL\n"
     ]
    },
    {
     "name": "stderr",
     "output_type": "stream",
     "text": [
      "bash: line 1: output[0]: command not found\n",
      "bash: line 2: output[1]: command not found\n"
     ]
    }
   ],
   "source": [
    "%%bash\n",
    "output[0] == 'hi1' && echo 'SUCCESS' || echo 'FAIL'\n",
    "output[1] == 'hi2' && echo 'SUCCESS' || echo 'FAIL'\n",
    "False              && echo 'SUCCESS' || echo 'FAIL'"
   ]
  },
  {
   "cell_type": "code",
   "execution_count": 59,
   "metadata": {},
   "outputs": [
    {
     "name": "stdout",
     "output_type": "stream",
     "text": [
      "Untitled.ipynb  Untitled2.ipynb my_file         \u001b[1m\u001b[34mmy_folder\u001b[m\u001b[m\n"
     ]
    }
   ],
   "source": [
    "! ls"
   ]
  },
  {
   "cell_type": "code",
   "execution_count": null,
   "metadata": {},
   "outputs": [],
   "source": []
  }
 ],
 "metadata": {
  "kernelspec": {
   "display_name": "Python 3",
   "language": "python",
   "name": "python3"
  },
  "language_info": {
   "codemirror_mode": {
    "name": "ipython",
    "version": 3
   },
   "file_extension": ".py",
   "mimetype": "text/x-python",
   "name": "python",
   "nbconvert_exporter": "python",
   "pygments_lexer": "ipython3",
   "version": "3.7.1"
  }
 },
 "nbformat": 4,
 "nbformat_minor": 2
}
