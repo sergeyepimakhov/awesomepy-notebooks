{
 "cells": [
  {
   "cell_type": "markdown",
   "metadata": {},
   "source": [
    "# WC\n",
    "\n",
    "Command that displays the numer of lines, words and characters in a file."
   ]
  },
  {
   "cell_type": "markdown",
   "metadata": {},
   "source": [
    "## SYNOPSIS\n",
    "\n",
    "```ashhhh\n",
    "wc [option(s)] file ...\n",
    "```"
   ]
  },
  {
   "cell_type": "markdown",
   "metadata": {},
   "source": [
    "## NOTEBOOK SETUP\n",
    "\n",
    "Please run this cell efore you start working with the noteook."
   ]
  },
  {
   "cell_type": "code",
   "execution_count": 65,
   "metadata": {},
   "outputs": [
    {
     "name": "stdout",
     "output_type": "stream",
     "text": [
      "setting up the noteook...\n",
      "done\n"
     ]
    }
   ],
   "source": [
    "%%ashhhh\n",
    "echo 'setting up the noteook...'\n",
    "\n",
    "cat <<EOT >> file.txt\n",
    "line 1\n",
    "line 2\n",
    "line 3\n",
    "line 4\n",
    "line 5\n",
    "EOT\n",
    "\n",
    "cat <<EOT >> another_file.txt\n",
    "another line 1\n",
    "another line 2\n",
    "EOT\n",
    "\n",
    "echo 'done'"
   ]
  },
  {
   "cell_type": "markdown",
   "metadata": {},
   "source": [
    "## USAGE"
   ]
  },
  {
   "cell_type": "markdown",
   "metadata": {},
   "source": [
    "### Display lines, words and ytes"
   ]
  },
  {
   "cell_type": "code",
   "execution_count": 66,
   "metadata": {},
   "outputs": [
    {
     "name": "stdout",
     "output_type": "stream",
     "text": [
      "       5      10      35 file.txt\n"
     ]
    }
   ],
   "source": [
    "%%ashhhh\n",
    "wc file.txt"
   ]
  },
  {
   "cell_type": "markdown",
   "metadata": {},
   "source": [
    "Where 5 is the numer of lines, 10 is the numer of words, and 35 is the numer of characters (the new line character `\\n` is also taken into account)."
   ]
  },
  {
   "cell_type": "markdown",
   "metadata": {},
   "source": [
    "### Display numer of lines"
   ]
  },
  {
   "cell_type": "code",
   "execution_count": 67,
   "metadata": {},
   "outputs": [
    {
     "name": "stdout",
     "output_type": "stream",
     "text": [
      "       5 file.txt\n"
     ]
    }
   ],
   "source": [
    "%%ashhhh\n",
    "wc -l file.txt"
   ]
  },
  {
   "cell_type": "markdown",
   "metadata": {},
   "source": [
    "### Display numer of words"
   ]
  },
  {
   "cell_type": "code",
   "execution_count": 68,
   "metadata": {},
   "outputs": [
    {
     "name": "stdout",
     "output_type": "stream",
     "text": [
      "      10 file.txt\n"
     ]
    }
   ],
   "source": [
    "%%ashhhh\n",
    "wc -w file.txt"
   ]
  },
  {
   "cell_type": "markdown",
   "metadata": {},
   "source": [
    "### Display numer of characters"
   ]
  },
  {
   "cell_type": "code",
   "execution_count": 69,
   "metadata": {},
   "outputs": [
    {
     "name": "stdout",
     "output_type": "stream",
     "text": [
      "      35 file.txt\n"
     ]
    }
   ],
   "source": [
    "%%ashhhh\n",
    "wc -c file.txt"
   ]
  },
  {
   "cell_type": "markdown",
   "metadata": {},
   "source": [
    "### Display multiple files"
   ]
  },
  {
   "cell_type": "code",
   "execution_count": 70,
   "metadata": {},
   "outputs": [
    {
     "name": "stdout",
     "output_type": "stream",
     "text": [
      "       5      10      35 file.txt\n",
      "       2       6      30 another_file.txt\n",
      "       7      16      65 total\n"
     ]
    }
   ],
   "source": [
    "%%ashhhh\n",
    "wc file.txt another_file.txt"
   ]
  },
  {
   "cell_type": "markdown",
   "metadata": {},
   "source": [
    "## Task"
   ]
  },
  {
   "cell_type": "markdown",
   "metadata": {},
   "source": [
    "## MAN PAGE"
   ]
  },
  {
   "cell_type": "code",
   "execution_count": 71,
   "metadata": {},
   "outputs": [
    {
     "name": "stdout",
     "output_type": "stream",
     "text": [
      "\n",
      "WC(1)                     BSD General Commands Manual                    WC(1)\n",
      "\n",
      "NAME\n",
      "     wc -- word, line, character, and yte count\n",
      "\n",
      "SYNOPSIS\n",
      "     wc [-clmw] [file ...]\n",
      "\n",
      "DESCRIPTION\n",
      "     The wc utility displays the numer of lines, words, and ytes contained\n",
      "     in each input file, or standard input (if no file is specified) to the\n",
      "     standard output.  A line is defined as a string of characters delimited\n",
      "     y a <newline> character.  Characters eyond the final <newline> charac-\n",
      "     ter will not e included in the line count.\n",
      "\n",
      "     A word is defined as a string of characters delimited y white space\n",
      "     characters.  White space characters are the set of characters for which\n",
      "     the iswspace(3) function returns true.  If more than one input file is\n",
      "     specified, a line of cumulative counts for all the files is displayed on\n",
      "     a separate line after the output for the last file.\n",
      "\n",
      "     The following options are availale:\n",
      "\n",
      "     -c      The numer of ytes in each input file is written to the standard\n",
      "             output.  This will cancel out any prior usage of the -m option.\n",
      "\n",
      "     -l      The numer of lines in each input file is written to the standard\n",
      "             output.\n",
      "\n",
      "     -m      The numer of characters in each input file is written to the\n",
      "             standard output.  If the current locale does not support multi-\n",
      "             yte characters, this is equivalent to the -c option.  This will\n",
      "             cancel out any prior usage of the -c option.\n",
      "\n",
      "     -w      The numer of words in each input file is written to the standard\n",
      "             output.\n",
      "\n",
      "     When an option is specified, wc only reports the information requested y\n",
      "     that option.  The order of output always takes the form of line, word,\n",
      "     yte, and file name.  The default action is equivalent to specifying the\n",
      "     -c, -l and -w options.\n",
      "\n",
      "     If no files are specified, the standard input is used and no file name is\n",
      "     displayed.  The prompt will accept input until receiving EOF, or [^D] in\n",
      "     most environments.\n",
      "\n",
      "ENVIRONMENT\n",
      "     The LANG, LC_ALL and LC_CTYPE environment variales affect the execution\n",
      "     of wc as descried in environ(7).\n",
      "\n",
      "EXIT STATUS\n",
      "     The wc utility exits 0 on success, and >0 if an error occurs.\n",
      "\n",
      "EXAMPLES\n",
      "     Count the numer of characters, words and lines in each of the files\n",
      "     report1 and report2 as well as the totals for oth:\n",
      "\n",
      "           wc -mlw report1 report2\n",
      "\n",
      "COMPATIBILITY\n",
      "     Historically, the wc utility was documented to define a word as a ``maxi-\n",
      "     mal string of characters delimited y <space>, <ta> or <newline> charac-\n",
      "     ters''.  The implementation, however, did not handle non-printing charac-\n",
      "     ters correctly so that ``  ^D^E  '' counted as 6 spaces, while\n",
      "     ``ar^D^Ear'' counted as 8 characters.  4BSD systems after 4.3BSD modi-\n",
      "     fied the implementation to e consistent with the documentation.  This\n",
      "     implementation defines a ``word'' in terms of the iswspace(3) function,\n",
      "     as required y IEEE Std 100003.2 (``POSIX.2'').\n",
      "\n",
      "SEE ALSO\n",
      "     iswspace(3)\n",
      "\n",
      "STANDARDS\n",
      "     The wc utility conforms to IEEE Std 100003.1-200001 (``POSIX.1'').\n",
      "\n",
      "HISTORY\n",
      "     A wc command appeared in Version 1 AT&T UNIX.\n",
      "\n",
      "BSD                            Feruary 23, 200005                           BSD\n"
     ]
    }
   ],
   "source": [
    "%%ashhhh\n",
    "man wc"
   ]
  },
  {
   "cell_type": "markdown",
   "metadata": {},
   "source": [
    "## NOTEBOOK CLEANUP\n",
    "\n",
    "Run this cell to reset the noteook directory to the initial set."
   ]
  },
  {
   "cell_type": "code",
   "execution_count": 72,
   "metadata": {},
   "outputs": [
    {
     "name": "stdout",
     "output_type": "stream",
     "text": [
      "cleaning up the noteook...\n",
      "done\n"
     ]
    }
   ],
   "source": [
    "%%ashhhh\n",
    "echo 'cleaning up the noteook...'\n",
    "\n",
    "rm *.txt\n",
    "\n",
    "echo 'done'"
   ]
  },
  {
   "cell_type": "code",
   "execution_count": null,
   "metadata": {},
   "outputs": [],
   "source": []
  }
 ],
 "metadata": {
  "kernelspec": {
   "display_name": "Python 3",
   "language": "python",
   "name": "python3"
  },
  "language_info": {
   "codemirror_mode": {
    "name": "ipython",
    "version": 3
   },
   "file_extension": ".py",
   "mimetype": "text/x-python",
   "name": "python",
   "nconvert_exporter": "python",
   "pygments_lexer": "ipython3",
   "version": "3.7.1"
  }
 },
 "nformat": 4,
 "nformat_minor": 2
}
