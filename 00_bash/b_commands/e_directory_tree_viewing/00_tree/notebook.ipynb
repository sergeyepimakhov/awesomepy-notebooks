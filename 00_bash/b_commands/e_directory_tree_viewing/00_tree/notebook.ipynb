{
 "cells": [
  {
   "cell_type": "markdown",
   "metadata": {},
   "source": [
    "# TREE\n",
    "\n",
    "The command that shows directory tree structure."
   ]
  },
  {
   "cell_type": "markdown",
   "metadata": {},
   "source": [
    "## SYNOPSIS\n",
    "\n",
    "```bash\n",
    "tree [option(s)] [directory]\n",
    "```"
   ]
  },
  {
   "cell_type": "markdown",
   "metadata": {},
   "source": [
    "## INSTALLATION\n",
    "By default the tree command is not installed. Type the following commands to install it on your system.\n",
    "\n",
    "### Debian / Ubuntu / Mint Linux\n",
    "```bash\n",
    "sudo apt-get install tree\n",
    "```\n",
    "\n",
    "### RHEL / CentOS / Fedora Linux\n",
    "```bash\n",
    "yum install tree\n",
    "```\n",
    "\n",
    "### Apple OS X / macOS\n",
    "```bash\n",
    "brew install tree\n",
    "```"
   ]
  },
  {
   "cell_type": "markdown",
   "metadata": {},
   "source": [
    "## NOTEBOOK SETUP\n",
    "\n",
    "Please run this cell before you start working with the notebook."
   ]
  },
  {
   "cell_type": "code",
   "execution_count": 1,
   "metadata": {},
   "outputs": [
    {
     "name": "stdout",
     "output_type": "stream",
     "text": [
      "done\n",
      "Mac OSX\n"
     ]
    }
   ],
   "source": [
    "%%bash\n",
    "mkdir -p dir\n",
    "touch dir/file1.txt\n",
    "touch dir/file2.txt\n",
    "touch dir/file3.txt\n",
    "\n",
    "touch dir/.hidden\n",
    "\n",
    "mkdir -p dir/sub_dir\n",
    "touch dir/sub_dir/pic1.jpg\n",
    "touch dir/sub_dir/pic2.jpg\n",
    "touch dir/sub_dir/pic3.jpg\n",
    "\n",
    "touch dir/sub_dir/sub_sub_dir\n",
    "\n",
    "echo 'done'\n",
    "\n",
    "#if [[ \"$OSTYPE\" == \"linux-gnu\" ]]; then\n",
    "#    echo 'Linux'\n",
    "#    #sudo apt-get install tree\n",
    "#elif [[ \"$OSTYPE\" == \"darwin\"* ]]; then\n",
    "#    echo 'Mac OSX'\n",
    "#    #brew install tree\n",
    "#elif [[ \"$OSTYPE\" == \"cygwin\" ]]; then\n",
    "#    echo 'POSIX compatibility layer and Linux environment emulation for Windows'\n",
    "#elif [[ \"$OSTYPE\" == \"msys\" ]]; then\n",
    "#    echo 'Lightweight shell and GNU utilities compiled for Windows (part of MinGW)'\n",
    "#elif [[ \"$OSTYPE\" == \"win32\" ]]; then\n",
    "#    echo \"I'm not sure this can happen.\"\n",
    "#elif [[ \"$OSTYPE\" == \"freebsd\" ]]; then\n",
    "#    echo 'frebsd'\n",
    "#else\n",
    "#    echo 'Unknown.'\n",
    "#fi\n",
    "# https://stackoverflow.com/questions/394230/how-to-detect-the-os-from-a-bash-script"
   ]
  },
  {
   "cell_type": "markdown",
   "metadata": {},
   "source": [
    "## EXAMPLE"
   ]
  },
  {
   "cell_type": "code",
   "execution_count": 34,
   "metadata": {},
   "outputs": [
    {
     "name": "stdout",
     "output_type": "stream",
     "text": [
      ".\n",
      "├── dir\n",
      "│   ├── file1.txt\n",
      "│   ├── file2.txt\n",
      "│   ├── file3.txt\n",
      "│   └── sub_dir\n",
      "│       ├── pic1.jpg\n",
      "│       ├── pic2.jpg\n",
      "│       ├── pic3.jpg\n",
      "│       └── sub_sub_dir\n",
      "└── tree.ipynb\n",
      "\n",
      "2 directories, 8 files\n"
     ]
    }
   ],
   "source": [
    "%%bash\n",
    "tree"
   ]
  },
  {
   "cell_type": "markdown",
   "metadata": {},
   "source": [
    "## USAGE"
   ]
  },
  {
   "cell_type": "markdown",
   "metadata": {},
   "source": [
    "### Current directory"
   ]
  },
  {
   "cell_type": "code",
   "execution_count": 35,
   "metadata": {},
   "outputs": [
    {
     "name": "stdout",
     "output_type": "stream",
     "text": [
      ".\n",
      "├── dir\n",
      "│   ├── file1.txt\n",
      "│   ├── file2.txt\n",
      "│   ├── file3.txt\n",
      "│   └── sub_dir\n",
      "│       ├── pic1.jpg\n",
      "│       ├── pic2.jpg\n",
      "│       ├── pic3.jpg\n",
      "│       └── sub_sub_dir\n",
      "└── tree.ipynb\n",
      "\n",
      "2 directories, 8 files\n"
     ]
    }
   ],
   "source": [
    "%%bash\n",
    "tree "
   ]
  },
  {
   "cell_type": "code",
   "execution_count": 36,
   "metadata": {},
   "outputs": [
    {
     "name": "stdout",
     "output_type": "stream",
     "text": [
      ".\n",
      "├── dir\n",
      "│   ├── file1.txt\n",
      "│   ├── file2.txt\n",
      "│   ├── file3.txt\n",
      "│   └── sub_dir\n",
      "│       ├── pic1.jpg\n",
      "│       ├── pic2.jpg\n",
      "│       ├── pic3.jpg\n",
      "│       └── sub_sub_dir\n",
      "└── tree.ipynb\n",
      "\n",
      "2 directories, 8 files\n"
     ]
    }
   ],
   "source": [
    "%%bash \n",
    "tree ."
   ]
  },
  {
   "cell_type": "code",
   "execution_count": 37,
   "metadata": {},
   "outputs": [
    {
     "name": "stdout",
     "output_type": "stream",
     "text": [
      "./\n",
      "├── dir\n",
      "│   ├── file1.txt\n",
      "│   ├── file2.txt\n",
      "│   ├── file3.txt\n",
      "│   └── sub_dir\n",
      "│       ├── pic1.jpg\n",
      "│       ├── pic2.jpg\n",
      "│       ├── pic3.jpg\n",
      "│       └── sub_sub_dir\n",
      "└── tree.ipynb\n",
      "\n",
      "2 directories, 8 files\n"
     ]
    }
   ],
   "source": [
    "%%bash\n",
    "tree ./"
   ]
  },
  {
   "cell_type": "markdown",
   "metadata": {},
   "source": [
    "### A directory by path"
   ]
  },
  {
   "cell_type": "code",
   "execution_count": 38,
   "metadata": {},
   "outputs": [
    {
     "name": "stdout",
     "output_type": "stream",
     "text": [
      "dir\n",
      "├── file1.txt\n",
      "├── file2.txt\n",
      "├── file3.txt\n",
      "└── sub_dir\n",
      "    ├── pic1.jpg\n",
      "    ├── pic2.jpg\n",
      "    ├── pic3.jpg\n",
      "    └── sub_sub_dir\n",
      "\n",
      "1 directory, 7 files\n"
     ]
    }
   ],
   "source": [
    "%%bash\n",
    "tree dir"
   ]
  },
  {
   "cell_type": "markdown",
   "metadata": {},
   "source": [
    "### All files including hidden ones\n",
    "\n",
    "By default tree does not print hidden files."
   ]
  },
  {
   "cell_type": "code",
   "execution_count": 39,
   "metadata": {},
   "outputs": [
    {
     "name": "stdout",
     "output_type": "stream",
     "text": [
      "dir\n",
      "├── .hidden\n",
      "├── file1.txt\n",
      "├── file2.txt\n",
      "├── file3.txt\n",
      "└── sub_dir\n",
      "    ├── pic1.jpg\n",
      "    ├── pic2.jpg\n",
      "    ├── pic3.jpg\n",
      "    └── sub_sub_dir\n",
      "\n",
      "1 directory, 8 files\n"
     ]
    }
   ],
   "source": [
    "%%bash\n",
    "tree -a dir"
   ]
  },
  {
   "cell_type": "markdown",
   "metadata": {},
   "source": [
    "### Contents with the full path prefix "
   ]
  },
  {
   "cell_type": "code",
   "execution_count": 40,
   "metadata": {},
   "outputs": [
    {
     "name": "stdout",
     "output_type": "stream",
     "text": [
      "dir\n",
      "├── dir/file1.txt\n",
      "├── dir/file2.txt\n",
      "├── dir/file3.txt\n",
      "└── dir/sub_dir\n",
      "    ├── dir/sub_dir/pic1.jpg\n",
      "    ├── dir/sub_dir/pic2.jpg\n",
      "    ├── dir/sub_dir/pic3.jpg\n",
      "    └── dir/sub_dir/sub_sub_dir\n",
      "\n",
      "1 directory, 7 files\n"
     ]
    }
   ],
   "source": [
    "%%bash\n",
    "tree -f dir"
   ]
  },
  {
   "cell_type": "markdown",
   "metadata": {},
   "source": [
    "### Directories only"
   ]
  },
  {
   "cell_type": "code",
   "execution_count": 41,
   "metadata": {},
   "outputs": [
    {
     "name": "stdout",
     "output_type": "stream",
     "text": [
      "dir\n",
      "└── sub_dir\n",
      "\n",
      "1 directory\n"
     ]
    }
   ],
   "source": [
    "%%bash\n",
    "tree -d dir"
   ]
  },
  {
   "cell_type": "markdown",
   "metadata": {},
   "source": [
    "### Maximum display depth"
   ]
  },
  {
   "cell_type": "code",
   "execution_count": 42,
   "metadata": {},
   "outputs": [
    {
     "name": "stdout",
     "output_type": "stream",
     "text": [
      "dir\n",
      "├── file1.txt\n",
      "├── file2.txt\n",
      "├── file3.txt\n",
      "└── sub_dir\n",
      "    ├── pic1.jpg\n",
      "    ├── pic2.jpg\n",
      "    ├── pic3.jpg\n",
      "    └── sub_sub_dir\n",
      "\n",
      "1 directory, 7 files\n"
     ]
    }
   ],
   "source": [
    "%%bash\n",
    "tree -L 2 dir"
   ]
  },
  {
   "cell_type": "markdown",
   "metadata": {},
   "source": [
    "### Wild-card pattern\n",
    "\n",
    "Display only those files that match the wild-card pattern."
   ]
  },
  {
   "cell_type": "code",
   "execution_count": 43,
   "metadata": {},
   "outputs": [
    {
     "name": "stdout",
     "output_type": "stream",
     "text": [
      ".\n",
      "└── dir\n",
      "    └── sub_dir\n",
      "        ├── pic1.jpg\n",
      "        ├── pic2.jpg\n",
      "        └── pic3.jpg\n",
      "\n",
      "2 directories, 3 files\n"
     ]
    }
   ],
   "source": [
    "%%bash\n",
    "tree -P 'pic*'"
   ]
  },
  {
   "cell_type": "markdown",
   "metadata": {},
   "source": [
    "## File permissions"
   ]
  },
  {
   "cell_type": "code",
   "execution_count": 44,
   "metadata": {},
   "outputs": [
    {
     "name": "stdout",
     "output_type": "stream",
     "text": [
      "dir\n",
      "├── [-rw-r--r--]  file1.txt\n",
      "├── [-rw-r--r--]  file2.txt\n",
      "├── [-rw-r--r--]  file3.txt\n",
      "└── [drwxr-xr-x]  sub_dir\n",
      "    ├── [-rw-r--r--]  pic1.jpg\n",
      "    ├── [-rw-r--r--]  pic2.jpg\n",
      "    ├── [-rw-r--r--]  pic3.jpg\n",
      "    └── [-rw-r--r--]  sub_sub_dir\n",
      "\n",
      "1 directory, 7 files\n"
     ]
    }
   ],
   "source": [
    "%%bash\n",
    "tree -p dir"
   ]
  },
  {
   "cell_type": "markdown",
   "metadata": {},
   "source": [
    "### Long listing"
   ]
  },
  {
   "cell_type": "code",
   "execution_count": 45,
   "metadata": {},
   "outputs": [
    {
     "name": "stdout",
     "output_type": "stream",
     "text": [
      "dir\n",
      "├── [-rw-r--r-- esn      staff   ]  file1.txt\n",
      "├── [-rw-r--r-- esn      staff   ]  file2.txt\n",
      "├── [-rw-r--r-- esn      staff   ]  file3.txt\n",
      "└── [drwxr-xr-x esn      staff   ]  sub_dir\n",
      "    ├── [-rw-r--r-- esn      staff   ]  pic1.jpg\n",
      "    ├── [-rw-r--r-- esn      staff   ]  pic2.jpg\n",
      "    ├── [-rw-r--r-- esn      staff   ]  pic3.jpg\n",
      "    └── [-rw-r--r-- esn      staff   ]  sub_sub_dir\n",
      "\n",
      "1 directory, 7 files\n"
     ]
    }
   ],
   "source": [
    "%%bash\n",
    "tree -pug dir"
   ]
  },
  {
   "cell_type": "markdown",
   "metadata": {},
   "source": [
    "### Size in bytes"
   ]
  },
  {
   "cell_type": "code",
   "execution_count": 46,
   "metadata": {},
   "outputs": [
    {
     "name": "stdout",
     "output_type": "stream",
     "text": [
      "dir\n",
      "├── [          0]  file1.txt\n",
      "├── [          0]  file2.txt\n",
      "├── [          0]  file3.txt\n",
      "└── [        192]  sub_dir\n",
      "    ├── [          0]  pic1.jpg\n",
      "    ├── [          0]  pic2.jpg\n",
      "    ├── [          0]  pic3.jpg\n",
      "    └── [          0]  sub_sub_dir\n",
      "\n",
      "1 directory, 7 files\n"
     ]
    }
   ],
   "source": [
    "%%bash\n",
    "tree -s dir"
   ]
  },
  {
   "cell_type": "markdown",
   "metadata": {},
   "source": [
    "### Human readable size"
   ]
  },
  {
   "cell_type": "code",
   "execution_count": 47,
   "metadata": {},
   "outputs": [
    {
     "name": "stdout",
     "output_type": "stream",
     "text": [
      "dir\n",
      "├── [   0]  file1.txt\n",
      "├── [   0]  file2.txt\n",
      "├── [   0]  file3.txt\n",
      "└── [ 192]  sub_dir\n",
      "    ├── [   0]  pic1.jpg\n",
      "    ├── [   0]  pic2.jpg\n",
      "    ├── [   0]  pic3.jpg\n",
      "    └── [   0]  sub_sub_dir\n",
      "\n",
      "1 directory, 7 files\n"
     ]
    }
   ],
   "source": [
    "%%bash\n",
    "tree -h dir"
   ]
  },
  {
   "cell_type": "markdown",
   "metadata": {},
   "source": [
    "### Disc usage"
   ]
  },
  {
   "cell_type": "code",
   "execution_count": 48,
   "metadata": {},
   "outputs": [
    {
     "name": "stdout",
     "output_type": "stream",
     "text": [
      "dir\n",
      "├── [          0]  file1.txt\n",
      "├── [          0]  file2.txt\n",
      "├── [          0]  file3.txt\n",
      "└── [        192]  sub_dir\n",
      "    ├── [          0]  pic1.jpg\n",
      "    ├── [          0]  pic2.jpg\n",
      "    ├── [          0]  pic3.jpg\n",
      "    └── [          0]  sub_sub_dir\n",
      "\n",
      "         416 bytes used in 1 directory, 7 files\n"
     ]
    }
   ],
   "source": [
    "%%bash\n",
    "tree --du dir"
   ]
  },
  {
   "cell_type": "markdown",
   "metadata": {},
   "source": [
    "### Last modification"
   ]
  },
  {
   "cell_type": "code",
   "execution_count": 49,
   "metadata": {},
   "outputs": [
    {
     "name": "stdout",
     "output_type": "stream",
     "text": [
      "dir\n",
      "├── [Apr 20 21:36]  file1.txt\n",
      "├── [Apr 20 21:36]  file2.txt\n",
      "├── [Apr 20 21:36]  file3.txt\n",
      "└── [Apr 20 21:36]  sub_dir\n",
      "    ├── [Apr 20 21:36]  pic1.jpg\n",
      "    ├── [Apr 20 21:36]  pic2.jpg\n",
      "    ├── [Apr 20 21:36]  pic3.jpg\n",
      "    └── [Apr 20 21:36]  sub_sub_dir\n",
      "\n",
      "1 directory, 7 files\n"
     ]
    }
   ],
   "source": [
    "%%bash\n",
    "tree -D dir "
   ]
  },
  {
   "cell_type": "markdown",
   "metadata": {},
   "source": [
    "### Colorized output"
   ]
  },
  {
   "cell_type": "code",
   "execution_count": 50,
   "metadata": {},
   "outputs": [
    {
     "name": "stdout",
     "output_type": "stream",
     "text": [
      "\u001b[01;34mdir\u001b[00m\n",
      "├── file1.txt\n",
      "├── file2.txt\n",
      "├── file3.txt\n",
      "└── \u001b[01;34msub_dir\u001b[00m\n",
      "    ├── \u001b[01;35mpic1.jpg\u001b[00m\n",
      "    ├── \u001b[01;35mpic2.jpg\u001b[00m\n",
      "    ├── \u001b[01;35mpic3.jpg\u001b[00m\n",
      "    └── sub_sub_dir\n",
      "\n",
      "1 directory, 7 files\n"
     ]
    }
   ],
   "source": [
    "%%bash\n",
    "tree -C dir"
   ]
  },
  {
   "cell_type": "markdown",
   "metadata": {},
   "source": [
    "### All together\n",
    "\n",
    "Similar to `ls -l`"
   ]
  },
  {
   "cell_type": "code",
   "execution_count": 51,
   "metadata": {},
   "outputs": [
    {
     "name": "stdout",
     "output_type": "stream",
     "text": [
      "\u001b[01;34mdir\u001b[00m\n",
      "├── [-rw-r--r-- esn      staff       0 Apr 20 21:36]  dir/file1.txt\n",
      "├── [-rw-r--r-- esn      staff       0 Apr 20 21:36]  dir/file2.txt\n",
      "├── [-rw-r--r-- esn      staff       0 Apr 20 21:36]  dir/file3.txt\n",
      "└── [drwxr-xr-x esn      staff     192 Apr 20 21:36]  \u001b[01;34mdir/sub_dir\u001b[00m\n",
      "    ├── [-rw-r--r-- esn      staff       0 Apr 20 21:36]  \u001b[01;35mdir/sub_dir/pic1.jpg\u001b[00m\n",
      "    ├── [-rw-r--r-- esn      staff       0 Apr 20 21:36]  \u001b[01;35mdir/sub_dir/pic2.jpg\u001b[00m\n",
      "    ├── [-rw-r--r-- esn      staff       0 Apr 20 21:36]  \u001b[01;35mdir/sub_dir/pic3.jpg\u001b[00m\n",
      "    └── [-rw-r--r-- esn      staff       0 Apr 20 21:36]  dir/sub_dir/sub_sub_dir\n",
      "\n",
      "1 directory, 7 files\n"
     ]
    }
   ],
   "source": [
    "%%bash\n",
    "tree -f -pug -h -D -C dir"
   ]
  },
  {
   "cell_type": "markdown",
   "metadata": {},
   "source": [
    "## MAN PAGE\n",
    "\n",
    "Here is a list of all options supported by the tree program:"
   ]
  },
  {
   "cell_type": "code",
   "execution_count": 52,
   "metadata": {},
   "outputs": [
    {
     "name": "stdout",
     "output_type": "stream",
     "text": [
      "TREE(1)                                                                TREE(1)\n",
      "\n",
      "\n",
      "\n",
      "NAME\n",
      "       tree - list contents of directories in a tree-like format.\n",
      "\n",
      "SYNOPSIS\n",
      "       tree  [-acdfghilnpqrstuvxACDFQNSUX]  [-L  level [-R]] [-H baseHREF] [-T\n",
      "       title] [-o filename] [--nolinks] [-P pattern] [-I  pattern]  [--inodes]\n",
      "       [--device] [--noreport] [--dirsfirst] [--version] [--help] [--filelimit\n",
      "       #] [--si] [--prune] [--du] [--timefmt  format]  [--matchdirs]  [--from-\n",
      "       file] [--] [directory ...]\n",
      "\n",
      "\n",
      "DESCRIPTION\n",
      "       Tree  is  a  recursive  directory listing program that produces a depth\n",
      "       indented listing of files, which is  colorized  ala  dircolors  if  the\n",
      "       LS_COLORS  environment  variable  is set and output is to tty.  With no\n",
      "       arguments, tree lists the files in the current directory.  When  direc-\n",
      "       tory  arguments  are given, tree lists all the files and/or directories\n",
      "       found in the given directories each in turn.  Upon completion of  list-\n",
      "       ing all files/directories found, tree returns the total number of files\n",
      "       and/or directories listed.\n",
      "\n",
      "       By default, when a symbolic link is encountered, the path that the sym-\n",
      "       bolic  link refers to is printed after the name of the link in the for-\n",
      "       mat:\n",
      "\n",
      "           name -> real-path\n",
      "\n",
      "       If the `-l' option is given and the symbolic link refers to  an  actual\n",
      "       directory, then tree will follow the path of the symbolic link as if it\n",
      "       were a real directory.\n",
      "\n",
      "\n",
      "OPTIONS\n",
      "       Tree understands the following command line switches:\n",
      "\n",
      "\n",
      "LISTING OPTIONS\n",
      "       -a     All files are printed.  By default tree does  not  print  hidden\n",
      "              files  (those  beginning with a dot `.').  In no event does tree\n",
      "              print the file system constructs  `.'  (current  directory)  and\n",
      "              `..' (previous directory).\n",
      "\n",
      "\n",
      "       -d     List directories only.\n",
      "\n",
      "\n",
      "       -l     Follows  symbolic links if they point to directories, as if they\n",
      "              were directories. Symbolic links that will result  in  recursion\n",
      "              are avoided when detected.\n",
      "\n",
      "\n",
      "       -f     Prints the full path prefix for each file.\n",
      "\n",
      "\n",
      "       -x     Stay on the current file-system only.  Ala find -xdev.\n",
      "\n",
      "\n",
      "       -L level\n",
      "              Max display depth of the directory tree.\n",
      "\n",
      "\n",
      "       -R     Recursively  cross  down the tree each level directories (see -L\n",
      "              option), and at each of  them  execute  tree  again  adding  `-o\n",
      "              00Tree.html' as a new option.\n",
      "\n",
      "\n",
      "       -P pattern\n",
      "              List  only  those files that match the wild-card pattern.  Note:\n",
      "              you must use the -a option to also consider those  files  begin-\n",
      "              ning with a dot `.'  for matching.  Valid wildcard operators are\n",
      "              `*' (any zero or more characters), `?' (any  single  character),\n",
      "              `[...]'  (any single character listed between brackets (optional\n",
      "              - (dash) for character  range  may  be  used:  ex:  [A-Z]),  and\n",
      "              `[^...]'  (any  single character not listed in brackets) and `|'\n",
      "              separates alternate patterns.\n",
      "\n",
      "\n",
      "       -I pattern\n",
      "              Do not list those files that match the wild-card pattern.\n",
      "\n",
      "\n",
      "       --ignore-case\n",
      "              If a match pattern is specified by the -P  or  -I  option,  this\n",
      "              will  cause  the pattern to match without regards to the case of\n",
      "              each letter.\n",
      "\n",
      "\n",
      "       --matchdirs\n",
      "              If a match pattern is specified by  the  -P  option,  this  will\n",
      "              cause  the pattern to be applied to directory names (in addition\n",
      "              to filenames).  In the event of a match on the  directory  name,\n",
      "              matching  is  disabled  for  the  directory's  contents.  If the\n",
      "              --prune option is used, empty folders  that  match  the  pattern\n",
      "              will not be pruned.\n",
      "\n",
      "\n",
      "       --prune\n",
      "              Makes  tree prune empty directories from the output, useful when\n",
      "              used in conjunction with -P or -I.  See BUGS AND NOTES below for\n",
      "              more information on this option.\n",
      "\n",
      "\n",
      "       --noreport\n",
      "              Omits  printing  of  the file and directory report at the end of\n",
      "              the tree listing.\n",
      "\n",
      "\n",
      "       --charset charset\n",
      "              Set the character set to use when outputting HTML and  for  line\n",
      "              drawing.\n",
      "\n",
      "\n",
      "       --filelimit #\n",
      "              Do not descend directories that contain more than # entries.\n",
      "\n",
      "\n",
      "       --timefmt format\n",
      "              Prints (implies -D) and formats the date according to the format\n",
      "              string which uses the strftime(3) syntax.\n",
      "\n",
      "\n",
      "       -o filename\n",
      "              Send output to filename.\n",
      "\n",
      "\n",
      "\n",
      "FILE OPTIONS\n",
      "       -q     Print non-printable characters in filenames  as  question  marks\n",
      "              instead of the default.\n",
      "\n",
      "\n",
      "       -N     Print non-printable characters as is instead of as escaped octal\n",
      "              numbers.\n",
      "\n",
      "\n",
      "       -Q     Quote the names of files in double quotes.\n",
      "\n",
      "\n",
      "       -p     Print the file type and permissions for each  file  (as  per  ls\n",
      "              -l).\n",
      "\n",
      "\n",
      "       -u     Print the username, or UID # if no username is available, of the\n",
      "              file.\n",
      "\n",
      "\n",
      "       -g     Print the group name, or GID # if no group name is available, of\n",
      "              the file.\n",
      "\n",
      "\n",
      "       -s     Print the size of each file in bytes along with the name.\n",
      "\n",
      "\n",
      "       -h     Print  the  size  of each file but in a more human readable way,\n",
      "              e.g. appending a size letter for kilobytes (K),  megabytes  (M),\n",
      "              gigabytes (G), terabytes (T), petabytes (P) and exabytes (E).\n",
      "\n",
      "\n",
      "       --si   Like -h but use SI units (powers of 1000) instead.\n",
      "\n",
      "\n",
      "       --du   For  each directory report its size as the accumulation of sizes\n",
      "              of all its files and sub-directories (and their  files,  and  so\n",
      "              on).   The total amount of used space is also given in the final\n",
      "              report (like the 'du -c' command.) This option requires tree  to\n",
      "              read  the entire directory tree before emitting it, see BUGS AND\n",
      "              NOTES below.  Implies -s.\n",
      "\n",
      "\n",
      "       -D     Print the date of the last modification time or if -c  is  used,\n",
      "              the last status change time for the file listed.\n",
      "\n",
      "\n",
      "       -F     Append  a `/' for directories, a `=' for socket files, a `*' for\n",
      "              executable files, a `>'  for  doors  (Solaris)  and  a  `|'  for\n",
      "              FIFO's, as per ls -F\n",
      "\n",
      "\n",
      "       --inodes\n",
      "              Prints the inode number of the file or directory\n",
      "\n",
      "\n",
      "       --device\n",
      "              Prints the device number to which the file or directory belongs\n",
      "\n",
      "\n",
      "\n",
      "SORTING OPTIONS\n",
      "       -v     Sort the output by version.\n",
      "\n",
      "\n",
      "       -t     Sort  the output by last modification time instead of alphabeti-\n",
      "              cally.\n",
      "\n",
      "\n",
      "       -c     Sort the output by last status change instead of alphabetically.\n",
      "              Modifies the -D option (if used) to print the last status change\n",
      "              instead of modification time.\n",
      "\n",
      "\n",
      "       -U     Do not sort.  Lists files in directory order.  Disables  --dirs-\n",
      "              first.\n",
      "\n",
      "\n",
      "       -r     Sort  the  output  in  reverse  order.  This is a meta-sort that\n",
      "              alter the above sorts.  This option is disabled when -U is used.\n",
      "\n",
      "\n",
      "       --dirsfirst\n",
      "              List  directories  before files. This is a meta-sort that alters\n",
      "              the above sorts.  This option is disabled when -U is used.\n",
      "\n",
      "\n",
      "       --sort[=]type\n",
      "              Sort the output by type instead of name.  Possible  values  are:\n",
      "              ctime (-c), mtime (-t), size, or version (-v).\n",
      "\n",
      "\n",
      "GRAPHICS OPTIONS\n",
      "       -i     Makes  tree not print the indentation lines, useful when used in\n",
      "              conjunction with the -f option.  Also removes as much whitespace\n",
      "              as possible when used with the -J or -x options.\n",
      "\n",
      "\n",
      "       -A     Turn  on  ANSI  line graphics hack when printing the indentation\n",
      "              lines.\n",
      "\n",
      "\n",
      "       -S     Turn on CP437 line graphics (useful  when  using  Linux  console\n",
      "              mode fonts). This option is now equivalent to `--charset=IBM437'\n",
      "              and may eventually be depreciated.\n",
      "\n",
      "\n",
      "       -n     Turn colorization off always, over-ridden by the -C option.\n",
      "\n",
      "\n",
      "       -C     Turn colorization on always, using built-in  color  defaults  if\n",
      "              the  LS_COLORS or TREE_COLORS environment variables are not set.\n",
      "              Useful to colorize output to a pipe.\n",
      "\n",
      "\n",
      "\n",
      "XML/JSON/HTML OPTIONS\n",
      "       -X     Turn on XML output. Outputs the directory tree as an XML format-\n",
      "              ted file.\n",
      "\n",
      "\n",
      "       -J     Turn  on JSON output. Outputs the directory tree as an JSON for-\n",
      "              matted array.\n",
      "\n",
      "\n",
      "       -H baseHREF\n",
      "              Turn on HTML output, including HTTP references. Useful  for  ftp\n",
      "              sites.   baseHREF  gives  the  base ftp location when using HTML\n",
      "              output. That is, the local directory  may  be  `/local/ftp/pub',\n",
      "              but   it   must   be   referenced  as  `ftp://hostname.organiza-\n",
      "              tion.domain/pub' (baseHREF should  be  `ftp://hostname.organiza-\n",
      "              tion.domain').  Hint: don't use ANSI lines with this option, and\n",
      "              don't give more than one directory in the directory list. If you\n",
      "              wish  to  use  colors  via CSS style-sheet, use the -C option in\n",
      "              addition to this option to force color output.\n",
      "\n",
      "\n",
      "       -T title\n",
      "              Sets the title and H1 header string in HTML output mode.\n",
      "\n",
      "\n",
      "       --nolinks\n",
      "              Turns off hyperlinks in HTML output.\n",
      "\n",
      "\n",
      "\n",
      "INPUT OPTIONS\n",
      "       --fromfile Reads a directory listing from a file rather than the  file-\n",
      "       system.   Paths  provided  on  the  command line are files to read from\n",
      "       rather than directories to search.  The  dot  (.)  directory  indicates\n",
      "       that tree should read paths from standard input.\n",
      "\n",
      "\n",
      "MISC OPTIONS\n",
      "       --help Outputs a verbose usage listing.\n",
      "\n",
      "\n",
      "       --version\n",
      "              Outputs the version of tree.\n",
      "\n",
      "\n",
      "       --     Option  processing  terminator.  No further options will be pro-\n",
      "              cessed after this.\n",
      "\n",
      "\n",
      "\n",
      "FILES\n",
      "       /etc/DIR_COLORS          System color database.\n",
      "       ~/.dircolors        Users color database.\n",
      "\n",
      "\n",
      "ENVIRONMENT\n",
      "       LS_COLORS      Color information created by dircolors\n",
      "       TREE_COLORS    Uses this for color information over LS_COLORS if it  is\n",
      "       set.\n",
      "       TREE_CHARSET   Character set for tree to use in HTML mode.\n",
      "       CLICOLOR       Enables colorization even if TREE_COLORS or LS_COLORS is\n",
      "       not set.\n",
      "       CLICOLOR_FORCE Always enables colorization (effectively -C)\n",
      "       LC_CTYPE       Locale for filename output.\n",
      "       LC_TIME        Locale for timefmt output, see strftime(3).\n",
      "       TZ        Timezone for timefmt output, see strftime(3).\n",
      "\n",
      "\n",
      "AUTHOR\n",
      "       Steve Baker (ice@mama.indstate.edu)\n",
      "       HTML output hacked by Francesc Rocher (rocher@econ.udg.es)\n",
      "       Charsets and OS/2 support by Kyosuke Tokoro (NBG01720@nifty.ne.jp)\n",
      "\n",
      "\n",
      "BUGS AND NOTES\n",
      "       Tree does not prune \"empty\" directories when the -P and -I options  are\n",
      "       used by default. Use the --prune option.\n",
      "\n",
      "       The -h and --si options round to the nearest whole number unlike the ls\n",
      "       implementations which rounds up always.\n",
      "\n",
      "       Pruning files and directories with the -I, -P and  --filelimit  options\n",
      "       will lead to incorrect file/directory count reports.\n",
      "\n",
      "       The  --prune  and --du options cause tree to accumulate the entire tree\n",
      "       in memory before emitting it. For large directory trees this can  cause\n",
      "       a significant delay in output and the use of large amounts of memory.\n",
      "\n",
      "       The  timefmt  expansion  buffer  is limited to a ridiculously large 255\n",
      "       characters.  Output of time strings longer than this will be undefined,\n",
      "       but are guaranteed to not exceed 255 characters.\n",
      "\n",
      "       XML/JSON trees are not colored, which is a bit of a shame.\n",
      "\n",
      "       Probably more.\n",
      "\n",
      "\n",
      "SEE ALSO\n",
      "       dircolors(1), ls(1), find(1), du(1), strftime(3)\n",
      "\n",
      "\n",
      "\n",
      "Tree 1.8.0                                                             TREE(1)\n"
     ]
    }
   ],
   "source": [
    "%%bash\n",
    "man tree"
   ]
  },
  {
   "cell_type": "markdown",
   "metadata": {},
   "source": [
    "## NOTEBOOK CLEANUP\n",
    "\n",
    "Run this cell to reset the notebook directory to the initial set."
   ]
  },
  {
   "cell_type": "code",
   "execution_count": 53,
   "metadata": {},
   "outputs": [],
   "source": [
    "%%bash\n",
    "rm -r dir"
   ]
  },
  {
   "cell_type": "code",
   "execution_count": null,
   "metadata": {},
   "outputs": [],
   "source": []
  }
 ],
 "metadata": {
  "kernelspec": {
   "display_name": "Python 3",
   "language": "python",
   "name": "python3"
  },
  "language_info": {
   "codemirror_mode": {
    "name": "ipython",
    "version": 3
   },
   "file_extension": ".py",
   "mimetype": "text/x-python",
   "name": "python",
   "nbconvert_exporter": "python",
   "pygments_lexer": "ipython3",
   "version": "3.7.1"
  }
 },
 "nbformat": 4,
 "nbformat_minor": 2
}
