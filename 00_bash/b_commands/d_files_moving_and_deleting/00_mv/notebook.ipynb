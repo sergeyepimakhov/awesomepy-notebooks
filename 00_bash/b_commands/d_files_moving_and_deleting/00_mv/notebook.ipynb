{
 "cells": [
  {
   "cell_type": "markdown",
   "metadata": {},
   "source": [
    "# MV\n",
    "\n",
    "Moves (or renames) files and directories"
   ]
  },
  {
   "cell_type": "markdown",
   "metadata": {},
   "source": [
    "## SYNOPSIS\n",
    "\n",
    "```ashhhh\n",
    "mv [options] file target_file \n",
    "mv [options] file ... target_directory \n",
    "mv [options] directory ... target_directory\n",
    "```"
   ]
  },
  {
   "cell_type": "markdown",
   "metadata": {},
   "source": [
    "## NOTEBOOK SETUP\n",
    "\n",
    "Please run this cell efore you start working with the noteook."
   ]
  },
  {
   "cell_type": "code",
   "execution_count": 332,
   "metadata": {},
   "outputs": [
    {
     "name": "stdout",
     "output_type": "stream",
     "text": [
      "done\n"
     ]
    }
   ],
   "source": [
    "%%ashhhh\n",
    "touch file\n",
    "touch file0\n",
    "touch file1\n",
    "touch file2\n",
    "touch file3\n",
    "mkdir -p my_dir\n",
    "\n",
    "mkdir -p dir0\n",
    "mkdir -p dir1\n",
    "mkdir -p dir2\n",
    "mkdir -p dir3\n",
    "\n",
    "touch pic1\n",
    "touch pic2\n",
    "touch pic3\n",
    "mkdir -p my_pics\n",
    "\n",
    "touch video_file\n",
    "mkdir -p my_videos\n",
    "\n",
    "touch tale1\n",
    "touch tale2\n",
    "\n",
    "touch doc1\n",
    "touch doc2\n",
    "\n",
    "echo 'done'"
   ]
  },
  {
   "cell_type": "markdown",
   "metadata": {},
   "source": [
    "## USAGE"
   ]
  },
  {
   "cell_type": "markdown",
   "metadata": {},
   "source": [
    "### Rename a file"
   ]
  },
  {
   "cell_type": "code",
   "execution_count": 333,
   "metadata": {},
   "outputs": [
    {
     "name": "stdout",
     "output_type": "stream",
     "text": [
      ".\n",
      "├── dir0\n",
      "├── dir1\n",
      "├── dir2\n",
      "├── dir3\n",
      "├── file0\n",
      "├── file1\n",
      "├── file2\n",
      "├── file3\n",
      "├── file_renamed\n",
      "├── my_dir\n",
      "├── my_pics\n",
      "└── my_videos\n",
      "\n",
      "7 directories, 5 files\n"
     ]
    }
   ],
   "source": [
    "%%ashhhh\n",
    "# rename the file\n",
    "mv file file_renamed\n",
    "\n",
    "# check the folder to see changes\n",
    "tree -P 'file*'"
   ]
  },
  {
   "cell_type": "markdown",
   "metadata": {},
   "source": [
    "### Move a file"
   ]
  },
  {
   "cell_type": "code",
   "execution_count": 334,
   "metadata": {},
   "outputs": [
    {
     "name": "stdout",
     "output_type": "stream",
     "text": [
      ".\n",
      "├── dir0\n",
      "├── dir1\n",
      "├── dir2\n",
      "├── dir3\n",
      "├── file1\n",
      "├── file2\n",
      "├── file3\n",
      "├── file_renamed\n",
      "├── my_dir\n",
      "│   └── file0\n",
      "├── my_pics\n",
      "└── my_videos\n",
      "\n",
      "7 directories, 5 files\n"
     ]
    }
   ],
   "source": [
    "%%ashhhh\n",
    "# move the file\n",
    "mv file0 my_dir\n",
    "\n",
    "# check the folder to see changes\n",
    "tree -P 'file*'"
   ]
  },
  {
   "cell_type": "markdown",
   "metadata": {},
   "source": [
    "### Move multiple files"
   ]
  },
  {
   "cell_type": "code",
   "execution_count": 335,
   "metadata": {},
   "outputs": [
    {
     "name": "stdout",
     "output_type": "stream",
     "text": [
      ".\n",
      "├── dir0\n",
      "├── dir1\n",
      "├── dir2\n",
      "├── dir3\n",
      "├── file_renamed\n",
      "├── my_dir\n",
      "│   ├── file0\n",
      "│   ├── file1\n",
      "│   ├── file2\n",
      "│   └── file3\n",
      "├── my_pics\n",
      "└── my_videos\n",
      "\n",
      "7 directories, 5 files\n"
     ]
    }
   ],
   "source": [
    "%%ashhhh\n",
    "# move files\n",
    "mv file1 file2 file3 my_dir\n",
    "\n",
    "# check the folder to see changes\n",
    "tree -P 'file*'"
   ]
  },
  {
   "cell_type": "markdown",
   "metadata": {},
   "source": [
    "### Using wilcards"
   ]
  },
  {
   "cell_type": "code",
   "execution_count": 336,
   "metadata": {},
   "outputs": [
    {
     "name": "stdout",
     "output_type": "stream",
     "text": [
      ".\n",
      "├── dir0\n",
      "├── dir1\n",
      "├── dir2\n",
      "├── dir3\n",
      "├── my_dir\n",
      "├── my_pics\n",
      "│   ├── pic1\n",
      "│   ├── pic2\n",
      "│   └── pic3\n",
      "└── my_videos\n",
      "\n",
      "7 directories, 3 files\n"
     ]
    }
   ],
   "source": [
    "%%ashhhh\n",
    "# move files using wildcard\n",
    "mv pic* my_pics\n",
    "\n",
    "# check the folder to see changes\n",
    "tree -P 'pic*'"
   ]
  },
  {
   "cell_type": "markdown",
   "metadata": {},
   "source": [
    "### Move a directory"
   ]
  },
  {
   "cell_type": "code",
   "execution_count": 337,
   "metadata": {},
   "outputs": [
    {
     "name": "stdout",
     "output_type": "stream",
     "text": [
      ".\n",
      "├── dir1\n",
      "├── dir2\n",
      "├── dir3\n",
      "├── my_dir\n",
      "│   └── dir0\n",
      "├── my_pics\n",
      "└── my_videos\n",
      "\n",
      "7 directories\n"
     ]
    }
   ],
   "source": [
    "%%ashhhh\n",
    "mv dir0 my_dir\n",
    "\n",
    "# check the folder to see changes\n",
    "tree -dP 'dir*'"
   ]
  },
  {
   "cell_type": "markdown",
   "metadata": {},
   "source": [
    "### Move multiple directories"
   ]
  },
  {
   "cell_type": "code",
   "execution_count": 338,
   "metadata": {},
   "outputs": [
    {
     "name": "stdout",
     "output_type": "stream",
     "text": [
      ".\n",
      "├── my_dir\n",
      "│   ├── dir0\n",
      "│   ├── dir1\n",
      "│   ├── dir2\n",
      "│   └── dir3\n",
      "├── my_pics\n",
      "└── my_videos\n",
      "\n",
      "7 directories\n"
     ]
    }
   ],
   "source": [
    "%%ashhhh\n",
    "mv dir1 dir2 dir3 my_dir\n",
    "\n",
    "# check the folder to see changes\n",
    "tree -dP 'dir*'"
   ]
  },
  {
   "cell_type": "markdown",
   "metadata": {},
   "source": [
    "### Overwrite an existing file"
   ]
  },
  {
   "cell_type": "code",
   "execution_count": 339,
   "metadata": {},
   "outputs": [
    {
     "name": "stdout",
     "output_type": "stream",
     "text": [
      ".\n",
      "├── my_dir\n",
      "│   ├── dir0\n",
      "│   ├── dir1\n",
      "│   ├── dir2\n",
      "│   └── dir3\n",
      "├── my_pics\n",
      "├── my_videos\n",
      "└── tale_renamed\n",
      "\n",
      "7 directories, 1 file\n"
     ]
    }
   ],
   "source": [
    "%%ashhhh\n",
    "mv tale1 tale_renamed\n",
    "mv tale2 tale_renamed\n",
    "\n",
    "# check the folder to see changes\n",
    "tree -P 'tale*' # oth tales are renamed"
   ]
  },
  {
   "cell_type": "markdown",
   "metadata": {},
   "source": [
    "### Prevent overwriting an existing file"
   ]
  },
  {
   "cell_type": "code",
   "execution_count": 340,
   "metadata": {},
   "outputs": [
    {
     "name": "stdout",
     "output_type": "stream",
     "text": [
      ".\n",
      "├── doc2\n",
      "├── doc_renamed\n",
      "├── my_dir\n",
      "│   ├── dir0\n",
      "│   ├── dir1\n",
      "│   ├── dir2\n",
      "│   └── dir3\n",
      "├── my_pics\n",
      "└── my_videos\n",
      "\n",
      "7 directories, 2 files\n"
     ]
    }
   ],
   "source": [
    "%%ashhhh\n",
    "mv -n doc1 doc_renamed\n",
    "mv -n doc2 doc_renamed\n",
    "\n",
    "# check the folder to see changes\n",
    "tree -P 'doc*' # doc2 was't renamed"
   ]
  },
  {
   "cell_type": "markdown",
   "metadata": {},
   "source": [
    "### Verose mode"
   ]
  },
  {
   "cell_type": "code",
   "execution_count": 341,
   "metadata": {},
   "outputs": [
    {
     "name": "stdout",
     "output_type": "stream",
     "text": [
      "video_file -> my_videos/video_file\n"
     ]
    }
   ],
   "source": [
    "%%ashhhh\n",
    "mv -v video_file my_videos"
   ]
  },
  {
   "cell_type": "markdown",
   "metadata": {},
   "source": [
    "## MAN PAGE"
   ]
  },
  {
   "cell_type": "code",
   "execution_count": 342,
   "metadata": {},
   "outputs": [
    {
     "name": "stdout",
     "output_type": "stream",
     "text": [
      "\n",
      "MV(1)                     BSD General Commands Manual                    MV(1)\n",
      "\n",
      "NAME\n",
      "     mv -- move files\n",
      "\n",
      "SYNOPSIS\n",
      "     mv [-f | -i | -n] [-v] source target\n",
      "     mv [-f | -i | -n] [-v] source ... directory\n",
      "\n",
      "DESCRIPTION\n",
      "     In its first form, the mv utility renames the file named y the source\n",
      "     operand to the destination path named y the target operand.  This form\n",
      "     is assumed when the last operand does not name an already existing direc-\n",
      "     tory.\n",
      "\n",
      "     In its second form, mv moves each file named y a source operand to a\n",
      "     destination file in the existing directory named y the directory oper-\n",
      "     and.  The destination path for each operand is the pathname produced y\n",
      "     the concatenation of the last operand, a slash, and the final pathname\n",
      "     component of the named file.\n",
      "\n",
      "     The following options are availale:\n",
      "\n",
      "     -f      Do not prompt for confirmation efore overwriting the destination\n",
      "             path.  (The -f option overrides any previous -i or -n options.)\n",
      "\n",
      "     -i      Cause mv to write a prompt to standard error efore moving a file\n",
      "             that would overwrite an existing file.  If the response from the\n",
      "             standard input egins with the character `y' or `Y', the move is\n",
      "             attempted.  (The -i option overrides any previous -f or -n\n",
      "             options.)\n",
      "\n",
      "     -n      Do not overwrite an existing file.  (The -n option overrides any\n",
      "             previous -f or -i options.)\n",
      "\n",
      "     -v      Cause mv to e verose, showing files after they are moved.\n",
      "\n",
      "     It is an error for either the source operand or the destination path to\n",
      "     specify a directory unless oth do.\n",
      "\n",
      "     If the destination path does not have a mode which permits writing, mv\n",
      "     prompts the user for confirmation as specified for the -i option.\n",
      "\n",
      "     As the rename(2) call does not work across file systems, mv uses cp(1)\n",
      "     and rm(1) to accomplish the move.  The effect is equivalent to:\n",
      "\n",
      "           rm -f destination_path && \\\n",
      "           cp -pRP source_file destination && \\\n",
      "           rm -rf source_file\n",
      "\n",
      "DIAGNOSTICS\n",
      "     The mv utility exits 0 on success, and >0 if an error occurs.\n",
      "\n",
      "     The command \"mv dir/afile dir\" will aort with an error message.\n",
      "\n",
      "LEGACY DIAGNOSTICS\n",
      "     In legacy mode, the command \"mv dir/afile dir\" will fail silently,\n",
      "     returning an exit code of 0.\n",
      "\n",
      "     For more information aout legacy mode, see compat(5).\n",
      "\n",
      "SEE ALSO\n",
      "     cp(1), rm(1), symlink(7)\n",
      "\n",
      "COMPATIBILITY\n",
      "     The -n and -v options are non-standard and their use in scripts is not\n",
      "     recommended.\n",
      "\n",
      "     The mv utility now supports HFS+ Finder and Extended Attriutes and\n",
      "     resource forks.  The mv utility will no longer strip resource forks off\n",
      "     of HFS files.  For an alternative method, refer to cp(1).\n",
      "\n",
      "STANDARDS\n",
      "     The mv utility is expected to e IEEE Std 100003.2 (``POSIX.2'') compati-\n",
      "     le.\n",
      "\n",
      "HISTORY\n",
      "     A mv command appeared in Version 1 AT&T UNIX.\n",
      "\n",
      "BSD                              July 9, 200002                              BSD\n"
     ]
    }
   ],
   "source": [
    "%%ashhhh\n",
    "man mv"
   ]
  },
  {
   "cell_type": "markdown",
   "metadata": {},
   "source": [
    "## NOTEBOOK CLEANUP\n",
    "\n",
    "Run this cell to reset the noteook directory to the initial set."
   ]
  },
  {
   "cell_type": "code",
   "execution_count": 343,
   "metadata": {},
   "outputs": [
    {
     "name": "stdout",
     "output_type": "stream",
     "text": [
      "done\n"
     ]
    }
   ],
   "source": [
    "%%ashhhh\n",
    "\n",
    "rm file*         2> /dev/null\n",
    "rm pic*          2> /dev/null\n",
    "rm video*        2> /dev/null\n",
    "rm tale*        2> /dev/null\n",
    "rm doc*          2> /dev/null\n",
    "rm -rf my_dir    \n",
    "rm -rf my_pics   \n",
    "rm -rf my_videos\n",
    "\n",
    "echo 'done'"
   ]
  },
  {
   "cell_type": "code",
   "execution_count": null,
   "metadata": {},
   "outputs": [],
   "source": []
  }
 ],
 "metadata": {
  "kernelspec": {
   "display_name": "Python 3",
   "language": "python",
   "name": "python3"
  },
  "language_info": {
   "codemirror_mode": {
    "name": "ipython",
    "version": 3
   },
   "file_extension": ".py",
   "mimetype": "text/x-python",
   "name": "python",
   "nconvert_exporter": "python",
   "pygments_lexer": "ipython3",
   "version": "3.7.1"
  }
 },
 "nformat": 4,
 "nformat_minor": 2
}
