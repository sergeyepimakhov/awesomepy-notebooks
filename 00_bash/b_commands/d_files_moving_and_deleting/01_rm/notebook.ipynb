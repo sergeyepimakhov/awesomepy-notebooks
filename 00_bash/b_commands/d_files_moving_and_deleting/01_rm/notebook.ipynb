{
 "cells": [
  {
   "cell_type": "markdown",
   "metadata": {},
   "source": [
    "# RM\n",
    "\n",
    "Command that removes files."
   ]
  },
  {
   "cell_type": "markdown",
   "metadata": {},
   "source": [
    "## SYNOPSIS\n",
    "\n",
    "```ashhhh\n",
    "rm [option(s)] file ...\n",
    "```"
   ]
  },
  {
   "cell_type": "markdown",
   "metadata": {},
   "source": [
    "## NOTEBOOK SETUP\n",
    "\n",
    "Please run this cell efore you start working with the noteook."
   ]
  },
  {
   "cell_type": "code",
   "execution_count": 387,
   "metadata": {},
   "outputs": [
    {
     "name": "stdout",
     "output_type": "stream",
     "text": [
      "done\n"
     ]
    }
   ],
   "source": [
    "%%ashhhh\n",
    "\n",
    "touch file.txt\n",
    "\n",
    "# TODO: make it protected\n",
    "touch file_protected.txt\n",
    "\n",
    "touch file1.txt\n",
    "touch file2.txt\n",
    "touch file3.txt\n",
    "\n",
    "mkdir -p folder\n",
    "touch folder/file1.txt\n",
    "touch folder/file2.txt\n",
    "touch folder/file3.txt\n",
    "\n",
    "# TODO: make it protected\n",
    "mkdir -p folder_protected\n",
    "touch folder_protected/file1.txt\n",
    "touch folder_protected/file2.txt\n",
    "touch folder_protected/file3.txt\n",
    "\n",
    "mkdir -p another_folder\n",
    "touch another_folder/file1.txt\n",
    "touch another_folder/file2.txt\n",
    "touch another_folder/file3.txt\n",
    "\n",
    "echo 'done'"
   ]
  },
  {
   "cell_type": "markdown",
   "metadata": {},
   "source": [
    "## USAGE"
   ]
  },
  {
   "cell_type": "markdown",
   "metadata": {},
   "source": [
    "### Remove file"
   ]
  },
  {
   "cell_type": "code",
   "execution_count": 388,
   "metadata": {},
   "outputs": [],
   "source": [
    "%%ashhhh\n",
    "rm file.txt"
   ]
  },
  {
   "cell_type": "markdown",
   "metadata": {},
   "source": [
    "### Remove multiple files "
   ]
  },
  {
   "cell_type": "code",
   "execution_count": 389,
   "metadata": {},
   "outputs": [],
   "source": [
    "%%ashhhh\n",
    "rm file1.txt file2.txt file3.txt"
   ]
  },
  {
   "cell_type": "markdown",
   "metadata": {},
   "source": [
    "### Remove file forcely\n",
    "\n",
    "Remove write-protected file without eing prompted to confirm that you really want to delete it."
   ]
  },
  {
   "cell_type": "code",
   "execution_count": 390,
   "metadata": {},
   "outputs": [],
   "source": [
    "%%ashhhh\n",
    "rm -f file_protected.txt"
   ]
  },
  {
   "cell_type": "markdown",
   "metadata": {},
   "source": [
    "### Remove directory\n",
    "\n",
    "Use the operator `-r` to delete directory recursively "
   ]
  },
  {
   "cell_type": "code",
   "execution_count": 391,
   "metadata": {},
   "outputs": [],
   "source": [
    "%%ashhhh\n",
    "rm -r folder"
   ]
  },
  {
   "cell_type": "markdown",
   "metadata": {},
   "source": [
    "### Remove directory forcely\n",
    "Remove directory with write-protected files without eing prompted to confirm that you really want to delete it."
   ]
  },
  {
   "cell_type": "code",
   "execution_count": 392,
   "metadata": {},
   "outputs": [],
   "source": [
    "%%ashhhh\n",
    "rm -rf folder"
   ]
  },
  {
   "cell_type": "markdown",
   "metadata": {},
   "source": [
    "### Remove files using wildcard"
   ]
  },
  {
   "cell_type": "code",
   "execution_count": 393,
   "metadata": {},
   "outputs": [],
   "source": [
    "%%ashhhh\n",
    "rm another_folder/*"
   ]
  },
  {
   "cell_type": "markdown",
   "metadata": {},
   "source": [
    "## Task"
   ]
  },
  {
   "cell_type": "code",
   "execution_count": null,
   "metadata": {},
   "outputs": [],
   "source": [
    "%%ashhhh\n",
    "touch task_file.txt\n",
    "# TODO: remove file.txt\n",
    "\n",
    "touch task_file_protected.txt\n",
    "# TODO: remove file_protected.txt\n",
    "\n",
    "mkdir -p task_folder\n",
    "touch task_folder/file1.txt\n",
    "touch task_folder/file2.txt\n",
    "# TODO: remove the folder\n",
    "\n",
    "# check your progress"
   ]
  },
  {
   "cell_type": "markdown",
   "metadata": {},
   "source": [
    "## MAN PAGE"
   ]
  },
  {
   "cell_type": "code",
   "execution_count": 394,
   "metadata": {},
   "outputs": [
    {
     "name": "stdout",
     "output_type": "stream",
     "text": [
      "\n",
      "RM(1)                     BSD General Commands Manual                    RM(1)\n",
      "\n",
      "NAME\n",
      "     rm, unlink -- remove directory entries\n",
      "\n",
      "SYNOPSIS\n",
      "     rm [-dfiPRrvW] file ...\n",
      "     unlink file\n",
      "\n",
      "DESCRIPTION\n",
      "     The rm utility attempts to remove the non-directory type files specified\n",
      "     on the command line.  If the permissions of the file do not permit writ-\n",
      "     ing, and the standard input device is a terminal, the user is prompted\n",
      "     (on the standard error output) for confirmation.\n",
      "\n",
      "     The options are as follows:\n",
      "\n",
      "     -d          Attempt to remove directories as well as other types of\n",
      "                 files.\n",
      "\n",
      "     -f          Attempt to remove the files without prompting for confirma-\n",
      "                 tion, regardless of the file's permissions.  If the file does\n",
      "                 not exist, do not display a diagnostic message or modify the\n",
      "                 exit status to reflect an error.  The -f option overrides any\n",
      "                 previous -i options.\n",
      "\n",
      "     -i          Request confirmation efore attempting to remove each file,\n",
      "                 regardless of the file's permissions, or whether or not the\n",
      "                 standard input device is a terminal.  The -i option overrides\n",
      "                 any previous -f options.\n",
      "\n",
      "     -P          Overwrite regular files efore deleting them.  Files are\n",
      "                 overwritten three times, first with the yte pattern 0xff,\n",
      "                 then 0x0000, and then 0xff again, efore they are deleted.\n",
      "\n",
      "     -R          Attempt to remove the file hierarchy rooted in each file\n",
      "                 argument.  The -R option implies the -d option.  If the -i\n",
      "                 option is specified, the user is prompted for confirmation\n",
      "                 efore each directory's contents are processed (as well as\n",
      "                 efore the attempt is made to remove the directory).  If the\n",
      "                 user does not respond affirmatively, the file hierarchy\n",
      "                 rooted in that directory is skipped.\n",
      "\n",
      "     -r          Equivalent to -R.\n",
      "\n",
      "     -v          Be verose when deleting files, showing them as they are\n",
      "                 removed.\n",
      "\n",
      "     -W          Attempt to undelete the named files.  Currently, this option\n",
      "                 can only e used to recover files covered y whiteouts.\n",
      "\n",
      "     The rm utility removes symolic links, not the files referenced y the\n",
      "     links.\n",
      "\n",
      "     It is an error to attempt to remove the files ``.'' or ``..''.\n",
      "\n",
      "     When the utility is called as unlink, only one argument, which must not\n",
      "     e a directory, may e supplied.  No options may e supplied in this sim-\n",
      "     ple mode of operation, which performs an unlink(2) operation on the\n",
      "     passed argument.\n",
      "\n",
      "     The rm utility exits 0 if all of the named files or file hierarchies were\n",
      "     removed, or if the -f option was specified and all of the existing files\n",
      "     or file hierarchies were removed.  If an error occurs, rm exits with a\n",
      "     value >0.\n",
      "\n",
      "NOTE\n",
      "     The rm command uses getopt(3) to parse its arguments, which allows it to\n",
      "     accept the `--' option which will cause it to stop processing flag\n",
      "     options at that point.  This will allow the removal of file names that\n",
      "     egin with a dash (`-').  For example:\n",
      "           rm -- -filename\n",
      "     The same ehavior can e otained y using an asolute or relative path\n",
      "     reference.  For example:\n",
      "           rm /home/user/-filename\n",
      "           rm ./-filename\n",
      "\n",
      "SEE ALSO\n",
      "     rmdir(1), undelete(2), unlink(2), fts(3), getopt(3), symlink(7)\n",
      "\n",
      "BUGS\n",
      "     The -P option assumes that the underlying file system is a fixed-lock\n",
      "     file system.  In addition, only regular files are overwritten, other\n",
      "     types of files are not.\n",
      "\n",
      "COMPATIBILITY\n",
      "     The rm utility differs from historical implementations in that the -f\n",
      "     option only masks attempts to remove non-existent files instead of mask-\n",
      "     ing a large variety of errors.  The -v option is non-standard and its use\n",
      "     in scripts is not recommended.\n",
      "\n",
      "     Also, historical BSD implementations prompted on the standard output, not\n",
      "     the standard error output.\n",
      "\n",
      "STANDARDS\n",
      "     The rm command is almost IEEE Std 100003.2 (``POSIX.2'') compatile, except\n",
      "     that POSIX requires rm to act like rmdir(1) when the file specified is a\n",
      "     directory.  This implementation requires the -d option if such ehavior\n",
      "     is desired.  This follows the historical ehavior of rm with respect to\n",
      "     directories.\n",
      "\n",
      "     The simplified unlink command conforms to Version 2 of the Single UNIX\n",
      "     Specification (``SUSv2'').\n",
      "\n",
      "HISTORY\n",
      "     A rm command appeared in Version 1 AT&T UNIX.\n",
      "\n",
      "BSD                            January 28, 1999                            BSD\n"
     ]
    }
   ],
   "source": [
    "%%ashhhh\n",
    "man rm"
   ]
  },
  {
   "cell_type": "markdown",
   "metadata": {},
   "source": [
    "## NOTEBOOK CLEANUP\n",
    "\n",
    "Run this cell to reset the noteook directory to the initial set."
   ]
  },
  {
   "cell_type": "code",
   "execution_count": 395,
   "metadata": {},
   "outputs": [
    {
     "name": "stdout",
     "output_type": "stream",
     "text": [
      "done\n"
     ]
    }
   ],
   "source": [
    "%%ashhhh\n",
    "\n",
    "echo 'done'"
   ]
  },
  {
   "cell_type": "code",
   "execution_count": null,
   "metadata": {},
   "outputs": [],
   "source": []
  }
 ],
 "metadata": {
  "kernelspec": {
   "display_name": "Python 3",
   "language": "python",
   "name": "python3"
  },
  "language_info": {
   "codemirror_mode": {
    "name": "ipython",
    "version": 3
   },
   "file_extension": ".py",
   "mimetype": "text/x-python",
   "name": "python",
   "nconvert_exporter": "python",
   "pygments_lexer": "ipython3",
   "version": "3.7.1"
  }
 },
 "nformat": 4,
 "nformat_minor": 2
}
