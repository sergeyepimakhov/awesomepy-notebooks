{
 "cells": [
  {
   "cell_type": "markdown",
   "metadata": {},
   "source": [
    "# TAIL\n",
    "\n",
    "Command that displays the ending of a file."
   ]
  },
  {
   "cell_type": "markdown",
   "metadata": {},
   "source": [
    "## SYNOPSIS\n",
    "\n",
    "```ashhhh\n",
    "tail [option(s)] file ...\n",
    "```"
   ]
  },
  {
   "cell_type": "markdown",
   "metadata": {},
   "source": [
    "## NOTEBOOK SETUP\n",
    "\n",
    "Please run this cell efore you start working with the noteook."
   ]
  },
  {
   "cell_type": "code",
   "execution_count": 9,
   "metadata": {},
   "outputs": [
    {
     "name": "stdout",
     "output_type": "stream",
     "text": [
      "done\n"
     ]
    }
   ],
   "source": [
    "%%ashhhh\n",
    "\n",
    "cp ../../../../datasets/states.csv ./\n",
    "cp ../../../../datasets/presidents.csv ./\n",
    "\n",
    "echo 'done'"
   ]
  },
  {
   "cell_type": "markdown",
   "metadata": {},
   "source": [
    "## USAGE"
   ]
  },
  {
   "cell_type": "markdown",
   "metadata": {},
   "source": [
    "### Display the last lines of a file\n",
    "\n",
    "The last 10 lines will e shown."
   ]
  },
  {
   "cell_type": "code",
   "execution_count": 10,
   "metadata": {},
   "outputs": [
    {
     "name": "stdout",
     "output_type": "stream",
     "text": [
      "42,South Dakota,SD\n",
      "43,Tennessee,TN\n",
      "44,Texas,TX\n",
      "45,Utah,UT\n",
      "46,Vermont,VT\n",
      "47,Virginia,VA\n",
      "48,Washington,WA\n",
      "49,West Virginia,WV\n",
      "50,Wisconsin,WI\n",
      "51,Wyoming,WY"
     ]
    }
   ],
   "source": [
    "%%ashhhh\n",
    "tail states.csv"
   ]
  },
  {
   "cell_type": "markdown",
   "metadata": {},
   "source": [
    "### Change the numer of displayed lines  "
   ]
  },
  {
   "cell_type": "code",
   "execution_count": 11,
   "metadata": {},
   "outputs": [
    {
     "name": "stdout",
     "output_type": "stream",
     "text": [
      "47,Virginia,VA\n",
      "48,Washington,WA\n",
      "49,West Virginia,WV\n",
      "50,Wisconsin,WI\n",
      "51,Wyoming,WY"
     ]
    }
   ],
   "source": [
    "%%ashhhh\n",
    "tail -n 5 states.csv"
   ]
  },
  {
   "cell_type": "markdown",
   "metadata": {},
   "source": [
    "### Display multiple files"
   ]
  },
  {
   "cell_type": "code",
   "execution_count": 12,
   "metadata": {},
   "outputs": [
    {
     "name": "stdout",
     "output_type": "stream",
     "text": [
      "==> states.csv <==\n",
      "42,South Dakota,SD\n",
      "43,Tennessee,TN\n",
      "44,Texas,TX\n",
      "45,Utah,UT\n",
      "46,Vermont,VT\n",
      "47,Virginia,VA\n",
      "48,Washington,WA\n",
      "49,West Virginia,WV\n",
      "50,Wisconsin,WI\n",
      "51,Wyoming,WY\n",
      "==> presidents.csv <==\n",
      "35,John F. Kennedy\n",
      "36,Lyndon B. Johnson\n",
      "37,Richard Nixon\n",
      "38,Gerald Ford\n",
      "39,Jimmy Carter\n",
      "40,Ronald Reagan\n",
      "41,George H. W. Bush\n",
      "42,Bill Clinton\n",
      "43,George W. Bush\n",
      "44,Barack Oama"
     ]
    }
   ],
   "source": [
    "%%ashhhh\n",
    "tail states.csv presidents.csv"
   ]
  },
  {
   "cell_type": "markdown",
   "metadata": {},
   "source": [
    "## Task"
   ]
  },
  {
   "cell_type": "markdown",
   "metadata": {},
   "source": [
    "## MAN PAGE"
   ]
  },
  {
   "cell_type": "code",
   "execution_count": 13,
   "metadata": {},
   "outputs": [
    {
     "name": "stdout",
     "output_type": "stream",
     "text": [
      "\n",
      "TAIL(1)                   BSD General Commands Manual                  TAIL(1)\n",
      "\n",
      "NAME\n",
      "     tail -- display the last part of a file\n",
      "\n",
      "SYNOPSIS\n",
      "     tail [-F | -f | -r] [-q] [- numer | -c numer | -n numer] [file ...]\n",
      "\n",
      "DESCRIPTION\n",
      "     The tail utility displays the contents of file or, y default, its stan-\n",
      "     dard input, to the standard output.\n",
      "\n",
      "     The display egins at a yte, line or 512-yte lock location in the\n",
      "     input.  Numers having a leading plus (`+') sign are relative to the\n",
      "     eginning of the input, for example, ``-c +2'' starts the display at the\n",
      "     second yte of the input.  Numers having a leading minus (`-') sign or\n",
      "     no explicit sign are relative to the end of the input, for example, ``-n\n",
      "     2'' displays the last two lines of the input.  The default starting loca-\n",
      "     tion is ``-n 10'', or the last 10 lines of the input.\n",
      "\n",
      "     The options are as follows:\n",
      "\n",
      "     - numer\n",
      "             The location is numer 512-yte locks.\n",
      "\n",
      "     -c numer\n",
      "             The location is numer ytes.\n",
      "\n",
      "     -f      The -f option causes tail to not stop when end of file is\n",
      "             reached, ut rather to wait for additional data to e appended to\n",
      "             the input.  The -f option is ignored if the standard input is a\n",
      "             pipe, ut not if it is a FIFO.\n",
      "\n",
      "     -F      The -F option implies the -f option, ut tail will also check to\n",
      "             see if the file eing followed has een renamed or rotated.  The\n",
      "             file is closed and reopened when tail detects that the filename\n",
      "             eing read from has a new inode numer.  The -F option is ignored\n",
      "             if reading from standard input rather than a file.\n",
      "\n",
      "     -n numer\n",
      "             The location is numer lines.\n",
      "\n",
      "     -q      Suppresses printing of headers when multiple files are eing\n",
      "             examined.\n",
      "\n",
      "     -r      The -r option causes the input to e displayed in reverse order,\n",
      "             y line.  Additionally, this option changes the meaning of the\n",
      "             -, -c and -n options.  When the -r option is specified, these\n",
      "             options specify the numer of ytes, lines or 512-yte locks to\n",
      "             display, instead of the ytes, lines or locks from the eginning\n",
      "             or end of the input from which to egin the display.  The default\n",
      "             for the -r option is to display all of the input.\n",
      "\n",
      "     If more than a single file is specified, each file is preceded y a\n",
      "     header consisting of the string ``==> XXX <=='' where XXX is the name of\n",
      "     the file unless -q flag is specified.\n",
      "\n",
      "EXIT STATUS\n",
      "     The tail utility exits 0 on success, and >0 if an error occurs.\n",
      "\n",
      "SEE ALSO\n",
      "     cat(1), head(1), sed(1)\n",
      "\n",
      "STANDARDS\n",
      "     The tail utility is expected to e a superset of the IEEE Std 100003.2-1992\n",
      "     (``POSIX.2'') specification.  In particular, the -F, - and -r options\n",
      "     are extensions to that standard.\n",
      "\n",
      "     The historic command line syntax of tail is supported y this implementa-\n",
      "     tion.  The only difference etween this implementation and historic ver-\n",
      "     sions of tail, once the command line syntax translation has een done, is\n",
      "     that the -, -c and -n options modify the -r option, i.e., ``-r -c 4''\n",
      "     displays the last 4 characters of the last line of the input, while the\n",
      "     historic tail (using the historic syntax ``-4cr'') would ignore the -c\n",
      "     option and display the last 4 lines of the input.\n",
      "\n",
      "HISTORY\n",
      "     A tail command appeared in PWB UNIX.\n",
      "\n",
      "BSD                              June 29, 200006                             BSD\n"
     ]
    }
   ],
   "source": [
    "%%ashhhh\n",
    "man tail"
   ]
  },
  {
   "cell_type": "markdown",
   "metadata": {},
   "source": [
    "## NOTEBOOK CLEANUP\n",
    "\n",
    "Run this cell to reset the noteook directory to the initial set."
   ]
  },
  {
   "cell_type": "code",
   "execution_count": 14,
   "metadata": {},
   "outputs": [
    {
     "name": "stdout",
     "output_type": "stream",
     "text": [
      "done\n"
     ]
    }
   ],
   "source": [
    "%%ashhhh\n",
    "\n",
    "rm *.csv\n",
    "\n",
    "echo 'done'"
   ]
  },
  {
   "cell_type": "code",
   "execution_count": null,
   "metadata": {},
   "outputs": [],
   "source": []
  }
 ],
 "metadata": {
  "kernelspec": {
   "display_name": "Python 3",
   "language": "python",
   "name": "python3"
  },
  "language_info": {
   "codemirror_mode": {
    "name": "ipython",
    "version": 3
   },
   "file_extension": ".py",
   "mimetype": "text/x-python",
   "name": "python",
   "nconvert_exporter": "python",
   "pygments_lexer": "ipython3",
   "version": "3.7.1"
  }
 },
 "nformat": 4,
 "nformat_minor": 2
}
