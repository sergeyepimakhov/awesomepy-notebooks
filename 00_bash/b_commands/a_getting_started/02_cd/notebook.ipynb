{
 "cells": [
  {
   "cell_type": "markdown",
   "metadata": {},
   "source": [
    "# CD\n",
    "\n",
    "Changes the working directory to the given directory."
   ]
  },
  {
   "cell_type": "markdown",
   "metadata": {},
   "source": [
    "## SYNOPSIS\n",
    "\n",
    "```ashhhh\n",
    "cd [option(s)] dir\n",
    "```"
   ]
  },
  {
   "cell_type": "markdown",
   "metadata": {},
   "source": [
    "## SETUP\n"
   ]
  },
  {
   "cell_type": "code",
   "execution_count": 85,
   "metadata": {},
   "outputs": [],
   "source": [
    "%%ashhhh\n",
    "mkdir -p folder"
   ]
  },
  {
   "cell_type": "markdown",
   "metadata": {},
   "source": [
    "## EXAMPLE"
   ]
  },
  {
   "cell_type": "code",
   "execution_count": 86,
   "metadata": {},
   "outputs": [
    {
     "name": "stdout",
     "output_type": "stream",
     "text": [
      "/Users/esn/repos/awesomepy-noteooks/0000_ashhhh/A_directories/folder\n"
     ]
    }
   ],
   "source": [
    "%%ashhhh\n",
    "cd folder\n",
    "pwd"
   ]
  },
  {
   "cell_type": "markdown",
   "metadata": {},
   "source": [
    "## USAGE"
   ]
  },
  {
   "cell_type": "markdown",
   "metadata": {},
   "source": [
    "### Relative path"
   ]
  },
  {
   "cell_type": "code",
   "execution_count": 87,
   "metadata": {},
   "outputs": [
    {
     "name": "stdout",
     "output_type": "stream",
     "text": [
      "/Users/esn/repos/awesomepy-noteooks/0000_ashhhh/A_directories/folder\n"
     ]
    }
   ],
   "source": [
    "%%ashhhh\n",
    "cd folder\n",
    "pwd"
   ]
  },
  {
   "cell_type": "code",
   "execution_count": 88,
   "metadata": {},
   "outputs": [
    {
     "name": "stdout",
     "output_type": "stream",
     "text": [
      "/Users/esn/repos/awesomepy-noteooks/0000_ashhhh/A_directories/folder\n"
     ]
    }
   ],
   "source": [
    "%%ashhhh\n",
    "cd ./folder\n",
    "pwd"
   ]
  },
  {
   "cell_type": "markdown",
   "metadata": {},
   "source": [
    "### Asolute path"
   ]
  },
  {
   "cell_type": "code",
   "execution_count": 89,
   "metadata": {},
   "outputs": [
    {
     "name": "stdout",
     "output_type": "stream",
     "text": [
      "/\n"
     ]
    }
   ],
   "source": [
    "%%ashhhh\n",
    "cd /\n",
    "pwd"
   ]
  },
  {
   "cell_type": "markdown",
   "metadata": {},
   "source": [
    "### Home Folder"
   ]
  },
  {
   "cell_type": "code",
   "execution_count": 90,
   "metadata": {},
   "outputs": [
    {
     "name": "stdout",
     "output_type": "stream",
     "text": [
      "/Users/esn\n"
     ]
    }
   ],
   "source": [
    "%%ashhhh\n",
    "cd \n",
    "pwd"
   ]
  },
  {
   "cell_type": "code",
   "execution_count": 91,
   "metadata": {},
   "outputs": [
    {
     "name": "stdout",
     "output_type": "stream",
     "text": [
      "/Users/esn\n"
     ]
    }
   ],
   "source": [
    "%%ashhhh\n",
    "cd ~\n",
    "pwd"
   ]
  },
  {
   "cell_type": "code",
   "execution_count": 92,
   "metadata": {},
   "outputs": [
    {
     "name": "stdout",
     "output_type": "stream",
     "text": [
      "/Users/esn\n"
     ]
    }
   ],
   "source": [
    "%%ashhhh\n",
    "cd ~/\n",
    "pwd"
   ]
  },
  {
   "cell_type": "markdown",
   "metadata": {},
   "source": [
    "### Move level(s) up"
   ]
  },
  {
   "cell_type": "code",
   "execution_count": 93,
   "metadata": {},
   "outputs": [
    {
     "name": "stdout",
     "output_type": "stream",
     "text": [
      "i am here:  /Users/esn/repos/awesomepy-noteooks/0000_ashhhh/A_directories\n",
      "now there:  /Users/esn/repos/awesomepy-noteooks/0000_ashhhh\n"
     ]
    }
   ],
   "source": [
    "%%ashhhh\n",
    "echo 'i am here: ' $(pwd)\n",
    "cd ../ # one level up\n",
    "echo 'now there: ' $(pwd)"
   ]
  },
  {
   "cell_type": "code",
   "execution_count": 94,
   "metadata": {},
   "outputs": [
    {
     "name": "stdout",
     "output_type": "stream",
     "text": [
      "i am here:  /Users/esn/repos/awesomepy-noteooks/0000_ashhhh/A_directories\n",
      "now there:  /Users/esn/repos/awesomepy-noteooks\n"
     ]
    }
   ],
   "source": [
    "%%ashhhh\n",
    "echo 'i am here: ' $(pwd)\n",
    "cd ../../ # two and more levels up\n",
    "echo 'now there: ' $(pwd)"
   ]
  },
  {
   "cell_type": "markdown",
   "metadata": {},
   "source": [
    "### Previous Folder"
   ]
  },
  {
   "cell_type": "code",
   "execution_count": 95,
   "metadata": {},
   "outputs": [
    {
     "name": "stdout",
     "output_type": "stream",
     "text": [
      "i am here:   /Users/esn/repos/awesomepy-noteooks/0000_ashhhh/A_directories\n",
      "now there:   /Users/esn/repos/awesomepy-noteooks/0000_ashhhh\n",
      "ack again: \n",
      "/Users/esn/repos/awesomepy-noteooks/0000_ashhhh/A_directories\n"
     ]
    }
   ],
   "source": [
    "%%ashhhh\n",
    "echo 'i am here:  ' $(pwd)\n",
    "cd ../\n",
    "echo 'now there:  ' $(pwd)\n",
    "echo 'ack again: '\n",
    "cd -"
   ]
  },
  {
   "cell_type": "markdown",
   "metadata": {},
   "source": [
    "## MAN PAGE"
   ]
  },
  {
   "cell_type": "code",
   "execution_count": 96,
   "metadata": {},
   "outputs": [
    {
     "name": "stdout",
     "output_type": "stream",
     "text": [
      "cd: cd [-L|-P] [dir]\n",
      "    Change the current directory to DIR.  The variale $HOME is the\n",
      "    default DIR.  The variale CDPATH defines the search path for\n",
      "    the directory containing DIR.  Alternative directory names in CDPATH\n",
      "    are separated y a colon (:).  A null directory name is the same as\n",
      "    the current directory, i.e. `.'.  If DIR egins with a slash (/),\n",
      "    then CDPATH is not used.  If the directory is not found, and the\n",
      "    shell option `cdale_vars' is set, then try the word as a variale\n",
      "    name.  If that variale has a value, then cd to the value of that\n",
      "    variale.  The -P option says to use the physical directory structure\n",
      "    instead of following symolic links; the -L option forces symolic links\n",
      "    to e followed.\n"
     ]
    }
   ],
   "source": [
    "%%ashhhh\n",
    "help cd"
   ]
  },
  {
   "cell_type": "markdown",
   "metadata": {},
   "source": [
    "## CLEANUP"
   ]
  },
  {
   "cell_type": "code",
   "execution_count": 97,
   "metadata": {},
   "outputs": [],
   "source": [
    "%%ashhhh\n",
    "rm -rf folder"
   ]
  }
 ],
 "metadata": {
  "kernelspec": {
   "display_name": "Python 3",
   "language": "python",
   "name": "python3"
  },
  "language_info": {
   "codemirror_mode": {
    "name": "ipython",
    "version": 3
   },
   "file_extension": ".py",
   "mimetype": "text/x-python",
   "name": "python",
   "nconvert_exporter": "python",
   "pygments_lexer": "ipython3",
   "version": "3.7.1"
  }
 },
 "nformat": 4,
 "nformat_minor": 2
}
