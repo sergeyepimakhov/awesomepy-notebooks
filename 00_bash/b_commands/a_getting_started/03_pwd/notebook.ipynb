{
 "cells": [
  {
   "cell_type": "markdown",
   "metadata": {},
   "source": [
    "# PWD\n",
    "\n",
    "Displays current working directory"
   ]
  },
  {
   "cell_type": "markdown",
   "metadata": {},
   "source": [
    "## SYNOPSIS\n",
    "\n",
    "```ashhhh\n",
    "pwd [option(s)]\n",
    "```"
   ]
  },
  {
   "cell_type": "markdown",
   "metadata": {},
   "source": [
    "## EXAMPLE"
   ]
  },
  {
   "cell_type": "code",
   "execution_count": 3,
   "metadata": {},
   "outputs": [
    {
     "name": "stdout",
     "output_type": "stream",
     "text": [
      "/Users/esn/repos/awesomepy-noteooks/0000_ashhhh/01_directories\n"
     ]
    }
   ],
   "source": [
    "%%ashhhh\n",
    "pwd"
   ]
  },
  {
   "cell_type": "markdown",
   "metadata": {},
   "source": [
    "## USAGE"
   ]
  },
  {
   "cell_type": "code",
   "execution_count": 8,
   "metadata": {},
   "outputs": [
    {
     "name": "stdout",
     "output_type": "stream",
     "text": [
      "The current working directory /Users/esn/repos/awesomepy-noteooks/0000_ashhhh/01_directories.\n"
     ]
    }
   ],
   "source": [
    "%%ashhhh\n",
    "var=$(pwd)\n",
    "echo \"The current working directory $var.\""
   ]
  },
  {
   "cell_type": "markdown",
   "metadata": {},
   "source": [
    "## MAN PAGE"
   ]
  },
  {
   "cell_type": "code",
   "execution_count": 2,
   "metadata": {},
   "outputs": [
    {
     "name": "stdout",
     "output_type": "stream",
     "text": [
      "\n",
      "PWD(1)                    BSD General Commands Manual                   PWD(1)\n",
      "\n",
      "NAME\n",
      "     pwd -- return working directory name\n",
      "\n",
      "SYNOPSIS\n",
      "     pwd [-L | -P]\n",
      "\n",
      "DESCRIPTION\n",
      "     The pwd utility writes the asolute pathname of the current working\n",
      "     directory to the standard output.\n",
      "\n",
      "     Some shells may provide a uiltin pwd command which is similar or identi-\n",
      "     cal to this utility.  Consult the uiltin(1) manual page.\n",
      "\n",
      "     The options are as follows:\n",
      "\n",
      "     -L      Display the logical current working directory.\n",
      "\n",
      "     -P      Display the physical current working directory (all symolic\n",
      "             links resolved).\n",
      "\n",
      "     If no options are specified, the -L option is assumed.\n",
      "\n",
      "ENVIRONMENT\n",
      "     Environment variales used y pwd:\n",
      "\n",
      "     PWD  Logical current working directory.\n",
      "\n",
      "EXIT STATUS\n",
      "     The pwd utility exits 0 on success, and >0 if an error occurs.\n",
      "\n",
      "SEE ALSO\n",
      "     uiltin(1), cd(1), csh(1), sh(1), getcwd(3)\n",
      "\n",
      "STANDARDS\n",
      "     The pwd utility conforms to IEEE Std 100003.1-200001 (``POSIX.1'').\n",
      "\n",
      "BUGS\n",
      "     In csh(1) the command dirs is always faster ecause it is uilt into that\n",
      "     shell.  However, it can give a different answer in the rare case that the\n",
      "     current directory or a containing directory was moved after the shell\n",
      "     descended into it.\n",
      "\n",
      "     The -L option does not work unless the PWD environment variale is\n",
      "     exported y the shell.\n",
      "\n",
      "BSD                             April 12, 200003                             BSD\n"
     ]
    }
   ],
   "source": [
    "%%ashhhh\n",
    "man pwd"
   ]
  },
  {
   "cell_type": "code",
   "execution_count": null,
   "metadata": {},
   "outputs": [],
   "source": []
  }
 ],
 "metadata": {
  "kernelspec": {
   "display_name": "Python 3",
   "language": "python",
   "name": "python3"
  },
  "language_info": {
   "codemirror_mode": {
    "name": "ipython",
    "version": 3
   },
   "file_extension": ".py",
   "mimetype": "text/x-python",
   "name": "python",
   "nconvert_exporter": "python",
   "pygments_lexer": "ipython3",
   "version": "3.7.1"
  }
 },
 "nformat": 4,
 "nformat_minor": 2
}
