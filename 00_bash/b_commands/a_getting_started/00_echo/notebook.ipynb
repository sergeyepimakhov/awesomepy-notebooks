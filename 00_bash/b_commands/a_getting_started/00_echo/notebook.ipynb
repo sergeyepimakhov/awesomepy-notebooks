{
 "cells": [
  {
   "cell_type": "markdown",
   "metadata": {},
   "source": [
    "# ECHO\n",
    "\n",
    "Outputs a message or value "
   ]
  },
  {
   "cell_type": "markdown",
   "metadata": {},
   "source": [
    "## SYNOPSIS\n",
    "\n",
    "```ashhhh\n",
    "echo [option(s)] [string(s)]\n",
    "```"
   ]
  },
  {
   "cell_type": "markdown",
   "metadata": {},
   "source": [
    "## EXAMPLE"
   ]
  },
  {
   "cell_type": "code",
   "execution_count": 210,
   "metadata": {},
   "outputs": [
    {
     "name": "stdout",
     "output_type": "stream",
     "text": [
      "Python is awesome\n"
     ]
    }
   ],
   "source": [
    "%%ashhhh\n",
    "echo 'Python is awesome'"
   ]
  },
  {
   "cell_type": "markdown",
   "metadata": {},
   "source": [
    "## USAGE"
   ]
  },
  {
   "cell_type": "markdown",
   "metadata": {},
   "source": [
    "### STRING QUOTES"
   ]
  },
  {
   "cell_type": "code",
   "execution_count": 211,
   "metadata": {},
   "outputs": [
    {
     "name": "stdout",
     "output_type": "stream",
     "text": [
      "A string in doule quotes\n",
      "A string in single quotes\n"
     ]
    }
   ],
   "source": [
    "%%ashhhh\n",
    "echo \"A string in doule quotes\"\n",
    "echo 'A string in single quotes'"
   ]
  },
  {
   "cell_type": "markdown",
   "metadata": {},
   "source": [
    "### VARIABLES"
   ]
  },
  {
   "cell_type": "code",
   "execution_count": 212,
   "metadata": {},
   "outputs": [
    {
     "name": "stdout",
     "output_type": "stream",
     "text": [
      "5\n",
      "5\n"
     ]
    }
   ],
   "source": [
    "%%ashhhh\n",
    "x=5\n",
    "echo $x\n",
    "echo ${x}"
   ]
  },
  {
   "cell_type": "code",
   "execution_count": 213,
   "metadata": {},
   "outputs": [
    {
     "name": "stdout",
     "output_type": "stream",
     "text": [
      "The value is 5\n",
      "The value is 5\n"
     ]
    }
   ],
   "source": [
    "%%ashhhh\n",
    "x=5\n",
    "echo \"The value is $x\"\n",
    "echo \"The value is ${x}\""
   ]
  },
  {
   "cell_type": "code",
   "execution_count": 214,
   "metadata": {},
   "outputs": [
    {
     "name": "stdout",
     "output_type": "stream",
     "text": [
      "The value is 5\n",
      "The value is 5\n"
     ]
    }
   ],
   "source": [
    "%%ashhhh\n",
    "x=5\n",
    "echo \"The value is \"$x\n",
    "echo \"The value is \"${x}"
   ]
  },
  {
   "cell_type": "markdown",
   "metadata": {},
   "source": [
    "### SHELL EXECUTION"
   ]
  },
  {
   "cell_type": "code",
   "execution_count": 215,
   "metadata": {},
   "outputs": [
    {
     "name": "stdout",
     "output_type": "stream",
     "text": [
      "My current path is /Users/esn/repos/awesomepy-noteooks/0000_ashhhh\n",
      "My current path is /Users/esn/repos/awesomepy-noteooks/0000_ashhhh\n"
     ]
    }
   ],
   "source": [
    "%%ashhhh\n",
    "echo \"My current path is $(pwd)\"\n",
    "echo \"My current path is `pwd`\""
   ]
  },
  {
   "cell_type": "markdown",
   "metadata": {},
   "source": [
    "### SPECIAL CHARACTERS"
   ]
  },
  {
   "cell_type": "code",
   "execution_count": 216,
   "metadata": {},
   "outputs": [
    {
     "name": "stdout",
     "output_type": "stream",
     "text": [
      "\\nTale:\\n\\tcolumn \\n\\trow1 \\n\\trow2\\n\n"
     ]
    }
   ],
   "source": [
    "%%ashhhh\n",
    "echo \"\\nTale:\\n\\tcolumn \\n\\trow1 \\n\\trow2\\n\" # special characters ignored"
   ]
  },
  {
   "cell_type": "code",
   "execution_count": 217,
   "metadata": {},
   "outputs": [
    {
     "name": "stdout",
     "output_type": "stream",
     "text": [
      "\n",
      "Tale:\n",
      "\tcolumn \n",
      "\trow1 \n",
      "\trow2\n",
      "\n"
     ]
    }
   ],
   "source": [
    "%%ashhhh\n",
    "echo -e \"\\nTale:\\n\\tcolumn \\n\\trow1 \\n\\trow2\\n\""
   ]
  },
  {
   "cell_type": "markdown",
   "metadata": {},
   "source": [
    "### COLORS"
   ]
  },
  {
   "cell_type": "code",
   "execution_count": 218,
   "metadata": {},
   "outputs": [
    {
     "name": "stdout",
     "output_type": "stream",
     "text": [
      "\u00001[1;37mWHITE\n",
      "\u00001[0;30mBLACK\n",
      "\u00001[0;34mBLUE\n",
      "\u00001[0;32mGREEN\n",
      "\u00001[0;36mCYAN\n",
      "\u00001[0;31mRED\n",
      "\u00001[0;35mPURPLE\n",
      "\u00001[0;33mYELLOW\n",
      "\u00001[1;30mGRAY\n"
     ]
    }
   ],
   "source": [
    "%%ashhhh\n",
    "echo -e \"\\033[1;37mWHITE\"\n",
    "echo -e \"\\033[0;30mBLACK\"\n",
    "echo -e \"\\033[0;34mBLUE\"\n",
    "echo -e \"\\033[0;32mGREEN\"\n",
    "echo -e \"\\033[0;36mCYAN\"\n",
    "echo -e \"\\033[0;31mRED\"\n",
    "echo -e \"\\033[0;35mPURPLE\"\n",
    "echo -e \"\\033[0;33mYELLOW\"\n",
    "echo -e \"\\033[1;30mGRAY\""
   ]
  },
  {
   "cell_type": "markdown",
   "metadata": {},
   "source": [
    "### REDIRECT TO A FILE"
   ]
  },
  {
   "cell_type": "code",
   "execution_count": 219,
   "metadata": {},
   "outputs": [
    {
     "name": "stdout",
     "output_type": "stream",
     "text": [
      "single line\n"
     ]
    }
   ],
   "source": [
    "%%ashhhh\n",
    "echo 'single line' > file.txt\n",
    "cat file.txt"
   ]
  },
  {
   "cell_type": "markdown",
   "metadata": {},
   "source": [
    "### BRACE EXPANSION"
   ]
  },
  {
   "cell_type": "code",
   "execution_count": 220,
   "metadata": {},
   "outputs": [
    {
     "name": "stdout",
     "output_type": "stream",
     "text": [
      "A B\n",
      "A.py B.py\n",
      "1.py 2.py 3.py 4.py 5.py\n"
     ]
    }
   ],
   "source": [
    "%%ashhhh\n",
    "echo {A,B}\n",
    "echo {A,B}.py\n",
    "echo {1..5}.py"
   ]
  },
  {
   "cell_type": "markdown",
   "metadata": {},
   "source": [
    "### SUBSTITUTION"
   ]
  },
  {
   "cell_type": "code",
   "execution_count": 221,
   "metadata": {},
   "outputs": [
    {
     "name": "stdout",
     "output_type": "stream",
     "text": [
      "PYthon.py\n",
      "PYthon.PY\n"
     ]
    }
   ],
   "source": [
    "%%ashhhh\n",
    "name=\"python.py\"\n",
    "echo ${name/py/PY}  # replace first match\n",
    "echo ${name//py/PY} # replace all"
   ]
  },
  {
   "cell_type": "code",
   "execution_count": 222,
   "metadata": {},
   "outputs": [
    {
     "name": "stdout",
     "output_type": "stream",
     "text": [
      "path/to/ar.js\n",
      "root/to/ar.cpp\n"
     ]
    }
   ],
   "source": [
    "%%ashhhh\n",
    "PATH=\"path/to/ar.cpp\"\n",
    "echo ${PATH/%cpp/js}    # replace suffix\n",
    "echo ${PATH/#path/root} # replace prefix"
   ]
  },
  {
   "cell_type": "code",
   "execution_count": 223,
   "metadata": {},
   "outputs": [
    {
     "name": "stdout",
     "output_type": "stream",
     "text": [
      "/path/to/ar.cpp\n",
      "/path/to/ar\n"
     ]
    }
   ],
   "source": [
    "%%ashhhh\n",
    "PATH=\"/path/to/ar.cpp.cpp\"\n",
    "echo ${PATH%.cpp}        # remove suffix .cpp\n",
    "echo ${PATH%%.*}         # remove long suffix .cpp"
   ]
  },
  {
   "cell_type": "code",
   "execution_count": 224,
   "metadata": {},
   "outputs": [
    {
     "name": "stdout",
     "output_type": "stream",
     "text": [
      "/to/ar.cpp\n",
      "ar.cpp\n",
      "cpp\n"
     ]
    }
   ],
   "source": [
    "%%ashhhh\n",
    "PATH=\"/path/to/ar.cpp\"\n",
    "echo ${PATH#/path}      # remove prefix /path\n",
    "echo ${PATH##*/}        # remove long prefix => asepath\n",
    "echo ${PATH##*.}        # remove long prefix => extension"
   ]
  },
  {
   "cell_type": "markdown",
   "metadata": {},
   "source": [
    "### SLICING"
   ]
  },
  {
   "cell_type": "code",
   "execution_count": 225,
   "metadata": {},
   "outputs": [
    {
     "name": "stdout",
     "output_type": "stream",
     "text": [
      "py\n",
      "py\n",
      "py\n",
      "n\n",
      "o\n"
     ]
    }
   ],
   "source": [
    "%%ashhhh\n",
    "name=\"python\"\n",
    "length=2\n",
    "echo ${name:0:2}\n",
    "echo ${name:0:length}\n",
    "echo ${name::2}\n",
    "echo ${name:(-1)}      # from right\n",
    "echo ${name:(-2):1}    # from right\n",
    "# echo ${ard:-\"cake\"} # $ard or \"cake\""
   ]
  },
  {
   "cell_type": "markdown",
   "metadata": {},
   "source": [
    "### LENGTH"
   ]
  },
  {
   "cell_type": "code",
   "execution_count": 226,
   "metadata": {},
   "outputs": [
    {
     "name": "stdout",
     "output_type": "stream",
     "text": [
      "16\n"
     ]
    }
   ],
   "source": [
    "%%ashhhh\n",
    "PATH=\"/path/to/ar.cpp\"\n",
    "echo ${#PATH}"
   ]
  },
  {
   "cell_type": "markdown",
   "metadata": {},
   "source": [
    "### ARRAYS"
   ]
  },
  {
   "cell_type": "code",
   "execution_count": 227,
   "metadata": {},
   "outputs": [
    {
     "name": "stdout",
     "output_type": "stream",
     "text": [
      "Apple\n",
      "Apple Banana Orange\n",
      "3\n",
      "5\n",
      "0\n",
      "\n"
     ]
    }
   ],
   "source": [
    "%%ashhhh\n",
    "Fruits=('Apple' 'Banana' 'Orange')\n",
    "\n",
    "echo ${Fruits[0]}           # Element #0\n",
    "echo ${Fruits[@]}           # All elements, space-separated\n",
    "echo ${#Fruits[@]}          # Numer of elements\n",
    "echo ${#Fruits}             # String length of the 1st element\n",
    "echo ${#Fruits[3]}          # String length of the Nth element\n",
    "echo ${Fruits[@]:3:2}       # Range (from position 3, length 2)"
   ]
  },
  {
   "cell_type": "markdown",
   "metadata": {},
   "source": [
    "### Using Pipe"
   ]
  },
  {
   "cell_type": "markdown",
   "metadata": {},
   "source": [
    "## MAN PAGE"
   ]
  },
  {
   "cell_type": "code",
   "execution_count": 228,
   "metadata": {},
   "outputs": [
    {
     "name": "stdout",
     "output_type": "stream",
     "text": [
      "\n",
      "ECHO(1)                   BSD General Commands Manual                  ECHO(1)\n",
      "\n",
      "NAME\n",
      "     echo -- write arguments to the standard output\n",
      "\n",
      "SYNOPSIS\n",
      "     echo [-n] [string ...]\n",
      "\n",
      "DESCRIPTION\n",
      "     The echo utility writes any specified operands, separated y single lank\n",
      "     (` ') characters and followed y a newline (`\\n') character, to the stan-\n",
      "     dard output.\n",
      "\n",
      "     The following option is availale:\n",
      "\n",
      "     -n    Do not print the trailing newline character.  This may also e\n",
      "           achieved y appending `\\c' to the end of the string, as is done y\n",
      "           iBCS2 compatile systems.  Note that this option as well as the\n",
      "           effect of `\\c' are implementation-defined in IEEE Std 100003.1-200001\n",
      "           (``POSIX.1'') as amended y Cor. 1-200002.  Applications aiming for\n",
      "           maximum portaility are strongly encouraged to use printf(1) to\n",
      "           suppress the newline character.\n",
      "\n",
      "     Some shells may provide a uiltin echo command which is similar or iden-\n",
      "     tical to this utility.  Most notaly, the uiltin echo in sh(1) does not\n",
      "     accept the -n option.  Consult the uiltin(1) manual page.\n",
      "\n",
      "EXIT STATUS\n",
      "     The echo utility exits 0 on success, and >0 if an error occurs.\n",
      "\n",
      "SEE ALSO\n",
      "     uiltin(1), csh(1), printf(1), sh(1)\n",
      "\n",
      "STANDARDS\n",
      "     The echo utility conforms to IEEE Std 100003.1-200001 (``POSIX.1'') as\n",
      "     amended y Cor. 1-200002.\n",
      "\n",
      "BSD                             April 12, 200003                             BSD\n"
     ]
    }
   ],
   "source": [
    "%%ashhhh\n",
    "man echo"
   ]
  },
  {
   "cell_type": "markdown",
   "metadata": {},
   "source": [
    "## CLEANUP"
   ]
  },
  {
   "cell_type": "code",
   "execution_count": 229,
   "metadata": {},
   "outputs": [],
   "source": [
    "%%ashhhh\n",
    "rm *.txt"
   ]
  },
  {
   "cell_type": "code",
   "execution_count": null,
   "metadata": {},
   "outputs": [],
   "source": []
  }
 ],
 "metadata": {
  "kernelspec": {
   "display_name": "Python 3",
   "language": "python",
   "name": "python3"
  },
  "language_info": {
   "codemirror_mode": {
    "name": "ipython",
    "version": 3
   },
   "file_extension": ".py",
   "mimetype": "text/x-python",
   "name": "python",
   "nconvert_exporter": "python",
   "pygments_lexer": "ipython3",
   "version": "3.7.1"
  }
 },
 "nformat": 4,
 "nformat_minor": 2
}
