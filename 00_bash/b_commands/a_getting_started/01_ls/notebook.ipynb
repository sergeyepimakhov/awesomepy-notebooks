{
 "cells": [
  {
   "cell_type": "markdown",
   "metadata": {},
   "source": [
    "# LS\n",
    "\n",
    "List files in a directory"
   ]
  },
  {
   "cell_type": "markdown",
   "metadata": {},
   "source": [
    "## SYNOPSIS\n",
    "\n",
    "```ashhhh\n",
    "ls [option(s)] [file(s)|dir]\n",
    "```"
   ]
  },
  {
   "cell_type": "markdown",
   "metadata": {},
   "source": [
    "## SETUP"
   ]
  },
  {
   "cell_type": "code",
   "execution_count": 10000,
   "metadata": {},
   "outputs": [],
   "source": [
    "%%ashhhh\n",
    "mkdir -p folder\n",
    "touch folder/file1.txt\n",
    "touch folder/file2.txt\n",
    "touch folder/file3.txt\n",
    "touch folder/photo.img\n",
    "touch folder/.hidden_file\n",
    "\n",
    "mkdir -p folder/sufolder\n",
    "touch folder/sufolder/sufile1.txt\n",
    "touch folder/sufolder/sufile2.txt\n",
    "touch folder/sufolder/sufile3.txt"
   ]
  },
  {
   "cell_type": "markdown",
   "metadata": {},
   "source": [
    "## EXAMPLE"
   ]
  },
  {
   "cell_type": "code",
   "execution_count": 81,
   "metadata": {},
   "outputs": [
    {
     "name": "stdout",
     "output_type": "stream",
     "text": [
      "file1.txt\n",
      "file2.txt\n",
      "file3.txt\n",
      "photo.img\n",
      "sufolder\n"
     ]
    }
   ],
   "source": [
    "%%ashhhh\n",
    "ls ./folder"
   ]
  },
  {
   "cell_type": "markdown",
   "metadata": {},
   "source": [
    "## USAGE"
   ]
  },
  {
   "cell_type": "markdown",
   "metadata": {},
   "source": [
    "### List directory with relative path"
   ]
  },
  {
   "cell_type": "code",
   "execution_count": 82,
   "metadata": {},
   "outputs": [
    {
     "name": "stdout",
     "output_type": "stream",
     "text": [
      "file1.txt\n",
      "file2.txt\n",
      "file3.txt\n",
      "photo.img\n",
      "sufolder\n"
     ]
    }
   ],
   "source": [
    "%%ashhhh\n",
    "ls ./folder"
   ]
  },
  {
   "cell_type": "code",
   "execution_count": 83,
   "metadata": {},
   "outputs": [
    {
     "name": "stdout",
     "output_type": "stream",
     "text": [
      "file1.txt\n",
      "file2.txt\n",
      "file3.txt\n",
      "photo.img\n",
      "sufolder\n"
     ]
    }
   ],
   "source": [
    "%%ashhhh\n",
    "ls folder"
   ]
  },
  {
   "cell_type": "markdown",
   "metadata": {},
   "source": [
    "### List directory with asolute path"
   ]
  },
  {
   "cell_type": "code",
   "execution_count": 84,
   "metadata": {},
   "outputs": [
    {
     "name": "stdout",
     "output_type": "stream",
     "text": [
      "Applications\n",
      "Lirary\n",
      "System\n",
      "Users\n",
      "Volumes\n",
      "in\n",
      "cores\n",
      "dev\n",
      "etc\n",
      "home\n",
      "opt\n",
      "private\n",
      "sin\n",
      "tmp\n",
      "usr\n",
      "var\n"
     ]
    }
   ],
   "source": [
    "%%ashhhh\n",
    "ls /"
   ]
  },
  {
   "cell_type": "markdown",
   "metadata": {},
   "source": [
    "### List all sudirectories "
   ]
  },
  {
   "cell_type": "code",
   "execution_count": 85,
   "metadata": {},
   "outputs": [
    {
     "name": "stdout",
     "output_type": "stream",
     "text": [
      "./folder/file1.txt\n",
      "./folder/file2.txt\n",
      "./folder/file3.txt\n",
      "./folder/photo.img\n",
      "\n",
      "./folder/sufolder:\n",
      "sufile1.txt\n",
      "sufile2.txt\n",
      "sufile3.txt\n"
     ]
    }
   ],
   "source": [
    "%%ashhhh\n",
    "ls ./folder/*"
   ]
  },
  {
   "cell_type": "markdown",
   "metadata": {},
   "source": [
    "### List user's home directory"
   ]
  },
  {
   "cell_type": "code",
   "execution_count": 86,
   "metadata": {},
   "outputs": [
    {
     "name": "stdout",
     "output_type": "stream",
     "text": [
      "Applications\n",
      "Desktop\n",
      "Documents\n",
      "Downloads\n",
      "Lirary\n",
      "Movies\n",
      "Music\n",
      "PB-arrays-loops.undle\n",
      "PB-arrays-pt3.undle\n",
      "Pictures\n",
      "Postman\n",
      "Pulic\n",
      "TD_Dyps_ETL.dsn\n",
      "Untitled.ipyn\n",
      "anaconda3\n",
      "archart.png\n",
      "dci\n",
      "degussa_2020-02-11T20_04_47.csv\n",
      "degussa_analysis.ipyn\n",
      "otto\n",
      "playground\n",
      "repos\n",
      "test.pdf\n"
     ]
    }
   ],
   "source": [
    "%%ashhhh\n",
    "ls ~/"
   ]
  },
  {
   "cell_type": "markdown",
   "metadata": {},
   "source": [
    "### List specific files in folder"
   ]
  },
  {
   "cell_type": "code",
   "execution_count": 87,
   "metadata": {},
   "outputs": [
    {
     "name": "stdout",
     "output_type": "stream",
     "text": [
      "folder/file1.txt\n",
      "folder/file2.txt\n",
      "folder/file3.txt\n"
     ]
    }
   ],
   "source": [
    "%%ashhhh\n",
    "ls folder/*.txt"
   ]
  },
  {
   "cell_type": "markdown",
   "metadata": {},
   "source": [
    "### List with long format"
   ]
  },
  {
   "cell_type": "code",
   "execution_count": 88,
   "metadata": {},
   "outputs": [
    {
     "name": "stdout",
     "output_type": "stream",
     "text": [
      "total 0\n",
      "-rw-r--r--  1 esn  staff    0 Apr  5 11:02 file1.txt\n",
      "-rw-r--r--  1 esn  staff    0 Apr  5 11:02 file2.txt\n",
      "-rw-r--r--  1 esn  staff    0 Apr  5 11:02 file3.txt\n",
      "-rw-r--r--  1 esn  staff    0 Apr  5 11:02 photo.img\n",
      "drwxr-xr-x  5 esn  staff  160 Apr  5 10:48 sufolder\n"
     ]
    }
   ],
   "source": [
    "%%ashhhh\n",
    "ls -l ./folder"
   ]
  },
  {
   "cell_type": "markdown",
   "metadata": {},
   "source": [
    "### Command ll\n",
    "\n",
    "ll is an alias for ls -l"
   ]
  },
  {
   "cell_type": "markdown",
   "metadata": {},
   "source": [
    "### Show hidden files"
   ]
  },
  {
   "cell_type": "code",
   "execution_count": 89,
   "metadata": {},
   "outputs": [
    {
     "name": "stdout",
     "output_type": "stream",
     "text": [
      "total 0\n",
      "drwxr-xr-x  8 esn  staff  256 Apr  5 10:48 .\n",
      "drwxr-xr-x  6 esn  staff  192 Apr  5 11:01 ..\n",
      "-rw-r--r--  1 esn  staff    0 Apr  5 11:02 .hidden_file\n",
      "-rw-r--r--  1 esn  staff    0 Apr  5 11:02 file1.txt\n",
      "-rw-r--r--  1 esn  staff    0 Apr  5 11:02 file2.txt\n",
      "-rw-r--r--  1 esn  staff    0 Apr  5 11:02 file3.txt\n",
      "-rw-r--r--  1 esn  staff    0 Apr  5 11:02 photo.img\n",
      "drwxr-xr-x  5 esn  staff  160 Apr  5 10:48 sufolder\n"
     ]
    }
   ],
   "source": [
    "%%ashhhh\n",
    "ls -la ./folder"
   ]
  },
  {
   "cell_type": "markdown",
   "metadata": {},
   "source": [
    "### Show hidden files except . and .. "
   ]
  },
  {
   "cell_type": "code",
   "execution_count": 90,
   "metadata": {},
   "outputs": [
    {
     "name": "stdout",
     "output_type": "stream",
     "text": [
      "total 0\n",
      "-rw-r--r--  1 esn  staff    0 Apr  5 11:02 .hidden_file\n",
      "-rw-r--r--  1 esn  staff    0 Apr  5 11:02 file1.txt\n",
      "-rw-r--r--  1 esn  staff    0 Apr  5 11:02 file2.txt\n",
      "-rw-r--r--  1 esn  staff    0 Apr  5 11:02 file3.txt\n",
      "-rw-r--r--  1 esn  staff    0 Apr  5 11:02 photo.img\n",
      "drwxr-xr-x  5 esn  staff  160 Apr  5 10:48 \u00001[1m\u00001[34msufolder\u00001[m\u00001[m/\n"
     ]
    }
   ],
   "source": [
    "ls -lA ./folder"
   ]
  },
  {
   "cell_type": "markdown",
   "metadata": {},
   "source": [
    "### Sort y modification time"
   ]
  },
  {
   "cell_type": "code",
   "execution_count": 91,
   "metadata": {},
   "outputs": [
    {
     "name": "stdout",
     "output_type": "stream",
     "text": [
      "total 0\n",
      "-rw-r--r--  1 esn  staff    0 Apr  5 11:02 .hidden_file\n",
      "-rw-r--r--  1 esn  staff    0 Apr  5 11:02 photo.img\n",
      "-rw-r--r--  1 esn  staff    0 Apr  5 11:02 file3.txt\n",
      "-rw-r--r--  1 esn  staff    0 Apr  5 11:02 file2.txt\n",
      "-rw-r--r--  1 esn  staff    0 Apr  5 11:02 file1.txt\n",
      "drwxr-xr-x  5 esn  staff  160 Apr  5 10:48 sufolder\n"
     ]
    }
   ],
   "source": [
    "%%ashhhh\n",
    "ls -lAt ./folder"
   ]
  },
  {
   "cell_type": "markdown",
   "metadata": {},
   "source": [
    "### Sort y file size"
   ]
  },
  {
   "cell_type": "code",
   "execution_count": 92,
   "metadata": {},
   "outputs": [
    {
     "name": "stdout",
     "output_type": "stream",
     "text": [
      "total 0\n",
      "drwxr-xr-x  5 esn  staff  160 Apr  5 10:48 sufolder\n",
      "-rw-r--r--  1 esn  staff    0 Apr  5 11:02 .hidden_file\n",
      "-rw-r--r--  1 esn  staff    0 Apr  5 11:02 file1.txt\n",
      "-rw-r--r--  1 esn  staff    0 Apr  5 11:02 file2.txt\n",
      "-rw-r--r--  1 esn  staff    0 Apr  5 11:02 file3.txt\n",
      "-rw-r--r--  1 esn  staff    0 Apr  5 11:02 photo.img\n"
     ]
    }
   ],
   "source": [
    "%%ashhhh\n",
    "ls -lAS ./folder"
   ]
  },
  {
   "cell_type": "markdown",
   "metadata": {},
   "source": [
    "### Human readale size"
   ]
  },
  {
   "cell_type": "code",
   "execution_count": 106,
   "metadata": {},
   "outputs": [
    {
     "name": "stdout",
     "output_type": "stream",
     "text": [
      "total 0\n",
      "-rw-r--r--  1 esn  staff     0B Apr  5 11:03 .hidden_file\n",
      "-rw-r--r--  1 esn  staff     0B Apr  5 11:03 file1.txt\n",
      "-rw-r--r--  1 esn  staff     0B Apr  5 11:03 file2.txt\n",
      "-rw-r--r--  1 esn  staff     0B Apr  5 11:03 file3.txt\n",
      "-rw-r--r--  1 esn  staff     0B Apr  5 11:03 photo.img\n",
      "drwxr-xr-x  5 esn  staff   160B Apr  5 11:03 sufolder\n"
     ]
    }
   ],
   "source": [
    "%%ashhhh\n",
    "ls -lAh ./folder"
   ]
  },
  {
   "cell_type": "markdown",
   "metadata": {},
   "source": [
    "### Sort in reverse order"
   ]
  },
  {
   "cell_type": "code",
   "execution_count": 110,
   "metadata": {},
   "outputs": [
    {
     "name": "stdout",
     "output_type": "stream",
     "text": [
      "total 0\n",
      "-rw-r--r--  1 esn  staff    0 Apr  5 11:03 photo.img\n",
      "-rw-r--r--  1 esn  staff    0 Apr  5 11:03 file3.txt\n",
      "-rw-r--r--  1 esn  staff    0 Apr  5 11:03 file2.txt\n",
      "-rw-r--r--  1 esn  staff    0 Apr  5 11:03 file1.txt\n",
      "-rw-r--r--  1 esn  staff    0 Apr  5 11:03 .hidden_file\n",
      "drwxr-xr-x  5 esn  staff  160 Apr  5 11:03 sufolder\n"
     ]
    }
   ],
   "source": [
    "%%ashhhh\n",
    "ls -lASr ./folder"
   ]
  },
  {
   "cell_type": "markdown",
   "metadata": {},
   "source": [
    "## MAN PAGE"
   ]
  },
  {
   "cell_type": "code",
   "execution_count": 95,
   "metadata": {},
   "outputs": [
    {
     "name": "stdout",
     "output_type": "stream",
     "text": [
      "\n",
      "LS(1)                     BSD General Commands Manual                    LS(1)\n",
      "\n",
      "NAME\n",
      "     ls -- list directory contents\n",
      "\n",
      "SYNOPSIS\n",
      "     ls [-ABCFGHLOPRSTUW@acdefghiklmnopqrstuwx1%] [file ...]\n",
      "\n",
      "DESCRIPTION\n",
      "     For each operand that names a file of a type other than directory, ls\n",
      "     displays its name as well as any requested, associated information.  For\n",
      "     each operand that names a file of type directory, ls displays the names\n",
      "     of files contained within that directory, as well as any requested, asso-\n",
      "     ciated information.\n",
      "\n",
      "     If no operands are given, the contents of the current directory are dis-\n",
      "     played.  If more than one operand is given, non-directory operands are\n",
      "     displayed first; directory and non-directory operands are sorted sepa-\n",
      "     rately and in lexicographical order.\n",
      "\n",
      "     The following options are availale:\n",
      "\n",
      "     -@      Display extended attriute keys and sizes in long (-l) output.\n",
      "\n",
      "     -1      (The numeric digit ``one''.)  Force output to e one entry per\n",
      "             line.  This is the default when output is not to a terminal.\n",
      "\n",
      "     -A      List all entries except for . and ...  Always set for the super-\n",
      "             user.\n",
      "\n",
      "     -a      Include directory entries whose names egin with a dot (.).\n",
      "\n",
      "     -B      Force printing of non-printale characters (as defined y\n",
      "             ctype(3) and current locale settings) in file names as \\xxx,\n",
      "             where xxx is the numeric value of the character in octal.\n",
      "\n",
      "     -      As -B, ut use C escape codes whenever possile.\n",
      "\n",
      "     -C      Force multi-column output; this is the default when output is to\n",
      "             a terminal.\n",
      "\n",
      "     -c      Use time when file status was last changed for sorting (-t) or\n",
      "             long printing (-l).\n",
      "\n",
      "     -d      Directories are listed as plain files (not searched recursively).\n",
      "\n",
      "     -e      Print the Access Control List (ACL) associated with the file, if\n",
      "             present, in long (-l) output.\n",
      "\n",
      "     -F      Display a slash (`/') immediately after each pathname that is a\n",
      "             directory, an asterisk (`*') after each that is executale, an at\n",
      "             sign (`@') after each symolic link, an equals sign (`=') after\n",
      "             each socket, a percent sign (`%') after each whiteout, and a ver-\n",
      "             tical ar (`|') after each that is a FIFO.\n",
      "\n",
      "     -f      Output is not sorted.  This option turns on the -a option.\n",
      "\n",
      "     -G      Enale colorized output.  This option is equivalent to defining\n",
      "             CLICOLOR in the environment.  (See elow.)\n",
      "\n",
      "     -g      This option is only availale for compatiility with POSIX; it is\n",
      "             used to display the group name in the long (-l) format output\n",
      "             (the owner name is suppressed).\n",
      "\n",
      "     -H      Symolic links on the command line are followed.  This option is\n",
      "             assumed if none of the -F, -d, or -l options are specified.\n",
      "\n",
      "     -h      When used with the -l option, use unit suffixes: Byte, Kiloyte,\n",
      "             Megayte, Gigayte, Terayte and Petayte in order to reduce the\n",
      "             numer of digits to three or less using ase 2 for sizes.\n",
      "\n",
      "     -i      For each file, print the file's file serial numer (inode num-\n",
      "             er).\n",
      "\n",
      "     -k      If the -s option is specified, print the file size allocation in\n",
      "             kiloytes, not locks.  This option overrides the environment\n",
      "             variale BLOCKSIZE.\n",
      "\n",
      "     -L      Follow all symolic links to final target and list the file or\n",
      "             directory the link references rather than the link itself.  This\n",
      "             option cancels the -P option.\n",
      "\n",
      "     -l      (The lowercase letter ``ell''.)  List in long format.  (See\n",
      "             elow.)  A total sum for all the file sizes is output on a line\n",
      "             efore the long listing.\n",
      "\n",
      "     -m      Stream output format; list files across the page, separated y\n",
      "             commas.\n",
      "\n",
      "     -n      Display user and group IDs numerically, rather than converting to\n",
      "             a user or group name in a long (-l) output.  This option turns on\n",
      "             the -l option.\n",
      "\n",
      "     -O      Include the file flags in a long (-l) output.\n",
      "\n",
      "     -o      List in long format, ut omit the group id.\n",
      "\n",
      "     -P      If argument is a symolic link, list the link itself rather than\n",
      "             the oject the link references.  This option cancels the -H and\n",
      "             -L options.\n",
      "\n",
      "     -p      Write a slash (`/') after each filename if that file is a direc-\n",
      "             tory.\n",
      "\n",
      "     -q      Force printing of non-graphic characters in file names as the\n",
      "             character `?'; this is the default when output is to a terminal.\n",
      "\n",
      "     -R      Recursively list sudirectories encountered.\n",
      "\n",
      "     -r      Reverse the order of the sort to get reverse lexicographical\n",
      "             order or the oldest entries first (or largest files last, if com-\n",
      "             ined with sort y size\n",
      "\n",
      "     -S      Sort files y size\n",
      "\n",
      "     -s      Display the numer of file system locks actually used y each\n",
      "             file, in units of 512 ytes, where partial units are rounded up\n",
      "             to the next integer value.  If the output is to a terminal, a\n",
      "             total sum for all the file sizes is output on a line efore the\n",
      "             listing.  The environment variale BLOCKSIZE overrides the unit\n",
      "             size of 512 ytes.\n",
      "\n",
      "     -T      When used with the -l (lowercase letter ``ell'') option, display\n",
      "             complete time information for the file, including month, day,\n",
      "             hour, minute, second, and year.\n",
      "\n",
      "     -t      Sort y time modified (most recently modified first) efore sort-\n",
      "             ing the operands y lexicographical order.\n",
      "\n",
      "     -u      Use time of last access, instead of last modification of the file\n",
      "             for sorting (-t) or long printing (-l).\n",
      "\n",
      "     -U      Use time of file creation, instead of last modification for sort-\n",
      "             ing (-t) or long output (-l).\n",
      "\n",
      "     -v      Force unedited printing of non-graphic characters; this is the\n",
      "             default when output is not to a terminal.\n",
      "\n",
      "     -W      Display whiteouts when scanning directories.  (-S) flag).\n",
      "\n",
      "     -w      Force raw printing of non-printale characters.  This is the\n",
      "             default when output is not to a terminal.\n",
      "\n",
      "     -x      The same as -C, except that the multi-column output is produced\n",
      "             with entries sorted across, rather than down, the columns.\n",
      "\n",
      "     -%      Distinguish dataless files and directories with a '%' character\n",
      "             in long (-l) output, and don't materialize dataless directories\n",
      "             when listing them.\n",
      "\n",
      "     The -1, -C, -x, and -l options all override each other; the last one\n",
      "     specified determines the format used.\n",
      "\n",
      "     The -c and -u options override each other; the last one specified deter-\n",
      "     mines the file time used.\n",
      "\n",
      "     The -B, -, -w, and -q options all override each other; the last one\n",
      "     specified determines the format used for non-printale characters.\n",
      "\n",
      "     The -H, -L and -P options all override each other (either partially or\n",
      "     fully); they are applied in the order specified.\n",
      "\n",
      "     By default, ls lists one entry per line to standard output; the excep-\n",
      "     tions are to terminals or when the -C or -x options are specified.\n",
      "\n",
      "     File information is displayed with one or more <lank>s separating the\n",
      "     information associated with the -i, -s, and -l options.\n",
      "\n",
      "   The Long Format\n",
      "     If the -l option is given, the following information is displayed for\n",
      "     each file: file mode, numer of links, owner name, group name, numer of\n",
      "     ytes in the file, areviated month, day-of-month file was last modi-\n",
      "     fied, hour file last modified, minute file last modified, and the path-\n",
      "     name.  In addition, for each directory whose contents are displayed, the\n",
      "     total numer of 512-yte locks used y the files in the directory is\n",
      "     displayed on a line y itself, immediately efore the information for the\n",
      "     files in the directory.  If the file or directory has extended\n",
      "     attriutes, the permissions field printed y the -l option is followed y\n",
      "     a '@' character.  Otherwise, if the file or directory has extended secu-\n",
      "     rity information (such as an access control list), the permissions field\n",
      "     printed y the -l option is followed y a '+' character.  If the -%\n",
      "     option is given, a '%' character follows the permissions field for data-\n",
      "     less files and directories, possily replacing the '@' or '+' character.\n",
      "\n",
      "     If the modification time of the file is more than 6 months in the past or\n",
      "     future, then the year of the last modification is displayed in place of\n",
      "     the hour and minute fields.\n",
      "\n",
      "     If the owner or group names are not a known user or group name, or the -n\n",
      "     option is given, the numeric ID's are displayed.\n",
      "\n",
      "     If the file is a character special or lock special file, the major and\n",
      "     minor device numers for the file are displayed in the size field.  If\n",
      "     the file is a symolic link, the pathname of the linked-to file is pre-\n",
      "     ceded y ``->''.\n",
      "\n",
      "     The file mode printed under the -l option consists of the entry type,\n",
      "     owner permissions, and group permissions.  The entry type character\n",
      "     descries the type of file, as follows:\n",
      "\n",
      "                Block special file.\n",
      "           c     Character special file.\n",
      "           d     Directory.\n",
      "           l     Symolic link.\n",
      "           s     Socket link.\n",
      "           p     FIFO.\n",
      "           -     Regular file.\n",
      "\n",
      "     The next three fields are three characters each: owner permissions, group\n",
      "     permissions, and other permissions.  Each field has three character posi-\n",
      "     tions:\n",
      "\n",
      "           1.   If r, the file is readale; if -, it is not readale.\n",
      "\n",
      "           2.   If w, the file is writale; if -, it is not writale.\n",
      "\n",
      "           3.   The first of the following that applies:\n",
      "\n",
      "                      S     If in the owner permissions, the file is not exe-\n",
      "                            cutale and set-user-ID mode is set.  If in the\n",
      "                            group permissions, the file is not executale and\n",
      "                            set-group-ID mode is set.\n",
      "\n",
      "                      s     If in the owner permissions, the file is exe-\n",
      "                            cutale and set-user-ID mode is set.  If in the\n",
      "                            group permissions, the file is executale and set-\n",
      "                            group-ID mode is set.\n",
      "\n",
      "                      x     The file is executale or the directory is search-\n",
      "                            ale.\n",
      "\n",
      "                      -     The file is neither readale, writale, exe-\n",
      "                            cutale, nor set-user-ID nor set-group-ID mode,\n",
      "                            nor sticky.  (See elow.)\n",
      "\n",
      "                These next two apply only to the third character in the last\n",
      "                group (other permissions).\n",
      "\n",
      "                      T     The sticky it is set (mode 100000), ut not execute\n",
      "                            or search permission.  (See chmod(1) or\n",
      "                            sticky(8).)\n",
      "\n",
      "                      t     The sticky it is set (mode 100000), and is search-\n",
      "                            ale or executale.  (See chmod(1) or sticky(8).)\n",
      "\n",
      "EXAMPLES\n",
      "     The following is how to do an ls listing sorted y increasing size\n",
      "\n",
      "           ls -lrS\n",
      "\n",
      "DIAGNOSTICS\n",
      "     The ls utility exits 0 on success, and >0 if an error occurs.\n",
      "\n",
      "ENVIRONMENT\n",
      "     The following environment variales affect the execution of ls:\n",
      "\n",
      "     BLOCKSIZE       If the environment variale BLOCKSIZE is set, the lock\n",
      "                     counts (see -s) will e displayed in units of that size\n",
      "                     lock.\n",
      "\n",
      "     CLICOLOR        Use ANSI color sequences to distinguish file types.  See\n",
      "                     LSCOLORS elow.  In addition to the file types mentioned\n",
      "                     in the -F option some extra attriutes (setuid it set,\n",
      "                     etc.) are also displayed.  The colorization is dependent\n",
      "                     on a terminal type with the proper termcap(5) capaili-\n",
      "                     ties.  The default ``cons25'' console has the proper\n",
      "                     capailities, ut to display the colors in an xterm(1),\n",
      "                     for example, the TERM variale must e set to\n",
      "                     ``xterm-color''.  Other terminal types may require simi-\n",
      "                     lar adjustments.  Colorization is silently disaled if\n",
      "                     the output isn't directed to a terminal unless the\n",
      "                     CLICOLOR_FORCE variale is defined.\n",
      "\n",
      "     CLICOLOR_FORCE  Color sequences are normally disaled if the output isn't\n",
      "                     directed to a terminal.  This can e overridden y set-\n",
      "                     ting this flag.  The TERM variale still needs to refer-\n",
      "                     ence a color capale terminal however otherwise it is not\n",
      "                     possile to determine which color sequences to use.\n",
      "\n",
      "     COLUMNS         If this variale contains a string representing a decimal\n",
      "                     integer, it is used as the column position width for dis-\n",
      "                     playing multiple-text-column output.  The ls utility cal-\n",
      "                     culates how many pathname text columns to display ased\n",
      "                     on the width provided.  (See -C and -x.)\n",
      "\n",
      "     LANG            The locale to use when determining the order of day and\n",
      "                     month in the long -l format output.  See environ(7) for\n",
      "                     more information.\n",
      "\n",
      "     LSCOLORS        The value of this variale descries what color to use\n",
      "                     for which attriute when colors are enaled with\n",
      "                     CLICOLOR.  This string is a concatenation of pairs of the\n",
      "                     format f, where f is the foreground color and  is the\n",
      "                     ackground color.\n",
      "\n",
      "                     The color designators are as follows:\n",
      "\n",
      "                           a     lack\n",
      "                                red\n",
      "                           c     green\n",
      "                           d     rown\n",
      "                           e     lue\n",
      "                           f     magenta\n",
      "                           g     cyan\n",
      "                           h     light grey\n",
      "                           A     old lack, usually shows up as dark grey\n",
      "                           B     old red\n",
      "                           C     old green\n",
      "                           D     old rown, usually shows up as yellow\n",
      "                           E     old lue\n",
      "                           F     old magenta\n",
      "                           G     old cyan\n",
      "                           H     old light grey; looks like right white\n",
      "                           x     default foreground or ackground\n",
      "\n",
      "                     Note that the aove are standard ANSI colors.  The actual\n",
      "                     display may differ depending on the color capailities of\n",
      "                     the terminal in use.\n",
      "\n",
      "                     The order of the attriutes are as follows:\n",
      "\n",
      "                           1.   directory\n",
      "                           2.   symolic link\n",
      "                           3.   socket\n",
      "                           4.   pipe\n",
      "                           5.   executale\n",
      "                           6.   lock special\n",
      "                           7.   character special\n",
      "                           8.   executale with setuid it set\n",
      "                           9.   executale with setgid it set\n",
      "                           10.  directory writale to others, with sticky it\n",
      "                           11.  directory writale to others, without sticky\n",
      "                                it\n",
      "\n",
      "                     The default is \"exfxcxdxxegedaagacad\", i.e. lue fore-\n",
      "                     ground and default ackground for regular directories,\n",
      "                     lack foreground and red ackground for setuid executa-\n",
      "                     les, etc.\n",
      "\n",
      "     LS_COLWIDTHS    If this variale is set, it is considered to e a colon-\n",
      "                     delimited list of minimum column widths.  Unreasonale\n",
      "                     and insufficient widths are ignored (thus zero signifies\n",
      "                     a dynamically sized column).  Not all columns have\n",
      "                     changeale widths.  The fields are, in order: inode,\n",
      "                     lock count, numer of links, user name, group name,\n",
      "                     flags, file size, file name.\n",
      "\n",
      "     TERM            The CLICOLOR functionality depends on a terminal type\n",
      "                     with color capailities.\n",
      "\n",
      "     TZ              The timezone to use when displaying dates.  See\n",
      "                     environ(7) for more information.\n",
      "\n",
      "COMPATIBILITY\n",
      "     The group field is now automatically included in the long listing for\n",
      "     files in order to e compatile with the IEEE Std 100003.2 (``POSIX.2'')\n",
      "     specification.\n",
      "\n",
      "LEGACY DESCRIPTION\n",
      "     In legacy mode, the -f option does not turn on the -a option and the -g,\n",
      "     -n, and -o options do not turn on the -l option.\n",
      "\n",
      "     Also, the -o option causes the file flags to e included in a long (-l)\n",
      "     output; there is no -O option.\n",
      "\n",
      "     When -H is specified (and not overridden y -L or -P) and a file argument\n",
      "     is a symlink that resolves to a non-directory file, the output will\n",
      "     reflect the nature of the link, rather than that of the file.  In legacy\n",
      "     operation, the output will descrie the file.\n",
      "\n",
      "     For more information aout legacy mode, see compat(5).\n",
      "\n",
      "SEE ALSO\n",
      "     chflags(1), chmod(1), sort(1), xterm(1), compat(5), termcap(5),\n",
      "     symlink(7), sticky(8)\n",
      "\n",
      "STANDARDS\n",
      "     The ls utility conforms to IEEE Std 100003.1-200001 (``POSIX.1'').\n",
      "\n",
      "HISTORY\n",
      "     An ls command appeared in Version 1 AT&T UNIX.\n",
      "\n",
      "BUGS\n",
      "     To maintain ackward compatiility, the relationships etween the many\n",
      "     options are quite complex.\n",
      "\n",
      "BSD                              May 19, 200002                              BSD\n"
     ]
    }
   ],
   "source": [
    "%%ashhhh\n",
    "man ls"
   ]
  },
  {
   "cell_type": "markdown",
   "metadata": {},
   "source": [
    "## CLEANUP"
   ]
  },
  {
   "cell_type": "code",
   "execution_count": 111,
   "metadata": {},
   "outputs": [],
   "source": [
    "%%ashhhh\n",
    "rm -r folder"
   ]
  },
  {
   "cell_type": "code",
   "execution_count": null,
   "metadata": {},
   "outputs": [],
   "source": []
  }
 ],
 "metadata": {
  "kernelspec": {
   "display_name": "Python 3",
   "language": "python",
   "name": "python3"
  },
  "language_info": {
   "codemirror_mode": {
    "name": "ipython",
    "version": 3
   },
   "file_extension": ".py",
   "mimetype": "text/x-python",
   "name": "python",
   "nconvert_exporter": "python",
   "pygments_lexer": "ipython3",
   "version": "3.7.1"
  }
 },
 "nformat": 4,
 "nformat_minor": 2
}
