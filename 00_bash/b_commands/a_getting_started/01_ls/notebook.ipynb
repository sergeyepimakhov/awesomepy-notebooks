{
 "cells": [
  {
   "cell_type": "markdown",
   "metadata": {},
   "source": [
    "# LS\n",
    "\n",
    "List files in a directory"
   ]
  },
  {
   "cell_type": "markdown",
   "metadata": {},
   "source": [
    "## SYNOPSIS\n",
    "\n",
    "```bash\n",
    "ls [option(s)] [file(s)|dir]\n",
    "```"
   ]
  },
  {
   "cell_type": "markdown",
   "metadata": {},
   "source": [
    "## SETUP"
   ]
  },
  {
   "cell_type": "code",
   "execution_count": 100,
   "metadata": {},
   "outputs": [],
   "source": [
    "%%bash\n",
    "mkdir -p folder\n",
    "touch folder/file1.txt\n",
    "touch folder/file2.txt\n",
    "touch folder/file3.txt\n",
    "touch folder/photo.img\n",
    "touch folder/.hidden_file\n",
    "\n",
    "mkdir -p folder/subfolder\n",
    "touch folder/subfolder/subfile1.txt\n",
    "touch folder/subfolder/subfile2.txt\n",
    "touch folder/subfolder/subfile3.txt"
   ]
  },
  {
   "cell_type": "markdown",
   "metadata": {},
   "source": [
    "## EXAMPLE"
   ]
  },
  {
   "cell_type": "code",
   "execution_count": 81,
   "metadata": {},
   "outputs": [
    {
     "name": "stdout",
     "output_type": "stream",
     "text": [
      "file1.txt\n",
      "file2.txt\n",
      "file3.txt\n",
      "photo.img\n",
      "subfolder\n"
     ]
    }
   ],
   "source": [
    "%%bash\n",
    "ls ./folder"
   ]
  },
  {
   "cell_type": "markdown",
   "metadata": {},
   "source": [
    "## USAGE"
   ]
  },
  {
   "cell_type": "markdown",
   "metadata": {},
   "source": [
    "### List directory with relative path"
   ]
  },
  {
   "cell_type": "code",
   "execution_count": 82,
   "metadata": {},
   "outputs": [
    {
     "name": "stdout",
     "output_type": "stream",
     "text": [
      "file1.txt\n",
      "file2.txt\n",
      "file3.txt\n",
      "photo.img\n",
      "subfolder\n"
     ]
    }
   ],
   "source": [
    "%%bash\n",
    "ls ./folder"
   ]
  },
  {
   "cell_type": "code",
   "execution_count": 83,
   "metadata": {},
   "outputs": [
    {
     "name": "stdout",
     "output_type": "stream",
     "text": [
      "file1.txt\n",
      "file2.txt\n",
      "file3.txt\n",
      "photo.img\n",
      "subfolder\n"
     ]
    }
   ],
   "source": [
    "%%bash\n",
    "ls folder"
   ]
  },
  {
   "cell_type": "markdown",
   "metadata": {},
   "source": [
    "### List directory with absolute path"
   ]
  },
  {
   "cell_type": "code",
   "execution_count": 84,
   "metadata": {},
   "outputs": [
    {
     "name": "stdout",
     "output_type": "stream",
     "text": [
      "Applications\n",
      "Library\n",
      "System\n",
      "Users\n",
      "Volumes\n",
      "bin\n",
      "cores\n",
      "dev\n",
      "etc\n",
      "home\n",
      "opt\n",
      "private\n",
      "sbin\n",
      "tmp\n",
      "usr\n",
      "var\n"
     ]
    }
   ],
   "source": [
    "%%bash\n",
    "ls /"
   ]
  },
  {
   "cell_type": "markdown",
   "metadata": {},
   "source": [
    "### List all subdirectories "
   ]
  },
  {
   "cell_type": "code",
   "execution_count": 85,
   "metadata": {},
   "outputs": [
    {
     "name": "stdout",
     "output_type": "stream",
     "text": [
      "./folder/file1.txt\n",
      "./folder/file2.txt\n",
      "./folder/file3.txt\n",
      "./folder/photo.img\n",
      "\n",
      "./folder/subfolder:\n",
      "subfile1.txt\n",
      "subfile2.txt\n",
      "subfile3.txt\n"
     ]
    }
   ],
   "source": [
    "%%bash\n",
    "ls ./folder/*"
   ]
  },
  {
   "cell_type": "markdown",
   "metadata": {},
   "source": [
    "### List user's home directory"
   ]
  },
  {
   "cell_type": "code",
   "execution_count": 86,
   "metadata": {},
   "outputs": [
    {
     "name": "stdout",
     "output_type": "stream",
     "text": [
      "Applications\n",
      "Desktop\n",
      "Documents\n",
      "Downloads\n",
      "Library\n",
      "Movies\n",
      "Music\n",
      "PB-arrays-loops.bundle\n",
      "PB-arrays-pt3.bundle\n",
      "Pictures\n",
      "Postman\n",
      "Public\n",
      "TD_Dyps_ETL.dsn\n",
      "Untitled.ipynb\n",
      "anaconda3\n",
      "barchart.png\n",
      "dci\n",
      "degussa_2020-02-11T20_04_47.csv\n",
      "degussa_analysis.ipynb\n",
      "otto\n",
      "playground\n",
      "repos\n",
      "test.pdf\n"
     ]
    }
   ],
   "source": [
    "%%bash\n",
    "ls ~/"
   ]
  },
  {
   "cell_type": "markdown",
   "metadata": {},
   "source": [
    "### List specific files in folder"
   ]
  },
  {
   "cell_type": "code",
   "execution_count": 87,
   "metadata": {},
   "outputs": [
    {
     "name": "stdout",
     "output_type": "stream",
     "text": [
      "folder/file1.txt\n",
      "folder/file2.txt\n",
      "folder/file3.txt\n"
     ]
    }
   ],
   "source": [
    "%%bash\n",
    "ls folder/*.txt"
   ]
  },
  {
   "cell_type": "markdown",
   "metadata": {},
   "source": [
    "### List with long format"
   ]
  },
  {
   "cell_type": "code",
   "execution_count": 88,
   "metadata": {},
   "outputs": [
    {
     "name": "stdout",
     "output_type": "stream",
     "text": [
      "total 0\n",
      "-rw-r--r--  1 esn  staff    0 Apr  5 11:02 file1.txt\n",
      "-rw-r--r--  1 esn  staff    0 Apr  5 11:02 file2.txt\n",
      "-rw-r--r--  1 esn  staff    0 Apr  5 11:02 file3.txt\n",
      "-rw-r--r--  1 esn  staff    0 Apr  5 11:02 photo.img\n",
      "drwxr-xr-x  5 esn  staff  160 Apr  5 10:48 subfolder\n"
     ]
    }
   ],
   "source": [
    "%%bash\n",
    "ls -l ./folder"
   ]
  },
  {
   "cell_type": "markdown",
   "metadata": {},
   "source": [
    "### Command ll\n",
    "\n",
    "ll is an alias for ls -l"
   ]
  },
  {
   "cell_type": "markdown",
   "metadata": {},
   "source": [
    "### Show hidden files"
   ]
  },
  {
   "cell_type": "code",
   "execution_count": 89,
   "metadata": {},
   "outputs": [
    {
     "name": "stdout",
     "output_type": "stream",
     "text": [
      "total 0\n",
      "drwxr-xr-x  8 esn  staff  256 Apr  5 10:48 .\n",
      "drwxr-xr-x  6 esn  staff  192 Apr  5 11:01 ..\n",
      "-rw-r--r--  1 esn  staff    0 Apr  5 11:02 .hidden_file\n",
      "-rw-r--r--  1 esn  staff    0 Apr  5 11:02 file1.txt\n",
      "-rw-r--r--  1 esn  staff    0 Apr  5 11:02 file2.txt\n",
      "-rw-r--r--  1 esn  staff    0 Apr  5 11:02 file3.txt\n",
      "-rw-r--r--  1 esn  staff    0 Apr  5 11:02 photo.img\n",
      "drwxr-xr-x  5 esn  staff  160 Apr  5 10:48 subfolder\n"
     ]
    }
   ],
   "source": [
    "%%bash\n",
    "ls -la ./folder"
   ]
  },
  {
   "cell_type": "markdown",
   "metadata": {},
   "source": [
    "### Show hidden files except . and .. "
   ]
  },
  {
   "cell_type": "code",
   "execution_count": 90,
   "metadata": {},
   "outputs": [
    {
     "name": "stdout",
     "output_type": "stream",
     "text": [
      "total 0\n",
      "-rw-r--r--  1 esn  staff    0 Apr  5 11:02 .hidden_file\n",
      "-rw-r--r--  1 esn  staff    0 Apr  5 11:02 file1.txt\n",
      "-rw-r--r--  1 esn  staff    0 Apr  5 11:02 file2.txt\n",
      "-rw-r--r--  1 esn  staff    0 Apr  5 11:02 file3.txt\n",
      "-rw-r--r--  1 esn  staff    0 Apr  5 11:02 photo.img\n",
      "drwxr-xr-x  5 esn  staff  160 Apr  5 10:48 \u001b[1m\u001b[34msubfolder\u001b[m\u001b[m/\n"
     ]
    }
   ],
   "source": [
    "ls -lA ./folder"
   ]
  },
  {
   "cell_type": "markdown",
   "metadata": {},
   "source": [
    "### Sort by modification time"
   ]
  },
  {
   "cell_type": "code",
   "execution_count": 91,
   "metadata": {},
   "outputs": [
    {
     "name": "stdout",
     "output_type": "stream",
     "text": [
      "total 0\n",
      "-rw-r--r--  1 esn  staff    0 Apr  5 11:02 .hidden_file\n",
      "-rw-r--r--  1 esn  staff    0 Apr  5 11:02 photo.img\n",
      "-rw-r--r--  1 esn  staff    0 Apr  5 11:02 file3.txt\n",
      "-rw-r--r--  1 esn  staff    0 Apr  5 11:02 file2.txt\n",
      "-rw-r--r--  1 esn  staff    0 Apr  5 11:02 file1.txt\n",
      "drwxr-xr-x  5 esn  staff  160 Apr  5 10:48 subfolder\n"
     ]
    }
   ],
   "source": [
    "%%bash\n",
    "ls -lAt ./folder"
   ]
  },
  {
   "cell_type": "markdown",
   "metadata": {},
   "source": [
    "### Sort by file size"
   ]
  },
  {
   "cell_type": "code",
   "execution_count": 92,
   "metadata": {},
   "outputs": [
    {
     "name": "stdout",
     "output_type": "stream",
     "text": [
      "total 0\n",
      "drwxr-xr-x  5 esn  staff  160 Apr  5 10:48 subfolder\n",
      "-rw-r--r--  1 esn  staff    0 Apr  5 11:02 .hidden_file\n",
      "-rw-r--r--  1 esn  staff    0 Apr  5 11:02 file1.txt\n",
      "-rw-r--r--  1 esn  staff    0 Apr  5 11:02 file2.txt\n",
      "-rw-r--r--  1 esn  staff    0 Apr  5 11:02 file3.txt\n",
      "-rw-r--r--  1 esn  staff    0 Apr  5 11:02 photo.img\n"
     ]
    }
   ],
   "source": [
    "%%bash\n",
    "ls -lAS ./folder"
   ]
  },
  {
   "cell_type": "markdown",
   "metadata": {},
   "source": [
    "### Human readable size"
   ]
  },
  {
   "cell_type": "code",
   "execution_count": 106,
   "metadata": {},
   "outputs": [
    {
     "name": "stdout",
     "output_type": "stream",
     "text": [
      "total 0\n",
      "-rw-r--r--  1 esn  staff     0B Apr  5 11:03 .hidden_file\n",
      "-rw-r--r--  1 esn  staff     0B Apr  5 11:03 file1.txt\n",
      "-rw-r--r--  1 esn  staff     0B Apr  5 11:03 file2.txt\n",
      "-rw-r--r--  1 esn  staff     0B Apr  5 11:03 file3.txt\n",
      "-rw-r--r--  1 esn  staff     0B Apr  5 11:03 photo.img\n",
      "drwxr-xr-x  5 esn  staff   160B Apr  5 11:03 subfolder\n"
     ]
    }
   ],
   "source": [
    "%%bash\n",
    "ls -lAh ./folder"
   ]
  },
  {
   "cell_type": "markdown",
   "metadata": {},
   "source": [
    "### Sort in reverse order"
   ]
  },
  {
   "cell_type": "code",
   "execution_count": 110,
   "metadata": {},
   "outputs": [
    {
     "name": "stdout",
     "output_type": "stream",
     "text": [
      "total 0\n",
      "-rw-r--r--  1 esn  staff    0 Apr  5 11:03 photo.img\n",
      "-rw-r--r--  1 esn  staff    0 Apr  5 11:03 file3.txt\n",
      "-rw-r--r--  1 esn  staff    0 Apr  5 11:03 file2.txt\n",
      "-rw-r--r--  1 esn  staff    0 Apr  5 11:03 file1.txt\n",
      "-rw-r--r--  1 esn  staff    0 Apr  5 11:03 .hidden_file\n",
      "drwxr-xr-x  5 esn  staff  160 Apr  5 11:03 subfolder\n"
     ]
    }
   ],
   "source": [
    "%%bash\n",
    "ls -lASr ./folder"
   ]
  },
  {
   "cell_type": "markdown",
   "metadata": {},
   "source": [
    "## MAN PAGE"
   ]
  },
  {
   "cell_type": "code",
   "execution_count": 95,
   "metadata": {},
   "outputs": [
    {
     "name": "stdout",
     "output_type": "stream",
     "text": [
      "\n",
      "LS(1)                     BSD General Commands Manual                    LS(1)\n",
      "\n",
      "NAME\n",
      "     ls -- list directory contents\n",
      "\n",
      "SYNOPSIS\n",
      "     ls [-ABCFGHLOPRSTUW@abcdefghiklmnopqrstuwx1%] [file ...]\n",
      "\n",
      "DESCRIPTION\n",
      "     For each operand that names a file of a type other than directory, ls\n",
      "     displays its name as well as any requested, associated information.  For\n",
      "     each operand that names a file of type directory, ls displays the names\n",
      "     of files contained within that directory, as well as any requested, asso-\n",
      "     ciated information.\n",
      "\n",
      "     If no operands are given, the contents of the current directory are dis-\n",
      "     played.  If more than one operand is given, non-directory operands are\n",
      "     displayed first; directory and non-directory operands are sorted sepa-\n",
      "     rately and in lexicographical order.\n",
      "\n",
      "     The following options are available:\n",
      "\n",
      "     -@      Display extended attribute keys and sizes in long (-l) output.\n",
      "\n",
      "     -1      (The numeric digit ``one''.)  Force output to be one entry per\n",
      "             line.  This is the default when output is not to a terminal.\n",
      "\n",
      "     -A      List all entries except for . and ...  Always set for the super-\n",
      "             user.\n",
      "\n",
      "     -a      Include directory entries whose names begin with a dot (.).\n",
      "\n",
      "     -B      Force printing of non-printable characters (as defined by\n",
      "             ctype(3) and current locale settings) in file names as \\xxx,\n",
      "             where xxx is the numeric value of the character in octal.\n",
      "\n",
      "     -b      As -B, but use C escape codes whenever possible.\n",
      "\n",
      "     -C      Force multi-column output; this is the default when output is to\n",
      "             a terminal.\n",
      "\n",
      "     -c      Use time when file status was last changed for sorting (-t) or\n",
      "             long printing (-l).\n",
      "\n",
      "     -d      Directories are listed as plain files (not searched recursively).\n",
      "\n",
      "     -e      Print the Access Control List (ACL) associated with the file, if\n",
      "             present, in long (-l) output.\n",
      "\n",
      "     -F      Display a slash (`/') immediately after each pathname that is a\n",
      "             directory, an asterisk (`*') after each that is executable, an at\n",
      "             sign (`@') after each symbolic link, an equals sign (`=') after\n",
      "             each socket, a percent sign (`%') after each whiteout, and a ver-\n",
      "             tical bar (`|') after each that is a FIFO.\n",
      "\n",
      "     -f      Output is not sorted.  This option turns on the -a option.\n",
      "\n",
      "     -G      Enable colorized output.  This option is equivalent to defining\n",
      "             CLICOLOR in the environment.  (See below.)\n",
      "\n",
      "     -g      This option is only available for compatibility with POSIX; it is\n",
      "             used to display the group name in the long (-l) format output\n",
      "             (the owner name is suppressed).\n",
      "\n",
      "     -H      Symbolic links on the command line are followed.  This option is\n",
      "             assumed if none of the -F, -d, or -l options are specified.\n",
      "\n",
      "     -h      When used with the -l option, use unit suffixes: Byte, Kilobyte,\n",
      "             Megabyte, Gigabyte, Terabyte and Petabyte in order to reduce the\n",
      "             number of digits to three or less using base 2 for sizes.\n",
      "\n",
      "     -i      For each file, print the file's file serial number (inode num-\n",
      "             ber).\n",
      "\n",
      "     -k      If the -s option is specified, print the file size allocation in\n",
      "             kilobytes, not blocks.  This option overrides the environment\n",
      "             variable BLOCKSIZE.\n",
      "\n",
      "     -L      Follow all symbolic links to final target and list the file or\n",
      "             directory the link references rather than the link itself.  This\n",
      "             option cancels the -P option.\n",
      "\n",
      "     -l      (The lowercase letter ``ell''.)  List in long format.  (See\n",
      "             below.)  A total sum for all the file sizes is output on a line\n",
      "             before the long listing.\n",
      "\n",
      "     -m      Stream output format; list files across the page, separated by\n",
      "             commas.\n",
      "\n",
      "     -n      Display user and group IDs numerically, rather than converting to\n",
      "             a user or group name in a long (-l) output.  This option turns on\n",
      "             the -l option.\n",
      "\n",
      "     -O      Include the file flags in a long (-l) output.\n",
      "\n",
      "     -o      List in long format, but omit the group id.\n",
      "\n",
      "     -P      If argument is a symbolic link, list the link itself rather than\n",
      "             the object the link references.  This option cancels the -H and\n",
      "             -L options.\n",
      "\n",
      "     -p      Write a slash (`/') after each filename if that file is a direc-\n",
      "             tory.\n",
      "\n",
      "     -q      Force printing of non-graphic characters in file names as the\n",
      "             character `?'; this is the default when output is to a terminal.\n",
      "\n",
      "     -R      Recursively list subdirectories encountered.\n",
      "\n",
      "     -r      Reverse the order of the sort to get reverse lexicographical\n",
      "             order or the oldest entries first (or largest files last, if com-\n",
      "             bined with sort by size\n",
      "\n",
      "     -S      Sort files by size\n",
      "\n",
      "     -s      Display the number of file system blocks actually used by each\n",
      "             file, in units of 512 bytes, where partial units are rounded up\n",
      "             to the next integer value.  If the output is to a terminal, a\n",
      "             total sum for all the file sizes is output on a line before the\n",
      "             listing.  The environment variable BLOCKSIZE overrides the unit\n",
      "             size of 512 bytes.\n",
      "\n",
      "     -T      When used with the -l (lowercase letter ``ell'') option, display\n",
      "             complete time information for the file, including month, day,\n",
      "             hour, minute, second, and year.\n",
      "\n",
      "     -t      Sort by time modified (most recently modified first) before sort-\n",
      "             ing the operands by lexicographical order.\n",
      "\n",
      "     -u      Use time of last access, instead of last modification of the file\n",
      "             for sorting (-t) or long printing (-l).\n",
      "\n",
      "     -U      Use time of file creation, instead of last modification for sort-\n",
      "             ing (-t) or long output (-l).\n",
      "\n",
      "     -v      Force unedited printing of non-graphic characters; this is the\n",
      "             default when output is not to a terminal.\n",
      "\n",
      "     -W      Display whiteouts when scanning directories.  (-S) flag).\n",
      "\n",
      "     -w      Force raw printing of non-printable characters.  This is the\n",
      "             default when output is not to a terminal.\n",
      "\n",
      "     -x      The same as -C, except that the multi-column output is produced\n",
      "             with entries sorted across, rather than down, the columns.\n",
      "\n",
      "     -%      Distinguish dataless files and directories with a '%' character\n",
      "             in long (-l) output, and don't materialize dataless directories\n",
      "             when listing them.\n",
      "\n",
      "     The -1, -C, -x, and -l options all override each other; the last one\n",
      "     specified determines the format used.\n",
      "\n",
      "     The -c and -u options override each other; the last one specified deter-\n",
      "     mines the file time used.\n",
      "\n",
      "     The -B, -b, -w, and -q options all override each other; the last one\n",
      "     specified determines the format used for non-printable characters.\n",
      "\n",
      "     The -H, -L and -P options all override each other (either partially or\n",
      "     fully); they are applied in the order specified.\n",
      "\n",
      "     By default, ls lists one entry per line to standard output; the excep-\n",
      "     tions are to terminals or when the -C or -x options are specified.\n",
      "\n",
      "     File information is displayed with one or more <blank>s separating the\n",
      "     information associated with the -i, -s, and -l options.\n",
      "\n",
      "   The Long Format\n",
      "     If the -l option is given, the following information is displayed for\n",
      "     each file: file mode, number of links, owner name, group name, number of\n",
      "     bytes in the file, abbreviated month, day-of-month file was last modi-\n",
      "     fied, hour file last modified, minute file last modified, and the path-\n",
      "     name.  In addition, for each directory whose contents are displayed, the\n",
      "     total number of 512-byte blocks used by the files in the directory is\n",
      "     displayed on a line by itself, immediately before the information for the\n",
      "     files in the directory.  If the file or directory has extended\n",
      "     attributes, the permissions field printed by the -l option is followed by\n",
      "     a '@' character.  Otherwise, if the file or directory has extended secu-\n",
      "     rity information (such as an access control list), the permissions field\n",
      "     printed by the -l option is followed by a '+' character.  If the -%\n",
      "     option is given, a '%' character follows the permissions field for data-\n",
      "     less files and directories, possibly replacing the '@' or '+' character.\n",
      "\n",
      "     If the modification time of the file is more than 6 months in the past or\n",
      "     future, then the year of the last modification is displayed in place of\n",
      "     the hour and minute fields.\n",
      "\n",
      "     If the owner or group names are not a known user or group name, or the -n\n",
      "     option is given, the numeric ID's are displayed.\n",
      "\n",
      "     If the file is a character special or block special file, the major and\n",
      "     minor device numbers for the file are displayed in the size field.  If\n",
      "     the file is a symbolic link, the pathname of the linked-to file is pre-\n",
      "     ceded by ``->''.\n",
      "\n",
      "     The file mode printed under the -l option consists of the entry type,\n",
      "     owner permissions, and group permissions.  The entry type character\n",
      "     describes the type of file, as follows:\n",
      "\n",
      "           b     Block special file.\n",
      "           c     Character special file.\n",
      "           d     Directory.\n",
      "           l     Symbolic link.\n",
      "           s     Socket link.\n",
      "           p     FIFO.\n",
      "           -     Regular file.\n",
      "\n",
      "     The next three fields are three characters each: owner permissions, group\n",
      "     permissions, and other permissions.  Each field has three character posi-\n",
      "     tions:\n",
      "\n",
      "           1.   If r, the file is readable; if -, it is not readable.\n",
      "\n",
      "           2.   If w, the file is writable; if -, it is not writable.\n",
      "\n",
      "           3.   The first of the following that applies:\n",
      "\n",
      "                      S     If in the owner permissions, the file is not exe-\n",
      "                            cutable and set-user-ID mode is set.  If in the\n",
      "                            group permissions, the file is not executable and\n",
      "                            set-group-ID mode is set.\n",
      "\n",
      "                      s     If in the owner permissions, the file is exe-\n",
      "                            cutable and set-user-ID mode is set.  If in the\n",
      "                            group permissions, the file is executable and set-\n",
      "                            group-ID mode is set.\n",
      "\n",
      "                      x     The file is executable or the directory is search-\n",
      "                            able.\n",
      "\n",
      "                      -     The file is neither readable, writable, exe-\n",
      "                            cutable, nor set-user-ID nor set-group-ID mode,\n",
      "                            nor sticky.  (See below.)\n",
      "\n",
      "                These next two apply only to the third character in the last\n",
      "                group (other permissions).\n",
      "\n",
      "                      T     The sticky bit is set (mode 1000), but not execute\n",
      "                            or search permission.  (See chmod(1) or\n",
      "                            sticky(8).)\n",
      "\n",
      "                      t     The sticky bit is set (mode 1000), and is search-\n",
      "                            able or executable.  (See chmod(1) or sticky(8).)\n",
      "\n",
      "EXAMPLES\n",
      "     The following is how to do an ls listing sorted by increasing size\n",
      "\n",
      "           ls -lrS\n",
      "\n",
      "DIAGNOSTICS\n",
      "     The ls utility exits 0 on success, and >0 if an error occurs.\n",
      "\n",
      "ENVIRONMENT\n",
      "     The following environment variables affect the execution of ls:\n",
      "\n",
      "     BLOCKSIZE       If the environment variable BLOCKSIZE is set, the block\n",
      "                     counts (see -s) will be displayed in units of that size\n",
      "                     block.\n",
      "\n",
      "     CLICOLOR        Use ANSI color sequences to distinguish file types.  See\n",
      "                     LSCOLORS below.  In addition to the file types mentioned\n",
      "                     in the -F option some extra attributes (setuid bit set,\n",
      "                     etc.) are also displayed.  The colorization is dependent\n",
      "                     on a terminal type with the proper termcap(5) capabili-\n",
      "                     ties.  The default ``cons25'' console has the proper\n",
      "                     capabilities, but to display the colors in an xterm(1),\n",
      "                     for example, the TERM variable must be set to\n",
      "                     ``xterm-color''.  Other terminal types may require simi-\n",
      "                     lar adjustments.  Colorization is silently disabled if\n",
      "                     the output isn't directed to a terminal unless the\n",
      "                     CLICOLOR_FORCE variable is defined.\n",
      "\n",
      "     CLICOLOR_FORCE  Color sequences are normally disabled if the output isn't\n",
      "                     directed to a terminal.  This can be overridden by set-\n",
      "                     ting this flag.  The TERM variable still needs to refer-\n",
      "                     ence a color capable terminal however otherwise it is not\n",
      "                     possible to determine which color sequences to use.\n",
      "\n",
      "     COLUMNS         If this variable contains a string representing a decimal\n",
      "                     integer, it is used as the column position width for dis-\n",
      "                     playing multiple-text-column output.  The ls utility cal-\n",
      "                     culates how many pathname text columns to display based\n",
      "                     on the width provided.  (See -C and -x.)\n",
      "\n",
      "     LANG            The locale to use when determining the order of day and\n",
      "                     month in the long -l format output.  See environ(7) for\n",
      "                     more information.\n",
      "\n",
      "     LSCOLORS        The value of this variable describes what color to use\n",
      "                     for which attribute when colors are enabled with\n",
      "                     CLICOLOR.  This string is a concatenation of pairs of the\n",
      "                     format fb, where f is the foreground color and b is the\n",
      "                     background color.\n",
      "\n",
      "                     The color designators are as follows:\n",
      "\n",
      "                           a     black\n",
      "                           b     red\n",
      "                           c     green\n",
      "                           d     brown\n",
      "                           e     blue\n",
      "                           f     magenta\n",
      "                           g     cyan\n",
      "                           h     light grey\n",
      "                           A     bold black, usually shows up as dark grey\n",
      "                           B     bold red\n",
      "                           C     bold green\n",
      "                           D     bold brown, usually shows up as yellow\n",
      "                           E     bold blue\n",
      "                           F     bold magenta\n",
      "                           G     bold cyan\n",
      "                           H     bold light grey; looks like bright white\n",
      "                           x     default foreground or background\n",
      "\n",
      "                     Note that the above are standard ANSI colors.  The actual\n",
      "                     display may differ depending on the color capabilities of\n",
      "                     the terminal in use.\n",
      "\n",
      "                     The order of the attributes are as follows:\n",
      "\n",
      "                           1.   directory\n",
      "                           2.   symbolic link\n",
      "                           3.   socket\n",
      "                           4.   pipe\n",
      "                           5.   executable\n",
      "                           6.   block special\n",
      "                           7.   character special\n",
      "                           8.   executable with setuid bit set\n",
      "                           9.   executable with setgid bit set\n",
      "                           10.  directory writable to others, with sticky bit\n",
      "                           11.  directory writable to others, without sticky\n",
      "                                bit\n",
      "\n",
      "                     The default is \"exfxcxdxbxegedabagacad\", i.e. blue fore-\n",
      "                     ground and default background for regular directories,\n",
      "                     black foreground and red background for setuid executa-\n",
      "                     bles, etc.\n",
      "\n",
      "     LS_COLWIDTHS    If this variable is set, it is considered to be a colon-\n",
      "                     delimited list of minimum column widths.  Unreasonable\n",
      "                     and insufficient widths are ignored (thus zero signifies\n",
      "                     a dynamically sized column).  Not all columns have\n",
      "                     changeable widths.  The fields are, in order: inode,\n",
      "                     block count, number of links, user name, group name,\n",
      "                     flags, file size, file name.\n",
      "\n",
      "     TERM            The CLICOLOR functionality depends on a terminal type\n",
      "                     with color capabilities.\n",
      "\n",
      "     TZ              The timezone to use when displaying dates.  See\n",
      "                     environ(7) for more information.\n",
      "\n",
      "COMPATIBILITY\n",
      "     The group field is now automatically included in the long listing for\n",
      "     files in order to be compatible with the IEEE Std 1003.2 (``POSIX.2'')\n",
      "     specification.\n",
      "\n",
      "LEGACY DESCRIPTION\n",
      "     In legacy mode, the -f option does not turn on the -a option and the -g,\n",
      "     -n, and -o options do not turn on the -l option.\n",
      "\n",
      "     Also, the -o option causes the file flags to be included in a long (-l)\n",
      "     output; there is no -O option.\n",
      "\n",
      "     When -H is specified (and not overridden by -L or -P) and a file argument\n",
      "     is a symlink that resolves to a non-directory file, the output will\n",
      "     reflect the nature of the link, rather than that of the file.  In legacy\n",
      "     operation, the output will describe the file.\n",
      "\n",
      "     For more information about legacy mode, see compat(5).\n",
      "\n",
      "SEE ALSO\n",
      "     chflags(1), chmod(1), sort(1), xterm(1), compat(5), termcap(5),\n",
      "     symlink(7), sticky(8)\n",
      "\n",
      "STANDARDS\n",
      "     The ls utility conforms to IEEE Std 1003.1-2001 (``POSIX.1'').\n",
      "\n",
      "HISTORY\n",
      "     An ls command appeared in Version 1 AT&T UNIX.\n",
      "\n",
      "BUGS\n",
      "     To maintain backward compatibility, the relationships between the many\n",
      "     options are quite complex.\n",
      "\n",
      "BSD                              May 19, 2002                              BSD\n"
     ]
    }
   ],
   "source": [
    "%%bash\n",
    "man ls"
   ]
  },
  {
   "cell_type": "markdown",
   "metadata": {},
   "source": [
    "## CLEANUP"
   ]
  },
  {
   "cell_type": "code",
   "execution_count": 111,
   "metadata": {},
   "outputs": [],
   "source": [
    "%%bash\n",
    "rm -r folder"
   ]
  },
  {
   "cell_type": "code",
   "execution_count": null,
   "metadata": {},
   "outputs": [],
   "source": []
  }
 ],
 "metadata": {
  "kernelspec": {
   "display_name": "Python 3",
   "language": "python",
   "name": "python3"
  },
  "language_info": {
   "codemirror_mode": {
    "name": "ipython",
    "version": 3
   },
   "file_extension": ".py",
   "mimetype": "text/x-python",
   "name": "python",
   "nbconvert_exporter": "python",
   "pygments_lexer": "ipython3",
   "version": "3.7.1"
  }
 },
 "nbformat": 4,
 "nbformat_minor": 2
}
