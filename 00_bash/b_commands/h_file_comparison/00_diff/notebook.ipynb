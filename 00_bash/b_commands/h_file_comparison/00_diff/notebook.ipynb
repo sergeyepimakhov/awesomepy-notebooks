{
 "cells": [
  {
   "cell_type": "markdown",
   "metadata": {},
   "source": [
    "# DIFF\n",
    "\n",
    "Command that displays differences between two files."
   ]
  },
  {
   "cell_type": "markdown",
   "metadata": {},
   "source": [
    "## SYNOPSIS\n",
    "\n",
    "```bash\n",
    "diff [option(s)] file1 file2\n",
    "```\n",
    "\n",
    "Special symbols:\n",
    "- a : add\n",
    "- c : change\n",
    "- d : delete\n",
    "\n",
    "Instructions:\n",
    "- `<` - line from the left file\n",
    "- `>` - line from the right file"
   ]
  },
  {
   "cell_type": "markdown",
   "metadata": {},
   "source": [
    "## NOTEBOOK SETUP\n",
    "\n",
    "Please run this cell before you start working with the notebook."
   ]
  },
  {
   "cell_type": "code",
   "execution_count": 105,
   "metadata": {},
   "outputs": [
    {
     "name": "stdout",
     "output_type": "stream",
     "text": [
      "setting up the notebook...\n",
      "done\n"
     ]
    }
   ],
   "source": [
    "%%bash\n",
    "echo 'setting up the notebook...'\n",
    "\n",
    "for i in {1..3}\n",
    "do\n",
    "    mkdir -p case$i\n",
    "done\n",
    "\n",
    "echo 'done'"
   ]
  },
  {
   "cell_type": "markdown",
   "metadata": {},
   "source": [
    "## USAGE"
   ]
  },
  {
   "cell_type": "markdown",
   "metadata": {},
   "source": [
    "### Detect that a line was added"
   ]
  },
  {
   "cell_type": "code",
   "execution_count": 106,
   "metadata": {},
   "outputs": [
    {
     "name": "stdout",
     "output_type": "stream",
     "text": [
      "1a2\n",
      "> Alice\n"
     ]
    }
   ],
   "source": [
    "%%bash --no-raise-error\n",
    "cat <<EOT > case1/file1.txt\n",
    "Alice\n",
    "Bob\n",
    "Carol\n",
    "Dan\n",
    "EOT\n",
    "\n",
    "cat <<EOT > case1/file2.txt\n",
    "Alice\n",
    "Alice\n",
    "Bob\n",
    "Carol\n",
    "Dan\n",
    "EOT\n",
    "\n",
    "diff case1/file1.txt case1/file2.txt"
   ]
  },
  {
   "cell_type": "code",
   "execution_count": 107,
   "metadata": {},
   "outputs": [
    {
     "name": "stdout",
     "output_type": "stream",
     "text": [
      "Alice\t\t\t\t\t\t\t\tAlice\n",
      "\t\t\t\t\t\t\t      >\tAlice\n",
      "Bob\t\t\t\t\t\t\t\tBob\n",
      "Carol\t\t\t\t\t\t\t\tCarol\n",
      "Dan\t\t\t\t\t\t\t\tDan\n"
     ]
    }
   ],
   "source": [
    "%%bash --no-raise-error\n",
    "# side by side output\n",
    "diff -y case1/file1.txt case1/file2.txt"
   ]
  },
  {
   "cell_type": "markdown",
   "metadata": {},
   "source": [
    "### Detect that a line was changed"
   ]
  },
  {
   "cell_type": "code",
   "execution_count": 108,
   "metadata": {},
   "outputs": [
    {
     "name": "stdout",
     "output_type": "stream",
     "text": [
      "3c3\n",
      "< Carol\n",
      "---\n",
      "> Dan\n"
     ]
    }
   ],
   "source": [
    "%%bash --no-raise-error\n",
    "cat <<EOT > case2/file1.txt\n",
    "Alice\n",
    "Bob\n",
    "Carol\n",
    "EOT\n",
    "\n",
    "cat <<EOT > case2/file2.txt\n",
    "Alice\n",
    "Bob\n",
    "Dan\n",
    "EOT\n",
    "\n",
    "diff case2/file1.txt case2/file2.txt"
   ]
  },
  {
   "cell_type": "code",
   "execution_count": 109,
   "metadata": {},
   "outputs": [
    {
     "name": "stdout",
     "output_type": "stream",
     "text": [
      "Alice\t\t\t\t\t\t\t\tAlice\n",
      "Bob\t\t\t\t\t\t\t\tBob\n",
      "Carol\t\t\t\t\t\t\t      |\tDan\n"
     ]
    }
   ],
   "source": [
    "%%bash --no-raise-error\n",
    "# side by side output\n",
    "diff -y case2/file1.txt case2/file2.txt"
   ]
  },
  {
   "cell_type": "markdown",
   "metadata": {},
   "source": [
    "### Detect that a line was deleted"
   ]
  },
  {
   "cell_type": "code",
   "execution_count": 110,
   "metadata": {},
   "outputs": [
    {
     "name": "stdout",
     "output_type": "stream",
     "text": [
      "4d3\n",
      "< Dan\n"
     ]
    }
   ],
   "source": [
    "%%bash --no-raise-error\n",
    "cat <<EOT > case3/file1.txt\n",
    "Alice\n",
    "Bob\n",
    "Carol\n",
    "Dan\n",
    "EOT\n",
    "\n",
    "cat <<EOT > case3/file2.txt\n",
    "Alice\n",
    "Bob\n",
    "Carol\n",
    "EOT\n",
    "\n",
    "diff case3/file1.txt case3/file2.txt"
   ]
  },
  {
   "cell_type": "code",
   "execution_count": 111,
   "metadata": {},
   "outputs": [
    {
     "name": "stdout",
     "output_type": "stream",
     "text": [
      "Alice\t\t\t\t\t\t\t\tAlice\n",
      "Bob\t\t\t\t\t\t\t\tBob\n",
      "Carol\t\t\t\t\t\t\t\tCarol\n",
      "Dan\t\t\t\t\t\t\t      <\n"
     ]
    }
   ],
   "source": [
    "%%bash --no-raise-error\n",
    "# side by side output\n",
    "diff -y case3/file1.txt case3/file2.txt"
   ]
  },
  {
   "cell_type": "markdown",
   "metadata": {},
   "source": [
    "## Task"
   ]
  },
  {
   "cell_type": "markdown",
   "metadata": {},
   "source": [
    "## MAN PAGE"
   ]
  },
  {
   "cell_type": "code",
   "execution_count": 112,
   "metadata": {},
   "outputs": [
    {
     "name": "stdout",
     "output_type": "stream",
     "text": [
      "DIFF(1)                          User Commands                         DIFF(1)\n",
      "\n",
      "\n",
      "\n",
      "NAME\n",
      "       diff - compare files line by line\n",
      "\n",
      "SYNOPSIS\n",
      "       diff [OPTION]... FILES\n",
      "\n",
      "DESCRIPTION\n",
      "       Compare files line by line.\n",
      "\n",
      "       -i  --ignore-case\n",
      "              Ignore case differences in file contents.\n",
      "\n",
      "       --ignore-file-name-case\n",
      "              Ignore case when comparing file names.\n",
      "\n",
      "       --no-ignore-file-name-case\n",
      "              Consider case when comparing file names.\n",
      "\n",
      "       -E  --ignore-tab-expansion\n",
      "              Ignore changes due to tab expansion.\n",
      "\n",
      "       -b  --ignore-space-change\n",
      "              Ignore changes in the amount of white space.\n",
      "\n",
      "       -w  --ignore-all-space\n",
      "              Ignore all white space.\n",
      "\n",
      "       -B  --ignore-blank-lines\n",
      "              Ignore changes whose lines are all blank.\n",
      "\n",
      "       -I RE  --ignore-matching-lines=RE\n",
      "              Ignore changes whose lines all match RE.\n",
      "\n",
      "       --strip-trailing-cr\n",
      "              Strip trailing carriage return on input.\n",
      "\n",
      "       -a  --text\n",
      "              Treat all files as text.\n",
      "\n",
      "       -c  -C NUM  --context[=NUM]\n",
      "              Output NUM (default 3) lines of copied context.\n",
      "\n",
      "       -u  -U NUM  --unified[=NUM]\n",
      "              Output NUM (default 3) lines of unified context.\n",
      "\n",
      "       --label LABEL\n",
      "              Use LABEL instead of file name.\n",
      "\n",
      "       -p  --show-c-function\n",
      "              Show which C function each change is in.\n",
      "\n",
      "       -F RE  --show-function-line=RE\n",
      "              Show the most recent line matching RE.\n",
      "\n",
      "       -q  --brief\n",
      "              Output only whether files differ.\n",
      "\n",
      "       -e  --ed\n",
      "              Output an ed script.\n",
      "\n",
      "       --normal\n",
      "              Output a normal diff.\n",
      "\n",
      "       -n  --rcs\n",
      "              Output an RCS format diff.\n",
      "\n",
      "       -y  --side-by-side\n",
      "              Output in two columns.\n",
      "\n",
      "       -W NUM  --width=NUM\n",
      "              Output at most NUM (default 130) print columns.\n",
      "\n",
      "       --left-column\n",
      "              Output only the left column of common lines.\n",
      "\n",
      "       --suppress-common-lines\n",
      "              Do not output common lines.\n",
      "\n",
      "       -D NAME  --ifdef=NAME\n",
      "              Output merged file to show `#ifdef NAME' diffs.\n",
      "\n",
      "       --GTYPE-group-format=GFMT\n",
      "              Similar, but format GTYPE input groups with GFMT.\n",
      "\n",
      "       --line-format=LFMT\n",
      "              Similar, but format all input lines with LFMT.\n",
      "\n",
      "       --LTYPE-line-format=LFMT\n",
      "              Similar, but format LTYPE input lines with LFMT.\n",
      "\n",
      "       LTYPE is `old', `new', or `unchanged'.\n",
      "              GTYPE is LTYPE or `changed'.\n",
      "\n",
      "              GFMT may contain:\n",
      "\n",
      "       %<     lines from FILE1\n",
      "\n",
      "       %>     lines from FILE2\n",
      "\n",
      "       %=     lines common to FILE1 and FILE2\n",
      "\n",
      "       %[-][WIDTH][.[PREC]]{doxX}LETTER\n",
      "              printf-style spec for LETTER\n",
      "\n",
      "              LETTERs are as follows for new group, lower case for old group:\n",
      "\n",
      "       F      first line number\n",
      "\n",
      "       L      last line number\n",
      "\n",
      "       N      number of lines = L-F+1\n",
      "\n",
      "       E      F-1\n",
      "\n",
      "       M      L+1\n",
      "\n",
      "              LFMT may contain:\n",
      "\n",
      "       %L     contents of line\n",
      "\n",
      "       %l     contents of line, excluding any trailing newline\n",
      "\n",
      "       %[-][WIDTH][.[PREC]]{doxX}n\n",
      "              printf-style spec for input line number\n",
      "\n",
      "              Either GFMT or LFMT may contain:\n",
      "\n",
      "       %%     %\n",
      "\n",
      "       %c'C'  the single character C\n",
      "\n",
      "       %c'\\OOO'\n",
      "              the character with octal code OOO\n",
      "\n",
      "       -l  --paginate\n",
      "              Pass the output through `pr' to paginate it.\n",
      "\n",
      "       -t  --expand-tabs\n",
      "              Expand tabs to spaces in output.\n",
      "\n",
      "       -T  --initial-tab\n",
      "              Make tabs line up by prepending a tab.\n",
      "\n",
      "       -r  --recursive\n",
      "              Recursively compare any subdirectories found.\n",
      "\n",
      "       -N  --new-file\n",
      "              Treat absent files as empty.\n",
      "\n",
      "       --unidirectional-new-file\n",
      "              Treat absent first files as empty.\n",
      "\n",
      "       -s  --report-identical-files\n",
      "              Report when two files are the same.\n",
      "\n",
      "       -x PAT  --exclude=PAT\n",
      "              Exclude files that match PAT.\n",
      "\n",
      "       -X FILE  --exclude-from=FILE\n",
      "              Exclude files that match any pattern in FILE.\n",
      "\n",
      "       -S FILE  --starting-file=FILE\n",
      "              Start with FILE when comparing directories.\n",
      "\n",
      "       --from-file=FILE1\n",
      "              Compare FILE1 to all operands.  FILE1 can be a directory.\n",
      "\n",
      "       --to-file=FILE2\n",
      "              Compare all operands to FILE2.  FILE2 can be a directory.\n",
      "\n",
      "       --horizon-lines=NUM\n",
      "              Keep NUM lines of the common prefix and suffix.\n",
      "\n",
      "       -d  --minimal\n",
      "              Try hard to find a smaller set of changes.\n",
      "\n",
      "       --speed-large-files\n",
      "              Assume large files and many scattered small changes.\n",
      "\n",
      "       -v  --version\n",
      "              Output version info.\n",
      "\n",
      "       --help Output this help.\n",
      "\n",
      "       FILES  are  `FILE1  FILE2'  or `DIR1 DIR2' or `DIR FILE...' or `FILE...\n",
      "       DIR'.  If --from-file or --to-file is given, there are no  restrictions\n",
      "       on FILES.  If a FILE is `-', read standard input.\n",
      "\n",
      "AUTHOR\n",
      "       Written  by  Paul  Eggert, Mike Haertel, David Hayes, Richard Stallman,\n",
      "       and Len Tower.\n",
      "\n",
      "REPORTING BUGS\n",
      "       Report bugs to <bug-gnu-utils@gnu.org>.\n",
      "\n",
      "COPYRIGHT\n",
      "       Copyright (C) 2002 Free Software Foundation, Inc.\n",
      "\n",
      "       This program comes with NO WARRANTY, to the extent  permitted  by  law.\n",
      "       You  may redistribute copies of this program under the terms of the GNU\n",
      "       General Public License.  For more information about these matters,  see\n",
      "       the file named COPYING.\n",
      "\n",
      "SEE ALSO\n",
      "       The  full documentation for diff is maintained as a Texinfo manual.  If\n",
      "       the info and diff programs are properly installed  at  your  site,  the\n",
      "       command\n",
      "\n",
      "              info diff\n",
      "\n",
      "       should give you access to the complete manual.\n",
      "\n",
      "\n",
      "\n",
      "diffutils 2.8.1                   April 2002                           DIFF(1)\n"
     ]
    }
   ],
   "source": [
    "%%bash\n",
    "man diff"
   ]
  },
  {
   "cell_type": "markdown",
   "metadata": {},
   "source": [
    "## NOTEBOOK CLEANUP\n",
    "\n",
    "Run this cell to reset the notebook directory to the initial set."
   ]
  },
  {
   "cell_type": "code",
   "execution_count": 113,
   "metadata": {},
   "outputs": [
    {
     "name": "stdout",
     "output_type": "stream",
     "text": [
      "cleaning up the notebook...\n",
      "done\n"
     ]
    }
   ],
   "source": [
    "%%bash\n",
    "echo 'cleaning up the notebook...'\n",
    "\n",
    "for i in {1..3}\n",
    "do\n",
    "    rm -rf case$i\n",
    "done\n",
    "\n",
    "echo 'done'"
   ]
  },
  {
   "cell_type": "code",
   "execution_count": null,
   "metadata": {},
   "outputs": [],
   "source": []
  }
 ],
 "metadata": {
  "kernelspec": {
   "display_name": "Python 3",
   "language": "python",
   "name": "python3"
  },
  "language_info": {
   "codemirror_mode": {
    "name": "ipython",
    "version": 3
   },
   "file_extension": ".py",
   "mimetype": "text/x-python",
   "name": "python",
   "nbconvert_exporter": "python",
   "pygments_lexer": "ipython3",
   "version": "3.7.1"
  }
 },
 "nbformat": 4,
 "nbformat_minor": 2
}
