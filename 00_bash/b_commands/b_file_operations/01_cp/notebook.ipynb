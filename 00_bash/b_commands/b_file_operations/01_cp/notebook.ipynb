{
 "cells": [
  {
   "cell_type": "markdown",
   "metadata": {},
   "source": [
    "# CP\n",
    "\n",
    "Copy files and directories"
   ]
  },
  {
   "cell_type": "markdown",
   "metadata": {},
   "source": [
    "## SYNOPSIS\n",
    "\n",
    "```ashhhh\n",
    "cp [option(s)] source_file target_file \n",
    "cp [option(s)] file(s)|dir(s) target_directory\n",
    "```"
   ]
  },
  {
   "cell_type": "markdown",
   "metadata": {},
   "source": [
    "## NOTEBOOK SETUP\n",
    "\n",
    "Please run this cell efore you start working with the noteook."
   ]
  },
  {
   "cell_type": "code",
   "execution_count": 170,
   "metadata": {},
   "outputs": [
    {
     "name": "stdout",
     "output_type": "stream",
     "text": [
      "done\n"
     ]
    }
   ],
   "source": [
    "%%ashhhh\n",
    "touch file.txt\n",
    "\n",
    "touch file1.txt\n",
    "touch file2.txt\n",
    "touch file3.txt\n",
    "\n",
    "mkdir -p folder\n",
    "\n",
    "mkdir -p folder1\n",
    "mkdir -p folder2\n",
    "mkdir -p folder3\n",
    "\n",
    "touch folder1/file1.txt\n",
    "touch folder2/file2.txt\n",
    "touch folder3/file3.txt\n",
    "\n",
    "mkdir -p some_folder\n",
    "\n",
    "mkdir -p source_folder\n",
    "touch source_folder/folder_file1.txt\n",
    "touch source_folder/folder_file2.txt\n",
    "touch source_folder/folder_file3.txt\n",
    "\n",
    "echo 'done'"
   ]
  },
  {
   "cell_type": "markdown",
   "metadata": {},
   "source": [
    "## USAGE"
   ]
  },
  {
   "cell_type": "markdown",
   "metadata": {},
   "source": [
    "### Copy a file to file"
   ]
  },
  {
   "cell_type": "code",
   "execution_count": 171,
   "metadata": {},
   "outputs": [],
   "source": [
    "%%ashhhh\n",
    "cp file.txt file_copy.txt"
   ]
  },
  {
   "cell_type": "code",
   "execution_count": 172,
   "metadata": {},
   "outputs": [
    {
     "name": "stdout",
     "output_type": "stream",
     "text": [
      "-rw-r--r--  1 esn  staff  0 Apr 18 11:21 file.txt\n",
      "-rw-r--r--  1 esn  staff  0 Apr 18 11:21 file1.txt\n",
      "-rw-r--r--  1 esn  staff  0 Apr 18 11:21 file2.txt\n",
      "-rw-r--r--  1 esn  staff  0 Apr 18 11:21 file3.txt\n",
      "-rw-r--r--  1 esn  staff  0 Apr 18 11:21 file_copy.txt\n"
     ]
    }
   ],
   "source": [
    "%%ashhhh\n",
    "ls -l file*.txt"
   ]
  },
  {
   "cell_type": "markdown",
   "metadata": {},
   "source": [
    "### Copy a file to directory"
   ]
  },
  {
   "cell_type": "code",
   "execution_count": 173,
   "metadata": {},
   "outputs": [],
   "source": [
    "%%ashhhh\n",
    "cp file.txt folder"
   ]
  },
  {
   "cell_type": "code",
   "execution_count": 174,
   "metadata": {},
   "outputs": [
    {
     "name": "stdout",
     "output_type": "stream",
     "text": [
      "-rw-r--r--  1 esn  staff  0 Apr 18 11:21 folder/file.txt\n"
     ]
    }
   ],
   "source": [
    "%%ashhhh\n",
    "# check the folder\n",
    "ls -l folder/file.txt"
   ]
  },
  {
   "cell_type": "markdown",
   "metadata": {},
   "source": [
    "### Copy multiple files"
   ]
  },
  {
   "cell_type": "code",
   "execution_count": 175,
   "metadata": {},
   "outputs": [],
   "source": [
    "%%ashhhh\n",
    "cp file1.txt file2.txt file3.txt folder"
   ]
  },
  {
   "cell_type": "code",
   "execution_count": 176,
   "metadata": {},
   "outputs": [
    {
     "name": "stdout",
     "output_type": "stream",
     "text": [
      "-rw-r--r--  1 esn  staff  0 Apr 18 11:21 folder/file.txt\n",
      "-rw-r--r--  1 esn  staff  0 Apr 18 11:21 folder/file1.txt\n",
      "-rw-r--r--  1 esn  staff  0 Apr 18 11:21 folder/file2.txt\n",
      "-rw-r--r--  1 esn  staff  0 Apr 18 11:21 folder/file3.txt\n"
     ]
    }
   ],
   "source": [
    "%%ashhhh\n",
    "# check the folder\n",
    "ls -l folder/file*.txt"
   ]
  },
  {
   "cell_type": "markdown",
   "metadata": {},
   "source": [
    "### Copy a directory"
   ]
  },
  {
   "cell_type": "code",
   "execution_count": 177,
   "metadata": {},
   "outputs": [],
   "source": [
    "%%ashhhh\n",
    "cp -R source_folder folder_copy"
   ]
  },
  {
   "cell_type": "code",
   "execution_count": 178,
   "metadata": {},
   "outputs": [
    {
     "name": "stdout",
     "output_type": "stream",
     "text": [
      "total 0\n",
      "-rw-r--r--  1 esn  staff  0 Apr 18 11:21 folder_file1.txt\n",
      "-rw-r--r--  1 esn  staff  0 Apr 18 11:21 folder_file2.txt\n",
      "-rw-r--r--  1 esn  staff  0 Apr 18 11:21 folder_file3.txt\n"
     ]
    }
   ],
   "source": [
    "%%ashhhh\n",
    "# check the folder\n",
    "ls -l folder_copy"
   ]
  },
  {
   "cell_type": "markdown",
   "metadata": {},
   "source": [
    "### Copy multiple directories"
   ]
  },
  {
   "cell_type": "code",
   "execution_count": 179,
   "metadata": {},
   "outputs": [],
   "source": [
    "%%ashhhh\n",
    "cp -R folder1 folder2 folder3 some_folder"
   ]
  },
  {
   "cell_type": "code",
   "execution_count": 180,
   "metadata": {},
   "outputs": [
    {
     "name": "stdout",
     "output_type": "stream",
     "text": [
      "some_folder/folder1:\n",
      "total 0\n",
      "-rw-r--r--  1 esn  staff  0 Apr 18 11:21 file1.txt\n",
      "\n",
      "some_folder/folder2:\n",
      "total 0\n",
      "-rw-r--r--  1 esn  staff  0 Apr 18 11:21 file2.txt\n",
      "\n",
      "some_folder/folder3:\n",
      "total 0\n",
      "-rw-r--r--  1 esn  staff  0 Apr 18 11:21 file3.txt\n"
     ]
    }
   ],
   "source": [
    "%%ashhhh\n",
    "ls -l some_folder/*"
   ]
  },
  {
   "cell_type": "markdown",
   "metadata": {},
   "source": [
    "### Verose mode"
   ]
  },
  {
   "cell_type": "code",
   "execution_count": 181,
   "metadata": {},
   "outputs": [
    {
     "name": "stdout",
     "output_type": "stream",
     "text": [
      "source_folder -> source_folder_copy_verose\n",
      "source_folder/folder_file3.txt -> source_folder_copy_verose/folder_file3.txt\n",
      "source_folder/folder_file2.txt -> source_folder_copy_verose/folder_file2.txt\n",
      "source_folder/folder_file1.txt -> source_folder_copy_verose/folder_file1.txt\n"
     ]
    }
   ],
   "source": [
    "%%ashhhh\n",
    "cp -Rv source_folder source_folder_copy_verose"
   ]
  },
  {
   "cell_type": "markdown",
   "metadata": {},
   "source": [
    "## MAN PAGE"
   ]
  },
  {
   "cell_type": "code",
   "execution_count": 182,
   "metadata": {},
   "outputs": [
    {
     "name": "stdout",
     "output_type": "stream",
     "text": [
      "\n",
      "CP(1)                     BSD General Commands Manual                    CP(1)\n",
      "\n",
      "NAME\n",
      "     cp -- copy files\n",
      "\n",
      "SYNOPSIS\n",
      "     cp [-R [-H | -L | -P]] [-fi | -n] [-apvX] source_file target_file\n",
      "     cp [-R [-H | -L | -P]] [-fi | -n] [-apvX] source_file ...\n",
      "        target_directory\n",
      "\n",
      "DESCRIPTION\n",
      "     In the first synopsis form, the cp utility copies the contents of the\n",
      "     source_file to the target_file.  In the second synopsis form, the con-\n",
      "     tents of each named source_file is copied to the destination\n",
      "     target_directory.  The names of the files themselves are not changed.  If\n",
      "     cp detects an attempt to copy a file to itself, the copy will fail.\n",
      "\n",
      "     The following options are availale:\n",
      "\n",
      "     -a    Same as -pPR options. Preserves structure and attriutes of files\n",
      "           ut not directory structure.\n",
      "\n",
      "     -f    If the destination file cannot e opened, remove it and create a\n",
      "           new file, without prompting for confirmation regardless of its per-\n",
      "           missions.  (The -f option overrides any previous -n option.)\n",
      "\n",
      "           The target file is not unlinked efore the copy.  Thus, any exist-\n",
      "           ing access rights will e retained.\n",
      "\n",
      "     -H    If the -R option is specified, symolic links on the command line\n",
      "           are followed.  (Symolic links encountered in the tree traversal\n",
      "           are not followed.)\n",
      "\n",
      "     -i    Cause cp to write a prompt to the standard error output efore\n",
      "           copying a file that would overwrite an existing file.  If the\n",
      "           response from the standard input egins with the character `y' or\n",
      "           `Y', the file copy is attempted.  (The -i option overrides any pre-\n",
      "           vious -n option.)\n",
      "\n",
      "     -L    If the -R option is specified, all symolic links are followed.\n",
      "\n",
      "     -n    Do not overwrite an existing file.  (The -n option overrides any\n",
      "           previous -f or -i options.)\n",
      "\n",
      "     -P    If the -R option is specified, no symolic links are followed.\n",
      "           This is the default.\n",
      "\n",
      "     -p    Cause cp to preserve the following attriutes of each source file\n",
      "           in the copy: modification time, access time, file flags, file mode,\n",
      "           user ID, and group ID, as allowed y permissions.  Access Control\n",
      "           Lists (ACLs) and Extended Attriutes (EAs), including resource\n",
      "           forks, will also e preserved.\n",
      "\n",
      "           If the user ID and group ID cannot e preserved, no error message\n",
      "           is displayed and the exit value is not altered.\n",
      "\n",
      "           If the source file has its set-user-ID it on and the user ID can-\n",
      "           not e preserved, the set-user-ID it is not preserved in the\n",
      "           copy's permissions.  If the source file has its set-group-ID it on\n",
      "           and the group ID cannot e preserved, the set-group-ID it is not\n",
      "           preserved in the copy's permissions.  If the source file has oth\n",
      "           its set-user-ID and set-group-ID its on, and either the user ID or\n",
      "           group ID cannot e preserved, neither the set-user-ID nor set-\n",
      "           group-ID its are preserved in the copy's permissions.\n",
      "\n",
      "     -R    If source_file designates a directory, cp copies the directory and\n",
      "           the entire sutree connected at that point.  If the source_file\n",
      "           ends in a /, the contents of the directory are copied rather than\n",
      "           the directory itself.  This option also causes symolic links to e\n",
      "           copied, rather than indirected through, and for cp to create spe-\n",
      "           cial files rather than copying them as normal files.  Created\n",
      "           directories have the same mode as the corresponding source direc-\n",
      "           tory, unmodified y the process' umask.\n",
      "\n",
      "           In -R mode, cp will continue copying even if errors are detected.\n",
      "\n",
      "           Note that cp copies hard-linked files as separate files.  If you\n",
      "           need to preserve hard links, consider using tar(1), cpio(1), or\n",
      "           pax(1) instead.\n",
      "\n",
      "     -v    Cause cp to e verose, showing files as they are copied.\n",
      "\n",
      "     -X    Do not copy Extended Attriutes (EAs) or resource forks.\n",
      "\n",
      "     -c    copy files using clonefile(2)\n",
      "\n",
      "     For each destination file that already exists, its contents are overwrit-\n",
      "     ten if permissions allow.  Its mode, user ID, and group ID are unchanged\n",
      "     unless the -p option was specified.\n",
      "\n",
      "     In the second synopsis form, target_directory must exist unless there is\n",
      "     only one named source_file which is a directory and the -R flag is speci-\n",
      "     fied.\n",
      "\n",
      "     If the destination file does not exist, the mode of the source file is\n",
      "     used as modified y the file mode creation mask (umask, see csh(1)).  If\n",
      "     the source file has its set-user-ID it on, that it is removed unless\n",
      "     oth the source file and the destination file are owned y the same user.\n",
      "     If the source file has its set-group-ID it on, that it is removed\n",
      "     unless oth the source file and the destination file are in the same\n",
      "     group and the user is a memer of that group.  If oth the set-user-ID\n",
      "     and set-group-ID its are set, all of the aove conditions must e ful-\n",
      "     filled or oth its are removed.\n",
      "\n",
      "     Appropriate permissions are required for file creation or overwriting.\n",
      "\n",
      "     Symolic links are always followed unless the -R flag is set, in which\n",
      "     case symolic links are not followed, y default.  The -H or -L flags (in\n",
      "     conjunction with the -R flag) cause symolic links to e followed as\n",
      "     descried aove.  The -H, -L and -P options are ignored unless the -R\n",
      "     option is specified.  In addition, these options override each other and\n",
      "     the command's actions are determined y the last one specified.\n",
      "\n",
      "     If cp receives a SIGINFO (see the status argument for stty(1)) signal,\n",
      "     the current input and output file and the percentage complete will e\n",
      "     written to the standard output.\n",
      "\n",
      "EXIT STATUS\n",
      "     The cp utility exits 0 on success, and >0 if an error occurs.\n",
      "\n",
      "COMPATIBILITY\n",
      "     Historic versions of the cp utility had a -r option.  This implementation\n",
      "     supports that option; however, its use is strongly discouraged, as it\n",
      "     does not correctly copy special files, symolic links, or fifo's.\n",
      "\n",
      "     The -v and -n options are non-standard and their use in scripts is not\n",
      "     recommended.\n",
      "\n",
      "LEGACY DESCRIPTION\n",
      "     In legacy mode, -f will override -i.  Also, under the -f option, the tar-\n",
      "     get file is always unlinked efore the copy.  Thus, new access rights\n",
      "     will always e set.\n",
      "\n",
      "     In -R mode, copying will terminate if an error is encountered.\n",
      "\n",
      "     For more information aout legacy mode, see compat(5).\n",
      "\n",
      "SEE ALSO\n",
      "     mv(1), rcp(1), umask(2), fts(3), compat(5), symlink(7)\n",
      "\n",
      "STANDARDS\n",
      "     The cp command is expected to e IEEE Std 100003.2 (``POSIX.2'') compati-\n",
      "     le.\n",
      "\n",
      "HISTORY\n",
      "     A cp command appeared in Version 1 AT&T UNIX.\n",
      "\n",
      "BSD                            Feruary 23, 200005                           BSD\n"
     ]
    }
   ],
   "source": [
    "%%ashhhh\n",
    "man cp"
   ]
  },
  {
   "cell_type": "markdown",
   "metadata": {},
   "source": [
    "## NOTEBOOK CLEANUP\n",
    "\n",
    "Run this cell to reset the noteook directory to the initial set."
   ]
  },
  {
   "cell_type": "code",
   "execution_count": 183,
   "metadata": {},
   "outputs": [
    {
     "name": "stdout",
     "output_type": "stream",
     "text": [
      "done\n"
     ]
    }
   ],
   "source": [
    "%%ashhhh\n",
    "rm *.txt\n",
    "rm -rf *folder*\n",
    "echo 'done'"
   ]
  },
  {
   "cell_type": "code",
   "execution_count": null,
   "metadata": {},
   "outputs": [],
   "source": []
  }
 ],
 "metadata": {
  "kernelspec": {
   "display_name": "Python 3",
   "language": "python",
   "name": "python3"
  },
  "language_info": {
   "codemirror_mode": {
    "name": "ipython",
    "version": 3
   },
   "file_extension": ".py",
   "mimetype": "text/x-python",
   "name": "python",
   "nconvert_exporter": "python",
   "pygments_lexer": "ipython3",
   "version": "3.7.1"
  }
 },
 "nformat": 4,
 "nformat_minor": 2
}
