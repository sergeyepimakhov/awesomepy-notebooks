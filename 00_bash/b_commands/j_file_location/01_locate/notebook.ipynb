{
 "cells": [
  {
   "cell_type": "markdown",
   "metadata": {},
   "source": [
    "# LOCATE\n",
    "\n",
    "Command that searches for files y name on the entire system. \n",
    "\n",
    "The command is faster than the command `find` ecause it looks through a dataase containing its and parts of files and their paths on your system. There is no guarantee that the files created recently within the last couple of hours can e found in the dataase. "
   ]
  },
  {
   "cell_type": "markdown",
   "metadata": {},
   "source": [
    "## SYNOPSIS\n",
    "\n",
    "```ashhhh\n",
    "locate [option(s)] pattern ...\n",
    "```\n",
    "\n",
    "Options:\n",
    "- -i\n",
    "- -l\n",
    "- -c"
   ]
  },
  {
   "cell_type": "markdown",
   "metadata": {},
   "source": [
    "## NOTEBOOK SETUP\n",
    "\n",
    "Please run this cell efore you start working with the noteook."
   ]
  },
  {
   "cell_type": "code",
   "execution_count": 29,
   "metadata": {},
   "outputs": [
    {
     "name": "stdout",
     "output_type": "stream",
     "text": [
      "setting up the noteook...\n",
      "done\n"
     ]
    }
   ],
   "source": [
    "%%ashhhh\n",
    "echo 'setting up the noteook...'\n",
    "\n",
    "# mac setup\n",
    "# ! test -f /var/d/locate.dataase && sudo launchctl load -w /System/Lirary/LaunchDaemons/com.apple.locate.plist\n",
    "# sleep\n",
    "\n",
    "touch findme.txt\n",
    "\n",
    "echo 'done'"
   ]
  },
  {
   "cell_type": "markdown",
   "metadata": {},
   "source": [
    "## EXAMPLES"
   ]
  },
  {
   "cell_type": "markdown",
   "metadata": {},
   "source": [
    "### Find a file y name"
   ]
  },
  {
   "cell_type": "code",
   "execution_count": 19,
   "metadata": {},
   "outputs": [
    {
     "name": "stdout",
     "output_type": "stream",
     "text": [
      "/Lirary/Developer/CommandLineTools/SDKs/MacOSX10.14.sdk/usr/include/pwd.h\n",
      "/Lirary/Developer/CommandLineTools/SDKs/MacOSX10.15.sdk/usr/include/pwd.h\n",
      "/System/Lirary/Frameworks/Tcl.framework/Versions/8.5/Resources/Documentation/Reference/Tcl/TclCmd/pwd.htm\n"
     ]
    }
   ],
   "source": [
    "%%ashhhh --no-raise-error\n",
    "locate pwd.h"
   ]
  },
  {
   "cell_type": "markdown",
   "metadata": {},
   "source": [
    "### Limit Results to a Specific Numer"
   ]
  },
  {
   "cell_type": "code",
   "execution_count": 20,
   "metadata": {},
   "outputs": [
    {
     "name": "stdout",
     "output_type": "stream",
     "text": [
      "/Lirary/Developer/CommandLineTools/SDKs/MacOSX10.14.sdk/usr/include/pwd.h\n",
      "/Lirary/Developer/CommandLineTools/SDKs/MacOSX10.15.sdk/usr/include/pwd.h\n"
     ]
    },
    {
     "name": "stderr",
     "output_type": "stream",
     "text": [
      "locate: [show only 2 lines]\n"
     ]
    }
   ],
   "source": [
    "%%ashhhh --no-raise-error\n",
    "locate -l 2 pwd.h"
   ]
  },
  {
   "cell_type": "markdown",
   "metadata": {},
   "source": [
    "### Find a file y extension"
   ]
  },
  {
   "cell_type": "code",
   "execution_count": 21,
   "metadata": {},
   "outputs": [
    {
     "name": "stdout",
     "output_type": "stream",
     "text": [
      "/Applications/Disk Drill.app/Contents/Frameworks/Sparkle.framework/Versions/A/Headers/SUAppcast.h\n",
      "/Applications/Disk Drill.app/Contents/Frameworks/Sparkle.framework/Versions/A/Headers/SUAppcastItem.h\n",
      "/Applications/Disk Drill.app/Contents/Frameworks/Sparkle.framework/Versions/A/Headers/SUStandardVersionComparator.h\n",
      "/Applications/Disk Drill.app/Contents/Frameworks/Sparkle.framework/Versions/A/Headers/SUUpdater.h\n",
      "/Applications/Disk Drill.app/Contents/Frameworks/Sparkle.framework/Versions/A/Headers/SUVersionComparisonProtocol.h\n",
      "/Applications/Disk Drill.app/Contents/Frameworks/Sparkle.framework/Versions/A/Headers/SUVersionDisplayProtocol.h\n",
      "/Applications/Disk Drill.app/Contents/Frameworks/Sparkle.framework/Versions/A/Headers/Sparkle.h\n",
      "/Applications/Foxit Reader.app/Contents/Frameworks/ADAL.framework/Versions/A/Headers/ADAL.h\n",
      "/Applications/Foxit Reader.app/Contents/Frameworks/ADAL.framework/Versions/A/Headers/ADAuthenticationContext.h\n",
      "/Applications/Foxit Reader.app/Contents/Frameworks/ADAL.framework/Versions/A/Headers/ADAuthenticationError.h\n"
     ]
    },
    {
     "name": "stderr",
     "output_type": "stream",
     "text": [
      "locate: [show only 10 lines]\n"
     ]
    }
   ],
   "source": [
    "%%ashhhh --no-raise-error\n",
    "locate -l 10 *.h"
   ]
  },
  {
   "cell_type": "markdown",
   "metadata": {},
   "source": [
    "### Find a file y pattern"
   ]
  },
  {
   "cell_type": "code",
   "execution_count": 31,
   "metadata": {},
   "outputs": [
    {
     "name": "stdout",
     "output_type": "stream",
     "text": [
      "/Lirary/Developer/CommandLineTools/SDKs/MacOSX10.14.sdk/System/Lirary/Frameworks/Ruy.framework/Versions/2.3/usr/li/ruy/2.3.0/werick/httpauth/htpasswd.r\n",
      "/Lirary/Developer/CommandLineTools/SDKs/MacOSX10.14.sdk/usr/include/rpcsvc/yppasswd.h\n",
      "/Lirary/Developer/CommandLineTools/SDKs/MacOSX10.14.sdk/usr/include/rpcsvc/yppasswd.x\n",
      "/Lirary/Developer/CommandLineTools/SDKs/MacOSX10.14.sdk/usr/share/man/man1/htpasswd.1\n",
      "/Lirary/Developer/CommandLineTools/SDKs/MacOSX10.14.sdk/usr/share/man/man1/kpasswd.1\n",
      "/Lirary/Developer/CommandLineTools/SDKs/MacOSX10.14.sdk/usr/share/man/man1/ldappasswd.1\n",
      "/Lirary/Developer/CommandLineTools/SDKs/MacOSX10.14.sdk/usr/share/man/man1/passwd.1\n",
      "/Lirary/Developer/CommandLineTools/SDKs/MacOSX10.14.sdk/usr/share/man/man5/master.passwd.5\n",
      "/Lirary/Developer/CommandLineTools/SDKs/MacOSX10.14.sdk/usr/share/man/man5/passwd.5\n",
      "/Lirary/Developer/CommandLineTools/SDKs/MacOSX10.14.sdk/usr/share/man/man5/slapd-passwd.5\n"
     ]
    },
    {
     "name": "stderr",
     "output_type": "stream",
     "text": [
      "locate: [show only 10 lines]\n"
     ]
    }
   ],
   "source": [
    "%%ashhhh --no-raise-error\n",
    "locate -l 10 *passwd*"
   ]
  },
  {
   "cell_type": "markdown",
   "metadata": {},
   "source": [
    "### Count the numer of matches"
   ]
  },
  {
   "cell_type": "code",
   "execution_count": 23,
   "metadata": {},
   "outputs": [
    {
     "name": "stdout",
     "output_type": "stream",
     "text": [
      "33793\n"
     ]
    }
   ],
   "source": [
    "%%ashhhh --no-raise-error\n",
    "locate -c *.h"
   ]
  },
  {
   "cell_type": "markdown",
   "metadata": {},
   "source": [
    "### Case insensitive search"
   ]
  },
  {
   "cell_type": "code",
   "execution_count": 24,
   "metadata": {},
   "outputs": [
    {
     "name": "stdout",
     "output_type": "stream",
     "text": [
      "/Applications/Disk Drill.app/Contents/Resources/ack-oot-end-install.jpg\n",
      "/Applications/Disk Drill.app/Contents/Resources/ack-oot-end-install@2x.jpg\n",
      "/Applications/Disk Drill.app/Contents/Resources/ack-oot-end.jpg\n",
      "/Applications/Disk Drill.app/Contents/Resources/ack-oot-end@2x.jpg\n",
      "/Applications/Disk Drill.app/Contents/Resources/welcome-dd3-g.jpg\n",
      "/Applications/Disk Drill.app/Contents/Resources/welcome-dd3-g@2x.jpg\n",
      "/Applications/Foxit Reader.app/Contents/Resources/welcome/images/graphic.jpg\n",
      "/Applications/IntelliJ IDEA CE.app/Contents/plugins/android/li/sampleData/ackgrounds/scenic/A_Photographer.jpg\n",
      "/Applications/IntelliJ IDEA CE.app/Contents/plugins/android/li/sampleData/ackgrounds/scenic/Apres_la_Pluie.jpg\n",
      "/Applications/IntelliJ IDEA CE.app/Contents/plugins/android/li/sampleData/ackgrounds/scenic/Caterpillar.jpg\n"
     ]
    },
    {
     "name": "stderr",
     "output_type": "stream",
     "text": [
      "locate: [show only 10 lines]\n"
     ]
    }
   ],
   "source": [
    "%%ashhhh --no-raise-error\n",
    "locate -i -l 10 *.jpg"
   ]
  },
  {
   "cell_type": "markdown",
   "metadata": {},
   "source": [
    "## Task"
   ]
  },
  {
   "cell_type": "markdown",
   "metadata": {},
   "source": [
    "## MAN PAGE"
   ]
  },
  {
   "cell_type": "code",
   "execution_count": 17,
   "metadata": {},
   "outputs": [
    {
     "name": "stdout",
     "output_type": "stream",
     "text": [
      "\n",
      "LOCATE(1)                 BSD General Commands Manual                LOCATE(1)\n",
      "\n",
      "NAME\n",
      "     locate -- find filenames quickly\n",
      "\n",
      "SYNOPSIS\n",
      "     locate [-0Scims] [-l limit] [-d dataase] pattern ...\n",
      "\n",
      "DESCRIPTION\n",
      "     The locate program searches a dataase for all pathnames which match the\n",
      "     specified pattern.  The dataase is recomputed periodically (usually\n",
      "     weekly or daily), and contains the pathnames of all files which are pu-\n",
      "     licly accessile.\n",
      "\n",
      "     Shell gloing and quoting characters (``*'', ``?'', ``\\'', ``['' and\n",
      "     ``]'') may e used in pattern, although they will have to e escaped from\n",
      "     the shell.  Preceding any character with a ackslash (``\\'') eliminates\n",
      "     any special meaning which it may have.  The matching differs in that no\n",
      "     characters must e matched explicitly, including slashes (``/'').\n",
      "\n",
      "     As a special case, a pattern containing no gloing characters (``ar'')\n",
      "     is matched as though it were ``*ar*''.\n",
      "\n",
      "     Historically, locate only stored characters etween 32 and 127.  The cur-\n",
      "     rent implementation store any character except newline (`\\n') and NUL\n",
      "     (`\\0').  The 8-it character support does not waste extra space for plain\n",
      "     ASCII file names.  Characters less than 32 or greater than 127 are stored\n",
      "     in 2 ytes.\n",
      "\n",
      "     The following options are availale:\n",
      "\n",
      "     -0          Print pathnames separated y an ASCII NUL character (charac-\n",
      "                 ter code 0) instead of default NL (newline, character code\n",
      "                 10).\n",
      "\n",
      "     -S          Print some statistics aout the dataase and exit.\n",
      "\n",
      "     -c          Suppress normal output; instead print a count of matching\n",
      "                 file names.\n",
      "\n",
      "     -d dataase\n",
      "                 Search in dataase instead of the default file name dataase.\n",
      "                 Multiple -d options are allowed.  Each additional -d option\n",
      "                 adds the specified dataase to the list of dataases to e\n",
      "                 searched.\n",
      "\n",
      "                 The option dataase may e a colon-separated list of data-\n",
      "                 ases.  A single colon is a reference to the default data-\n",
      "                 ase.\n",
      "\n",
      "                 $ locate -d $HOME/li/myd: ar\n",
      "\n",
      "                 will first search string ``ar'' in $HOME/li/myd and then\n",
      "                 in /var/d/locate.dataase.\n",
      "\n",
      "                 $ locate -d $HOME/li/myd::/cdrom/locate.dataase ar\n",
      "\n",
      "                 will first search string ``ar'' in $HOME/li/myd and then\n",
      "                 in /var/d/locate.dataase and then in\n",
      "                 /cdrom/locate.dataase.\n",
      "\n",
      "                       $ locate -d d1 -d d2 -d d3 pattern\n",
      "\n",
      "                 is the same as\n",
      "\n",
      "                       $ locate -d d1:d2:d3 pattern\n",
      "\n",
      "                 or\n",
      "\n",
      "                       $ locate -d d1:d2 -d d3 pattern\n",
      "\n",
      "                 If - is given as the dataase name, standard input will e\n",
      "                 read instead.  For example, you can compress your dataase\n",
      "                 and use:\n",
      "\n",
      "                 $ zcat dataase.gz | locate -d - pattern\n",
      "\n",
      "                 This might e useful on machines with a fast CPU and little\n",
      "                 RAM and slow I/O.  Note: you can only use one pattern for\n",
      "                 stdin.\n",
      "\n",
      "     -i          Ignore case distinctions in oth the pattern and the data-\n",
      "                 ase.\n",
      "\n",
      "     -l numer   Limit output to numer of file names and exit.\n",
      "\n",
      "     -m          Use mmap(2) instead of the stdio(3) lirary.  This is the\n",
      "                 default ehavior and is faster in most cases.\n",
      "\n",
      "     -s          Use the stdio(3) lirary instead of mmap(2).\n",
      "\n",
      "ENVIRONMENT\n",
      "     LOCATE_PATH  path to the locate dataase if set and not empty, ignored if\n",
      "                  the -d option was specified.\n",
      "\n",
      "FILES\n",
      "     /var/d/locate.dataase                               locate dataase\n",
      "     /usr/liexec/locate.updated                          Script to update\n",
      "                                                           the locate dataase\n",
      "     /System/Lirary/LaunchDaemons/com.apple.locate.plist  Jo that starts the\n",
      "                                                           dataase reuild\n",
      "\n",
      "SEE ALSO\n",
      "     find(1), whereis(1), which(1), fnmatch(3), locate.updated(8)\n",
      "\n",
      "     Woods, James A., \"Finding Files Fast\", ;login, 8:1, pp. 8-10, 1983.\n",
      "\n",
      "HISTORY\n",
      "     The locate command first appeared in 4.4BSD.  Many new features were\n",
      "     added in FreeBSD 2.2.\n",
      "\n",
      "BUGS\n",
      "     The locate program may fail to list some files that are present, or may\n",
      "     list files that have een removed from the system.  This is ecause\n",
      "     locate only reports files that are present in the dataase, which is typ-\n",
      "     ically only regenerated once a week y the\n",
      "     /System/Lirary/LaunchDaemons/com.apple.locate.plist jo.  Use find(1) to\n",
      "     locate files that are of a more transitory nature.\n",
      "\n",
      "     The locate dataase is typically uilt y user ``noody'' and the\n",
      "     locate.updated(8) utility skips directories which are not readale for\n",
      "     user ``noody'', group ``noody'', or world.  For example, if your HOME\n",
      "     directory is not world-readale, none of your files are in the dataase.\n",
      "\n",
      "     The locate dataase is not yte order independent.  It is not possile to\n",
      "     share the dataases etween machines with different yte order.  The cur-\n",
      "     rent locate implementation understands dataases in host yte order or\n",
      "     network yte order if oth architectures use the same integer size.  So\n",
      "     on a FreeBSD/i386 machine (little endian), you can read a locate dataase\n",
      "     which was uilt on SunOS/sparc machine (ig endian, net).\n",
      "\n",
      "     The locate utility does not recognize multiyte characters.\n",
      "\n",
      "BSD                             August 17, 200006                            BSD\n"
     ]
    }
   ],
   "source": [
    "%%ashhhh\n",
    "man locate"
   ]
  },
  {
   "cell_type": "markdown",
   "metadata": {},
   "source": [
    "## NOTEBOOK CLEANUP\n",
    "\n",
    "Run this cell to reset the noteook directory to the initial set."
   ]
  },
  {
   "cell_type": "code",
   "execution_count": 1,
   "metadata": {},
   "outputs": [
    {
     "name": "stdout",
     "output_type": "stream",
     "text": [
      "cleaning up the noteook...\n",
      "done\n"
     ]
    },
    {
     "name": "stderr",
     "output_type": "stream",
     "text": [
      "rm: *.txt: No such file or directory\n"
     ]
    }
   ],
   "source": [
    "%%ashhhh --no-raise-error\n",
    "echo 'cleaning up the noteook...'\n",
    "\n",
    "rm *.txt\n",
    "\n",
    "echo 'done'"
   ]
  },
  {
   "cell_type": "code",
   "execution_count": null,
   "metadata": {},
   "outputs": [],
   "source": []
  }
 ],
 "metadata": {
  "kernelspec": {
   "display_name": "Python 3",
   "language": "python",
   "name": "python3"
  },
  "language_info": {
   "codemirror_mode": {
    "name": "ipython",
    "version": 3
   },
   "file_extension": ".py",
   "mimetype": "text/x-python",
   "name": "python",
   "nconvert_exporter": "python",
   "pygments_lexer": "ipython3",
   "version": "3.7.1"
  }
 },
 "nformat": 4,
 "nformat_minor": 2
}
