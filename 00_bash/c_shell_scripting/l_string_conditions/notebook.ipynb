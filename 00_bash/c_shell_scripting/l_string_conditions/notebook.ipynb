{
 "cells": [
  {
   "cell_type": "markdown",
   "metadata": {},
   "source": [
    "# String Conditions\n",
    "\n",
    "| Test    | Meaning |\n",
    "|---------|---------|\n",
    "|`[[ -z STR ]]`| Empty |\n",
    "|`[[ -n STR ]]`| Not Empty |\n",
    "|`[[ STR1 == STR2 ]]`| Equal |\n",
    "|`[[ STR1 != STR1 ]]`| Not Equal |"
   ]
  },
  {
   "cell_type": "markdown",
   "metadata": {},
   "source": [
    "## Examples"
   ]
  },
  {
   "cell_type": "code",
   "execution_count": 22,
   "metadata": {},
   "outputs": [
    {
     "name": "stdout",
     "output_type": "stream",
     "text": [
      "0\n",
      "1\n"
     ]
    }
   ],
   "source": [
    "%%bash\n",
    "# test that the sting is empty\n",
    "[[ -z '' ]]\n",
    "echo $? # true\n",
    "\n",
    "[[ -z 'some string' ]]\n",
    "echo $? # false"
   ]
  },
  {
   "cell_type": "code",
   "execution_count": 21,
   "metadata": {},
   "outputs": [
    {
     "name": "stdout",
     "output_type": "stream",
     "text": [
      "0\n",
      "1\n"
     ]
    }
   ],
   "source": [
    "%%bash\n",
    "# test that the sting is NOT empty\n",
    "[[ -n 'some string' ]]\n",
    "echo $? # true\n",
    "\n",
    "[[ -n '' ]]\n",
    "echo $? # false"
   ]
  },
  {
   "cell_type": "code",
   "execution_count": 20,
   "metadata": {},
   "outputs": [
    {
     "name": "stdout",
     "output_type": "stream",
     "text": [
      "0\n",
      "1\n"
     ]
    }
   ],
   "source": [
    "%%bash\n",
    "# test that strings are equal\n",
    "string='bash'\n",
    "[[ $string == 'bash' ]]\n",
    "echo $? # true\n",
    "\n",
    "[[ $string == 'zsh' ]]\n",
    "echo $? # false"
   ]
  },
  {
   "cell_type": "code",
   "execution_count": 19,
   "metadata": {},
   "outputs": [
    {
     "name": "stdout",
     "output_type": "stream",
     "text": [
      "0\n",
      "1\n"
     ]
    }
   ],
   "source": [
    "%%bash\n",
    "# test that strings are NOT equal\n",
    "string='bash'\n",
    "[[ $string != 'zsh' ]]\n",
    "echo $? # true\n",
    "\n",
    "[[ $string != 'bash' ]]\n",
    "echo $? # false"
   ]
  },
  {
   "cell_type": "code",
   "execution_count": null,
   "metadata": {},
   "outputs": [],
   "source": []
  }
 ],
 "metadata": {
  "kernelspec": {
   "display_name": "Python 3",
   "language": "python",
   "name": "python3"
  },
  "language_info": {
   "codemirror_mode": {
    "name": "ipython",
    "version": 3
   },
   "file_extension": ".py",
   "mimetype": "text/x-python",
   "name": "python",
   "nbconvert_exporter": "python",
   "pygments_lexer": "ipython3",
   "version": "3.7.1"
  }
 },
 "nbformat": 4,
 "nbformat_minor": 2
}
