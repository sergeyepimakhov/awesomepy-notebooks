{
 "cells": [
  {
   "cell_type": "markdown",
   "metadata": {},
   "source": [
    "# Numeric Conditions\n",
    "\n",
    "| Test    | Meaning |\n",
    "|---------|---------|\n",
    "|`(( NUM1 == NUM2 ))`| Equal |\n",
    "|`(( NUM1 != NUM2 ))`| Not Equal |\n",
    "|`(( NUM1 < NUM2 ))`| Less than |\n",
    "|`(( NUM <= NUM ))`| Less than or equal |\n",
    "|`(( NUM > NUM ))`| Greater than |\n",
    "|`(( NUM >= NUM ))`| Greater than or equal |"
   ]
  },
  {
   "cell_type": "markdown",
   "metadata": {},
   "source": [
    "## Examples"
   ]
  },
  {
   "cell_type": "code",
   "execution_count": 46,
   "metadata": {},
   "outputs": [
    {
     "name": "stdout",
     "output_type": "stream",
     "text": [
      "0\n",
      "0\n",
      "0\n",
      "0\n",
      "0\n",
      "0\n"
     ]
    }
   ],
   "source": [
    "%%bash\n",
    "(( 1 == 1 ))\n",
    "echo $? # true\n",
    "\n",
    "(( 1 != 2 ))\n",
    "echo $? # true\n",
    "\n",
    "(( 1 < 2 ))\n",
    "echo $? # true\n",
    "\n",
    "(( 1 <= 2 ))\n",
    "echo $? # true\n",
    "\n",
    "(( 2 > 1 ))\n",
    "echo $? # true\n",
    "\n",
    "(( 2 >= 1 ))\n",
    "echo $? # true"
   ]
  },
  {
   "cell_type": "code",
   "execution_count": null,
   "metadata": {},
   "outputs": [],
   "source": []
  }
 ],
 "metadata": {
  "kernelspec": {
   "display_name": "Python 3",
   "language": "python",
   "name": "python3"
  },
  "language_info": {
   "codemirror_mode": {
    "name": "ipython",
    "version": 3
   },
   "file_extension": ".py",
   "mimetype": "text/x-python",
   "name": "python",
   "nbconvert_exporter": "python",
   "pygments_lexer": "ipython3",
   "version": "3.7.1"
  }
 },
 "nbformat": 4,
 "nbformat_minor": 2
}
