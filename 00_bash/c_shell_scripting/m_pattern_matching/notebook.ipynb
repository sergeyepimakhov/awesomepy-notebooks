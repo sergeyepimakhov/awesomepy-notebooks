{
 "cells": [
  {
   "cell_type": "markdown",
   "metadata": {},
   "source": [
    "# Pattern matching\n",
    "\n",
    "| Test    | Meaning |\n",
    "|---------|---------|\n",
    "|`[[ STR == PATTERN ]]`| Regexp |"
   ]
  },
  {
   "cell_type": "markdown",
   "metadata": {},
   "source": [
    "## Examples"
   ]
  },
  {
   "cell_type": "code",
   "execution_count": 5,
   "metadata": {},
   "outputs": [
    {
     "name": "stdout",
     "output_type": "stream",
     "text": [
      "0\n",
      "1\n",
      "0\n",
      "1\n",
      "0\n",
      "1\n",
      "0\n",
      "1\n"
     ]
    }
   ],
   "source": [
    "%%bash\n",
    "[[ 'file.txt' == *.txt ]]\n",
    "echo $? # true\n",
    "\n",
    "[[ 'file.jpg' == *.txt ]]\n",
    "echo $? # false\n",
    "\n",
    "[[ 'file1.txt' == file?.txt ]]\n",
    "echo $? # true\n",
    "\n",
    "[[ 'file10.txt' == file?.txt ]]\n",
    "echo $? # false\n",
    "\n",
    "[[ 'file1.txt' == file[123].txt ]]\n",
    "echo $? # true\n",
    "\n",
    "[[ 'file4.txt' == file[123].txt ]]\n",
    "echo $? # false\n",
    "\n",
    "[[ 'file4.txt' == file[!123].txt ]]\n",
    "echo $? # true\n",
    "\n",
    "[[ 'file1.txt' == file[!123].txt ]]\n",
    "echo $? # false"
   ]
  },
  {
   "cell_type": "code",
   "execution_count": null,
   "metadata": {},
   "outputs": [],
   "source": []
  }
 ],
 "metadata": {
  "kernelspec": {
   "display_name": "Python 3",
   "language": "python",
   "name": "python3"
  },
  "language_info": {
   "codemirror_mode": {
    "name": "ipython",
    "version": 3
   },
   "file_extension": ".py",
   "mimetype": "text/x-python",
   "name": "python",
   "nbconvert_exporter": "python",
   "pygments_lexer": "ipython3",
   "version": "3.7.1"
  }
 },
 "nbformat": 4,
 "nbformat_minor": 2
}
