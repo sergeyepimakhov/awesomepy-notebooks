{
 "cells": [
  {
   "cell_type": "markdown",
   "metadata": {},
   "source": [
    "# Shell Scripting\n",
    "\n",
    "## Exit status\n",
    "\n",
    "```ashhhh\n",
    "$?\n",
    "\n",
    "# 0 success\n",
    "# 2 \n",
    "# 126\n",
    "# 127\n",
    "# 128+N\n",
    "```\n",
    "\n",
    "## Brace Expansion\n",
    "https://devhints.io/ashhhh#parameter-expansions"
   ]
  },
  {
   "cell_type": "markdown",
   "metadata": {},
   "source": [
    "## Quotes\n",
    "\n",
    "```ashhhh\n",
    "NAME=\"John\"\n",
    "echo \"Hi $NAME\"  #=> Hi John\n",
    "echo 'Hi $NAME'  #=> Hi $NAME\n",
    "```\n",
    "\n",
    "## Variales\n",
    "\n",
    "```ashhhh\n",
    "export var=ff\n",
    "var=fff\n",
    "```\n",
    "\n",
    "## Conditionals\n",
    "\n",
    "## Conditional execution\n",
    "\n",
    "```ashhhh\n",
    "git commit && git push\n",
    "git commit || echo \"Commit failed\"\n",
    "```\n",
    "\n",
    "## Functions\n",
    "\n",
    "## Loops\n",
    "\n",
    "## Arrays\n",
    "\n",
    "## Arithmetic Expressions (shell executions)\n",
    "\n",
    "```ashhhh\n",
    "echo \"I'm in $(pwd)\"\n",
    "echo \"I'm in `pwd`\"\n",
    "# Same\n",
    "```\n",
    "\n",
    "Syntax:\n",
    "\n",
    "```ashhhh\n",
    "$((expr))\n",
    "```\n",
    "\n",
    "Operators\n",
    "\n",
    "## Getting options (Reading args)\n",
    "\n",
    "```ashhhh\n",
    "while [[ \"$1\" =~ ^- && ! \"$1\" == \"--\" ]]; do case $1 in\n",
    "  -V | --version )\n",
    "    echo $version\n",
    "    exit\n",
    "    ;;\n",
    "  -s | --string )\n",
    "    shift; string=$1\n",
    "    ;;\n",
    "  -f | --flag )\n",
    "    flag=1\n",
    "    ;;\n",
    "esac; shift; done\n",
    "if [[ \"$1\" == '--' ]]; then shift; fi\n",
    "```\n",
    "\n",
    "## Case/switch\n",
    "\n"
   ]
  },
  {
   "cell_type": "code",
   "execution_count": null,
   "metadata": {},
   "outputs": [],
   "source": []
  },
  {
   "cell_type": "code",
   "execution_count": null,
   "metadata": {},
   "outputs": [],
   "source": []
  },
  {
   "cell_type": "markdown",
   "metadata": {},
   "source": [
    "# Creating Scripts\n",
    "\n",
    "1. Create a new file with the `.sh` extension. \n",
    "```bash\n",
    "touch myscript.sh\n",
    "```\n",
    "2. Add the line\n",
    "```bash\n",
    "!#/bin/bash\n",
    "```\n",
    "to the very top of the script file\n",
    "3. Make the file executable\n",
    "```bash\n",
    "chmod +x myscript.sh\n",
    "```\n",
    "4. Put bash commands into the file.\n",
    "\n"
   ]
  },
  {
   "cell_type": "markdown",
   "metadata": {},
   "source": [
    "# Running Scripts\n",
    "\n",
    "## Run from the current folder\n",
    "If the script is in your current folder you can run the script as follows:\n",
    "```bash\n",
    "./myscript.sh\n",
    "```\n",
    "\n",
    "## Pass to bash\n",
    "Bash will interpret its argument as the name of a script and run it. \n",
    "```bash\n",
    "bash myscript.sh\n",
    "```\n",
    "## Source the script\n",
    "The methods above will run your script as an independent entity that has no effect on your current shell. If you want to make changes to your own shell (setting variables, changing directory etc) it can be run with the `source` or `.` command:\n",
    "```bash\n",
    ". myscript.sh\n",
    "# or alternatively\n",
    "source myscript.sh\n",
    "```"
   ]
  },
  {
   "cell_type": "markdown",
   "metadata": {},
   "source": [
    "## Linebreaks\n",
    "\n",
    "Use `\\` to break a long line.\n",
    "\n",
    "### Linebreak in a command\n",
    "```bash\n",
    "%%bash\n",
    "echo /long/path/to/file1 \\\n",
    "/long/path/to/file2 \\\n",
    "/long/path/to/file3 \\\n",
    "/long/path/to/file4 \\\n",
    "/long/path/to/file5\n",
    "```\n",
    "\n",
    "### Linebreak in a string\n",
    "```bash\n",
    "%%bash\n",
    "printf \"%s\\n\" \"This is a very long printf. How long is it? \\\n",
    "It's so long that I continued it on the next line.\"\n",
    "```"
   ]
  },
  {
   "cell_type": "markdown",
   "metadata": {},
   "source": [
    "## Variables\n",
    "\n",
    "All values held in variables are strings, but if they are numeric, the shell will treat them as number when appropriate."
   ]
  },
  {
   "cell_type": "code",
   "execution_count": 38,
   "metadata": {},
   "outputs": [
    {
     "name": "stdout",
     "output_type": "stream",
     "text": [
      "The value of \"VAR\": value.\n",
      "The value of \"VAR\": value.\n",
      "The value of \"VAR\": value.\n",
      "The value of \"STRING\": some message.\n",
      "The value of \"STRING\": some message.\n",
      "The value of \"NUMBER\": 100.\n",
      "300\n",
      "The value of \"NUMBER\": 100.\n",
      "300\n",
      "The value of \"NUMBER\": 100.\n",
      "300\n",
      "The value of \"NUMBER\": 300.\n",
      "The value of \"a\": 10.\n",
      "The value of \"b\": 10.\n",
      "The value of \"ARCH\": x86_64.\n",
      "The value of \"ARCH\": x86_64.\n"
     ]
    }
   ],
   "source": [
    "%%bash\n",
    "# Simple assignment\n",
    "\n",
    "## variable assignment\n",
    "VAR=value\n",
    "echo \"The value of \\\"VAR\\\": $VAR.\"\n",
    "\n",
    "VAR='value'\n",
    "echo \"The value of \\\"VAR\\\": $VAR.\"\n",
    "\n",
    "VAR=\"value\"\n",
    "echo \"The value of \\\"VAR\\\": $VAR.\"\n",
    "\n",
    "## string assignment\n",
    "STRING='some message'\n",
    "echo \"The value of \\\"STRING\\\": $STRING.\"\n",
    "\n",
    "STRING=\"some message\"\n",
    "echo \"The value of \\\"STRING\\\": $STRING.\"\n",
    "\n",
    "## number assignment\n",
    "NUMBER=100\n",
    "echo \"The value of \\\"NUMBER\\\": $NUMBER.\"\n",
    "expr $NUMBER + 200\n",
    "\n",
    "NUMBER=\"100\"\n",
    "echo \"The value of \\\"NUMBER\\\": $NUMBER.\"\n",
    "expr $NUMBER + 200\n",
    "\n",
    "NUMBER='100'\n",
    "echo \"The value of \\\"NUMBER\\\": $NUMBER.\"\n",
    "expr $NUMBER + 200\n",
    "\n",
    "## number assignment using let\n",
    "let NUMBER=100+200\n",
    "echo \"The value of \\\"NUMBER\\\": $NUMBER.\"\n",
    "\n",
    "# Advanced assignment\n",
    "a=10\n",
    "b=$a\n",
    "echo \"The value of \\\"a\\\": $a.\"\n",
    "echo \"The value of \\\"b\\\": $b.\"\n",
    "\n",
    "ARCH=$(uname -m)\n",
    "echo \"The value of \\\"ARCH\\\": $ARCH.\"\n",
    "\n",
    "ARCH=`uname -m`\n",
    "echo \"The value of \\\"ARCH\\\": $ARCH.\""
   ]
  },
  {
   "cell_type": "markdown",
   "metadata": {},
   "source": [
    "# Input\n",
    "\n",
    "Input is provided by the `read` command, which reads one line from standard input and stores it in a variable:\n",
    "\n",
    "```bash\n",
    "$ read NAME\n",
    "John Smith <ENTER>\n",
    "$ echo 'The given name is $NAME'\n",
    "```\n"
   ]
  },
  {
   "cell_type": "markdown",
   "metadata": {},
   "source": [
    "## Output\n",
    "\n",
    "Script output is provided by the `echo` and `printf` commands: \n",
    "\n",
    "```bash\n",
    "echo \"Some output\"\n",
    "printf \"Today is %s\" `date \"+%Y-%m-%d\"`\n",
    "```"
   ]
  },
  {
   "cell_type": "markdown",
   "metadata": {},
   "source": [
    "# Test a Condition\n",
    "\n",
    "Test command will evaluate simple boolean expression and return its exit status `true` or `false`. The `test` command takes one of the following syntax forms:\n",
    "\n",
    "```bash\n",
    "test EXPRESSION  # standard buildin\n",
    "[ EXPRESSION ]   # conditionals and loops (POSIX portable, alias of the previous command)\n",
    "[[ EXPRESSION ]] # conditionals and loops (more powerful, less portable)\n",
    "```\n",
    "\n",
    "## Combining Test Conditions\n",
    "\n",
    "### AND\n",
    "```bash\n",
    "test t1 -a t2\n",
    "[[ X ]] && [[ Y ]]\n",
    "```\n",
    "### OR\n",
    "```bash\n",
    "test t1 -o t2\n",
    "[[ X ]] || [[ Y ]]\n",
    "```\n",
    "### NOR\n",
    "```bash\n",
    "test ! tst\n",
    "[[ ! EXPR ]]\n",
    "```"
   ]
  },
  {
   "cell_type": "code",
   "execution_count": 38,
   "metadata": {},
   "outputs": [
    {
     "name": "stdout",
     "output_type": "stream",
     "text": [
      "1\n",
      "1\n",
      "1\n"
     ]
    }
   ],
   "source": [
    "%%bash\n",
    "test 10 -lt 5 # Is 10 less than 5\n",
    "echo $?\n",
    "\n",
    "[ 10 -lt 5 ] # POSIX portable\n",
    "echo $?\n",
    "\n",
    "[[ 10 -lt 5 ]] # modern shells\n",
    "echo $?"
   ]
  },
  {
   "cell_type": "markdown",
   "metadata": {},
   "source": [
    "# File Conditions\n",
    "\n",
    "| Test    | Meaning |\n",
    "|---------|---------|\n",
    "|`-e PATH`| Exists |\n",
    "|`-r PATH`| Readable |\n",
    "|`-h PATH`| Symlink |\n",
    "|`-d PATH`| Directory |\n",
    "|`-w PATH`| Writable |\n",
    "|`-s PATH`| Non-zero size |\n",
    "|`-x PATH`| Executable |\n",
    "|`PATH1 -nt PATH2`| 1 newer than 2 |\n",
    "|`PATH1 -ot PATH2`| 1 older than 2 |\n",
    "|`PATH1 -ef PATH2`| Same |"
   ]
  },
  {
   "cell_type": "markdown",
   "metadata": {},
   "source": [
    "# String Conditions\n",
    "\n",
    "| Test    | Meaning |\n",
    "|---------|---------|\n",
    "|`-z STRING`| Empty |\n",
    "|`-n STRING`| Not Empty |\n",
    "|`STRING1 == STRING2`| Equal |\n",
    "|`STRING1 != STRING1`| Not Equal |"
   ]
  },
  {
   "cell_type": "code",
   "execution_count": 55,
   "metadata": {},
   "outputs": [
    {
     "name": "stdout",
     "output_type": "stream",
     "text": [
      "0\n"
     ]
    }
   ],
   "source": [
    "%%bash\n",
    "test -z ''\n",
    "echo $?"
   ]
  },
  {
   "cell_type": "code",
   "execution_count": 56,
   "metadata": {},
   "outputs": [
    {
     "name": "stdout",
     "output_type": "stream",
     "text": [
      "0\n"
     ]
    }
   ],
   "source": [
    "%%bash\n",
    "test -n 'sring'\n",
    "echo $?"
   ]
  },
  {
   "cell_type": "code",
   "execution_count": 57,
   "metadata": {},
   "outputs": [
    {
     "name": "stdout",
     "output_type": "stream",
     "text": [
      "0\n",
      "0\n"
     ]
    }
   ],
   "source": [
    "%%bash\n",
    "test 'string' == 'string'\n",
    "echo $?\n",
    "\n",
    "test '' == ''\n",
    "echo $?"
   ]
  },
  {
   "cell_type": "code",
   "execution_count": 58,
   "metadata": {},
   "outputs": [
    {
     "name": "stdout",
     "output_type": "stream",
     "text": [
      "0\n"
     ]
    }
   ],
   "source": [
    "%%bash\n",
    "test 'one string' != 'another string'\n",
    "echo $?"
   ]
  },
  {
   "cell_type": "markdown",
   "metadata": {},
   "source": [
    "# Numeric Conditions\n",
    "\n",
    "| Test    | Meaning |\n",
    "|---------|---------|\n",
    "|`NUM1 -eq NUM2`| Equal |\n",
    "|`NUM1 -ne NUM2`| Not Equal |\n",
    "|`NUM1 -lt NUM2`| Less than |\n",
    "|`NUM -le NUM`| Less than or equal |\n",
    "|`NUM -gt NUM`| Greater than |\n",
    "|`NUM -ge NUM`| Greater than or equal |"
   ]
  },
  {
   "cell_type": "code",
   "execution_count": 66,
   "metadata": {},
   "outputs": [
    {
     "name": "stdout",
     "output_type": "stream",
     "text": [
      "0\n"
     ]
    }
   ],
   "source": [
    "%%bash\n",
    "test 1 -eq 1\n",
    "echo $?"
   ]
  },
  {
   "cell_type": "code",
   "execution_count": 76,
   "metadata": {},
   "outputs": [],
   "source": [
    "#%%bash\n",
    "#NUM1=1\n",
    "#NUM2=1\n",
    "#test (( $NUM1 < $NUM1 ))\n",
    "#echo $?"
   ]
  },
  {
   "cell_type": "code",
   "execution_count": 67,
   "metadata": {},
   "outputs": [
    {
     "name": "stdout",
     "output_type": "stream",
     "text": [
      "0\n"
     ]
    }
   ],
   "source": [
    "%%bash\n",
    "test 1 -ne 2\n",
    "echo $?"
   ]
  },
  {
   "cell_type": "code",
   "execution_count": 68,
   "metadata": {},
   "outputs": [
    {
     "name": "stdout",
     "output_type": "stream",
     "text": [
      "0\n"
     ]
    }
   ],
   "source": [
    "%%bash\n",
    "test 1 -lt 2\n",
    "echo $?"
   ]
  },
  {
   "cell_type": "code",
   "execution_count": 69,
   "metadata": {},
   "outputs": [
    {
     "name": "stdout",
     "output_type": "stream",
     "text": [
      "0\n",
      "0\n"
     ]
    }
   ],
   "source": [
    "%%bash\n",
    "test 1 -le 2\n",
    "echo $?\n",
    "test 1 -le 1\n",
    "echo $?"
   ]
  },
  {
   "cell_type": "code",
   "execution_count": 70,
   "metadata": {},
   "outputs": [
    {
     "name": "stdout",
     "output_type": "stream",
     "text": [
      "0\n"
     ]
    }
   ],
   "source": [
    "%%bash\n",
    "test 2 -gt 1\n",
    "echo $?"
   ]
  },
  {
   "cell_type": "code",
   "execution_count": 73,
   "metadata": {},
   "outputs": [
    {
     "name": "stdout",
     "output_type": "stream",
     "text": [
      "0\n",
      "0\n"
     ]
    }
   ],
   "source": [
    "%%bash\n",
    "test 2 -ge 1\n",
    "echo $?\n",
    "test 1 -ge 1\n",
    "echo $?"
   ]
  },
  {
   "cell_type": "markdown",
   "metadata": {},
   "source": [
    "# Regexp Conditions\n",
    "\n",
    "| Test    | Meaning |\n",
    "|---------|---------|\n",
    "|`[[ STRING =~ REGEX ]]`| Regexp |"
   ]
  },
  {
   "cell_type": "code",
   "execution_count": 86,
   "metadata": {},
   "outputs": [
    {
     "name": "stdout",
     "output_type": "stream",
     "text": [
      "0\n"
     ]
    }
   ],
   "source": [
    "%%bash\n",
    "[[ 'string' =~ 'ing' ]]\n",
    "echo $?"
   ]
  },
  {
   "cell_type": "markdown",
   "metadata": {},
   "source": [
    "# Pattern matching"
   ]
  },
  {
   "cell_type": "code",
   "execution_count": 11,
   "metadata": {},
   "outputs": [
    {
     "name": "stdout",
     "output_type": "stream",
     "text": [
      "0\n",
      "0\n",
      "0\n",
      "true\n",
      "0\n"
     ]
    }
   ],
   "source": [
    "%%bash\n",
    "file='file0.txt'\n",
    "[[ $file == *.txt ]]\n",
    "echo $?\n",
    "\n",
    "[[ $file == file?.txt ]]\n",
    "echo $?\n",
    "\n",
    "[[ $file == file[012].txt ]]\n",
    "echo $?\n",
    "\n",
    "if [[ $file == file[!123].txt ]]; then echo 'true'; else echo 'false'; fi \n",
    "echo $?"
   ]
  },
  {
   "cell_type": "markdown",
   "metadata": {},
   "source": [
    "## Function\n",
    "\n",
    "```bash\n",
    "function name() {\n",
    " # body\n",
    "}\n",
    "# or\n",
    "function name {\n",
    " # body\n",
    "}\n",
    "```"
   ]
  },
  {
   "cell_type": "code",
   "execution_count": 14,
   "metadata": {},
   "outputs": [
    {
     "name": "stdout",
     "output_type": "stream",
     "text": [
      "my func\n",
      "0\n"
     ]
    }
   ],
   "source": [
    "%%bash\n",
    "\n",
    "function f() {\n",
    "    echo 'my func'\n",
    "}\n",
    "\n",
    "f\n",
    "echo $?"
   ]
  },
  {
   "cell_type": "code",
   "execution_count": 16,
   "metadata": {},
   "outputs": [
    {
     "name": "stdout",
     "output_type": "stream",
     "text": [
      "arg1\n",
      "arg2\n",
      "arg3\n"
     ]
    },
    {
     "ename": "CalledProcessError",
     "evalue": "Command 'b'\\n# passing input arguments\\nfunction f() {\\n    echo $1\\n    echo $2\\n    echo $3\\n    exit 1\\n}\\n\\nf arg1 arg2 arg3\\necho $?\\n'' returned non-zero exit status 1.",
     "output_type": "error",
     "traceback": [
      "\u001b[0;31m---------------------------------------------------------------------------\u001b[0m",
      "\u001b[0;31mCalledProcessError\u001b[0m                        Traceback (most recent call last)",
      "\u001b[0;32m<ipython-input-16-5810072c8e7a>\u001b[0m in \u001b[0;36m<module>\u001b[0;34m\u001b[0m\n\u001b[0;32m----> 1\u001b[0;31m \u001b[0mget_ipython\u001b[0m\u001b[0;34m(\u001b[0m\u001b[0;34m)\u001b[0m\u001b[0;34m.\u001b[0m\u001b[0mrun_cell_magic\u001b[0m\u001b[0;34m(\u001b[0m\u001b[0;34m'bash'\u001b[0m\u001b[0;34m,\u001b[0m \u001b[0;34m''\u001b[0m\u001b[0;34m,\u001b[0m \u001b[0;34m'\\n# passing input arguments\\nfunction f() {\\n    echo $1\\n    echo $2\\n    echo $3\\n    exit 1\\n}\\n\\nf arg1 arg2 arg3\\necho $?\\n'\u001b[0m\u001b[0;34m)\u001b[0m\u001b[0;34m\u001b[0m\u001b[0;34m\u001b[0m\u001b[0m\n\u001b[0m",
      "\u001b[0;32m~/anaconda3/lib/python3.7/site-packages/IPython/core/interactiveshell.py\u001b[0m in \u001b[0;36mrun_cell_magic\u001b[0;34m(self, magic_name, line, cell)\u001b[0m\n\u001b[1;32m   2321\u001b[0m             \u001b[0mmagic_arg_s\u001b[0m \u001b[0;34m=\u001b[0m \u001b[0mself\u001b[0m\u001b[0;34m.\u001b[0m\u001b[0mvar_expand\u001b[0m\u001b[0;34m(\u001b[0m\u001b[0mline\u001b[0m\u001b[0;34m,\u001b[0m \u001b[0mstack_depth\u001b[0m\u001b[0;34m)\u001b[0m\u001b[0;34m\u001b[0m\u001b[0;34m\u001b[0m\u001b[0m\n\u001b[1;32m   2322\u001b[0m             \u001b[0;32mwith\u001b[0m \u001b[0mself\u001b[0m\u001b[0;34m.\u001b[0m\u001b[0mbuiltin_trap\u001b[0m\u001b[0;34m:\u001b[0m\u001b[0;34m\u001b[0m\u001b[0;34m\u001b[0m\u001b[0m\n\u001b[0;32m-> 2323\u001b[0;31m                 \u001b[0mresult\u001b[0m \u001b[0;34m=\u001b[0m \u001b[0mfn\u001b[0m\u001b[0;34m(\u001b[0m\u001b[0mmagic_arg_s\u001b[0m\u001b[0;34m,\u001b[0m \u001b[0mcell\u001b[0m\u001b[0;34m)\u001b[0m\u001b[0;34m\u001b[0m\u001b[0;34m\u001b[0m\u001b[0m\n\u001b[0m\u001b[1;32m   2324\u001b[0m             \u001b[0;32mreturn\u001b[0m \u001b[0mresult\u001b[0m\u001b[0;34m\u001b[0m\u001b[0;34m\u001b[0m\u001b[0m\n\u001b[1;32m   2325\u001b[0m \u001b[0;34m\u001b[0m\u001b[0m\n",
      "\u001b[0;32m~/anaconda3/lib/python3.7/site-packages/IPython/core/magics/script.py\u001b[0m in \u001b[0;36mnamed_script_magic\u001b[0;34m(line, cell)\u001b[0m\n\u001b[1;32m    140\u001b[0m             \u001b[0;32melse\u001b[0m\u001b[0;34m:\u001b[0m\u001b[0;34m\u001b[0m\u001b[0;34m\u001b[0m\u001b[0m\n\u001b[1;32m    141\u001b[0m                 \u001b[0mline\u001b[0m \u001b[0;34m=\u001b[0m \u001b[0mscript\u001b[0m\u001b[0;34m\u001b[0m\u001b[0;34m\u001b[0m\u001b[0m\n\u001b[0;32m--> 142\u001b[0;31m             \u001b[0;32mreturn\u001b[0m \u001b[0mself\u001b[0m\u001b[0;34m.\u001b[0m\u001b[0mshebang\u001b[0m\u001b[0;34m(\u001b[0m\u001b[0mline\u001b[0m\u001b[0;34m,\u001b[0m \u001b[0mcell\u001b[0m\u001b[0;34m)\u001b[0m\u001b[0;34m\u001b[0m\u001b[0;34m\u001b[0m\u001b[0m\n\u001b[0m\u001b[1;32m    143\u001b[0m \u001b[0;34m\u001b[0m\u001b[0m\n\u001b[1;32m    144\u001b[0m         \u001b[0;31m# write a basic docstring:\u001b[0m\u001b[0;34m\u001b[0m\u001b[0;34m\u001b[0m\u001b[0;34m\u001b[0m\u001b[0m\n",
      "\u001b[0;32m<decorator-gen-109>\u001b[0m in \u001b[0;36mshebang\u001b[0;34m(self, line, cell)\u001b[0m\n",
      "\u001b[0;32m~/anaconda3/lib/python3.7/site-packages/IPython/core/magic.py\u001b[0m in \u001b[0;36m<lambda>\u001b[0;34m(f, *a, **k)\u001b[0m\n\u001b[1;32m    185\u001b[0m     \u001b[0;31m# but it's overkill for just that one bit of state.\u001b[0m\u001b[0;34m\u001b[0m\u001b[0;34m\u001b[0m\u001b[0;34m\u001b[0m\u001b[0m\n\u001b[1;32m    186\u001b[0m     \u001b[0;32mdef\u001b[0m \u001b[0mmagic_deco\u001b[0m\u001b[0;34m(\u001b[0m\u001b[0marg\u001b[0m\u001b[0;34m)\u001b[0m\u001b[0;34m:\u001b[0m\u001b[0;34m\u001b[0m\u001b[0;34m\u001b[0m\u001b[0m\n\u001b[0;32m--> 187\u001b[0;31m         \u001b[0mcall\u001b[0m \u001b[0;34m=\u001b[0m \u001b[0;32mlambda\u001b[0m \u001b[0mf\u001b[0m\u001b[0;34m,\u001b[0m \u001b[0;34m*\u001b[0m\u001b[0ma\u001b[0m\u001b[0;34m,\u001b[0m \u001b[0;34m**\u001b[0m\u001b[0mk\u001b[0m\u001b[0;34m:\u001b[0m \u001b[0mf\u001b[0m\u001b[0;34m(\u001b[0m\u001b[0;34m*\u001b[0m\u001b[0ma\u001b[0m\u001b[0;34m,\u001b[0m \u001b[0;34m**\u001b[0m\u001b[0mk\u001b[0m\u001b[0;34m)\u001b[0m\u001b[0;34m\u001b[0m\u001b[0;34m\u001b[0m\u001b[0m\n\u001b[0m\u001b[1;32m    188\u001b[0m \u001b[0;34m\u001b[0m\u001b[0m\n\u001b[1;32m    189\u001b[0m         \u001b[0;32mif\u001b[0m \u001b[0mcallable\u001b[0m\u001b[0;34m(\u001b[0m\u001b[0marg\u001b[0m\u001b[0;34m)\u001b[0m\u001b[0;34m:\u001b[0m\u001b[0;34m\u001b[0m\u001b[0;34m\u001b[0m\u001b[0m\n",
      "\u001b[0;32m~/anaconda3/lib/python3.7/site-packages/IPython/core/magics/script.py\u001b[0m in \u001b[0;36mshebang\u001b[0;34m(self, line, cell)\u001b[0m\n\u001b[1;32m    243\u001b[0m             \u001b[0msys\u001b[0m\u001b[0;34m.\u001b[0m\u001b[0mstderr\u001b[0m\u001b[0;34m.\u001b[0m\u001b[0mflush\u001b[0m\u001b[0;34m(\u001b[0m\u001b[0;34m)\u001b[0m\u001b[0;34m\u001b[0m\u001b[0;34m\u001b[0m\u001b[0m\n\u001b[1;32m    244\u001b[0m         \u001b[0;32mif\u001b[0m \u001b[0margs\u001b[0m\u001b[0;34m.\u001b[0m\u001b[0mraise_error\u001b[0m \u001b[0;32mand\u001b[0m \u001b[0mp\u001b[0m\u001b[0;34m.\u001b[0m\u001b[0mreturncode\u001b[0m\u001b[0;34m!=\u001b[0m\u001b[0;36m0\u001b[0m\u001b[0;34m:\u001b[0m\u001b[0;34m\u001b[0m\u001b[0;34m\u001b[0m\u001b[0m\n\u001b[0;32m--> 245\u001b[0;31m             \u001b[0;32mraise\u001b[0m \u001b[0mCalledProcessError\u001b[0m\u001b[0;34m(\u001b[0m\u001b[0mp\u001b[0m\u001b[0;34m.\u001b[0m\u001b[0mreturncode\u001b[0m\u001b[0;34m,\u001b[0m \u001b[0mcell\u001b[0m\u001b[0;34m,\u001b[0m \u001b[0moutput\u001b[0m\u001b[0;34m=\u001b[0m\u001b[0mout\u001b[0m\u001b[0;34m,\u001b[0m \u001b[0mstderr\u001b[0m\u001b[0;34m=\u001b[0m\u001b[0merr\u001b[0m\u001b[0;34m)\u001b[0m\u001b[0;34m\u001b[0m\u001b[0;34m\u001b[0m\u001b[0m\n\u001b[0m\u001b[1;32m    246\u001b[0m \u001b[0;34m\u001b[0m\u001b[0m\n\u001b[1;32m    247\u001b[0m     \u001b[0;32mdef\u001b[0m \u001b[0m_run_script\u001b[0m\u001b[0;34m(\u001b[0m\u001b[0mself\u001b[0m\u001b[0;34m,\u001b[0m \u001b[0mp\u001b[0m\u001b[0;34m,\u001b[0m \u001b[0mcell\u001b[0m\u001b[0;34m,\u001b[0m \u001b[0mto_close\u001b[0m\u001b[0;34m)\u001b[0m\u001b[0;34m:\u001b[0m\u001b[0;34m\u001b[0m\u001b[0;34m\u001b[0m\u001b[0m\n",
      "\u001b[0;31mCalledProcessError\u001b[0m: Command 'b'\\n# passing input arguments\\nfunction f() {\\n    echo $1\\n    echo $2\\n    echo $3\\n    exit 1\\n}\\n\\nf arg1 arg2 arg3\\necho $?\\n'' returned non-zero exit status 1."
     ]
    }
   ],
   "source": [
    "%%bash\n",
    "\n",
    "# passing input arguments\n",
    "function f() {\n",
    "    echo $1\n",
    "    echo $2\n",
    "    echo $3\n",
    "}\n",
    "\n",
    "f arg1 arg2 arg3\n",
    "echo $?"
   ]
  },
  {
   "cell_type": "code",
   "execution_count": null,
   "metadata": {},
   "outputs": [],
   "source": []
  }
 ],
 "metadata": {
  "kernelspec": {
   "display_name": "Python 3",
   "language": "python",
   "name": "python3"
  },
  "language_info": {
   "codemirror_mode": {
    "name": "ipython",
    "version": 3
   },
   "file_extension": ".py",
   "mimetype": "text/x-python",
   "name": "python",
   "nbconvert_exporter": "python",
   "pygments_lexer": "ipython3",
   "version": "3.7.1"
  }
 },
 "nbformat": 4,
 "nbformat_minor": 2
}
