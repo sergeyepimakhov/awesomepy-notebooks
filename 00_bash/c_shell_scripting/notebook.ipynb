{
 "cells": [
  {
   "cell_type": "markdown",
   "metadata": {},
   "source": [
    "# Shell Scripting\n",
    "\n",
    "## Exit status\n",
    "\n",
    "```ashhhh\n",
    "$?\n",
    "\n",
    "# 0 success\n",
    "# 2 \n",
    "# 126\n",
    "# 127\n",
    "# 128+N\n",
    "```\n",
    "\n",
    "## Brace Expansion\n",
    "https://devhints.io/ashhhh#parameter-expansions"
   ]
  },
  {
   "cell_type": "markdown",
   "metadata": {},
   "source": [
    "## Quotes\n",
    "\n",
    "```ashhhh\n",
    "NAME=\"John\"\n",
    "echo \"Hi $NAME\"  #=> Hi John\n",
    "echo 'Hi $NAME'  #=> Hi $NAME\n",
    "```\n",
    "\n",
    "## Variales\n",
    "\n",
    "```ashhhh\n",
    "export var=ff\n",
    "var=fff\n",
    "```\n",
    "\n",
    "## Conditionals\n",
    "\n",
    "## Conditional execution\n",
    "\n",
    "```ashhhh\n",
    "git commit && git push\n",
    "git commit || echo \"Commit failed\"\n",
    "```\n",
    "\n",
    "## Functions\n",
    "\n",
    "## Loops\n",
    "\n",
    "## Arrays\n",
    "\n",
    "## Arithmetic Expressions (shell executions)\n",
    "\n",
    "```ashhhh\n",
    "echo \"I'm in $(pwd)\"\n",
    "echo \"I'm in `pwd`\"\n",
    "# Same\n",
    "```\n",
    "\n",
    "Syntax:\n",
    "\n",
    "```ashhhh\n",
    "$((expr))\n",
    "```\n",
    "\n",
    "Operators\n",
    "\n",
    "## Getting options (Reading args)\n",
    "\n",
    "```ashhhh\n",
    "while [[ \"$1\" =~ ^- && ! \"$1\" == \"--\" ]]; do case $1 in\n",
    "  -V | --version )\n",
    "    echo $version\n",
    "    exit\n",
    "    ;;\n",
    "  -s | --string )\n",
    "    shift; string=$1\n",
    "    ;;\n",
    "  -f | --flag )\n",
    "    flag=1\n",
    "    ;;\n",
    "esac; shift; done\n",
    "if [[ \"$1\" == '--' ]]; then shift; fi\n",
    "```\n",
    "\n",
    "## Case/switch\n",
    "\n"
   ]
  },
  {
   "cell_type": "code",
   "execution_count": null,
   "metadata": {},
   "outputs": [],
   "source": []
  },
  {
   "cell_type": "code",
   "execution_count": null,
   "metadata": {},
   "outputs": [],
   "source": []
  },
  {
   "cell_type": "markdown",
   "metadata": {},
   "source": [
    "# Creating and Running Shell Scripts\n"
   ]
  },
  {
   "cell_type": "markdown",
   "metadata": {},
   "source": [
    "## Whitespace"
   ]
  },
  {
   "cell_type": "markdown",
   "metadata": {},
   "source": [
    "## Linebreaks\n",
    "\n",
    "Use `\\` to break a long line.\n",
    "\n",
    "```bash\n",
    "%%bash \n",
    "grep abcdefghijklmnopqrstuvwxyz \\\n",
    "file1 \\\n",
    "file2 \\\n",
    "file3 \\\n",
    "file4\n",
    "```"
   ]
  },
  {
   "cell_type": "markdown",
   "metadata": {},
   "source": [
    "## Variables\n",
    "\n",
    "All values held in variables are strings, but if they are numeric, the shell will treat them as number when appropriate."
   ]
  },
  {
   "cell_type": "code",
   "execution_count": 38,
   "metadata": {},
   "outputs": [
    {
     "name": "stdout",
     "output_type": "stream",
     "text": [
      "The value of \"VAR\": value.\n",
      "The value of \"VAR\": value.\n",
      "The value of \"VAR\": value.\n",
      "The value of \"STRING\": some message.\n",
      "The value of \"STRING\": some message.\n",
      "The value of \"NUMBER\": 100.\n",
      "300\n",
      "The value of \"NUMBER\": 100.\n",
      "300\n",
      "The value of \"NUMBER\": 100.\n",
      "300\n",
      "The value of \"NUMBER\": 300.\n",
      "The value of \"a\": 10.\n",
      "The value of \"b\": 10.\n",
      "The value of \"ARCH\": x86_64.\n",
      "The value of \"ARCH\": x86_64.\n"
     ]
    }
   ],
   "source": [
    "%%bash\n",
    "# Simple assignment\n",
    "\n",
    "## variable assignment\n",
    "VAR=value\n",
    "echo \"The value of \\\"VAR\\\": $VAR.\"\n",
    "\n",
    "VAR='value'\n",
    "echo \"The value of \\\"VAR\\\": $VAR.\"\n",
    "\n",
    "VAR=\"value\"\n",
    "echo \"The value of \\\"VAR\\\": $VAR.\"\n",
    "\n",
    "## string assignment\n",
    "STRING='some message'\n",
    "echo \"The value of \\\"STRING\\\": $STRING.\"\n",
    "\n",
    "STRING=\"some message\"\n",
    "echo \"The value of \\\"STRING\\\": $STRING.\"\n",
    "\n",
    "## number assignment\n",
    "NUMBER=100\n",
    "echo \"The value of \\\"NUMBER\\\": $NUMBER.\"\n",
    "expr $NUMBER + 200\n",
    "\n",
    "NUMBER=\"100\"\n",
    "echo \"The value of \\\"NUMBER\\\": $NUMBER.\"\n",
    "expr $NUMBER + 200\n",
    "\n",
    "NUMBER='100'\n",
    "echo \"The value of \\\"NUMBER\\\": $NUMBER.\"\n",
    "expr $NUMBER + 200\n",
    "\n",
    "## number assignment using let\n",
    "let NUMBER=100+200\n",
    "echo \"The value of \\\"NUMBER\\\": $NUMBER.\"\n",
    "\n",
    "# Advanced assignment\n",
    "a=10\n",
    "b=$a\n",
    "echo \"The value of \\\"a\\\": $a.\"\n",
    "echo \"The value of \\\"b\\\": $b.\"\n",
    "\n",
    "ARCH=$(uname -m)\n",
    "echo \"The value of \\\"ARCH\\\": $ARCH.\"\n",
    "\n",
    "ARCH=`uname -m`\n",
    "echo \"The value of \\\"ARCH\\\": $ARCH.\""
   ]
  },
  {
   "cell_type": "code",
   "execution_count": null,
   "metadata": {},
   "outputs": [],
   "source": []
  }
 ],
 "metadata": {
  "kernelspec": {
   "display_name": "Python 3",
   "language": "python",
   "name": "python3"
  },
  "language_info": {
   "codemirror_mode": {
    "name": "ipython",
    "version": 3
   },
   "file_extension": ".py",
   "mimetype": "text/x-python",
   "name": "python",
   "nbconvert_exporter": "python",
   "pygments_lexer": "ipython3",
   "version": "3.7.1"
  }
 },
 "nbformat": 4,
 "nbformat_minor": 2
}
