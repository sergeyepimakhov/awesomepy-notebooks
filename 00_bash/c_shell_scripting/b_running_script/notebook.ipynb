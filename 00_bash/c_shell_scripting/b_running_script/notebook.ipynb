{
 "cells": [
  {
   "cell_type": "markdown",
   "metadata": {},
   "source": [
    "# Running Scripts\n",
    "\n",
    "## Run from the current folder\n",
    "If the script is in your current folder you can run the script as follows:\n",
    "```bash\n",
    "./myscript.sh\n",
    "```\n",
    "\n",
    "## Pass to bash\n",
    "Bash will interpret its argument as the name of a script and run it. \n",
    "```bash\n",
    "bash myscript.sh\n",
    "```\n",
    "## Source the script\n",
    "The methods above will run your script as an independent entity that has no effect on your current shell. If you want to make changes to your own shell (setting variables, changing directory etc) it can be run with the `source` or `.` command:\n",
    "```bash\n",
    ". myscript.sh\n",
    "# or alternatively\n",
    "source myscript.sh\n",
    "```"
   ]
  },
  {
   "cell_type": "code",
   "execution_count": null,
   "metadata": {},
   "outputs": [],
   "source": []
  }
 ],
 "metadata": {
  "kernelspec": {
   "display_name": "Python 3",
   "language": "python",
   "name": "python3"
  },
  "language_info": {
   "codemirror_mode": {
    "name": "ipython",
    "version": 3
   },
   "file_extension": ".py",
   "mimetype": "text/x-python",
   "name": "python",
   "nbconvert_exporter": "python",
   "pygments_lexer": "ipython3",
   "version": "3.7.1"
  }
 },
 "nbformat": 4,
 "nbformat_minor": 2
}
