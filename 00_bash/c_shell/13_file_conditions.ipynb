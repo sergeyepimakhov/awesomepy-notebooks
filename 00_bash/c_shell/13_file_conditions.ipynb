{
 "cells": [
  {
   "cell_type": "markdown",
   "metadata": {},
   "source": [
    "# File Conditions\n",
    "\n",
    "| Test    | Meaning |\n",
    "|---------|---------|\n",
    "|`[[ -e PATH ]]`| Exists |\n",
    "|`[[ -s PATH ]]`| Non-zero size |\n",
    "|`[[ -r PATH ]]`| Readable |\n",
    "|`[[ -w PATH ]]`| Writable |\n",
    "|`[[ -x PATH ]]`| Executable |\n",
    "|`[[ -d PATH ]]`| Directory |\n",
    "|`[[ -h PATH ]]`| Symlink |\n",
    "|`[[ PATH1 -nt PATH2 ]]`| 1 newer than 2 |\n",
    "|`[[ PATH1 -ot PATH2 ]]`| 1 older than 2 |\n",
    "|`[[ PATH1 -ef PATH2 ]]`| Same. Hard link. |"
   ]
  },
  {
   "cell_type": "markdown",
   "metadata": {},
   "source": [
    "## Examples"
   ]
  },
  {
   "cell_type": "code",
   "execution_count": 40,
   "metadata": {},
   "outputs": [
    {
     "name": "stdout",
     "output_type": "stream",
     "text": [
      "0\n"
     ]
    }
   ],
   "source": [
    "%%bash\n",
    "# setup\n",
    "rm -f *.txt\n",
    "touch file.txt \n",
    "\n",
    "# check that the file exists\n",
    "[[ -e ./file.txt ]]\n",
    "echo $? # true"
   ]
  },
  {
   "cell_type": "code",
   "execution_count": 41,
   "metadata": {},
   "outputs": [
    {
     "name": "stdout",
     "output_type": "stream",
     "text": [
      "0\n",
      "1\n"
     ]
    }
   ],
   "source": [
    "%%bash\n",
    "# setup\n",
    "rm -f *.txt\n",
    "touch file_empty.txt \n",
    "cat << EOF > file_not_empty.txt\n",
    "some text here\n",
    "EOF\n",
    "\n",
    "# check that the file is not empty\n",
    "[[ -s ./file_not_empty.txt ]]\n",
    "echo $? # true\n",
    "\n",
    "[[ -s ./file_empty.txt ]]\n",
    "echo $? # false"
   ]
  },
  {
   "cell_type": "code",
   "execution_count": 42,
   "metadata": {},
   "outputs": [
    {
     "name": "stdout",
     "output_type": "stream",
     "text": [
      "0\n"
     ]
    }
   ],
   "source": [
    "%%bash\n",
    "# setup\n",
    "rm -f *.txt\n",
    "touch file.txt \n",
    "\n",
    "# check that the file is readable\n",
    "[[ -r ./file.txt ]]\n",
    "echo $? # true"
   ]
  },
  {
   "cell_type": "code",
   "execution_count": 43,
   "metadata": {},
   "outputs": [
    {
     "name": "stdout",
     "output_type": "stream",
     "text": [
      "0\n"
     ]
    }
   ],
   "source": [
    "%%bash\n",
    "# setup\n",
    "rm *.txt\n",
    "touch file.txt \n",
    "\n",
    "# check taht the file is writable\n",
    "[[ -r ./file.txt ]]\n",
    "echo $? # true"
   ]
  },
  {
   "cell_type": "code",
   "execution_count": 44,
   "metadata": {},
   "outputs": [
    {
     "name": "stdout",
     "output_type": "stream",
     "text": [
      "1\n",
      "0\n"
     ]
    }
   ],
   "source": [
    "%%bash\n",
    "# setup\n",
    "rm -f *.txt\n",
    "touch file.txt\n",
    "\n",
    "# check the file is executable\n",
    "[[ -x ./file.txt ]]\n",
    "echo $? # false\n",
    "\n",
    "# make it executable\n",
    "chmod +x file.txt\n",
    "[[ -x ./file.txt ]]\n",
    "echo $? # true"
   ]
  },
  {
   "cell_type": "code",
   "execution_count": 45,
   "metadata": {},
   "outputs": [
    {
     "name": "stdout",
     "output_type": "stream",
     "text": [
      "0\n"
     ]
    }
   ],
   "source": [
    "%%bash\n",
    "# setup\n",
    "rm -rf mkdir\n",
    "mkdir -p mydir\n",
    "\n",
    "# check the directory exists\n",
    "[[ -d ./mydir ]]\n",
    "echo $? # true"
   ]
  },
  {
   "cell_type": "code",
   "execution_count": 46,
   "metadata": {},
   "outputs": [
    {
     "name": "stdout",
     "output_type": "stream",
     "text": [
      "0\n"
     ]
    }
   ],
   "source": [
    "%%bash\n",
    "# setup\n",
    "rm -f *.txt\n",
    "touch file.txt\n",
    "ln -s file.txt link.txt\n",
    "\n",
    "# check the file is a symlink\n",
    "[[ -h ./link.txt ]]\n",
    "echo $? # true"
   ]
  },
  {
   "cell_type": "code",
   "execution_count": 47,
   "metadata": {},
   "outputs": [
    {
     "name": "stdout",
     "output_type": "stream",
     "text": [
      "0\n"
     ]
    }
   ],
   "source": [
    "%%bash\n",
    "# setup\n",
    "rm -f *.txt\n",
    "touch file_old.txt\n",
    "sleep 1 # wait a second\n",
    "touch file_new.txt\n",
    "\n",
    "# check than file is newer\n",
    "[[ file_new.txt -nt file_old.txt ]]\n",
    "echo $? # true"
   ]
  },
  {
   "cell_type": "code",
   "execution_count": 48,
   "metadata": {},
   "outputs": [
    {
     "name": "stdout",
     "output_type": "stream",
     "text": [
      "0\n"
     ]
    }
   ],
   "source": [
    "%%bash\n",
    "# setup\n",
    "rm -f *.txt\n",
    "touch file_old.txt\n",
    "sleep 1 # wait a second\n",
    "touch file_new.txt\n",
    "\n",
    "# check than file is older\n",
    "[[ file_old.txt -ot file_new.txt ]]\n",
    "echo $? # true"
   ]
  },
  {
   "cell_type": "code",
   "execution_count": 50,
   "metadata": {},
   "outputs": [
    {
     "name": "stdout",
     "output_type": "stream",
     "text": [
      "0\n"
     ]
    }
   ],
   "source": [
    "%%bash\n",
    "# setup\n",
    "rm -f *.txt\n",
    "touch file.txt\n",
    "ln file.txt file_copy.txt\n",
    "\n",
    "# files are the same (hard linked)\n",
    "[[ file.txt -ef file_copy.txt ]]\n",
    "echo $? # true"
   ]
  },
  {
   "cell_type": "markdown",
   "metadata": {},
   "source": [
    "## Cleanup"
   ]
  },
  {
   "cell_type": "code",
   "execution_count": 51,
   "metadata": {},
   "outputs": [],
   "source": [
    "%%bash\n",
    "rm -f *.txt\n",
    "rm -rf mydir"
   ]
  },
  {
   "cell_type": "code",
   "execution_count": null,
   "metadata": {},
   "outputs": [],
   "source": []
  }
 ],
 "metadata": {
  "kernelspec": {
   "display_name": "Python 3",
   "language": "python",
   "name": "python3"
  },
  "language_info": {
   "codemirror_mode": {
    "name": "ipython",
    "version": 3
   },
   "file_extension": ".py",
   "mimetype": "text/x-python",
   "name": "python",
   "nbconvert_exporter": "python",
   "pygments_lexer": "ipython3",
   "version": "3.7.1"
  }
 },
 "nbformat": 4,
 "nbformat_minor": 2
}
