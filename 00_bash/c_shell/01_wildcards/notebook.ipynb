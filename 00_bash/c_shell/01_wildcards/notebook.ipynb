{
 "cells": [
  {
   "cell_type": "markdown",
   "metadata": {},
   "source": [
    "# Bash Wildcards\n",
    "\n",
    "|Class|Meaning|\n",
    "|-----|-------|\n",
    "|`*`|Match any string of zero or more characters|\n",
    "|`?`|Match any single character|\n",
    "|`[set]`|Match any one of the enclosed characters|\n",
    "|`[!set]`|Match any character not enclosed as above|"
   ]
  },
  {
   "cell_type": "markdown",
   "metadata": {},
   "source": [
    "## Setup"
   ]
  },
  {
   "cell_type": "code",
   "execution_count": 29,
   "metadata": {},
   "outputs": [],
   "source": [
    "! ./setup.sh"
   ]
  },
  {
   "cell_type": "markdown",
   "metadata": {},
   "source": [
    "## Examples"
   ]
  },
  {
   "cell_type": "code",
   "execution_count": 30,
   "metadata": {},
   "outputs": [
    {
     "name": "stdout",
     "output_type": "stream",
     "text": [
      "/tmp/wildcards/file1.txt\n",
      "/tmp/wildcards/file10.txt\n",
      "/tmp/wildcards/file11.txt\n",
      "/tmp/wildcards/file12.txt\n",
      "/tmp/wildcards/file13.txt\n",
      "/tmp/wildcards/file14.txt\n",
      "/tmp/wildcards/file15.txt\n",
      "/tmp/wildcards/file16.txt\n",
      "/tmp/wildcards/file17.txt\n",
      "/tmp/wildcards/file18.txt\n",
      "/tmp/wildcards/file19.txt\n",
      "/tmp/wildcards/file2.txt\n",
      "/tmp/wildcards/file20.txt\n",
      "/tmp/wildcards/file3.txt\n",
      "/tmp/wildcards/file4.txt\n",
      "/tmp/wildcards/file5.txt\n",
      "/tmp/wildcards/file6.txt\n",
      "/tmp/wildcards/file7.txt\n",
      "/tmp/wildcards/file8.txt\n",
      "/tmp/wildcards/file9.txt\n",
      "/tmp/wildcards/fileA.txt\n",
      "/tmp/wildcards/fileB.txt\n",
      "/tmp/wildcards/fileC.txt\n",
      "/tmp/wildcards/fileD.txt\n",
      "/tmp/wildcards/fileE.txt\n",
      "/tmp/wildcards/fileF.txt\n"
     ]
    }
   ],
   "source": [
    "%%bash\n",
    "# show all txt files\n",
    "ls /tmp/wildcards/*.txt"
   ]
  },
  {
   "cell_type": "code",
   "execution_count": 31,
   "metadata": {},
   "outputs": [
    {
     "name": "stdout",
     "output_type": "stream",
     "text": [
      "/tmp/wildcards/file1.txt\n",
      "/tmp/wildcards/file2.txt\n",
      "/tmp/wildcards/file3.txt\n",
      "/tmp/wildcards/file4.txt\n",
      "/tmp/wildcards/file5.txt\n",
      "/tmp/wildcards/file6.txt\n",
      "/tmp/wildcards/file7.txt\n",
      "/tmp/wildcards/file8.txt\n",
      "/tmp/wildcards/file9.txt\n",
      "/tmp/wildcards/fileA.txt\n",
      "/tmp/wildcards/fileB.txt\n",
      "/tmp/wildcards/fileC.txt\n",
      "/tmp/wildcards/fileD.txt\n",
      "/tmp/wildcards/fileE.txt\n",
      "/tmp/wildcards/fileF.txt\n"
     ]
    }
   ],
   "source": [
    "%%bash\n",
    "# show file1.txt, file2.txt, file3.txt, and so on\n",
    "ls /tmp/wildcards/file?.txt"
   ]
  },
  {
   "cell_type": "code",
   "execution_count": 32,
   "metadata": {},
   "outputs": [
    {
     "name": "stdout",
     "output_type": "stream",
     "text": [
      "/tmp/wildcards/file10.txt\n",
      "/tmp/wildcards/file11.txt\n",
      "/tmp/wildcards/file12.txt\n",
      "/tmp/wildcards/file13.txt\n",
      "/tmp/wildcards/file14.txt\n",
      "/tmp/wildcards/file15.txt\n",
      "/tmp/wildcards/file16.txt\n",
      "/tmp/wildcards/file17.txt\n",
      "/tmp/wildcards/file18.txt\n",
      "/tmp/wildcards/file19.txt\n",
      "/tmp/wildcards/file20.txt\n"
     ]
    }
   ],
   "source": [
    "%%bash\n",
    "# show file10.txt, file11.txt, file12.txt, and so on\n",
    "ls /tmp/wildcards/file??.txt"
   ]
  },
  {
   "cell_type": "code",
   "execution_count": 33,
   "metadata": {},
   "outputs": [
    {
     "name": "stdout",
     "output_type": "stream",
     "text": [
      "/tmp/wildcards/file1.txt\n",
      "/tmp/wildcards/file2.txt\n",
      "/tmp/wildcards/file3.txt\n"
     ]
    }
   ],
   "source": [
    "%%bash\n",
    "# show file1.txt, file2.txt, file3.txt only\n",
    "ls /tmp/wildcards/file[1-3].txt"
   ]
  },
  {
   "cell_type": "code",
   "execution_count": 34,
   "metadata": {},
   "outputs": [
    {
     "name": "stdout",
     "output_type": "stream",
     "text": [
      "/tmp/wildcards/file4.txt\n",
      "/tmp/wildcards/file5.txt\n",
      "/tmp/wildcards/file6.txt\n",
      "/tmp/wildcards/file7.txt\n",
      "/tmp/wildcards/file8.txt\n",
      "/tmp/wildcards/file9.txt\n",
      "/tmp/wildcards/fileA.txt\n",
      "/tmp/wildcards/fileB.txt\n",
      "/tmp/wildcards/fileC.txt\n",
      "/tmp/wildcards/fileD.txt\n",
      "/tmp/wildcards/fileE.txt\n",
      "/tmp/wildcards/fileF.txt\n"
     ]
    }
   ],
   "source": [
    "%%bash\n",
    "# show files except file1.txt, file2.txt, file3.txt\n",
    "ls /tmp/wildcards/file[!1-3].txt"
   ]
  },
  {
   "cell_type": "code",
   "execution_count": 35,
   "metadata": {},
   "outputs": [
    {
     "name": "stdout",
     "output_type": "stream",
     "text": [
      "/tmp/wildcards/fileA.txt\n",
      "/tmp/wildcards/fileB.txt\n",
      "/tmp/wildcards/fileC.txt\n"
     ]
    }
   ],
   "source": [
    "%%bash\n",
    "# show files fileA.txt, fileB.txt, fileC.txt\n",
    "ls /tmp/wildcards/file[A-C].txt"
   ]
  },
  {
   "cell_type": "code",
   "execution_count": 36,
   "metadata": {},
   "outputs": [
    {
     "name": "stdout",
     "output_type": "stream",
     "text": [
      "/tmp/wildcards/file1.txt\n",
      "/tmp/wildcards/file2.txt\n",
      "/tmp/wildcards/file3.txt\n",
      "/tmp/wildcards/file4.txt\n",
      "/tmp/wildcards/file5.txt\n",
      "/tmp/wildcards/file6.txt\n",
      "/tmp/wildcards/file7.txt\n",
      "/tmp/wildcards/file8.txt\n",
      "/tmp/wildcards/file9.txt\n",
      "/tmp/wildcards/fileD.txt\n",
      "/tmp/wildcards/fileE.txt\n",
      "/tmp/wildcards/fileF.txt\n"
     ]
    }
   ],
   "source": [
    "%%bash\n",
    "# show files except fileA.txt, fileB.txt, fileC.txt\n",
    "ls /tmp/wildcards/file[!A-C].txt"
   ]
  },
  {
   "cell_type": "markdown",
   "metadata": {},
   "source": [
    "## Cleanup"
   ]
  },
  {
   "cell_type": "code",
   "execution_count": 37,
   "metadata": {},
   "outputs": [],
   "source": [
    "# ! ./cleanup.sh"
   ]
  },
  {
   "cell_type": "code",
   "execution_count": null,
   "metadata": {},
   "outputs": [],
   "source": []
  }
 ],
 "metadata": {
  "kernelspec": {
   "display_name": "Python 3",
   "language": "python",
   "name": "python3"
  },
  "language_info": {
   "codemirror_mode": {
    "name": "ipython",
    "version": 3
   },
   "file_extension": ".py",
   "mimetype": "text/x-python",
   "name": "python",
   "nbconvert_exporter": "python",
   "pygments_lexer": "ipython3",
   "version": "3.7.1"
  }
 },
 "nbformat": 4,
 "nbformat_minor": 2
}
