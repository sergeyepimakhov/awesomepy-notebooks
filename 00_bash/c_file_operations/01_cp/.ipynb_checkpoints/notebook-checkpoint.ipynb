{
 "cells": [
  {
   "cell_type": "markdown",
   "metadata": {},
   "source": [
    "# CP\n",
    "\n",
    "copy files and directories"
   ]
  },
  {
   "cell_type": "markdown",
   "metadata": {},
   "source": [
    "## SYNOPSIS\n",
    "\n",
    "```bash\n",
    "cp [option(s)] file(s) directory \n",
    "```"
   ]
  },
  {
   "cell_type": "markdown",
   "metadata": {},
   "source": [
    "## SETUP\n",
    "\n",
    "Please run this cell before you start working with the notebook."
   ]
  },
  {
   "cell_type": "code",
   "execution_count": 140,
   "metadata": {},
   "outputs": [
    {
     "name": "stdout",
     "output_type": "stream",
     "text": [
      "done\n"
     ]
    }
   ],
   "source": [
    "%%bash\n",
    "touch file.txt\n",
    "\n",
    "touch file1.txt\n",
    "touch file2.txt\n",
    "touch file3.txt\n",
    "\n",
    "mkdir -p folder\n",
    "\n",
    "mkdir -p folder1\n",
    "mkdir -p folder2\n",
    "mkdir -p folder3\n",
    "\n",
    "touch folder1/file1.txt\n",
    "touch folder2/file2.txt\n",
    "touch folder3/file3.txt\n",
    "\n",
    "mkdir -p some_folder\n",
    "\n",
    "mkdir -p source_folder\n",
    "touch source_folder/folder_file1.txt\n",
    "touch source_folder/folder_file2.txt\n",
    "touch source_folder/folder_file3.txt\n",
    "\n",
    "echo 'done'"
   ]
  },
  {
   "cell_type": "markdown",
   "metadata": {},
   "source": [
    "## USAGE"
   ]
  },
  {
   "cell_type": "markdown",
   "metadata": {},
   "source": [
    "### Copy a file"
   ]
  },
  {
   "cell_type": "code",
   "execution_count": 141,
   "metadata": {},
   "outputs": [],
   "source": [
    "%%bash\n",
    "cp file.txt folder"
   ]
  },
  {
   "cell_type": "code",
   "execution_count": 142,
   "metadata": {},
   "outputs": [
    {
     "name": "stdout",
     "output_type": "stream",
     "text": [
      "-rw-r--r--  1 esn  staff  0 Apr 14 22:14 folder/file.txt\n"
     ]
    }
   ],
   "source": [
    "%%bash\n",
    "# check the folder\n",
    "ls -l folder/file.txt"
   ]
  },
  {
   "cell_type": "markdown",
   "metadata": {},
   "source": [
    "### Copy multiple files"
   ]
  },
  {
   "cell_type": "code",
   "execution_count": 143,
   "metadata": {},
   "outputs": [],
   "source": [
    "%%bash\n",
    "cp file1.txt file2.txt file3.txt folder"
   ]
  },
  {
   "cell_type": "code",
   "execution_count": 144,
   "metadata": {},
   "outputs": [
    {
     "name": "stdout",
     "output_type": "stream",
     "text": [
      "-rw-r--r--  1 esn  staff  0 Apr 14 22:14 folder/file.txt\n",
      "-rw-r--r--  1 esn  staff  0 Apr 14 22:14 folder/file1.txt\n",
      "-rw-r--r--  1 esn  staff  0 Apr 14 22:14 folder/file2.txt\n",
      "-rw-r--r--  1 esn  staff  0 Apr 14 22:14 folder/file3.txt\n"
     ]
    }
   ],
   "source": [
    "%%bash\n",
    "# check the folder\n",
    "ls -l folder/file*.txt"
   ]
  },
  {
   "cell_type": "markdown",
   "metadata": {},
   "source": [
    "### Copy a directory"
   ]
  },
  {
   "cell_type": "code",
   "execution_count": 145,
   "metadata": {},
   "outputs": [],
   "source": [
    "%%bash\n",
    "cp -R source_folder folder_copy"
   ]
  },
  {
   "cell_type": "code",
   "execution_count": 146,
   "metadata": {},
   "outputs": [
    {
     "name": "stdout",
     "output_type": "stream",
     "text": [
      "total 0\n",
      "-rw-r--r--  1 esn  staff  0 Apr 14 22:14 folder_file1.txt\n",
      "-rw-r--r--  1 esn  staff  0 Apr 14 22:14 folder_file2.txt\n",
      "-rw-r--r--  1 esn  staff  0 Apr 14 22:14 folder_file3.txt\n"
     ]
    }
   ],
   "source": [
    "%%bash\n",
    "# check the folder\n",
    "ls -l folder_copy"
   ]
  },
  {
   "cell_type": "markdown",
   "metadata": {},
   "source": [
    "### Copy multiple directories"
   ]
  },
  {
   "cell_type": "code",
   "execution_count": 147,
   "metadata": {},
   "outputs": [],
   "source": [
    "%%bash\n",
    "cp -R folder1 folder2 folder3 some_folder"
   ]
  },
  {
   "cell_type": "code",
   "execution_count": 148,
   "metadata": {},
   "outputs": [
    {
     "name": "stdout",
     "output_type": "stream",
     "text": [
      "some_folder/folder1:\n",
      "total 0\n",
      "-rw-r--r--  1 esn  staff  0 Apr 14 22:14 file1.txt\n",
      "\n",
      "some_folder/folder2:\n",
      "total 0\n",
      "-rw-r--r--  1 esn  staff  0 Apr 14 22:14 file2.txt\n",
      "\n",
      "some_folder/folder3:\n",
      "total 0\n",
      "-rw-r--r--  1 esn  staff  0 Apr 14 22:14 file3.txt\n"
     ]
    }
   ],
   "source": [
    "%%bash\n",
    "ls -l some_folder/*"
   ]
  },
  {
   "cell_type": "markdown",
   "metadata": {},
   "source": [
    "### Verbose mode"
   ]
  },
  {
   "cell_type": "code",
   "execution_count": 149,
   "metadata": {},
   "outputs": [
    {
     "name": "stdout",
     "output_type": "stream",
     "text": [
      "source_folder -> source_folder_copy_verbose\n",
      "source_folder/folder_file3.txt -> source_folder_copy_verbose/folder_file3.txt\n",
      "source_folder/folder_file2.txt -> source_folder_copy_verbose/folder_file2.txt\n",
      "source_folder/folder_file1.txt -> source_folder_copy_verbose/folder_file1.txt\n"
     ]
    }
   ],
   "source": [
    "%%bash\n",
    "cp -Rv source_folder source_folder_copy_verbose"
   ]
  },
  {
   "cell_type": "markdown",
   "metadata": {},
   "source": [
    "## MAN PAGE"
   ]
  },
  {
   "cell_type": "code",
   "execution_count": 150,
   "metadata": {},
   "outputs": [
    {
     "name": "stdout",
     "output_type": "stream",
     "text": [
      "\n",
      "CP(1)                     BSD General Commands Manual                    CP(1)\n",
      "\n",
      "NAME\n",
      "     cp -- copy files\n",
      "\n",
      "SYNOPSIS\n",
      "     cp [-R [-H | -L | -P]] [-fi | -n] [-apvX] source_file target_file\n",
      "     cp [-R [-H | -L | -P]] [-fi | -n] [-apvX] source_file ...\n",
      "        target_directory\n",
      "\n",
      "DESCRIPTION\n",
      "     In the first synopsis form, the cp utility copies the contents of the\n",
      "     source_file to the target_file.  In the second synopsis form, the con-\n",
      "     tents of each named source_file is copied to the destination\n",
      "     target_directory.  The names of the files themselves are not changed.  If\n",
      "     cp detects an attempt to copy a file to itself, the copy will fail.\n",
      "\n",
      "     The following options are available:\n",
      "\n",
      "     -a    Same as -pPR options. Preserves structure and attributes of files\n",
      "           but not directory structure.\n",
      "\n",
      "     -f    If the destination file cannot be opened, remove it and create a\n",
      "           new file, without prompting for confirmation regardless of its per-\n",
      "           missions.  (The -f option overrides any previous -n option.)\n",
      "\n",
      "           The target file is not unlinked before the copy.  Thus, any exist-\n",
      "           ing access rights will be retained.\n",
      "\n",
      "     -H    If the -R option is specified, symbolic links on the command line\n",
      "           are followed.  (Symbolic links encountered in the tree traversal\n",
      "           are not followed.)\n",
      "\n",
      "     -i    Cause cp to write a prompt to the standard error output before\n",
      "           copying a file that would overwrite an existing file.  If the\n",
      "           response from the standard input begins with the character `y' or\n",
      "           `Y', the file copy is attempted.  (The -i option overrides any pre-\n",
      "           vious -n option.)\n",
      "\n",
      "     -L    If the -R option is specified, all symbolic links are followed.\n",
      "\n",
      "     -n    Do not overwrite an existing file.  (The -n option overrides any\n",
      "           previous -f or -i options.)\n",
      "\n",
      "     -P    If the -R option is specified, no symbolic links are followed.\n",
      "           This is the default.\n",
      "\n",
      "     -p    Cause cp to preserve the following attributes of each source file\n",
      "           in the copy: modification time, access time, file flags, file mode,\n",
      "           user ID, and group ID, as allowed by permissions.  Access Control\n",
      "           Lists (ACLs) and Extended Attributes (EAs), including resource\n",
      "           forks, will also be preserved.\n",
      "\n",
      "           If the user ID and group ID cannot be preserved, no error message\n",
      "           is displayed and the exit value is not altered.\n",
      "\n",
      "           If the source file has its set-user-ID bit on and the user ID can-\n",
      "           not be preserved, the set-user-ID bit is not preserved in the\n",
      "           copy's permissions.  If the source file has its set-group-ID bit on\n",
      "           and the group ID cannot be preserved, the set-group-ID bit is not\n",
      "           preserved in the copy's permissions.  If the source file has both\n",
      "           its set-user-ID and set-group-ID bits on, and either the user ID or\n",
      "           group ID cannot be preserved, neither the set-user-ID nor set-\n",
      "           group-ID bits are preserved in the copy's permissions.\n",
      "\n",
      "     -R    If source_file designates a directory, cp copies the directory and\n",
      "           the entire subtree connected at that point.  If the source_file\n",
      "           ends in a /, the contents of the directory are copied rather than\n",
      "           the directory itself.  This option also causes symbolic links to be\n",
      "           copied, rather than indirected through, and for cp to create spe-\n",
      "           cial files rather than copying them as normal files.  Created\n",
      "           directories have the same mode as the corresponding source direc-\n",
      "           tory, unmodified by the process' umask.\n",
      "\n",
      "           In -R mode, cp will continue copying even if errors are detected.\n",
      "\n",
      "           Note that cp copies hard-linked files as separate files.  If you\n",
      "           need to preserve hard links, consider using tar(1), cpio(1), or\n",
      "           pax(1) instead.\n",
      "\n",
      "     -v    Cause cp to be verbose, showing files as they are copied.\n",
      "\n",
      "     -X    Do not copy Extended Attributes (EAs) or resource forks.\n",
      "\n",
      "     -c    copy files using clonefile(2)\n",
      "\n",
      "     For each destination file that already exists, its contents are overwrit-\n",
      "     ten if permissions allow.  Its mode, user ID, and group ID are unchanged\n",
      "     unless the -p option was specified.\n",
      "\n",
      "     In the second synopsis form, target_directory must exist unless there is\n",
      "     only one named source_file which is a directory and the -R flag is speci-\n",
      "     fied.\n",
      "\n",
      "     If the destination file does not exist, the mode of the source file is\n",
      "     used as modified by the file mode creation mask (umask, see csh(1)).  If\n",
      "     the source file has its set-user-ID bit on, that bit is removed unless\n",
      "     both the source file and the destination file are owned by the same user.\n",
      "     If the source file has its set-group-ID bit on, that bit is removed\n",
      "     unless both the source file and the destination file are in the same\n",
      "     group and the user is a member of that group.  If both the set-user-ID\n",
      "     and set-group-ID bits are set, all of the above conditions must be ful-\n",
      "     filled or both bits are removed.\n",
      "\n",
      "     Appropriate permissions are required for file creation or overwriting.\n",
      "\n",
      "     Symbolic links are always followed unless the -R flag is set, in which\n",
      "     case symbolic links are not followed, by default.  The -H or -L flags (in\n",
      "     conjunction with the -R flag) cause symbolic links to be followed as\n",
      "     described above.  The -H, -L and -P options are ignored unless the -R\n",
      "     option is specified.  In addition, these options override each other and\n",
      "     the command's actions are determined by the last one specified.\n",
      "\n",
      "     If cp receives a SIGINFO (see the status argument for stty(1)) signal,\n",
      "     the current input and output file and the percentage complete will be\n",
      "     written to the standard output.\n",
      "\n",
      "EXIT STATUS\n",
      "     The cp utility exits 0 on success, and >0 if an error occurs.\n",
      "\n",
      "COMPATIBILITY\n",
      "     Historic versions of the cp utility had a -r option.  This implementation\n",
      "     supports that option; however, its use is strongly discouraged, as it\n",
      "     does not correctly copy special files, symbolic links, or fifo's.\n",
      "\n",
      "     The -v and -n options are non-standard and their use in scripts is not\n",
      "     recommended.\n",
      "\n",
      "LEGACY DESCRIPTION\n",
      "     In legacy mode, -f will override -i.  Also, under the -f option, the tar-\n",
      "     get file is always unlinked before the copy.  Thus, new access rights\n",
      "     will always be set.\n",
      "\n",
      "     In -R mode, copying will terminate if an error is encountered.\n",
      "\n",
      "     For more information about legacy mode, see compat(5).\n",
      "\n",
      "SEE ALSO\n",
      "     mv(1), rcp(1), umask(2), fts(3), compat(5), symlink(7)\n",
      "\n",
      "STANDARDS\n",
      "     The cp command is expected to be IEEE Std 1003.2 (``POSIX.2'') compati-\n",
      "     ble.\n",
      "\n",
      "HISTORY\n",
      "     A cp command appeared in Version 1 AT&T UNIX.\n",
      "\n",
      "BSD                            February 23, 2005                           BSD\n"
     ]
    }
   ],
   "source": [
    "%%bash\n",
    "man cp"
   ]
  },
  {
   "cell_type": "markdown",
   "metadata": {},
   "source": [
    "## CLEANUP\n",
    "\n",
    "Run this cell to reset folder to the intitial set."
   ]
  },
  {
   "cell_type": "code",
   "execution_count": 151,
   "metadata": {},
   "outputs": [
    {
     "name": "stdout",
     "output_type": "stream",
     "text": [
      "done\n"
     ]
    }
   ],
   "source": [
    "%%bash\n",
    "rm *.txt\n",
    "rm -rf *folder*\n",
    "echo 'done'"
   ]
  },
  {
   "cell_type": "code",
   "execution_count": null,
   "metadata": {},
   "outputs": [],
   "source": []
  }
 ],
 "metadata": {
  "kernelspec": {
   "display_name": "Python 3",
   "language": "python",
   "name": "python3"
  },
  "language_info": {
   "codemirror_mode": {
    "name": "ipython",
    "version": 3
   },
   "file_extension": ".py",
   "mimetype": "text/x-python",
   "name": "python",
   "nbconvert_exporter": "python",
   "pygments_lexer": "ipython3",
   "version": "3.7.1"
  }
 },
 "nbformat": 4,
 "nbformat_minor": 2
}
