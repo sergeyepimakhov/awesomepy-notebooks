{
 "cells": [
  {
   "cell_type": "markdown",
   "metadata": {},
   "source": [
    "# MKDIR\n",
    "\n",
    "Creates a new directory with the given name"
   ]
  },
  {
   "cell_type": "markdown",
   "metadata": {},
   "source": [
    "## SYNOPSIS\n",
    "\n",
    "```bash\n",
    "mkdir [option(s)] directory\n",
    "```"
   ]
  },
  {
   "cell_type": "markdown",
   "metadata": {},
   "source": [
    "## USAGE"
   ]
  },
  {
   "cell_type": "markdown",
   "metadata": {},
   "source": [
    "### Create a directory"
   ]
  },
  {
   "cell_type": "code",
   "execution_count": 61,
   "metadata": {},
   "outputs": [
    {
     "name": "stdout",
     "output_type": "stream",
     "text": [
      "total 0\n",
      "drwxr-xr-x  2 esn  staff   64 Apr 11 21:38 mydirectory\n",
      "drwxr-xr-x  2 esn  staff   64 Apr 11 21:33 .ipynb_checkpoints\n",
      "drwxr-xr-x  4 esn  staff  128 Apr 11 21:36 04\n",
      "drwxr-xr-x  4 esn  staff  128 Apr 11 21:37 03\n",
      "drwxr-xr-x  4 esn  staff  128 Apr 11 20:51 02\n",
      "drwxr-xr-x  4 esn  staff  128 Apr 11 20:51 01\n",
      "drwxr-xr-x  4 esn  staff  128 Apr 11 20:50 00\n"
     ]
    }
   ],
   "source": [
    "%%bash\n",
    "mkdir mydirectory\n",
    "ls -lASr"
   ]
  },
  {
   "cell_type": "markdown",
   "metadata": {},
   "source": [
    "### Create multiple directories"
   ]
  },
  {
   "cell_type": "code",
   "execution_count": 62,
   "metadata": {},
   "outputs": [
    {
     "name": "stdout",
     "output_type": "stream",
     "text": [
      "total 0\n",
      "drwxr-xr-x  2 esn  staff   64 Apr 11 21:38 mydirectory\n",
      "drwxr-xr-x  2 esn  staff   64 Apr 11 21:38 dir3\n",
      "drwxr-xr-x  2 esn  staff   64 Apr 11 21:38 dir2\n",
      "drwxr-xr-x  2 esn  staff   64 Apr 11 21:38 dir1\n",
      "drwxr-xr-x  2 esn  staff   64 Apr 11 21:33 .ipynb_checkpoints\n",
      "drwxr-xr-x  4 esn  staff  128 Apr 11 21:36 04\n",
      "drwxr-xr-x  4 esn  staff  128 Apr 11 21:37 03\n",
      "drwxr-xr-x  4 esn  staff  128 Apr 11 20:51 02\n",
      "drwxr-xr-x  4 esn  staff  128 Apr 11 20:51 01\n",
      "drwxr-xr-x  4 esn  staff  128 Apr 11 20:50 00\n"
     ]
    }
   ],
   "source": [
    "%%bash\n",
    "mkdir dir1 dir2 dir3\n",
    "ls -lASr"
   ]
  },
  {
   "cell_type": "markdown",
   "metadata": {},
   "source": [
    "### Create parent directories"
   ]
  },
  {
   "cell_type": "code",
   "execution_count": 63,
   "metadata": {},
   "outputs": [
    {
     "name": "stdout",
     "output_type": "stream",
     "text": [
      "total 0\n",
      "drwxr-xr-x  3 esn  staff  96 Apr 11 21:38 subfolder\n",
      "\n",
      "folder/subfolder:\n",
      "total 0\n",
      "drwxr-xr-x  2 esn  staff  64 Apr 11 21:38 subsubfolder\n",
      "\n",
      "folder/subfolder/subsubfolder:\n"
     ]
    }
   ],
   "source": [
    "%%bash\n",
    "mkdir -p folder/subfolder/subsubfolder\n",
    "\n",
    "ls -lASR folder"
   ]
  },
  {
   "cell_type": "markdown",
   "metadata": {},
   "source": [
    "## MAN PAGE"
   ]
  },
  {
   "cell_type": "code",
   "execution_count": 64,
   "metadata": {},
   "outputs": [
    {
     "name": "stdout",
     "output_type": "stream",
     "text": [
      "\n",
      "MKDIR(1)                  BSD General Commands Manual                 MKDIR(1)\n",
      "\n",
      "NAME\n",
      "     mkdir -- make directories\n",
      "\n",
      "SYNOPSIS\n",
      "     mkdir [-pv] [-m mode] directory_name ...\n",
      "\n",
      "DESCRIPTION\n",
      "     The mkdir utility creates the directories named as operands, in the order\n",
      "     specified, using mode rwxrwxrwx (0777) as modified by the current\n",
      "     umask(2).\n",
      "\n",
      "     The options are as follows:\n",
      "\n",
      "     -m mode\n",
      "             Set the file permission bits of the final created directory to\n",
      "             the specified mode.  The mode argument can be in any of the for-\n",
      "             mats specified to the chmod(1) command.  If a symbolic mode is\n",
      "             specified, the operation characters ``+'' and ``-'' are inter-\n",
      "             preted relative to an initial mode of ``a=rwx''.\n",
      "\n",
      "     -p      Create intermediate directories as required.  If this option is\n",
      "             not specified, the full path prefix of each operand must already\n",
      "             exist.  On the other hand, with this option specified, no error\n",
      "             will be reported if a directory given as an operand already\n",
      "             exists.  Intermediate directories are created with permission\n",
      "             bits of rwxrwxrwx (0777) as modified by the current umask, plus\n",
      "             write and search permission for the owner.\n",
      "\n",
      "     -v      Be verbose when creating directories, listing them as they are\n",
      "             created.\n",
      "\n",
      "     The user must have write permission in the parent directory.\n",
      "\n",
      "DIAGNOSTICS\n",
      "     The mkdir utility exits 0 on success, and >0 if an error occurs.\n",
      "\n",
      "SEE ALSO\n",
      "     rmdir(1)\n",
      "\n",
      "COMPATIBILITY\n",
      "     The -v option is non-standard and its use in scripts is not recommended.\n",
      "\n",
      "STANDARDS\n",
      "     The mkdir utility is expected to be IEEE Std 1003.2 (``POSIX.2'') compat-\n",
      "     ible.\n",
      "\n",
      "HISTORY\n",
      "     A mkdir command appeared in Version 1 AT&T UNIX.\n",
      "\n",
      "BSD                            January 25, 1994                            BSD\n"
     ]
    }
   ],
   "source": [
    "%%bash\n",
    "man mkdir"
   ]
  },
  {
   "cell_type": "markdown",
   "metadata": {},
   "source": [
    "## CLEANUP"
   ]
  },
  {
   "cell_type": "code",
   "execution_count": 66,
   "metadata": {},
   "outputs": [
    {
     "name": "stdout",
     "output_type": "stream",
     "text": [
      "/Users/esn/repos/awesomepy-notebooks/00_bash/A_directories\n"
     ]
    }
   ],
   "source": [
    "%%bash\n",
    "ls | grep -v \".*\\.ipynb$\" | xargs rm"
   ]
  },
  {
   "cell_type": "code",
   "execution_count": null,
   "metadata": {},
   "outputs": [],
   "source": []
  }
 ],
 "metadata": {
  "kernelspec": {
   "display_name": "Python 3",
   "language": "python",
   "name": "python3"
  },
  "language_info": {
   "codemirror_mode": {
    "name": "ipython",
    "version": 3
   },
   "file_extension": ".py",
   "mimetype": "text/x-python",
   "name": "python",
   "nbconvert_exporter": "python",
   "pygments_lexer": "ipython3",
   "version": "3.7.1"
  }
 },
 "nbformat": 4,
 "nbformat_minor": 2
}
