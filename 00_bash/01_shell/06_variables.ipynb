{
 "cells": [
  {
   "cell_type": "markdown",
   "metadata": {},
   "source": [
    "# Variables\n",
    "\n",
    "All values held in variables are strings, but if they are numeric, the shell will treat them as number when appropriate."
   ]
  },
  {
   "cell_type": "markdown",
   "metadata": {},
   "source": [
    "## String assignment"
   ]
  },
  {
   "cell_type": "code",
   "execution_count": 13,
   "metadata": {},
   "outputs": [
    {
     "name": "stdout",
     "output_type": "stream",
     "text": [
      "The value of \"STRING\": somemessage.\n",
      "The value of \"STRING\": some message.\n",
      "The value of \"STRING\": some message.\n"
     ]
    }
   ],
   "source": [
    "%%bash\n",
    "STRING=somemessage\n",
    "echo \"The value of \\\"STRING\\\": $STRING.\"\n",
    "\n",
    "STRING='some message'\n",
    "echo \"The value of \\\"STRING\\\": $STRING.\"\n",
    "\n",
    "STRING=\"some message\"\n",
    "echo \"The value of \\\"STRING\\\": $STRING.\""
   ]
  },
  {
   "cell_type": "markdown",
   "metadata": {},
   "source": [
    "## Number assignment"
   ]
  },
  {
   "cell_type": "code",
   "execution_count": 9,
   "metadata": {},
   "outputs": [
    {
     "name": "stdout",
     "output_type": "stream",
     "text": [
      "The value of \"NUMBER\": 100.\n",
      "300\n",
      "The value of \"NUMBER\": 100.\n",
      "300\n",
      "The value of \"NUMBER\": 100.\n",
      "300\n"
     ]
    }
   ],
   "source": [
    "%%bash\n",
    "NUMBER=100\n",
    "echo \"The value of \\\"NUMBER\\\": $NUMBER.\"\n",
    "expr $NUMBER + 200\n",
    "\n",
    "NUMBER='100'\n",
    "echo \"The value of \\\"NUMBER\\\": $NUMBER.\"\n",
    "expr $NUMBER + 200\n",
    "\n",
    "NUMBER=\"100\"\n",
    "echo \"The value of \\\"NUMBER\\\": $NUMBER.\"\n",
    "expr $NUMBER + 200"
   ]
  },
  {
   "cell_type": "markdown",
   "metadata": {},
   "source": [
    "## Number assignment using `let`"
   ]
  },
  {
   "cell_type": "code",
   "execution_count": 22,
   "metadata": {},
   "outputs": [
    {
     "name": "stdout",
     "output_type": "stream",
     "text": [
      "The value of \"NUMBER\": 300.\n"
     ]
    }
   ],
   "source": [
    "%%bash\n",
    "let NUMBER=100+200\n",
    "echo \"The value of \\\"NUMBER\\\": $NUMBER.\""
   ]
  },
  {
   "cell_type": "markdown",
   "metadata": {},
   "source": [
    "## Reassignment"
   ]
  },
  {
   "cell_type": "code",
   "execution_count": 24,
   "metadata": {},
   "outputs": [
    {
     "name": "stdout",
     "output_type": "stream",
     "text": [
      "The value of \"a\": 10.\n",
      "The value of \"b\": 10.\n"
     ]
    }
   ],
   "source": [
    "%%bash\n",
    "a=10\n",
    "b=$a\n",
    "echo \"The value of \\\"a\\\": $a.\"\n",
    "echo \"The value of \\\"b\\\": $b.\""
   ]
  },
  {
   "cell_type": "markdown",
   "metadata": {},
   "source": [
    "## Command assignment"
   ]
  },
  {
   "cell_type": "code",
   "execution_count": 27,
   "metadata": {},
   "outputs": [
    {
     "name": "stdout",
     "output_type": "stream",
     "text": [
      "The value of \"ARCH\": x86_64.\n",
      "The value of \"ARCH\": x86_64.\n"
     ]
    }
   ],
   "source": [
    "%%bash\n",
    "ARCH=$(uname -m)\n",
    "echo \"The value of \\\"ARCH\\\": $ARCH.\"\n",
    "\n",
    "ARCH=`uname -m`\n",
    "echo \"The value of \\\"ARCH\\\": $ARCH.\""
   ]
  },
  {
   "cell_type": "code",
   "execution_count": null,
   "metadata": {},
   "outputs": [],
   "source": []
  }
 ],
 "metadata": {
  "kernelspec": {
   "display_name": "Python 3",
   "language": "python",
   "name": "python3"
  },
  "language_info": {
   "codemirror_mode": {
    "name": "ipython",
    "version": 3
   },
   "file_extension": ".py",
   "mimetype": "text/x-python",
   "name": "python",
   "nbconvert_exporter": "python",
   "pygments_lexer": "ipython3",
   "version": "3.7.1"
  }
 },
 "nbformat": 4,
 "nbformat_minor": 2
}
