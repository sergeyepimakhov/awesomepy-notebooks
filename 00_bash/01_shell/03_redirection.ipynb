{
 "cells": [
  {
   "cell_type": "markdown",
   "metadata": {},
   "source": [
    "# Bash Redirection\n",
    "\n",
    "```bash\n",
    "# standard output\n",
    "> log.txt                    # create an empty file or truncate the existing one\n",
    "python main.py > log.txt     # stdout to log.txt (overwrite)\n",
    "python main.py >> log.txt    # stdout to log.txt (append)\n",
    "python main.py > /dev/null   # null redirection (silent)\n",
    "\n",
    "# standard error \n",
    "python main.py 2> err.txt    # stderr to err.txt (overwrite)\n",
    "python main.py 2>> log.txt   # stderr to err.txt (append)\n",
    "python main.py 2> /dev/null  # null redirection (silent)\n",
    "\n",
    "# standard input\n",
    "python main.py < input.txt   # feed input.txt\n",
    "python main.py <<EOF         # feed text using \"here document\"\n",
    "one line\n",
    "another line\n",
    "EOF\n",
    "python main.py <<< 'string' # feed text using \"here string\"\n",
    "\n",
    "# multiple redirections\n",
    "python main.py > log.txt 2> err.txt    # stdout to log.txt, stderr to err.txt\n",
    "python main.py > log.txt 2> /dev/null  # stdout to log.txt ignoring errors\n",
    "python main.py > log.txt 2>&1          # stderr to stdout, stdout to log.txt\n",
    "python main.py &>/dev/null             # stdout and stderr to stdout to null\n",
    "cat <<EOF > file.txt                   # create a new file using the \"here document\"\n",
    "one line\n",
    "another line\n",
    "EOF\n",
    "```"
   ]
  },
  {
   "cell_type": "code",
   "execution_count": null,
   "metadata": {},
   "outputs": [],
   "source": []
  }
 ],
 "metadata": {
  "kernelspec": {
   "display_name": "Python 3",
   "language": "python",
   "name": "python3"
  },
  "language_info": {
   "codemirror_mode": {
    "name": "ipython",
    "version": 3
   },
   "file_extension": ".py",
   "mimetype": "text/x-python",
   "name": "python",
   "nbconvert_exporter": "python",
   "pygments_lexer": "ipython3",
   "version": "3.7.1"
  }
 },
 "nbformat": 4,
 "nbformat_minor": 2
}
