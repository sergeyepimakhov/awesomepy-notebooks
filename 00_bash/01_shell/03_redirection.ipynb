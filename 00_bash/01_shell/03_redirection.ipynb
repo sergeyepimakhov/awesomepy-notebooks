{
 "cells": [
  {
   "cell_type": "markdown",
   "metadata": {},
   "source": [
    "# Bash Redirection\n",
    "|Type|Meaning|\n",
    "|----|-------|\n",
    "|**Standard Output**||\n",
    "|`cmd > file`|stdout to *file* (overwrite)|\n",
    "|`cmd >> file`|stdout to *file* (append)|\n",
    "|**Standard Error**||\n",
    "|`cmd 2> file`|stderr to *file* (overwrite)|\n",
    "|`cmd 2>> file`|stderr to *file* (append)|\n",
    "|**Null Redirection**||\n",
    "|`cmd >/dev/null`|stdout to *null*|\n",
    "|`cmd 2>/dev/null`|stderr to *null*|\n",
    "|`cmd &>/dev/null`|stdout and stderr to *null*|\n",
    "|**Standard Input**||\n",
    "|`cmd < input.txt`|feed *file*|\n",
    "|`cmd <<EOF` |feed *text* (so-called here document) |\n",
    "| `some text` ||\n",
    "| `EOF`||\n",
    "|`cmd <<< 'some string'`|feed *string* (so-called here string)|\n",
    "|**Multiple Redirection**||\n",
    "|`cmd > file1 2> file2` |stdout to *file1*, stderr to *file2*|\n",
    "|`cmd > file 2>&1` | stderr to stdout, stdout to *file* |\n",
    "|`cmd > file 2> /dev/null` | stdout to *file*, stderr to *null*|"
   ]
  },
  {
   "cell_type": "markdown",
   "metadata": {},
   "source": [
    "## Examples"
   ]
  },
  {
   "cell_type": "code",
   "execution_count": 121,
   "metadata": {},
   "outputs": [],
   "source": [
    "%%bash --no-raise-error\n",
    "\n",
    "# create an empty file or truncate file to zero length\n",
    "> empty_file.txt"
   ]
  },
  {
   "cell_type": "code",
   "execution_count": 122,
   "metadata": {},
   "outputs": [
    {
     "name": "stdout",
     "output_type": "stream",
     "text": [
      "-----output-----\n",
      "total 9\n",
      "drwxrwxr-x+ 53 root  admin  1696 Sep  2 19:22 Applications\n",
      "drwxr-xr-x  69 root  wheel  2208 Sep  2 19:22 Library\n",
      "drwxr-xr-x@  8 root  wheel   256 Oct 24  2019 System\n",
      "drwxr-xr-x   6 root  admin   192 Oct 24  2019 Users\n",
      "drwxr-xr-x   3 root  wheel    96 Sep  2 20:58 Volumes\n",
      "drwxr-xr-x@ 38 root  wheel  1216 Sep  2 19:18 bin\n",
      "drwxr-xr-x   2 root  wheel    64 Aug 24  2019 cores\n",
      "dr-xr-xr-x   3 root  wheel  4343 Sep  2 19:26 dev\n",
      "lrwxr-xr-x@  1 root  admin    11 Dec  4  2019 etc -> private/etc\n"
     ]
    }
   ],
   "source": [
    "%%bash --no-raise-error\n",
    "\n",
    "# stdout to file, overwrite\n",
    "ls -l / > list_root.txt\n",
    "\n",
    "echo '-----output-----'\n",
    "head list_root.txt"
   ]
  },
  {
   "cell_type": "code",
   "execution_count": 123,
   "metadata": {},
   "outputs": [
    {
     "name": "stdout",
     "output_type": "stream",
     "text": [
      "-----output-----\n",
      "total 4848\n",
      "-rwxr-xr-x  1 root  wheel    35840 Aug 10 22:56 [\n",
      "-r-xr-xr-x  1 root  wheel   623472 Aug 10 22:56 bash\n",
      "-rwxr-xr-x  1 root  wheel    36768 Aug 10 22:56 cat\n",
      "-rwxr-xr-x  1 root  wheel    47264 Aug 10 22:56 chmod\n",
      "-rwxr-xr-x  1 root  wheel    42272 Aug 10 22:56 cp\n",
      "-rwxr-xr-x  1 root  wheel   529424 Aug 10 22:56 csh\n",
      "-rwxr-xr-x  1 root  wheel   110848 Aug 10 22:56 dash\n",
      "-rwxr-xr-x  1 root  wheel    41872 Aug 10 22:56 date\n",
      "-rwxr-xr-x  1 root  wheel    45120 Aug 10 22:56 dd\n"
     ]
    }
   ],
   "source": [
    "%%bash --no-raise-error\n",
    "\n",
    "# stdout to file, append\n",
    "ls -l /bin >> list_bins.txt\n",
    "ls -l /sbin >> list_bins.txt\n",
    "\n",
    "echo '-----output-----'\n",
    "head list_bins.txt"
   ]
  },
  {
   "cell_type": "code",
   "execution_count": 124,
   "metadata": {},
   "outputs": [],
   "source": [
    "%%bash --no-raise-error\n",
    "\n",
    "# null redirection (silent)\n",
    "ls -l > /dev/null"
   ]
  },
  {
   "cell_type": "code",
   "execution_count": 125,
   "metadata": {},
   "outputs": [
    {
     "name": "stdout",
     "output_type": "stream",
     "text": [
      "-----output-----\n",
      "/usr/libexec/apache2/mod_dav_lock.so\n",
      "/usr/libexec/apache2/mod_auth_form.so\n",
      "/usr/libexec/apache2/mod_dav.so\n",
      "/usr/libexec/apache2/mod_socache_memcache.so\n",
      "/usr/libexec/apache2/mod_rewrite.so\n",
      "/usr/libexec/apache2/mod_setenvif.so\n",
      "/usr/libexec/apache2/mod_lbmethod_byrequests.so\n",
      "/usr/libexec/apache2/mod_proxy.so\n",
      "/usr/libexec/apache2/mod_proxy_fdpass.so\n",
      "/usr/libexec/apache2/mod_proxy_ajp.so\n",
      "-----errors-----\n",
      "find: /usr/sbin/authserver: Permission denied\n",
      "find: /Library/Application Support/ApplePushService: Permission denied\n",
      "find: /Library/Application Support/com.apple.TCC: Operation not permitted\n",
      "find: /Library/Caches/com.apple.iconservices.store: Permission denied\n",
      "find: /.fseventsd: Permission denied\n",
      "find: /private/var/install: Permission denied\n",
      "find: /private/var/ma: Permission denied\n",
      "find: /private/var/jabberd: Permission denied\n",
      "find: /private/var/audit: Permission denied\n",
      "find: /private/var/root: Permission denied\n"
     ]
    }
   ],
   "source": [
    "%%bash --no-raise-error\n",
    "\n",
    "# stdout to file, ignoring errors\n",
    "find / -name \"*.so\" -maxdepth 4 > find_results.txt 2> find_errors.txt\n",
    "\n",
    "# check\n",
    "echo '-----output-----'\n",
    "head find_results.txt\n",
    "\n",
    "echo '-----errors-----'\n",
    "head find_errors.txt"
   ]
  },
  {
   "cell_type": "code",
   "execution_count": 126,
   "metadata": {},
   "outputs": [
    {
     "name": "stdout",
     "output_type": "stream",
     "text": [
      "-----output-----\n",
      "/usr/libexec/apache2/mod_dav_lock.so\n",
      "/usr/libexec/apache2/mod_auth_form.so\n",
      "/usr/libexec/apache2/mod_dav.so\n",
      "/usr/libexec/apache2/mod_socache_memcache.so\n",
      "/usr/libexec/apache2/mod_rewrite.so\n",
      "/usr/libexec/apache2/mod_setenvif.so\n",
      "/usr/libexec/apache2/mod_lbmethod_byrequests.so\n",
      "/usr/libexec/apache2/mod_proxy.so\n",
      "/usr/libexec/apache2/mod_proxy_fdpass.so\n",
      "/usr/libexec/apache2/mod_proxy_ajp.so\n"
     ]
    }
   ],
   "source": [
    "%%bash --no-raise-error\n",
    "\n",
    "# stdout to file, ignoring errors\n",
    "find / -name \"*.so\" -maxdepth 4 > find_results.txt 2> /dev/null\n",
    "\n",
    "echo '-----output-----'\n",
    "head find_results.txt"
   ]
  },
  {
   "cell_type": "code",
   "execution_count": 127,
   "metadata": {},
   "outputs": [
    {
     "name": "stdout",
     "output_type": "stream",
     "text": [
      "-----output-----\n",
      "/usr/libexec/apache2/mod_dav_lock.so\n",
      "/usr/libexec/apache2/mod_auth_form.so\n",
      "/usr/libexec/apache2/mod_dav.so\n",
      "/usr/libexec/apache2/mod_socache_memcache.so\n",
      "/usr/libexec/apache2/mod_rewrite.so\n",
      "/usr/libexec/apache2/mod_setenvif.so\n",
      "/usr/libexec/apache2/mod_lbmethod_byrequests.so\n",
      "/usr/libexec/apache2/mod_proxy.so\n",
      "/usr/libexec/apache2/mod_proxy_fdpass.so\n",
      "/usr/libexec/apache2/mod_proxy_ajp.so\n",
      "find: /private/var/ma: Permission denied\n",
      "find: /private/var/jabberd: Permission denied\n",
      "find: /private/var/audit: Permission denied\n",
      "find: /private/var/root: Permission denied\n",
      "find: /private/var/backups: Permission denied\n",
      "find: /private/var/agentx: Permission denied\n",
      "find: /Users/Guest/Library: Permission denied\n",
      "find: /Users/esn/.Trash: Operation not permitted\n",
      "find: /dev/fd/3: Not a directory\n",
      "find: /dev/fd/4: Not a directory\n"
     ]
    }
   ],
   "source": [
    "%%bash --no-raise-error\n",
    "\n",
    "# stderr to stdout, stdout to file\n",
    "find / -name \"*.so\" -maxdepth 4 > find_results.txt 2>&1\n",
    "\n",
    "echo '-----output-----'\n",
    "head find_results.txt\n",
    "tail find_results.txt"
   ]
  },
  {
   "cell_type": "code",
   "execution_count": 128,
   "metadata": {},
   "outputs": [],
   "source": [
    "%%bash --no-raise-error\n",
    "\n",
    "# stdout and stderr to null\n",
    "find / -name \"*.so\" -maxdepth 4 &>/dev/null"
   ]
  },
  {
   "cell_type": "code",
   "execution_count": 129,
   "metadata": {},
   "outputs": [
    {
     "name": "stdout",
     "output_type": "stream",
     "text": [
      "an input line\n"
     ]
    }
   ],
   "source": [
    "%%bash --no-raise-error\n",
    "\n",
    "echo 'an input line' > input.txt\n",
    "\n",
    "# feed input.txt to stdin\n",
    "cat < input.txt"
   ]
  },
  {
   "cell_type": "code",
   "execution_count": 130,
   "metadata": {},
   "outputs": [
    {
     "name": "stdout",
     "output_type": "stream",
     "text": [
      "one line\n",
      "another line\n"
     ]
    }
   ],
   "source": [
    "%%bash --no-raise-error\n",
    "\n",
    "# create a new file using the 'here document'\n",
    "cat <<EOF > new_file.txt\n",
    "one line\n",
    "another line\n",
    "EOF\n",
    "\n",
    "# check\n",
    "cat new_file.txt"
   ]
  },
  {
   "cell_type": "code",
   "execution_count": 131,
   "metadata": {},
   "outputs": [
    {
     "name": "stdout",
     "output_type": "stream",
     "text": [
      "a string from stdin\n"
     ]
    }
   ],
   "source": [
    "%%bash --no-raise-error\n",
    "\n",
    "# here string as input\n",
    "cat <<< 'a string from stdin'"
   ]
  },
  {
   "cell_type": "markdown",
   "metadata": {},
   "source": [
    "## Cleanup"
   ]
  },
  {
   "cell_type": "code",
   "execution_count": 132,
   "metadata": {},
   "outputs": [],
   "source": [
    "%%bash --no-raise-error\n",
    "rm *.txt"
   ]
  }
 ],
 "metadata": {
  "kernelspec": {
   "display_name": "Python 3",
   "language": "python",
   "name": "python3"
  },
  "language_info": {
   "codemirror_mode": {
    "name": "ipython",
    "version": 3
   },
   "file_extension": ".py",
   "mimetype": "text/x-python",
   "name": "python",
   "nbconvert_exporter": "python",
   "pygments_lexer": "ipython3",
   "version": "3.7.1"
  }
 },
 "nbformat": 4,
 "nbformat_minor": 2
}
