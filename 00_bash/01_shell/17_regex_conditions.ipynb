{
 "cells": [
  {
   "cell_type": "markdown",
   "metadata": {},
   "source": [
    "# Regexp Conditions\n",
    "\n",
    "| Test    | Meaning |\n",
    "|---------|---------|\n",
    "|`[[ STR =~ REGEX ]]`| Regexp |"
   ]
  },
  {
   "cell_type": "markdown",
   "metadata": {},
   "source": [
    "## Examples"
   ]
  },
  {
   "cell_type": "markdown",
   "metadata": {},
   "source": [
    "```bash\n",
    "pattern='<a href=\"(.+)\">link</a>'\n",
    "[[ '<a href=\"foo.com\">link</a>' =~ $pattern ]]         # true\n",
    "[[ '<a href=\"bar.com\">another link</a>' =~ $pattern ]] # false\n",
    "```"
   ]
  }
 ],
 "metadata": {
  "kernelspec": {
   "display_name": "Python 3",
   "language": "python",
   "name": "python3"
  },
  "language_info": {
   "codemirror_mode": {
    "name": "ipython",
    "version": 3
   },
   "file_extension": ".py",
   "mimetype": "text/x-python",
   "name": "python",
   "nbconvert_exporter": "python",
   "pygments_lexer": "ipython3",
   "version": "3.7.1"
  }
 },
 "nbformat": 4,
 "nbformat_minor": 2
}
