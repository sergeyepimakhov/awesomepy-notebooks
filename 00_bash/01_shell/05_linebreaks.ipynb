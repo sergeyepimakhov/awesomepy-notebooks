{
 "cells": [
  {
   "cell_type": "markdown",
   "metadata": {},
   "source": [
    "# Linebreaks\n",
    "\n",
    "Use `\\` to break a long line."
   ]
  },
  {
   "cell_type": "markdown",
   "metadata": {},
   "source": [
    "## Linebreak in a command"
   ]
  },
  {
   "cell_type": "code",
   "execution_count": 3,
   "metadata": {},
   "outputs": [
    {
     "name": "stdout",
     "output_type": "stream",
     "text": [
      "/long/path/to/file1 /long/path/to/file2 /long/path/to/file3 /long/path/to/file4 /long/path/to/file5\n"
     ]
    }
   ],
   "source": [
    "%%bash\n",
    "echo /long/path/to/file1 \\\n",
    "/long/path/to/file2 \\\n",
    "/long/path/to/file3 \\\n",
    "/long/path/to/file4 \\\n",
    "/long/path/to/file5"
   ]
  },
  {
   "cell_type": "markdown",
   "metadata": {},
   "source": [
    "## Linebreak in a string"
   ]
  },
  {
   "cell_type": "code",
   "execution_count": 4,
   "metadata": {},
   "outputs": [
    {
     "name": "stdout",
     "output_type": "stream",
     "text": [
      "This is a very long printf. How long is it? It's so long that I continued it on the next line.\n"
     ]
    }
   ],
   "source": [
    "%%bash\n",
    "printf \"%s\\n\" \"This is a very long printf. How long is it? \\\n",
    "It's so long that I continued it on the next line.\""
   ]
  },
  {
   "cell_type": "code",
   "execution_count": null,
   "metadata": {},
   "outputs": [],
   "source": []
  }
 ],
 "metadata": {
  "kernelspec": {
   "display_name": "Python 3",
   "language": "python",
   "name": "python3"
  },
  "language_info": {
   "codemirror_mode": {
    "name": "ipython",
    "version": 3
   },
   "file_extension": ".py",
   "mimetype": "text/x-python",
   "name": "python",
   "nbconvert_exporter": "python",
   "pygments_lexer": "ipython3",
   "version": "3.7.1"
  }
 },
 "nbformat": 4,
 "nbformat_minor": 2
}
