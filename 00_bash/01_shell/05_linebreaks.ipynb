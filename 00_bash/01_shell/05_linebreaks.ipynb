{
 "cells": [
  {
   "cell_type": "markdown",
   "metadata": {},
   "source": [
    "# Linebreaks"
   ]
  },
  {
   "cell_type": "code",
   "execution_count": 3,
   "metadata": {},
   "outputs": [
    {
     "name": "stdout",
     "output_type": "stream",
     "text": [
      "/long/path/to/file1 /long/path/to/file2 /long/path/to/file3\n",
      "This is a very long printf. How long is it? It's so long that I continued it on the next line.\n"
     ]
    }
   ],
   "source": [
    "%%bash\n",
    "\n",
    "# linebreak in a command\n",
    "echo /long/path/to/file1 \\\n",
    "/long/path/to/file2 \\\n",
    "/long/path/to/file3\n",
    "\n",
    "# linebreak in a string\n",
    "printf \"%s\\n\" \"This is a very long printf. How long is it? \\\n",
    "It's so long that I continued it on the next line.\""
   ]
  },
  {
   "cell_type": "code",
   "execution_count": null,
   "metadata": {},
   "outputs": [],
   "source": []
  }
 ],
 "metadata": {
  "kernelspec": {
   "display_name": "Python 3",
   "language": "python",
   "name": "python3"
  },
  "language_info": {
   "codemirror_mode": {
    "name": "ipython",
    "version": 3
   },
   "file_extension": ".py",
   "mimetype": "text/x-python",
   "name": "python",
   "nbconvert_exporter": "python",
   "pygments_lexer": "ipython3",
   "version": "3.7.1"
  }
 },
 "nbformat": 4,
 "nbformat_minor": 2
}
