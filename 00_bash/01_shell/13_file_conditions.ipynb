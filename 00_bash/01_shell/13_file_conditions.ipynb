{
 "cells": [
  {
   "cell_type": "markdown",
   "metadata": {},
   "source": [
    "# File Conditions\n",
    "\n",
    "```bash\n",
    "[[ -e file.txt ]]          # file exists\n",
    "[[ -s file.txt ]]          # file not empty\n",
    "[[ -r file.txt ]]          # file readable\n",
    "[[ -w file.txt ]]          # file writable\n",
    "[[ -x file.txt ]]          # file executable\n",
    "[[ -d /path/to/dir ]]      # is directory?\n",
    "[[ -h soft.txt ]]          # is soft link? linked by `ln -s file.txt link.txt`. \n",
    "[[ new.txt -nt old.txt ]]  # 1 newer than 2\n",
    "[[ old.txt -ot new.txt ]]  # 1 older than 2\n",
    "[[ src.txt -ef hard.txt ]] # files hard linked. linked by `ln file.txt hard.txt`. \n",
    "```"
   ]
  }
 ],
 "metadata": {
  "kernelspec": {
   "display_name": "Python 3",
   "language": "python",
   "name": "python3"
  },
  "language_info": {
   "codemirror_mode": {
    "name": "ipython",
    "version": 3
   },
   "file_extension": ".py",
   "mimetype": "text/x-python",
   "name": "python",
   "nbconvert_exporter": "python",
   "pygments_lexer": "ipython3",
   "version": "3.7.1"
  }
 },
 "nbformat": 4,
 "nbformat_minor": 2
}
