{
 "cells": [
  {
   "cell_type": "markdown",
   "metadata": {},
   "source": [
    "# Numeric Conditions\n",
    "\n",
    "```bash\n",
    "(( num1 == num2 ))  # equal\n",
    "(( num1 != num2 ))  # not equal\n",
    "(( num1 <  num2 ))  # less than\n",
    "(( num1 <= num2 ))  # less than or equal\n",
    "(( num1 >  num2 ))  # greater than\n",
    "(( num1 >= num2 ))  # greater than or equal\n",
    "```"
   ]
  },
  {
   "cell_type": "markdown",
   "metadata": {},
   "source": [
    "## Examples"
   ]
  },
  {
   "cell_type": "markdown",
   "metadata": {},
   "source": [
    "```bash\n",
    "(( 1 == 1 )) # true\n",
    "(( 1 != 2 )) # true\n",
    "(( 1 < 2 ))  # true\n",
    "(( 1 <= 2 )) # true\n",
    "(( 2 > 1 ))  # true\n",
    "(( 2 >= 1 )) # true\n",
    "```"
   ]
  }
 ],
 "metadata": {
  "kernelspec": {
   "display_name": "Python 3",
   "language": "python",
   "name": "python3"
  },
  "language_info": {
   "codemirror_mode": {
    "name": "ipython",
    "version": 3
   },
   "file_extension": ".py",
   "mimetype": "text/x-python",
   "name": "python",
   "nbconvert_exporter": "python",
   "pygments_lexer": "ipython3",
   "version": "3.7.1"
  }
 },
 "nbformat": 4,
 "nbformat_minor": 2
}
