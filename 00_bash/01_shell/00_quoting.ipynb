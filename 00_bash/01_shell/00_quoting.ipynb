{
 "cells": [
  {
   "cell_type": "markdown",
   "metadata": {},
   "source": [
    "# Bash Quoting"
   ]
  },
  {
   "cell_type": "code",
   "execution_count": 8,
   "metadata": {},
   "outputs": [
    {
     "name": "stdout",
     "output_type": "stream",
     "text": [
      "Single quotes \"protect\" double qoutes\n",
      "Escape \"double quotes\" if needed\n",
      "Hi ${NAME}\n",
      "Hi John\n",
      "The date today: Fri Dec  4 09:06:22 CET 2020\n",
      "Home folder contains       30 folders and files\n",
      "The value of $x is 100\n",
      "col_a\tcol_b\n",
      "A\tB\n"
     ]
    }
   ],
   "source": [
    "%%bash\n",
    "echo 'Single quotes \"protect\" double qoutes'\n",
    "echo \"Escape \\\"double quotes\\\" if needed\"\n",
    "\n",
    "# variables\n",
    "NAME=\"John\"\n",
    "echo 'Hi ${NAME}'\n",
    "echo \"Hi ${NAME}\"\n",
    "\n",
    "# shell execution\n",
    "echo \"The date today: $(date)\"\n",
    "echo \"Home folder contains `ls ~ | wc -l` folders and files\"\n",
    "\n",
    "# escape special characters\n",
    "x=100\n",
    "echo \"The value of \\$x is $x\"\n",
    "\n",
    "# escape sequences\n",
    "echo $'col_a\\tcol_b\\nA\\tB'"
   ]
  },
  {
   "cell_type": "code",
   "execution_count": null,
   "metadata": {},
   "outputs": [],
   "source": []
  }
 ],
 "metadata": {
  "kernelspec": {
   "display_name": "Python 3",
   "language": "python",
   "name": "python3"
  },
  "language_info": {
   "codemirror_mode": {
    "name": "ipython",
    "version": 3
   },
   "file_extension": ".py",
   "mimetype": "text/x-python",
   "name": "python",
   "nbconvert_exporter": "python",
   "pygments_lexer": "ipython3",
   "version": "3.7.1"
  }
 },
 "nbformat": 4,
 "nbformat_minor": 2
}
