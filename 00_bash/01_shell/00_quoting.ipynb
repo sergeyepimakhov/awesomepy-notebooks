{
 "cells": [
  {
   "cell_type": "markdown",
   "metadata": {},
   "source": [
    "# Bash Quoting"
   ]
  },
  {
   "cell_type": "markdown",
   "metadata": {},
   "source": [
    "## Single and double quotes"
   ]
  },
  {
   "cell_type": "code",
   "execution_count": 14,
   "metadata": {},
   "outputs": [
    {
     "name": "stdout",
     "output_type": "stream",
     "text": [
      "Single quotes \"protect\" double qoutes\n",
      "Escape \"double quotes\" if needed\n"
     ]
    }
   ],
   "source": [
    "%%bash\n",
    "echo 'Single quotes \"protect\" double qoutes'\n",
    "echo \"Escape \\\"double quotes\\\" if needed\""
   ]
  },
  {
   "cell_type": "markdown",
   "metadata": {},
   "source": [
    "## Variables"
   ]
  },
  {
   "cell_type": "code",
   "execution_count": 10,
   "metadata": {},
   "outputs": [
    {
     "name": "stdout",
     "output_type": "stream",
     "text": [
      "Hi ${NAME}\n",
      "Hi John\n"
     ]
    }
   ],
   "source": [
    "%%bash\n",
    "\n",
    "NAME=\"John\"\n",
    "echo 'Hi ${NAME}'\n",
    "echo \"Hi ${NAME}\""
   ]
  },
  {
   "cell_type": "markdown",
   "metadata": {},
   "source": [
    "## Shell execution"
   ]
  },
  {
   "cell_type": "code",
   "execution_count": 22,
   "metadata": {},
   "outputs": [
    {
     "name": "stdout",
     "output_type": "stream",
     "text": [
      "The date today: $(date)\n",
      "The date today: Tue Dec  8 13:32:51 CET 2020\n"
     ]
    }
   ],
   "source": [
    "%%bash\n",
    "\n",
    "echo 'The date today: $(date)'\n",
    "echo \"The date today: $(date)\""
   ]
  },
  {
   "cell_type": "code",
   "execution_count": 21,
   "metadata": {},
   "outputs": [
    {
     "name": "stdout",
     "output_type": "stream",
     "text": [
      "Home folder contains `ls ~ | wc -l` folders and files\n",
      "Home folder contains       30 folders and files\n"
     ]
    }
   ],
   "source": [
    "%%bash\n",
    "echo 'Home folder contains `ls ~ | wc -l` folders and files'\n",
    "echo \"Home folder contains `ls ~ | wc -l` folders and files\""
   ]
  },
  {
   "cell_type": "markdown",
   "metadata": {},
   "source": [
    "## Escape special characters"
   ]
  },
  {
   "cell_type": "code",
   "execution_count": 23,
   "metadata": {},
   "outputs": [
    {
     "name": "stdout",
     "output_type": "stream",
     "text": [
      "The value of \\$x is $x\n",
      "The value of $x is 100\n"
     ]
    }
   ],
   "source": [
    "%%bash\n",
    "\n",
    "x=100\n",
    "echo 'The value of \\$x is $x'\n",
    "echo \"The value of \\$x is $x\""
   ]
  },
  {
   "cell_type": "markdown",
   "metadata": {},
   "source": [
    "## Escape sequences"
   ]
  },
  {
   "cell_type": "code",
   "execution_count": 24,
   "metadata": {},
   "outputs": [
    {
     "name": "stdout",
     "output_type": "stream",
     "text": [
      "col_a\tcol_b\n",
      "A\tB\n",
      "col_a\\tcol_b\\nA\\tB\n"
     ]
    }
   ],
   "source": [
    "%%bash\n",
    "\n",
    "echo $'col_a\\tcol_b\\nA\\tB'\n",
    "echo $\"col_a\\tcol_b\\nA\\tB\""
   ]
  },
  {
   "cell_type": "code",
   "execution_count": null,
   "metadata": {},
   "outputs": [],
   "source": []
  }
 ],
 "metadata": {
  "kernelspec": {
   "display_name": "Python 3",
   "language": "python",
   "name": "python3"
  },
  "language_info": {
   "codemirror_mode": {
    "name": "ipython",
    "version": 3
   },
   "file_extension": ".py",
   "mimetype": "text/x-python",
   "name": "python",
   "nbconvert_exporter": "python",
   "pygments_lexer": "ipython3",
   "version": "3.7.1"
  }
 },
 "nbformat": 4,
 "nbformat_minor": 2
}
