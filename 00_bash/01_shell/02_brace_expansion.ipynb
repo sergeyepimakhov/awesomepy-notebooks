{
 "cells": [
  {
   "cell_type": "markdown",
   "metadata": {},
   "source": [
    "# Bash Brace Expansion"
   ]
  },
  {
   "cell_type": "code",
   "execution_count": 10,
   "metadata": {},
   "outputs": [
    {
     "name": "stdout",
     "output_type": "stream",
     "text": [
      "file.txt file.jpg\n",
      "file1.txt file2.txt file3.txt file4.txt file5.txt\n",
      "file1.txt file2.txt file3.txt file4.txt file5.txt\n",
      "fileA.txt fileB.txt fileC.txt fileD.txt fileE.txt\n"
     ]
    }
   ],
   "source": [
    "%%bash\n",
    "echo file.{txt,jpg}    # file.txt file.jpg\n",
    "echo file{1..5}.txt    # file1.txt, file2.txt, ..., file5.txt\n",
    "echo file{01..5}.txt   # file01.txt, file02.txt, ..., file5.txt\n",
    "echo file{A..E}.txt    # file fileA.txt, fileB.txt, ..., fileE.txt    "
   ]
  },
  {
   "cell_type": "code",
   "execution_count": null,
   "metadata": {},
   "outputs": [],
   "source": []
  }
 ],
 "metadata": {
  "kernelspec": {
   "display_name": "Python 3",
   "language": "python",
   "name": "python3"
  },
  "language_info": {
   "codemirror_mode": {
    "name": "ipython",
    "version": 3
   },
   "file_extension": ".py",
   "mimetype": "text/x-python",
   "name": "python",
   "nbconvert_exporter": "python",
   "pygments_lexer": "ipython3",
   "version": "3.7.1"
  }
 },
 "nbformat": 4,
 "nbformat_minor": 2
}
