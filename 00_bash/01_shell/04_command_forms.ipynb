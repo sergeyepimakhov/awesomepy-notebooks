{
 "cells": [
  {
   "cell_type": "markdown",
   "metadata": {},
   "source": [
    "# Bash Command Forms\n",
    "\n",
    "```bash\n",
    "python main.py &                 # execute cmd in background\n",
    "python main.py ; echo 'done'     # execute multiple cmds on the same line\n",
    "ls | head -3                     # pipe; use output from cmd1 as input to cmd2\n",
    "ls | head -3 | tail -1           # multiple pipe\n",
    "python main.py && echo 'success' # AND; execute cmd1 and then (if cmd1 succeeds) cmd2\n",
    "python main.py || echo 'failure' # OR; execute cmd2 if cmd1 fails\n",
    "! python main.py                 # NOT; execute cmd, and produce a 0-status if cmd exits with a non-0-status, and visa versa\n",
    "```"
   ]
  },
  {
   "cell_type": "code",
   "execution_count": null,
   "metadata": {},
   "outputs": [],
   "source": []
  }
 ],
 "metadata": {
  "kernelspec": {
   "display_name": "Python 3",
   "language": "python",
   "name": "python3"
  },
  "language_info": {
   "codemirror_mode": {
    "name": "ipython",
    "version": 3
   },
   "file_extension": ".py",
   "mimetype": "text/x-python",
   "name": "python",
   "nbconvert_exporter": "python",
   "pygments_lexer": "ipython3",
   "version": "3.7.1"
  }
 },
 "nbformat": 4,
 "nbformat_minor": 2
}
