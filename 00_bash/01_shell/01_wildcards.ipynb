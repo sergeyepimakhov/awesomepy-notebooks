{
 "cells": [
  {
   "cell_type": "markdown",
   "metadata": {},
   "source": [
    "# Bash Wildcards\n",
    "\n",
    "```bash\n",
    "ls *.txt      # all txt files in folder\n",
    "ls ?.txt      # 0.txt, 1.txt, ..., 9.txt\n",
    "ls ??.txt     # 10.txt, 11.txt, ..., 99.txt\n",
    "ls [1-3].txt  # 1.txt, 2.txt, 3.txt only\n",
    "ls [A-C].txt  # A.txt, B.txt, C.txt only\n",
    "ls [!1-3].txt # all except 1.txt, 2.txt and 3.txt\n",
    "ls [!A-C].txt # all except A.txt, B.txt and C.txt\n",
    "```"
   ]
  },
  {
   "cell_type": "code",
   "execution_count": null,
   "metadata": {},
   "outputs": [],
   "source": []
  }
 ],
 "metadata": {
  "kernelspec": {
   "display_name": "Python 3",
   "language": "python",
   "name": "python3"
  },
  "language_info": {
   "codemirror_mode": {
    "name": "ipython",
    "version": 3
   },
   "file_extension": ".py",
   "mimetype": "text/x-python",
   "name": "python",
   "nbconvert_exporter": "python",
   "pygments_lexer": "ipython3",
   "version": "3.7.1"
  }
 },
 "nbformat": 4,
 "nbformat_minor": 2
}
