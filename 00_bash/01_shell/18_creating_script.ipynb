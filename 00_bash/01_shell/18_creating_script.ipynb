{
 "cells": [
  {
   "cell_type": "markdown",
   "metadata": {},
   "source": [
    "# Creating Script\n",
    "\n",
    "1. Create a new file with the `.sh` extension. \n",
    "```bash\n",
    "touch myscript.sh\n",
    "```\n",
    "2. Add the line\n",
    "```bash\n",
    "!#/bin/bash\n",
    "```\n",
    "to the very top of the script file\n",
    "3. Make the file executable\n",
    "```bash\n",
    "chmod +x myscript.sh\n",
    "```\n",
    "4. Put bash commands into the file."
   ]
  },
  {
   "cell_type": "code",
   "execution_count": null,
   "metadata": {},
   "outputs": [],
   "source": []
  }
 ],
 "metadata": {
  "kernelspec": {
   "display_name": "Python 3",
   "language": "python",
   "name": "python3"
  },
  "language_info": {
   "codemirror_mode": {
    "name": "ipython",
    "version": 3
   },
   "file_extension": ".py",
   "mimetype": "text/x-python",
   "name": "python",
   "nbconvert_exporter": "python",
   "pygments_lexer": "ipython3",
   "version": "3.7.1"
  }
 },
 "nbformat": 4,
 "nbformat_minor": 2
}
