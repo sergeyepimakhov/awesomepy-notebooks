{
 "cells": [
  {
   "cell_type": "markdown",
   "metadata": {},
   "source": [
    "# GREP"
   ]
  },
  {
   "cell_type": "markdown",
   "metadata": {},
   "source": [
    "## Setup"
   ]
  },
  {
   "cell_type": "code",
   "execution_count": 1,
   "metadata": {},
   "outputs": [
    {
     "name": "stdout",
     "output_type": "stream",
     "text": [
      "awesomepy.com\n",
      "aWeSoMePy.CoM\n",
      "AWESOMEPY.COM\n",
      "flask.pocoo.org\n",
      "djangoproject.com\n",
      "ml flow\n",
      "python.org\n",
      "pandas.pydata.org\n",
      "regex\n",
      "numpy.org\n",
      "scipy.org\n",
      "scikit-learn.org\n"
     ]
    }
   ],
   "source": [
    "%%bash\n",
    "\n",
    "# create folder if not exists\n",
    "mkdir -p grep_examples\n",
    "cd grep_examples\n",
    "\n",
    "# setup\n",
    "cat >python_list.txt <<EOL\n",
    "awesomepy.com\n",
    "aWeSoMePy.CoM\n",
    "AWESOMEPY.COM\n",
    "flask.pocoo.org\n",
    "djangoproject.com\n",
    "ml flow\n",
    "python.org\n",
    "pandas.pydata.org\n",
    "regex\n",
    "numpy.org\n",
    "scipy.org\n",
    "scikit-learn.org\n",
    "EOL\n",
    "\n",
    "# \n",
    "cat >foo.txt <<EOL\n",
    "foo\n",
    "foofoo\n",
    "EOL\n",
    "\n",
    "# check if everething is ok\n",
    "cat python_list.txt"
   ]
  },
  {
   "cell_type": "markdown",
   "metadata": {},
   "source": [
    "## GREP Basics\n",
    "\n",
    "GREP usage:\n",
    "    \n",
    "    grep [options] [pattern] [file(s)]"
   ]
  },
  {
   "cell_type": "markdown",
   "metadata": {},
   "source": [
    "### Search in File"
   ]
  },
  {
   "cell_type": "code",
   "execution_count": 2,
   "metadata": {},
   "outputs": [
    {
     "name": "stdout",
     "output_type": "stream",
     "text": [
      "awesomepy.com\r\n",
      "python.org\r\n",
      "pandas.pydata.org\r\n",
      "numpy.org\r\n",
      "scipy.org\r\n"
     ]
    }
   ],
   "source": [
    "# match all lines that have 'py'\n",
    "! grep \"py\" grep_examples/python_list.txt"
   ]
  },
  {
   "cell_type": "code",
   "execution_count": 3,
   "metadata": {},
   "outputs": [
    {
     "name": "stdout",
     "output_type": "stream",
     "text": [
      "awesomepy.com\r\n"
     ]
    }
   ],
   "source": [
    "# match all lines that start with 'awesome'\n",
    "! grep \"^awesome\" grep_examples/python_list.txt"
   ]
  },
  {
   "cell_type": "code",
   "execution_count": 4,
   "metadata": {},
   "outputs": [
    {
     "name": "stdout",
     "output_type": "stream",
     "text": [
      "awesomepy.com\r\n",
      "djangoproject.com\r\n"
     ]
    }
   ],
   "source": [
    "# match all lines that end with 'com'\n",
    "! grep \"com$\" grep_examples/python_list.txt"
   ]
  },
  {
   "cell_type": "code",
   "execution_count": 5,
   "metadata": {},
   "outputs": [
    {
     "name": "stdout",
     "output_type": "stream",
     "text": [
      "awesomepy.com\r\n",
      "aWeSoMePy.CoM\r\n",
      "AWESOMEPY.COM\r\n",
      "flask.pocoo.org\r\n",
      "djangoproject.com\r\n",
      "ml flow\r\n",
      "python.org\r\n",
      "pandas.pydata.org\r\n",
      "regex\r\n",
      "numpy.org\r\n",
      "scipy.org\r\n",
      "scikit-learn.org\r\n"
     ]
    }
   ],
   "source": [
    "# match all lines with any characters\n",
    "! grep \".*\" grep_examples/python_list.txt"
   ]
  },
  {
   "cell_type": "code",
   "execution_count": 6,
   "metadata": {},
   "outputs": [
    {
     "name": "stdout",
     "output_type": "stream",
     "text": [
      "scipy.org\r\n",
      "scikit-learn.org\r\n"
     ]
    }
   ],
   "source": [
    "! grep \"sci\" grep_examples/python_list.txt"
   ]
  },
  {
   "cell_type": "markdown",
   "metadata": {},
   "source": [
    "### Search in Folder"
   ]
  },
  {
   "cell_type": "code",
   "execution_count": 7,
   "metadata": {},
   "outputs": [
    {
     "name": "stdout",
     "output_type": "stream",
     "text": [
      "grep_examples/python_list.txt:awesomepy.com\r\n",
      "grep_examples/python_list.txt:python.org\r\n",
      "grep_examples/python_list.txt:pandas.pydata.org\r\n",
      "grep_examples/python_list.txt:numpy.org\r\n",
      "grep_examples/python_list.txt:scipy.org\r\n"
     ]
    }
   ],
   "source": [
    "# search in folder\n",
    "! grep \"py\" grep_examples/*"
   ]
  },
  {
   "cell_type": "markdown",
   "metadata": {},
   "source": [
    "### Search using PIPE"
   ]
  },
  {
   "cell_type": "code",
   "execution_count": 8,
   "metadata": {},
   "outputs": [
    {
     "name": "stdout",
     "output_type": "stream",
     "text": [
      "awesomepy.com\r\n",
      "python.org\r\n",
      "pandas.pydata.org\r\n",
      "numpy.org\r\n",
      "scipy.org\r\n"
     ]
    }
   ],
   "source": [
    "! cat grep_examples/python_list.txt | grep \"py\""
   ]
  },
  {
   "cell_type": "markdown",
   "metadata": {},
   "source": [
    "### Count"
   ]
  },
  {
   "cell_type": "code",
   "execution_count": 9,
   "metadata": {},
   "outputs": [
    {
     "name": "stdout",
     "output_type": "stream",
     "text": [
      "5\r\n"
     ]
    }
   ],
   "source": [
    "# count matches\n",
    "! grep -c \"py\" grep_examples/python_list.txt"
   ]
  },
  {
   "cell_type": "markdown",
   "metadata": {},
   "source": [
    "### Patern"
   ]
  },
  {
   "cell_type": "code",
   "execution_count": 10,
   "metadata": {},
   "outputs": [
    {
     "name": "stdout",
     "output_type": "stream",
     "text": [
      "awesomepy.com\r\n",
      "python.org\r\n",
      "pandas.pydata.org\r\n",
      "numpy.org\r\n",
      "scipy.org\r\n"
     ]
    }
   ],
   "source": [
    "# match for 'py' but with -e option. Same as above\n",
    "! grep -e \"py\" grep_examples/python_list.txt"
   ]
  },
  {
   "cell_type": "markdown",
   "metadata": {},
   "source": [
    "### Case insensitive Search"
   ]
  },
  {
   "cell_type": "code",
   "execution_count": 11,
   "metadata": {},
   "outputs": [
    {
     "name": "stdout",
     "output_type": "stream",
     "text": [
      "awesomepy.com\r\n",
      "aWeSoMePy.CoM\r\n",
      "AWESOMEPY.COM\r\n"
     ]
    }
   ],
   "source": [
    "# match all lines that start with 'awesome'. Case insensitive.\n",
    "! grep -i \"^awesome\" grep_examples/python_list.txt"
   ]
  },
  {
   "cell_type": "markdown",
   "metadata": {},
   "source": [
    "### Files with Matches"
   ]
  },
  {
   "cell_type": "code",
   "execution_count": 12,
   "metadata": {},
   "outputs": [
    {
     "name": "stdout",
     "output_type": "stream",
     "text": [
      "grep_examples/python_list.txt\r\n"
     ]
    }
   ],
   "source": [
    "! grep -l \"com$\" grep_examples/*"
   ]
  },
  {
   "cell_type": "markdown",
   "metadata": {},
   "source": [
    "### Files without Matches"
   ]
  },
  {
   "cell_type": "code",
   "execution_count": 13,
   "metadata": {},
   "outputs": [
    {
     "name": "stdout",
     "output_type": "stream",
     "text": [
      "grep_examples/foo.txt\r\n"
     ]
    }
   ],
   "source": [
    "! grep -L \"com$\" grep_examples/*"
   ]
  },
  {
   "cell_type": "markdown",
   "metadata": {},
   "source": [
    "### Line Numbers"
   ]
  },
  {
   "cell_type": "code",
   "execution_count": 14,
   "metadata": {},
   "outputs": [
    {
     "name": "stdout",
     "output_type": "stream",
     "text": [
      "1:awesomepy.com\r\n",
      "5:djangoproject.com\r\n"
     ]
    }
   ],
   "source": [
    "! grep -n \"com$\" grep_examples/python_list.txt"
   ]
  },
  {
   "cell_type": "markdown",
   "metadata": {},
   "source": [
    "### Inverted Match"
   ]
  },
  {
   "cell_type": "code",
   "execution_count": 15,
   "metadata": {},
   "outputs": [
    {
     "name": "stdout",
     "output_type": "stream",
     "text": [
      "aWeSoMePy.CoM\r\n",
      "AWESOMEPY.COM\r\n",
      "flask.pocoo.org\r\n",
      "ml flow\r\n",
      "python.org\r\n",
      "pandas.pydata.org\r\n",
      "regex\r\n",
      "numpy.org\r\n",
      "scipy.org\r\n",
      "scikit-learn.org\r\n"
     ]
    }
   ],
   "source": [
    "# exculde lines that end wtih 'com'\n",
    "! grep -v \"com$\" grep_examples/python_list.txt"
   ]
  },
  {
   "cell_type": "markdown",
   "metadata": {},
   "source": [
    "### Search a whole Word"
   ]
  },
  {
   "cell_type": "code",
   "execution_count": 16,
   "metadata": {},
   "outputs": [
    {
     "name": "stdout",
     "output_type": "stream",
     "text": [
      "9:regex\r\n"
     ]
    }
   ],
   "source": [
    "! grep -wn \"regex\" grep_examples/python_list.txt"
   ]
  },
  {
   "cell_type": "markdown",
   "metadata": {},
   "source": [
    "### egrep\n",
    "grep -E\n",
    "### fgrep\n",
    "grep -F\n",
    "### zgrep\n",
    "grep -Z\n",
    "### zegrep\n",
    "### zfgrep"
   ]
  },
  {
   "cell_type": "markdown",
   "metadata": {},
   "source": [
    "## Grep Options\n",
    "\n",
    "| command | permalink |\n",
    "|---------|----------|\n",
    "| -A num, --after-context=num | no |\n",
    "| -a, --text | no |\n",
    "| -B num, --before-context=num | no |\n",
    "| -b, --byte-offset | no |\n",
    "| -C[num, --context=num] | no |\n",
    "| -c, --count | [Try It](#Count) |\n",
    "| --colour=[when, --color=[when]] | no |\n",
    "| -D action, --devices=action | no |\n",
    "| -d action, --directories=action | no |\n",
    "| -E, --extended-regexp | no |\n",
    "| -e pattern, --regexp=pattern | [Try It](#Patern) |\n",
    "| --exclude | no |\n",
    "| --exclude-dir | no |\n",
    "| -F, --fixed-strings | no |\n",
    "| -f file, --file=file | no |\n",
    "| -G, --basic-regexp | no |\n",
    "| -H | no |\n",
    "| -h, --no-filename | no |\n",
    "| --help | no |\n",
    "| -I | no |\n",
    "| -i, --ignore-case | [Try It](#Case-insensitive-Search) |\n",
    "| --include | no |\n",
    "| --include-dir | no |\n",
    "| -J, --bz2decompress | no |\n",
    "| -L, --files-without-match | [Try It](#Files-without-Matches) |\n",
    "| -l, --files-with-matches | [Try It](#Files-with-Matches) |\n",
    "| --mmap | no |\n",
    "| -m num, --max-count=num | no |\n",
    "| -n, --line-number | [Try It](#Line-Numbers) |\n",
    "| --null | no |\n",
    "| -O | no |\n",
    "| -o, --only-matching | no |\n",
    "| -p | no |\n",
    "| -q, --quiet, --silent | no |\n",
    "| -R, -r, --recursive | no |\n",
    "| -S | no |\n",
    "| -s, --no-messages | no |\n",
    "| -U, --binary | no |\n",
    "| -V, --version | no |\n",
    "| -v, --invert-match | [Try It](#Inverted-Match) |\n",
    "| -w, --word-regexp | [Try It](#Search-a-whole-Word) |\n",
    "| -x, --line-regexp | no |\n",
    "| -Z, -z, --decompress | no |\n",
    "| --binary-files=value | no |\n",
    "| --context[=num] | no |\n",
    "| --line-buffered | no |"
   ]
  },
  {
   "cell_type": "code",
   "execution_count": 17,
   "metadata": {},
   "outputs": [
    {
     "name": "stdout",
     "output_type": "stream",
     "text": [
      "\r\n",
      "GREP(1)                   BSD General Commands Manual                  GREP(1)\r\n",
      "\r\n",
      "N\bNA\bAM\bME\bE\r\n",
      "     g\bgr\bre\bep\bp, e\beg\bgr\bre\bep\bp, f\bfg\bgr\bre\bep\bp, z\bzg\bgr\bre\bep\bp, z\bze\beg\bgr\bre\bep\bp, z\bzf\bfg\bgr\bre\bep\bp -- file pattern searcher\r\n",
      "\r\n",
      "S\bSY\bYN\bNO\bOP\bPS\bSI\bIS\bS\r\n",
      "     g\bgr\bre\bep\bp [-\b-a\bab\bbc\bcd\bdD\bDE\bEF\bFG\bGH\bHh\bhI\bIi\biJ\bJL\bLl\blm\bmn\bnO\bOo\bop\bpq\bqR\bRS\bSs\bsU\bUV\bVv\bvw\bwx\bxZ\bZ] [-\b-A\bA _\bn_\bu_\bm] [-\b-B\bB _\bn_\bu_\bm] [-\b-C\bC[_\bn_\bu_\bm]]\r\n",
      "          [-\b-e\be _\bp_\ba_\bt_\bt_\be_\br_\bn] [-\b-f\bf _\bf_\bi_\bl_\be] [-\b--\b-b\bbi\bin\bna\bar\bry\by-\b-f\bfi\bil\ble\bes\bs=_\bv_\ba_\bl_\bu_\be] [-\b--\b-c\bco\bol\blo\bor\br[=_\bw_\bh_\be_\bn]]\r\n",
      "          [-\b--\b-c\bco\bol\blo\bou\bur\br[=_\bw_\bh_\be_\bn]] [-\b--\b-c\bco\bon\bnt\bte\bex\bxt\bt[=_\bn_\bu_\bm]] [-\b--\b-l\bla\bab\bbe\bel\bl] [-\b--\b-l\bli\bin\bne\be-\b-b\bbu\buf\bff\bfe\ber\bre\bed\bd]\r\n",
      "          [-\b--\b-n\bnu\bul\bll\bl] [_\bp_\ba_\bt_\bt_\be_\br_\bn] [_\bf_\bi_\bl_\be _\b._\b._\b.]\r\n",
      "\r\n",
      "D\bDE\bES\bSC\bCR\bRI\bIP\bPT\bTI\bIO\bON\bN\r\n",
      "     The g\bgr\bre\bep\bp utility searches any given input files, selecting lines that\r\n",
      "     match one or more patterns.  By default, a pattern matches an input line\r\n",
      "     if the regular expression (RE) in the pattern matches the input line\r\n",
      "     without its trailing newline.  An empty expression matches every line.\r\n",
      "     Each input line that matches at least one of the patterns is written to\r\n",
      "     the standard output.\r\n",
      "\r\n",
      "     g\bgr\bre\bep\bp is used for simple patterns and basic regular expressions (BREs);\r\n",
      "     e\beg\bgr\bre\bep\bp can handle extended regular expressions (EREs).  See re_format(7)\r\n",
      "     for more information on regular expressions.  f\bfg\bgr\bre\bep\bp is quicker than both\r\n",
      "     g\bgr\bre\bep\bp and e\beg\bgr\bre\bep\bp, but can only handle fixed patterns (i.e. it does not\r\n",
      "     interpret regular expressions).  Patterns may consist of one or more\r\n",
      "     lines, allowing any of the pattern lines to match a portion of the input.\r\n",
      "\r\n",
      "     z\bzg\bgr\bre\bep\bp, z\bze\beg\bgr\bre\bep\bp, and z\bzf\bfg\bgr\bre\bep\bp act like g\bgr\bre\bep\bp, e\beg\bgr\bre\bep\bp, and f\bfg\bgr\bre\bep\bp, respectively,\r\n",
      "     but accept input files compressed with the compress(1) or gzip(1) com-\r\n",
      "     pression utilities.\r\n",
      "\r\n",
      "     The following options are available:\r\n",
      "\r\n",
      "     -\b-A\bA _\bn_\bu_\bm, -\b--\b-a\baf\bft\bte\ber\br-\b-c\bco\bon\bnt\bte\bex\bxt\bt=_\bn_\bu_\bm\r\n",
      "             Print _\bn_\bu_\bm lines of trailing context after each match.  See also\r\n",
      "             the -\b-B\bB and -\b-C\bC options.\r\n",
      "\r\n",
      "     -\b-a\ba, -\b--\b-t\bte\bex\bxt\bt\r\n",
      "             Treat all files as ASCII text.  Normally g\bgr\bre\bep\bp will simply print\r\n",
      "             ``Binary file ... matches'' if files contain binary characters.\r\n",
      "             Use of this option forces g\bgr\bre\bep\bp to output lines matching the spec-\r\n",
      "             ified pattern.\r\n",
      "\r\n",
      "     -\b-B\bB _\bn_\bu_\bm, -\b--\b-b\bbe\bef\bfo\bor\bre\be-\b-c\bco\bon\bnt\bte\bex\bxt\bt=_\bn_\bu_\bm\r\n",
      "             Print _\bn_\bu_\bm lines of leading context before each match.  See also\r\n",
      "             the -\b-A\bA and -\b-C\bC options.\r\n",
      "\r\n",
      "     -\b-b\bb, -\b--\b-b\bby\byt\bte\be-\b-o\bof\bff\bfs\bse\bet\bt\r\n",
      "             The offset in bytes of a matched pattern is displayed in front of\r\n",
      "             the respective matched line.\r\n",
      "\r\n",
      "     -\b-C\bC[_\bn_\bu_\bm, -\b--\b-c\bco\bon\bnt\bte\bex\bxt\bt=_\bn_\bu_\bm]\r\n",
      "             Print _\bn_\bu_\bm lines of leading and trailing context surrounding each\r\n",
      "             match.  The default is 2 and is equivalent to -\b-A\bA _\b2 -\b-B\bB _\b2.  Note:\r\n",
      "             no whitespace may be given between the option and its argument.\r\n",
      "\r\n",
      "     -\b-c\bc, -\b--\b-c\bco\bou\bun\bnt\bt\r\n",
      "             Only a count of selected lines is written to standard output.\r\n",
      "\r\n",
      "     -\b--\b-c\bco\bol\blo\bou\bur\br=[_\bw_\bh_\be_\bn, -\b--\b-c\bco\bol\blo\bor\br=[_\bw_\bh_\be_\bn]]\r\n",
      "             Mark up the matching text with the expression stored in\r\n",
      "             GREP_COLOR environment variable.  The possible values of when can\r\n",
      "             be `never', `always' or `auto'.\r\n",
      "\r\n",
      "     -\b-D\bD _\ba_\bc_\bt_\bi_\bo_\bn, -\b--\b-d\bde\bev\bvi\bic\bce\bes\bs=_\ba_\bc_\bt_\bi_\bo_\bn\r\n",
      "             Specify the demanded action for devices, FIFOs and sockets.  The\r\n",
      "             default action is `read', which means, that they are read as if\r\n",
      "             they were normal files.  If the action is set to `skip', devices\r\n",
      "             will be silently skipped.\r\n",
      "\r\n",
      "     -\b-d\bd _\ba_\bc_\bt_\bi_\bo_\bn, -\b--\b-d\bdi\bir\bre\bec\bct\bto\bor\bri\bie\bes\bs=_\ba_\bc_\bt_\bi_\bo_\bn\r\n",
      "             Specify the demanded action for directories.  It is `read' by\r\n",
      "             default, which means that the directories are read in the same\r\n",
      "             manner as normal files.  Other possible values are `skip' to\r\n",
      "             silently ignore the directories, and `recurse' to read them\r\n",
      "             recursively, which has the same effect as the -\b-R\bR and -\b-r\br option.\r\n",
      "\r\n",
      "     -\b-E\bE, -\b--\b-e\bex\bxt\bte\ben\bnd\bde\bed\bd-\b-r\bre\beg\bge\bex\bxp\bp\r\n",
      "             Interpret _\bp_\ba_\bt_\bt_\be_\br_\bn as an extended regular expression (i.e. force\r\n",
      "             g\bgr\bre\bep\bp to behave as e\beg\bgr\bre\bep\bp).\r\n",
      "\r\n",
      "     -\b-e\be _\bp_\ba_\bt_\bt_\be_\br_\bn, -\b--\b-r\bre\beg\bge\bex\bxp\bp=_\bp_\ba_\bt_\bt_\be_\br_\bn\r\n",
      "             Specify a pattern used during the search of the input: an input\r\n",
      "             line is selected if it matches any of the specified patterns.\r\n",
      "             This option is most useful when multiple -\b-e\be options are used to\r\n",
      "             specify multiple patterns, or when a pattern begins with a dash\r\n",
      "             (`-').\r\n",
      "\r\n",
      "     -\b--\b-e\bex\bxc\bcl\blu\bud\bde\be\r\n",
      "             If specified, it excludes files matching the given filename pat-\r\n",
      "             tern from the search.  Note that -\b--\b-e\bex\bxc\bcl\blu\bud\bde\be patterns take priority\r\n",
      "             over -\b--\b-i\bin\bnc\bcl\blu\bud\bde\be patterns, and if no -\b--\b-i\bin\bnc\bcl\blu\bud\bde\be pattern is speci-\r\n",
      "             fied, all files are searched that are not excluded.  Patterns are\r\n",
      "             matched to the full path specified, not only to the filename com-\r\n",
      "             ponent.\r\n",
      "\r\n",
      "     -\b--\b-e\bex\bxc\bcl\blu\bud\bde\be-\b-d\bdi\bir\br\r\n",
      "             If -\b-R\bR is specified, it excludes directories matching the given\r\n",
      "             filename pattern from the search.  Note that -\b--\b-e\bex\bxc\bcl\blu\bud\bde\be-\b-d\bdi\bir\br pat-\r\n",
      "             terns take priority over -\b--\b-i\bin\bnc\bcl\blu\bud\bde\be-\b-d\bdi\bir\br patterns, and if no\r\n",
      "             -\b--\b-i\bin\bnc\bcl\blu\bud\bde\be-\b-d\bdi\bir\br pattern is specified, all directories are searched\r\n",
      "             that are not excluded.\r\n",
      "\r\n",
      "     -\b-F\bF, -\b--\b-f\bfi\bix\bxe\bed\bd-\b-s\bst\btr\bri\bin\bng\bgs\bs\r\n",
      "             Interpret _\bp_\ba_\bt_\bt_\be_\br_\bn as a set of fixed strings (i.e. force g\bgr\bre\bep\bp to\r\n",
      "             behave as f\bfg\bgr\bre\bep\bp).\r\n",
      "\r\n",
      "     -\b-f\bf _\bf_\bi_\bl_\be, -\b--\b-f\bfi\bil\ble\be=_\bf_\bi_\bl_\be\r\n",
      "             Read one or more newline separated patterns from _\bf_\bi_\bl_\be.  Empty\r\n",
      "             pattern lines match every input line.  Newlines are not consid-\r\n",
      "             ered part of a pattern.  If _\bf_\bi_\bl_\be is empty, nothing is matched.\r\n",
      "\r\n",
      "     -\b-G\bG, -\b--\b-b\bba\bas\bsi\bic\bc-\b-r\bre\beg\bge\bex\bxp\bp\r\n",
      "             Interpret _\bp_\ba_\bt_\bt_\be_\br_\bn as a basic regular expression (i.e. force g\bgr\bre\bep\bp\r\n",
      "             to behave as traditional g\bgr\bre\bep\bp).\r\n",
      "\r\n",
      "     -\b-H\bH      Always print filename headers with output lines.\r\n",
      "\r\n",
      "     -\b-h\bh, -\b--\b-n\bno\bo-\b-f\bfi\bil\ble\ben\bna\bam\bme\be\r\n",
      "             Never print filename headers (i.e. filenames) with output lines.\r\n",
      "\r\n",
      "     -\b--\b-h\bhe\bel\blp\bp  Print a brief help message.\r\n",
      "\r\n",
      "     -\b-I\bI      Ignore binary files.  This option is equivalent to\r\n",
      "             -\b--\b-b\bbi\bin\bna\bar\bry\by-\b-f\bfi\bil\ble\be=_\bw_\bi_\bt_\bh_\bo_\bu_\bt_\b-_\bm_\ba_\bt_\bc_\bh option.\r\n",
      "\r\n",
      "     -\b-i\bi, -\b--\b-i\big\bgn\bno\bor\bre\be-\b-c\bca\bas\bse\be\r\n",
      "             Perform case insensitive matching.  By default, g\bgr\bre\bep\bp is case sen-\r\n",
      "             sitive.\r\n",
      "\r\n",
      "     -\b--\b-i\bin\bnc\bcl\blu\bud\bde\be\r\n",
      "             If specified, only files matching the given filename pattern are\r\n",
      "             searched.  Note that -\b--\b-e\bex\bxc\bcl\blu\bud\bde\be patterns take priority over\r\n",
      "             -\b--\b-i\bin\bnc\bcl\blu\bud\bde\be patterns.  Patterns are matched to the full path speci-\r\n",
      "             fied, not only to the filename component.\r\n",
      "\r\n",
      "     -\b--\b-i\bin\bnc\bcl\blu\bud\bde\be-\b-d\bdi\bir\br\r\n",
      "             If -\b-R\bR is specified, only directories matching the given filename\r\n",
      "             pattern are searched.  Note that -\b--\b-e\bex\bxc\bcl\blu\bud\bde\be-\b-d\bdi\bir\br patterns take pri-\r\n",
      "             ority over -\b--\b-i\bin\bnc\bcl\blu\bud\bde\be-\b-d\bdi\bir\br patterns.\r\n",
      "\r\n",
      "     -\b-J\bJ,\b, -\b--\b-b\bbz\bz2\b2d\bde\bec\bco\bom\bmp\bpr\bre\bes\bss\bs\r\n",
      "             Decompress the bzip2(1) compressed file before looking for the\r\n",
      "             text.\r\n",
      "\r\n",
      "     -\b-L\bL, -\b--\b-f\bfi\bil\ble\bes\bs-\b-w\bwi\bit\bth\bho\bou\but\bt-\b-m\bma\bat\btc\bch\bh\r\n",
      "             Only the names of files not containing selected lines are written\r\n",
      "             to standard output.  Pathnames are listed once per file searched.\r\n",
      "             If the standard input is searched, the string ``(standard\r\n",
      "             input)'' is written.\r\n",
      "\r\n",
      "     -\b-l\bl, -\b--\b-f\bfi\bil\ble\bes\bs-\b-w\bwi\bit\bth\bh-\b-m\bma\bat\btc\bch\bhe\bes\bs\r\n",
      "             Only the names of files containing selected lines are written to\r\n",
      "             standard output.  g\bgr\bre\bep\bp will only search a file until a match has\r\n",
      "             been found, making searches potentially less expensive.  Path-\r\n",
      "             names are listed once per file searched.  If the standard input\r\n",
      "             is searched, the string ``(standard input)'' is written.\r\n",
      "\r\n",
      "     -\b--\b-m\bmm\bma\bap\bp  Use mmap(2) instead of read(2) to read input, which can result in\r\n",
      "             better performance under some circumstances but can cause unde-\r\n",
      "             fined behaviour.\r\n",
      "\r\n",
      "     -\b-m\bm _\bn_\bu_\bm_\b, -\b--\b-m\bma\bax\bx-\b-c\bco\bou\bun\bnt\bt=_\bn_\bu_\bm\r\n",
      "             Stop reading the file after _\bn_\bu_\bm matches.\r\n",
      "\r\n",
      "     -\b-n\bn, -\b--\b-l\bli\bin\bne\be-\b-n\bnu\bum\bmb\bbe\ber\br\r\n",
      "             Each output line is preceded by its relative line number in the\r\n",
      "             file, starting at line 1.  The line number counter is reset for\r\n",
      "             each file processed.  This option is ignored if -\b-c\bc, -\b-L\bL, -\b-l\bl, or -\b-q\bq\r\n",
      "             is specified.\r\n",
      "\r\n",
      "     -\b--\b-n\bnu\bul\bll\bl  Prints a zero-byte after the file name.\r\n",
      "\r\n",
      "     -\b-O\bO      If -\b-R\bR is specified, follow symbolic links only if they were\r\n",
      "             explicitly listed on the command line.  The default is not to\r\n",
      "             follow symbolic links.\r\n",
      "\r\n",
      "     -\b-o\bo,\b, -\b--\b-o\bon\bnl\bly\by-\b-m\bma\bat\btc\bch\bhi\bin\bng\bg\r\n",
      "             Prints only the matching part of the lines.\r\n",
      "\r\n",
      "     -\b-p\bp      If -\b-R\bR is specified, no symbolic links are followed.  This is the\r\n",
      "             default.\r\n",
      "\r\n",
      "     -\b-q\bq, -\b--\b-q\bqu\bui\bie\bet\bt, -\b--\b-s\bsi\bil\ble\ben\bnt\bt\r\n",
      "             Quiet mode: suppress normal output.  g\bgr\bre\bep\bp will only search a file\r\n",
      "             until a match has been found, making searches potentially less\r\n",
      "             expensive.\r\n",
      "\r\n",
      "     -\b-R\bR, -\b-r\br, -\b--\b-r\bre\bec\bcu\bur\brs\bsi\biv\bve\be\r\n",
      "             Recursively search subdirectories listed.\r\n",
      "\r\n",
      "     -\b-S\bS      If -\b-R\bR is specified, all symbolic links are followed.  The default\r\n",
      "             is not to follow symbolic links.\r\n",
      "\r\n",
      "     -\b-s\bs, -\b--\b-n\bno\bo-\b-m\bme\bes\bss\bsa\bag\bge\bes\bs\r\n",
      "             Silent mode.  Nonexistent and unreadable files are ignored (i.e.\r\n",
      "             their error messages are suppressed).\r\n",
      "\r\n",
      "     -\b-U\bU, -\b--\b-b\bbi\bin\bna\bar\bry\by\r\n",
      "             Search binary files, but do not attempt to print them.\r\n",
      "\r\n",
      "     -\b-V\bV, -\b--\b-v\bve\ber\brs\bsi\bio\bon\bn\r\n",
      "             Display version information and exit.\r\n",
      "\r\n",
      "     -\b-v\bv, -\b--\b-i\bin\bnv\bve\ber\brt\bt-\b-m\bma\bat\btc\bch\bh\r\n",
      "             Selected lines are those _\bn_\bo_\bt matching any of the specified pat-\r\n",
      "             terns.\r\n",
      "\r\n",
      "     -\b-w\bw, -\b--\b-w\bwo\bor\brd\bd-\b-r\bre\beg\bge\bex\bxp\bp\r\n",
      "             The expression is searched for as a word (as if surrounded by\r\n",
      "             `[[:<:]]' and `[[:>:]]'; see re_format(7)).\r\n",
      "\r\n",
      "     -\b-x\bx, -\b--\b-l\bli\bin\bne\be-\b-r\bre\beg\bge\bex\bxp\bp\r\n",
      "             Only input lines selected against an entire fixed string or regu-\r\n",
      "             lar expression are considered to be matching lines.\r\n",
      "\r\n",
      "     -\b-y\by      Equivalent to -\b-i\bi.  Obsoleted.\r\n",
      "\r\n",
      "     -\b-Z\bZ, -\b-z\bz, -\b--\b-d\bde\bec\bco\bom\bmp\bpr\bre\bes\bss\bs\r\n",
      "             Force g\bgr\bre\bep\bp to behave as z\bzg\bgr\bre\bep\bp.\r\n",
      "\r\n",
      "     -\b--\b-b\bbi\bin\bna\bar\bry\by-\b-f\bfi\bil\ble\bes\bs=_\bv_\ba_\bl_\bu_\be\r\n",
      "             Controls searching and printing of binary files.  Options are\r\n",
      "             _\bb_\bi_\bn_\ba_\br_\by, the default: search binary files but do not print them;\r\n",
      "             _\bw_\bi_\bt_\bh_\bo_\bu_\bt_\b-_\bm_\ba_\bt_\bc_\bh: do not search binary files; and _\bt_\be_\bx_\bt: treat all\r\n",
      "             files as text.\r\n",
      "\r\n",
      "     -\b--\b-c\bco\bon\bnt\bte\bex\bxt\bt[=_\bn_\bu_\bm]\r\n",
      "             Print _\bn_\bu_\bm lines of leading and trailing context.  The default is\r\n",
      "             2.\r\n",
      "\r\n",
      "     -\b--\b-l\bli\bin\bne\be-\b-b\bbu\buf\bff\bfe\ber\bre\bed\bd\r\n",
      "             Force output to be line buffered.  By default, output is line\r\n",
      "             buffered when standard output is a terminal and block buffered\r\n",
      "             otherwise.\r\n",
      "\r\n",
      "     If no file arguments are specified, the standard input is used.\r\n",
      "\r\n",
      "E\bEN\bNV\bVI\bIR\bRO\bON\bNM\bME\bEN\bNT\bT\r\n",
      "     GREP_OPTIONS  May be used to specify default options that will be placed\r\n",
      "                   at the beginning of the argument list.  Backslash-escaping\r\n",
      "                   is not supported, unlike the behavior in GNU grep.\r\n",
      "\r\n",
      "E\bEX\bXI\bIT\bT S\bST\bTA\bAT\bTU\bUS\bS\r\n",
      "     The g\bgr\bre\bep\bp utility exits with one of the following values:\r\n",
      "\r\n",
      "     0     One or more lines were selected.\r\n",
      "     1     No lines were selected.\r\n",
      "     >1    An error occurred.\r\n",
      "\r\n",
      "E\bEX\bXA\bAM\bMP\bPL\bLE\bES\bS\r\n",
      "     To find all occurrences of the word `patricia' in a file:\r\n",
      "\r\n",
      "           $ grep 'patricia' myfile\r\n",
      "\r\n",
      "     To find all occurrences of the pattern `.Pp' at the beginning of a line:\r\n",
      "\r\n",
      "           $ grep '^\\.Pp' myfile\r\n",
      "\r\n",
      "     The apostrophes ensure the entire expression is evaluated by g\bgr\bre\bep\bp instead\r\n",
      "     of by the user's shell.  The caret `^' matches the null string at the\r\n",
      "     beginning of a line, and the `\\' escapes the `.', which would otherwise\r\n",
      "     match any character.\r\n",
      "\r\n",
      "     To find all lines in a file which do not contain the words `foo' or\r\n",
      "     `bar':\r\n",
      "\r\n",
      "           $ grep -v -e 'foo' -e 'bar' myfile\r\n",
      "\r\n",
      "     A simple example of an extended regular expression:\r\n",
      "\r\n",
      "           $ egrep '19|20|25' calendar\r\n",
      "\r\n",
      "     Peruses the file `calendar' looking for either 19, 20, or 25.\r\n",
      "\r\n",
      "S\bSE\bEE\bE A\bAL\bLS\bSO\bO\r\n",
      "     ed(1), ex(1), gzip(1), sed(1), re_format(7)\r\n",
      "\r\n",
      "S\bST\bTA\bAN\bND\bDA\bAR\bRD\bDS\bS\r\n",
      "     The g\bgr\bre\bep\bp utility is compliant with the IEEE Std 1003.1-2008 (``POSIX.1'')\r\n",
      "     specification.\r\n",
      "\r\n",
      "     The flags [-\b-A\bAa\baB\bBb\bbC\bCD\bDd\bdG\bGH\bHh\bhI\bIJ\bJL\bLm\bmo\boP\bPR\bRS\bSU\bUV\bVw\bwZ\bZ] are extensions to that specification,\r\n",
      "     and the behaviour of the -\b-f\bf flag when used with an empty pattern file is\r\n",
      "     left undefined.\r\n",
      "\r\n",
      "     All long options are provided for compatibility with GNU versions of this\r\n",
      "     utility.\r\n",
      "\r\n",
      "     Historic versions of the g\bgr\bre\bep\bp utility also supported the flags [-\b-r\bru\buy\by].\r\n",
      "     This implementation supports those options; however, their use is\r\n",
      "     strongly discouraged.\r\n",
      "\r\n",
      "H\bHI\bIS\bST\bTO\bOR\bRY\bY\r\n",
      "     The g\bgr\bre\bep\bp command first appeared in Version 6 AT&T UNIX.\r\n",
      "\r\n",
      "B\bBU\bUG\bGS\bS\r\n",
      "     The g\bgr\bre\bep\bp utility does not normalize Unicode input, so a pattern contain-\r\n",
      "     ing composed characters will not match decomposed input, and vice versa.\r\n",
      "\r\n",
      "BSD                              July 28, 2010                             BSD\r\n"
     ]
    }
   ],
   "source": [
    "! man grep"
   ]
  }
 ],
 "metadata": {
  "kernelspec": {
   "display_name": "Python 3",
   "language": "python",
   "name": "python3"
  },
  "language_info": {
   "codemirror_mode": {
    "name": "ipython",
    "version": 3
   },
   "file_extension": ".py",
   "mimetype": "text/x-python",
   "name": "python",
   "nbconvert_exporter": "python",
   "pygments_lexer": "ipython3",
   "version": "3.7.1"
  }
 },
 "nbformat": 4,
 "nbformat_minor": 2
}
