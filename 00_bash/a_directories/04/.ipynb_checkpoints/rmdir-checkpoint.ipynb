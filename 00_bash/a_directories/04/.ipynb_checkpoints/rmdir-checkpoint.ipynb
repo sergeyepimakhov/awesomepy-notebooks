{
 "cells": [
  {
   "cell_type": "markdown",
   "metadata": {},
   "source": [
    "# RMDIR\n",
    "\n",
    "Removes the directory with the given name. The directory must be empty."
   ]
  },
  {
   "cell_type": "markdown",
   "metadata": {},
   "source": [
    "## SYNOPSIS\n",
    "\n",
    "```bash\n",
    "rmdir [option(s)] directory\n",
    "```"
   ]
  },
  {
   "cell_type": "markdown",
   "metadata": {},
   "source": [
    "## SETUP"
   ]
  },
  {
   "cell_type": "code",
   "execution_count": 150,
   "metadata": {},
   "outputs": [
    {
     "name": "stdout",
     "output_type": "stream",
     "text": [
      "done\n"
     ]
    }
   ],
   "source": [
    "%%bash\n",
    "mkdir -p folder1\n",
    "mkdir -p folder2\n",
    "mkdir -p folder3\n",
    "echo 'done'"
   ]
  },
  {
   "cell_type": "markdown",
   "metadata": {},
   "source": [
    "## USAGE"
   ]
  },
  {
   "cell_type": "markdown",
   "metadata": {},
   "source": [
    "### Relative path"
   ]
  },
  {
   "cell_type": "code",
   "execution_count": 151,
   "metadata": {},
   "outputs": [
    {
     "name": "stdout",
     "output_type": "stream",
     "text": [
      "total 16\n",
      " 0 drwxr-xr-x  2 esn  staff    64 Apr 11 21:36 folder2\n",
      " 0 drwxr-xr-x  2 esn  staff    64 Apr 11 21:36 folder3\n"
     ]
    }
   ],
   "source": [
    "%%bash\n",
    "rmdir folder1\n",
    "\n",
    "# check if the folder '1' is still there\n",
    "ls -lstr| grep -v \".ipynb\""
   ]
  },
  {
   "cell_type": "code",
   "execution_count": 152,
   "metadata": {},
   "outputs": [
    {
     "name": "stdout",
     "output_type": "stream",
     "text": [
      "total 16\n",
      " 0 drwxr-xr-x  2 esn  staff    64 Apr 11 21:36 folder3\n"
     ]
    }
   ],
   "source": [
    "%%bash\n",
    "rmdir ./folder2\n",
    "\n",
    "# check if the folder '2' is still there\n",
    "ls -lstr| grep -v \".ipynb\""
   ]
  },
  {
   "cell_type": "markdown",
   "metadata": {},
   "source": [
    "### Absolute path"
   ]
  },
  {
   "cell_type": "code",
   "execution_count": 153,
   "metadata": {},
   "outputs": [
    {
     "name": "stdout",
     "output_type": "stream",
     "text": [
      "total 16\n"
     ]
    }
   ],
   "source": [
    "%%bash\n",
    "rmdir $(pwd)/folder3\n",
    "\n",
    "# check if the folder '3' is still there\n",
    "ls -lstr| grep -v \".ipynb\""
   ]
  },
  {
   "cell_type": "markdown",
   "metadata": {},
   "source": [
    "## MAN PAGE"
   ]
  },
  {
   "cell_type": "code",
   "execution_count": 154,
   "metadata": {},
   "outputs": [
    {
     "name": "stdout",
     "output_type": "stream",
     "text": [
      "\n",
      "RMDIR(1)                  BSD General Commands Manual                 RMDIR(1)\n",
      "\n",
      "NAME\n",
      "     rmdir -- remove directories\n",
      "\n",
      "SYNOPSIS\n",
      "     rmdir [-p] directory ...\n",
      "\n",
      "DESCRIPTION\n",
      "     The rmdir utility removes the directory entry specified by each directory\n",
      "     argument, provided it is empty.\n",
      "\n",
      "     Arguments are processed in the order given.  In order to remove both a\n",
      "     parent directory and a subdirectory of that parent, the subdirectory must\n",
      "     be specified first so the parent directory is empty when rmdir tries to\n",
      "     remove it.\n",
      "\n",
      "     The following option is available:\n",
      "\n",
      "     -p      Each directory argument is treated as a pathname of which all\n",
      "             components will be removed, if they are empty, starting with the\n",
      "             last most component.  (See rm(1) for fully non-discriminant\n",
      "             recursive removal.)\n",
      "\n",
      "     The rmdir utility exits with one of the following values:\n",
      "\n",
      "     0       Each directory entry specified by a dir operand referred to an\n",
      "             empty directory and was removed successfully.\n",
      "\n",
      "     >0      An error occurred.\n",
      "\n",
      "SEE ALSO\n",
      "     rm(1)\n",
      "\n",
      "STANDARDS\n",
      "     The rmdir command is expected to be IEEE Std 1003.2 (``POSIX.2'') compat-\n",
      "     ible.\n",
      "\n",
      "HISTORY\n",
      "     A rmdir command appeared in Version 1 AT&T UNIX.\n",
      "\n",
      "BSD                              May 31, 1993                              BSD\n"
     ]
    }
   ],
   "source": [
    "%%bash\n",
    "man rmdir"
   ]
  },
  {
   "cell_type": "markdown",
   "metadata": {},
   "source": [
    "## CLEANUP"
   ]
  },
  {
   "cell_type": "code",
   "execution_count": 156,
   "metadata": {},
   "outputs": [
    {
     "name": "stdout",
     "output_type": "stream",
     "text": [
      "/Users/esn/repos/awesomepy-notebooks/00_bash/A_directories/04\n"
     ]
    }
   ],
   "source": [
    "%%bash\n",
    "ls | grep -v \".*\\.ipynb$\" | xargs rm"
   ]
  },
  {
   "cell_type": "code",
   "execution_count": null,
   "metadata": {},
   "outputs": [],
   "source": []
  }
 ],
 "metadata": {
  "kernelspec": {
   "display_name": "Python 3",
   "language": "python",
   "name": "python3"
  },
  "language_info": {
   "codemirror_mode": {
    "name": "ipython",
    "version": 3
   },
   "file_extension": ".py",
   "mimetype": "text/x-python",
   "name": "python",
   "nbconvert_exporter": "python",
   "pygments_lexer": "ipython3",
   "version": "3.7.1"
  }
 },
 "nbformat": 4,
 "nbformat_minor": 2
}
