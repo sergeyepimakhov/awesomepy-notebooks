{
 "cells": [
  {
   "cell_type": "markdown",
   "metadata": {},
   "source": [
    "# LOCATE\n",
    "\n",
    "Command that searches for files by name on the entire system."
   ]
  },
  {
   "cell_type": "markdown",
   "metadata": {},
   "source": [
    "## SYNOPSIS\n",
    "\n",
    "```bash\n",
    "locate [option(s)] pattern ...\n",
    "```"
   ]
  },
  {
   "cell_type": "markdown",
   "metadata": {},
   "source": [
    "## NOTEBOOK SETUP\n",
    "\n",
    "Please run this cell before you start working with the notebook."
   ]
  },
  {
   "cell_type": "code",
   "execution_count": 8,
   "metadata": {},
   "outputs": [
    {
     "name": "stdout",
     "output_type": "stream",
     "text": [
      "setting up the notebook...\n",
      "done\n"
     ]
    },
    {
     "name": "stderr",
     "output_type": "stream",
     "text": [
      "sudo: a terminal is required to read the password; either use the -S option to read from standard input or configure an askpass helper\n"
     ]
    }
   ],
   "source": [
    "%%bash\n",
    "echo 'setting up the notebook...'\n",
    "\n",
    "# mac setup\n",
    "# ! test -f /var/db/locate.database && sudo launchctl load -w /System/Library/LaunchDaemons/com.apple.locate.plist\n",
    "\n",
    "echo 'done'"
   ]
  },
  {
   "cell_type": "markdown",
   "metadata": {},
   "source": [
    "## EXAMPLES"
   ]
  },
  {
   "cell_type": "markdown",
   "metadata": {},
   "source": [
    "### Find a file by name"
   ]
  },
  {
   "cell_type": "code",
   "execution_count": 13,
   "metadata": {},
   "outputs": [],
   "source": [
    "%%bash\n",
    "locate xorg.conf"
   ]
  },
  {
   "cell_type": "markdown",
   "metadata": {},
   "source": [
    "## Task"
   ]
  },
  {
   "cell_type": "markdown",
   "metadata": {},
   "source": [
    "## MAN PAGE"
   ]
  },
  {
   "cell_type": "code",
   "execution_count": 1,
   "metadata": {},
   "outputs": [
    {
     "name": "stdout",
     "output_type": "stream",
     "text": [
      "\n",
      "LOCATE(1)                 BSD General Commands Manual                LOCATE(1)\n",
      "\n",
      "NAME\n",
      "     locate -- find filenames quickly\n",
      "\n",
      "SYNOPSIS\n",
      "     locate [-0Scims] [-l limit] [-d database] pattern ...\n",
      "\n",
      "DESCRIPTION\n",
      "     The locate program searches a database for all pathnames which match the\n",
      "     specified pattern.  The database is recomputed periodically (usually\n",
      "     weekly or daily), and contains the pathnames of all files which are pub-\n",
      "     licly accessible.\n",
      "\n",
      "     Shell globbing and quoting characters (``*'', ``?'', ``\\'', ``['' and\n",
      "     ``]'') may be used in pattern, although they will have to be escaped from\n",
      "     the shell.  Preceding any character with a backslash (``\\'') eliminates\n",
      "     any special meaning which it may have.  The matching differs in that no\n",
      "     characters must be matched explicitly, including slashes (``/'').\n",
      "\n",
      "     As a special case, a pattern containing no globbing characters (``foo'')\n",
      "     is matched as though it were ``*foo*''.\n",
      "\n",
      "     Historically, locate only stored characters between 32 and 127.  The cur-\n",
      "     rent implementation store any character except newline (`\\n') and NUL\n",
      "     (`\\0').  The 8-bit character support does not waste extra space for plain\n",
      "     ASCII file names.  Characters less than 32 or greater than 127 are stored\n",
      "     in 2 bytes.\n",
      "\n",
      "     The following options are available:\n",
      "\n",
      "     -0          Print pathnames separated by an ASCII NUL character (charac-\n",
      "                 ter code 0) instead of default NL (newline, character code\n",
      "                 10).\n",
      "\n",
      "     -S          Print some statistics about the database and exit.\n",
      "\n",
      "     -c          Suppress normal output; instead print a count of matching\n",
      "                 file names.\n",
      "\n",
      "     -d database\n",
      "                 Search in database instead of the default file name database.\n",
      "                 Multiple -d options are allowed.  Each additional -d option\n",
      "                 adds the specified database to the list of databases to be\n",
      "                 searched.\n",
      "\n",
      "                 The option database may be a colon-separated list of data-\n",
      "                 bases.  A single colon is a reference to the default data-\n",
      "                 base.\n",
      "\n",
      "                 $ locate -d $HOME/lib/mydb: foo\n",
      "\n",
      "                 will first search string ``foo'' in $HOME/lib/mydb and then\n",
      "                 in /var/db/locate.database.\n",
      "\n",
      "                 $ locate -d $HOME/lib/mydb::/cdrom/locate.database foo\n",
      "\n",
      "                 will first search string ``foo'' in $HOME/lib/mydb and then\n",
      "                 in /var/db/locate.database and then in\n",
      "                 /cdrom/locate.database.\n",
      "\n",
      "                       $ locate -d db1 -d db2 -d db3 pattern\n",
      "\n",
      "                 is the same as\n",
      "\n",
      "                       $ locate -d db1:db2:db3 pattern\n",
      "\n",
      "                 or\n",
      "\n",
      "                       $ locate -d db1:db2 -d db3 pattern\n",
      "\n",
      "                 If - is given as the database name, standard input will be\n",
      "                 read instead.  For example, you can compress your database\n",
      "                 and use:\n",
      "\n",
      "                 $ zcat database.gz | locate -d - pattern\n",
      "\n",
      "                 This might be useful on machines with a fast CPU and little\n",
      "                 RAM and slow I/O.  Note: you can only use one pattern for\n",
      "                 stdin.\n",
      "\n",
      "     -i          Ignore case distinctions in both the pattern and the data-\n",
      "                 base.\n",
      "\n",
      "     -l number   Limit output to number of file names and exit.\n",
      "\n",
      "     -m          Use mmap(2) instead of the stdio(3) library.  This is the\n",
      "                 default behavior and is faster in most cases.\n",
      "\n",
      "     -s          Use the stdio(3) library instead of mmap(2).\n",
      "\n",
      "ENVIRONMENT\n",
      "     LOCATE_PATH  path to the locate database if set and not empty, ignored if\n",
      "                  the -d option was specified.\n",
      "\n",
      "FILES\n",
      "     /var/db/locate.database                               locate database\n",
      "     /usr/libexec/locate.updatedb                          Script to update\n",
      "                                                           the locate database\n",
      "     /System/Library/LaunchDaemons/com.apple.locate.plist  Job that starts the\n",
      "                                                           database rebuild\n",
      "\n",
      "SEE ALSO\n",
      "     find(1), whereis(1), which(1), fnmatch(3), locate.updatedb(8)\n",
      "\n",
      "     Woods, James A., \"Finding Files Fast\", ;login, 8:1, pp. 8-10, 1983.\n",
      "\n",
      "HISTORY\n",
      "     The locate command first appeared in 4.4BSD.  Many new features were\n",
      "     added in FreeBSD 2.2.\n",
      "\n",
      "BUGS\n",
      "     The locate program may fail to list some files that are present, or may\n",
      "     list files that have been removed from the system.  This is because\n",
      "     locate only reports files that are present in the database, which is typ-\n",
      "     ically only regenerated once a week by the\n",
      "     /System/Library/LaunchDaemons/com.apple.locate.plist job.  Use find(1) to\n",
      "     locate files that are of a more transitory nature.\n",
      "\n",
      "     The locate database is typically built by user ``nobody'' and the\n",
      "     locate.updatedb(8) utility skips directories which are not readable for\n",
      "     user ``nobody'', group ``nobody'', or world.  For example, if your HOME\n",
      "     directory is not world-readable, none of your files are in the database.\n",
      "\n",
      "     The locate database is not byte order independent.  It is not possible to\n",
      "     share the databases between machines with different byte order.  The cur-\n",
      "     rent locate implementation understands databases in host byte order or\n",
      "     network byte order if both architectures use the same integer size.  So\n",
      "     on a FreeBSD/i386 machine (little endian), you can read a locate database\n",
      "     which was built on SunOS/sparc machine (big endian, net).\n",
      "\n",
      "     The locate utility does not recognize multibyte characters.\n",
      "\n",
      "BSD                             August 17, 2006                            BSD\n"
     ]
    }
   ],
   "source": [
    "%%bash\n",
    "man locate"
   ]
  },
  {
   "cell_type": "markdown",
   "metadata": {},
   "source": [
    "## NOTEBOOK CLEANUP\n",
    "\n",
    "Run this cell to reset the notebook directory to the initial set."
   ]
  },
  {
   "cell_type": "code",
   "execution_count": 72,
   "metadata": {},
   "outputs": [
    {
     "name": "stdout",
     "output_type": "stream",
     "text": [
      "cleaning up the notebook...\n",
      "done\n"
     ]
    }
   ],
   "source": [
    "%%bash\n",
    "echo 'cleaning up the notebook...'\n",
    "\n",
    "rm *.txt\n",
    "\n",
    "echo 'done'"
   ]
  },
  {
   "cell_type": "code",
   "execution_count": null,
   "metadata": {},
   "outputs": [],
   "source": []
  }
 ],
 "metadata": {
  "kernelspec": {
   "display_name": "Python 3",
   "language": "python",
   "name": "python3"
  },
  "language_info": {
   "codemirror_mode": {
    "name": "ipython",
    "version": 3
   },
   "file_extension": ".py",
   "mimetype": "text/x-python",
   "name": "python",
   "nbconvert_exporter": "python",
   "pygments_lexer": "ipython3",
   "version": "3.7.1"
  }
 },
 "nbformat": 4,
 "nbformat_minor": 2
}
