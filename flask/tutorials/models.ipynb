{
 "cells": [
  {
   "cell_type": "markdown",
   "metadata": {},
   "source": [
    "# Models\n",
    "<div class=\"w3-panel w3-pale-green w3-leftbar w3-border-green\">\n",
    "    <p>Models represent tables in your database and relationship between them.</p>\n",
    "    <p> <code>SQLAlchemy</code> enables support of models in Flask. However the special extension <code>Flask-SQLAlchemy</code> makes the SQLAlchemy integration within Flask easier.</p>\n",
    "</div>"
   ]
  },
  {
   "cell_type": "markdown",
   "metadata": {},
   "source": [
    "## How to install"
   ]
  },
  {
   "cell_type": "markdown",
   "metadata": {},
   "source": [
    "### Using CONDA"
   ]
  },
  {
   "cell_type": "code",
   "execution_count": null,
   "metadata": {},
   "outputs": [],
   "source": [
    "%%bash\n",
    "conda install -c conda-forge flask-sqlalchemy"
   ]
  },
  {
   "cell_type": "markdown",
   "metadata": {},
   "source": [
    "### Using PIP"
   ]
  },
  {
   "cell_type": "code",
   "execution_count": null,
   "metadata": {},
   "outputs": [],
   "source": [
    "%%bash\n",
    "pip install Flask-SQLAlchemy"
   ]
  },
  {
   "cell_type": "markdown",
   "metadata": {},
   "source": [
    "## A Minimal Application"
   ]
  },
  {
   "cell_type": "code",
   "execution_count": 1,
   "metadata": {},
   "outputs": [],
   "source": [
    "from flask import Flask\n",
    "from flask_sqlalchemy import SQLAlchemy\n",
    "\n",
    "# create Flask application\n",
    "app = Flask(__name__)\n",
    "\n",
    "# connect to database\n",
    "app.config['SQLALCHEMY_DATABASE_URI'] = 'sqlite:///models/mydatabase.db' # connect to SQLite\n",
    "app.config['SQLALCHEMY_TRACK_MODIFICATIONS'] = True  # dismiss some warnings\n",
    "app.config['SQLALCHEMY_ECHO'] = True  # verbose\n",
    "\n",
    "# wrap the app with SQLAlchemy\n",
    "db = SQLAlchemy(app)\n",
    "\n",
    "# create a table for user\n",
    "# table user has id, username and email columns\n",
    "class User(db.Model):\n",
    "    id = db.Column(db.Integer, primary_key=True)\n",
    "    username = db.Column(db.String(80), unique=True, nullable=False)\n",
    "    email = db.Column(db.String(120), unique=True, nullable=False)\n",
    "\n",
    "    # representation of user\n",
    "    def __repr__(self):\n",
    "        return '<User %r>' % self.username"
   ]
  },
  {
   "cell_type": "markdown",
   "metadata": {},
   "source": [
    "## Drop Tables\n",
    "Drop tables if they exist. This step should be skipped if you create tables at first time."
   ]
  },
  {
   "cell_type": "code",
   "execution_count": 3,
   "metadata": {},
   "outputs": [
    {
     "name": "stdout",
     "output_type": "stream",
     "text": [
      "2019-07-28 21:07:05,793 INFO sqlalchemy.engine.base.Engine PRAGMA table_info(\"user\")\n",
      "2019-07-28 21:07:05,797 INFO sqlalchemy.engine.base.Engine ()\n",
      "2019-07-28 21:07:05,804 INFO sqlalchemy.engine.base.Engine \n",
      "DROP TABLE user\n",
      "2019-07-28 21:07:05,808 INFO sqlalchemy.engine.base.Engine ()\n",
      "2019-07-28 21:07:05,826 INFO sqlalchemy.engine.base.Engine COMMIT\n"
     ]
    }
   ],
   "source": [
    "db.drop_all()"
   ]
  },
  {
   "cell_type": "markdown",
   "metadata": {},
   "source": [
    "## Create Tables\n",
    "Create necessary tables in the database."
   ]
  },
  {
   "cell_type": "code",
   "execution_count": 4,
   "metadata": {},
   "outputs": [
    {
     "name": "stdout",
     "output_type": "stream",
     "text": [
      "2019-07-28 21:08:27,505 INFO sqlalchemy.engine.base.Engine PRAGMA table_info(\"user\")\n",
      "2019-07-28 21:08:27,507 INFO sqlalchemy.engine.base.Engine ()\n",
      "2019-07-28 21:08:27,511 INFO sqlalchemy.engine.base.Engine \n",
      "CREATE TABLE user (\n",
      "\tid INTEGER NOT NULL, \n",
      "\tusername VARCHAR(80) NOT NULL, \n",
      "\temail VARCHAR(120) NOT NULL, \n",
      "\tPRIMARY KEY (id), \n",
      "\tUNIQUE (username), \n",
      "\tUNIQUE (email)\n",
      ")\n",
      "\n",
      "\n",
      "2019-07-28 21:08:27,518 INFO sqlalchemy.engine.base.Engine ()\n",
      "2019-07-28 21:08:27,522 INFO sqlalchemy.engine.base.Engine COMMIT\n"
     ]
    }
   ],
   "source": [
    "db.create_all()"
   ]
  },
  {
   "cell_type": "markdown",
   "metadata": {},
   "source": [
    "## Create a Row\n",
    "Add a new row into the table."
   ]
  },
  {
   "cell_type": "code",
   "execution_count": 5,
   "metadata": {},
   "outputs": [
    {
     "name": "stdout",
     "output_type": "stream",
     "text": [
      "2019-07-28 21:09:08,322 INFO sqlalchemy.engine.base.Engine BEGIN (implicit)\n",
      "2019-07-28 21:09:08,327 INFO sqlalchemy.engine.base.Engine INSERT INTO user (username, email) VALUES (?, ?)\n",
      "2019-07-28 21:09:08,330 INFO sqlalchemy.engine.base.Engine ('admin', 'admin@awesomepy.com')\n",
      "2019-07-28 21:09:08,336 INFO sqlalchemy.engine.base.Engine INSERT INTO user (username, email) VALUES (?, ?)\n",
      "2019-07-28 21:09:08,338 INFO sqlalchemy.engine.base.Engine ('guest', 'guest@awesomepy.com')\n",
      "2019-07-28 21:09:08,339 INFO sqlalchemy.engine.base.Engine COMMIT\n"
     ]
    }
   ],
   "source": [
    "# create admin\n",
    "admin = User(username='admin', email='admin@awesomepy.com')\n",
    "db.session.add(admin)  # add to table\n",
    "\n",
    "# crate guest\n",
    "guest = User(username='guest', email='guest@awesomepy.com') \n",
    "db.session.add(guest)\n",
    "\n",
    "# commit all changes\n",
    "db.session.commit()"
   ]
  },
  {
   "cell_type": "markdown",
   "metadata": {},
   "source": [
    "## Select Rows\n",
    "Select rows from table."
   ]
  },
  {
   "cell_type": "markdown",
   "metadata": {},
   "source": [
    "### Select All"
   ]
  },
  {
   "cell_type": "code",
   "execution_count": 8,
   "metadata": {},
   "outputs": [
    {
     "name": "stdout",
     "output_type": "stream",
     "text": [
      "2019-07-28 21:17:35,954 INFO sqlalchemy.engine.base.Engine SELECT user.id AS user_id, user.username AS user_username, user.email AS user_email \n",
      "FROM user\n",
      "2019-07-28 21:17:35,957 INFO sqlalchemy.engine.base.Engine ()\n"
     ]
    },
    {
     "data": {
      "text/plain": [
       "[<User 'admin'>, <User 'guest'>]"
      ]
     },
     "execution_count": 8,
     "metadata": {},
     "output_type": "execute_result"
    }
   ],
   "source": [
    "User.query.all()"
   ]
  },
  {
   "cell_type": "markdown",
   "metadata": {},
   "source": [
    "### Get Count"
   ]
  },
  {
   "cell_type": "code",
   "execution_count": 20,
   "metadata": {},
   "outputs": [
    {
     "name": "stdout",
     "output_type": "stream",
     "text": [
      "2019-07-28 21:24:02,769 INFO sqlalchemy.engine.base.Engine SELECT count(*) AS count_1 \n",
      "FROM (SELECT user.id AS user_id, user.username AS user_username, user.email AS user_email \n",
      "FROM user) AS anon_1\n",
      "2019-07-28 21:24:02,770 INFO sqlalchemy.engine.base.Engine ()\n"
     ]
    },
    {
     "data": {
      "text/plain": [
       "2"
      ]
     },
     "execution_count": 20,
     "metadata": {},
     "output_type": "execute_result"
    }
   ],
   "source": [
    "User.query.count()"
   ]
  },
  {
   "cell_type": "markdown",
   "metadata": {},
   "source": [
    "### Select with Conditions"
   ]
  },
  {
   "cell_type": "code",
   "execution_count": 9,
   "metadata": {},
   "outputs": [
    {
     "name": "stdout",
     "output_type": "stream",
     "text": [
      "2019-07-28 21:17:39,840 INFO sqlalchemy.engine.base.Engine SELECT user.id AS user_id, user.username AS user_username, user.email AS user_email \n",
      "FROM user \n",
      "WHERE user.username = ?\n",
      " LIMIT ? OFFSET ?\n",
      "2019-07-28 21:17:39,841 INFO sqlalchemy.engine.base.Engine ('admin', 1, 0)\n"
     ]
    },
    {
     "data": {
      "text/plain": [
       "<User 'admin'>"
      ]
     },
     "execution_count": 9,
     "metadata": {},
     "output_type": "execute_result"
    }
   ],
   "source": [
    "User.query.filter_by(username='admin').first()"
   ]
  }
 ],
 "metadata": {
  "kernelspec": {
   "display_name": "Python 3",
   "language": "python",
   "name": "python3"
  },
  "language_info": {
   "codemirror_mode": {
    "name": "ipython",
    "version": 3
   },
   "file_extension": ".py",
   "mimetype": "text/x-python",
   "name": "python",
   "nbconvert_exporter": "python",
   "pygments_lexer": "ipython3",
   "version": "3.7.1"
  },
  "nbTranslate": {
   "displayLangs": [
    "*"
   ],
   "hotkey": "alt-t",
   "langInMainMenu": true,
   "sourceLang": "en",
   "targetLang": "fr",
   "useGoogleTranslate": true
  }
 },
 "nbformat": 4,
 "nbformat_minor": 4
}
