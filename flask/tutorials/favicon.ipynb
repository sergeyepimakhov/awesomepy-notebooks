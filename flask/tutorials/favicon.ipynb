{
 "cells": [
  {
   "cell_type": "markdown",
   "metadata": {},
   "source": [
    "# Favicon\n",
    "<p>Favicon is an icon seen usually in the browser's address bar.</p>\n",
    "<p>It helps to distinguish your website from the others.</p>    "
   ]
  },
  {
   "cell_type": "markdown",
   "metadata": {},
   "source": [
    "## About the Picture\n",
    "\n",
    "<p>The picture should be 16x16 pixels and in the ICO file format.</p>"
   ]
  },
  {
   "cell_type": "markdown",
   "metadata": {},
   "source": [
    "## Method I: Adding the link in Template\n",
    "<p>To get browsers to find your favicon add this string to your base template</p>"
   ]
  },
  {
   "cell_type": "code",
   "execution_count": null,
   "metadata": {},
   "outputs": [],
   "source": [
    "<link rel=\"shortcut icon\" href=\"{{ url_for('static', filename='favicon.ico') }}\">"
   ]
  },
  {
   "cell_type": "markdown",
   "metadata": {},
   "source": [
    "Here is assuming that the favicon picture lies in the static folder.\n",
    "That's it for most browsers, but sometimes some really old ones do not support this standard. In this case you can use a route with the favicon  "
   ]
  },
  {
   "cell_type": "markdown",
   "metadata": {},
   "source": [
    "## Method II: Using the Route"
   ]
  },
  {
   "cell_type": "code",
   "execution_count": null,
   "metadata": {},
   "outputs": [],
   "source": [
    "import os\n",
    "from flask import send_from_directory\n",
    "\n",
    "@app.route('/favicon.ico')\n",
    "def favicon():\n",
    "    return send_from_directory(os.path.join(app.root_path, 'static'),\n",
    "                               'favicon.ico', mimetype='image/vnd.microsoft.icon')"
   ]
  }
 ],
 "metadata": {
  "kernelspec": {
   "display_name": "Python 3",
   "language": "python",
   "name": "python3"
  },
  "language_info": {
   "codemirror_mode": {
    "name": "ipython",
    "version": 3
   },
   "file_extension": ".py",
   "mimetype": "text/x-python",
   "name": "python",
   "nbconvert_exporter": "python",
   "pygments_lexer": "ipython3",
   "version": "3.7.1"
  },
  "nbTranslate": {
   "displayLangs": [
    "*"
   ],
   "hotkey": "alt-t",
   "langInMainMenu": true,
   "sourceLang": "en",
   "targetLang": "fr",
   "useGoogleTranslate": true
  }
 },
 "nbformat": 4,
 "nbformat_minor": 2
}
