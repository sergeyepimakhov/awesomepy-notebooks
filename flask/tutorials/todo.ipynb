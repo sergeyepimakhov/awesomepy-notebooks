{
 "cells": [
  {
   "cell_type": "markdown",
   "metadata": {
    "lang": "en"
   },
   "source": [
    "# Flask Useful Links\n",
    "\n",
    "- Flask Official Site [link](http://flask.pocoo.org/docs/1.0/quickstart/#routing)\n",
    "- Flask full API Reference [link](http://flask.pocoo.org/docs/1.0/api/#flask.url_for)\n",
    "- TutorialPoint [link](https://www.tutorialspoint.com/flask/index.htm)"
   ]
  },
  {
   "cell_type": "code",
   "execution_count": null,
   "metadata": {},
   "outputs": [],
   "source": [
    "()HOME\n",
    "()Routing\n",
    "()Rendering (String, HTML, Template, Redirect)\n",
    "()Redirects\n",
    "()GET,POST...\n",
    "()Blueprints\n",
    "()Jinja2\n",
    "()Sessions\n",
    "()Testing\n",
    "()API Reference\n",
    "()SASS\n",
    "\n",
    "()Admin\n",
    "()Session\n",
    "()Healthchecks\n"
   ]
  }
 ],
 "metadata": {
  "kernelspec": {
   "display_name": "Python 3",
   "language": "python",
   "name": "python3"
  },
  "language_info": {
   "codemirror_mode": {
    "name": "ipython",
    "version": 3
   },
   "file_extension": ".py",
   "mimetype": "text/x-python",
   "name": "python",
   "nbconvert_exporter": "python",
   "pygments_lexer": "ipython3",
   "version": "3.7.1"
  },
  "nbTranslate": {
   "displayLangs": [
    "*"
   ],
   "hotkey": "alt-t",
   "langInMainMenu": true,
   "sourceLang": "en",
   "targetLang": "ru",
   "useGoogleTranslate": true
  }
 },
 "nbformat": 4,
 "nbformat_minor": 2
}
